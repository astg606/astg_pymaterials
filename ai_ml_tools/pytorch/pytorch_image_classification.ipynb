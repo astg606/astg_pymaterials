{
 "cells": [
  {
   "cell_type": "markdown",
   "id": "d71bce70-9dc3-448b-9f9a-8896e83b6d09",
   "metadata": {},
   "source": [
    "<center>\n",
    "<table>\n",
    "  <tr>\n",
    "    <td><img src=\"https://portal.nccs.nasa.gov/datashare/astg/training/python/logos/nasa-logo.svg\" width=\"100\"/> </td>\n",
    "     <td><img src=\"https://portal.nccs.nasa.gov/datashare/astg/training/python/logos/ASTG_logo.png?raw=true\" width=\"80\"/> </td>\n",
    "     <td> <img src=\"https://www.nccs.nasa.gov/sites/default/files/NCCS_Logo_0.png\" width=\"130\"/> </td>\n",
    "    </tr>\n",
    "</table>\n",
    "</center>\n",
    "\n",
    "        \n",
    "<center>\n",
    "<h1><font color= \"blue\" size=\"+3\">ASTG Python Course Series</font></h1>\n",
    "</center>\n",
    "\n",
    "---\n",
    "\n",
    "<center>\n",
    "    <h1><font color=\"red\">Image Classification Model with PyTorch</font></h1>\n",
    "</center>"
   ]
  },
  {
   "cell_type": "markdown",
   "id": "0df4d162-122d-47d2-bdf4-45895a93bc6b",
   "metadata": {},
   "source": [
    "# <font color=\"red\">Objectives</font>\n",
    "\n",
    "In this presentation, we show how to build a Machine Learning (ML) model with PyTorch for an image classification problem.\n",
    "We cover the following:\n",
    "\n",
    "- Introduce the MNIST dataset\n",
    "- Read the MNIST dataset to create PyTorch tensors.\n",
    "- Set the hyperparameters\n",
    "- Create a ML model\n",
    "- Train the model\n",
    "- Evaluate the model"
   ]
  },
  {
   "cell_type": "markdown",
   "id": "7bec71f2-3cbc-42eb-a080-3b987b707390",
   "metadata": {},
   "source": [
    "# <font color=\"red\">References</font>\n",
    "\n",
    "- [PyTorch](https://pytorch.org/) from pytorch.org\n",
    "- [Efficiently Building PyTorch Models: A Step-by-Step Guide](https://myscale.com/blog/efficient-pytorch-model-building-step-by-step-guide/) from myscale.com\n",
    "- [MNIST Handwritten Digit Recognition in PyTorch](https://nextjournal.com/gkoehler/pytorch-mnist) by Gregor Koehler et al.\n",
    "- [Create and train a PyTorch model for digit classification using the MNIST dataset](https://learn.arm.com/learning-paths/cross-platform/pytorch-digit-classification-arch-training/) from learn.arm.com"
   ]
  },
  {
   "cell_type": "markdown",
   "id": "82e02d09-9b14-4830-8973-f268ec8c2bb0",
   "metadata": {},
   "source": [
    "# <font color=\"red\"> Python packages used</font>\n",
    "\n",
    "- __Matplotlib__: Create visualization.\n",
    "- __Pandas__: Data (two-dimensional labelled array) manipulation and analysis.\n",
    "- __PyTorch__: Used to to build, train, and evaluate a deep machine learning algorithm based on Neural Networks."
   ]
  },
  {
   "cell_type": "code",
   "execution_count": null,
   "id": "b7b54d86-94a1-4833-bbce-8de9ebb654ce",
   "metadata": {},
   "outputs": [],
   "source": [
    "try:\n",
    "    import google.colab\n",
    "    print(\"Running in Google Colab\")\n",
    "except:\n",
    "    print(\"Not running in Google Colab\")\n",
    "else:\n",
    "    print(\"Installing modules in Google Colab\")\n",
    "    !pip3 uninstall --yes torch torchaudio torchvision torchtext torchdata\n",
    "    !pip3 install torch torchaudio torchvision torchtext torchdata"
   ]
  },
  {
   "cell_type": "code",
   "execution_count": null,
   "id": "b40223c7-e654-45b5-bd57-03f788418db8",
   "metadata": {},
   "outputs": [],
   "source": [
    "import warnings\n",
    "warnings.filterwarnings('ignore')"
   ]
  },
  {
   "cell_type": "code",
   "execution_count": null,
   "id": "355bc5a3-aa20-4097-bd46-50d31762eb33",
   "metadata": {},
   "outputs": [],
   "source": [
    "import matplotlib.pyplot as plt"
   ]
  },
  {
   "cell_type": "code",
   "execution_count": null,
   "id": "5a17763b-8baf-40a2-9d71-825d42d82b6d",
   "metadata": {},
   "outputs": [],
   "source": [
    "import numpy as np"
   ]
  },
  {
   "cell_type": "code",
   "execution_count": null,
   "id": "ee059fe1-47c6-4011-908d-3d338bf70173",
   "metadata": {},
   "outputs": [],
   "source": [
    "import pandas as pd"
   ]
  },
  {
   "cell_type": "code",
   "execution_count": null,
   "id": "f775d10f-4277-4a1a-a01c-261ee032b8ba",
   "metadata": {},
   "outputs": [],
   "source": [
    "import torch\n",
    "from torch import nn\n",
    "import torch.nn.functional as F\n",
    "from torch.utils.data import Dataset, DataLoader, Subset\n",
    "from torchvision import datasets\n",
    "from torchvision import transforms "
   ]
  },
  {
   "cell_type": "markdown",
   "id": "0239364b-112d-4dae-9454-9e32a93e3c23",
   "metadata": {},
   "source": [
    "# <font color=\"red\">Image Classification</font> \n",
    "\n",
    "We use the [MNIST data set](http://yann.lecun.com/exdb/mnist/) (Modified National Institute of Standards and Technology database).\n",
    "\n",
    "* Is a large database of handwritten digits that is commonly used for training various image processing systems.\n",
    "* The database is also widely used for training and testing in the field of machine learning.\n",
    "* The dataset we will be using contains 70000 images of handwritten digits (`0-9`) among which 10000 are reserved for testing.\n",
    "* Each image has `28x28` pixels.\n",
    "* It is a good database for people who want to try learning techniques and pattern recognition methods on real-world data while spending minimal efforts on preprocessing and formatting."
   ]
  },
  {
   "cell_type": "markdown",
   "id": "5674ddfb-e4ad-4521-8514-2d89f9b1b665",
   "metadata": {},
   "source": [
    "![TSF](https://static.javatpoint.com/tutorial/tensorflow/images/mnist-dataset-in-cnn.jpg)\n",
    "Image Source: [https://www.javatpoint.com/tensorflow-mnist-dataset-in-cnn](https://www.javatpoint.com/tensorflow-mnist-dataset-in-cnn)"
   ]
  },
  {
   "cell_type": "markdown",
   "id": "b9549676-2fa5-41a7-bbb9-ce03f5797c34",
   "metadata": {},
   "source": [
    "# <font color=\"red\">Loading the dataset</font>"
   ]
  },
  {
   "cell_type": "code",
   "execution_count": null,
   "id": "8ec8645c-5859-40ff-93f0-60eb5e5ac8ee",
   "metadata": {},
   "outputs": [],
   "source": []
  },
  {
   "cell_type": "markdown",
   "id": "7b2778b4-e2b3-4a7c-8b8f-07e0e08a4501",
   "metadata": {},
   "source": [
    "## <font color=\"blue\">Read the data</font>\n",
    "\n",
    "We use `datasets.MNIST()` to get the dataset."
   ]
  },
  {
   "cell_type": "markdown",
   "id": "1923020e-a811-4813-896e-d3e1c414c689",
   "metadata": {},
   "source": [
    "- `transforms.Compose()`: Combine multiple data transformation operations.\n",
    "- `transforms.ToTensor()`: Convert the data to a tensor.\n",
    "- `transforms.Normalize()`: Standardize the data, i.e., subtract the mean (`0.1307`) and divide by the standard deviation (`0.3081`). "
   ]
  },
  {
   "cell_type": "code",
   "execution_count": null,
   "id": "2e234697-87a6-42de-931f-d48621c1ddb2",
   "metadata": {},
   "outputs": [],
   "source": [
    "transform = transforms.Compose(\n",
    "    [transforms.ToTensor(), transforms.Normalize((0.1307,), (0.3081,))]\n",
    ")"
   ]
  },
  {
   "cell_type": "code",
   "execution_count": null,
   "id": "f609024c-3eae-4ad5-8cb8-b95b403b7606",
   "metadata": {},
   "outputs": [],
   "source": [
    "train_dataset = datasets.MNIST(\n",
    "    root='data', \n",
    "    train=True, \n",
    "    download=True, \n",
    "    transform=transform\n",
    ")"
   ]
  },
  {
   "cell_type": "code",
   "execution_count": null,
   "id": "349514ed-e1c1-48be-9202-524a43358f5f",
   "metadata": {},
   "outputs": [],
   "source": [
    "test_dataset = datasets.MNIST(\n",
    "    root='data', \n",
    "    train=False, \n",
    "    download=True, \n",
    "    transform=transform\n",
    ")"
   ]
  },
  {
   "cell_type": "code",
   "execution_count": null,
   "id": "dc107294-09a1-4907-873e-35ef9a555cb1",
   "metadata": {},
   "outputs": [],
   "source": [
    "len(train_dataset)"
   ]
  },
  {
   "cell_type": "code",
   "execution_count": null,
   "id": "a77aea44-0182-43ad-9296-93471b45e8ad",
   "metadata": {},
   "outputs": [],
   "source": [
    "len(test_dataset)"
   ]
  },
  {
   "cell_type": "markdown",
   "id": "fc4663a6-e8a7-472e-b9b0-c64f546a85e9",
   "metadata": {},
   "source": [
    "## <font color=\"blue\">Visualize the data</font>\n",
    "\n",
    "Select 96 random images in the train dataset and display them."
   ]
  },
  {
   "cell_type": "code",
   "execution_count": null,
   "id": "3b657376-0c55-4067-a31f-0473d0867a51",
   "metadata": {},
   "outputs": [],
   "source": [
    "import random\n",
    "numbers = random.sample(range(0, len(train_dataset)-1), 96) "
   ]
  },
  {
   "cell_type": "code",
   "execution_count": null,
   "id": "e631f8f4-d8a8-4c4b-9579-ec3e4ac2b173",
   "metadata": {},
   "outputs": [],
   "source": [
    "sample_train_dataset = Subset(train_dataset, numbers)"
   ]
  },
  {
   "cell_type": "code",
   "execution_count": null,
   "id": "32fd9f45-26c6-4a6d-97e6-85a4a62a9387",
   "metadata": {},
   "outputs": [],
   "source": [
    "len(sample_train_dataset)"
   ]
  },
  {
   "cell_type": "code",
   "execution_count": null,
   "id": "28147ef0-27b0-4308-b637-c4c4a350b526",
   "metadata": {},
   "outputs": [],
   "source": [
    "def display_digits(sample_dataset):\n",
    "    \"\"\"\n",
    "      Given an array of images of digits X and \n",
    "      the corresponding values of the digit y,\n",
    "      this function plots the first 96 images and their values.\n",
    "    \"\"\"\n",
    "    # Figure size (width, height) in inches\n",
    "    fig = plt.figure(figsize=(8, 6))\n",
    "\n",
    "    # Adjust the subplots \n",
    "    fig.subplots_adjust(left=0, right=1, bottom=0, top=1, hspace=0.05, wspace=0.05)\n",
    "\n",
    "    for i in range(96):\n",
    "        X, y = sample_dataset[i]\n",
    "        # Initialize the subplots: \n",
    "        #    Add a subplot in the grid of 8 by 12, at the i+1-th position\n",
    "        ax = fig.add_subplot(8, 12, i + 1, xticks=[], yticks=[])\n",
    "        \n",
    "        # Display an image at the i-th position\n",
    "        ax.imshow(X.reshape(28, 28), cmap=plt.cm.binary)#, interpolation='nearest')\n",
    "\n",
    "       \n",
    "        # label the image with the target value\n",
    "        ax.text(0, 7, str(y))\n",
    "\n",
    "    # Show the plot\n",
    "    plt.show()"
   ]
  },
  {
   "cell_type": "code",
   "execution_count": null,
   "id": "383e8ce9-31a4-4b71-b33c-913681152cbb",
   "metadata": {},
   "outputs": [],
   "source": [
    "display_digits(sample_train_dataset)"
   ]
  },
  {
   "cell_type": "code",
   "execution_count": null,
   "id": "bee17fd7-9021-4012-a1b8-5fd9e6aa6807",
   "metadata": {},
   "outputs": [],
   "source": []
  },
  {
   "cell_type": "markdown",
   "id": "c42acd45-028c-41bc-8e78-e233d1d720b6",
   "metadata": {},
   "source": [
    "# <font color=\"red\">Creating the ML model</font>"
   ]
  },
  {
   "cell_type": "markdown",
   "id": "56965881-aa98-43ac-afaf-540b8e6ec15f",
   "metadata": {},
   "source": [
    "## <font color=\"blue\">Set the hyperparameters</font>\n",
    "\n",
    "It is a good practice to declare the following parameters before creating the model for ease of change and understanding."
   ]
  },
  {
   "cell_type": "markdown",
   "id": "0fa170e6-c30f-4567-be4a-d731cc18e6d6",
   "metadata": {},
   "source": [
    "__Dataset parameters__\n",
    "\n",
    "These parameters are defines by the dataset used:\n",
    "\n",
    "- number of features\n",
    "- number of classes to predict\n",
    "\n",
    "We have here a `28x28` image as input and a number between 0 and 9 as ouput of the neural network.\n",
    "\n",
    "\n",
    "https://learn.arm.com/learning-paths/cross-platform/pytorch-digit-classification-arch-training/model/"
   ]
  },
  {
   "cell_type": "code",
   "execution_count": null,
   "id": "0d6bcc8d-3b6c-463d-a5be-3555f9243279",
   "metadata": {},
   "outputs": [],
   "source": [
    "input_size = 28*28\n",
    "num_classes = 10"
   ]
  },
  {
   "cell_type": "markdown",
   "id": "199bec34-dab6-4479-bc5f-a44f0ef646bb",
   "metadata": {},
   "source": [
    "__Model parameters__\n",
    "\n",
    "- batch size\n",
    "- number of epochs\n",
    "- learning rate (optimizer steps)"
   ]
  },
  {
   "cell_type": "code",
   "execution_count": null,
   "id": "08230641-70fa-4058-9507-e0efe5b20a69",
   "metadata": {},
   "outputs": [],
   "source": [
    "num_epochs = 10\n",
    "batch_size_train = 64\n",
    "batch_size_test = 1000\n",
    "learning_rate = 0.01\n",
    "num_hidden_nodes = 96\n",
    "momentum = 0.5\n",
    "log_interval = 100\n",
    "\n",
    "random_seed = 1\n",
    "torch.backends.cudnn.enabled = False\n",
    "torch.manual_seed(random_seed)"
   ]
  },
  {
   "cell_type": "markdown",
   "id": "4f28dea2-c9a8-4940-94e3-13c8076ba781",
   "metadata": {},
   "source": [
    "Device configuration:"
   ]
  },
  {
   "cell_type": "code",
   "execution_count": null,
   "id": "7278ba20-9f05-4a29-b9ee-37cfa52a3947",
   "metadata": {},
   "outputs": [],
   "source": [
    "device = torch.device(\"cuda\" if torch.cuda.is_available() else \"cpu\")"
   ]
  },
  {
   "cell_type": "markdown",
   "id": "db50db02-3696-4f86-b149-74baabeec6c4",
   "metadata": {},
   "source": [
    "## <font color=\"blue\">Building the ML model with PyTorch</font>\n",
    "\n",
    "__Class to create a multi-layer model.__\n",
    "\n",
    "We define a `ImageClassifierNetwork` class which consists of two main components:\n",
    "\n",
    "1. `__init__()` method\n",
    "\n",
    "We create a sequential network consisting of:\n",
    "\n",
    "- A fully-connected (Linear) layer with `num_hidden_nodes` nodes, followed by the `Tanh` activation function.\n",
    "- A Dropout layer with a `20%` dropout rate to prevent overfitting.\n",
    "- A second Linear layer, with `num_hidden_nodes` nodes, followed by the `Sigmoid` activation function.\n",
    "- Another Dropout layer, that removes `20%` of the nodes.\n",
    "- A final Linear layer, with `num_classes` nodes (matching the number of classes in the dataset), followed by a Softmax activation function that outputs class probabilities.\n",
    "\n",
    "The input is first flattened from its original `28x28` pixel format into a 1D array of 784 elements using nn.Flatten().\n",
    "\n",
    "2. `forward()` method\n",
    "\n",
    "- This method defines the forward pass of the network.\n",
    "- It takes an input tensor `x`, flattens it using `self.flatten`, and then passes it through the defined sequential stack of layers (`self.net`).\n",
    "\n",
    "The output, called `logits`, represents the class probabilities for the digit prediction."
   ]
  },
  {
   "cell_type": "code",
   "execution_count": null,
   "id": "9a2c04d4-740f-4015-92ad-23fba8088a7b",
   "metadata": {},
   "outputs": [],
   "source": [
    "class ImageClassifierNetwork(nn.Module):\n",
    "    def __init__(self, input_size, num_hidden_nodes, num_classes):\n",
    "        super(ImageClassifierNetwork, self).__init__()\n",
    "        self.flatten = nn.Flatten()\n",
    "        self.net = nn.Sequential(\n",
    "            nn.Linear(input_size, num_hidden_nodes),\n",
    "            #nn.ReLU(),\n",
    "            nn.Tanh(),\n",
    "            nn.Dropout(.2),\n",
    "            \n",
    "            nn.Linear(num_hidden_nodes, num_hidden_nodes),\n",
    "            #nn.ReLU(),\n",
    "            nn.Sigmoid(),\n",
    "            nn.Dropout(.2),\n",
    "            \n",
    "            nn.Linear(num_hidden_nodes, num_classes),\n",
    "            nn.Softmax(dim=1)\n",
    "        )\n",
    "\n",
    "    def forward(self, x):\n",
    "        x = self.flatten(x)\n",
    "        output = self.net(x)\n",
    "        return output"
   ]
  },
  {
   "cell_type": "markdown",
   "id": "e355040c-8a81-4bba-b516-18e2f9161c4b",
   "metadata": {},
   "source": [
    "The total number of trainable parameters for this network is calculated as follows:\n",
    "\n",
    "- First hidden layer: $input\\_size \\times num\\_hidden\\_nodes + num\\_hidden\\_nodes$  parameters (weights and biases).\n",
    "- Second hidden layer: $num\\_hidden\\_nodes \\times num\\_hidden\\_nodes + num\\_hidden\\_nodes$ parameters.\n",
    "- Output layer: $num\\_hidden\\_nodes \\times num\\_classes + num\\_classes$ parameters."
   ]
  },
  {
   "cell_type": "markdown",
   "id": "1e643a50-b6f7-45ff-9bbe-2534aab2e33e",
   "metadata": {},
   "source": [
    "Note that we do not have any activation function here because there is only one layer:\n",
    "- Activation functions make deep learning possible.\n",
    "   - Inserting non-linear activation functions between layers is what allows a deep learning model to simulate any function, rather than just linear ones.\n",
    "- The model defined above can be seen as a single matrix multiplication."
   ]
  },
  {
   "cell_type": "markdown",
   "id": "a4915d06-3ae5-461f-9791-c84401b262ec",
   "metadata": {},
   "source": [
    "__Create the model__"
   ]
  },
  {
   "cell_type": "code",
   "execution_count": null,
   "id": "e88b360e-c33c-4724-b46f-58323a9a7628",
   "metadata": {},
   "outputs": [],
   "source": [
    "torch.manual_seed(1)\n",
    "\n",
    "model = ImageClassifierNetwork(\n",
    "    input_size=input_size, \n",
    "    num_hidden_nodes=num_hidden_nodes, \n",
    "    num_classes=num_classes\n",
    ")"
   ]
  },
  {
   "cell_type": "code",
   "execution_count": null,
   "id": "db94e6a3-611a-4b62-a4ac-a8b8c31937ab",
   "metadata": {},
   "outputs": [],
   "source": [
    "model.to(device)"
   ]
  },
  {
   "cell_type": "markdown",
   "id": "a077a5f1-762d-406f-8aa3-e4f93711eb95",
   "metadata": {},
   "source": [
    "__Print model information__"
   ]
  },
  {
   "cell_type": "code",
   "execution_count": null,
   "id": "861aa7ad-0923-4fee-aa7b-4a45baba9863",
   "metadata": {},
   "outputs": [],
   "source": [
    "print('\\t Model information: \\n')\n",
    "print(model)"
   ]
  },
  {
   "cell_type": "code",
   "execution_count": null,
   "id": "32ad06c9-38ac-4723-b56b-6f4460ac5de5",
   "metadata": {},
   "outputs": [],
   "source": [
    "print('\\t Model parameters: \\n')\n",
    "for param in model.parameters():\n",
    "    print(param)"
   ]
  },
  {
   "cell_type": "code",
   "execution_count": null,
   "id": "782d0274-8a1b-4e2e-ba33-30d47bd67ce6",
   "metadata": {},
   "outputs": [],
   "source": [
    "for name, param in model.named_parameters():\n",
    "    print(f\"Parameter name: {name}, Parameter values: {param}\")"
   ]
  },
  {
   "cell_type": "markdown",
   "id": "dc2c1a9d-bb8b-45f3-9b91-474f59afcb98",
   "metadata": {},
   "source": [
    "__Determine the number of trainable parameters per level__"
   ]
  },
  {
   "cell_type": "code",
   "execution_count": null,
   "id": "782078f9-30b4-45e1-8389-13518741af21",
   "metadata": {},
   "outputs": [],
   "source": [
    "def print_trainable_parameters_per_layer(model):\n",
    "    n = 20\n",
    "    m = 10\n",
    "    p = n+m+2\n",
    "    print(f\"{'-'*p}\")\n",
    "    print(f\"{'Modules':<{n}}  {'Parameters':{m}}\")\n",
    "    print(f\"{'-'*p}\")\n",
    "    for name, param in model.named_parameters():\n",
    "        if param.requires_grad:\n",
    "            print(f\"{name:<{n}}  {param.numel():{m}}\")"
   ]
  },
  {
   "cell_type": "code",
   "execution_count": null,
   "id": "571cdbf0-2cf7-4e1e-9d18-05881d566777",
   "metadata": {},
   "outputs": [],
   "source": [
    "print_trainable_parameters_per_layer(model)"
   ]
  },
  {
   "cell_type": "markdown",
   "id": "a0d8ff34-57ee-40e2-b432-274319e96b38",
   "metadata": {},
   "source": [
    "#### <font color=\"green\">Basic testing of the model with an arbitrary image</font>\n",
    "\n",
    "Running the model now will produce random and unreliable outputs, as the network has not been trained to recognize any patterns from the data"
   ]
  },
  {
   "cell_type": "code",
   "execution_count": null,
   "id": "f2923ae0-cf24-4252-bd19-cc326a39bc72",
   "metadata": {},
   "outputs": [],
   "source": [
    "X, y = sample_train_dataset[0]"
   ]
  },
  {
   "cell_type": "code",
   "execution_count": null,
   "id": "a7da5e98-4bbd-4190-9bfe-5dde46aec7e4",
   "metadata": {},
   "outputs": [],
   "source": [
    "with torch.no_grad():\n",
    "    logits = model(X)\n",
    "    pred = logits.argmax(dim=1, keepdim=True)"
   ]
  },
  {
   "cell_type": "code",
   "execution_count": null,
   "id": "acfa7eeb-2782-477e-80d1-532a520cebc5",
   "metadata": {},
   "outputs": [],
   "source": [
    "print(pred[0].item())"
   ]
  },
  {
   "cell_type": "markdown",
   "id": "7fc8dc23-446d-4bcc-a0c3-132ecfb715e0",
   "metadata": {},
   "source": [
    "__The next step is to train the model using a dataset and an optimization process, such as gradient descent, so that it can learn to make accurate predictions.__"
   ]
  },
  {
   "cell_type": "markdown",
   "id": "12068721-daf9-4ea1-9240-5bcc19c75ce9",
   "metadata": {},
   "source": [
    "## <font color=\"blue\"> Defining a DataLoader</font>\n",
    "\n",
    "- We pass the dataset to our dataloader, and our `batch_size` hyperparameter as initialization arguments.\n",
    "- This creates an iterable data loader, so we can easily iterate over each batch using a loop."
   ]
  },
  {
   "cell_type": "code",
   "execution_count": null,
   "id": "251be123-a73a-4853-a066-4b55dc3fef92",
   "metadata": {},
   "outputs": [],
   "source": [
    "train_loader = DataLoader(train_dataset, batch_size=batch_size_train)"
   ]
  },
  {
   "cell_type": "code",
   "execution_count": null,
   "id": "58979438-70d7-4271-83cc-7219614818f8",
   "metadata": {},
   "outputs": [],
   "source": [
    "test_loader = DataLoader(test_dataset, batch_size=batch_size_test)"
   ]
  },
  {
   "cell_type": "markdown",
   "id": "46bc16a0-ec59-4c54-a209-0a5e22406287",
   "metadata": {},
   "source": [
    "## <font color=\"blue\">The training loop</font>\n",
    "\n",
    "The typical approach to training a neural network in PyTorch involves:\n",
    "\n",
    "- Feeding batches of train data through the network.\n",
    "- Calculating the prediction error or loss using a loss function, such as Cross-Entropy for classification tasks.\n",
    "- Optimizing the model’s weights and biases using backpropagation.\n",
    "   - Backpropagation involves computing the gradient of the loss with respect to each parameter and then updating the parameters using an optimizer, like Stochastic Gradient Descent (SGD) or Adam.\n",
    "- Repeating the process for multiple epochs until the model achieves satisfactory performance, balancing accuracy and generalization."
   ]
  },
  {
   "cell_type": "markdown",
   "id": "7d90a8f3-71f8-4f89-87fd-e17355b00a20",
   "metadata": {},
   "source": [
    "__Define the loss function__\n",
    "\n",
    "- Loss is a measure of how well a model’s predictions match the true labels of the data.\n",
    "- It quantifies the difference between the predicted output and the actual output. The lower the loss, the better the model’s performance.\n",
    "- The goal of training is to minimize the loss, and get the model’s predictions closer to the actual labels.\n",
    "- In classification tasks, a common loss function is Cross-Entropy Loss, while Mean Squared Error (MSE) is often used for regression tasks.\n",
    "- We use the `NLLLoss` (Negative Log Likelihood Loss) that is primarily used for multi-label classification models when your model produces log-probabilities.\n",
    "  - It compares these log-probabilities with the true class labels.\n",
    "  - It calculates the negative log likelihood of the correct class, which is essentially the measure of how confident your model was about the correct prediction."
   ]
  },
  {
   "cell_type": "code",
   "execution_count": null,
   "id": "a202ec04-4ea6-4b75-ab5d-3494f3e4c457",
   "metadata": {},
   "outputs": [],
   "source": [
    "loss_function = nn.NLLLoss()"
   ]
  },
  {
   "cell_type": "markdown",
   "id": "dfc0006a-5d3c-4d1a-b6f2-3d2d3c55e25d",
   "metadata": {},
   "source": [
    "__Define the optimizer__\n",
    "\n",
    "- The optimizer updates the model’s parameters based on the gradients computed during backpropagation.\n",
    "   - It determines how the model learns from the data. \n",
    "- We use the `Adam` (Adaptive Moment Estimation) optimizer."
   ]
  },
  {
   "cell_type": "code",
   "execution_count": null,
   "id": "1581766d-b3f3-4788-b6cf-81defa0d8207",
   "metadata": {},
   "outputs": [],
   "source": [
    "optimizer = torch.optim.Adam(model.parameters(), lr=learning_rate)"
   ]
  },
  {
   "cell_type": "markdown",
   "id": "995d13c2-c9ee-441e-9afa-e2359d7cbe53",
   "metadata": {},
   "source": [
    "__Feed train data into the model__"
   ]
  },
  {
   "cell_type": "code",
   "execution_count": null,
   "id": "6a2493dd-03cb-4a5a-82ae-fa26944ec8ea",
   "metadata": {},
   "outputs": [],
   "source": [
    "def train_model_per_batch(data, target, \n",
    "                model, loss_function, optimizer) -> float:\n",
    "    #data, target = data.to(device), target.to(device)\n",
    "\n",
    "    # Zero the gradients\n",
    "    optimizer.zero_grad()\n",
    "\n",
    "    # Perform forward pass\n",
    "    output = model(data)\n",
    "\n",
    "    # Compute loss\n",
    "    loss = loss_function(output, target)\n",
    "\n",
    "    # Perform backward pass\n",
    "    loss.backward()\n",
    "\n",
    "    # Perform optimization\n",
    "    optimizer.step()\n",
    "    \n",
    "    return 1.+loss.item()"
   ]
  },
  {
   "cell_type": "markdown",
   "id": "87fb5ddf-fce6-49dc-aa63-ab2282944ec7",
   "metadata": {},
   "source": [
    "__Variables to keep track of the progress of the training__"
   ]
  },
  {
   "cell_type": "code",
   "execution_count": null,
   "id": "9845c897-7f5e-4b51-956d-8e6bcaa30f77",
   "metadata": {},
   "outputs": [],
   "source": [
    "train_losses = list()\n",
    "train_counter = list()\n",
    "test_losses = list()\n",
    "test_counter = [i*len(train_loader.dataset) for i in range(num_epochs + 1)]"
   ]
  },
  {
   "cell_type": "markdown",
   "id": "478f39f4-517b-4ea4-a1c4-c4a1575804ae",
   "metadata": {},
   "source": [
    "__Function to training the model one epoch at the time__"
   ]
  },
  {
   "cell_type": "code",
   "execution_count": null,
   "id": "c13862fd-0010-4a4e-a076-dd1d7d8fe1d5",
   "metadata": {},
   "outputs": [],
   "source": [
    "n_dataloader = len(train_loader.dataset)\n",
    "n_data_per_batch = len(train_loader)\n",
    "\n",
    "def train_one_epoch(epoch_idx):\n",
    "    for batch_idx, (data, target) in enumerate(train_loader):\n",
    "        data, target = data.to(device), target.to(device)\n",
    "        n_data = len(data)\n",
    "        loss_val = train_model_per_batch(data, target, model, loss_function, optimizer)\n",
    "        if batch_idx % log_interval  == 0:\n",
    "            print(f'Train Epoch: {epoch_idx} [{batch_idx*n_data}/{n_dataloader}' \n",
    "                  f'({100.*batch_idx/n_data_per_batch:.0f}%)]\\tLoss: {loss_val:.6f}')\n",
    "            train_losses.append(loss_val)\n",
    "            train_counter.append((batch_idx*64) + ((epoch_idx-1)*n_dataloader))"
   ]
  },
  {
   "cell_type": "code",
   "execution_count": null,
   "id": "2a6320be-6da3-490f-88d5-ba61c1cb412b",
   "metadata": {},
   "outputs": [],
   "source": [
    "#for epoch in range(num_epochs):\n",
    "#    train_model(train_loader, model, loss_function, optimizer, epoch)"
   ]
  },
  {
   "cell_type": "markdown",
   "id": "bb0d5821-7c8d-46b5-9e7d-02e72cac2acc",
   "metadata": {},
   "source": [
    "__Function for computing the accuracy of the model__"
   ]
  },
  {
   "cell_type": "code",
   "execution_count": null,
   "id": "d910ddbb-798f-47ab-8aab-e2dba4aa4005",
   "metadata": {},
   "outputs": [],
   "source": [
    "def compute_accuracy(model, dataloader):\n",
    "    \"\"\"\n",
    "    Compute the percentage of correct classification.\n",
    "    \"\"\"\n",
    "\n",
    "    model = model.eval()\n",
    "\n",
    "    n_items = len(dataloader.dataset)\n",
    "    correct = 0.0\n",
    "    test_loss = 0\n",
    "\n",
    "    with torch.no_grad(): \n",
    "        for idx, (data, target) in enumerate(dataloader):\n",
    "            data, target = data.to(device), target.to(device)\n",
    "            logits = model(data)\n",
    "            # sum up batch loss\n",
    "            test_loss += loss_function(logits, target).item()\n",
    "            # get the index of the max log-probability\n",
    "            _, pred = torch.max(logits.data, 1)\n",
    "            #total += target.size(0)\n",
    "            correct += (pred == target).sum().item()\n",
    "            #pred = logits.argmax(dim=1, keepdim=True)\n",
    "            #correct += pred.eq(target.view_as(pred)).sum().item()\n",
    "    test_loss /= len(dataloader)\n",
    "    test_losses.append(1.+test_loss)    \n",
    "    perc = 100. * correct / n_items\n",
    "    print(f'\\nTest set: Average loss: {1.+test_loss:.4f}, Accuracy: {correct}/{n_items} ({perc:.0f}%)\\n')"
   ]
  },
  {
   "cell_type": "markdown",
   "id": "ab82ba8b-84d1-41e4-b3a9-aadbe7c4f6c9",
   "metadata": {},
   "source": [
    "__Train the model over `num_epochs` epochs and collect statistics__"
   ]
  },
  {
   "cell_type": "code",
   "execution_count": null,
   "id": "08e556c1-19c5-4f59-9782-710af62ea921",
   "metadata": {},
   "outputs": [],
   "source": [
    "compute_accuracy(model, test_loader)\n",
    "for epoch_idx in range(1, num_epochs+1):\n",
    "    train_one_epoch(epoch_idx)\n",
    "    compute_accuracy(model, test_loader)  "
   ]
  },
  {
   "cell_type": "markdown",
   "id": "584bd9c3-f3b7-48fe-995e-8e9082c4ab8c",
   "metadata": {},
   "source": [
    "## <font color=\"blue\">Evaluate the model's performance</font>"
   ]
  },
  {
   "cell_type": "code",
   "execution_count": null,
   "id": "f1489069-f643-4a84-a51c-fe3a7ba96fa2",
   "metadata": {},
   "outputs": [],
   "source": [
    "fig = plt.figure()\n",
    "plt.plot(train_counter, train_losses, color='blue')\n",
    "plt.scatter(test_counter, test_losses, color='red')\n",
    "plt.legend(['Train Loss', 'Test Loss'], loc='upper right')\n",
    "plt.xlabel('Number of training examples seen')\n",
    "plt.ylabel('Loss')"
   ]
  },
  {
   "cell_type": "markdown",
   "id": "4d6d0c43-48d5-406e-969c-a286f173980a",
   "metadata": {},
   "source": [
    "__Quick check of some of the predicted classifications__"
   ]
  },
  {
   "cell_type": "code",
   "execution_count": null,
   "id": "5c587148-1e05-4847-bf26-fa0f2744f3c4",
   "metadata": {},
   "outputs": [],
   "source": [
    "examples = enumerate(train_loader)\n",
    "batch_idx, (example_data, example_targets) = next(examples)"
   ]
  },
  {
   "cell_type": "code",
   "execution_count": null,
   "id": "18878b20-587a-44b9-8b15-a3a5d8802fd2",
   "metadata": {},
   "outputs": [],
   "source": [
    "with torch.no_grad():\n",
    "  output = model(example_data)"
   ]
  },
  {
   "cell_type": "code",
   "execution_count": null,
   "id": "4b478fa4-640e-4785-9685-4afcb17e01f2",
   "metadata": {},
   "outputs": [],
   "source": [
    "fig = plt.figure()\n",
    "for i in range(6):\n",
    "  plt.subplot(2,3,i+1)\n",
    "  plt.tight_layout()\n",
    "  plt.imshow(example_data[i][0], cmap='gray', interpolation='none')\n",
    "  plt.title(\"Prediction: {}\".format(\n",
    "    output.data.max(1, keepdim=True)[1][i].item()))\n",
    "  plt.xticks([])\n",
    "  plt.yticks([])"
   ]
  },
  {
   "cell_type": "code",
   "execution_count": null,
   "id": "876ae966-9c48-48a4-b896-04ba2688efd8",
   "metadata": {},
   "outputs": [],
   "source": []
  }
 ],
 "metadata": {
  "kernelspec": {
   "display_name": "Python 3 (ipykernel)",
   "language": "python",
   "name": "python3"
  },
  "language_info": {
   "codemirror_mode": {
    "name": "ipython",
    "version": 3
   },
   "file_extension": ".py",
   "mimetype": "text/x-python",
   "name": "python",
   "nbconvert_exporter": "python",
   "pygments_lexer": "ipython3",
   "version": "3.12.7"
  }
 },
 "nbformat": 4,
 "nbformat_minor": 5
}
