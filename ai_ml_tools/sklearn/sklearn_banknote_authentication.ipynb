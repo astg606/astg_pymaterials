{
 "cells": [
  {
   "cell_type": "markdown",
   "id": "d71bce70-9dc3-448b-9f9a-8896e83b6d09",
   "metadata": {},
   "source": [
    "<center>\n",
    "<table>\n",
    "  <tr>\n",
    "    <td><img src=\"https://portal.nccs.nasa.gov/datashare/astg/training/python/logos/nasa-logo.svg\" width=\"100\"/> </td>\n",
    "     <td><img src=\"https://portal.nccs.nasa.gov/datashare/astg/training/python/logos/ASTG_logo.png?raw=true\" width=\"80\"/> </td>\n",
    "     <td> <img src=\"https://www.nccs.nasa.gov/sites/default/files/NCCS_Logo_0.png\" width=\"130\"/> </td>\n",
    "    </tr>\n",
    "</table>\n",
    "</center>\n",
    "\n",
    "        \n",
    "<center>\n",
    "<h1><font color= \"blue\" size=\"+3\">ASTG Python Course Series</font></h1>\n",
    "</center>\n",
    "\n",
    "---\n",
    "\n",
    "<center>\n",
    "    <h1><font color=\"red\">\n",
    "        Banknote Authentication Problem with Scikit-Learn\n",
    "    </font></h1>\n",
    "</center>"
   ]
  },
  {
   "cell_type": "markdown",
   "id": "0df4d162-122d-47d2-bdf4-45895a93bc6b",
   "metadata": {},
   "source": [
    "# <font color=\"red\">Objectives</font>\n",
    "\n",
    "In this presentation, we use a simple classification dataset to:\n",
    "\n",
    "- Perform Exploratory Data Analysis (EDA)\n",
    "- Create, train and evaluate various Scikit-Learn (`sklearn`) models.\n",
    "\n",
    "We show the steps for building a Machine Learning (ML) model with `sklearn`. "
   ]
  },
  {
   "cell_type": "markdown",
   "id": "82e02d09-9b14-4830-8973-f268ec8c2bb0",
   "metadata": {},
   "source": [
    "# <font color=\"red\"> Python packages used</font>\n",
    "\n",
    "- __Matplotlib__: Create visualization.\n",
    "- __Pandas__: Data (two-dimensional labelled array) manipulation and analysis.\n",
    "- __Scikit-Learn__:  Provide supervised and unsupervised Machine Learning algorithms.\n",
    "- __PyTorch__: Used to to build, train, and evaluate a deep machine learning algorithm based on Neural Networks."
   ]
  },
  {
   "cell_type": "code",
   "execution_count": null,
   "id": "002780f8-b579-4d36-a0eb-d11f0db4dcfc",
   "metadata": {},
   "outputs": [],
   "source": [
    "try:\n",
    "    import google.colab\n",
    "    print(\"Running in Google Colab\")\n",
    "except:\n",
    "    print(\"Not running in Google Colab\")\n",
    "else:\n",
    "    print(\"Installing modules in Google Colab\")\n",
    "    !pip install seaborn\n",
    "    !pip install -U scikit-learn"
   ]
  },
  {
   "cell_type": "code",
   "execution_count": null,
   "id": "b40223c7-e654-45b5-bd57-03f788418db8",
   "metadata": {},
   "outputs": [],
   "source": [
    "import warnings\n",
    "warnings.filterwarnings('ignore')"
   ]
  },
  {
   "cell_type": "code",
   "execution_count": null,
   "id": "355bc5a3-aa20-4097-bd46-50d31762eb33",
   "metadata": {},
   "outputs": [],
   "source": [
    "import matplotlib.pyplot as plt"
   ]
  },
  {
   "cell_type": "code",
   "execution_count": null,
   "id": "5a17763b-8baf-40a2-9d71-825d42d82b6d",
   "metadata": {},
   "outputs": [],
   "source": [
    "import numpy as np"
   ]
  },
  {
   "cell_type": "code",
   "execution_count": null,
   "id": "ee059fe1-47c6-4011-908d-3d338bf70173",
   "metadata": {},
   "outputs": [],
   "source": [
    "import pandas as pd\n",
    "import seaborn as sns"
   ]
  },
  {
   "cell_type": "code",
   "execution_count": null,
   "id": "914d70f0-79f1-430d-bd98-c072f1fbbfdd",
   "metadata": {},
   "outputs": [],
   "source": [
    "import sklearn"
   ]
  },
  {
   "cell_type": "code",
   "execution_count": null,
   "id": "a06afe3c-f18d-4b68-9ce0-92a34a085094",
   "metadata": {},
   "outputs": [],
   "source": [
    "from sklearn.model_selection import train_test_split"
   ]
  },
  {
   "cell_type": "code",
   "execution_count": null,
   "id": "7e0a9819-c31f-4dcd-bb51-809171b87a72",
   "metadata": {},
   "outputs": [],
   "source": [
    "from sklearn.metrics import confusion_matrix\n",
    "from sklearn.metrics import ConfusionMatrixDisplay\n",
    "from sklearn.metrics import classification_report\n",
    "from sklearn.metrics import accuracy_score"
   ]
  },
  {
   "cell_type": "code",
   "execution_count": null,
   "id": "538c6488-3563-45e5-a75f-fb5ef2c6899d",
   "metadata": {},
   "outputs": [],
   "source": [
    "from sklearn.linear_model import LogisticRegression"
   ]
  },
  {
   "cell_type": "code",
   "execution_count": null,
   "id": "07d65f26-358a-4f49-bec0-07b9c7858cac",
   "metadata": {},
   "outputs": [],
   "source": [
    "from sklearn.svm import SVC"
   ]
  },
  {
   "cell_type": "code",
   "execution_count": null,
   "id": "b965d403-afba-45b1-bbcf-5f68d588be55",
   "metadata": {},
   "outputs": [],
   "source": [
    "from sklearn.neighbors import KNeighborsClassifier"
   ]
  },
  {
   "cell_type": "code",
   "execution_count": null,
   "id": "baee728a-1f84-4e0e-9cd4-98e5648c724d",
   "metadata": {},
   "outputs": [],
   "source": [
    "from sklearn.ensemble import RandomForestClassifier"
   ]
  },
  {
   "cell_type": "code",
   "execution_count": null,
   "id": "b65815c2-20da-498d-8646-1142b42dc216",
   "metadata": {},
   "outputs": [],
   "source": [
    "print(f\"Numpy version:        {np.__version__}\")\n",
    "print(f\"Pandas version:       {pd.__version__}\")\n",
    "print(f\"Seaborn version:      {sns.__version__}\")\n",
    "print(f\"Scikit-Learn version: {sklearn.__version__}\")"
   ]
  },
  {
   "cell_type": "markdown",
   "id": "b9549676-2fa5-41a7-bbb9-ce03f5797c34",
   "metadata": {},
   "source": [
    "# <font color=\"red\">Loading the dataset</font>"
   ]
  },
  {
   "cell_type": "markdown",
   "id": "2194fb57-a0a2-455d-a6a9-a411684fd058",
   "metadata": {},
   "source": [
    "## <font color=\"blue\">Description of the data</font>\n",
    "\n",
    "- We have a dataset which consists on information on banknotes.\n",
    "- Banknotes are classified into two classes whether they are real or not:\n",
    "   - `1`: fake banknote\n",
    "   - `0`: real banknote\n",
    "- We want to build various ML models to be able to predict the classes given a set of banknotes."
   ]
  },
  {
   "cell_type": "markdown",
   "id": "7b2778b4-e2b3-4a7c-8b8f-07e0e08a4501",
   "metadata": {},
   "source": [
    "## <font color=\"blue\">Read the data</font>\n",
    "\n",
    "#### Dataset\n",
    "\n",
    "- We use 1372 images that were taken from genuine and forged banknote-like specimens.\n",
    "- Wavelet Transform tools were used to extract features from images.\n",
    "   - Among the five variables, four are features, and one is target class.\n",
    "   - The four features are continuous numbers that measure the characteristics of digital images of each banknote.\n",
    "      - `variance`: Measures the spread or distribution of pixel values within the banknote image.\n",
    "      - `skew`: Quantifies the asymmetry or distortion in the distribution of pixel intensity values, according to GeeksforGeeks.\n",
    "      - `curtosis`: Describes the sharpness of the peaks in the pixel intensity distribution.\n",
    "      - `entropy`: Describes the amount of information that must be coded for by a compression algorithm.\n",
    "   - The target class contains two values, 0 and 1, where 0 represents a genuine note, and 1 represents a fake note.\n",
    "   - The dataset contains a balanced ratio of both classes which is 55:45 (genuine: counterfeit)."
   ]
  },
  {
   "cell_type": "code",
   "execution_count": null,
   "id": "2e234697-87a6-42de-931f-d48621c1ddb2",
   "metadata": {},
   "outputs": [],
   "source": [
    "url = \"https://raw.githubusercontent.com/Kuntal-G/Machine-Learning/master/R-machine-learning/data/banknote-authentication.csv\""
   ]
  },
  {
   "cell_type": "code",
   "execution_count": null,
   "id": "f609024c-3eae-4ad5-8cb8-b95b403b7606",
   "metadata": {},
   "outputs": [],
   "source": [
    "df = pd.read_csv(url)"
   ]
  },
  {
   "cell_type": "code",
   "execution_count": null,
   "id": "0e3c21b4-5f4d-44e2-9212-c2111e722688",
   "metadata": {},
   "outputs": [],
   "source": [
    "df.head(5)"
   ]
  },
  {
   "cell_type": "markdown",
   "id": "b98702ef-bcd3-4a13-a7ee-fdfed75cb627",
   "metadata": {},
   "source": [
    "## <font color='blue'>Perform EDA</font>"
   ]
  },
  {
   "cell_type": "markdown",
   "id": "553d33e0-67c2-485e-b035-da5a98260703",
   "metadata": {},
   "source": [
    "### <font color=\"green\">Quick observation on the data types</font>"
   ]
  },
  {
   "cell_type": "code",
   "execution_count": null,
   "id": "df3765d0-0062-444d-a567-1781d853bf30",
   "metadata": {},
   "outputs": [],
   "source": [
    "df.info()"
   ]
  },
  {
   "cell_type": "markdown",
   "id": "ba464efe-ad92-42c0-a0c6-b236440133ce",
   "metadata": {},
   "source": [
    "- All the columns have data types of either `float` or `int`.\n",
    "   - There is no need to do any data conversion.\n",
    "- There are no missing values."
   ]
  },
  {
   "cell_type": "markdown",
   "id": "5f5f5fb0-b650-4ee4-a821-6be4c7c37466",
   "metadata": {},
   "source": [
    "### <font color=\"green\">Descriptive statistics</font>"
   ]
  },
  {
   "cell_type": "code",
   "execution_count": null,
   "id": "1c75fd73-753b-4b15-9b30-17d985ebc8b8",
   "metadata": {},
   "outputs": [],
   "source": [
    "df.describe()"
   ]
  },
  {
   "cell_type": "markdown",
   "id": "173faadc-fb2a-4a11-85de-f0610340f28f",
   "metadata": {},
   "source": [
    "### <font color=\"green\">Basic plots</font>\n",
    "\n",
    "__Percentage of instances for each class__"
   ]
  },
  {
   "cell_type": "code",
   "execution_count": null,
   "id": "c403618e-005c-4c8f-8af7-b4bbbd7f237c",
   "metadata": {},
   "outputs": [],
   "source": [
    "df['class'].value_counts().plot(kind=\"pie\", autopct='%1.1f%%');"
   ]
  },
  {
   "cell_type": "markdown",
   "id": "3b87a228-9ff7-438a-9955-369d869cafbe",
   "metadata": {},
   "source": [
    "__Pairplot__\n",
    "\n",
    "- The `sns.pairplot()` function takes dataset as a parameter and plots a graph that contains relationships between all the features in the dataset."
   ]
  },
  {
   "cell_type": "code",
   "execution_count": null,
   "id": "b325d8ac-0304-4322-b50d-7a6bfcf14930",
   "metadata": {},
   "outputs": [],
   "source": [
    "sns.pairplot(df)"
   ]
  },
  {
   "cell_type": "markdown",
   "id": "bd8cef93-2a2e-4b21-9834-dc73c87d8d87",
   "metadata": {},
   "source": [
    "__Observations__\n",
    "\n",
    "- `entropy` and `variance` have a slight linear correlation.\n",
    "- There is an inverse linear correlation between the `curtosis` and `skew`.\n",
    "- The values for `curtosis` and `entropy` are slightly higher for real banknotes, while the values for `skew` and `variance` are higher for the fake banknotes."
   ]
  },
  {
   "cell_type": "markdown",
   "id": "2c5d62e9-6a22-4145-a58a-633bbed01c5c",
   "metadata": {},
   "source": [
    "### <font color=\"green\">Identify possible linear relationships</font>"
   ]
  },
  {
   "cell_type": "markdown",
   "id": "8f7db1ec-e1d2-4a06-93ca-e3f0c255f00f",
   "metadata": {},
   "source": [
    "__Heatmap__"
   ]
  },
  {
   "cell_type": "code",
   "execution_count": null,
   "id": "b331af5c-9d51-47a1-bd9b-ccc35029813d",
   "metadata": {},
   "outputs": [],
   "source": [
    "plt.figure(figsize=(22, 11));\n",
    "correlation_matrix = df.corr().round(3);\n",
    "sns.heatmap(correlation_matrix, cmap=\"YlGnBu\", annot=True);"
   ]
  },
  {
   "cell_type": "code",
   "execution_count": null,
   "id": "d995f8c8-1ec8-4730-aaed-ca1952db539c",
   "metadata": {},
   "outputs": [],
   "source": [
    "plt.figure(figsize=(22, 11));\n",
    "sns.heatmap(correlation_matrix[(correlation_matrix >= 0.7) | (correlation_matrix <= -0.6)], \n",
    "            cmap='viridis', vmax=1.0, vmin=-1.0, linewidths=0.1,\n",
    "            annot=True, annot_kws={\"size\": 8}, square=True);"
   ]
  },
  {
   "cell_type": "markdown",
   "id": "199425a2-093e-4a16-af4a-6dbd047e49fd",
   "metadata": {},
   "source": [
    "### <font color=\"green\">Identify possible non-linear relationships</font>"
   ]
  },
  {
   "cell_type": "code",
   "execution_count": null,
   "id": "a17e3128-3829-472d-8b89-054396973f5a",
   "metadata": {},
   "outputs": [],
   "source": [
    "sns.pairplot(df, hue='class')"
   ]
  },
  {
   "cell_type": "markdown",
   "id": "c5d3c42c-53d1-4c07-ba8c-63626cf35f84",
   "metadata": {},
   "source": [
    "__Observations__\n",
    "\n",
    "-  Out of all the combinations of variables, the scatter plot of `curtosis` vs `entropy` has the most significant overlap between classes.\n",
    "   - The overlapping of the data indicates that there is substantial ambiguity and similarity between classes based just on their `curtosi`s and `entropy` values, which implies that there is no distinct separation that allows for easy classification.\n",
    "   - ML algorithms would face significant challenges in accurately classifying banknotes based on these two variables.\n",
    "- `skew` vs `entropy` and `skew` vs `curtosis` also have relatively high overlap between classes.\n",
    "   - The overlapping feature also has some implications for the effectiveness of ML algorithms. \n",
    "- A large overlap of different classes will require more complex decision boundaries to determine the class of the banknote accurately.\n",
    "- __It is reasonable to predict that algorithms such as Logistic Regression and Linear Discriminant Analysis, which assume linear relationships between variables, may struggle with an accurate prediction with only two features.__"
   ]
  },
  {
   "cell_type": "markdown",
   "id": "c87100bb-5b88-463b-9fe2-bc23e70e7354",
   "metadata": {},
   "source": [
    "### <font color=\"green\">Analyzing 3D plots</font>\n",
    "\n",
    "- We extend our analysis by incorporating an additional feature in plots by doing three-feature scatter plots.\n",
    "- By including a new variable, our goal is to mitigate the issue of significant overlap observed in the two-feature scatter plot and improve the separability between the classes.\n",
    "- As the plots below show, the three-feature scatter plots exhibit a notable reduction in overlap among the different classes compared to the two-feature plots, suggesting the additional variable added to any of the two variable combinations provided additional discriminatory power, leading to clearer separation between genuine and counterfeit banknotes.\n",
    "- __The reduced overlap and improved separability in the three-feature scatter plots indicate that ML methods, including those that assume linear relationships among the variables, such as Logistic Regression and Linear Discriminant Analysis, are expected to perform better when using three features for classification.__\n"
   ]
  },
  {
   "cell_type": "code",
   "execution_count": null,
   "id": "cfbdc4b3-d18f-44da-9e13-92b895b794e3",
   "metadata": {},
   "outputs": [],
   "source": [
    "def do_3d_plot(data, ax, labels):\n",
    "    # Plot the data, using Seaborn's palette for color differentiation\n",
    "    # Iterate through each class to plot separately for distinct colors\n",
    "    for class_label in data['class'].unique():\n",
    "        subset = data[data['class'] == class_label]\n",
    "        ax.scatter(subset[labels[0]], subset[labels[1]], subset[labels[2]], \n",
    "                   label=f'Class {class_label}',\n",
    "                   color=sns.color_palette(\"tab10\", n_colors=2)[int(class_label)],\n",
    "                   s=3\n",
    "                  ) # s for marker size\n",
    "\n",
    "    # Set labels and title\n",
    "    ax.set_xlabel(labels[0])\n",
    "    ax.set_ylabel(labels[1])\n",
    "    ax.set_zlabel(labels[2])\n",
    "    #ax.legend()"
   ]
  },
  {
   "cell_type": "code",
   "execution_count": null,
   "id": "f7b8178c-3808-4cc1-ba16-77c5f3738c87",
   "metadata": {},
   "outputs": [],
   "source": [
    "list_labels = [\n",
    "    ('variance', 'entropy', 'skew'),\n",
    "    ('variance', 'entropy', 'curtosis'),\n",
    "    ('entropy', 'skew', 'curtosis'),\n",
    "    ('skew', 'variance', 'curtosis', )\n",
    "]"
   ]
  },
  {
   "cell_type": "code",
   "execution_count": null,
   "id": "35e3e553-0746-4e92-bec6-d354744ede97",
   "metadata": {},
   "outputs": [],
   "source": [
    "fig, axes = plt.subplots(2, 2, figsize=(12, 6), subplot_kw={'projection': '3d'})\n",
    "\n",
    "for ax, labels in zip(axes.flat, list_labels):\n",
    "    do_3d_plot(df, ax, labels)\n",
    "plt.tight_layout()"
   ]
  },
  {
   "cell_type": "markdown",
   "id": "fa860ddf-67d4-4a3c-9d4c-c31720da0697",
   "metadata": {},
   "source": [
    "- The above observations were based on the visual analysis of the scatter plots.\n",
    "- Further quantitative analysis is necessary to confirm the extent of the visual analysis and its impact on classification accuracy."
   ]
  },
  {
   "cell_type": "markdown",
   "id": "af46ff77-a7b3-4631-88ac-53605afba77d",
   "metadata": {},
   "source": [
    "#  <font color=\"red\">Data preparation</font>\n",
    "\n",
    "##  <font color=\"blue\"> Splitting the data into training and testing sets</font>\n",
    "- We split the data into training and testing sets. \n",
    "- We train the model with 80% of the samples and test with the remaining 20%. "
   ]
  },
  {
   "cell_type": "markdown",
   "id": "18d6d511-2795-4b6c-be25-f3d5c5766d77",
   "metadata": {},
   "source": [
    "__Extract the train and test datasets as NumPy arrays__"
   ]
  },
  {
   "cell_type": "code",
   "execution_count": null,
   "id": "31a16a71-679b-4d22-8211-7a3fc393b344",
   "metadata": {},
   "outputs": [],
   "source": [
    "feature_cols = list(df.columns)\n",
    "del feature_cols[-1]"
   ]
  },
  {
   "cell_type": "code",
   "execution_count": null,
   "id": "f656f27f-b3c6-42a5-9472-6c11815e7128",
   "metadata": {},
   "outputs": [],
   "source": [
    "feature_cols"
   ]
  },
  {
   "cell_type": "code",
   "execution_count": null,
   "id": "a04c9cd8-7882-431b-bd09-ae5aa737fb37",
   "metadata": {},
   "outputs": [],
   "source": [
    "label_name = list(df.columns)[-1]\n",
    "label_name"
   ]
  },
  {
   "cell_type": "code",
   "execution_count": null,
   "id": "1c8f93ae-dbf6-4b58-9402-02cda89127bb",
   "metadata": {},
   "outputs": [],
   "source": [
    "X_train, X_test, y_train, y_test = train_test_split(df[feature_cols].values, \n",
    "                                                    df[label_name].values, \n",
    "                                                    test_size=0.2, \n",
    "                                                    random_state=42)"
   ]
  },
  {
   "cell_type": "code",
   "execution_count": null,
   "id": "71792068-9926-41bb-81c0-2a46f6e956fc",
   "metadata": {},
   "outputs": [],
   "source": [
    "X_train"
   ]
  },
  {
   "cell_type": "code",
   "execution_count": null,
   "id": "f2571853-0be0-48b2-9985-8a6021d01276",
   "metadata": {},
   "outputs": [],
   "source": [
    "X_train.shape"
   ]
  },
  {
   "cell_type": "code",
   "execution_count": null,
   "id": "3a5e5ffb-1bca-4f1b-b4cf-a78be1b07753",
   "metadata": {},
   "outputs": [],
   "source": [
    "y_train"
   ]
  },
  {
   "cell_type": "code",
   "execution_count": null,
   "id": "68bfbbf9-4fed-4111-8391-15f2b338d8b4",
   "metadata": {},
   "outputs": [],
   "source": [
    "y_train.shape"
   ]
  },
  {
   "cell_type": "code",
   "execution_count": null,
   "id": "919fb432-9ff1-4565-a54a-fcb461fddd91",
   "metadata": {},
   "outputs": [],
   "source": [
    "y_test.shape"
   ]
  },
  {
   "cell_type": "markdown",
   "id": "c3b374d7-a932-4cf9-a9d1-a65301438d64",
   "metadata": {},
   "source": [
    "## <font color=\"blue\">Normailized the Data</font> <a class=\"anchor\" id=\"sec_tf_norm\"></a>\n",
    "\n",
    "- In general, variables may not be a similar scale. High values would gain more importance in any distance-based calculations. \n",
    "- It is good practice to normalize features that use different scales and ranges.\n",
    "   - The normalization process brings all variables to a similar scale, preventing certain variables from dominating others in later analysis and ensuring fair comparisons and interpretations.\n",
    "- Although the model might converge without feature normalization, it makes training more difficult, and it makes the resulting model dependent on the choice of units used in the input."
   ]
  },
  {
   "cell_type": "code",
   "execution_count": null,
   "id": "3a5080b6-f78b-43b5-b960-3b949da1276b",
   "metadata": {},
   "outputs": [],
   "source": [
    "X_train"
   ]
  },
  {
   "cell_type": "code",
   "execution_count": null,
   "id": "e122a1b8-68de-47fb-80a8-d5cba2ca0355",
   "metadata": {},
   "outputs": [],
   "source": [
    "train_mean = X_train.mean(axis=0)\n",
    "train_std = X_train.std(axis=0)"
   ]
  },
  {
   "cell_type": "code",
   "execution_count": null,
   "id": "ae1277bd-e81d-46a7-94a1-d9e77b5b9e43",
   "metadata": {},
   "outputs": [],
   "source": [
    "train_mean"
   ]
  },
  {
   "cell_type": "code",
   "execution_count": null,
   "id": "b138f810-069d-44f3-ae65-de3ba13f0d9e",
   "metadata": {},
   "outputs": [],
   "source": [
    "train_std"
   ]
  },
  {
   "cell_type": "markdown",
   "id": "0364e4f3-36a7-4b3c-be31-8388547654ee",
   "metadata": {},
   "source": [
    "__Normalization of the train features__"
   ]
  },
  {
   "cell_type": "code",
   "execution_count": null,
   "id": "2e9ee619-625f-4d4e-bd24-5d0ce2888cdd",
   "metadata": {},
   "outputs": [],
   "source": [
    "X_train = (X_train - train_mean) / train_std"
   ]
  },
  {
   "cell_type": "code",
   "execution_count": null,
   "id": "94729c0a-2b7c-45e3-9da2-d1192edfea08",
   "metadata": {},
   "outputs": [],
   "source": [
    "X_train"
   ]
  },
  {
   "cell_type": "markdown",
   "id": "e880315b-9f50-4501-9ded-b07ae065111b",
   "metadata": {},
   "source": [
    "__Normalization of the test features__"
   ]
  },
  {
   "cell_type": "code",
   "execution_count": null,
   "id": "0df36d26-155b-4141-a935-8289e19f6bce",
   "metadata": {},
   "outputs": [],
   "source": [
    "X_test = (X_test - train_mean) / train_std"
   ]
  },
  {
   "cell_type": "markdown",
   "id": "c42acd45-028c-41bc-8e78-e233d1d720b6",
   "metadata": {},
   "source": [
    "# <font color=\"red\">Creating the ML models</font>\n",
    "\n",
    "- We define, train and test different ML algorithms.\n",
    "- We use various metrics to evaluate the performance of each model."
   ]
  },
  {
   "cell_type": "markdown",
   "id": "6e3f770e-bc20-48fe-9dc5-681d234ba9d5",
   "metadata": {},
   "source": [
    "__Classification report__\n",
    "\n",
    "- The `sklearn.metrics.classification_report` function generates a text-based report summarizing the performance of a classification model.\n",
    "- The report includes the following metrics:\n",
    "  - _Precision_: The ability of the classifier not to label as positive a sample that is negative. It is the ratio: $\\frac{TP}{TP + FP}$\n",
    "  - _Recall_: The ability of the classifier to find all the positive samples. It is the ratio: $\\frac{TP}{TP + FN}$.\n",
    "  - _F1-Score_: The weighted harmonic mean of precision and recall. It is a good measure to use when you need to balance both precision and recall.\n",
    "  - _Support_: The number of actual occurrences of each class in the specified dataset ). \n",
    "- The report also provides aggregated averages across all classes:\n",
    "  - _Accuracy_: The overall proportion of correctly classified instances.\n",
    "  - _Macro Average_: The unweighted average of precision, recall, and F1-score across all classes. This treats all classes equally, regardless of their size.\n",
    "  - _Weighted Average_: The average of precision, recall, and F1-score, weighted by the support of each class. This gives more importance to larger classes."
   ]
  },
  {
   "cell_type": "markdown",
   "id": "f5dc8e20-7a68-48f1-b6ab-abdd2924a15f",
   "metadata": {},
   "source": [
    "__Confusion matrix__\n",
    "\n",
    "- A table used to describe the performance of a classification model.\n",
    "\n",
    "| | Predicted Class A | Predicted Class B |\n",
    "|---|---|---|\n",
    "| **Actual Class A** | True Positive (TP) | False Negative (FN) |\n",
    "| **Actual Class B** | False Positive (FP) | True Negative (TN) |"
   ]
  },
  {
   "cell_type": "markdown",
   "id": "75173003-871d-4a5d-a302-c70de1b194d5",
   "metadata": {},
   "source": [
    "## <font color=\"blue\">Logic regression</font>\n",
    "\n",
    "\n",
    "Logistic regression is a statistical method for predicting binary classes.\n",
    "\n",
    "- It is a special case of linear regression where the target variable is categorical in nature.\n",
    "- It is one of the most simple and commonly used ML algorithms for two-class classification.\n",
    "- The outcome or the target variable has only two possible classes.\n",
    "- It predicts the probability of occurrence of a binary event utilizing a logit function."
   ]
  },
  {
   "cell_type": "markdown",
   "id": "668aba39-0d7d-4d72-b701-ea26c3e5bbb2",
   "metadata": {},
   "source": [
    "__Create model__"
   ]
  },
  {
   "cell_type": "code",
   "execution_count": null,
   "id": "dd05a294-5ae2-4f90-82d1-5b85560b3d27",
   "metadata": {},
   "outputs": [],
   "source": [
    "lr_estimator = LogisticRegression() "
   ]
  },
  {
   "cell_type": "markdown",
   "id": "a9c4bd1f-cb65-4ed8-995b-0e6e6b614ed9",
   "metadata": {},
   "source": [
    "__Train the model__"
   ]
  },
  {
   "cell_type": "code",
   "execution_count": null,
   "id": "4bde7397-57f4-4634-b669-beb19b56d653",
   "metadata": {},
   "outputs": [],
   "source": [
    "lr_estimator.fit(X_train, y_train)"
   ]
  },
  {
   "cell_type": "markdown",
   "id": "5bdf3fc1-2e0c-42f1-9635-251bb9401e3f",
   "metadata": {},
   "source": [
    "__Make prediction__"
   ]
  },
  {
   "cell_type": "code",
   "execution_count": null,
   "id": "55fb3e19-1f78-469b-88bb-8d660491a8d6",
   "metadata": {},
   "outputs": [],
   "source": [
    "y_pred = lr_estimator.predict(X_test) "
   ]
  },
  {
   "cell_type": "markdown",
   "id": "0daaa3ec-a907-4e57-a7ab-e2fd3dcc60fd",
   "metadata": {},
   "source": [
    "__Evaluate the model__"
   ]
  },
  {
   "cell_type": "code",
   "execution_count": null,
   "id": "43ccd4c4-8ff4-407e-8588-24f9bab32b7c",
   "metadata": {},
   "outputs": [],
   "source": [
    "lr_class_rep = classification_report(y_test, y_pred)\n",
    "print(f\"Classification report: \\n {lr_class_rep}\")"
   ]
  },
  {
   "cell_type": "code",
   "execution_count": null,
   "id": "ccfa9a5a-f4f6-479a-9d69-4d6351c563da",
   "metadata": {},
   "outputs": [],
   "source": [
    "lr_conf_mat = confusion_matrix(y_test, y_pred)\n",
    "lr_disp = ConfusionMatrixDisplay(confusion_matrix=lr_conf_mat, display_labels=[0, 1]) \n",
    "lr_disp.plot();"
   ]
  },
  {
   "cell_type": "code",
   "execution_count": null,
   "id": "90b9ed7d-5a83-4609-a958-9f9240e0301d",
   "metadata": {},
   "outputs": [],
   "source": [
    "lr_acc_score = accuracy_score(y_test, y_pred)\n",
    "print(f\"Accuracy report: \\n {lr_acc_score}\")"
   ]
  },
  {
   "cell_type": "markdown",
   "id": "df40d672-857b-476c-88d4-a9813f46346f",
   "metadata": {},
   "source": [
    "__Observations__\n",
    "\n",
    "- The output showed an accuracy of `97.82%` with 4 misclassifications."
   ]
  },
  {
   "cell_type": "markdown",
   "id": "1c72aa0c-6358-4681-8b07-6aaace4defc4",
   "metadata": {},
   "source": [
    "## <font color=\"blue\">Random forest</font>\n",
    "\n",
    "- An ensemble learning method that operates by constructing a multitude of decision trees during training and outputting the class that is the mode of the classes of the individual trees."
   ]
  },
  {
   "cell_type": "markdown",
   "id": "954a7a23-7c06-4897-b7eb-f0ba68ae3652",
   "metadata": {},
   "source": [
    "__Create model__"
   ]
  },
  {
   "cell_type": "code",
   "execution_count": null,
   "id": "0d41e204-8641-4933-9224-7888909c9cb0",
   "metadata": {},
   "outputs": [],
   "source": [
    "rf_estimator = RandomForestClassifier(n_estimators=200, random_state=0) "
   ]
  },
  {
   "cell_type": "markdown",
   "id": "19bbfbce-92ed-4d99-ab3f-c2093444d3f2",
   "metadata": {},
   "source": [
    "__Train the model__"
   ]
  },
  {
   "cell_type": "code",
   "execution_count": null,
   "id": "e58c35be-dc26-478b-a39f-83b05dfb740e",
   "metadata": {},
   "outputs": [],
   "source": [
    "rf_estimator.fit(X_train, y_train)"
   ]
  },
  {
   "cell_type": "markdown",
   "id": "5413ab6c-3bd0-412a-ab6a-e510735a9394",
   "metadata": {},
   "source": [
    "__Make prediction__"
   ]
  },
  {
   "cell_type": "code",
   "execution_count": null,
   "id": "8b18d2e8-5833-44a1-8bc8-a389fd5b4e58",
   "metadata": {},
   "outputs": [],
   "source": [
    "y_pred = rf_estimator.predict(X_test) "
   ]
  },
  {
   "cell_type": "markdown",
   "id": "4012f09f-76ab-4313-8928-74f1b565d199",
   "metadata": {},
   "source": [
    "__Evaluate the model__"
   ]
  },
  {
   "cell_type": "code",
   "execution_count": null,
   "id": "414ccf71-3749-49fa-b072-ab31d8f12ae7",
   "metadata": {},
   "outputs": [],
   "source": [
    "rf_class_rep = classification_report(y_test, y_pred)\n",
    "print(f\"Classification report: \\n {rf_class_rep}\")"
   ]
  },
  {
   "cell_type": "code",
   "execution_count": null,
   "id": "7d93e626-f0ef-47bf-8d57-ff19916e5223",
   "metadata": {},
   "outputs": [],
   "source": [
    "rf_conf_mat = confusion_matrix(y_test, y_pred)\n",
    "rf_disp = ConfusionMatrixDisplay(confusion_matrix=rf_conf_mat, display_labels=[0, 1]) \n",
    "rf_disp.plot();"
   ]
  },
  {
   "cell_type": "code",
   "execution_count": null,
   "id": "6bd26c38-9d04-4aac-8ae3-e85188a77ba3",
   "metadata": {},
   "outputs": [],
   "source": [
    "rf_acc_score = accuracy_score(y_test, y_pred)\n",
    "print(f\"Accuracy report: \\n {rf_acc_score}\")"
   ]
  },
  {
   "cell_type": "markdown",
   "id": "ec52517e-a971-41cf-ac13-0b3acfa9fc5f",
   "metadata": {},
   "source": [
    "__Observations__\n",
    "\n",
    "- The output showed an accuracy of `99.27%` with no wrong prediction."
   ]
  },
  {
   "cell_type": "markdown",
   "id": "827c8a33-3835-4909-99c8-2584131773b4",
   "metadata": {},
   "source": [
    "## <font color=\"blue\">Support Vector Machine (SVM)</font>\n",
    "\n",
    "-  SVM aims to find an optimal hyperplane that separates different classes in the feature space.\n",
    "-  In a binary classification problem (as with the banknotes), this hyperplane acts as a decision boundary, dividing the data points into two distinct classes"
   ]
  },
  {
   "cell_type": "markdown",
   "id": "1eb99104-2407-4b5c-9c14-7bc539f6d3c3",
   "metadata": {},
   "source": [
    "__Create model__"
   ]
  },
  {
   "cell_type": "code",
   "execution_count": null,
   "id": "c127c247-4e26-4451-867c-62db57e35fc1",
   "metadata": {},
   "outputs": [],
   "source": [
    "svm_estimator = SVC(kernel='poly', degree=8)"
   ]
  },
  {
   "cell_type": "markdown",
   "id": "003f4459-02f0-4645-9e2e-aa47c5d18fef",
   "metadata": {},
   "source": [
    "__Train the model__"
   ]
  },
  {
   "cell_type": "code",
   "execution_count": null,
   "id": "e07525a5-f581-41cb-89b5-d2b704bdc6af",
   "metadata": {},
   "outputs": [],
   "source": [
    "svm_estimator.fit(X_train, y_train)"
   ]
  },
  {
   "cell_type": "markdown",
   "id": "09604126-a139-4d42-a88d-5ce53228ce09",
   "metadata": {},
   "source": [
    "__Make prediction__"
   ]
  },
  {
   "cell_type": "code",
   "execution_count": null,
   "id": "a7b9e621-118d-4846-8160-66eefe3b49e1",
   "metadata": {},
   "outputs": [],
   "source": [
    "y_pred = svm_estimator.predict(X_test) "
   ]
  },
  {
   "cell_type": "markdown",
   "id": "bb49bd5b-c729-4463-a3c5-d404bd0fddd1",
   "metadata": {},
   "source": [
    "__Evaluate the model__"
   ]
  },
  {
   "cell_type": "code",
   "execution_count": null,
   "id": "66e75cea-901a-4298-8b28-534ea903ba2d",
   "metadata": {},
   "outputs": [],
   "source": [
    "svm_class_rep = classification_report(y_test, y_pred)\n",
    "print(f\"Classification report: \\n {svm_class_rep}\")"
   ]
  },
  {
   "cell_type": "code",
   "execution_count": null,
   "id": "930d62d8-7612-4fbc-bae0-882dda0f449c",
   "metadata": {},
   "outputs": [],
   "source": [
    "svm_conf_mat = confusion_matrix(y_test, y_pred)\n",
    "svm_disp = ConfusionMatrixDisplay(confusion_matrix=svm_conf_mat, display_labels=[0, 1]) \n",
    "svm_disp.plot();"
   ]
  },
  {
   "cell_type": "code",
   "execution_count": null,
   "id": "73605146-72c4-4116-97af-f265155a775c",
   "metadata": {},
   "outputs": [],
   "source": [
    "svm_acc_score = accuracy_score(y_test, y_pred)\n",
    "print(f\"Accuracy report: \\n {svm_acc_score}\")"
   ]
  },
  {
   "cell_type": "markdown",
   "id": "29f94faa-2c3f-4389-a5a0-ec1bdd44a9ee",
   "metadata": {},
   "source": [
    "__Observations__\n",
    "\n",
    "- The output showed an accuracy of `70.90%` with 4 wrong prediction."
   ]
  },
  {
   "cell_type": "markdown",
   "id": "894e95e9-0225-4784-b592-f71e33c27bfb",
   "metadata": {},
   "source": [
    "## <font color=\"blue\">K-Nearest Neighbors (KNN)</font>\n",
    "\n",
    "- KNN calculates distances between a new instance and existing instances in the training set to identify the k-nearest neighbors.\n",
    "- It predicts the class label of a new data point based on the majority class of its 'k' nearest neighbors in the training data.\n",
    "- One of the key parameters is `n_neighbors`, i.e., the number of neighbors (`k`) to consider."
   ]
  },
  {
   "cell_type": "markdown",
   "id": "228d73aa-cb03-4444-a4a6-99d01cb0b39b",
   "metadata": {},
   "source": [
    "__Create model__"
   ]
  },
  {
   "cell_type": "code",
   "execution_count": null,
   "id": "11ee526e-764e-4599-bead-4e0aed2d37d2",
   "metadata": {},
   "outputs": [],
   "source": [
    "knn_estimator = KNeighborsClassifier(n_neighbors=2)"
   ]
  },
  {
   "cell_type": "markdown",
   "id": "2b635e87-99fb-46c8-8260-aba8016df40c",
   "metadata": {},
   "source": [
    "__Train the model__"
   ]
  },
  {
   "cell_type": "code",
   "execution_count": null,
   "id": "6e7af99b-d67c-4edf-9543-137b6c7fb3c4",
   "metadata": {},
   "outputs": [],
   "source": [
    "knn_estimator.fit(X_train, y_train)"
   ]
  },
  {
   "cell_type": "markdown",
   "id": "451136e4-e99c-4314-99ae-51bb5c87162d",
   "metadata": {},
   "source": [
    "__Make prediction__"
   ]
  },
  {
   "cell_type": "code",
   "execution_count": null,
   "id": "548438bc-6c76-49a8-8489-d1316e12def3",
   "metadata": {},
   "outputs": [],
   "source": [
    "y_pred = knn_estimator.predict(X_test) "
   ]
  },
  {
   "cell_type": "markdown",
   "id": "7548f85a-dadf-49d6-b815-612e5e3e5e73",
   "metadata": {},
   "source": [
    "__Evaluate the model__"
   ]
  },
  {
   "cell_type": "code",
   "execution_count": null,
   "id": "1579e87f-a5eb-422a-9a7f-07b098d14328",
   "metadata": {},
   "outputs": [],
   "source": [
    "knn_class_rep = classification_report(y_test, y_pred)\n",
    "print(f\"Classification report: \\n {knn_class_rep}\")"
   ]
  },
  {
   "cell_type": "code",
   "execution_count": null,
   "id": "3cb4646f-e993-4952-abc0-ff5f8e443619",
   "metadata": {},
   "outputs": [],
   "source": [
    "knn_conf_mat = confusion_matrix(y_test, y_pred)\n",
    "knn_disp = ConfusionMatrixDisplay(confusion_matrix=knn_conf_mat, display_labels=[0, 1]) \n",
    "knn_disp.plot();"
   ]
  },
  {
   "cell_type": "code",
   "execution_count": null,
   "id": "450644b6-3d9f-4fb3-9c71-507d43da6980",
   "metadata": {},
   "outputs": [],
   "source": [
    "knn_acc_score = accuracy_score(y_test, y_pred)\n",
    "print(f\"Accuracy report: \\n {knn_acc_score}\")"
   ]
  },
  {
   "cell_type": "markdown",
   "id": "7e2b1448-c0ae-4819-89f9-d671be1a933a",
   "metadata": {},
   "source": [
    "__Determine the performance as function of `n_neighbors`__"
   ]
  },
  {
   "cell_type": "code",
   "execution_count": null,
   "id": "1f407d97-6cb4-4db3-98ff-e9d57f9ff4b5",
   "metadata": {},
   "outputs": [],
   "source": [
    "knn_errors = list()\n",
    "num_neighbors = 50\n",
    "for k in range(1, num_neighbors):\n",
    "    knn = KNeighborsClassifier(n_neighbors=k)\n",
    "    knn.fit(X_train, y_train)\n",
    "    y_test_pred = knn.predict(X_test)\n",
    "    error = np.mean(y_test_pred != y_test)\n",
    "    knn_errors.append(error) \n",
    "    #print(f\"k = {k:03} Error = {error:.05f}\")"
   ]
  },
  {
   "cell_type": "code",
   "execution_count": null,
   "id": "b63db2e6-29e2-4616-bc85-c8f82abe4ec1",
   "metadata": {},
   "outputs": [],
   "source": [
    "plt.figure(figsize=(12, 6))\n",
    "plt.plot(range(1, num_neighbors), knn_errors, \n",
    "         color='red', linestyle='dashed', \n",
    "         marker='o',\n",
    "         markerfacecolor='blue', \n",
    "         markersize=10)\n",
    "plt.title(r'Error as function of $k$')\n",
    "plt.xlabel('Number of neighbors (k)')\n",
    "plt.ylabel('Mean Error');"
   ]
  },
  {
   "cell_type": "markdown",
   "id": "37bf0f5b-1ace-494c-b2c2-854783689f0f",
   "metadata": {},
   "source": [
    "__Observations__\n",
    "\n",
    "- The maximum value of `k` to for an accurate prediction is 18."
   ]
  },
  {
   "cell_type": "code",
   "execution_count": null,
   "id": "79f3df11-20e2-4587-babc-7287b4c40c06",
   "metadata": {},
   "outputs": [],
   "source": []
  },
  {
   "cell_type": "markdown",
   "id": "c333f96e-5b93-455f-ad51-14298af5acc0",
   "metadata": {},
   "source": [
    "# <font color=\"red\">References</font>\n",
    "\n",
    "- [Banknote Authentication using Machine Learning Algorithms](https://www.coditude.com/insights/banknote-authentication-using-machine-learning-algorithms/)\n",
    "- [Comparative Analysis Of Machine Learning Based Bank Note Authentication Through Variable Selection](https://nhsjs.com/2023/comparative-analysis-of-machine-learning-based-bank-note-authentication-through-variable-selection/) by Rick Nie."
   ]
  }
 ],
 "metadata": {
  "kernelspec": {
   "display_name": "Python 3 (ipykernel)",
   "language": "python",
   "name": "python3"
  },
  "language_info": {
   "codemirror_mode": {
    "name": "ipython",
    "version": 3
   },
   "file_extension": ".py",
   "mimetype": "text/x-python",
   "name": "python",
   "nbconvert_exporter": "python",
   "pygments_lexer": "ipython3",
   "version": "3.12.7"
  }
 },
 "nbformat": 4,
 "nbformat_minor": 5
}
