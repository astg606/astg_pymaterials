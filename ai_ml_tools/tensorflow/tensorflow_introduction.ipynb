{
 "cells": [
  {
   "cell_type": "markdown",
   "metadata": {},
   "source": [
    "<center>\n",
    "<table>\n",
    "  <tr>\n",
    "    <td><img src=\"https://portal.nccs.nasa.gov/datashare/astg/training/python/logos/nasa-logo.svg\" width=\"100\"/> </td>\n",
    "     <td><img src=\"https://portal.nccs.nasa.gov/datashare/astg/training/python/logos/ASTG_logo.png?raw=true\" width=\"80\"/> </td>\n",
    "     <td> <img src=\"https://www.nccs.nasa.gov/sites/default/files/NCCS_Logo_0.png\" width=\"130\"/> </td>\n",
    "    </tr>\n",
    "</table>\n",
    "</center>\n",
    "\n",
    "        \n",
    "<center>\n",
    "<h1><font color= \"blue\" size=\"+3\">ASTG Python Courses</font></h1>\n",
    "</center>\n",
    "\n",
    "---\n",
    "\n",
    "<center>\n",
    "    <h1><font color=\"red\">Introduction to Tensorflow</font></h1>\n",
    "</center>"
   ]
  },
  {
   "cell_type": "markdown",
   "metadata": {},
   "source": [
    "## <font color=\"red\">Objective</font> <a class=\"anchor\" id=\"sec_obj\"></a>\n",
    "\n",
    "The objective if this presentation is to provide an overview TensorFlow. We use a web application to test simple TensorFlow models for classification and regression problems. \n",
    "\n",
    "\n",
    "__Target audience:__\n",
    "\n",
    "This document is meant for people who want to start building their own AI/ML models with TensorFlow."
   ]
  },
  {
   "cell_type": "markdown",
   "metadata": {},
   "source": [
    "# <font color=\"red\">What is TensorFlow?</font> <a class=\"anchor\" id=\"sec_tf_what\"></a>\n",
    "\n",
    "TensorFlow is an open-source library for numerical computation and large-scale machine learning that ease `Google Brain TensorFlow`, the process of acquiring data, training models, serving predictions, and refining future results.\n",
    "\n",
    "- It bundles together Machine Learning and Deep Learning models and algorithms.\n",
    "- The name `TensorFlow` is derived from the operations which neural networks perform on multidimensional data arrays or `tensors`! It’s literally a flow of tensors.\n",
    "- It uses Python to provide a convenient front-end API for building applications with the framework, while executing those applications in high-performance C++.\n",
    "- It can train and run neural networks for applications such as handwritten digit classification, image recognition, word embeddings, sequence-to-sequence models for machine translation, natural language processing, and partial differential equations based simulations.\n",
    "- It supports both CPUs and GPUs computing devices."
   ]
  },
  {
   "cell_type": "markdown",
   "metadata": {},
   "source": [
    "### <font color=\"blue\">How Does it Work?</font>\n",
    "\n",
    "- TensorFlow accepts inputs as a multi-dimensional array called a Tensor. \n",
    "- TensorFlow allows developers to create a dataflow graph of computations to perform. \n",
    "   - Nodes in the graph represent mathematical operations (add, substract, multiply, etc.).\n",
    "   - Connections (edges) represent data which usually are multidimensional data arrays or tensors, that are communicated between these edges.\n",
    "  - Once you have the graph, the execution can be enabled either on regular CPUs or GPUs, or distributed across several of them so that the processing becomes much faster.\n",
    "- We use `Keras`, a high-level API of the TensorFlow platform, to cover every step of the machine learning workflow, from data processing to hyperparameter tuning to deployment.  "
   ]
  },
  {
   "cell_type": "markdown",
   "metadata": {},
   "source": [
    "The main APIs of `Keras` are:\n",
    "\n",
    "1. __Models__: enables one to construct a model with varying levels of complexity depending on use case. We will use the Functional API subclass.\n",
    "2. __Layers__: Allows one to define the tensor in/tensor out computation functions.\n",
    "3. __Callback__: Enables one to program specific actions to occur during training, such as log training metrics, visualize interim/internal states and statistics of the model during training, and perform early stopping when the model converges.\n",
    "4. __Data preprocessing__: Offers support for prepping raw data from disk to model ready Tensor format.\n",
    "5. __Optimizer__: Plug in the optimizers. \n",
    "6. __Metrics__: Is used for assessing the performance of the model during training. A metric is the target to optimize during training, with specific metrics chosen for specific modeling objectives.\n",
    "7. __Loss__: Informs the model quantitatively how much it should try to minimize during training by providing a measure of error. Similar to metrics, specific loss functions are selected for specific modeling objectives."
   ]
  },
  {
   "cell_type": "markdown",
   "metadata": {},
   "source": [
    "### <font color=\"blue\">Some Examples</font>\n",
    "#### Example 1: TensorFlow Graph I\n",
    "\n",
    "Consider the expression:\n",
    "\n",
    "```python\n",
    "    a = (b + c) * (c + 2)\n",
    "```\n",
    "\n",
    "We can break this down into:\n",
    "\n",
    "```python \n",
    "    d = b + c\n",
    "    e = c + 2\n",
    "    a = d * e\n",
    "```\n",
    "\n",
    "Now we can represent these operations graphically as:\n",
    "\n",
    "![fig_gr1](https://miro.medium.com/v2/resize:fit:592/format:webp/0*rw-H_n8wxuO2-O5l)\n",
    "\n",
    "\n",
    "Note that the operations `d = b + c` and `e = c + 2` can be performed in parallel: potential of distributing such calcultions across CPUs or GPUs."
   ]
  },
  {
   "cell_type": "markdown",
   "metadata": {},
   "source": [
    "#### Example 2: TensorFlow Graph II\n",
    "\n",
    "The graph below shows the computational graph of a three-layer neural network.\n",
    "The animated data flows between different nodes in the graph are tensors which are multi-dimensional data arrays. \n",
    "\n",
    "\n",
    "![fig_gr2](https://www.googleapis.com/download/storage/v1/b/kaggle-user-content/o/inbox%2F4845653%2F7ee42c9c96a7368ad1d99a07290370be%2FTensorFlow-data-flow-graph.gif?generation=1596742792021006&alt=media)"
   ]
  },
  {
   "cell_type": "markdown",
   "metadata": {},
   "source": [
    "#### Example 3: TensorFlow Graph III\n",
    "\n",
    "\n",
    "![fig_gr3](https://miro.medium.com/max/1838/1*aOYUa3hHKi9HlYnnFAipUQ.gif)\n",
    "Image Source: [medium.com](https://medium.com/the-artificial-impostor/notes-understanding-tensorflow-part-1-5f0ebb253ad4)"
   ]
  },
  {
   "cell_type": "markdown",
   "metadata": {},
   "source": [
    "# <font color=\"red\">TensorFlow Neural NetWork Playground<font>\n",
    "\n",
    "- The TensorFlow Neural Network Playground is a browser-based, interactive tool that allows users to visualize and experiment with neural networks without needing to write code, helping to understand how different hyperparameters affect model performance.\n",
    "- It's designed to be an educational tool for learning about neural networks, allowing users to explore concepts like hyperparameters, activation functions, and regularization. \n",
    "- Users can adjust various settings, such as the number of layers, neurons, learning rate, and activation functions, and see how these changes affect the model's ability to learn and classify data.\n",
    "- The tool is designed for users who are new to neural networks or machine learning, as it doesn't require any coding knowledge to use.\n",
    "\n",
    "Let us access the tool and play with it:\n",
    "\n",
    "[https://playground.tensorflow.org/](https://playground.tensorflow.org/)\n",
    "\n"
   ]
  },
  {
   "cell_type": "markdown",
   "metadata": {},
   "source": [
    "## <font color=\"font\">Useful References</font> <a class=\"anchor\" id=\"sec_docs\"></a>\n",
    "\n",
    "- Ayush Pandey, _[Python Tensorflow- Build a Neural Network](https://www.kaggle.com/discussions/getting-started/172887)_, kaggle.com.\n",
    "- Dino Causevic, _[Getting Started with TensorFlow: A Machine Learning Tutorial](https://www.toptal.com/machine-learning/tensorflow-machine-learning-tutorial)_, toptal.com.\n",
    "- _[Basic regression: Predict fuel efficiency](https://www.tensorflow.org/tutorials/keras/regression)_, tensorflow.org.\n",
    "- Usman Malik, _[Tensorflow 2.0: Solving Classification and Regression Problems](https://stackabuse.com/tensorflow-2-0-solving-classification-and-regression-problems)_, stackabuse.com."
   ]
  },
  {
   "cell_type": "code",
   "execution_count": null,
   "metadata": {},
   "outputs": [],
   "source": []
  }
 ],
 "metadata": {
  "kernelspec": {
   "display_name": "Python 3 (ipykernel)",
   "language": "python",
   "name": "python3"
  },
  "language_info": {
   "codemirror_mode": {
    "name": "ipython",
    "version": 3
   },
   "file_extension": ".py",
   "mimetype": "text/x-python",
   "name": "python",
   "nbconvert_exporter": "python",
   "pygments_lexer": "ipython3",
   "version": "3.12.7"
  }
 },
 "nbformat": 4,
 "nbformat_minor": 4
}
