{
 "cells": [
  {
   "cell_type": "markdown",
   "metadata": {},
   "source": [
    "<center>\n",
    "<table>\n",
    "  <tr>\n",
    "    <td><img src=\"https://portal.nccs.nasa.gov/datashare/astg/training/python/logos/nasa-logo.svg\" width=\"100\"/> </td>\n",
    "     <td><img src=\"https://portal.nccs.nasa.gov/datashare/astg/training/python/logos/ASTG_logo.png?raw=true\" width=\"80\"/> </td>\n",
    "     <td> <img src=\"https://www.nccs.nasa.gov/sites/default/files/NCCS_Logo_0.png\" width=\"130\"/> </td>\n",
    "    </tr>\n",
    "</table>\n",
    "</center>\n",
    "\n",
    "        \n",
    "<center>\n",
    "<h1><font color= \"blue\" size=\"+3\">ASTG Python Courses</font></h1>\n",
    "</center>\n",
    " \n",
    "---\n",
    "\n",
    "<CENTER>\n",
    "<H1 style=\"color:red\">\n",
    "Code Optimization Techniques\n",
    "</H1>\n",
    "</CENTER>"
   ]
  },
  {
   "cell_type": "markdown",
   "metadata": {},
   "source": [
    "## <font color='red'>Objectives</font>\n",
    "\n",
    "We want to present techniques to consider to speed up Python applications. We will cover the following topics:\n",
    "\n",
    "* Code Profiling\n",
    "* Import Statement Overhead\n",
    "* Functions\n",
    "* Loop Optimization\n",
    "* String Manipulation\n",
    "* Numerical Code"
   ]
  },
  {
   "cell_type": "markdown",
   "metadata": {},
   "source": [
    "## <font color='red'>Reference Documents</font>\n",
    "\n",
    "- [Essential Python Code Optimization Tips and Tricks](https://www.techbeamers.com/python-code-optimization-tips-tricks/)\n",
    "- [Python Speed/Performance Tips](https://wiki.python.org/moin/PythonSpeed/PerformanceTips)\n",
    "- [Python Practices for Efficient Code: Performance, Memory, and Usability](https://www.codementor.io/@satwikkansal/python-practices-for-efficient-code-performance-memory-and-usability-aze6oiq65)\n",
    "- [9 tips to improve Python performance](https://www.theserverside.com/tip/Tips-to-improve-Python-performance)\n",
    "- [Optimizing Conditional Statements in Python](https://debugpointer.com/python/optimize-conditional-statements-python)"
   ]
  },
  {
   "cell_type": "markdown",
   "metadata": {},
   "source": [
    "## <font color='red'>Introduction</font>\n",
    "\n",
    "When we write a Python code, we typically leave many details to the runtime environment, such as:\n",
    "\n",
    "- specifying variable types\n",
    "- memory allocation/deallocation\n",
    "- etc.\n",
    "\n",
    "Python is typically faster to write, less error-prone and easier to debug. It is more efficient to write code in high productivity languages such as Python\n",
    "\n",
    "However, it is harder to optimize in Python compared to compiled languages like C and Fortran. "
   ]
  },
  {
   "cell_type": "markdown",
   "metadata": {},
   "source": [
    "### <font color=\"blue\">Understanding Python Limitations</font>\n",
    "\n",
    "We want to present the Python fautures that make the language slow."
   ]
  },
  {
   "cell_type": "markdown",
   "metadata": {},
   "source": [
    "#### Dynamic Typing\n",
    "\n",
    "Python is a dynamically typed language, which means that variables do not need to be declared with a specific data type before they are used.\n",
    "\n",
    "Simple operations such as:\n",
    "\n",
    "```python\n",
    "a, b = 9.0, -6\n",
    "c = a + b\n",
    "\n",
    "a, b = \"Python \", \"Course\"\n",
    "c = a + b\n",
    "\n",
    "a, b = [\"Python \"], [\"Course\"]\n",
    "c = a + b\n",
    "```\n",
    "\n",
    "lead the Python interpreter to decide which operation to invoke. Are we dealing with floating point numbers, strings, list, etc.? \n",
    "\n",
    "- Python must check the type of the objects and then call the correct operation.\n",
    "- We then have significant overheads."
   ]
  },
  {
   "cell_type": "markdown",
   "metadata": {},
   "source": [
    "#### Garbage Collection\n",
    "\n",
    "- Garbage collection is an automatic memory management feature in Python that helps manage the allocation and deallocation of memory in a program.\n",
    "- Python's garbage collector works by periodically scanning memory for objects that are no longer being used and freeing up the memory they were occupying.\n",
    "    - This process can potentially cause performance issues, as the garbage collector can consume a significant amount of system resources during its scans.\n",
    "- Python's garbage collector may not always free up memory immediately when an object is no longer being used, which can result in memory leaks if the program continues to consume memory over time. This can be especially problematic for long-running programs or applications that process large amounts of data."
   ]
  },
  {
   "cell_type": "markdown",
   "metadata": {},
   "source": [
    "#### Memory Usage\n",
    "\n",
    "- Due to its dynamic typing and garbage collection mechanisms, Python uses more memory than some other programming languages.\n",
    "- This can be an issue when working with large datasets or complex algorithms."
   ]
  },
  {
   "cell_type": "markdown",
   "metadata": {},
   "source": [
    "### Our Goal\n",
    "\n",
    "We want to write Python codes that have the following features:\n",
    "\n",
    "* Can run and produce the expected results\n",
    "* Easy to maintain: readable, reusable, shareable\n",
    "* **<font color='blue'>Use as less memory as possible</font>**\n",
    "* **<font color='blue'>Run fast</font>**"
   ]
  },
  {
   "cell_type": "markdown",
   "metadata": {},
   "source": [
    "## <font color='red'>Things to Consider </font>\n",
    "\n",
    "When you write a Python code:\n",
    "\n",
    "* Write simple functions that do as little work as possible.\n",
    "* Follow the Python coding standards\n",
    "* Properly document your code\n",
    "* Write your code as a package even if you do not plan to deploy it. "
   ]
  },
  {
   "cell_type": "markdown",
   "metadata": {},
   "source": [
    "We also need to have the following in mind:\n",
    "\n",
    "* Computing resources are expensive and limited.\n",
    "* Optimization is important in reducing operational costs in terms of storage, memory, or computing power.\n",
    "\n",
    "**Here, we are interested in identifying techniques to speed up Python codes and reduce the memory footprint.**"
   ]
  },
  {
   "cell_type": "markdown",
   "metadata": {},
   "source": [
    "## <font color='red'>Profile Your Code </font>\n",
    "\n",
    "* Before we can optimize our code, it has to be working!\n",
    "* Profiling a code is to analyze its performance in order to identify how it performs in various situations and the areas where improvement might be needed.\n",
    "* Profiling enables us to identify the amount of time that a program takes or the amount of memory it uses. "
   ]
  },
  {
   "cell_type": "markdown",
   "metadata": {},
   "source": [
    "### timeit Module\n",
    "\n",
    "* The module `timeit` records the time a **small segment** of your code takes for execution.\n",
    "* It measures the time elapsed in milliseconds.\n",
    "* It has both command line as well as callable interfaces.\n",
    "* It reduces the impact of startup or shutdown costs on the time calculation by executing the code repeatedly. It displays the minimum amount of time it took to run the piece of code.\n",
    "\n",
    "\n",
    "The syntax when you use `timeit` as a function is:\n",
    "\n",
    "```python\n",
    "   timeit.timeit(code_statement, setup, timer, number)\n",
    "```\n",
    "\n",
    "where:\n",
    " \n",
    "- `code_statement`: Code statement (as string) for which you want to measure the execution time. The default value is \"pass\".\n",
    "- `setup`: Setup details that need to be executed before `code_statement`. The default value is \"pass.\"\n",
    "- `timer`: Timer value, `timeit()` already has a default value set, and we can ignore it.\n",
    "- `number`: The number of times `code_statement` will execute. The default value is 1000000."
   ]
  },
  {
   "cell_type": "code",
   "execution_count": null,
   "metadata": {},
   "outputs": [],
   "source": [
    "import numpy as np\n",
    "import timeit"
   ]
  },
  {
   "cell_type": "code",
   "execution_count": null,
   "metadata": {},
   "outputs": [],
   "source": [
    "num = 100000\n",
    "a = np.arange(num)"
   ]
  },
  {
   "cell_type": "code",
   "execution_count": null,
   "metadata": {},
   "outputs": [],
   "source": [
    "%timeit a ** 2"
   ]
  },
  {
   "cell_type": "code",
   "execution_count": null,
   "metadata": {},
   "outputs": [],
   "source": [
    "%timeit a ** 2.1"
   ]
  },
  {
   "cell_type": "code",
   "execution_count": null,
   "metadata": {},
   "outputs": [],
   "source": [
    "%timeit a * a"
   ]
  },
  {
   "cell_type": "markdown",
   "metadata": {},
   "source": [
    "#### Use the `join` method to concatenate strings"
   ]
  },
  {
   "cell_type": "code",
   "execution_count": null,
   "metadata": {},
   "outputs": [],
   "source": [
    "def simple_string(sub_strings):\n",
    "    final_string = ''\n",
    "    for part in sub_strings:\n",
    "        final_string += part\n",
    "    return final_string\n",
    "\n",
    "def format_string(sub_strings):\n",
    "    final_string = f\"{sub_strings[0]}{sub_strings[1]}{sub_strings[2]}{sub_strings[3]}{sub_strings[4]}{sub_strings[5]}{sub_strings[6]}\"\n",
    "    return final_string\n",
    "\n",
    "def join_string(sub_strings):\n",
    "    return ''.join(sub_strings)"
   ]
  },
  {
   "cell_type": "code",
   "execution_count": null,
   "metadata": {},
   "outputs": [],
   "source": [
    "sub_strings = ['We', ' then', ' introduce', ' profiling', \n",
    "               ' tools', ' that', ' can', ' be', ' used', ' to', \n",
    "               ' identify', ' bottlenecks', ' in', ' Python', ' applications.'\n",
    "              ]"
   ]
  },
  {
   "cell_type": "code",
   "execution_count": null,
   "metadata": {},
   "outputs": [],
   "source": [
    "print('join_string()   Time : ' + \\\n",
    "      str(timeit.timeit('join_string(sub_strings)', \n",
    "                        setup='from __main__ import join_string, sub_strings')))"
   ]
  },
  {
   "cell_type": "code",
   "execution_count": null,
   "metadata": {},
   "outputs": [],
   "source": [
    "print('format_string() Time : '+ \\\n",
    "      str(timeit.timeit('format_string(sub_strings)', \n",
    "                        setup='from __main__ import format_string, sub_strings')))"
   ]
  },
  {
   "cell_type": "code",
   "execution_count": null,
   "metadata": {},
   "outputs": [],
   "source": [
    "print('simple_string() Time : ' + \\\n",
    "      str(timeit.timeit('simple_string(sub_strings)', \n",
    "                        setup='from __main__ import simple_string, sub_strings')))"
   ]
  },
  {
   "cell_type": "markdown",
   "metadata": {},
   "source": [
    "### cprofile Module\n",
    "\n",
    "* Describe how often and how long various parts of Python code are executed\n",
    "\n"
   ]
  },
  {
   "cell_type": "markdown",
   "metadata": {},
   "source": [
    "```python\n",
    "import cProfile\n",
    "import pstats\n",
    "import io\n",
    "\n",
    "pr = cProfile.Profile()\n",
    "pr.enable()       # Start collecting profiling data.\n",
    "# ... do something ...\n",
    "pr.disable()      # Stop collecting profiling data.\n",
    "s = io.StringIO()\n",
    "sortby = 'cumulative'\n",
    "ps = pstats.Stats(pr, stream=s).sort_stats(sortby)\n",
    "ps.print_stats()\n",
    "print(s.getvalue())\n",
    "```"
   ]
  },
  {
   "cell_type": "markdown",
   "metadata": {},
   "source": [
    "        python -m cProfile [-o output_file] [-s sort_order] myscript.py "
   ]
  },
  {
   "cell_type": "markdown",
   "metadata": {},
   "source": [
    "#### Example"
   ]
  },
  {
   "cell_type": "code",
   "execution_count": null,
   "metadata": {},
   "outputs": [],
   "source": [
    "%%writefile  write_sorted.py\n",
    "\"\"\"\n",
    "   Sorting a large, randomly generated string and writing it to disk\n",
    "\"\"\"\n",
    "import random\n",
    "\n",
    "def write_sorted_letters(nb_letters=10**7):\n",
    "    random_string = ''\n",
    "    for i in range(nb_letters):\n",
    "        random_string += random.choice('abcdefghijklmnopqrstuvwxyz')\n",
    "    sorted_string = sorted(random_string)\n",
    "\n",
    "    with open(\"sorted_text.txt\", \"w\") as sorted_text:\n",
    "         for character in sorted_string:\n",
    "             sorted_text.write(character)\n",
    "\n",
    "if __name__ == '__main__':\n",
    "    write_sorted_letters()"
   ]
  },
  {
   "cell_type": "code",
   "execution_count": null,
   "metadata": {},
   "outputs": [],
   "source": [
    "%run -t write_sorted.py"
   ]
  },
  {
   "cell_type": "markdown",
   "metadata": {},
   "source": [
    "From the command line:\n",
    "\n",
    "```shell\n",
    "   python -m cProfile -s tottime write_sorted.py\n",
    "```"
   ]
  },
  {
   "cell_type": "markdown",
   "metadata": {},
   "source": [
    "## <font color='red'>Multiple Assignments</font>\n",
    "\n",
    "Python has an elegant way to assign the values of multiple variables.\n",
    "\n",
    "```python\n",
    "a, p, b, g, s, f, c = 'Advanced', 'Python', 'Bootcamp', 'Goddard',  'Space', 'Flight', 'Center'\n",
    "```\n",
    "\n",
    "You can use this method to swap the values of variables.\n",
    "\n",
    "```python\n",
    "x, y = y, x\n",
    "```\n",
    "\n",
    "This approach is much quicker and cleaner than:\n",
    "\n",
    "```python\n",
    "temp = x \n",
    "x = y\n",
    "y = temp\n",
    "```"
   ]
  },
  {
   "cell_type": "markdown",
   "metadata": {},
   "source": [
    "## <font color='red'>Optimize `if` Statements</font>\n",
    "\n",
    "Optimized conditional statements offer several benefits, including:\n",
    "\n",
    "- __Improved Code Efficiency__: Optimized conditionals reduce unnecessary computations and streamline the execution flow, leading to faster code execution and improved performance.\n",
    "- __Enhanced Readability__: Well-optimized conditional statements result in cleaner and more concise code, making it easier to understand and maintain.\n",
    "- __Better Code Maintainability__: By simplifying complex conditions and removing redundant checks, you can create code that is easier to update and modify in the future.\n",
    "\n",
    "Minimizing the number of `if` statements or optimizing their structure can improve code performance. Use early returns when possible to avoid unnecessary condition checking.\n",
    "\n",
    "\n",
    "#### Non-optimized code\n",
    "```python\n",
    "def process_data(data):\n",
    "    if data:\n",
    "        # Perform some operation\n",
    "    else:\n",
    "        # Handle the empty data case\n",
    "```\n",
    "\n",
    "#### Optimized code\n",
    "```python\n",
    "def process_data(data):\n",
    "    if not data:\n",
    "        # Handle the empty data case\n",
    "        return\n",
    "    \n",
    "    # Perform some operation\n",
    "```\n",
    "\n",
    "In the optimized code, the function avoids the need to check the data condition twice and simplifies the code flow."
   ]
  },
  {
   "cell_type": "markdown",
   "metadata": {},
   "source": [
    "## <font color='red'>Import Statement Overhead</font>\n",
    "\n",
    "* **import** statements can be executed just about anywhere\n",
    "* For code readbility, it is preferable to include **import** statements on top of the file only.\n",
    "* May need to place them inside functions to restrict their visibility and/or reduce initial startup time\n",
    "* Repeatedly executing an **import** statement can seriously affect performance.\n",
    "\n",
    "To check unused imports in a Python file, consider using <a href=\"http://pylint.pycqa.org/en/latest/\">Pylint</a>."
   ]
  },
  {
   "cell_type": "markdown",
   "metadata": {},
   "source": [
    "Import statement inside function:"
   ]
  },
  {
   "cell_type": "code",
   "execution_count": null,
   "metadata": {},
   "outputs": [],
   "source": [
    "def import_inside():\n",
    "    import numpy as np\n",
    "    a = np.array(range(2000))"
   ]
  },
  {
   "cell_type": "markdown",
   "metadata": {},
   "source": [
    "Import statement outside function:"
   ]
  },
  {
   "cell_type": "code",
   "execution_count": null,
   "metadata": {},
   "outputs": [],
   "source": [
    "import numpy as np\n",
    "def import_outside():\n",
    "    a = np.array(range(2000))"
   ]
  },
  {
   "cell_type": "code",
   "execution_count": null,
   "metadata": {},
   "outputs": [],
   "source": [
    "t1 = timeit.Timer(setup='from __main__ import import_inside', stmt='import_inside()')\n",
    "t1.timeit()"
   ]
  },
  {
   "cell_type": "code",
   "execution_count": null,
   "metadata": {},
   "outputs": [],
   "source": [
    "t2 = timeit.Timer(setup='from __main__ import import_outside', stmt='import_outside()')\n",
    "t2.timeit()"
   ]
  },
  {
   "cell_type": "markdown",
   "metadata": {},
   "source": [
    "* For a function that needs to import modules, introduce conditional statements (as far as possible) so that the **import** statements are executed once."
   ]
  },
  {
   "cell_type": "markdown",
   "metadata": {},
   "source": [
    "```python\n",
    "email = None\n",
    "\n",
    "def parse_email():\n",
    "    global email\n",
    "    if email is None:\n",
    "        import email\n",
    "    ...\n",
    "```"
   ]
  },
  {
   "cell_type": "markdown",
   "metadata": {},
   "source": [
    "## <font color='red'>Functions</font>\n",
    "* Function call overhead in Python is relatively high.\n",
    "* Use built-in functions and libraries if they exist instead of creating your own.\n",
    "* Functions should handle data aggregate."
   ]
  },
  {
   "cell_type": "code",
   "execution_count": null,
   "metadata": {},
   "outputs": [],
   "source": [
    "num = 10000000"
   ]
  },
  {
   "cell_type": "code",
   "execution_count": null,
   "metadata": {},
   "outputs": [],
   "source": [
    "import time\n",
    "x = 0\n",
    "def do_it_one_item(i):\n",
    "    global x\n",
    "    x = x + i\n",
    "\n",
    "t = time.time()\n",
    "for i in range(num):\n",
    "    do_it_one_item(i)\n",
    "\n",
    "print(f\"Time for do_it_one_item: {time.time()-t:.4f}\")"
   ]
  },
  {
   "cell_type": "code",
   "execution_count": null,
   "metadata": {},
   "outputs": [],
   "source": [
    "x = 0\n",
    "def do_it_list(my_list):\n",
    "    global x\n",
    "    for i in my_list:\n",
    "        x = x + i\n",
    "\n",
    "t = time.time()\n",
    "do_it_list(range(num))\n",
    "\n",
    "print(f\"Time for do_it_list: {time.time()-t:.4f}\")"
   ]
  },
  {
   "cell_type": "markdown",
   "metadata": {},
   "source": [
    "## <font color='red'>Loop Optimization</font>\n",
    "\n",
    "`for` loop can add a substantial amount of the overhead"
   ]
  },
  {
   "cell_type": "markdown",
   "metadata": {},
   "source": [
    "### List Comprehension"
   ]
  },
  {
   "cell_type": "markdown",
   "metadata": {},
   "source": [
    "#### Avoid\n",
    "\n",
    "```python\n",
    "new_list = list()\n",
    "for word in old_list:\n",
    "    new_list.append(word.upper())\n",
    "```\n",
    "    \n",
    "#### Better\n",
    "\n",
    "```python\n",
    "new_list = map(str.upper, old_list)\n",
    "new_list = [s.upper() for s in old_list]\n",
    "```"
   ]
  },
  {
   "cell_type": "markdown",
   "metadata": {},
   "source": [
    "### Initializing Dictionary Elements"
   ]
  },
  {
   "cell_type": "markdown",
   "metadata": {},
   "source": [
    "#### Bad\n",
    "\n",
    "```python\n",
    "wdict = dict()\n",
    "for word in words:\n",
    "    if word not in wdict:\n",
    "        wdict[word] = 0\n",
    "    wdict[word] += 1\n",
    "```\n",
    "\n",
    "#### Better\n",
    "\n",
    "```python\n",
    "wdict = dict()\n",
    "for word in words:\n",
    "    try:\n",
    "        wdict[word] += 1\n",
    "    except KeyError:\n",
    "        wdict[word] = 1\n",
    "```"
   ]
  },
  {
   "cell_type": "markdown",
   "metadata": {},
   "source": [
    "### Examples"
   ]
  },
  {
   "cell_type": "code",
   "execution_count": null,
   "metadata": {},
   "outputs": [],
   "source": [
    "import timeit\n",
    "import itertools\n",
    "\n",
    "def update_zips(new_zipcodes, zipcodes):\n",
    "    for zipcode in new_zipcodes:\n",
    "        zipcodes.append(zipcode.strip())\n",
    "\n",
    "def update_zips_with_map(new_zipcodes, zipcodes):\n",
    "    zipcodes += map(str.strip, new_zipcodes)\n",
    "\n",
    "def update_zips_with_list_com(new_zipcodes, zipcodes):\n",
    "    zipcodes += [iter.strip() for iter in new_zipcodes]\n",
    "\n",
    "def update_zips_with_gen_exp(new_zipcodes, zipcodes):\n",
    "    return itertools.chain(zipcodes, (iter.strip() for iter in new_zipcodes))"
   ]
  },
  {
   "cell_type": "code",
   "execution_count": null,
   "metadata": {},
   "outputs": [],
   "source": [
    "new_zipcodes = ['  131313 ', ' 242424   ', ' 212121 ', '  323232', '342312  ', ' 565656 ',\n",
    "                '20588    ', '   20601  ', '  20602 ', ' 20603  ', '   20603', ' 20604  ',\n",
    "                ' 21588   ', '  21601   ', '   21602', '  21603 ', '  21603 ', ' 21604  ',\n",
    "               ]"
   ]
  },
  {
   "cell_type": "code",
   "execution_count": null,
   "metadata": {},
   "outputs": [],
   "source": [
    "zipcodes = ['121212', '232323', '434334']\n",
    "print('update_zips() Time: ' + \\\n",
    "      str(timeit.timeit('update_zips(new_zipcodes, zipcodes)', \n",
    "                        setup='from __main__ import update_zips, new_zipcodes, zipcodes')))"
   ]
  },
  {
   "cell_type": "code",
   "execution_count": null,
   "metadata": {},
   "outputs": [],
   "source": [
    "zipcodes = ['121212', '232323', '434334']\n",
    "print('update_zips_with_mapp() Time: ' + \\\n",
    "      str(timeit.timeit('update_zips_with_map(new_zipcodes, zipcodes)', \n",
    "                        setup='from __main__ import update_zips_with_map, new_zipcodes, zipcodes')))"
   ]
  },
  {
   "cell_type": "code",
   "execution_count": null,
   "metadata": {},
   "outputs": [],
   "source": [
    "zipcodes = ['121212', '232323', '434334']\n",
    "print('update_zips_with_list_com() Time : ' + \\\n",
    "      str(timeit.timeit('update_zips_with_list_com(new_zipcodes, zipcodes)', \n",
    "                        setup='from __main__ import update_zips_with_list_com, new_zipcodes, zipcodes')))"
   ]
  },
  {
   "cell_type": "code",
   "execution_count": null,
   "metadata": {},
   "outputs": [],
   "source": [
    "zipcodes = ['121212', '232323', '434334']\n",
    "print('update_zips_with_gen_exp() Time  : ' + \\\n",
    "      str(timeit.timeit('update_zips_with_gen_exp(new_zipcodes, zipcodes)', \n",
    "                        setup='from __main__ import update_zips_with_gen_exp, new_zipcodes, zipcodes')))"
   ]
  },
  {
   "cell_type": "markdown",
   "metadata": {},
   "source": [
    "## <font color='red'>String Manipulation</font>"
   ]
  },
  {
   "cell_type": "markdown",
   "metadata": {},
   "source": [
    "#### Looking to create a string"
   ]
  },
  {
   "cell_type": "markdown",
   "metadata": {},
   "source": [
    "```python\n",
    "# Avoid\n",
    "s = \"\"\n",
    "for x in list:\n",
    "    s += some_function(x)\n",
    "\n",
    "# Better\n",
    "slist = [some_function(elt) for elt in somelist]\n",
    "s = \"\".join(slist)\n",
    "```"
   ]
  },
  {
   "cell_type": "markdown",
   "metadata": {},
   "source": [
    "### Use string formatting\n",
    "\n",
    "#### Avoid\n",
    "```python\n",
    "out = \"<html>\" + head + prologue + query + tail + \"</html>\"\n",
    "```\n",
    "\n",
    "#### Better\n",
    "\n",
    "```python\n",
    "out = \"<html>{}{}{}{}</html>\".format(head, prologue, query, tail)\n",
    "\n",
    "out = f\"<html>{head}{prologue}{query}{tail}</html>\"\n",
    "```"
   ]
  },
  {
   "cell_type": "markdown",
   "metadata": {},
   "source": [
    "#### Exercise\n",
    "\n",
    "Time each of the for code segments below"
   ]
  },
  {
   "cell_type": "code",
   "execution_count": null,
   "metadata": {},
   "outputs": [],
   "source": [
    "# slow O(n^2) \n",
    "s = 'Advanced Python Bootcamp at Goddard Space Flight Center'\n",
    "slist = '' \n",
    "for i in s: \n",
    "    slist = slist + i \n",
    "print(slist) \n",
    "      \n",
    "# string concatenation (idiomatic and fast O(n)) \n",
    "s = 'Advanced Python Bootcamp at Goddard Space Flight Center'\n",
    "slist = ''.join([i for i in s]) \n",
    "print(slist) \n",
    "  \n",
    "# slow \n",
    "p = ' Python'\n",
    "b = ' Bootcamp'\n",
    "g = ' Goddard'\n",
    "f = ' Flight'\n",
    "c = ' Center'\n",
    "s = 'Advanced'+ p + b +' at' + g + ' Space' + f + c\n",
    "print(s) \n",
    "  \n",
    "# fast \n",
    "v = 'AND'\n",
    "s = f'geeks {v} geeks' \n",
    "s = f'Advanced {p}{b} at {g} Space {f}{c}'\n",
    "print(s) "
   ]
  },
  {
   "cell_type": "markdown",
   "metadata": {},
   "source": [
    "## <font color='red'>Numerical Codes</font>"
   ]
  },
  {
   "cell_type": "markdown",
   "metadata": {},
   "source": [
    "#### List vs NumPy Arrays\n",
    "\n",
    "*  Use NumPy arrays instead of list"
   ]
  },
  {
   "cell_type": "markdown",
   "metadata": {},
   "source": [
    "#### Loops vs Vectorization\n",
    "\n",
    "* Avoid for loops using NumPy arrays\n",
    "* Use array slicing or masks"
   ]
  },
  {
   "cell_type": "markdown",
   "metadata": {},
   "source": [
    "###  In Place Arithmetic"
   ]
  },
  {
   "cell_type": "code",
   "execution_count": null,
   "metadata": {},
   "outputs": [],
   "source": [
    "import numpy as np\n",
    "n = 100000000"
   ]
  },
  {
   "cell_type": "code",
   "execution_count": null,
   "metadata": {},
   "outputs": [],
   "source": [
    "a = np.zeros(n)\n",
    "%timeit global a ; a = 0*a"
   ]
  },
  {
   "cell_type": "code",
   "execution_count": null,
   "metadata": {},
   "outputs": [],
   "source": [
    "a = np.zeros(n)\n",
    "%timeit global a ; a *= 0"
   ]
  },
  {
   "cell_type": "markdown",
   "metadata": {},
   "source": [
    "### Use Views and not Copy \n",
    "\n",
    "* Copying big arrays is as costly as making simple numerical operations on them"
   ]
  },
  {
   "cell_type": "code",
   "execution_count": null,
   "metadata": {},
   "outputs": [],
   "source": [
    "a = np.zeros(n)\n",
    "%timeit a.copy()"
   ]
  },
  {
   "cell_type": "code",
   "execution_count": null,
   "metadata": {},
   "outputs": [],
   "source": [
    "a = np.zeros(n)\n",
    "%timeit a + 1"
   ]
  },
  {
   "cell_type": "markdown",
   "metadata": {},
   "source": [
    "### Cache Effects\n",
    "\n",
    "* Memory access is cheaper when it is grouped\n",
    "* Accessing a big array in a continuous way is much faster than random access\n",
    "* Smaller strides are faster"
   ]
  },
  {
   "cell_type": "code",
   "execution_count": null,
   "metadata": {},
   "outputs": [],
   "source": [
    "n = 20000\n",
    "c = np.zeros((n, n), order='C')\n",
    "\n",
    "%timeit c.sum(axis=0)\n",
    "%timeit c.sum(axis=1)\n",
    "\n",
    "print(c.strides)"
   ]
  },
  {
   "cell_type": "markdown",
   "metadata": {},
   "source": [
    "This is the reason why Fortran ordering or C ordering may make a big difference on operations:"
   ]
  },
  {
   "cell_type": "code",
   "execution_count": null,
   "metadata": {},
   "outputs": [],
   "source": [
    "a = np.random.rand(200, 2**18)\n",
    "\n",
    "b = np.random.rand(200, 2**18)\n",
    "%timeit np.dot(b, a.T)\n",
    "\n",
    "c = np.ascontiguousarray(a.T)\n",
    "%timeit np.dot(b, c)\n",
    "\n",
    "# Note that copying the data to work around this effect \n",
    "# may not be worth it:\n",
    "%timeit c = np.ascontiguousarray(a.T)"
   ]
  },
  {
   "cell_type": "markdown",
   "metadata": {},
   "source": [
    "#### <font color='blue'>Memoization</font>\n",
    "- Memoization is a specific type of caching that optimizes software running speeds. \n",
    "- Some function values are computed over and over again, wasting time and computational resources.\n",
    "- We want to be able to compute each value once and reuse it as needed.\n",
    "- We use the `lru_cache` decorator of the module `functools`.\n",
    "- It enables your function to store already computed values and reuse them when needed again."
   ]
  },
  {
   "cell_type": "code",
   "execution_count": null,
   "metadata": {},
   "outputs": [],
   "source": [
    "def fibonacci(n):\n",
    "    if n < 2:\n",
    "       return 1\n",
    "    return fibonacci(n-1) + fibonacci(n-2)"
   ]
  },
  {
   "cell_type": "code",
   "execution_count": null,
   "metadata": {},
   "outputs": [],
   "source": [
    "import functools\n",
    "\n",
    "@functools.lru_cache(maxsize=128)\n",
    "def fibonacci_cach(n):\n",
    "    if n < 2:\n",
    "       return 1\n",
    "    return fibonacci_cach(n-1) + fibonacci_cach(n-2)"
   ]
  },
  {
   "cell_type": "code",
   "execution_count": null,
   "metadata": {},
   "outputs": [],
   "source": [
    "n = 35"
   ]
  },
  {
   "cell_type": "code",
   "execution_count": null,
   "metadata": {},
   "outputs": [],
   "source": [
    "time_fibonacci_reg = %timeit -o fibonacci(n)"
   ]
  },
  {
   "cell_type": "code",
   "execution_count": null,
   "metadata": {},
   "outputs": [],
   "source": [
    "time_fibonacci_cach = %timeit -o fibonacci_cach(n)"
   ]
  },
  {
   "cell_type": "code",
   "execution_count": null,
   "metadata": {},
   "outputs": [],
   "source": [
    "print(time_fibonacci_reg.best/time_fibonacci_cach.best)"
   ]
  },
  {
   "cell_type": "markdown",
   "metadata": {},
   "source": [
    "## <font color='red'>Memory Optimization</font>"
   ]
  },
  {
   "cell_type": "markdown",
   "metadata": {},
   "source": [
    "__Memory leak__ occurs when memory is allocated to a particular task but is not released upon completion of the process.\n",
    "- When there is memory leak, the application is not running efficiently, the avialbale memory is reduced, and the application may even crash.\n",
    "- One simple way to avoid memory leak is to always close files that are no longer needed."
   ]
  },
  {
   "cell_type": "markdown",
   "metadata": {},
   "source": [
    "We need to understand the memory requirements of data structures:\n",
    "\n",
    "  * __list__: Dynamic array that can grow or shrink as needed. When a list needs to grow beyond its current capacity, Python will allocate a new block of memory, typically larger than the previous one, and copy the existing elements to the new memory location. This process is known as resizing.\n",
    "  * __tuple__: A immutable collection of objects. When one is created, Python allocates a fixed block of memory for it, depending on the size and number of elements.\n",
    "  * __dictionary__: Is implemented as a hash table, which require dynamic memory allocation. When one is created, Python allocates memory for the initial number of elements. If the dictionary grows beyond its capacity, Python will resize the memory and rehash the existing elements to the new memory location.\n",
    "  * __set__: Is similar to a dictionary in terms of memory management. When one is created, Python allocates memory for the initial number of elements. If the set grows beyond its capacity, Python will resize the memory and rehash the existing elements to the new memory location.\n",
    "\n",
    "Choosing the right data structure can greatly impact memory usage. For example, if you need to store a large number of key-value pairs, using a dictionary (dict) can be more memory-efficient compared to a list of tuples."
   ]
  },
  {
   "cell_type": "markdown",
   "metadata": {},
   "source": [
    "__To limit the memory footprint__:\n",
    "* Limit the number of variables\n",
    "* If possible avoid using the **global** keyword. Python is faster retrieving local variables.\n",
    "* Set variables (especially large arrays) to **None** when no longer used.\n",
    "* When dealing with large datasets, read data in smaller chunks instead of attempting to load the entire dataset in memory.\n",
    "* If your application allows, consider using single (instead of double) precision for your calculations. Your code will take less memory and will run faster.\n",
    "* Use memory profiling tools (such as `memory_profiler`, `valgrind`, and `pympler`) to measure your application memory footprint and identify areas of improvement."
   ]
  },
  {
   "cell_type": "markdown",
   "metadata": {},
   "source": [
    "### [Strategies for Optimizing Memory Usage](https://www.quora.com/How-do-you-optimize-Python-code-for-memory-usage)\n",
    "\n",
    "Python's memory management is powerful, but with great power comes great responsibility. Let's delve into some strategies to optimize memory usage and ensure our Pythonic programs run smoothly:\n",
    "\n",
    "- __Be Mindful of Object Lifetimes__: Understanding the lifecycle of objects is crucial. Short-lived objects, like those within a function, might not need as much attention as long-lived ones. Be mindful of when an object is created and when it goes out of scope.\n",
    "- __Use Generators and Iterators__: Embrace the lazy evaluation paradigm with generators and iterators. Instead of loading all data into memory at once, these constructs allow you to process it piece by piece. This not only saves memory but also enhances performance, especially when dealing with large datasets.\n",
    "- __Employ Data Structures Wisely__: Choose the right data structure for the job. For instance, if you're dealing with a large collection of elements and only need to check for membership, a set might be more memory-efficient than a list. Understanding the trade-offs between data structures can significantly impact memory consumption.\n",
    "- __Leverage Memory Views__: Memory views provide a way to expose an array's data without making a copy. This can be a game-changer when dealing with large arrays, as it allows you to manipulate the data without doubling up on memory usage.\n",
    "- __Optimize String Handling__: Strings in Python are immutable, meaning each time you modify a string, a new one is created. When dealing with extensive string manipulations, consider using tools like StringIO or bytearray to reduce unnecessary memory overhead.\n",
    "- __Clear References Explicitly__: Python relies on automatic garbage collection, but sometimes a little nudge doesn't hurt. When you're certain an object is no longer needed, explicitly set references to None. This tells the memory manager that the object can be collected sooner rather than later.\n",
    "- __Memory Profiling__: Enter the world of memory profiling to identify memory hotspots in your code. Tools like memory_profiler can help pinpoint where memory is being allocated and guide you in optimizing those areas.\n",
    "- __Use Libraries Optimized for Memory__: Depending on your application, consider leveraging libraries designed for memory efficiency. For example, NumPy for numerical operations or pandas for data manipulation are optimized for performance and memory usage."
   ]
  },
  {
   "cell_type": "markdown",
   "metadata": {},
   "source": []
  },
  {
   "cell_type": "markdown",
   "metadata": {},
   "source": []
  }
 ],
 "metadata": {
  "kernelspec": {
   "display_name": "Python 3 (ipykernel)",
   "language": "python",
   "name": "python3"
  },
  "language_info": {
   "codemirror_mode": {
    "name": "ipython",
    "version": 3
   },
   "file_extension": ".py",
   "mimetype": "text/x-python",
   "name": "python",
   "nbconvert_exporter": "python",
   "pygments_lexer": "ipython3",
   "version": "3.11.4"
  }
 },
 "nbformat": 4,
 "nbformat_minor": 4
}
