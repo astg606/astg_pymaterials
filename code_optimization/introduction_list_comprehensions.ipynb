{
 "cells": [
  {
   "cell_type": "markdown",
   "metadata": {},
   "source": [
    "<center>\n",
    "<table>\n",
    "  <tr>\n",
    "    <td><img src=\"https://portal.nccs.nasa.gov/datashare/astg/training/python/logos/nasa-logo.svg\" width=\"100\"/> </td>\n",
    "     <td><img src=\"https://portal.nccs.nasa.gov/datashare/astg/training/python/logos/ASTG_logo.png?raw=true\" width=\"80\"/> </td>\n",
    "     <td> <img src=\"https://www.nccs.nasa.gov/sites/default/files/NCCS_Logo_0.png\" width=\"130\"/> </td>\n",
    "    </tr>\n",
    "</table>\n",
    "</center>\n",
    "\n",
    "        \n",
    "<center>\n",
    "<h1><font color= \"blue\" size=\"+3\">ASTG Python Courses</font></h1>\n",
    "</center>\n",
    " \n",
    "---\n",
    "\n",
    "<CENTER>\n",
    "<H1 style=\"color:red\">\n",
    "List Comprehension and More\n",
    "</H1>\n",
    "</CENTER>"
   ]
  },
  {
   "cell_type": "markdown",
   "metadata": {},
   "source": [
    "## <font color='red'>What will be Covered?</font>"
   ]
  },
  {
   "cell_type": "markdown",
   "metadata": {},
   "source": [
    "- List Comprehension\n",
    "- Lambda Function\n",
    "- Map Function\n",
    "- Filter Function\n",
    "- Reduce Function"
   ]
  },
  {
   "cell_type": "markdown",
   "metadata": {},
   "source": [
    "## <font color='red'>Reference Documents</font>\n",
    "\n",
    "- <a href=\"https://hackernoon.com/list-comprehension-in-python-c762ba1f523f\">List Comprehension in Python</a>\n",
    "- <a href=\"https://www.python-course.eu/python3_list_comprehension.php\">List Comprehension</a>\n",
    "- <a href=\"https://www.digitalocean.com/community/tutorials/understanding-list-comprehensions-in-python-3\">Understanding List Comprehensions in Python 3</a>\n",
    "- <a href=\"https://stackabuse.com/lambda-functions-in-python/\">Lambda Functions in Python</a>"
   ]
  },
  {
   "cell_type": "markdown",
   "metadata": {},
   "source": [
    "## <font color='red'>List Comprehension</font>\n",
    "\n",
    "#### List\n",
    "\n",
    "- An ordered collection of data encapsulated between the square brackets (`[` `]`), and commas separate these data (`,`).\n",
    "- Use to store different types of data, such as integers, floats, strings, etc.\n",
    "- Is mutable.\n",
    "- Is dynamically sized, meaning we can extend a list’s length as needed.\n",
    "\n",
    "#### List Comprehension\n",
    "\n",
    "- Provides a concise way to create lists based on existing lists (or collections).\n",
    "- Consists of brackets containing an expression followed by a `for` clause, then zero or more for or `if` clauses.\n",
    "   - The result will be a new list resulting from evaluating the expression in the context of the `for` and `if` clauses which follow it.\n",
    "- The expressions can be anything, meaning you can put in all kinds of objects in lists\n",
    "- Is considerably faster than processing a list using the `for` loop."
   ]
  },
  {
   "cell_type": "markdown",
   "metadata": {},
   "source": [
    "#### If you used to do it like this:\n",
    "\n",
    "```python\n",
    "new_list = list()\n",
    "for i in old_list:\n",
    "    if filter(i):\n",
    "        new_list.append(expressions(i))\n",
    "```\n",
    "\n",
    "You can obtain the same thing using list comprehension:\n",
    "\n",
    "```python\n",
    "new_list = [expression(i) for i in old_list if filter(i)]\n",
    "```"
   ]
  },
  {
   "cell_type": "markdown",
   "metadata": {},
   "source": [
    "#### Syntax\n",
    "\n",
    "The list comprehension starts with a `[` and `]`, to help you remember that the\n",
    "result is going to be a list.\n",
    "\n",
    "The basic syntax is:\n",
    "\n",
    "```python\n",
    "new_list = [expression(i) for i in old_list if filter(i)]\n",
    "```\n",
    "\n",
    "The list comprehension syntax contains three parts: \n",
    "1. An expression,\n",
    "2. One or more for loop, and\n",
    "3. One or more if conditions (optionally).\n",
    "\n",
    "The `for` loop is used to iterate over the iterable object that optionally includes the `if` condition."
   ]
  },
  {
   "cell_type": "markdown",
   "metadata": {},
   "source": [
    "### Examples\n",
    "\n",
    "<font color=\"blue\">**Example 1:**</font>"
   ]
  },
  {
   "cell_type": "code",
   "execution_count": null,
   "metadata": {},
   "outputs": [],
   "source": [
    "x = [i for i in range(10)]\n",
    "print(x)"
   ]
  },
  {
   "cell_type": "markdown",
   "metadata": {},
   "source": [
    "<font color=\"blue\">**Example 2:**</font> Compute the square of numbers\n",
    "\n",
    "Consider the loop:"
   ]
  },
  {
   "cell_type": "code",
   "execution_count": null,
   "metadata": {},
   "outputs": [],
   "source": [
    "squares = list()\n",
    "for x in range(10):\n",
    "    squares.append(x**2)\n",
    "print(squares)"
   ]
  },
  {
   "cell_type": "markdown",
   "metadata": {},
   "source": [
    "Or you can use list comprehensions to get the same result:"
   ]
  },
  {
   "cell_type": "code",
   "execution_count": null,
   "metadata": {},
   "outputs": [],
   "source": [
    "squares = [x**2 for x in range(10)]\n",
    "print(squares)"
   ]
  },
  {
   "cell_type": "markdown",
   "metadata": {},
   "source": [
    "<font color=\"blue\">**Example 3:**</font> Find the digits in a string"
   ]
  },
  {
   "cell_type": "code",
   "execution_count": null,
   "metadata": {},
   "outputs": [],
   "source": [
    "string = \"Hello 12345 World\"\n",
    "numbers = [int(x) for x in string if x.isdigit()]\n",
    "print(numbers)"
   ]
  },
  {
   "cell_type": "markdown",
   "metadata": {},
   "source": [
    "<font color=\"blue\">**Example 4:**</font>\n",
    "\n",
    "Create a function and name it double:"
   ]
  },
  {
   "cell_type": "code",
   "execution_count": null,
   "metadata": {},
   "outputs": [],
   "source": [
    "def double(x):\n",
    "    return x*2"
   ]
  },
  {
   "cell_type": "markdown",
   "metadata": {},
   "source": [
    "If you now just print that function with a value in it, it should look like this:"
   ]
  },
  {
   "cell_type": "code",
   "execution_count": null,
   "metadata": {},
   "outputs": [],
   "source": [
    "print(double(10))"
   ]
  },
  {
   "cell_type": "code",
   "execution_count": null,
   "metadata": {},
   "outputs": [],
   "source": [
    "A = [double(x) for x in range(10)]\n",
    "print(A)"
   ]
  },
  {
   "cell_type": "markdown",
   "metadata": {},
   "source": [
    "You can put in conditions:"
   ]
  },
  {
   "cell_type": "code",
   "execution_count": null,
   "metadata": {},
   "outputs": [],
   "source": [
    "B = [double(x) for x in range(10) if x%2==0]\n",
    "print(B)"
   ]
  },
  {
   "cell_type": "markdown",
   "metadata": {},
   "source": [
    "<font color=\"blue\">**Example 5:**</font>\n",
    "\n",
    "You can add more arguments:"
   ]
  },
  {
   "cell_type": "code",
   "execution_count": null,
   "metadata": {},
   "outputs": [],
   "source": [
    "C = [x+y for x in [10,30,50] for y in [20,40,60]]\n",
    "print(C)"
   ]
  },
  {
   "cell_type": "markdown",
   "metadata": {},
   "source": [
    "<font color=\"blue\">**Example 6:**</font>\n",
    "\n",
    "List comprehensions can contain complex expressions and nested functions:"
   ]
  },
  {
   "cell_type": "code",
   "execution_count": null,
   "metadata": {},
   "outputs": [],
   "source": [
    "from math import pi\n",
    "D = [str(round(pi, i)) for i in range(1, 6)]\n",
    "print(D)"
   ]
  },
  {
   "cell_type": "markdown",
   "metadata": {},
   "source": [
    "<font color=\"blue\">**Example 7:**</font> **Calculation of the prime numbers** between 1 and 100 using the sieve of Eratosthenes:"
   ]
  },
  {
   "cell_type": "code",
   "execution_count": null,
   "metadata": {},
   "outputs": [],
   "source": [
    "n = 100"
   ]
  },
  {
   "cell_type": "markdown",
   "metadata": {},
   "source": [
    "Without List Comprehension:"
   ]
  },
  {
   "cell_type": "code",
   "execution_count": null,
   "metadata": {},
   "outputs": [],
   "source": [
    "noprimes = list() \n",
    "for i in range(2, 8): \n",
    "    for j in range(i*2, n, i): \n",
    "        noprimes.append(j) \n",
    "\n",
    "primes = list() \n",
    "for x in range(2, n): \n",
    "    if x not in noprimes: \n",
    "        primes.append(x)"
   ]
  },
  {
   "cell_type": "code",
   "execution_count": null,
   "metadata": {},
   "outputs": [],
   "source": [
    "print(noprimes)"
   ]
  },
  {
   "cell_type": "code",
   "execution_count": null,
   "metadata": {},
   "outputs": [],
   "source": [
    "print(primes)"
   ]
  },
  {
   "cell_type": "markdown",
   "metadata": {},
   "source": [
    "With List Comprehension:"
   ]
  },
  {
   "cell_type": "code",
   "execution_count": null,
   "metadata": {},
   "outputs": [],
   "source": [
    "noprimes = [j for i in range(2, 8) for j in range(i*2, n, i)]\n",
    "primes = [x for x in range(2, n) if x not in noprimes]\n",
    "print(primes)"
   ]
  },
  {
   "cell_type": "markdown",
   "metadata": {},
   "source": [
    "<font color=\"blue\">**Example 8:**</font> **Determine the number of negative numbers in a list**"
   ]
  },
  {
   "cell_type": "markdown",
   "metadata": {},
   "source": [
    "Without list comprehension:"
   ]
  },
  {
   "cell_type": "code",
   "execution_count": null,
   "metadata": {},
   "outputs": [],
   "source": [
    "def count_negatives_reg(my_list):\n",
    "    \"\"\"\n",
    "    Count the number of negative numbers in the given list.\n",
    "    \"\"\"\n",
    "    neg_num = 0\n",
    "    for num in my_list:\n",
    "        if num < 0:\n",
    "            neg_num += 1\n",
    "    return neg_num"
   ]
  },
  {
   "cell_type": "code",
   "execution_count": null,
   "metadata": {},
   "outputs": [],
   "source": [
    "my_list = [30, 1.0, 2/3, -1/6, -.27, -3.1, 7.8, -6.5, 110, -2, -70]"
   ]
  },
  {
   "cell_type": "code",
   "execution_count": null,
   "metadata": {},
   "outputs": [],
   "source": [
    "count_negatives_reg(my_list)"
   ]
  },
  {
   "cell_type": "markdown",
   "metadata": {},
   "source": [
    "With list comprehension:"
   ]
  },
  {
   "cell_type": "code",
   "execution_count": null,
   "metadata": {},
   "outputs": [],
   "source": [
    "def count_negatives_lc(my_list):\n",
    "    return len([num for num in my_list if num < 0])"
   ]
  },
  {
   "cell_type": "code",
   "execution_count": null,
   "metadata": {},
   "outputs": [],
   "source": [
    "count_negatives_lc(my_list)"
   ]
  },
  {
   "cell_type": "markdown",
   "metadata": {},
   "source": [
    "<font color=\"blue\">**Example 9:**</font> **Multiple Conditions**"
   ]
  },
  {
   "cell_type": "code",
   "execution_count": null,
   "metadata": {},
   "outputs": [],
   "source": [
    "N = 200\n",
    "\n",
    "reg_list = list()\n",
    "for num in range(1, N):\n",
    "    if num % 2 == 0 and num % 5 == 0:\n",
    "       reg_list.append(num)\n",
    " \n",
    "print(reg_list)"
   ]
  },
  {
   "cell_type": "code",
   "execution_count": null,
   "metadata": {},
   "outputs": [],
   "source": [
    "lc_list = [num for num in range(1, N) if num % 2 == 0 if num % 5 == 0]\n",
    "print(lc_list)"
   ]
  },
  {
   "cell_type": "markdown",
   "metadata": {},
   "source": [
    "<font color=\"blue\">**Example 10:**</font> **If Else**"
   ]
  },
  {
   "cell_type": "code",
   "execution_count": null,
   "metadata": {},
   "outputs": [],
   "source": [
    "numbers = [-6, 7, 13, -1005, 6, 24, 35, -111, 237, 9]\n",
    "print(numbers)\n",
    " \n",
    "even_odd_numbers = [\"Even\" if num % 2 == 0 else \"Odd\" for num in numbers]\n",
    " \n",
    "print(even_odd_numbers)"
   ]
  },
  {
   "cell_type": "markdown",
   "metadata": {},
   "source": [
    "<font color=\"blue\">**Example 11:**</font> **Nested For Loops**"
   ]
  },
  {
   "cell_type": "code",
   "execution_count": null,
   "metadata": {},
   "outputs": [],
   "source": [
    "nested_lists = [[i * j for j in range(1, 11)] for i in range(2, 4)]\n",
    " \n",
    "print(nested_lists)"
   ]
  },
  {
   "cell_type": "markdown",
   "metadata": {},
   "source": [
    "### <font color=\"green\">Breakout 1</font>\n",
    "We want to simulate a series of coin tosses where 0 is heads and 1 is tails."
   ]
  },
  {
   "cell_type": "code",
   "execution_count": null,
   "metadata": {},
   "outputs": [],
   "source": [
    "from random import random\n",
    "n = 10\n",
    "results = [] \n",
    "for x in range(n): \n",
    "    results.append(int(round(random())))"
   ]
  },
  {
   "cell_type": "markdown",
   "metadata": {},
   "source": [
    "Use a list comprehension to make it more concise."
   ]
  },
  {
   "cell_type": "markdown",
   "metadata": {},
   "source": [
    "<details><summary><b>Click here to access the solution</b></summary>\n",
    "<p>\n",
    "\n",
    "\n",
    "```python\n",
    "results = [int(round(random())) for x in range(n)]\n",
    "```\n",
    "\n",
    "</p>\n",
    "</details>"
   ]
  },
  {
   "cell_type": "markdown",
   "metadata": {},
   "source": [
    "### <font color=\"green\">Breakout 2</font>\n",
    "\n",
    "Use list comprehension to remove all the vowels from the sentence:"
   ]
  },
  {
   "cell_type": "code",
   "execution_count": null,
   "metadata": {},
   "outputs": [],
   "source": [
    "sentence = \"The GSFC Python Bootcamp is a great opportunity to learn Python programming.\"\n",
    "vowels = 'aeiou' "
   ]
  },
  {
   "cell_type": "markdown",
   "metadata": {},
   "source": [
    "<details><summary><b>Click here to access the solution</b></summary>\n",
    "<p>\n",
    "\n",
    "\n",
    "```python\n",
    "nonvowels = ''.join([l for l in sentence if not l in vowels])\n",
    "print(nonvowels)\n",
    "```\n",
    "\n",
    "</p>\n",
    "</details>"
   ]
  },
  {
   "cell_type": "markdown",
   "metadata": {},
   "source": [
    "## <font color='red'>Lambda, Filter, Reduce and Map</font>"
   ]
  },
  {
   "cell_type": "markdown",
   "metadata": {},
   "source": [
    "- The `lambda` operator or `lambda` function is a way to create small anonymous functions.\n",
    "- These functions are throw-away functions, i.e. they are just needed where they have been created.\n",
    "-  Lambda functions are mainly used in combination with the functions `filter()`, `map()` and `reduce()`.\n",
    "    \n",
    "![fig_func](http://www.globalnerdy.com/wp-content/uploads/2016/06/map-filter-reduce-in-emoji-1.png)\n",
    "Image Source: www.globalnerdy.com"
   ]
  },
  {
   "cell_type": "markdown",
   "metadata": {},
   "source": [
    "### <font color=\"blue\">Lambda Function</font>\n",
    "\n",
    "A `lambda` function is a small anonymous function which returns an object.\n",
    "\n",
    "![fig_lambda](https://www.educative.io/api/edpresso/shot/6565495459282944/image/6707306488135680)\n",
    "Image Source: www.educative.io\n",
    "\n",
    "\n",
    "- The argument list consists of a comma separated list of arguments. \n",
    "- The expression is an arithmetic expression using these arguments.\n",
    "- Python’s `lambda` expressions allow a function to be created and passed around (often into another function) all in one line of code."
   ]
  },
  {
   "cell_type": "markdown",
   "metadata": {},
   "source": [
    "**Examples** "
   ]
  },
  {
   "cell_type": "code",
   "execution_count": null,
   "metadata": {},
   "outputs": [],
   "source": [
    "add = lambda x, y : x + y\n",
    "add(2,1)"
   ]
  },
  {
   "cell_type": "code",
   "execution_count": null,
   "metadata": {},
   "outputs": [],
   "source": [
    "remainder = lambda num: num % 2\n",
    "\n",
    "print(remainder(5))\n",
    "print(remainder(42))"
   ]
  },
  {
   "cell_type": "code",
   "execution_count": null,
   "metadata": {},
   "outputs": [],
   "source": [
    "line1 = \"A cat, a dog  \"\n",
    "line2 = \"  a bird, a mountain\"\n",
    "\n",
    "# Use X as an alias for two methods.\n",
    "x = lambda s: s.strip().upper()\n",
    "\n",
    "# Call the lambda to shorten the program's source.\n",
    "line1b = x(line1)\n",
    "line2b = x(line2)\n",
    "\n",
    "print(line1b)\n",
    "print(line2b)"
   ]
  },
  {
   "cell_type": "markdown",
   "metadata": {},
   "source": [
    "**Why Use Lambda Functions?**\n",
    "\n",
    "- Lambda functions are used when you need a function for a short period of time. \n",
    "- This is commonly used when you want to pass a function as an argument to higher-order functions, that is, functions that take other functions as their arguments.\n",
    "\n",
    "Consider the example below:"
   ]
  },
  {
   "cell_type": "code",
   "execution_count": null,
   "metadata": {},
   "outputs": [],
   "source": [
    "def testfunc(num):\n",
    "    return lambda x : x * num\n",
    "\n",
    "result1 = testfunc(10)\n",
    "result2 = testfunc(1000)\n",
    "\n",
    "print(result1(9))\n",
    "print(result2(9))"
   ]
  },
  {
   "cell_type": "markdown",
   "metadata": {},
   "source": [
    "### <font color=\"blue\">Map Function</font>"
   ]
  },
  {
   "cell_type": "markdown",
   "metadata": {},
   "source": [
    "`map()` is a function with two arguments: \n",
    "\n",
    "```python\n",
    "   r = map(func, seq)\n",
    "```\n",
    "\n",
    "- The first argument `func` is the name of a function and the second a sequence (e.g. a list) `seq`.\n",
    "- `map()` applies the function `func` to all the elements of the sequence `seq`. \n",
    "- The returned value from `map()` (map object) can be passed to functions like `list()` (to create a list), `set()` (to create a set) and so on.\n",
    "\n",
    "![fig_map](https://cdn-images-1.medium.com/max/800/1*j_2bcKaEWfsm-UFFTpuHVg.png)\n",
    "Image Source: dzone.com"
   ]
  },
  {
   "cell_type": "code",
   "execution_count": null,
   "metadata": {},
   "outputs": [],
   "source": [
    "def convert_from_celcius_to_fahrenheit(T):\n",
    "    return ((float(9)/5)*T + 32)\n",
    "\n",
    "def convert_from_fahrenheit_to_celsius(T):\n",
    "    return (float(5)/9)*(T-32)\n",
    "\n",
    "temperatures = (36.5, 37, 37.5, 39)\n",
    "\n",
    "fahr = list(map(convert_from_celcius_to_fahrenheit, temperatures))\n",
    "print(fahr)\n",
    "\n",
    "cel = list(map(convert_from_fahrenheit_to_celsius, fahr))\n",
    "print(cel)"
   ]
  },
  {
   "cell_type": "markdown",
   "metadata": {},
   "source": [
    "- `map()` can be applied to more than one list. \n",
    "- The lists have to have the same length."
   ]
  },
  {
   "cell_type": "code",
   "execution_count": null,
   "metadata": {},
   "outputs": [],
   "source": [
    "a = [1, 2, 3, 4]\n",
    "b = [17, 12, 11, 10]\n",
    "c = [-1, -4, 5, 9]\n",
    "\n",
    "print(\"a+b:   \", list(map(lambda x,y:x+y, a,b)))\n",
    "print(\"a+b+c: \", list(map(lambda x,y,z:x+y+z, a,b,c)))\n",
    "print(\"a+b-c: \", list(map(lambda x,y,z:x+y-z, a,b,c)))"
   ]
  },
  {
   "cell_type": "markdown",
   "metadata": {},
   "source": [
    "### <font color=\"green\">Breakout 3</font>\n",
    "\n",
    "Use list comprehension and `lambda`/`map` function to rewrite the list `stuff` below:"
   ]
  },
  {
   "cell_type": "code",
   "execution_count": null,
   "metadata": {},
   "outputs": [],
   "source": [
    "words = 'The quick brown fox jumps over the lazy dog'.split()\n",
    "print(words)\n",
    "\n",
    "stuff = list()\n",
    "for w in words:\n",
    "    stuff.append([w.upper(), w.lower(), len(w)])\n",
    "\n",
    "print(stuff)"
   ]
  },
  {
   "cell_type": "markdown",
   "metadata": {},
   "source": [
    "<details><summary><b>Click here to access the solution</b></summary>\n",
    "<p>\n",
    "\n",
    "\n",
    "```python\n",
    "stuff_list = [[w.upper(), w.lower(), len(w)] for w in words]\n",
    "stuff_lambda = map(lambda w: [w.upper(), w.lower(), len(w)], words)\n",
    "```\n",
    "\n",
    "</p>\n",
    "</details>"
   ]
  },
  {
   "cell_type": "markdown",
   "metadata": {},
   "source": [
    "### <font color=\"blue\">Filter Function</font>\n",
    "\n",
    "```python \n",
    "   filter(func, iterableType)\n",
    "``` \n",
    "\n",
    "- The function offers an elegant way to filter out all the elements of any iterable type (list, tuple, string, etc.), for which the function `func` returns True.\n",
    "\n",
    "![fig_filter](https://leblancfg.com/img/filter.png)\n",
    "Image Source: leblancfg.com"
   ]
  },
  {
   "cell_type": "code",
   "execution_count": null,
   "metadata": {},
   "outputs": [],
   "source": [
    "fib = [0, 1, 1, 2, 3, 5, 8, 13 , 21, 34, 55]\n",
    "\n",
    "odd_numbers = list(filter(lambda x: x % 2, fib))\n",
    "print(\"Odd Numbers:  \", odd_numbers)\n",
    "\n",
    "even_numbers = list(filter(lambda x: x % 2 == 0, fib))\n",
    "print(\"Even Numbers: \", even_numbers)"
   ]
  },
  {
   "cell_type": "markdown",
   "metadata": {},
   "source": [
    "### <font color=\"green\">Breakout 4</font>\n",
    "\n",
    "Use the `filter` function to remove all the vowels from the sentence:"
   ]
  },
  {
   "cell_type": "code",
   "execution_count": null,
   "metadata": {},
   "outputs": [],
   "source": [
    "sentence = \"The LRC Python Training is a great opportunity to learn Python programming.\"\n",
    "vowels = 'aeiou' "
   ]
  },
  {
   "cell_type": "markdown",
   "metadata": {},
   "source": [
    "<details><summary><b>Click here to access the solution</b></summary>\n",
    "<p>\n",
    "\n",
    "\n",
    "```python\n",
    "def is_not_wowel(s):\n",
    "    return s not in vowels\n",
    "\n",
    "new_sentence = filter(is_not_vowel, sentence)\n",
    "print(new_sentence)\n",
    "```\n",
    "\n",
    "</p>\n",
    "</details>"
   ]
  },
  {
   "cell_type": "markdown",
   "metadata": {},
   "source": [
    "### <font color=\"blue\">Reduce Function</font>\n",
    "\n",
    "```python\n",
    "reduce(func, seq)\n",
    "```\n",
    "\n",
    "- The function continually applies the function `func()` to the sequence `seq`. \n",
    "- It returns a single value.\n",
    "\n",
    "\n",
    "#### Syntax\n",
    "\n",
    "```python\n",
    "def reduce(func, seq, initializer=None):\n",
    "    iterable = iter(seq) \n",
    "    if not initializer:\n",
    "        initializer = next(iterable)   \n",
    "    r = initializer\n",
    "    for s in iterable:\n",
    "        r = func(r, s)\n",
    "    return r\n",
    "```\n",
    "\n",
    "![fig_reduce](https://www.python-course.eu/images/reduce.png)\n",
    "\n",
    "Image Source: www.python-course.eu"
   ]
  },
  {
   "cell_type": "markdown",
   "metadata": {},
   "source": [
    "#### Examples"
   ]
  },
  {
   "cell_type": "code",
   "execution_count": null,
   "metadata": {},
   "outputs": [],
   "source": [
    "import functools"
   ]
  },
  {
   "cell_type": "markdown",
   "metadata": {},
   "source": [
    "Calculating the sum of the numbers from 1 to n: "
   ]
  },
  {
   "cell_type": "code",
   "execution_count": null,
   "metadata": {},
   "outputs": [],
   "source": [
    "n = 300\n",
    "C = functools.reduce(lambda x, y: x+y, range(1,n+1))\n",
    "print(C)"
   ]
  },
  {
   "cell_type": "markdown",
   "metadata": {},
   "source": [
    "Determining the maximum of a list of numerical values by using reduce:"
   ]
  },
  {
   "cell_type": "code",
   "execution_count": null,
   "metadata": {},
   "outputs": [],
   "source": [
    "f = lambda a,b: a if (a > b) else b\n",
    "B = functools.reduce(f, [47, 11, 42, 102, 13])\n",
    "print(B)"
   ]
  },
  {
   "cell_type": "markdown",
   "metadata": {},
   "source": [
    "Another example:"
   ]
  },
  {
   "cell_type": "code",
   "execution_count": null,
   "metadata": {},
   "outputs": [],
   "source": [
    "def x100y(x, y):\n",
    "    return 100*x + y"
   ]
  },
  {
   "cell_type": "code",
   "execution_count": null,
   "metadata": {},
   "outputs": [],
   "source": [
    "print(functools.reduce(x100y, [13]))"
   ]
  },
  {
   "cell_type": "code",
   "execution_count": null,
   "metadata": {},
   "outputs": [],
   "source": [
    "print(functools.reduce(x100y, [13], 1))"
   ]
  },
  {
   "cell_type": "code",
   "execution_count": null,
   "metadata": {},
   "outputs": [],
   "source": [
    "print(functools.reduce(x100y, [2, 5, 9]))"
   ]
  },
  {
   "cell_type": "code",
   "execution_count": null,
   "metadata": {},
   "outputs": [],
   "source": [
    "print(functools.reduce(x100y, [2, 5, 9], 7))"
   ]
  },
  {
   "cell_type": "markdown",
   "metadata": {},
   "source": [
    "### <font color=\"green\">Breakout 5</font>\n",
    "\n",
    "Use the `reduce` function to find the product of all the entries in the list: \n",
    "\n",
    "```python\n",
    "[47, 11, 42, 102, 13]\n",
    "```"
   ]
  },
  {
   "cell_type": "markdown",
   "metadata": {},
   "source": [
    "<details><summary><b>Click here to access the solution</b></summary>\n",
    "<p>\n",
    "\n",
    "\n",
    "```python\n",
    "org_list = [47, 11, 42 , 102, 13]\n",
    "prod_numbers = functools.reduce(lambda x,y: x*y, org_list])\n",
    "```\n",
    "\n",
    "</p>\n",
    "</details>"
   ]
  }
 ],
 "metadata": {
  "kernelspec": {
   "display_name": "Python 3 (ipykernel)",
   "language": "python",
   "name": "python3"
  },
  "language_info": {
   "codemirror_mode": {
    "name": "ipython",
    "version": 3
   },
   "file_extension": ".py",
   "mimetype": "text/x-python",
   "name": "python",
   "nbconvert_exporter": "python",
   "pygments_lexer": "ipython3",
   "version": "3.11.4"
  }
 },
 "nbformat": 4,
 "nbformat_minor": 4
}
