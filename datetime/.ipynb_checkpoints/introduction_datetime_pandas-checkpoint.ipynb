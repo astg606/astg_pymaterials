{
 "cells": [
  {
   "cell_type": "markdown",
   "metadata": {},
   "source": [
    "<font color=\"white\">.</font> | <font color=\"white\">.</font> | <font color=\"white\">.</font>\n",
    "-- | -- | --\n",
    "![NASA](http://www.nasa.gov/sites/all/themes/custom/nasatwo/images/nasa-logo.svg) | <h1><font size=\"+3\">ASTG Python Courses</font></h1> | ![NASA](https://www.nccs.nasa.gov/sites/default/files/NCCS_Logo_0.png)\n",
    "\n",
    "---\n",
    "\n",
    "<CENTER>\n",
    "<H1 style=\"color:red\">\n",
    "datetime Module\n",
    "</H1>\n",
    "</CENTER>"
   ]
  },
  {
   "cell_type": "code",
   "execution_count": null,
   "metadata": {},
   "outputs": [],
   "source": [
    "from __future__ import print_function"
   ]
  },
  {
   "cell_type": "markdown",
   "metadata": {},
   "source": [
    "## <font color='red'>What will be Covered?</font>"
   ]
  },
  {
   "cell_type": "markdown",
   "metadata": {},
   "source": [
    "<OL>\n",
    "<LI> Times\n",
    "<LI> Dates\n",
    "<LI> timedeltas\n",
    "<LI> Date Arithmetic\n",
    "<LI> Comparing Values\n",
    "<LI> Combining Dates and Times\n",
    "<LI> Formating and Parsing\n",
    "<LI> Time Series with Pandas\n",
    "</OL>"
   ]
  },
  {
   "cell_type": "markdown",
   "metadata": {},
   "source": [
    "## <font color='red'>Reference Documents</font>\n",
    "\n",
    "- <A HREF=\"http://pleac.sourceforge.net/pleac_python/datesandtimes.html\">Dates and Times</A>\n",
    "- <A HREF=\"http://www.marinamele.com/2014/03/13-useful-tips-about-python-datetime.html\">Usedul Tips about Python datetime Objects</A>\n",
    "- <A HREF=\"https://pymotw.com/3/datetime/\">datetime - Date and Time Value Manipulation</A>\n",
    "- <a href=\"http://earthpy.org/pandas-basics.html\">Time series analysis with pandas</a>\n",
    "- <a href=\"https://jakevdp.github.io/PythonDataScienceHandbook/03.11-working-with-time-series.html\">Working with Time Series</a>"
   ]
  },
  {
   "cell_type": "markdown",
   "metadata": {},
   "source": [
    "## <font color='red'>What is the `datetime` Module?</font>\n",
    "\n",
    "- The `datetime` module supplies classes to work with date and time. \n",
    "- These classes provide a number of functions to deal with dates, times and time intervals.  \n",
    "- Date and datetime are an object in Python, so when you manipulate them, you are actually manipulating objects and not string or timestamps.\n",
    "\n",
    "The `datetime` module provides high-level interface classes:\n",
    "\n",
    "- `date`: An idealized date that assumes the Gregorian calendar extends infinitely into the future and past. It stores the year, month, and day as attributes.\n",
    "- `time`: An idealized time that assumes there are 86,400 seconds per day with no leap seconds. This object stores the hour, minute, second, microsecond, and tzinfo (time zone information).\n",
    "- `datetime`: A combination of a date and a time. It has all the attributes of both classes.\n",
    "- `timedelta`: A duration expressing the difference between two date, time, or datetime objects to microsecond resolution.\n",
    "- `tzinfo`: Provides time zone information objects.\n",
    "- `timezone`: A class that implements the `tzinfo` abstract base class as a fixed offset from the UTC.\n",
    "\n",
    "In this presentation, we will focus on the first four classes."
   ]
  },
  {
   "cell_type": "code",
   "execution_count": null,
   "metadata": {},
   "outputs": [],
   "source": [
    "import datetime\n",
    "import numpy as np\n",
    "import pandas as pd"
   ]
  },
  {
   "cell_type": "markdown",
   "metadata": {},
   "source": [
    "## <font color='red'>Times</font>"
   ]
  },
  {
   "cell_type": "markdown",
   "metadata": {},
   "source": [
    "Time values are represented with the <B>time</B> class. Times have attributes for hour, minute, second, and microsecond. \n",
    "\n",
    "```python\n",
    "datetime.time(hour=0, minute=0, second=0, microsecond=0, tzinfo=None, *, fold=0)\n",
    "```"
   ]
  },
  {
   "cell_type": "code",
   "execution_count": null,
   "metadata": {},
   "outputs": [],
   "source": [
    "t = datetime.time(1, 2, 3)\n",
    "print (t)\n",
    "print ('hour  :', t.hour)\n",
    "print ('minute:', t.minute)\n",
    "print ('second:', t.second)\n",
    "print ('microsecond:', t.microsecond)\n",
    "print ('tzinfo:', t.tzinfo)"
   ]
  },
  {
   "cell_type": "markdown",
   "metadata": {},
   "source": [
    "The variable <B>t</B> only holds values of time, and not a date associated with the time.\n",
    "<P>\n",
    "You can get the valid range of times in a single day:"
   ]
  },
  {
   "cell_type": "code",
   "execution_count": null,
   "metadata": {},
   "outputs": [],
   "source": [
    "print ('Earliest  :', datetime.time.min)\n",
    "print ('Latest    :', datetime.time.max)\n",
    "print ('Resolution:', datetime.time.resolution)"
   ]
  },
  {
   "cell_type": "markdown",
   "metadata": {},
   "source": [
    "Note that the resolution for time is limited to whole microseconds."
   ]
  },
  {
   "cell_type": "markdown",
   "metadata": {},
   "source": [
    "## <font color='red'>Dates</font>"
   ]
  },
  {
   "cell_type": "markdown",
   "metadata": {},
   "source": [
    "Calendar date values are represented with the **date** class.\n",
    "\n",
    "It is easy to create a date representing today’s date using the **today()** class method.\n",
    "    \n",
    "```python\n",
    "datetime.date(year, month, day)\n",
    "```"
   ]
  },
  {
   "cell_type": "code",
   "execution_count": null,
   "metadata": {},
   "outputs": [],
   "source": [
    "today = datetime.date.today()\n",
    "print ('today:  ', today)\n",
    "print ('ctime:  ', today.ctime())\n",
    "print ('tuple:  ', today.timetuple())\n",
    "print ('ordinal:', today.toordinal())\n",
    "print ('Year:   ', today.year)\n",
    "print ('Mon:    ', today.month)\n",
    "print ('Day :   ', today.day)"
   ]
  },
  {
   "cell_type": "markdown",
   "metadata": {},
   "source": [
    "There are also class methods for creating instances from integers (using proleptic Gregorian ordinal values, which starts counting from Jan. 1 of the year 1) or POSIX timestamp values.\n",
    "\n",
    "The following example illustrates the different value types used by:\n",
    "\n",
    "- `fromordinal()`: Return the date corresponding to the proleptic Gregorian ordinal, where January 1 of year 1 has ordinal 1.\n",
    "- `fromtimestamp()`: Return the local date corresponding to the timestamp."
   ]
  },
  {
   "cell_type": "code",
   "execution_count": null,
   "metadata": {},
   "outputs": [],
   "source": [
    "import time\n",
    "\n",
    "o = 733114\n",
    "print ('o = {} and fromordinal(o) = {}:'.format(o, datetime.date.fromordinal(o)))\n",
    "\n",
    "t = time.time()\n",
    "print ('t = {} and fromtimestamp(t) = {}'.format(t, datetime.date.fromtimestamp(t)))"
   ]
  },
  {
   "cell_type": "markdown",
   "metadata": {},
   "source": [
    "We can also determine the range of date values:"
   ]
  },
  {
   "cell_type": "code",
   "execution_count": null,
   "metadata": {},
   "outputs": [],
   "source": [
    "print ('Earliest  :', datetime.date.min)\n",
    "print ('Latest    :', datetime.date.max)\n",
    "print ('Resolution:', datetime.date.resolution)"
   ]
  },
  {
   "cell_type": "markdown",
   "metadata": {},
   "source": [
    "Note too that the resolution for dates is a whole day.\n",
    "<P>\n",
    "Another way to create new date instances uses the <B>replace()</B> method of an existing date. For example, you can change the year, leaving the day and month alone."
   ]
  },
  {
   "cell_type": "code",
   "execution_count": null,
   "metadata": {},
   "outputs": [],
   "source": [
    "d1 = datetime.date(2008, 3, 12)\n",
    "print ('d1:', d1)\n",
    "\n",
    "d2 = d1.replace(year=2009)\n",
    "print ('d2:', d2)"
   ]
  },
  {
   "cell_type": "markdown",
   "metadata": {},
   "source": [
    "## <font color='red'>timedeltas</font>"
   ]
  },
  {
   "cell_type": "markdown",
   "metadata": {},
   "source": [
    "We can use <B>datetime</B> to perform basic arithmetic on date values via the <B>timedelta</B> class.\n",
    "\n",
    "```python\n",
    "datetime.timedelta(days=0, seconds=0, microseconds=0, \n",
    "                   milliseconds=0, minutes=0, hours=0, weeks=0)\n",
    "```"
   ]
  },
  {
   "cell_type": "code",
   "execution_count": null,
   "metadata": {},
   "outputs": [],
   "source": [
    "print (\"microseconds:\", datetime.timedelta(microseconds=1))\n",
    "print (\"milliseconds:\", datetime.timedelta(milliseconds=1))\n",
    "print (\"seconds     :\", datetime.timedelta(seconds=1))\n",
    "print (\"minutes     :\", datetime.timedelta(minutes=1))\n",
    "print (\"hours       :\", datetime.timedelta(hours=1))\n",
    "print (\"days        :\", datetime.timedelta(days=1))\n",
    "print (\"weeks       :\", datetime.timedelta(weeks=1))"
   ]
  },
  {
   "cell_type": "markdown",
   "metadata": {},
   "source": [
    "## <font color='red'>Date Arithmetic</font>"
   ]
  },
  {
   "cell_type": "markdown",
   "metadata": {},
   "source": [
    "Date math uses the standard arithmetic operators. The following example with date objects illustrates using <B>timedelta</B> objects to compute new dates, and subtracting date instances to produce timedeltas (including a negative delta value)."
   ]
  },
  {
   "cell_type": "code",
   "execution_count": null,
   "metadata": {},
   "outputs": [],
   "source": [
    "today = datetime.date.today()\n",
    "print ('Today    :', today)\n",
    "\n",
    "one_day = datetime.timedelta(days=1)\n",
    "print ('One day  :', one_day)\n",
    "\n",
    "yesterday = today - one_day\n",
    "print ('Yesterday:', yesterday)\n",
    "\n",
    "tomorrow = today + one_day\n",
    "print ('Tomorrow :', tomorrow)\n",
    "\n",
    "print ('tomorrow - yesterday:', tomorrow - yesterday)\n",
    "print ('yesterday - tomorrow:', yesterday - tomorrow)"
   ]
  },
  {
   "cell_type": "markdown",
   "metadata": {},
   "source": [
    "## <font color='red'>Comparing Values</font>"
   ]
  },
  {
   "cell_type": "markdown",
   "metadata": {},
   "source": [
    "Both date and time values can be compared using the standard operators to determine which is earlier or later."
   ]
  },
  {
   "cell_type": "code",
   "execution_count": null,
   "metadata": {},
   "outputs": [],
   "source": [
    "print ('Times:')\n",
    "t1 = datetime.time(12, 55, 0)\n",
    "print ('\\tt1:', t1)\n",
    "t2 = datetime.time(13, 5, 0)\n",
    "print ('\\tt2:', t2)\n",
    "print ('\\tt1 < t2:', t1 < t2)\n",
    "\n",
    "print ('Dates:')\n",
    "d1 = datetime.date.today()\n",
    "print ('\\td1:', d1)\n",
    "d2 = datetime.date.today() + datetime.timedelta(days=1)\n",
    "print ('\\td2:', d2)\n",
    "print ('\\td1 > d2:', d1 > d2)"
   ]
  },
  {
   "cell_type": "markdown",
   "metadata": {},
   "source": [
    "## <font color='red'>Combining Dates and Times</font>"
   ]
  },
  {
   "cell_type": "markdown",
   "metadata": {},
   "source": [
    "We can use the datetime class to hold values consisting of both date and time components. \n",
    "\n",
    "```python\n",
    "datetime.datetime(year, month, day, \n",
    "                  hour=0, minute=0, second=0, microsecond=0, tzinfo=None, *, fold=0)\n",
    "```"
   ]
  },
  {
   "cell_type": "code",
   "execution_count": null,
   "metadata": {},
   "outputs": [],
   "source": [
    "print('Now    :', datetime.datetime.now())\n",
    "print('Today  :', datetime.datetime.today())\n",
    "print('UTC Now:', datetime.datetime.utcnow())\n",
    "\n",
    "d = datetime.datetime.now()\n",
    "for attr in [ 'year', 'month', 'day', 'hour', 'minute', 'second', 'microsecond']:\n",
    "    print (attr, ':', getattr(d, attr))"
   ]
  },
  {
   "cell_type": "code",
   "execution_count": null,
   "metadata": {},
   "outputs": [],
   "source": [
    "NOW = datetime.datetime.now()\n",
    " \n",
    "print( \"Current date & time =         %s \" %NOW)\n",
    "print( \"Date and time in ISO format = %s\" %NOW.isoformat())\n",
    "print( \"Current year =                %s \" %NOW.year)\n",
    "print( \"Current month =               %s \" %NOW.month)\n",
    "print( \"Current date (day) =          %s \" %NOW.day)\n",
    "print( \"dd/mm/yyyy format =           %s/%s/%s\" % (NOW.day, NOW.month, NOW.year))\n",
    "print( \"Current hour =                %s \" %NOW.hour)\n",
    "print( \"Current minute =              %s \" %NOW.minute)\n",
    "print( \"Current second =              %s\" %NOW.second)\n",
    "print( \"hh:mm:ss format =             %s:%s:%s\" % (NOW.hour, NOW.month, NOW.second))"
   ]
  },
  {
   "cell_type": "markdown",
   "metadata": {},
   "source": [
    "* Just as with date, datetime provides convenient class methods for creating new instances. It also includes `fromordinal()` and `fromtimestamp()`. \n",
    "* In addition, `combine()` can be useful if you already have a date instance and time instance and want to create a datetime."
   ]
  },
  {
   "cell_type": "code",
   "execution_count": null,
   "metadata": {},
   "outputs": [],
   "source": [
    "t = datetime.time(1, 2, 3)\n",
    "print ('t :', t)\n",
    "\n",
    "d = datetime.date.today()\n",
    "print ('d :', d)\n",
    "\n",
    "dt = datetime.datetime.combine(d, t)\n",
    "print ('dt:', dt)"
   ]
  },
  {
   "cell_type": "markdown",
   "metadata": {},
   "source": [
    "## <font color='red'>Formating and Parsing</font>"
   ]
  },
  {
   "cell_type": "markdown",
   "metadata": {},
   "source": [
    "* The default string representation of a datetime object uses the format: YYYY-MM-DDTHH:MM:SS.mmmmmm \n",
    "* Alternate formats can be generated using `strftime()` function. \n",
    "        - Uses different control code to give an output.\n",
    "        - Each control code resembles different parameters like year,month, weekday and date.\n",
    "* If your input data includes timestamp values parsable with `time.strptime()`, then `datetime.strptime()` is a convenient way to convert them to datetime instances."
   ]
  },
  {
   "cell_type": "markdown",
   "metadata": {},
   "source": [
    "**Useful `strptime` and `strftime` Patterns**\n",
    "\n",
    "|Directive | Meaning |\n",
    "| --- | --- |\n",
    "| `%a` | Weekday as locale's abbreviated name |\n",
    "| `%A` | Weekday as locale's full name |\n",
    "| `%w` | Weekday as decimal number, where 0 is Sunday and 6 is Saturday |\n",
    "| `%d` | Day of the month as a zero-padded decimal number |\n",
    "| `%b` | Month as locale's abbreviated name |\n",
    "| `%B` | Weekday as locale's full name |\n",
    "| `%m` | Month as zero-padded decimal number |\n",
    "| `%y` | Year without century as a zero-padded decimal number name |\n",
    "| `%Y` | Year with century as a decimal number |\n",
    "| `%H` | Hour (24-hour clock) as a zero-padded decimal number |\n",
    "| `%I` | Hour (12-hour clock) as a zero-padded decimal number |\n",
    "| `%p` | Locale equivalent of either AM or PM |\n",
    "| `%M` | Minute as a zero-padded decimal number |\n",
    "| `%S` | Second as a zero-padded decimal number |\n",
    "| `%f` | Microsecond as a zero-padded decimal number |\n",
    "| `%j` | Day of the year as a zero-padded decimal number |\n",
    "| `%W` | Week number of the year (Monday as the first day of the week) as a decimal number |\n",
    "| `%U` | Week number of the year (Sunday as the first day of the week) as a decimal number |\n",
    "| `%c` | Locale’s appropriate date and time representation |\n",
    "| `%Z` | Time zone name |\n",
    "| `%z` | UTC offset in the form HH[SS[.fffff]] |\n"
   ]
  },
  {
   "cell_type": "markdown",
   "metadata": {},
   "source": [
    "**Formatting**"
   ]
  },
  {
   "cell_type": "markdown",
   "metadata": {},
   "source": [
    "Weekday Month Day Hour:Minute:Second Year"
   ]
  },
  {
   "cell_type": "code",
   "execution_count": null,
   "metadata": {},
   "outputs": [],
   "source": [
    "format = \"%a %b %d %H:%M:%S %Y\"\n",
    "\n",
    "today = datetime.datetime.today()\n",
    "print ('ISO     :', today)\n",
    "\n",
    "s = today.strftime(format)\n",
    "print ('strftime:', s)"
   ]
  },
  {
   "cell_type": "markdown",
   "metadata": {},
   "source": [
    "Obtain the time in HH:MM:SS"
   ]
  },
  {
   "cell_type": "code",
   "execution_count": null,
   "metadata": {},
   "outputs": [],
   "source": [
    "print(today.strftime(\"%X\"))"
   ]
  },
  {
   "cell_type": "markdown",
   "metadata": {},
   "source": [
    "Obtain the hour with 12 hours time"
   ]
  },
  {
   "cell_type": "code",
   "execution_count": null,
   "metadata": {},
   "outputs": [],
   "source": [
    "print(today.strftime(\"%I\"))"
   ]
  },
  {
   "cell_type": "markdown",
   "metadata": {},
   "source": [
    "Obtain AM or PM"
   ]
  },
  {
   "cell_type": "code",
   "execution_count": null,
   "metadata": {},
   "outputs": [],
   "source": [
    "print(today.strftime(\"%p\"))"
   ]
  },
  {
   "cell_type": "markdown",
   "metadata": {},
   "source": [
    "%c - local date and time, %x-local's date, %X- local's time"
   ]
  },
  {
   "cell_type": "code",
   "execution_count": null,
   "metadata": {},
   "outputs": [],
   "source": [
    "print(\"Date and Time =\", today.strftime(\"%c\"))\n",
    "print(\"Date =         \", today.strftime(\"%x\"))\n",
    "print(\"Time =         \", today.strftime(\"%X\"))"
   ]
  },
  {
   "cell_type": "markdown",
   "metadata": {},
   "source": [
    "%I/%H - 12/24 Hour, %M - minute, %S - second, %p - local's AM/PM"
   ]
  },
  {
   "cell_type": "code",
   "execution_count": null,
   "metadata": {},
   "outputs": [],
   "source": [
    "print(\"Time =         \", today.strftime(\"%I:%M:%S %p\")) # 12-Hour:Minute:Second:AM\n",
    "print(\"Hour:Minutes = \", today.strftime(\"%H:%M\")) # 24-Hour:Minute"
   ]
  },
  {
   "cell_type": "markdown",
   "metadata": {},
   "source": [
    "**Parsing**"
   ]
  },
  {
   "cell_type": "code",
   "execution_count": null,
   "metadata": {},
   "outputs": [],
   "source": [
    "d = datetime.datetime.strptime(s, format)\n",
    "print ('strptime:', d.strftime(format))"
   ]
  },
  {
   "cell_type": "markdown",
   "metadata": {},
   "source": [
    "## <font color=\"red\">Breakout</font>\n",
    "\n",
    "On July 16, 1969, the huge, 363-feet tall Saturn V rocket launches on the Apollo 11 mission from Pad A, Launch Complex 39, Kennedy Space Center, at 9:32 a.m. EDT. Write a Python program the computes (**from now**) the number of:\n",
    "\n",
    "* Years\n",
    "* Months\n",
    "* Days\n",
    "* Hours\n",
    "* Minutes\n",
    "* Seconds\n",
    "\n",
    "since the launch.\n",
    "\n",
    "Hint: <A HREF=\"https://stackoverflow.com/questions/1345827/how-do-i-find-the-time-difference-between-two-datetime-objects-in-python\"> Check this website</A>"
   ]
  },
  {
   "cell_type": "markdown",
   "metadata": {},
   "source": [
    "### Sample Problem 1"
   ]
  },
  {
   "cell_type": "markdown",
   "metadata": {},
   "source": [
    "Write a function (add_Years) that adds numYears to a date object."
   ]
  },
  {
   "cell_type": "markdown",
   "metadata": {},
   "source": [
    "#### Solution"
   ]
  },
  {
   "cell_type": "code",
   "execution_count": null,
   "metadata": {},
   "outputs": [],
   "source": [
    "def add_Years (myDate, numYears):\n",
    "    return myDate.replace(year=myDate.year + numYears)"
   ]
  },
  {
   "cell_type": "markdown",
   "metadata": {},
   "source": [
    "### Sample Problem 2"
   ]
  },
  {
   "cell_type": "markdown",
   "metadata": {},
   "source": [
    "Write a function (add_Months) that adds numMonths to a date object."
   ]
  },
  {
   "cell_type": "markdown",
   "metadata": {},
   "source": [
    "#### Solution"
   ]
  },
  {
   "cell_type": "code",
   "execution_count": null,
   "metadata": {},
   "outputs": [],
   "source": [
    "import datetime\n",
    "\n",
    "def add_Months(myDate, numMonths):\n",
    "    m = myDate.month + numMonths\n",
    "    year  = m // 12\n",
    "    month = m % 12\n",
    "    if month == 0:\n",
    "       month = 12\n",
    "       year -= 1\n",
    "    try:\n",
    "        newDate = datetime.date(myDate.year+year, month, myDate.day)\n",
    "    except ValueError:\n",
    "        import calendar\n",
    "        # determine the total number of days in a new month\n",
    "        m1, d1 = calendar.monthrange(myDate.year+year, month)\n",
    "        newDate = datetime.date(myDate.year+year, month, d1)\n",
    "    return newDate"
   ]
  },
  {
   "cell_type": "markdown",
   "metadata": {},
   "source": [
    "### Sample Problem 3"
   ]
  },
  {
   "cell_type": "markdown",
   "metadata": {},
   "source": [
    "Write a function (add_Days) that adds numDays to a date object."
   ]
  },
  {
   "cell_type": "markdown",
   "metadata": {},
   "source": [
    "#### Solution"
   ]
  },
  {
   "cell_type": "code",
   "execution_count": null,
   "metadata": {},
   "outputs": [],
   "source": [
    "def add_Days (myDate, numDays):\n",
    "    return myDate + datetime.timedelta(days=numDays)"
   ]
  },
  {
   "cell_type": "markdown",
   "metadata": {},
   "source": [
    "### Sample Problem 4"
   ]
  },
  {
   "cell_type": "markdown",
   "metadata": {},
   "source": [
    "Write a function (increment_Date):\n",
    "<UL> \n",
    "<LI> That has as arguments refDate (in the format YYYYMMDD), numYears, numMonths and numDays, and \n",
    "<LI> That adds numYears, numMonths and numDays to refDate.\n",
    "<LI> That returns a new date in the format YYYYMMDD.\n",
    "</UL>\n",
    "<P>\n",
    "Note that Years, Months and Days can be negative numbers."
   ]
  },
  {
   "cell_type": "markdown",
   "metadata": {},
   "source": [
    "#### Solution"
   ]
  },
  {
   "cell_type": "code",
   "execution_count": null,
   "metadata": {},
   "outputs": [],
   "source": [
    "import datetime\n",
    "\n",
    "def increment_Date(Date, numYears=0, numMonths=0, numDays=0):\n",
    "    # Extract the year, the month and day from Date\n",
    "    y = Date // 10000\n",
    "    m = (Date % 10000) // 100\n",
    "    d = Date % 100\n",
    "    \n",
    "    # Determine the current date object\n",
    "    curDate = datetime.date(y, m, d)\n",
    "    \n",
    "    # Increment the date\n",
    "    curDate = add_Years (curDate, numYears)\n",
    "    curDate = add_Months(curDate, numMonths)\n",
    "    curDate = add_Days  (curDate, numDays)\n",
    "    \n",
    "    # Extract the new year, month and day\n",
    "    curY = curDate.year\n",
    "    curM = curDate.month\n",
    "    curD = curDate.day\n",
    "    \n",
    "    # Compute the new date in the format YYYYMMDD\n",
    "    newDate = 10000*curY + 100*curM + curD\n",
    "    \n",
    "    return newDate\n",
    "\n",
    "print(increment_Date(20001231, numMonths=-15, numDays=7))"
   ]
  },
  {
   "cell_type": "markdown",
   "metadata": {},
   "source": [
    "## <font color='red'>Pandas Datetime</font>\n",
    "- Pandas provides a number to tools to handle times series data.\n",
    "- Pandas datetime methods are used to work with datetime in Pandas."
   ]
  },
  {
   "cell_type": "markdown",
   "metadata": {},
   "source": [
    "Generate sequences of fixed-frequency dates and time spans:"
   ]
  },
  {
   "cell_type": "code",
   "execution_count": null,
   "metadata": {},
   "outputs": [],
   "source": [
    "dti = pd.date_range('2018-01-01', periods=15, freq='H')\n",
    "print(type(dti))\n",
    "dti"
   ]
  },
  {
   "cell_type": "markdown",
   "metadata": {},
   "source": [
    "Use the sequence to create a Pandas series:"
   ]
  },
  {
   "cell_type": "code",
   "execution_count": null,
   "metadata": {},
   "outputs": [],
   "source": [
    "ts = pd.Series(range(len(dti)), index=dti)\n",
    "print(ts)"
   ]
  },
  {
   "cell_type": "markdown",
   "metadata": {},
   "source": [
    "Resample or convert the time series to a particular frequency:\n",
    "- sample every two hours and compute the mean"
   ]
  },
  {
   "cell_type": "code",
   "execution_count": null,
   "metadata": {},
   "outputs": [],
   "source": [
    "ts.resample('2H').mean()"
   ]
  },
  {
   "cell_type": "markdown",
   "metadata": {},
   "source": [
    "Create a Pandas series where the index is the time component:"
   ]
  },
  {
   "cell_type": "code",
   "execution_count": null,
   "metadata": {},
   "outputs": [],
   "source": [
    "num_periods = 67\n",
    "ts = pd.Series(np.random.random(num_periods),\n",
    "               index=pd.date_range('2000-01', periods=num_periods, freq='W'))\n",
    "ts"
   ]
  },
  {
   "cell_type": "markdown",
   "metadata": {},
   "source": [
    "Create a Pandas DataFrame where the index is the time component:"
   ]
  },
  {
   "cell_type": "code",
   "execution_count": null,
   "metadata": {},
   "outputs": [],
   "source": [
    "num_periods = 2500\n",
    "df = pd.DataFrame(dict(X = np.random.random(num_periods), Y = -5+np.random.random(num_periods)),\n",
    "                  index=pd.date_range('2000', periods=num_periods, freq='D'))\n",
    "df"
   ]
  },
  {
   "cell_type": "markdown",
   "metadata": {},
   "source": [
    "**Resampling**\n",
    "- The `resample()` function is used to resample time-series data.\n",
    "- It groups data by a certain time span. \n",
    "- You specify a method of how you would like to resample.\n",
    "- Pandas comes with many in-built options for resampling, and you can even define your own methods.\n",
    "\n",
    "Here are some time period options:\n",
    "\n",
    "| Alias | Description |\n",
    "| --- | --- |\n",
    "| 'D' |\tCalendar day |\n",
    "| 'W' |\tWeekly |\n",
    "| 'M' |\tMonth end |\n",
    "| 'Q' |\tQuarter end |\n",
    "| 'A' |\tYear end |\n",
    "\n",
    "Here are some method options for resampling:\n",
    "\n",
    "| Method | Description |\n",
    "| --- | --- |\n",
    "| max |\tMaximum value |\n",
    "| mean |\tMean of values in time range |\n",
    "| median |\tMedian of values in time range |\n",
    "| min |\tMinimum data value |\n",
    "| sum |\tSum of values |\n"
   ]
  },
  {
   "cell_type": "code",
   "execution_count": null,
   "metadata": {},
   "outputs": [],
   "source": [
    "df.X.resample('Y').mean()"
   ]
  },
  {
   "cell_type": "code",
   "execution_count": null,
   "metadata": {},
   "outputs": [],
   "source": [
    "df.Y.resample('W').sum()"
   ]
  },
  {
   "cell_type": "code",
   "execution_count": null,
   "metadata": {},
   "outputs": [],
   "source": [
    "df.X.resample('Q').median()"
   ]
  },
  {
   "cell_type": "markdown",
   "metadata": {},
   "source": [
    "### Example: Report on UFO Sighting"
   ]
  },
  {
   "cell_type": "code",
   "execution_count": null,
   "metadata": {},
   "outputs": [],
   "source": [
    "url = 'http://bit.ly/uforeports'\n",
    "df_ufo = pd.read_csv(url)            \n",
    "df_ufo "
   ]
  },
  {
   "cell_type": "markdown",
   "metadata": {},
   "source": [
    "Convert the `Time` column to datetime format:"
   ]
  },
  {
   "cell_type": "code",
   "execution_count": null,
   "metadata": {},
   "outputs": [],
   "source": [
    "df_ufo['Time'] = pd.to_datetime(df_ufo.Time)\n",
    "df_ufo"
   ]
  },
  {
   "cell_type": "markdown",
   "metadata": {},
   "source": [
    "Rename the column to `Date`:"
   ]
  },
  {
   "cell_type": "code",
   "execution_count": null,
   "metadata": {},
   "outputs": [],
   "source": [
    "df_ufo.rename(columns={'Time':'Date'}, inplace=True)\n",
    "df_ufo"
   ]
  },
  {
   "cell_type": "markdown",
   "metadata": {},
   "source": [
    "Move the `Date` column as the dataframe index:"
   ]
  },
  {
   "cell_type": "code",
   "execution_count": null,
   "metadata": {},
   "outputs": [],
   "source": [
    "df_ufo = df_ufo.set_index(['Date'])\n",
    "df_ufo"
   ]
  },
  {
   "cell_type": "markdown",
   "metadata": {},
   "source": [
    "**Question**: How to determine the number of sightings between two dates?"
   ]
  },
  {
   "cell_type": "code",
   "execution_count": null,
   "metadata": {},
   "outputs": [],
   "source": [
    "df1 = df_ufo.loc['1978-01-01 09:00:00':'1980-01-01 11:00:00']\n",
    "df1"
   ]
  },
  {
   "cell_type": "markdown",
   "metadata": {},
   "source": [
    "**Question**: How to extract the sightings at a specific month?"
   ]
  },
  {
   "cell_type": "code",
   "execution_count": null,
   "metadata": {},
   "outputs": [],
   "source": [
    "df2 = df_ufo[df_ufo.index.month == 2]\n",
    "df2"
   ]
  },
  {
   "cell_type": "markdown",
   "metadata": {},
   "source": [
    "**Question**: How to extract the sightings in a given State?"
   ]
  },
  {
   "cell_type": "code",
   "execution_count": null,
   "metadata": {},
   "outputs": [],
   "source": [
    "df3 = df_ufo[df_ufo['State']== 'CA']\n",
    "df3"
   ]
  },
  {
   "cell_type": "markdown",
   "metadata": {},
   "source": [
    "**Question**: How to count the number of sightings in each state?"
   ]
  },
  {
   "cell_type": "code",
   "execution_count": null,
   "metadata": {},
   "outputs": [],
   "source": [
    "df_ufo.groupby(['State']).count()"
   ]
  },
  {
   "cell_type": "markdown",
   "metadata": {},
   "source": [
    "### Example: Temperatures (F) and Precipitation (inches) in July 2018 for Boulder, CO"
   ]
  },
  {
   "cell_type": "code",
   "execution_count": null,
   "metadata": {},
   "outputs": [],
   "source": [
    "url = \"https://ndownloader.figshare.com/files/12948515\"\n",
    "df = pd.read_csv(url)            \n",
    "df "
   ]
  },
  {
   "cell_type": "code",
   "execution_count": null,
   "metadata": {},
   "outputs": [],
   "source": [
    "df.info()"
   ]
  },
  {
   "cell_type": "code",
   "execution_count": null,
   "metadata": {},
   "outputs": [],
   "source": [
    "df.describe()"
   ]
  },
  {
   "cell_type": "code",
   "execution_count": null,
   "metadata": {},
   "outputs": [],
   "source": [
    "df['date'] = pd.to_datetime(df.date)\n",
    "df"
   ]
  },
  {
   "cell_type": "code",
   "execution_count": null,
   "metadata": {},
   "outputs": [],
   "source": [
    "df = df.set_index(['date'])\n",
    "df"
   ]
  },
  {
   "cell_type": "code",
   "execution_count": null,
   "metadata": {},
   "outputs": [],
   "source": [
    "import numpy as np\n",
    "df[df == -999.000] = np.nan\n",
    "df"
   ]
  },
  {
   "cell_type": "code",
   "execution_count": null,
   "metadata": {},
   "outputs": [],
   "source": [
    "df = df.dropna()\n",
    "df"
   ]
  },
  {
   "cell_type": "code",
   "execution_count": null,
   "metadata": {},
   "outputs": [],
   "source": [
    "ax = df.plot(kind='scatter', x='max_temp', y='precip');\n",
    "ax.set_ylabel(\"Precipitation (inches)\");\n",
    "ax.set_xlabel(\"Temperature (F)\");"
   ]
  },
  {
   "cell_type": "code",
   "execution_count": null,
   "metadata": {},
   "outputs": [],
   "source": [
    "df['precip'].plot()\n",
    "ax = df.precip.plot(title=\"Daily Total Precipitation - Boulder Colorado in July 2018\", \n",
    "                                figsize=(12,6));\n",
    "ax.set_ylabel(\"Precipitation (inches)\");"
   ]
  },
  {
   "cell_type": "markdown",
   "metadata": {},
   "source": [
    "### Example: Arctic Oscillation and North Atlantic Oscillation  Datasets\n",
    "- The <a href=\"https://en.wikipedia.org/wiki/Arctic_oscillation\">Arctic oscillation (AO)</a> or Northern Annular Mode/Northern Hemisphere Annular Mode (NAM) is a weather phenomenon at the Arctic poles north of 20 degrees latitude. It is an important mode of climate variability for the Northern Hemisphere.\n",
    "- The <a href=\"https://en.wikipedia.org/wiki/North_Atlantic_oscillation\">North Atlantic Oscillation (NAO)</a> is a weather phenomenon in the North Atlantic Ocean of fluctuations in the difference of atmospheric pressure at sea level (SLP) between the Icelandic Low and the Azores High. "
   ]
  },
  {
   "cell_type": "code",
   "execution_count": null,
   "metadata": {},
   "outputs": [],
   "source": [
    "ao_url = \"http://www.cpc.ncep.noaa.gov/products/precip/CWlink/daily_ao_index/monthly.ao.index.b50.current.ascii\"\n",
    "nao_url = \"http://www.cpc.ncep.noaa.gov/products/precip/CWlink/pna/norm.nao.monthly.b5001.current.ascii\""
   ]
  },
  {
   "cell_type": "code",
   "execution_count": null,
   "metadata": {},
   "outputs": [],
   "source": [
    "nao_df = pd.read_table(nao_url, sep='\\s+', \n",
    "               parse_dates={'dates':[0, 1]}, header=None, index_col=0, squeeze=True)\n",
    "nao_df"
   ]
  },
  {
   "cell_type": "code",
   "execution_count": null,
   "metadata": {},
   "outputs": [],
   "source": [
    "ao_df = pd.read_table(ao_url, sep='\\s+', \n",
    "               parse_dates={'dates':[0, 1]}, header=None, index_col=0, squeeze=True)\n",
    "ao_df"
   ]
  },
  {
   "cell_type": "code",
   "execution_count": null,
   "metadata": {},
   "outputs": [],
   "source": [
    "ao_df.columns = ['dates', 'AO']\n",
    "ao_df"
   ]
  },
  {
   "cell_type": "markdown",
   "metadata": {},
   "source": [
    "Create a Pandas DataFrame by combining the two Pandas Series. Note that the frequency of the data is one month (freq='M')."
   ]
  },
  {
   "cell_type": "code",
   "execution_count": null,
   "metadata": {},
   "outputs": [],
   "source": [
    "aonao_df = pd.DataFrame({'AO':ao_df.to_period(freq='M'), 'NAO':nao_df.to_period(freq='M')})\n",
    "aonao_df"
   ]
  },
  {
   "cell_type": "code",
   "execution_count": null,
   "metadata": {},
   "outputs": [],
   "source": [
    "aonao_df.NAO.plot();"
   ]
  },
  {
   "cell_type": "code",
   "execution_count": null,
   "metadata": {},
   "outputs": [],
   "source": [
    "aonao_df.NAO['2010':'2019'].plot();"
   ]
  },
  {
   "cell_type": "code",
   "execution_count": null,
   "metadata": {},
   "outputs": [],
   "source": [
    "aonao_df.NAO['2010-02':'2010-11'].plot();"
   ]
  },
  {
   "cell_type": "code",
   "execution_count": null,
   "metadata": {},
   "outputs": [],
   "source": [
    "aonao_df.plot(subplots=True);"
   ]
  },
  {
   "cell_type": "code",
   "execution_count": null,
   "metadata": {},
   "outputs": [],
   "source": [
    "aonao_df.loc[(aonao_df.AO > 0) & (aonao_df.NAO < 0) \n",
    "        & (aonao_df.index > '2010-01') \n",
    "        & (aonao_df.index < '2020-01'), 'NAO'].plot(kind='barh');"
   ]
  },
  {
   "cell_type": "markdown",
   "metadata": {},
   "source": [
    "#### Resampling\n",
    "\n",
    "- Pandas provide easy way to resample data to different time frequency. \n",
    "- Two main parameters for resampling:\n",
    "     1. Time period you resample to \n",
    "     2. The method that you use. By default the method is mean. \n",
    "     \n",
    "In the example below we calculate the annual mean (\"A\")."
   ]
  },
  {
   "cell_type": "code",
   "execution_count": null,
   "metadata": {},
   "outputs": [],
   "source": [
    "aonao_df_mm = aonao_df.resample(\"A\").mean()\n",
    "aonao_df_mm.plot(style='g--', subplots=True);"
   ]
  },
  {
   "cell_type": "code",
   "execution_count": null,
   "metadata": {},
   "outputs": [],
   "source": [
    "aonao_df_mm = aonao_df.resample(\"A\").median()\n",
    "aonao_df_mm.plot(style='g--', subplots=True);"
   ]
  },
  {
   "cell_type": "markdown",
   "metadata": {},
   "source": [
    "You can use your methods for resampling, for example `np.max` (in this case we change resampling frequency to 3 years):"
   ]
  },
  {
   "cell_type": "code",
   "execution_count": null,
   "metadata": {},
   "outputs": [],
   "source": [
    "aonao_df_mm = aonao_df.resample(\"3A\").apply(np.max)\n",
    "aonao_df_mm.plot(style='g--', subplots=True);"
   ]
  },
  {
   "cell_type": "markdown",
   "metadata": {},
   "source": [
    "You can specify several functions at once as a list:"
   ]
  },
  {
   "cell_type": "code",
   "execution_count": null,
   "metadata": {},
   "outputs": [],
   "source": [
    "aonao_df_mm = aonao_df.NAO.resample(\"A\").apply(['mean', np.min, np.max])\n",
    "aonao_df_mm['1900':'2020'].plot(subplots=True);"
   ]
  },
  {
   "cell_type": "markdown",
   "metadata": {},
   "source": [
    "#### Group By\n",
    "\n",
    "Process that involves one or more of the steps:\n",
    "\n",
    "- Splitting the data into groups based on some criteria.\n",
    "- Applying a function to each group independently.\n",
    "- Combining the results into a data structure."
   ]
  },
  {
   "cell_type": "markdown",
   "metadata": {},
   "source": [
    "Group by year:"
   ]
  },
  {
   "cell_type": "code",
   "execution_count": null,
   "metadata": {},
   "outputs": [],
   "source": [
    "aonao_df_gb_year = aonao_df.groupby(by=[aonao_df.index.year]).mean()\n",
    "aonao_df_gb_year"
   ]
  },
  {
   "cell_type": "code",
   "execution_count": null,
   "metadata": {},
   "outputs": [],
   "source": [
    "aonao_df.groupby(pd.Grouper(freq='A')).mean()"
   ]
  },
  {
   "cell_type": "markdown",
   "metadata": {},
   "source": [
    "Group by month:"
   ]
  },
  {
   "cell_type": "code",
   "execution_count": null,
   "metadata": {},
   "outputs": [],
   "source": [
    "aonao_df_gb_month = aonao_df.groupby(by=[aonao_df.index.month]).mean()\n",
    "aonao_df_gb_month"
   ]
  },
  {
   "cell_type": "code",
   "execution_count": null,
   "metadata": {},
   "outputs": [],
   "source": [
    "aonao_df.groupby(pd.Grouper(freq='M')).mean()"
   ]
  },
  {
   "cell_type": "markdown",
   "metadata": {},
   "source": [
    "Quaterly data:"
   ]
  },
  {
   "cell_type": "code",
   "execution_count": null,
   "metadata": {},
   "outputs": [],
   "source": [
    "aonao_df.groupby(pd.Grouper(freq='Q')).mean()"
   ]
  },
  {
   "cell_type": "code",
   "execution_count": null,
   "metadata": {},
   "outputs": [],
   "source": []
  }
 ],
 "metadata": {
  "kernelspec": {
   "display_name": "Python 3",
   "language": "python",
   "name": "python3"
  },
  "language_info": {
   "codemirror_mode": {
    "name": "ipython",
    "version": 3
   },
   "file_extension": ".py",
   "mimetype": "text/x-python",
   "name": "python",
   "nbconvert_exporter": "python",
   "pygments_lexer": "ipython3",
   "version": "3.7.3"
  }
 },
 "nbformat": 4,
 "nbformat_minor": 1
}
