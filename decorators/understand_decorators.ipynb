{
 "cells": [
  {
   "cell_type": "markdown",
   "metadata": {},
   "source": [
    "<center>\n",
    "<table>\n",
    "  <tr>\n",
    "    <td><img src=\"https://portal.nccs.nasa.gov/datashare/astg/training/python/logos/nasa-logo.svg\" width=\"100\"/> </td>\n",
    "     <td><img src=\"https://portal.nccs.nasa.gov/datashare/astg/training/python/logos/ASTG_logo.png?raw=true\" width=\"80\"/> </td>\n",
    "     <td> <img src=\"https://www.nccs.nasa.gov/sites/default/files/NCCS_Logo_0.png\" width=\"130\"/> </td>\n",
    "    </tr>\n",
    "</table>\n",
    "</center>\n",
    "\n",
    "        \n",
    "<center>\n",
    "<h1><font color= \"blue\" size=\"+3\">ASTG Python Courses</font></h1>\n",
    "</center>\n",
    "\n",
    "---\n",
    "\n",
    "<CENTER>\n",
    "<H1 style=\"color:red\">\n",
    "Python Decorators\n",
    "</H1>    \n",
    "</CENTER>"
   ]
  },
  {
   "cell_type": "markdown",
   "metadata": {},
   "source": [
    "## Table of Contents\n",
    "1. [Reference Documents](#Ref_Docs)\n",
    "2. [What are Decorators?](#What)\n",
    "3. [Useful Background](#Back)\n",
    "   1. [Example](#Back_example)\n",
    "   2. [Function as Object](#Back_object)\n",
    "   3. [Function as Argument of Another Function](#Back_argument)\n",
    "   4. [Function as Returned Value of Another Function](#Back_function)\n",
    "4. [Simple Decorators](#Simple)\n",
    "5. [Decorating Functions with Parameters](#Param)\n",
    "6. [Decorator Functions with Decorator Arguments](#Decorators)\n",
    "7. [Chaining Decorators](#Chaining)\n",
    "8. [Useful Decorators](#Useful)\n",
    "   1. [Memoization](#Useful_memory)\n",
    "   2. [Speed Up Applications](#Useful_speed)\n",
    "9. [Application: Timer Decorator](#Application)"
   ]
  },
  {
   "cell_type": "markdown",
   "metadata": {},
   "source": []
  },
  {
   "cell_type": "markdown",
   "metadata": {},
   "source": [
    "## Reference Documents <a class=\"anchor\" id=\"Ref_Docs\"></a>\n",
    "\n",
    "- <a href=\"https://refactoring.guru/design-patterns/decorator\"> Decorator</a>\n",
    "- <A HREF=\"https://dbader.org/blog/python-decorators\"> Python Decorators: A Step-By-Step Introduction</A>\n",
    "- <A HREF=\"https://www.programiz.com/python-programming/decorator\"> Python Decorators </A>\n",
    "- <a href=\"https://www.thecodeship.com/patterns/guide-to-python-function-decorators/\">A guide to Python's function decorators</a>\n",
    "- [Understanding Python Decorators and How to Use Them Effectively](https://soshace.com/understanding-python-decorators-and-how-to-use-them-effectively/)\n"
   ]
  },
  {
   "cell_type": "markdown",
   "metadata": {},
   "source": [
    "## <font color=\"red\">What are Decorators?</font> <a class=\"anchor\" id=\"What\"></a>\n",
    "\n",
    "> A **decorator** is a structural design pattern that lets you attach new behaviors to objects by placing these objects inside special wrapper objects that contain the behaviors.\n",
    "\n",
    "\n",
    "+ Decorators are a way to extend the behavior of pieces of software without actually having to modify them.\n",
    "+ In Python, they are functions that can change the behavior of other functions without changing their code. \n",
    "+ They provide a transparent way of adding functionalities to already defined functions.\n",
    "\n",
    "<font color=\"blue\">**Decorators work as wrappers, modifying the behavior of the code before and after a target function execution, without the need to modify the function itself, augmenting the original functionality, thus decorating it.**</font>"
   ]
  },
  {
   "cell_type": "markdown",
   "metadata": {},
   "source": [
    "**Generic Example 1**\n",
    "\n",
    "Wearing clothes is an example of using decorators. \n",
    "- When you’re cold, you wrap yourself in a sweater. \n",
    "- If you’re still cold with a sweater, you can wear a jacket on top. \n",
    "- If it’s raining, you can put on a raincoat. \n",
    "- All of these garments “extend” your basic behavior but aren’t part of you, and you can easily take off any piece of clothing whenever you don’t need it.\n",
    "\n",
    "![fig_dec](https://refactoring.guru/images/patterns/content/decorator/decorator-comic-1.png)\n",
    "Image Source: refactoring.guru/design-patterns/decorator"
   ]
  },
  {
   "cell_type": "markdown",
   "metadata": {},
   "source": [
    "**Generic Example 2**\n",
    "\n",
    "- Assume that we want to measure the time it takes to execute a couple functions in our program.\n",
    "- We could code a timer around their behavior by modifying them all, or we can create a decorator, centralizing the logic of timing a function within one place and applying it to several functions."
   ]
  },
  {
   "cell_type": "markdown",
   "metadata": {},
   "source": [
    "## <font color=\"red\">Types of Decorators</font> <a class=\"anchor\" id=\"Back\"></a>\n",
    "\n",
    "The main types of decorators in Python are:\n",
    "\n",
    "- __Function Decorators__: These let you tweak a function’s behavior by covering it with another function. This way, you can change how a function works without messing with its original code.\n",
    "- __Class Decorators__: These wrap a class with another one, allowing you to alter the class’s behavior, add features, or even change how its instances are made.\n",
    "- __Method Decorators__: With these, you can modify a class method’s behavior by enveloping it with another function. This comes in handy when you want to add extra functionality to certain methods in a class without touching their original code.\n",
    "- __Parameterized Decorators__: These are decorators that take arguments. You create them by defining a function that returns a decorator. They are beneficial due to their ability to accept parameters, which enhances their adaptability and potency\n",
    "\n",
    "This presentation will focus on __function decorators__ and __class decorators__, providing you with practical examples, explanations, and even some tips and tricks to help you become proficient in using decorators in your Python projects."
   ]
  },
  {
   "cell_type": "markdown",
   "metadata": {},
   "source": [
    "## <font color=\"red\">Importance of Decorators</font> <a class=\"anchor\" id=\"Back\"></a>\n",
    "\n",
    "- __Code Reusability__: With decorators we can use the same code at multiple places.\n",
    "The code is more modular, easier to maintain, and less prone to errors. Decorators help to keep your code DRY (Don’t Repeat Yourself) and promote reusability.\n",
    "- __Code DRY Principle__: We define decorators once and used them as needed throughout the application. This makes the code more efficient and maintainable.\n",
    "- __Code Cleaness__: With decorators we can write cleaner, more concise, more readable code. \n",
    "- __Code extensibility__: With decorators, we extend existing code’s behavior by adding new functionality to a function or class without changing its original source code, allowing for more flexible and adaptable code."
   ]
  },
  {
   "cell_type": "markdown",
   "metadata": {},
   "source": [
    "## <font color=\"red\">Useful Background</font> <a class=\"anchor\" id=\"Back\"></a>\n",
    "\n",
    "* Python is an object oriented language.\n",
    "* Typically, everything in Python is an `object`.\n",
    "* Names that we define are simply identifiers bound to these objects.\n",
    "* Functions are objects with attributes.\n",
    "* Various different names can be bound to the same function object."
   ]
  },
  {
   "cell_type": "code",
   "execution_count": null,
   "metadata": {},
   "outputs": [],
   "source": [
    "import functools\n",
    "import datetime as dt\n",
    "import numpy as np"
   ]
  },
  {
   "cell_type": "markdown",
   "metadata": {},
   "source": [
    "####  Example: function receiving arguments of different types<a class=\"anchor\" id=\"Back_example\"></a>"
   ]
  },
  {
   "cell_type": "code",
   "execution_count": null,
   "metadata": {},
   "outputs": [],
   "source": [
    "def add_objects(a, b):\n",
    "    \"\"\"\n",
    "    Add two objects as long as the operation is allowed.\n",
    "    \"\"\"\n",
    "    return a + b   "
   ]
  },
  {
   "cell_type": "code",
   "execution_count": null,
   "metadata": {},
   "outputs": [],
   "source": [
    "print(add_objects(1, 3))"
   ]
  },
  {
   "cell_type": "code",
   "execution_count": null,
   "metadata": {},
   "outputs": [],
   "source": [
    "print(add_objects(1.7, 3.14))"
   ]
  },
  {
   "cell_type": "code",
   "execution_count": null,
   "metadata": {},
   "outputs": [],
   "source": [
    "print(add_objects(\"Hello \",\"World!\"))"
   ]
  },
  {
   "cell_type": "markdown",
   "metadata": {},
   "source": [
    "#### Functions as Objects <a class=\"anchor\" id=\"Back_objects\"></a>\n",
    "\n",
    "- **Functions are objects**:\n",
    "    - They can be assigned to variables and passed to and returned from other functions.\n",
    "- We can assign `add_objects` to `addition` and still refer to the same function object."
   ]
  },
  {
   "cell_type": "code",
   "execution_count": null,
   "metadata": {},
   "outputs": [],
   "source": [
    "addition = add_objects"
   ]
  },
  {
   "cell_type": "code",
   "execution_count": null,
   "metadata": {},
   "outputs": [],
   "source": [
    "print(addition(1, 3))"
   ]
  },
  {
   "cell_type": "code",
   "execution_count": null,
   "metadata": {},
   "outputs": [],
   "source": [
    "print(addition(1.7, 3.14))"
   ]
  },
  {
   "cell_type": "code",
   "execution_count": null,
   "metadata": {},
   "outputs": [],
   "source": [
    "print(addition(\"Hello \", \"World!\"))"
   ]
  },
  {
   "cell_type": "markdown",
   "metadata": {},
   "source": [
    "#### Function as Argument of Another Function <a class=\"anchor\" id=\"Back_argument\"></a>\n",
    "\n",
    "- We can pass functions as arguments to another function."
   ]
  },
  {
   "cell_type": "code",
   "execution_count": null,
   "metadata": {},
   "outputs": [],
   "source": [
    "def add_one(x):\n",
    "    return x + 1\n",
    "\n",
    "def minus_one(x):\n",
    "    return x - 1\n",
    "\n",
    "def operate(func, x):\n",
    "    return func(x)"
   ]
  },
  {
   "cell_type": "code",
   "execution_count": null,
   "metadata": {},
   "outputs": [],
   "source": [
    "operate(add_one, -3.6)"
   ]
  },
  {
   "cell_type": "code",
   "execution_count": null,
   "metadata": {},
   "outputs": [],
   "source": [
    "operate(minus_one, 10.8)"
   ]
  },
  {
   "cell_type": "markdown",
   "metadata": {},
   "source": [
    "#### Function as Returned Value of Another Function <a class=\"anchor\" id=\"Back_function\"></a>\n",
    "\n",
    "- We can define functions inside other functions.\n",
    "- A function can return another function."
   ]
  },
  {
   "cell_type": "code",
   "execution_count": null,
   "metadata": {},
   "outputs": [],
   "source": [
    "def called_func(a, b):\n",
    "    def returned_func(a, b):\n",
    "        return a + b\n",
    "    return returned_func(a, b)\n",
    "\n",
    "new_func = called_func"
   ]
  },
  {
   "cell_type": "markdown",
   "metadata": {},
   "source": [
    "`returned_func` is a nested function which is defined and returned, each time we call `called_func`."
   ]
  },
  {
   "cell_type": "code",
   "execution_count": null,
   "metadata": {},
   "outputs": [],
   "source": [
    "new_func(1, 2)"
   ]
  },
  {
   "cell_type": "code",
   "execution_count": null,
   "metadata": {},
   "outputs": [],
   "source": [
    "new_func(\"Hello\", \" World!\")"
   ]
  },
  {
   "cell_type": "markdown",
   "metadata": {},
   "source": [
    "## <font color=\"red\">Simple Function Decorators</font> <a class=\"anchor\" id=\"Simple\"></a>\n",
    "\n",
    "+ A decorator takes in a function, adds some functionality and returns it."
   ]
  },
  {
   "cell_type": "code",
   "execution_count": null,
   "metadata": {},
   "outputs": [],
   "source": [
    "def simple_decorator(func):\n",
    "    def wrapper_func():\n",
    "        print(\"About to decorate.\")\n",
    "        func()\n",
    "        print(\"Done decorating.\")\n",
    "    return wrapper_func\n",
    "\n",
    "def simple_function():\n",
    "    print(\"\\t I am a simple function.\")"
   ]
  },
  {
   "cell_type": "code",
   "execution_count": null,
   "metadata": {},
   "outputs": [],
   "source": [
    "simple_function()"
   ]
  },
  {
   "cell_type": "code",
   "execution_count": null,
   "metadata": {},
   "outputs": [],
   "source": [
    "decoration = simple_decorator(simple_function)\n",
    "\n",
    "decoration()"
   ]
  },
  {
   "cell_type": "markdown",
   "metadata": {},
   "source": [
    "* `simple_decorator` is a decorator.\n",
    "* The function `simple_function` got decorated and the returned function was given the name `decoration`.\n",
    "* The decorator acts as a wrapper and the nature of the object (`simple_function`) that got decorated is not altered.\n",
    "\n",
    "Generally, we decorate a function and reassign it as:\n",
    "\n",
    "```python\n",
    "simple_function = simple_decorator(simple_function)\n",
    "```\n",
    "\n",
    "We can use the `@` symbol along with the name of the decorator function and place it above the definition of the function to be decorated. "
   ]
  },
  {
   "cell_type": "code",
   "execution_count": null,
   "metadata": {},
   "outputs": [],
   "source": [
    "@simple_decorator\n",
    "def simple_function():\n",
    "    print(\"\\t I am a simple function\")"
   ]
  },
  {
   "cell_type": "markdown",
   "metadata": {},
   "source": [
    "The above is equivalent to:\n",
    "\n",
    "```python\n",
    "def simple_function():\n",
    "    print(\"\\t I am a simple function\")\n",
    "    \n",
    "simple_function = simple_decorator(simple_function)\n",
    "```"
   ]
  },
  {
   "cell_type": "markdown",
   "metadata": {},
   "source": [
    "## <font color=\"red\">Decorating Functions with Parameters</font> <a class=\"anchor\" id=\"Param\"></a>\n",
    "\n",
    "- The above decorator is simple and only works for functions that do not have any arguments. \n",
    "- What if we have functions that take in arguments?\n",
    "\n",
    "Consider the function:"
   ]
  },
  {
   "cell_type": "code",
   "execution_count": null,
   "metadata": {},
   "outputs": [],
   "source": [
    "def divide_numbers(a, b):\n",
    "    \"\"\"\n",
    "    Divide two numbers.\n",
    "    \"\"\"\n",
    "    return a / b"
   ]
  },
  {
   "cell_type": "markdown",
   "metadata": {},
   "source": [
    "The function will give and error if the second argument `b` is equal to zero."
   ]
  },
  {
   "cell_type": "code",
   "execution_count": null,
   "metadata": {},
   "outputs": [],
   "source": [
    "divide_numbers(1.0, 5.0)"
   ]
  },
  {
   "cell_type": "code",
   "execution_count": null,
   "metadata": {},
   "outputs": [],
   "source": [
    "divide_numbers(1.0, 0.0)"
   ]
  },
  {
   "cell_type": "markdown",
   "metadata": {},
   "source": [
    "We want to write a decorator to check the value of `b` before performing the division."
   ]
  },
  {
   "cell_type": "code",
   "execution_count": null,
   "metadata": {},
   "outputs": [],
   "source": [
    "def divide_decorator(func):\n",
    "   def wrapper_func(a, b):\n",
    "      print(f\"Perform the division of {a} by {b}\")\n",
    "      if b == 0:\n",
    "         print(\"\\t Sorry! Cannot perform the division because the second argument is 0.\")\n",
    "         return\n",
    "\n",
    "      return func(a, b)\n",
    "   return wrapper_func"
   ]
  },
  {
   "cell_type": "code",
   "execution_count": null,
   "metadata": {},
   "outputs": [],
   "source": [
    "@divide_decorator\n",
    "def divide_numbers(a, b):\n",
    "    return a/b"
   ]
  },
  {
   "cell_type": "markdown",
   "metadata": {},
   "source": [
    "This new implementation will return `None` if the error condition arises."
   ]
  },
  {
   "cell_type": "code",
   "execution_count": null,
   "metadata": {},
   "outputs": [],
   "source": [
    "divide_numbers(1.0, 5.0)"
   ]
  },
  {
   "cell_type": "code",
   "execution_count": null,
   "metadata": {},
   "outputs": [],
   "source": [
    "divide_numbers(1.0, 0.0)"
   ]
  },
  {
   "cell_type": "markdown",
   "metadata": {},
   "source": [
    "Observation:\n",
    "\n",
    "- In the above example, the parmeters of the nested  `wrapper_func` function are the same as the arguments  function it decorates.\n",
    "  \n",
    "We can make general decorators that work with any number of arguments.\n",
    "\n",
    "```python\n",
    "def general_decorator(func):\n",
    "    def wrapper_func(*args, **kwargs):\n",
    "        print(\"I can decorate any function\")\n",
    "        return func(*args, **kwargs)\n",
    "    return wrapper_func\n",
    "```\n",
    "\n",
    "where `args` is a tuple of positional arguments and `kwargs` is a dictionary of keyword arguments."
   ]
  },
  {
   "cell_type": "markdown",
   "metadata": {},
   "source": [
    "### Steps for Decorating a Function\n",
    "\n",
    "1. Define a high-order function that takes a function as argument (input).\n",
    "2. Inside the high-order function, define an \"inner\" (wrapper) function that will modify or extend the input functon's behavior.\n",
    "3. Call the input function within the wrapper function and add (if necessary) more functionallity.\n",
    "4. Return the wrapper function from the high-order function."
   ]
  },
  {
   "cell_type": "markdown",
   "metadata": {},
   "source": [
    "## <font color=\"red\">Decorator Functions with Decorator Arguments</font> <a class=\"anchor\" id=\"Decorators\"></a>\n",
    "\n",
    "The general code looks like:\n",
    "\n",
    "```python\n",
    "def decorator(deco_arguments):\n",
    "    def real_decorator(func):\n",
    "        def wrapped_func(*args, **kwargs):\n",
    "            do_anything()\n",
    "            do_something_with_argument(deco_arguments)\n",
    "            returned_val = func(*args, **kwargs)\n",
    "            do_other_things()\n",
    "            return returned_val\n",
    "        return wrapped_func\n",
    "    return real_decorator\n",
    "```\n",
    "\n",
    "**Example**"
   ]
  },
  {
   "cell_type": "code",
   "execution_count": null,
   "metadata": {},
   "outputs": [],
   "source": [
    "def decorator(arg1, arg2):\n",
    "    def real_decorator(function):\n",
    "        def wrapper_func(*args, **kwargs):\n",
    "            print(f\"You decorated a function that does something with {arg1} and {arg2}\")\n",
    "            function(*args, **kwargs)\n",
    "        return wrapper_func\n",
    "\n",
    "    return real_decorator"
   ]
  },
  {
   "cell_type": "code",
   "execution_count": null,
   "metadata": {},
   "outputs": [],
   "source": [
    "@decorator(\"Python\", \"Decorators\")\n",
    "def print_args(*args):\n",
    "    for i, arg in enumerate(args):\n",
    "        print(f\" Item {i:<} --> {arg}\")"
   ]
  },
  {
   "cell_type": "code",
   "execution_count": null,
   "metadata": {},
   "outputs": [],
   "source": [
    "print_args(\"Python\", 2, [3,4])"
   ]
  },
  {
   "cell_type": "markdown",
   "metadata": {},
   "source": [
    "## <font color=\"red\">Chaining Decorators</font> <a class=\"anchor\" id=\"Chaining\"></a>\n",
    "* Multiple decorators can be chained.\n",
    "* A function can be decorated multiple times with different (or same) decorators. \n",
    "* We simply place the decorators above the desired function."
   ]
  },
  {
   "cell_type": "markdown",
   "metadata": {},
   "source": [
    "**Example**"
   ]
  },
  {
   "cell_type": "code",
   "execution_count": null,
   "metadata": {},
   "outputs": [],
   "source": [
    "def print_stars(first_func):\n",
    "    def first_wrapper_func(*args, **kwargs):\n",
    "        print(f'{\"*\" * 30}')\n",
    "        print(f\"\\t first_wrapper_func is wrapping: {first_func.__name__}\")\n",
    "        first_func(*args, **kwargs)\n",
    "        print(f'{\"*\" * 30}')\n",
    "    return first_wrapper_func"
   ]
  },
  {
   "cell_type": "code",
   "execution_count": null,
   "metadata": {},
   "outputs": [],
   "source": [
    "def print_percents(sec_func):\n",
    "    def sec_wrapper_func(*args, **kwargs):\n",
    "        print(f'{\"%\" * 30}')\n",
    "        print(f\"\\t sec_wrapper_func is wrapping: {sec_func.__name__}\")\n",
    "        sec_func(*args, **kwargs)\n",
    "        print(f'{\"%\" * 30}')\n",
    "    return sec_wrapper_func"
   ]
  },
  {
   "cell_type": "code",
   "execution_count": null,
   "metadata": {},
   "outputs": [],
   "source": [
    "@print_stars\n",
    "@print_percents\n",
    "def add_objects(a, b):\n",
    "    \"\"\"\n",
    "    Add two objects as long as the operation is allowed.\n",
    "    \"\"\"\n",
    "    print(f\"Add {a} and {b}\")\n",
    "    return a + b  "
   ]
  },
  {
   "cell_type": "code",
   "execution_count": null,
   "metadata": {},
   "outputs": [],
   "source": [
    "add_objects(2.0, 6)"
   ]
  },
  {
   "cell_type": "code",
   "execution_count": null,
   "metadata": {},
   "outputs": [],
   "source": [
    "add_objects(\"Hello\", \" Class!\")"
   ]
  },
  {
   "cell_type": "markdown",
   "metadata": {},
   "source": [
    "#### Example: Collect the execution activities of a function."
   ]
  },
  {
   "cell_type": "code",
   "execution_count": null,
   "metadata": {},
   "outputs": [],
   "source": [
    "def deco_benchmark(func):\n",
    "    \"\"\"\n",
    "    Prints the time a function takes to execute.\n",
    "    \"\"\"\n",
    "    def wrapper_bench(*args, **kwargs):\n",
    "        beg_time = dt.datetime.now()\n",
    "        res = func(*args, **kwargs)  \n",
    "        end_time = dt.datetime.now()\n",
    "        delta       = end_time - beg_time\n",
    "        elapsed_time = ((1000000 * delta.seconds + delta.microseconds) / 1000000.0)\n",
    "        print(f\"Elapsed time to execute {func.__name__}: {elapsed_time}\")\n",
    "        return res\n",
    "    return wrapper_bench"
   ]
  },
  {
   "cell_type": "code",
   "execution_count": null,
   "metadata": {},
   "outputs": [],
   "source": [
    "def deco_logging(func):\n",
    "    \"\"\"\n",
    "    Logs the activity of the script.\n",
    "    \"\"\"\n",
    "    def wrapper_log(*args, **kwargs):\n",
    "        res = func(*args, **kwargs)  \n",
    "        print(f\"Name of function: {func.__name__} \\n\\t Arguments {args} {kwargs}\")\n",
    "        return res\n",
    "    return wrapper_log"
   ]
  },
  {
   "cell_type": "code",
   "execution_count": null,
   "metadata": {},
   "outputs": [],
   "source": [
    "def deco_counter(func):\n",
    "    \"\"\"\n",
    "      Counts and prints the number of times a function has been executed\n",
    "    \"\"\"\n",
    "    def wrapper(*args, **kwargs):\n",
    "        wrapper.count += 1\n",
    "        res = func(*args, **kwargs)  \n",
    "        print(f'{func.__name__} has been used: {wrapper.count} time(s)')\n",
    "        return res\n",
    "    wrapper.count = 0\n",
    "    return wrapper"
   ]
  },
  {
   "cell_type": "code",
   "execution_count": null,
   "metadata": {},
   "outputs": [],
   "source": [
    "@deco_counter\n",
    "@deco_benchmark\n",
    "@deco_logging\n",
    "def multiply_objects(x, y):\n",
    "    \"Multiply two objects.\"\n",
    "    return x*y"
   ]
  },
  {
   "cell_type": "code",
   "execution_count": null,
   "metadata": {},
   "outputs": [],
   "source": [
    "multiply_objects(2.67, 10.2)"
   ]
  },
  {
   "cell_type": "code",
   "execution_count": null,
   "metadata": {},
   "outputs": [],
   "source": [
    "multiply_objects(\"***\", 10)"
   ]
  },
  {
   "cell_type": "code",
   "execution_count": null,
   "metadata": {},
   "outputs": [],
   "source": [
    "print(multiply_objects.__module__)       # __main__\n",
    "print(multiply_objects.__name__)         # wrapper\n",
    "print(multiply_objects.__qualname__)     # deco_counter.<locals>.wrapper\n",
    "print(multiply_objects.__doc__)          # None\n",
    "print(multiply_objects.__annotations__)  # {}"
   ]
  },
  {
   "cell_type": "markdown",
   "metadata": {},
   "source": [
    "#### Observation\n",
    "\n",
    "- When we talk about functions, we expect them to specify properties which describe them as well as document what they do. These include the `__name__` and `__doc__` attributes.\n",
    "- When we use a wrapper though, this no longer works as we expect as in the case of using a function closure, the details of the nested function are returned.\n",
    "\n",
    "Assume that we want the attributes set to that of the function we want to decorate. \n",
    "- We need to use the `functools.wraps` function to decorate the wrappers too.\n",
    "- Doing that ensures that the attributes such as `__module__`, `__name__`, `__doc__`, etc. remain the ones of the object being decorated."
   ]
  },
  {
   "cell_type": "code",
   "execution_count": null,
   "metadata": {},
   "outputs": [],
   "source": [
    "def deco_benchmark2(func):\n",
    "    \"\"\"\n",
    "    Prints the time a function takes to execute.\n",
    "    \"\"\"\n",
    "    @functools.wraps(func)\n",
    "    def wrapper_bench2(*args, **kwargs):\n",
    "        beg_time = dt.datetime.now()\n",
    "        res = func(*args, **kwargs)  \n",
    "        end_time = dt.datetime.now()\n",
    "        delta       = end_time - beg_time\n",
    "        elapsed_time = ((1000000 * delta.seconds + delta.microseconds) / 1000000.0)\n",
    "        print(f\"Elapsed time to execute {func.__name__}: {elapsed_time}\")\n",
    "        return res\n",
    "    return wrapper_bench2\n",
    "\n",
    "def deco_logging2(func):\n",
    "    \"\"\"\n",
    "    Logs the activity of the script.\n",
    "    \"\"\"\n",
    "    @functools.wraps(func)\n",
    "    def wrapper_log2(*args, **kwargs):\n",
    "        res = func(*args, **kwargs)  \n",
    "        print(f\"Name of function: {func.__name__} \\n\\t Arguments {args} {kwargs}\")\n",
    "        return res\n",
    "    return wrapper_log2\n",
    "\n",
    "def deco_counter2(func):\n",
    "    \"\"\"\n",
    "    Counts and prints the number of times a function has been executed\n",
    "    \"\"\"\n",
    "    @functools.wraps(func)\n",
    "    def wrapper2(*args, **kwargs):\n",
    "        wrapper2.count += 1\n",
    "        res = func(*args, **kwargs)  \n",
    "        print(f'{func.__name__} has been used: {wrapper2.count} time(s)')\n",
    "        return res\n",
    "    wrapper2.count = 0\n",
    "    return wrapper2"
   ]
  },
  {
   "cell_type": "code",
   "execution_count": null,
   "metadata": {},
   "outputs": [],
   "source": [
    "@deco_counter2\n",
    "@deco_benchmark2\n",
    "@deco_logging2\n",
    "def multiply_objects2(x, y):\n",
    "    \"Multiply two objects.\"\n",
    "    return x*y"
   ]
  },
  {
   "cell_type": "code",
   "execution_count": null,
   "metadata": {},
   "outputs": [],
   "source": [
    "multiply_objects2(complex(5.0, 7.0), complex(1.0, 1.0))"
   ]
  },
  {
   "cell_type": "code",
   "execution_count": null,
   "metadata": {},
   "outputs": [],
   "source": [
    "multiply_objects2(complex(5.0, 7.0), 1.0/complex(1.0, 1.0))"
   ]
  },
  {
   "cell_type": "code",
   "execution_count": null,
   "metadata": {},
   "outputs": [],
   "source": [
    "print(multiply_objects2.__module__)       # __main__\n",
    "print(multiply_objects2.__name__)         # multiply_objects2\n",
    "print(multiply_objects2.__qualname__)     # multiply_objects2\n",
    "print(multiply_objects2.__doc__)          # Multiply two objects.\n",
    "print(multiply_objects2.__annotations__)  # {}"
   ]
  },
  {
   "cell_type": "markdown",
   "metadata": {},
   "source": [
    "## <font color=\"red\">Classes as Decorators </font>\n",
    "\n",
    "There are two requirements to make a class as a decorator:\n",
    "\n",
    "- The `__init__` function needs to take a function as an argument.\n",
    "    - We can also pass only the parameters of the decorator.\n",
    "- The class needs to implement the `__call__` method.\n",
    "    - This is required because the class will be used as a decorator and a decorator must be a callable object.\n",
    "    - In case the function to decore is not passed in `__init__`, it is passed here."
   ]
  },
  {
   "cell_type": "markdown",
   "metadata": {},
   "source": [
    "Consider the function decorator example:"
   ]
  },
  {
   "cell_type": "code",
   "execution_count": null,
   "metadata": {},
   "outputs": [],
   "source": [
    "def decorator(arg1, arg2):\n",
    "    def real_decorator(function):\n",
    "        def wrapper_func(*args, **kwargs):\n",
    "            print(f\"You decorated a function that does something with {arg1} and {arg2}\")\n",
    "            result = function(*args, **kwargs)\n",
    "            return result\n",
    "        return wrapper_func\n",
    "\n",
    "    return real_decorator"
   ]
  },
  {
   "cell_type": "markdown",
   "metadata": {},
   "source": [
    "We can rewrite it using a class instead:"
   ]
  },
  {
   "cell_type": "code",
   "execution_count": null,
   "metadata": {},
   "outputs": [],
   "source": [
    "class MyDecorator:\n",
    "    def __init__(self, arg1, arg2):\n",
    "        self.arg1 = arg1\n",
    "        self.arg2 = arg2\n",
    "        \n",
    "    def __call__(self, function):\n",
    "        def wrapper_func(*args, **kwargs):\n",
    "            print(f\"You decorated a function that does something with {self.arg1} and {self.arg2}\")\n",
    "            result = function(*args, **kwargs)\n",
    "            return result\n",
    "        return wrapper_func"
   ]
  },
  {
   "cell_type": "markdown",
   "metadata": {},
   "source": [
    "Here, we:\n",
    "- Pass the decorator arguments to the `__init__` method.\n",
    "- Implement the `__call__` method to instantiate the class as a decorator.\n",
    "\n",
    "The class can be used to decorate any function:"
   ]
  },
  {
   "cell_type": "code",
   "execution_count": null,
   "metadata": {},
   "outputs": [],
   "source": [
    "@MyDecorator(\"Python\", \"Decorators\")\n",
    "def print_args(*args):\n",
    "    for i, arg in enumerate(args):\n",
    "        print(f\" Item {i:<} --> {arg}\")"
   ]
  },
  {
   "cell_type": "code",
   "execution_count": null,
   "metadata": {},
   "outputs": [],
   "source": [
    "print_args(\"Python\", 2, [3,4])"
   ]
  },
  {
   "cell_type": "code",
   "execution_count": null,
   "metadata": {},
   "outputs": [],
   "source": [
    "@MyDecorator(\"String\", \"Concatenation\")\n",
    "def concat_strings(*args):\n",
    "    mystr = args[0]\n",
    "    for arg in args[1:]:\n",
    "        mystr = \"\".join([mystr, arg])\n",
    "    return mystr"
   ]
  },
  {
   "cell_type": "code",
   "execution_count": null,
   "metadata": {},
   "outputs": [],
   "source": [
    "mystr = concat_strings(\"Simple test\")\n",
    "print(f\"\\n--> Concatenated string: {mystr}\")"
   ]
  },
  {
   "cell_type": "code",
   "execution_count": null,
   "metadata": {},
   "outputs": [],
   "source": [
    "mystr = concat_strings(\"Simple test: \", 'Welcome ', 'to ', 'the ', 'Class!')\n",
    "print(f\"\\n--> Concatenated string: {mystr}\")"
   ]
  },
  {
   "cell_type": "markdown",
   "metadata": {},
   "source": [
    "__Let us combine the `bemchmark`, `logging` and `counter` decorators in a unique class decorator:__"
   ]
  },
  {
   "cell_type": "code",
   "execution_count": null,
   "metadata": {},
   "outputs": [],
   "source": [
    "class MonitorFunction:\n",
    "    def __init__(self):\n",
    "        self.num_calls = 0\n",
    "\n",
    "    def __call__(self, function):\n",
    "        def wrapper(*args, **kwargs):          \n",
    "            print(f\"Name of function: {function.__name__} \\n\\t Arguments {args} {kwargs}\")\n",
    "            \n",
    "            beg_time = dt.datetime.now()\n",
    "            result = function(*args, **kwargs)  \n",
    "            end_time = dt.datetime.now()\n",
    "            delta       = end_time - beg_time\n",
    "            elapsed_time = ((1000000 * delta.seconds + delta.microseconds) / 1000000.0)\n",
    "            print(f\"Elapsed time to execute {function.__name__}: {elapsed_time}\") \n",
    "            \n",
    "            self.num_calls += 1\n",
    "            print(f'{function.__name__} has been used: {self.num_calls} time(s)')\n",
    "            return result\n",
    "        return wrapper"
   ]
  },
  {
   "cell_type": "code",
   "execution_count": null,
   "metadata": {},
   "outputs": [],
   "source": [
    "@MonitorFunction()\n",
    "def multiply_objects3(x, y):\n",
    "    \"Multiply two objects.\"\n",
    "    return x*y"
   ]
  },
  {
   "cell_type": "code",
   "execution_count": null,
   "metadata": {},
   "outputs": [],
   "source": [
    "multiply_objects3(complex(5.0, 7.0), complex(1.0, 1.0))"
   ]
  },
  {
   "cell_type": "code",
   "execution_count": null,
   "metadata": {},
   "outputs": [],
   "source": [
    "multiply_objects3(complex(5.0, 7.0), 1.0/complex(1.0, 1.0))"
   ]
  },
  {
   "cell_type": "markdown",
   "metadata": {},
   "source": [
    "## <font color=\"red\"> Useful Decorators </font> <a class=\"anchor\" id=\"Useful\"></a>\n",
    "\n",
    "For more examples, check the webpage: <a href=\"https://wiki.python.org/moin/PythonDecoratorLibrary\">PythonDecoratorLibrary</a>."
   ]
  },
  {
   "cell_type": "markdown",
   "metadata": {},
   "source": [
    "#### Decorating the Methods of a Class\n",
    "\n",
    "Python provides the following built-in decorators to use with the methods of a class:\n",
    "\n",
    "- `@classmethod`: Used to create methods that are bound to the class and not the object of the class.\n",
    "    - Is shared among all the objects of that class.\n",
    "    - The class is passed as the first parameter (`cls`) to a class method.\n",
    "    - Class methods are often used as factory methods that can create specific instances of the class.\n",
    "- `@staticmethod`: Static methods can't modify object state or class state as they don't have access to `cls` or `self`. They are just a part of the class namespace.\n",
    "- `@property`: It is used to create getters and setters for class attributes."
   ]
  },
  {
   "cell_type": "code",
   "execution_count": null,
   "metadata": {},
   "outputs": [],
   "source": [
    "class Person:\n",
    "    number_people = 0\n",
    "    def __init__(self, name: str, age: int) -> None:\n",
    "        self.name = name\n",
    "        self.age = age\n",
    "        Person.number_people += 1\n",
    "\n",
    "    @staticmethod\n",
    "    def set_age_static(age: int):\n",
    "        print(f\"My age is {age}.\")\n",
    "        \n",
    "    @classmethod\n",
    "    def add_new_person(cls, name: str, age: int):\n",
    "        print(f\"Add a new person in {cls.__name__}.\")\n",
    "        new_person = cls(name, age)\n",
    "        return new_person\n",
    "\n",
    "    @property\n",
    "    def age(self):\n",
    "        return self._age\n",
    "\n",
    "    @property \n",
    "    def months(self):\n",
    "        return self._age * 12\n",
    "\n",
    "    @age.setter\n",
    "    def age(self, new_age: int):\n",
    "        self._age = new_age"
   ]
  },
  {
   "cell_type": "code",
   "execution_count": null,
   "metadata": {},
   "outputs": [],
   "source": [
    "julia = Person('Julia', 37)\n",
    "\n",
    "print(f'I am {julia.name} and {julia.age} years old.')"
   ]
  },
  {
   "cell_type": "code",
   "execution_count": null,
   "metadata": {},
   "outputs": [],
   "source": [
    "print(julia)"
   ]
  },
  {
   "cell_type": "code",
   "execution_count": null,
   "metadata": {},
   "outputs": [],
   "source": [
    "print(f\"I have lived {julia.months} months.\")"
   ]
  },
  {
   "cell_type": "code",
   "execution_count": null,
   "metadata": {},
   "outputs": [],
   "source": [
    "julia.age = 23\n",
    "print(f'I am {julia.age} years old.')"
   ]
  },
  {
   "cell_type": "code",
   "execution_count": null,
   "metadata": {},
   "outputs": [],
   "source": [
    "Person.number_people"
   ]
  },
  {
   "cell_type": "code",
   "execution_count": null,
   "metadata": {},
   "outputs": [],
   "source": [
    "julia.set_age_static(39)"
   ]
  },
  {
   "cell_type": "code",
   "execution_count": null,
   "metadata": {},
   "outputs": [],
   "source": [
    "print(f'I am {julia.age} years old.')"
   ]
  },
  {
   "cell_type": "code",
   "execution_count": null,
   "metadata": {},
   "outputs": [],
   "source": [
    "julius = Person('Julius', 21)"
   ]
  },
  {
   "cell_type": "code",
   "execution_count": null,
   "metadata": {},
   "outputs": [],
   "source": [
    "Person.number_people"
   ]
  },
  {
   "cell_type": "code",
   "execution_count": null,
   "metadata": {},
   "outputs": [],
   "source": [
    "new_julius = julius.add_new_person(\"Julius II\", 25)"
   ]
  },
  {
   "cell_type": "code",
   "execution_count": null,
   "metadata": {},
   "outputs": [],
   "source": [
    "print(f'I am {new_julius.name} and {new_julius.age} years old.')"
   ]
  },
  {
   "cell_type": "code",
   "execution_count": null,
   "metadata": {},
   "outputs": [],
   "source": [
    "print(f'I am {julius.name} and {julius.age} years old.')"
   ]
  },
  {
   "cell_type": "code",
   "execution_count": null,
   "metadata": {},
   "outputs": [],
   "source": [
    "Person.number_people"
   ]
  },
  {
   "cell_type": "markdown",
   "metadata": {},
   "source": [
    "#### `dataclass`\n",
    "- Provide a less verbose way to create classes.\n",
    "- Is designed for storing data.\n",
    "- Part of the `dataclasses` module in Python 3.7 and above.\n",
    "- More appropriate for classes that store a lot of attributes with almost no functionality.\n",
    "- We use a decorator called `@dataclass`.\n",
    "  - Is a powerful tool that can make your code cleaner and more efficient.\n",
    "  - Simplifies the creation of data classes by auto-generating special methods such as `__init__()` and `__repr__()`."
   ]
  },
  {
   "cell_type": "code",
   "execution_count": null,
   "metadata": {},
   "outputs": [],
   "source": [
    "from dataclasses import dataclass\n",
    "from typing import ClassVar\n",
    "\n",
    "@dataclass\n",
    "class NewPerson:\n",
    "    name: str\n",
    "    age: int = 0\n",
    "    \n",
    "    number_people: ClassVar[int] = 0\n",
    "\n",
    "    def __post_init__(self):\n",
    "        \"\"\"\n",
    "        Count the number of created instances.\n",
    "        \"\"\"\n",
    "        NewPerson.number_people += 1\n",
    "\n",
    "    @staticmethod\n",
    "    def set_age_static(age: str):\n",
    "        print(f\"My age is {age}.\")\n",
    "        \n",
    "    @classmethod\n",
    "    def add_new_person(cls, name: str, age: int):\n",
    "        print(f\"Add a new person in {cls.__name__}.\")\n",
    "        new_person = cls(age)\n",
    "        return new_person\n",
    "\n",
    "    @property\n",
    "    def age(self):\n",
    "        return self._age\n",
    "\n",
    "    @property \n",
    "    def months(self):\n",
    "        return self._age * 12\n",
    "\n",
    "    @age.setter\n",
    "    def age(self, new_age: int):\n",
    "        self._age = new_age"
   ]
  },
  {
   "cell_type": "code",
   "execution_count": null,
   "metadata": {},
   "outputs": [],
   "source": [
    "julien = NewPerson('Julien', 37)"
   ]
  },
  {
   "cell_type": "markdown",
   "metadata": {},
   "source": [
    "Check how the instance is printed (without implementing a `__repr__()`):"
   ]
  },
  {
   "cell_type": "code",
   "execution_count": null,
   "metadata": {},
   "outputs": [],
   "source": [
    "print(julien)"
   ]
  },
  {
   "cell_type": "code",
   "execution_count": null,
   "metadata": {},
   "outputs": [],
   "source": [
    "julien.name"
   ]
  },
  {
   "cell_type": "code",
   "execution_count": null,
   "metadata": {},
   "outputs": [],
   "source": [
    "NewPerson.number_people"
   ]
  },
  {
   "cell_type": "code",
   "execution_count": null,
   "metadata": {},
   "outputs": [],
   "source": [
    "julienne = NewPerson('Julienne', 45)"
   ]
  },
  {
   "cell_type": "code",
   "execution_count": null,
   "metadata": {},
   "outputs": [],
   "source": [
    "NewPerson.number_people"
   ]
  },
  {
   "cell_type": "markdown",
   "metadata": {},
   "source": [
    "#### Memoization <a class=\"anchor\" id=\"Useful_memory\"></a>\n",
    "\n",
    "Memoization is saving the results of past operations done with recursive algorithms in order to reduce the need to traverse the recursion tree if the same calculation is required at a later stage."
   ]
  },
  {
   "cell_type": "code",
   "execution_count": null,
   "metadata": {},
   "outputs": [],
   "source": []
  },
  {
   "cell_type": "code",
   "execution_count": null,
   "metadata": {},
   "outputs": [],
   "source": [
    "def fibonacci(n):\n",
    "    if n < 2:\n",
    "       return 1\n",
    "    return fibonacci(n-1) + fibonacci(n-2)"
   ]
  },
  {
   "cell_type": "code",
   "execution_count": null,
   "metadata": {},
   "outputs": [],
   "source": [
    "import functools\n",
    "\n",
    "@functools.lru_cache(maxsize=128)\n",
    "def fibonacci_cach(n):\n",
    "    if n < 2:\n",
    "       return 1\n",
    "    return fibonacci_cach(n-1) + fibonacci_cach(n-2)"
   ]
  },
  {
   "cell_type": "code",
   "execution_count": null,
   "metadata": {},
   "outputs": [],
   "source": [
    "%timeit fibonacci(35)"
   ]
  },
  {
   "cell_type": "code",
   "execution_count": null,
   "metadata": {},
   "outputs": [],
   "source": [
    "%timeit fibonacci_cach(35)"
   ]
  },
  {
   "cell_type": "markdown",
   "metadata": {},
   "source": [
    "#### Error Handling"
   ]
  },
  {
   "cell_type": "code",
   "execution_count": null,
   "metadata": {},
   "outputs": [],
   "source": [
    "def handle_error(func):\n",
    "    def wrapper(*args, **kwargs):\n",
    "        try:\n",
    "            result = func(*args, **kwargs)\n",
    "        except Exception as e:\n",
    "            print(f\"Error occurred in function {func.__name__}: {e}\")\n",
    "            result = None\n",
    "        return result\n",
    " \n",
    "    return wrapper"
   ]
  },
  {
   "cell_type": "code",
   "execution_count": null,
   "metadata": {},
   "outputs": [],
   "source": [
    "@handle_error\n",
    "def divide_numbers(a, b):\n",
    "    \"\"\"\n",
    "       Divide two numbers.\n",
    "    \"\"\"\n",
    "    return a / b"
   ]
  },
  {
   "cell_type": "code",
   "execution_count": null,
   "metadata": {},
   "outputs": [],
   "source": [
    "divide_numbers(2.7, 0.3)"
   ]
  },
  {
   "cell_type": "code",
   "execution_count": null,
   "metadata": {},
   "outputs": [],
   "source": [
    "divide_numbers(3.5, 0.0)"
   ]
  },
  {
   "cell_type": "markdown",
   "metadata": {},
   "source": [
    "#### Speed Up Applications <a class=\"anchor\" id=\"Useful_speed\"></a>"
   ]
  },
  {
   "cell_type": "markdown",
   "metadata": {},
   "source": [
    "Consider a numpy function to calculate the parwise Euclidean distances between two sets of coordinates:"
   ]
  },
  {
   "cell_type": "code",
   "execution_count": null,
   "metadata": {},
   "outputs": [],
   "source": [
    "import numpy as np\n",
    "\n",
    "def pdist_python(xs):\n",
    "    n, p = xs.shape\n",
    "    D = np.empty((n, n), dtype=np.float64)\n",
    "    for i in range(n):\n",
    "        for j in range(n):\n",
    "            s = 0.0\n",
    "            for k in range(p):\n",
    "                tmp = xs[i,k] - xs[j,k]\n",
    "                s += tmp * tmp\n",
    "            D[i, j] = s**0.5\n",
    "    return D"
   ]
  },
  {
   "cell_type": "code",
   "execution_count": null,
   "metadata": {},
   "outputs": [],
   "source": [
    "def pdist_numpy(xs):\n",
    "    return np.sqrt(((xs[:,None,:] - xs)**2).sum(-1))"
   ]
  },
  {
   "cell_type": "code",
   "execution_count": null,
   "metadata": {},
   "outputs": [],
   "source": [
    "from numba import njit\n",
    "\n",
    "@njit(fastmath=True)\n",
    "def pdist_numba(xs):\n",
    "    n, p = xs.shape\n",
    "    D = np.empty((n, n), dtype=np.float64)\n",
    "    for i in range(n):\n",
    "        for j in range(n):\n",
    "            s = 0.0\n",
    "            for k in range(p):\n",
    "                tmp = xs[i,k] - xs[j,k]\n",
    "                s += tmp * tmp\n",
    "            D[i, j] = s**0.5\n",
    "    return D"
   ]
  },
  {
   "cell_type": "code",
   "execution_count": null,
   "metadata": {},
   "outputs": [],
   "source": [
    "xs = np.random.randn(5, 100)"
   ]
  },
  {
   "cell_type": "code",
   "execution_count": null,
   "metadata": {},
   "outputs": [],
   "source": [
    "time_pdist_python = %timeit -o pdist_python(xs)"
   ]
  },
  {
   "cell_type": "code",
   "execution_count": null,
   "metadata": {},
   "outputs": [],
   "source": [
    "time_pdist_numpy = %timeit -o pdist_numpy(xs)"
   ]
  },
  {
   "cell_type": "code",
   "execution_count": null,
   "metadata": {},
   "outputs": [],
   "source": [
    "time_pdist_numba = %timeit -o pdist_numba(xs)"
   ]
  },
  {
   "cell_type": "code",
   "execution_count": null,
   "metadata": {},
   "outputs": [],
   "source": [
    "print(f\"Speed Python/Numpy: {time_pdist_python.best/time_pdist_numpy.best}\")\n",
    "print(f\"Speed Python/Numba: {time_pdist_python.best/time_pdist_numba.best}\")"
   ]
  },
  {
   "cell_type": "markdown",
   "metadata": {},
   "source": [
    "## <font color=\"red\"> Application </font>: Writing a Timer Decorator <a class=\"anchor\" id=\"Application\"></a>\n",
    "\n",
    "Consider the function:"
   ]
  },
  {
   "cell_type": "code",
   "execution_count": null,
   "metadata": {},
   "outputs": [],
   "source": [
    "def sum_numbers(n):\n",
    "    \"\"\"\n",
    "       This function computes:\n",
    "           1 + 2 + 3 + ... + n\n",
    "    \"\"\"\n",
    "    sum = 0\n",
    "    for i in range(n):\n",
    "        sum += i + 1\n",
    "    return sum"
   ]
  },
  {
   "cell_type": "markdown",
   "metadata": {},
   "source": [
    "We can measure the time it takes to run the function using:"
   ]
  },
  {
   "cell_type": "code",
   "execution_count": null,
   "metadata": {},
   "outputs": [],
   "source": [
    "%timeit sum_numbers(10000)"
   ]
  },
  {
   "cell_type": "markdown",
   "metadata": {},
   "source": [
    "I can write a simple decorator to measure the time it takes to execute a function:"
   ]
  },
  {
   "cell_type": "code",
   "execution_count": null,
   "metadata": {},
   "outputs": [],
   "source": [
    "import datetime as dt"
   ]
  },
  {
   "cell_type": "code",
   "execution_count": null,
   "metadata": {},
   "outputs": [],
   "source": [
    "class MyTimer:\n",
    "    def __init__(self):\n",
    "        pass\n",
    "\n",
    "    def __call__(self, function_to_time):\n",
    "        \"\"\"\n",
    "        Decorator function to determine the elapsed time.\n",
    "        \"\"\"      \n",
    "        def nested_timefunction(*args, **kw):\n",
    "            \"\"\"\n",
    "            Nested function.\n",
    "            \"\"\"\n",
    "            # Set the beginning time\n",
    "            beginning_time = dt.datetime.now()\n",
    "\n",
    "            result = function_to_time(*args, **kw)\n",
    "\n",
    "            # Set the ending time\n",
    "            ending_time = dt.datetime.now()\n",
    "\n",
    "            # Determine the time difference in seconds\n",
    "            delta = ending_time-beginning_time\n",
    "            elapsedTime = ((1000000 * delta.seconds + delta.microseconds) / 1000000.0)\n",
    "            print(f\"{function_to_time.__name__:<}: \\t <>-<> Elapsed Time: {elapsedTime:11.4f}s\")\n",
    "\n",
    "            return result\n",
    "        return nested_timefunction"
   ]
  },
  {
   "cell_type": "code",
   "execution_count": null,
   "metadata": {},
   "outputs": [],
   "source": [
    "@My_Timer\n",
    "def sum_numbers(n):\n",
    "    \"\"\"\n",
    "       This function computes:\n",
    "           1 + 2 + 3 + ... + n\n",
    "    \"\"\"\n",
    "    sum = 0\n",
    "    for i in range(n):\n",
    "        sum += i + 1\n",
    "    return sum"
   ]
  },
  {
   "cell_type": "code",
   "execution_count": null,
   "metadata": {},
   "outputs": [],
   "source": [
    "n = 10000\n",
    "m = sum_numbers(n)"
   ]
  },
  {
   "cell_type": "markdown",
   "metadata": {},
   "source": [
    "It turns out that the `timeit` command executes the function several times and generates statistical information. We want to write a decorator that attempts to mimic `timeit`."
   ]
  },
  {
   "cell_type": "markdown",
   "metadata": {},
   "source": [
    "**QUESTION:** How could we modify the above above decorator so that it takes as argument `number_repeats` (number of times to execute a function)?\n",
    "\n",
    "We want to have a decorator, `MyTimer`, that is used as:\n",
    "\n",
    "```python\n",
    "number_repeats = 5\n",
    "\n",
    "@MyTimer(number_repeats)\n",
    "def sum_numbers(n):\n",
    "    \"\"\"\n",
    "       This function computes:\n",
    "           1 + 2 + 3 + ... + n\n",
    "    \"\"\"\n",
    "    sum = 0\n",
    "    for i in range(n):\n",
    "        sum += i + 1\n",
    "    return sum\n",
    "\n",
    "n = 10000\n",
    "sum_numbers(n)\n",
    "\n",
    "```"
   ]
  },
  {
   "cell_type": "markdown",
   "metadata": {},
   "source": [
    "<details><summary><b><font color=\"green\">Click here to access the solution</font></b></summary>\n",
    "<p>\n",
    "\n",
    "```python\n",
    "\n",
    "class MyTimer:\n",
    "    \"\"\"\n",
    "      Decorator class to determine the elapsed time.\n",
    "        - Takes as argument the number of times we want a function to be executed.\n",
    "        - Returns statistical information (mx, min, mean, std) on the elapsed time.\n",
    "    \"\"\"\n",
    "    def __init__(self, number_repeats=1):\n",
    "        self.number_repeats = number_repeats\n",
    "        \n",
    "    def __call__(self, function_to_time):\n",
    "        def nested_timefunction(*args, **kw):\n",
    "            \"\"\"\n",
    "              Nested function.\n",
    "            \"\"\"\n",
    "            recorded_times = list()\n",
    "\n",
    "            for i in range(self.number_repeats):\n",
    "                # Set the beginning time\n",
    "                beginning_time = dt.datetime.now()\n",
    "\n",
    "                result = function_to_time(*args, **kw)\n",
    "\n",
    "                # Set the ending time\n",
    "                ending_time = dt.datetime.now()\n",
    "\n",
    "                # Determine the time difference in seconds\n",
    "                delta = ending_time-beginning_time\n",
    "                elapsedTime = ((1000000 * delta.seconds + delta.microseconds) / 1000000.0)\n",
    "\n",
    "                recorded_times.append(elapsedTime)\n",
    "\n",
    "            self.get_statistics(recorded_times)\n",
    "            print(f\"{function_to_time.__name__:<}: \\n \\\n",
    "                --<>  Repeats: {self.number_repeats:11d} \\n \\\n",
    "                --<> Min Time: {self.min_val:11.4f} s \\n \\\n",
    "                --<> Max Time: {self.max_val:11.4f} s \\n \\\n",
    "                --<> Avg Time: {self.avg_val:11.4f} s \\n \\\n",
    "                --<> Std:      {self.std_val:11.4f}\"\n",
    "                )\n",
    "            \n",
    "\n",
    "            return result\n",
    "        return nested_timefunction\n",
    "\n",
    "    def get_statistics(self, my_list):\n",
    "        \"\"\"\n",
    "        Function to determine the min, max, average and standard deviation.\n",
    "        \"\"\"\n",
    "        n = len(my_list)\n",
    "        av = sum(my_list)/n\n",
    "\n",
    "        ss = sum((x-av)**2 for x in my_list)\n",
    "        self.min_val = min(my_list)\n",
    "        self.max_val = max(my_list)\n",
    "        self.avg_val = av\n",
    "        \n",
    "        if n > 1:\n",
    "            self.std_val = (ss/(n-1))**0.5\n",
    "        else:\n",
    "            self.std_val = 0\n",
    "```\n",
    "\n",
    "<p>\n",
    "</details>"
   ]
  },
  {
   "cell_type": "markdown",
   "metadata": {},
   "source": []
  }
 ],
 "metadata": {
  "kernelspec": {
   "display_name": "Python 3 (ipykernel)",
   "language": "python",
   "name": "python3"
  },
  "language_info": {
   "codemirror_mode": {
    "name": "ipython",
    "version": 3
   },
   "file_extension": ".py",
   "mimetype": "text/x-python",
   "name": "python",
   "nbconvert_exporter": "python",
   "pygments_lexer": "ipython3",
   "version": "3.11.4"
  }
 },
 "nbformat": 4,
 "nbformat_minor": 4
}
