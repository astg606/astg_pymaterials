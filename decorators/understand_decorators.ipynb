{
 "cells": [
  {
   "cell_type": "markdown",
   "metadata": {},
   "source": [
    "<center>\n",
    "<table>\n",
    "  <tr>\n",
    "    <td><img src=\"https://portal.nccs.nasa.gov/datashare/astg/training/python/logos/nasa-logo.svg\" width=\"100\"/> </td>\n",
    "     <td><img src=\"https://portal.nccs.nasa.gov/datashare/astg/training/python/logos/ASTG_logo.png?raw=true\" width=\"80\"/> </td>\n",
    "     <td> <img src=\"https://www.nccs.nasa.gov/sites/default/files/NCCS_Logo_0.png\" width=\"130\"/> </td>\n",
    "    </tr>\n",
    "</table>\n",
    "</center>\n",
    "\n",
    "        \n",
    "<center>\n",
    "<h1><font color= \"blue\" size=\"+3\">ASTG Python Courses</font></h1>\n",
    "</center>\n",
    "\n",
    "---\n",
    "\n",
    "<CENTER>\n",
    "<H1 style=\"color:red\">\n",
    "Python Decorators\n",
    "</H1>    \n",
    "</CENTER>"
   ]
  },
  {
   "cell_type": "markdown",
   "metadata": {},
   "source": [
    "## Table of Contents\n",
    "1. [Reference Documents](#Ref_Docs)\n",
    "2. [What are Decorators?](#What)\n",
    "3. [Useful Background](#Back)\n",
    "   1. [Example](#Back_example)\n",
    "   2. [Function as Object](#Back_object)\n",
    "   3. [Function as Argument of Another Function](#Back_argument)\n",
    "   4. [Function as Returned Value of Another Function](#Back_function)\n",
    "4. [Simple Decorators](#Simple)\n",
    "5. [Decorating Functions with Parameters](#Param)\n",
    "6. [Decorator Functions with Decorator Arguments](#Decorators)\n",
    "7. [Chaining Decorators](#Chaining)\n",
    "8. [Useful Decorators](#Useful)\n",
    "   1. [Memoization](#Useful_memory)\n",
    "   2. [Speed Up Applications](#Useful_speed)\n",
    "9. [Application: Timer Decorator](#Application)"
   ]
  },
  {
   "cell_type": "markdown",
   "metadata": {},
   "source": [
    "## Reference Documents <a class=\"anchor\" id=\"Ref_Docs\"></a>"
   ]
  },
  {
   "cell_type": "markdown",
   "metadata": {},
   "source": [
    "+ <a href=\"https://refactoring.guru/design-patterns/decorator\"> Decorator</a>\n",
    "+ <A HREF=\"https://dbader.org/blog/python-decorators\"> Python Decorators: A Step-By-Step Introduction</A>\n",
    "* <A HREF=\"https://www.programiz.com/python-programming/decorator\"> Python Decorators </A>\n",
    "+ <a href=\"https://www.thecodeship.com/patterns/guide-to-python-function-decorators/\">A guide to Python's function decorators</a>\n"
   ]
  },
  {
   "cell_type": "markdown",
   "metadata": {},
   "source": [
    "## <font color=\"red\">What are Decorators?</font> <a class=\"anchor\" id=\"What\"></a>\n",
    "\n",
    "> **Decorator** is a structural design pattern that lets you attach new behaviors to objects by placing these objects inside special wrapper objects that contain the behaviors.\n",
    "\n",
    "\n",
    "+ Decorators are a way to extend the behavior of pieces of software without actually having to modify them.\n",
    "+ In Python, they are functions that can change the behavior of other functions without changing their code. \n",
    "+ They provide a transparent way of adding functionalities to already defined functions.\n",
    "\n",
    "<font color=\"blue\">**Decorators work as wrappers, modifying the behavior of the code before and after a target function execution, without the need to modify the function itself, augmenting the original functionality, thus decorating it.**</font>\n",
    "\n",
    "**General Example 1**\n",
    "\n",
    "Wearing clothes is an example of using decorators. \n",
    "- When you’re cold, you wrap yourself in a sweater. \n",
    "- If you’re still cold with a sweater, you can wear a jacket on top. \n",
    "- If it’s raining, you can put on a raincoat. \n",
    "- All of these garments “extend” your basic behavior but aren’t part of you, and you can easily take off any piece of clothing whenever you don’t need it.\n",
    "\n",
    "![fig_dec](https://refactoring.guru/images/patterns/content/decorator/decorator-comic-1.png)\n",
    "Image Source: refactoring.guru/design-patterns/decorator\n",
    "\n",
    "**General Example 2**\n",
    "\n",
    "Assume that we want to measure the time it takes to execute a couple functions in our program. We could code a timer around their behavior by modifying them all, or we can create a decorator, centralizing the logic of timing a function within one place and applying it to several functions."
   ]
  },
  {
   "cell_type": "markdown",
   "metadata": {},
   "source": [
    "## <font color=\"red\">Useful Background?</font> <a class=\"anchor\" id=\"Back\"></a>\n",
    "\n",
    "* Python is an object oriented language.\n",
    "* Typically, everything in Python is an `object`.\n",
    "* Names that we define are simply identifiers bound to these objects.\n",
    "* Functions are objects with attributes.\n",
    "* Various different names can be bound to the same function object."
   ]
  },
  {
   "cell_type": "markdown",
   "metadata": {},
   "source": [
    "####  Example <a class=\"anchor\" id=\"Back_example\"></a>"
   ]
  },
  {
   "cell_type": "code",
   "execution_count": null,
   "metadata": {},
   "outputs": [],
   "source": [
    "def add_objects(a, b):\n",
    "    \"\"\"\n",
    "       Add two objects as long as the operation is allowed.\n",
    "    \"\"\"\n",
    "    return a + b   "
   ]
  },
  {
   "cell_type": "code",
   "execution_count": null,
   "metadata": {},
   "outputs": [],
   "source": [
    "print(add_objects(1, 3))\n",
    "print(add_objects(1.7, 3.14))\n",
    "print(add_objects(\"Hello \",\"World!\"))"
   ]
  },
  {
   "cell_type": "markdown",
   "metadata": {},
   "source": [
    "#### Functions as Objects <a class=\"anchor\" id=\"Back_objects\"></a>\n",
    "\n",
    "+ **Functions are objects**: They can be assigned to variables and passed to and returned from other functions.\n",
    "+ We can assign `add_objects` to `addition` and still refer to the same function object."
   ]
  },
  {
   "cell_type": "code",
   "execution_count": null,
   "metadata": {},
   "outputs": [],
   "source": [
    "addition = add_objects\n",
    "\n",
    "print(addition(1, 3))\n",
    "print(addition(1.7, 3.14))\n",
    "print(addition(\"Hello \", \"World!\"))"
   ]
  },
  {
   "cell_type": "markdown",
   "metadata": {},
   "source": [
    "#### Function as Argument of Another Function <a class=\"anchor\" id=\"Back_argument\"></a>\n",
    "\n",
    "- We can pass functions as arguments to another function."
   ]
  },
  {
   "cell_type": "code",
   "execution_count": null,
   "metadata": {},
   "outputs": [],
   "source": [
    "def add_one(x):\n",
    "    return x + 1\n",
    "\n",
    "def minus_one(x):\n",
    "    return x - 1\n",
    "\n",
    "def operate(func, x):\n",
    "    return func(x)"
   ]
  },
  {
   "cell_type": "code",
   "execution_count": null,
   "metadata": {},
   "outputs": [],
   "source": [
    "operate(add_one, -3.6)"
   ]
  },
  {
   "cell_type": "code",
   "execution_count": null,
   "metadata": {},
   "outputs": [],
   "source": [
    "operate(minus_one, 10.8)"
   ]
  },
  {
   "cell_type": "markdown",
   "metadata": {},
   "source": [
    "#### Function as Returned Value of Another Function <a class=\"anchor\" id=\"Back_function\"></a>\n",
    "\n",
    "- We can define functions inside other functions.\n",
    "- A function can return another function."
   ]
  },
  {
   "cell_type": "code",
   "execution_count": null,
   "metadata": {},
   "outputs": [],
   "source": [
    "def called_func(a, b):\n",
    "    def returned_func(a, b):\n",
    "        return a + b\n",
    "    return returned_func(a, b)\n",
    "\n",
    "new_func = called_func"
   ]
  },
  {
   "cell_type": "markdown",
   "metadata": {},
   "source": [
    "`returned_func` is a nested function which is defined and returned, each time we call `called_func`."
   ]
  },
  {
   "cell_type": "code",
   "execution_count": null,
   "metadata": {},
   "outputs": [],
   "source": [
    "new_func(1, 2)"
   ]
  },
  {
   "cell_type": "code",
   "execution_count": null,
   "metadata": {},
   "outputs": [],
   "source": [
    "new_func(\"Hello\", \" World!\")"
   ]
  },
  {
   "cell_type": "markdown",
   "metadata": {},
   "source": [
    "## <font color=\"red\">Simple Decorators</font> <a class=\"anchor\" id=\"Simple\"></a>\n",
    "\n",
    "+ A decorator takes in a function, adds some functionality and returns it."
   ]
  },
  {
   "cell_type": "code",
   "execution_count": null,
   "metadata": {},
   "outputs": [],
   "source": [
    "def simple_decorator(func):\n",
    "    def wrapper():\n",
    "        print(\"About to decorate\")\n",
    "        func()\n",
    "        print(\"Done decorating\")\n",
    "    return wrapper\n",
    "\n",
    "def simple_function():\n",
    "    print(\"\\t I am a simple function\")"
   ]
  },
  {
   "cell_type": "code",
   "execution_count": null,
   "metadata": {},
   "outputs": [],
   "source": [
    "simple_function()"
   ]
  },
  {
   "cell_type": "code",
   "execution_count": null,
   "metadata": {},
   "outputs": [],
   "source": [
    "decoration = simple_decorator(simple_function)\n",
    "\n",
    "decoration()"
   ]
  },
  {
   "cell_type": "markdown",
   "metadata": {},
   "source": [
    "* `simple_decorator` is a decorator.\n",
    "* The function `simple_function` got decorated and the returned function was given the name `decoration`.\n",
    "* The decorator acts as a wrapper and the nature of the object (`simple_function`) that got decorated is not altered.\n",
    "\n",
    "Generally, we decorate a function and reassign it as:\n",
    "\n",
    "```python\n",
    "simple_function = simple_decorator(simple_function)\n",
    "```\n",
    "\n",
    "We can use the `@` symbol along with the name of the decorator function and place it above the definition of the function to be decorated. "
   ]
  },
  {
   "cell_type": "code",
   "execution_count": null,
   "metadata": {},
   "outputs": [],
   "source": [
    "@simple_decorator\n",
    "def simple_function():\n",
    "    print(\"\\t I am a simple function\")"
   ]
  },
  {
   "cell_type": "markdown",
   "metadata": {},
   "source": [
    "The above is equivalent to:"
   ]
  },
  {
   "cell_type": "code",
   "execution_count": null,
   "metadata": {},
   "outputs": [],
   "source": [
    "def simple_function():\n",
    "    print(\"\\t I am a simple function\")\n",
    "    \n",
    "simple_function = simple_decorator(simple_function)"
   ]
  },
  {
   "cell_type": "markdown",
   "metadata": {},
   "source": [
    "## <font color=\"red\">Decorating Functions with Parameters</font> <a class=\"anchor\" id=\"Param\"></a>\n",
    "\n",
    "- The above decorator was simple and it only worked with functions that did not have any parameters. \n",
    "- What if we had functions that took in parameters?"
   ]
  },
  {
   "cell_type": "markdown",
   "metadata": {},
   "source": [
    "Consider the function:"
   ]
  },
  {
   "cell_type": "code",
   "execution_count": null,
   "metadata": {},
   "outputs": [],
   "source": [
    "def divide_numbers(a, b):\n",
    "    \"\"\"\n",
    "       Divide two numbers.\n",
    "    \"\"\"\n",
    "    return a / b"
   ]
  },
  {
   "cell_type": "markdown",
   "metadata": {},
   "source": [
    "The function will give and error if the second argument `b` is equal to zero."
   ]
  },
  {
   "cell_type": "code",
   "execution_count": null,
   "metadata": {},
   "outputs": [],
   "source": [
    "divide_numbers(1.0, 5.0)"
   ]
  },
  {
   "cell_type": "code",
   "execution_count": null,
   "metadata": {},
   "outputs": [],
   "source": [
    "divide_numbers(1.0, 0.0)"
   ]
  },
  {
   "cell_type": "markdown",
   "metadata": {},
   "source": [
    "We want to write a decorator to check the value of `b` before performing the division."
   ]
  },
  {
   "cell_type": "code",
   "execution_count": null,
   "metadata": {},
   "outputs": [],
   "source": [
    "def divide_decorator(func):\n",
    "   def wrapper_func(a, b):\n",
    "      print(\"I am going to divide {} by {}\".format(a, b))\n",
    "      if b == 0:\n",
    "         print(\"\\t Sorry! Cannot perform the division because the second argument is 0.\")\n",
    "         return\n",
    "\n",
    "      return func(a, b)\n",
    "   return wrapper_func\n",
    "\n",
    "@divide_decorator\n",
    "def divide_numbers(a, b):\n",
    "    return a/b"
   ]
  },
  {
   "cell_type": "markdown",
   "metadata": {},
   "source": [
    "This new implementation will return `None` if the error condition arises."
   ]
  },
  {
   "cell_type": "code",
   "execution_count": null,
   "metadata": {},
   "outputs": [],
   "source": [
    "divide_numbers(1.0, 5.0)"
   ]
  },
  {
   "cell_type": "code",
   "execution_count": null,
   "metadata": {},
   "outputs": [],
   "source": [
    "divide_numbers(1.0, 0.0)"
   ]
  },
  {
   "cell_type": "markdown",
   "metadata": {},
   "source": [
    "- In the above example, the parmeters of the nested  `wrapper_func` function are the same as the arguments  function it decorates.\n",
    "- We can make general decorators that work with any number of arguments.\n",
    "\n",
    "```python\n",
    "def general_decorator(func):\n",
    "    def wrapper_func(*args, **kwargs):\n",
    "        print(\"I can decorate any function\")\n",
    "        return func(*args, **kwargs)\n",
    "    return wrapper_func\n",
    "```\n",
    "\n",
    "where `args` will be the tuple of positional arguments and `kwargs` will be the dictionary of keyword arguments."
   ]
  },
  {
   "cell_type": "markdown",
   "metadata": {},
   "source": [
    "## <font color=\"red\">Decorator Functions with Decorator Arguments</font> <a class=\"anchor\" id=\"Decorators\"></a>\n",
    "\n",
    "The general code looks like:\n",
    "\n",
    "```python\n",
    "def decorator(deco_arguments):\n",
    "    def real_decorator(func):\n",
    "        def wrapped_func(*args, **kwargs):\n",
    "            do_anything()\n",
    "            do_something_with_argument(deco_arguments)\n",
    "            returned_val = func(*args, **kwargs)\n",
    "            do_other_things()\n",
    "            return returned_val\n",
    "        return wrapped_func\n",
    "    return real_decorator\n",
    "```\n",
    "\n",
    "**Example**"
   ]
  },
  {
   "cell_type": "code",
   "execution_count": null,
   "metadata": {},
   "outputs": [],
   "source": [
    "def decorator(arg1, arg2):\n",
    "    def real_decorator(function):\n",
    "        def wrapper(*args, **kwargs):\n",
    "            print(\"Great! You decorated a function that does something with {} and {}\".format(arg1, arg2))\n",
    "            function(*args, **kwargs)\n",
    "        return wrapper\n",
    "\n",
    "    return real_decorator\n",
    "\n",
    "\n",
    "@decorator(\"Python\", \"Decorators\")\n",
    "def print_args(*args):\n",
    "    for i, arg in enumerate(args):\n",
    "        print(\" Item {:<} --> {}\".format(i, arg))\n",
    "        \n",
    "print_args(\"Python\", 2, [3,4])"
   ]
  },
  {
   "cell_type": "markdown",
   "metadata": {},
   "source": [
    "## <font color=\"red\">Chaining Decorators</font> <a class=\"anchor\" id=\"Chaining\"></a>\n",
    "* Multiple decorators can be chained.\n",
    "* A function can be decorated multiple times with different (or same) decorators. \n",
    "* We simply place the decorators above the desired function."
   ]
  },
  {
   "cell_type": "markdown",
   "metadata": {},
   "source": [
    "**Example**"
   ]
  },
  {
   "cell_type": "code",
   "execution_count": null,
   "metadata": {},
   "outputs": [],
   "source": [
    "def print_stars(func):\n",
    "    def wrapper(*args, **kwargs):\n",
    "        print(\"*\" * 30)\n",
    "        func(*args, **kwargs)\n",
    "        print(\"*\" * 30)\n",
    "    return wrapper\n",
    "\n",
    "def print_percents(func):\n",
    "    def wrapper(*args, **kwargs):\n",
    "        print(\"%\" * 30)\n",
    "        func(*args, **kwargs)\n",
    "        print(\"%\" * 30)\n",
    "    return wrapper"
   ]
  },
  {
   "cell_type": "code",
   "execution_count": null,
   "metadata": {},
   "outputs": [],
   "source": [
    "@print_stars\n",
    "@print_percents\n",
    "def add_objects(a, b):\n",
    "    \"\"\"\n",
    "       Add two objects as long as the operation is allowed.\n",
    "    \"\"\"\n",
    "    print(\"\\t Add {} and {}\".format(a, b))\n",
    "    return a + b  "
   ]
  },
  {
   "cell_type": "code",
   "execution_count": null,
   "metadata": {},
   "outputs": [],
   "source": [
    "add_objects(2.0, 6)"
   ]
  },
  {
   "cell_type": "code",
   "execution_count": null,
   "metadata": {},
   "outputs": [],
   "source": [
    "add_objects(\"Hello\", \" Class!\")"
   ]
  },
  {
   "cell_type": "markdown",
   "metadata": {},
   "source": [
    "**Another Example**"
   ]
  },
  {
   "cell_type": "code",
   "execution_count": null,
   "metadata": {},
   "outputs": [],
   "source": [
    "def deco_benchmark(func):\n",
    "    \"\"\"\n",
    "      A decorator that prints the time a function takes to execute.\n",
    "    \"\"\"\n",
    "    import datetime as dt\n",
    "    def wrapper(*args, **kwargs):\n",
    "        beginning_time = dt.datetime.now()\n",
    "        res = func(*args, **kwargs)\n",
    "        ending_time = dt.datetime.now()\n",
    "        delta       = ending_time-beginning_time\n",
    "        elapsedTime = ((1000000 * delta.seconds + delta.microseconds) / 1000000.0)\n",
    "        print(\"Elapsed time to execute {}: {}\".format(func.__name__, elapsedTime))\n",
    "        return res\n",
    "    return wrapper\n",
    "\n",
    "def deco_logging(func):\n",
    "    \"\"\"\n",
    "      A decorator that logs the activity of the script.\n",
    "    \"\"\"\n",
    "    def wrapper(*args, **kwargs):\n",
    "        res = func(*args, **kwargs)\n",
    "        print(func.__name__, args, kwargs)\n",
    "        return res\n",
    "    return wrapper\n",
    "\n",
    "def deco_counter(func):\n",
    "    \"\"\"\n",
    "      A decorator that counts and prints the number of times a function has been executed\n",
    "    \"\"\"\n",
    "    def wrapper(*args, **kwargs):\n",
    "        wrapper.count = wrapper.count + 1\n",
    "        res = func(*args, **kwargs)\n",
    "        print('{0} has been used: {1} time(s)'.format(func.__name__, wrapper.count))\n",
    "        return res\n",
    "    wrapper.count = 0\n",
    "    return wrapper\n",
    "\n",
    "@deco_counter\n",
    "@deco_benchmark\n",
    "@deco_logging\n",
    "def multiply_objects(x, y):\n",
    "    return x*y"
   ]
  },
  {
   "cell_type": "code",
   "execution_count": null,
   "metadata": {},
   "outputs": [],
   "source": [
    "multiply_objects(2.67, 10.2)"
   ]
  },
  {
   "cell_type": "code",
   "execution_count": null,
   "metadata": {},
   "outputs": [],
   "source": [
    "multiply_objects(\"***\", 10)"
   ]
  },
  {
   "cell_type": "markdown",
   "metadata": {},
   "source": [
    "## <font color=\"red\"> Useful Decorators </font> <a class=\"anchor\" id=\"Useful\"></a>\n",
    "\n",
    "For more examples, check the webpage: <a href=\"https://wiki.python.org/moin/PythonDecoratorLibrary\">PythonDecoratorLibrary</a>."
   ]
  },
  {
   "cell_type": "markdown",
   "metadata": {},
   "source": [
    "#### Memoization <a class=\"anchor\" id=\"Useful_memory\"></a>"
   ]
  },
  {
   "cell_type": "code",
   "execution_count": null,
   "metadata": {},
   "outputs": [],
   "source": [
    "def fibonacci(n):\n",
    "    if n < 2:\n",
    "       return 1\n",
    "    return fibonacci(n-1) + fibonacci(n-2)"
   ]
  },
  {
   "cell_type": "code",
   "execution_count": null,
   "metadata": {},
   "outputs": [],
   "source": [
    "import functools\n",
    "\n",
    "@functools.lru_cache(maxsize=128)\n",
    "def fibonacci_cach(n):\n",
    "    if n < 2:\n",
    "       return 1\n",
    "    return fibonacci_cach(n-1) + fibonacci_cach(n-2)"
   ]
  },
  {
   "cell_type": "code",
   "execution_count": null,
   "metadata": {},
   "outputs": [],
   "source": [
    "%timeit fibonacci(35)"
   ]
  },
  {
   "cell_type": "code",
   "execution_count": null,
   "metadata": {},
   "outputs": [],
   "source": [
    "%timeit fibonacci_cach(35)"
   ]
  },
  {
   "cell_type": "markdown",
   "metadata": {},
   "source": [
    "#### Speed Up Applications <a class=\"anchor\" id=\"Useful_speed\"></a>"
   ]
  },
  {
   "cell_type": "markdown",
   "metadata": {},
   "source": [
    "Consider a numpy function to calculate the parwise Euclidean distances between two sets of coordinates:"
   ]
  },
  {
   "cell_type": "code",
   "execution_count": null,
   "metadata": {},
   "outputs": [],
   "source": [
    "import numpy as np\n",
    "\n",
    "def pdist_python(xs):\n",
    "    n, p = xs.shape\n",
    "    D = np.empty((n, n), dtype=np.float)\n",
    "    for i in range(n):\n",
    "        for j in range(n):\n",
    "            s = 0.0\n",
    "            for k in range(p):\n",
    "                tmp = xs[i,k] - xs[j,k]\n",
    "                s += tmp * tmp\n",
    "            D[i, j] = s**0.5\n",
    "    return D"
   ]
  },
  {
   "cell_type": "code",
   "execution_count": null,
   "metadata": {},
   "outputs": [],
   "source": [
    "def pdist_numpy(xs):\n",
    "    return np.sqrt(((xs[:,None,:] - xs)**2).sum(-1))"
   ]
  },
  {
   "cell_type": "code",
   "execution_count": null,
   "metadata": {},
   "outputs": [],
   "source": [
    "from numba import jit\n",
    "\n",
    "@jit(fastmath=True)\n",
    "def pdist_numba(xs):\n",
    "    n, p = xs.shape\n",
    "    D = np.empty((n, n), dtype=np.float)\n",
    "    for i in range(n):\n",
    "        for j in range(n):\n",
    "            s = 0.0\n",
    "            for k in range(p):\n",
    "                tmp = xs[i,k] - xs[j,k]\n",
    "                s += tmp * tmp\n",
    "            D[i, j] = s**0.5\n",
    "    return D"
   ]
  },
  {
   "cell_type": "code",
   "execution_count": null,
   "metadata": {},
   "outputs": [],
   "source": [
    "xs = np.random.randn(5, 100)"
   ]
  },
  {
   "cell_type": "code",
   "execution_count": null,
   "metadata": {},
   "outputs": [],
   "source": [
    "time_pdist_python = %timeit -o pdist_python(xs)"
   ]
  },
  {
   "cell_type": "code",
   "execution_count": null,
   "metadata": {},
   "outputs": [],
   "source": [
    "time_pdist_numpy = %timeit -o pdist_numpy(xs)\n",
    "print(time_pdist_python.best/time_pdist_numpy.best)"
   ]
  },
  {
   "cell_type": "code",
   "execution_count": null,
   "metadata": {},
   "outputs": [],
   "source": [
    "time_pdist_numba = %timeit -o pdist_numba(xs)\n",
    "print(time_pdist_python.best/time_pdist_numba.best)"
   ]
  },
  {
   "cell_type": "markdown",
   "metadata": {},
   "source": [
    "## <font color=\"red\"> Application </font>: Writing a Timer Decorator <a class=\"anchor\" id=\"Application\"></a>\n",
    "\n",
    "Consider the function:"
   ]
  },
  {
   "cell_type": "code",
   "execution_count": null,
   "metadata": {},
   "outputs": [],
   "source": [
    "def sum_numbers(n):\n",
    "    \"\"\"\n",
    "       This function computes:\n",
    "           1 + 2 + 3 + ... + n\n",
    "    \"\"\"\n",
    "    sum = 0\n",
    "    for i in range(n):\n",
    "        sum += i + 1\n",
    "    return sum"
   ]
  },
  {
   "cell_type": "markdown",
   "metadata": {},
   "source": [
    "We can measure the time it takes to run the function using:"
   ]
  },
  {
   "cell_type": "code",
   "execution_count": null,
   "metadata": {},
   "outputs": [],
   "source": [
    "%timeit sum_numbers(10000)"
   ]
  },
  {
   "cell_type": "markdown",
   "metadata": {},
   "source": [
    "I can write a simple decorator to measure the time it takes to execute a function:"
   ]
  },
  {
   "cell_type": "code",
   "execution_count": null,
   "metadata": {},
   "outputs": [],
   "source": [
    "import datetime as dt"
   ]
  },
  {
   "cell_type": "code",
   "execution_count": null,
   "metadata": {},
   "outputs": [],
   "source": [
    "def my_timer(function_to_time):\n",
    "    \"\"\"\n",
    "      Decorator function to determine the elapsed time.\n",
    "    \"\"\"      \n",
    "    def nested_timefunction(*args, **kw):\n",
    "        \"\"\"\n",
    "            Nested function.\n",
    "        \"\"\"\n",
    "        # Set the beginning time\n",
    "        beginning_time = dt.datetime.now()\n",
    "\n",
    "        result = function_to_time(*args, **kw)\n",
    "\n",
    "        # Set the ending time\n",
    "        ending_time = dt.datetime.now()\n",
    "\n",
    "        # Determine the time difference in seconds\n",
    "        delta       = ending_time-beginning_time\n",
    "        elapsedTime = ((1000000 * delta.seconds + delta.microseconds) / 1000000.0)\n",
    "        print(\"{0:<}: \\t <>-<> Elapsed Time: {1:11.4f}s\".format(function_to_time.__name__, \n",
    "                                                                 elapsedTime))\n",
    "\n",
    "        return result\n",
    "    return nested_timefunction"
   ]
  },
  {
   "cell_type": "code",
   "execution_count": null,
   "metadata": {},
   "outputs": [],
   "source": [
    "@my_timer\n",
    "def sum_numbers(n):\n",
    "    \"\"\"\n",
    "       This function computes:\n",
    "           1 + 2 + 3 + ... + n\n",
    "    \"\"\"\n",
    "    sum = 0\n",
    "    for i in range(n):\n",
    "        sum += i + 1\n",
    "    return sum"
   ]
  },
  {
   "cell_type": "code",
   "execution_count": null,
   "metadata": {},
   "outputs": [],
   "source": [
    "n = 10000\n",
    "m = sum_numbers(n)"
   ]
  },
  {
   "cell_type": "markdown",
   "metadata": {},
   "source": [
    "It turns out that the `timeit` command executes the function several times and generates statistical information. We want to write a decorator that attempts to mimic `timeit`."
   ]
  },
  {
   "cell_type": "markdown",
   "metadata": {},
   "source": [
    "**QUESTION:** How could we modify the above above decorator so that it takes as argument `number_repeats` (number of times to execute a function)?\n",
    "\n",
    "We want to have a decorator, `py_timer`, that is used as:\n",
    "\n",
    "```python\n",
    "number_repeats = 5\n",
    "\n",
    "@py_timer(number_repeats)\n",
    "def sum_numbers(n):\n",
    "    \"\"\"\n",
    "       This function computes:\n",
    "           1 + 2 + 3 + ... + n\n",
    "    \"\"\"\n",
    "    sum = 0\n",
    "    for i in range(n):\n",
    "        sum += i + 1\n",
    "    return sum\n",
    "\n",
    "n = 10000\n",
    "sum_numbers(n)\n",
    "\n",
    "```"
   ]
  },
  {
   "cell_type": "markdown",
   "metadata": {},
   "source": [
    "**ANSWER:**"
   ]
  },
  {
   "cell_type": "code",
   "execution_count": null,
   "metadata": {},
   "outputs": [],
   "source": [
    "def py_timer(number_repeats=1):\n",
    "    \"\"\"\n",
    "      Decorator function to determine the elapsed time.\n",
    "        - Takes as argument the number of times we want a function to be executed.\n",
    "        - Returns statistical information (mx, min, mean, std) on the elapsed time.\n",
    "    \"\"\"\n",
    "    \n",
    "    def get_statistics(my_list):\n",
    "       \"\"\"\n",
    "         Function to determine the min, max, average and standard deviation.\n",
    "       \"\"\"\n",
    "       n = len(my_list)\n",
    "       av = sum(my_list)/n\n",
    "\n",
    "       ss = sum((x-av)**2 for x in my_list)\n",
    "\n",
    "       if n < 2:\n",
    "          return min(my_list), max(my_list), av\n",
    "       else:\n",
    "          return min(my_list), max(my_list), av, (ss/(n-1))**0.5\n",
    "\n",
    "        \n",
    "    def wrapper_function(function_to_time):\n",
    "        def nested_timefunction(*args, **kw):\n",
    "            \"\"\"\n",
    "              Nested function.\n",
    "            \"\"\"\n",
    "            recorded_times = []\n",
    "\n",
    "            for i in range(number_repeats):\n",
    "                # Set the beginning time\n",
    "                beginning_time = dt.datetime.now()\n",
    "\n",
    "                result = function_to_time(*args, **kw)\n",
    "\n",
    "                # Set the ending time\n",
    "                ending_time = dt.datetime.now()\n",
    "\n",
    "                # Determine the time difference in seconds\n",
    "                delta       = ending_time-beginning_time\n",
    "                elapsedTime = ((1000000 * delta.seconds + delta.microseconds) / 1000000.0)\n",
    "\n",
    "                recorded_times.append(elapsedTime)\n",
    "\n",
    "            if number_repeats < 2:\n",
    "               min_time, max_time, avg_time = get_statistics(recorded_times)\n",
    "               print(\"{0:<}: \\n \\\n",
    "                     --<>  Repeats: {1:11d} \\n \\\n",
    "                     --<> Min Time: {2:11.4f}s \\n \\\n",
    "                     --<> Max Time: {3:11.4f}s \\n \\\n",
    "                     --<> Avg Time: {4:11.4f}s\".format(function_to_time.__name__, number_repeats, min_time, max_time, avg_time))\n",
    "            else:\n",
    "               min_time, max_time, avg_time, std_time = get_statistics(recorded_times)\n",
    "               print(\"{0:<}: \\n \\\n",
    "                     --<>  Repeats: {1:11d} \\n \\\n",
    "                     --<> Min Time: {2:11.4f}s \\n \\\n",
    "                     --<> Max Time: {3:11.4f}s \\n \\\n",
    "                     --<> Avg Time: {4:11.4f}s  Standard Dev: {5:9.5f}\".format(function_to_time.__name__, number_repeats,  min_time, max_time, avg_time, std_time))\n",
    "\n",
    "            return result\n",
    "        return nested_timefunction\n",
    "    return wrapper_function"
   ]
  },
  {
   "cell_type": "code",
   "execution_count": null,
   "metadata": {},
   "outputs": [],
   "source": [
    "number_repeats = 5\n",
    "\n",
    "@py_timer(number_repeats)\n",
    "def sum_numbers(n):\n",
    "    \"\"\"\n",
    "       This function computes:\n",
    "           1 + 2 + 3 + ... + n\n",
    "    \"\"\"\n",
    "    sum = 0\n",
    "    for i in range(n):\n",
    "        sum += i + 1\n",
    "    return sum"
   ]
  },
  {
   "cell_type": "code",
   "execution_count": null,
   "metadata": {},
   "outputs": [],
   "source": [
    "n = 10000\n",
    "m = sum_numbers(n)"
   ]
  },
  {
   "cell_type": "code",
   "execution_count": null,
   "metadata": {},
   "outputs": [],
   "source": []
  }
 ],
 "metadata": {
  "kernelspec": {
   "display_name": "Python 3 (ipykernel)",
   "language": "python",
   "name": "python3"
  },
  "language_info": {
   "codemirror_mode": {
    "name": "ipython",
    "version": 3
   },
   "file_extension": ".py",
   "mimetype": "text/x-python",
   "name": "python",
   "nbconvert_exporter": "python",
   "pygments_lexer": "ipython3",
   "version": "3.11.4"
  }
 },
 "nbformat": 4,
 "nbformat_minor": 4
}
