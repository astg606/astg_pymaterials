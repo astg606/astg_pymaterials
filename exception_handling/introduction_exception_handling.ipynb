{
 "cells": [
  {
   "cell_type": "markdown",
   "metadata": {},
   "source": [
    "<center>\n",
    "<table>\n",
    "  <tr>\n",
    "    <td><img src=\"https://portal.nccs.nasa.gov/datashare/astg/training/python/logos/nasa-logo.svg\" width=\"100\"/> </td>\n",
    "     <td><img src=\"https://portal.nccs.nasa.gov/datashare/astg/training/python/logos/ASTG_logo.png?raw=true\" width=\"80\"/> </td>\n",
    "     <td> <img src=\"https://www.nccs.nasa.gov/sites/default/files/NCCS_Logo_0.png\" width=\"130\"/> </td>\n",
    "    </tr>\n",
    "</table>\n",
    "</center>\n",
    "\n",
    "        \n",
    "<center>\n",
    "<h1><font color= \"blue\" size=\"+3\">ASTG Python Courses</font></h1>\n",
    "</center>\n",
    "\n",
    "---\n",
    "\n",
    "<center><h1>\n",
    "    <font color=\"red\">Exception Handling</font>  \n",
    "</h1></center>"
   ]
  },
  {
   "cell_type": "code",
   "execution_count": null,
   "metadata": {},
   "outputs": [],
   "source": [
    "# Obtain a remote file\n",
    "import urllib.request\n",
    "\n",
    "url = 'https://raw.githubusercontent.com/pytrain/error_handling/master/'\n",
    "urllib.request.urlretrieve(url+\"errors.jpg\", \"errors.jpg\")\n",
    "urllib.request.urlretrieve(url+\"demo.txt\", \"demo.txt\")"
   ]
  },
  {
   "cell_type": "code",
   "execution_count": null,
   "metadata": {
    "scrolled": true
   },
   "outputs": [],
   "source": [
    "from IPython.display import Image\n",
    "slide = Image(filename = 'errors.jpg')\n",
    "slide"
   ]
  },
  {
   "cell_type": "markdown",
   "metadata": {},
   "source": [
    "## <font color='red'>Types of errors</font>"
   ]
  },
  {
   "cell_type": "markdown",
   "metadata": {},
   "source": [
    "### <font color=\"blue\">Errors</font>\n",
    "Errors or mistakes in a program are often referred to as bugs. They are almost always the fault of the programmer. The process of finding and eliminating errors is called debugging. Errors can be classified into three major groups:\n",
    "\n",
    "* Syntax errors\n",
    "* Runtime errors\n",
    "* Logical errors"
   ]
  },
  {
   "cell_type": "markdown",
   "metadata": {},
   "source": [
    "### <font color=\"blue\">Syntax errors</font>\n",
    "* Python will find these kinds of errors when it tries to parse your program, and exit with an error message without running anything. \n",
    "* Syntax errors are mistakes in the use of the Python language, and are analogous to spelling or grammar mistakes in a language like English: for example, the sentence Would you some tea? does not make sense – it is missing a verb.\n",
    "\n",
    "Common Python syntax errors include:\n",
    "\n",
    "* Leaving out a keyword\n",
    "* Putting a keyword in the wrong place\n",
    "* Leaving out a symbol, such as a colon, comma or brackets\n",
    "* Misspelling a keyword\n",
    "* Incorrect indentation\n",
    "* Empty block"
   ]
  },
  {
   "cell_type": "markdown",
   "metadata": {},
   "source": [
    "#### Examples of syntax errors\n",
    "\n",
    "```python\n",
    "myfunction(x, y):\n",
    "    return x + y\n",
    "```"
   ]
  },
  {
   "cell_type": "markdown",
   "metadata": {},
   "source": [
    "```python\n",
    "else:\n",
    "    print(\"Hello!\")\n",
    "```"
   ]
  },
  {
   "cell_type": "markdown",
   "metadata": {},
   "source": [
    "```python\n",
    "if mark >= 50\n",
    "    print(\"You passed!\")\n",
    "```"
   ]
  },
  {
   "cell_type": "markdown",
   "metadata": {},
   "source": [
    "```python\n",
    "if arriving:\n",
    "    print(\"Hi!\")\n",
    "esle:\n",
    "    print(\"Bye!\")\n",
    "```"
   ]
  },
  {
   "cell_type": "markdown",
   "metadata": {},
   "source": [
    "```python\n",
    "if flag:\n",
    "print(\"Flag is set!\")\n",
    "```"
   ]
  },
  {
   "cell_type": "markdown",
   "metadata": {},
   "source": [
    "### <font color=\"blue\">Runtime errors</font>\n",
    "\n",
    "* Division by zero\n",
    "* Performing an operation on incompatible types\n",
    "* Using an identifier which has not been defined\n",
    "* Accessing a list element, dictionary value or object attribute which doesn’t exist\n",
    "* Trying to access a file which doesn’t exist."
   ]
  },
  {
   "cell_type": "markdown",
   "metadata": {},
   "source": [
    "```python\n",
    "for x in range(a, b):\n",
    "    print(\"(%f, %f, %f)\" % my_list[x])\n",
    "```"
   ]
  },
  {
   "cell_type": "markdown",
   "metadata": {},
   "source": [
    "### <font color=\"blue\">Logical errors</font>\n",
    "Logical errors are the most difficult to fix. They occur when the program runs without crashing, but produces an incorrect result. \n",
    "\n",
    "* Using the wrong variable name\n",
    "* Indenting a block to the wrong level\n",
    "* Using integer division instead of floating-point division\n",
    "* Getting operator precedence wrong\n",
    "* Making a mistake in a boolean expression\n",
    "* Off-by-one, and other numerical errors."
   ]
  },
  {
   "cell_type": "markdown",
   "metadata": {},
   "source": [
    "```python\n",
    "product = 0\n",
    "for i in range(10):\n",
    "    product *= i\n",
    "\n",
    "sum_squares = 0\n",
    "for i in range(10):\n",
    "    i_sq = i**2\n",
    "sum_squares += i_sq\n",
    "\n",
    "nums = 0\n",
    "for num in range(10):\n",
    "    num += num\n",
    "```"
   ]
  },
  {
   "cell_type": "code",
   "execution_count": null,
   "metadata": {},
   "outputs": [],
   "source": [
    "print('This does not make sense: ' 1/0)"
   ]
  },
  {
   "cell_type": "code",
   "execution_count": null,
   "metadata": {},
   "outputs": [],
   "source": [
    "print(\"Programming is fun but debugging programs is not!\")\n",
    "print('What is wrong here? ', 1/0)"
   ]
  },
  {
   "cell_type": "markdown",
   "metadata": {},
   "source": [
    "* When a program crashes, a stack trace (a list of the calling methods) is generated. This is called a <font color='red'>Traceback</font>\n",
    "* Run-time errors are called <font color='red'>exceptions</font>\n",
    "* Handling exceptions that occur at runtime is very important. All code is written to execute with certain conditions holding at runtime. If these conditions do not hold, then it might very well be the case that the code does not perform the correct actions."
   ]
  },
  {
   "cell_type": "markdown",
   "metadata": {},
   "source": [
    "---"
   ]
  },
  {
   "cell_type": "markdown",
   "metadata": {},
   "source": [
    "## <font color='red'>Built-in Exceptions</font>\n",
    "\n",
    "| Exception Name | Description |\n",
    "| --- | --- |\n",
    "| `IOError` | Raised when an IO operation fails.\n",
    "| `KeyError` | Raised when a mapping (dictionary) key is not found in the set of existing keys. | \n",
    "| `NameError` | Raised when an identifier is not found in the local or global namespace. | \n",
    "| `SyntaxError` | Raised by parser when syntax error is encountered |\n",
    "| `IndentationError` | Raised when there is incorrect indentation |\n",
    "| `OSError` | Raised when a function returns a system-related error. | \n",
    "| `ValueError` | Raised when a built-in operation or function receives an argument that has the right type but an inappropriate value. |\n",
    "| `ZeroDivisionError` | Raised when the second argument of a division or modulo operation is zero. |\n",
    "| `ArithmeticError` | Raised when numeric calculations fails |\n",
    "| `FloatingPointError` | Raised when a floating point calculation fails |\n",
    "| `OverflowError` | Raised when result of an arithmetic operation is too large to be represented |\n",
    "| `ImportError` | Raised when the imported module is not found |\n",
    "| `KeyboardInterrupt` | Raised when the user interrupts program execution, generally by pressing Ctrl+c |\n",
    "| `RuntimeError` |\tRaised when a generated error does not fall into any category |\n",
    "\n",
    "For a full list see https://docs.python.org/3/library/exceptions.html"
   ]
  },
  {
   "cell_type": "markdown",
   "metadata": {},
   "source": [
    "##### Example of `NameError`\n",
    "\n",
    "* Raised when a name is referred to in code which doesn't exist in the local or global namespace."
   ]
  },
  {
   "cell_type": "code",
   "execution_count": null,
   "metadata": {},
   "outputs": [],
   "source": [
    "a = b + 1 \n",
    "print(a)"
   ]
  },
  {
   "cell_type": "markdown",
   "metadata": {},
   "source": [
    "##### Example of `ZeroDivisionError`\n",
    "\n",
    "* Raised when a division by zero is performed."
   ]
  },
  {
   "cell_type": "code",
   "execution_count": null,
   "metadata": {},
   "outputs": [],
   "source": [
    "x = 0      # syntactically correct\n",
    "y = 1/x "
   ]
  },
  {
   "cell_type": "markdown",
   "metadata": {},
   "source": [
    "##### Example of `KeyError`\n",
    "\n",
    "* When a key is not found in a dictionary, a `KeyError` exception is raised."
   ]
  },
  {
   "cell_type": "code",
   "execution_count": null,
   "metadata": {},
   "outputs": [],
   "source": [
    "hello_in = {\n",
    "    \"spa\": \"hola\", \n",
    "    \"eng\": \"hello\", \n",
    "    \"fre\": \"bonjour\", \n",
    "    \"ita\": \"ciao\", \n",
    "    \"ger\": \"hallo\"\n",
    "}"
   ]
  },
  {
   "cell_type": "code",
   "execution_count": null,
   "metadata": {},
   "outputs": [],
   "source": [
    "print('hello in german:     ' + hello_in[\"ger\"])"
   ]
  },
  {
   "cell_type": "code",
   "execution_count": null,
   "metadata": {},
   "outputs": [],
   "source": [
    "print('hello in spanish:    ' + hello_in[\"spa\"])"
   ]
  },
  {
   "cell_type": "code",
   "execution_count": null,
   "metadata": {},
   "outputs": [],
   "source": [
    "print('hello in french:     ' + hello_in[\"fre\"])"
   ]
  },
  {
   "cell_type": "code",
   "execution_count": null,
   "metadata": {},
   "outputs": [],
   "source": [
    "print('hello in italian:    ' + hello_in[\"ita\"])"
   ]
  },
  {
   "cell_type": "code",
   "execution_count": null,
   "metadata": {},
   "outputs": [],
   "source": [
    "print('hello in portuguese: ' + hello_in[\"por\"])"
   ]
  },
  {
   "cell_type": "markdown",
   "metadata": {},
   "source": [
    "##### Example of Logic Error"
   ]
  },
  {
   "cell_type": "code",
   "execution_count": null,
   "metadata": {},
   "outputs": [],
   "source": [
    "# Example: logic error\n",
    "x = 3\n",
    "y = 4\n",
    "average = x + y / 2\n",
    "print(average)"
   ]
  },
  {
   "cell_type": "markdown",
   "metadata": {
    "collapsed": true,
    "jupyter": {
     "outputs_hidden": true
    }
   },
   "source": [
    "## <font color='red'>How Do We Handle Exceptions?</font>"
   ]
  },
  {
   "cell_type": "markdown",
   "metadata": {
    "collapsed": true,
    "jupyter": {
     "outputs_hidden": true
    }
   },
   "source": [
    "+ Impiclitly we use the `try...except` block. \n",
    "+ Explicitly we use the `raise` statement."
   ]
  },
  {
   "cell_type": "markdown",
   "metadata": {},
   "source": [
    "**Simplest `try...except` Block**"
   ]
  },
  {
   "cell_type": "code",
   "execution_count": null,
   "metadata": {},
   "outputs": [],
   "source": [
    "try:                                    \n",
    "    print('< Run this code first >') \n",
    "except:\n",
    "    print('*** Execute this section if there is an exception! ***')  \n",
    "    \n",
    "print('<We are outside the try statement>')"
   ]
  },
  {
   "cell_type": "markdown",
   "metadata": {},
   "source": [
    "#### Example"
   ]
  },
  {
   "cell_type": "code",
   "execution_count": null,
   "metadata": {},
   "outputs": [],
   "source": [
    "(x, y) = (5, 0)\n",
    "try:\n",
    "    z = x/y\n",
    "except ZeroDivisionError:\n",
    "    print(f\"Divide {x} by zero\")"
   ]
  },
  {
   "cell_type": "markdown",
   "metadata": {},
   "source": [
    "**General `try...except` Block**"
   ]
  },
  {
   "cell_type": "code",
   "execution_count": null,
   "metadata": {},
   "outputs": [],
   "source": [
    "try:  \n",
    "    print('< Run this code first >') \n",
    "except:                                                   \n",
    "    print('*** Execute this section if there is an exception! ***')\n",
    "else:                                       \n",
    "    print('< No exception? Run this code. >')\n",
    "finally:                        \n",
    "    print('< Exception handling is finished - always executed>')\n",
    "    \n",
    "print('<We are outside the try statement>')"
   ]
  },
  {
   "cell_type": "markdown",
   "metadata": {},
   "source": [
    "**General Error Catching**"
   ]
  },
  {
   "cell_type": "code",
   "execution_count": null,
   "metadata": {},
   "outputs": [],
   "source": [
    "try:\n",
    "    user_input = input('Enter a number: ')  # input is a string\n",
    "    n = int(user_input)\n",
    "    print('There was no exception.')\n",
    "except:                              # accepts all exceptions\n",
    "    print('There was an exception')\n",
    "else:\n",
    "    print(f'The square of the number is {n*n}')\n",
    "finally:\n",
    "    print('Exception handling is finished')"
   ]
  },
  {
   "cell_type": "markdown",
   "metadata": {},
   "source": [
    "**Catch only `err` Exception**"
   ]
  },
  {
   "cell_type": "code",
   "execution_count": null,
   "metadata": {},
   "outputs": [],
   "source": [
    "try:\n",
    "    user_input = input('Enter a number: ')  # input is a string\n",
    "    n = int(user_input)\n",
    "# Exception: base class for all normal exceptions. \n",
    "# 'as' keyword: can name a variable within an except statement.\n",
    "except Exception as err:       # catch only 'err' exception\n",
    "    print('There was an exception: {}'.format(err))\n",
    "else:\n",
    "    print(f'The square of the number is {n*n}')\n",
    "finally:\n",
    "    print('Exception handling is finished')"
   ]
  },
  {
   "cell_type": "markdown",
   "metadata": {},
   "source": [
    "**Catch Execption and Provide Traceback**"
   ]
  },
  {
   "cell_type": "code",
   "execution_count": null,
   "metadata": {},
   "outputs": [],
   "source": [
    "try:\n",
    "    user_input = input('Enter a number: ')      # input is a string\n",
    "    n = int(user_input)\n",
    "except Exception(ValueError):                   # Provides a traceback\n",
    "    print('There was an exception but this is not printed')\n",
    "else:\n",
    "    print(f'The square of the number is {n*n}')\n",
    "finally:\n",
    "    print('Exception handling is finished')"
   ]
  },
  {
   "cell_type": "markdown",
   "metadata": {},
   "source": [
    "**Catch Division by Zero and Provide Traceback**"
   ]
  },
  {
   "cell_type": "code",
   "execution_count": null,
   "metadata": {},
   "outputs": [],
   "source": [
    "n = input(\"Please enter a number: \")\n",
    "try:\n",
    "    x = float(n)\n",
    "    y = 1/x\n",
    "except Exception(ZeroDivisionError):\n",
    "    pass\n",
    "except Exception(ValueError):\n",
    "    pass\n",
    "else:                   \n",
    "    print(f'y is: {y}')\n",
    "finally:                \n",
    "    print('Done')"
   ]
  },
  {
   "cell_type": "markdown",
   "metadata": {},
   "source": [
    "### IOError exceptions"
   ]
  },
  {
   "cell_type": "code",
   "execution_count": null,
   "metadata": {},
   "outputs": [],
   "source": [
    "with open('non_existent_file.txt', 'r') as fid:\n",
    "     data = fid.readlines()"
   ]
  },
  {
   "cell_type": "code",
   "execution_count": null,
   "metadata": {},
   "outputs": [],
   "source": [
    "try:\n",
    "    with open ('non_existent_file.txt', 'r') as fid:\n",
    "         data = fid.readline()\n",
    "except IOError:\n",
    "    print('File does not exist')\n",
    "else:\n",
    "    print(data)"
   ]
  },
  {
   "cell_type": "code",
   "execution_count": null,
   "metadata": {},
   "outputs": [],
   "source": [
    "%%writefile demo.txt\n",
    "5040 Sample data file"
   ]
  },
  {
   "cell_type": "code",
   "execution_count": null,
   "metadata": {},
   "outputs": [],
   "source": [
    "try:\n",
    "    with open ('demo.txt', 'r') as fid:\n",
    "         data = fid.readline()\n",
    "except IOError:\n",
    "    print('File does not exist')\n",
    "else:\n",
    "    print(data)"
   ]
  },
  {
   "cell_type": "markdown",
   "metadata": {},
   "source": [
    "### Approaches to Exception Handling"
   ]
  },
  {
   "cell_type": "code",
   "execution_count": null,
   "metadata": {},
   "outputs": [],
   "source": [
    "# The python way - is this the best (or only) approach?\n",
    "\n",
    "try:                \n",
    "    do_it()         \n",
    "except SomeError:   # It is not clear what errors to handle\n",
    "    # handle error\n"
   ]
  },
  {
   "cell_type": "code",
   "execution_count": null,
   "metadata": {},
   "outputs": [],
   "source": [
    "# LBYL (look before you leap) \n",
    "\n",
    "if i_can_do_it():  # what do we check for?\n",
    "    do_it()        # is it thread-safe?\n",
    "else:              # obviously not pythonic\n",
    "    # handle error"
   ]
  },
  {
   "cell_type": "markdown",
   "metadata": {},
   "source": [
    "### Manually Throw/Raise an Exception\n",
    "\n",
    "+ A common way to manually throw an exception is to use <font `raise`.\n",
    "+ `raise` interrupts program flow and passes along error information to the calling method."
   ]
  },
  {
   "cell_type": "markdown",
   "metadata": {},
   "source": [
    "**Example**"
   ]
  },
  {
   "cell_type": "code",
   "execution_count": null,
   "metadata": {},
   "outputs": [],
   "source": [
    "x = float(input(\"Enter a number: \"))\n",
    "if x > 5:\n",
    "   raise Exception(f'x should not exceed 5. The value of x was: {x}')"
   ]
  },
  {
   "cell_type": "markdown",
   "metadata": {},
   "source": [
    "Note how the program comes to a halt and displays our exception to screen, offering clues about what went wrong."
   ]
  },
  {
   "cell_type": "code",
   "execution_count": null,
   "metadata": {},
   "outputs": [],
   "source": [
    "# First detect the error:\n",
    "def process_something(x):\n",
    "    if x <= 0:\n",
    "        # be specific!!\n",
    "        # raise Exception('some message') \n",
    "        raise ValueError(f'x is {x} but must be greater than 0')   \n",
    "        # don't do this: avoid raising a generic exception. why?\n",
    "    # Some actual processing here\n",
    "    pass\n",
    "\n",
    "# Handle exception\n",
    "try:\n",
    "    process_something(-3)\n",
    "except ValueError as error: # handling a specific error\n",
    "                            # specific catches won't catch the general \n",
    "                            # exception\n",
    "    print(error)\n",
    "    \n",
    "# If the exception is left unhandled, the default behavior is \n",
    "# for the interpreter to print a full traceback and the error \n",
    "# message included in the exception.\n",
    "process_something(-3)\n"
   ]
  },
  {
   "cell_type": "code",
   "execution_count": null,
   "metadata": {},
   "outputs": [],
   "source": [
    "# First detect the error:\n",
    "def process_something():                         \n",
    "    try:                            \n",
    "        do_something()      # exception is raised here\n",
    "    except Exception as e:\n",
    "        raise Exception(e) # re-raise the exact same exception \n",
    "                           # that was thrown\n",
    "\n",
    "# Handle exception\n",
    "try:\n",
    "    process_something()\n",
    "except: # handling any error\n",
    "    print('There was an exception in function afun()')"
   ]
  },
  {
   "cell_type": "markdown",
   "metadata": {},
   "source": [
    "#### Best practice: use the most specific Exception constructor that semantically fits your issue."
   ]
  },
  {
   "cell_type": "markdown",
   "metadata": {},
   "source": [
    "## <font color='red'> assert </font>"
   ]
  },
  {
   "cell_type": "markdown",
   "metadata": {},
   "source": [
    "+ With `assert()` we cause an `AssertionError` when a condition is not true. \n",
    "+ So we \"assert\" that conditions are valid as the program runs. "
   ]
  },
  {
   "cell_type": "markdown",
   "metadata": {},
   "source": [
    "**First detect the error** "
   ]
  },
  {
   "cell_type": "code",
   "execution_count": null,
   "metadata": {},
   "outputs": [],
   "source": [
    "def process_something(x):\n",
    "    # internally \"raise AssertionError\" - \n",
    "    # assert is a tool for developer\n",
    "    assert(x > 0), 'x is must be greater than 0' "
   ]
  },
  {
   "cell_type": "markdown",
   "metadata": {},
   "source": [
    "**Handle exception**"
   ]
  },
  {
   "cell_type": "code",
   "execution_count": null,
   "metadata": {},
   "outputs": [],
   "source": [
    "try:\n",
    "    process_something(-3)\n",
    "except ValueError as error:\n",
    "    print(error)"
   ]
  },
  {
   "cell_type": "markdown",
   "metadata": {},
   "source": [
    "**Another Example**"
   ]
  },
  {
   "cell_type": "code",
   "execution_count": null,
   "metadata": {},
   "outputs": [],
   "source": [
    "def fromKelvinToFahrenheit(temperature):\n",
    "    \"\"\"\n",
    "       Convert the temperature from degree Kelvin to\n",
    "       degree Fahrenheit\n",
    "    \"\"\"\n",
    "    assert (temperature >= 0),\"Colder than absolute zero!\"\n",
    "    return ((temperature-273)*1.8)+32"
   ]
  },
  {
   "cell_type": "code",
   "execution_count": null,
   "metadata": {},
   "outputs": [],
   "source": [
    "print(fromKelvinToFahrenheit(273))\n",
    "print(int(fromKelvinToFahrenheit(505.78)))\n",
    "print(fromKelvinToFahrenheit(-5))"
   ]
  },
  {
   "cell_type": "markdown",
   "metadata": {},
   "source": [
    "## <font color='red'> Caveat: Performance </font>\n",
    "\n",
    "+ Programs using `try-except` to handle exception will run slightly slower. "
   ]
  },
  {
   "cell_type": "code",
   "execution_count": null,
   "metadata": {},
   "outputs": [],
   "source": [
    "def with_try_except(n):\n",
    "    v = 0\n",
    "    i = 0\n",
    "    while i < n:\n",
    "          try:\n",
    "             x = 10 / v\n",
    "          except ZeroDivisionError:\n",
    "             x = 0\n",
    "          i += 1\n",
    "\n",
    "def without_try_except(n):\n",
    "    v = 0\n",
    "    i = 0\n",
    "    while i < n:\n",
    "          if v != 0:\n",
    "             x = 10 / v\n",
    "          else:\n",
    "             x = 0\n",
    "          i += 1"
   ]
  },
  {
   "cell_type": "code",
   "execution_count": null,
   "metadata": {},
   "outputs": [],
   "source": [
    "num_iter = 10000000"
   ]
  },
  {
   "cell_type": "code",
   "execution_count": null,
   "metadata": {},
   "outputs": [],
   "source": [
    "%timeit with_try_except(num_iter)"
   ]
  },
  {
   "cell_type": "code",
   "execution_count": null,
   "metadata": {},
   "outputs": [],
   "source": [
    "%timeit without_try_except(num_iter)"
   ]
  },
  {
   "cell_type": "markdown",
   "metadata": {},
   "source": [
    "* The loop body that uses exception-handling is more than twice as slow. \n",
    "* The exception is actually raised on each iteration through the loop.\n",
    "* Inside loop, if there is a high likelihood that an execption will often occur, it is better to use conditional statements instead of try-execpt."
   ]
  },
  {
   "cell_type": "markdown",
   "metadata": {},
   "source": [
    "## <font color='red'> Catching System Errors </font>"
   ]
  },
  {
   "cell_type": "code",
   "execution_count": null,
   "metadata": {},
   "outputs": [],
   "source": [
    "import subprocess    \n",
    "import os\n",
    "     \n",
    "def sys_cmd(cmd):\n",
    "    \"\"\" \n",
    "       Run a system command and capture the output.\n",
    "    \"\"\"\n",
    "    try:\n",
    "        out = subprocess.check_output(cmd)\n",
    "        return 0\n",
    "    except subprocess.CalledProcessError as e:\n",
    "        out = e.output\n",
    "        return e.returncode\n",
    "    except OSError as e:\n",
    "        return 1"
   ]
  },
  {
   "cell_type": "code",
   "execution_count": null,
   "metadata": {},
   "outputs": [],
   "source": [
    "def check_rc(rc, cmd):\n",
    "    \"\"\"\n",
    "       Check the system call return code \n",
    "    \"\"\"\n",
    "    if rc == 0:\n",
    "        print(f'Command \"{cmd}\" was succesful')\n",
    "    else:\n",
    "        print(f'There was a problem running the command \"{cmd}\"')"
   ]
  },
  {
   "cell_type": "code",
   "execution_count": null,
   "metadata": {},
   "outputs": [],
   "source": [
    "cmd = 'ls'\n",
    "check_rc(sys_cmd(cmd), cmd)"
   ]
  },
  {
   "cell_type": "code",
   "execution_count": null,
   "metadata": {},
   "outputs": [],
   "source": [
    "cmd = 'make'\n",
    "check_rc(sys_cmd(cmd), cmd)"
   ]
  },
  {
   "cell_type": "code",
   "execution_count": null,
   "metadata": {},
   "outputs": [],
   "source": [
    "cmd = 'not_a_system_command'\n",
    "check_rc(sys_cmd(cmd), cmd)"
   ]
  },
  {
   "cell_type": "markdown",
   "metadata": {},
   "source": [
    "## <font color=\"red\">Summary</font>"
   ]
  },
  {
   "cell_type": "markdown",
   "metadata": {},
   "source": [
    "+ Exception handling is a useful feature of Python - more art than science. \n",
    "+ Raise exceptions whenever something unexpected occurs, and catch them only where you can do something about them.\n",
    "+ Error handling increases the robustness of your code, which guards against potential failures that would cause your program to exit in an uncontrolled fashion.\n",
    "+ Use exceptions to handle exceptional circumstances only (when you are not sure of the input being received for arithmetic calculations or not sure about existance of a file while trying to open it) not for normal error handling cases."
   ]
  },
  {
   "cell_type": "markdown",
   "metadata": {},
   "source": [
    "### <font color=\"green\">Breakout</font>"
   ]
  },
  {
   "cell_type": "markdown",
   "metadata": {},
   "source": [
    "#### Exercise 1\n",
    "\n",
    "- Write a function called `oops()` that explicitly raises an `IndexError` exception when called.\n",
    "- Then write another function, `doomed()`, that calls `oops()` inside a `try/except` statement to catch the error. "
   ]
  },
  {
   "cell_type": "markdown",
   "metadata": {},
   "source": [
    "<p>\n",
    "<p>\n",
    "\n",
    "<details><summary><b>CLICK HERE TO ACCESS THE SOLUTION</b></summary>\n",
    "<p>\n",
    "\n",
    " Function that raises an `IndexError` exception when called.\n",
    "```python\n",
    "def oops():\n",
    "    raise IndexError\n",
    "```\n",
    "\n",
    "oops()\n",
    "\n",
    "</p>\n",
    "</details>"
   ]
  },
  {
   "cell_type": "markdown",
   "metadata": {},
   "source": [
    "<p>\n",
    "<p>\n",
    "\n",
    "<details><summary><b>CLICK HERE TO ACCESS THE SOLUTION</b></summary>\n",
    "<p>\n",
    "\n",
    "Function that calls `oops()` inside a `try/except` statement to catch the error. \n",
    "    \n",
    "```python\n",
    "def doomed():\n",
    "    try:\n",
    "        oops()\n",
    "    except IndexError:\n",
    "        print('caught an index error!')\n",
    "    else:\n",
    "        print('no error caught...')\n",
    "\n",
    "doomed()\n",
    "\n",
    "```\n",
    "\n",
    "</p>\n",
    "</details>"
   ]
  },
  {
   "cell_type": "markdown",
   "metadata": {},
   "source": [
    "#### Exercise 2\n",
    "\n",
    "- Add a `try-except` block to the follwing code, i.e. instead of performing checks (using `if`) before we do something, we just do it – and if an error does occur, we handle it."
   ]
  },
  {
   "cell_type": "code",
   "execution_count": null,
   "metadata": {},
   "outputs": [],
   "source": [
    "n = None\n",
    "while n is None:\n",
    "    s = input(\"Please enter an integer: \")\n",
    "    if s.isdigit():\n",
    "        n = int(s)\n",
    "    else:\n",
    "        print(f\"{s} is not an integer.\")"
   ]
  },
  {
   "cell_type": "markdown",
   "metadata": {},
   "source": [
    "<p>\n",
    "<p>\n",
    "\n",
    "<details><summary><b>CLICK HERE TO ACCESS THE SOLUTION</b></summary>\n",
    "<p>\n",
    "    \n",
    "```python\n",
    "n = None\n",
    "while n is None:\n",
    "    try: \n",
    "        s = input(\"Please enter an integer: \")\n",
    "        n = int(s)\n",
    "    except ValueError:\n",
    "        print(f\"\\t {s} is not an integer.\")\n",
    "    else:\n",
    "        print(f\"The value of n is: {n}\")\n",
    "```\n",
    "\n",
    "</p>\n",
    "</details>"
   ]
  },
  {
   "cell_type": "markdown",
   "metadata": {},
   "source": [
    "#### Exercise 3\n",
    "\n",
    "- Add a `try-except` block to the body of this function which handles a possible `IndexError`, which could occur if the index provided exceeds the length of the list.\n",
    "- Print an error message if this happens."
   ]
  },
  {
   "cell_type": "code",
   "execution_count": null,
   "metadata": {},
   "outputs": [],
   "source": [
    "def print_list_element(thelist, index):\n",
    "    print(thelist[index])\n",
    "\n",
    "# test\n",
    "list1 = ['a', 'b', 'c']\n",
    "print_list_element(list1, 0)\n",
    "print_list_element(list1, 3)"
   ]
  },
  {
   "cell_type": "markdown",
   "metadata": {},
   "source": [
    "<p>\n",
    "<p>\n",
    "\n",
    "<details><summary><b>CLICK HERE TO ACCESS THE SOLUTION</b></summary>\n",
    "<p>\n",
    "    \n",
    "```python\n",
    "def print_list_element(the_list: list, idx: int):\n",
    "    try:\n",
    "        print(the_list[idx])\n",
    "    except IndexError:\n",
    "        print(\"The list has no item at index {idx}.\")        \n",
    "\n",
    "# test\n",
    "my_list = ['a', 'b', 'c']\n",
    "print_list_element(my_list, 0)\n",
    "print_list_element(my_list, 3)\n",
    "\n",
    "```\n",
    "\n",
    "</p>\n",
    "</details>"
   ]
  },
  {
   "cell_type": "code",
   "execution_count": null,
   "metadata": {},
   "outputs": [],
   "source": []
  }
 ],
 "metadata": {
  "anaconda-cloud": {},
  "kernelspec": {
   "display_name": "Python 3 (ipykernel)",
   "language": "python",
   "name": "python3"
  },
  "language_info": {
   "codemirror_mode": {
    "name": "ipython",
    "version": 3
   },
   "file_extension": ".py",
   "mimetype": "text/x-python",
   "name": "python",
   "nbconvert_exporter": "python",
   "pygments_lexer": "ipython3",
   "version": "3.12.7"
  }
 },
 "nbformat": 4,
 "nbformat_minor": 4
}
