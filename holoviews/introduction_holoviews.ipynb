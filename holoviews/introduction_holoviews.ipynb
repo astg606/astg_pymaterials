{
 "cells": [
  {
   "cell_type": "markdown",
   "metadata": {
    "colab_type": "text",
    "id": "P90R-v_Xr6Wd"
   },
   "source": [
    "<center>\n",
    "<table>\n",
    "  <tr>\n",
    "    <td><img src=\"https://portal.nccs.nasa.gov/datashare/astg/training/python/logos/nasa-logo.svg\" width=\"100\"/> </td>\n",
    "     <td><img src=\"https://portal.nccs.nasa.gov/datashare/astg/training/python/logos/ASTG_logo.png?raw=true\" width=\"80\"/> </td>\n",
    "     <td> <img src=\"https://www.nccs.nasa.gov/sites/default/files/NCCS_Logo_0.png\" width=\"130\"/> </td>\n",
    "    </tr>\n",
    "</table>\n",
    "</center>\n",
    "\n",
    "        \n",
    "<center>\n",
    "<h1><font color= \"blue\" size=\"+3\">ASTG Python Courses</font></h1>\n",
    "</center>\n",
    "\n",
    "---\n",
    "<center>\n",
    "    <h1><font color=\"red\" size=\"+3\">Introduction to HoloViews</font></h1>\n",
    "</center>"
   ]
  },
  {
   "cell_type": "markdown",
   "metadata": {},
   "source": [
    "## <font color=\"red\">Reference Document</font>\n",
    "\n",
    "- <a href=\"http://holoviews.org/Tutorials/\">HoloViews Tutorials</a>\n",
    "- <a href=\"https://coderzcolumn.com/tutorials/data-science/getting-started-with-holoviews-basic-plotting\">Getting Started with Holoviews - Basic Plotting</a>\n",
    "- <a href=\"https://github.com/andersy005/beyond-matplotlib-tutorial-sea-2018\">Beyond Matplotlib: Building Interactive Climate Data Visualizations with Bokeh and Friends</a>\n",
    "- [Tutorial 2b: Exploratory data analysis](http://bebi103.caltech.edu.s3-website-us-east-1.amazonaws.com/2017/tutorials/t2b_exploratory_data_analysis.html)"
   ]
  },
  {
   "cell_type": "markdown",
   "metadata": {},
   "source": [
    "## Required Packages\n",
    "\n",
    "```\n",
    "   datetime\n",
    "   Numpy\n",
    "   Pandas\n",
    "   HoloViews\n",
    "```"
   ]
  },
  {
   "cell_type": "code",
   "execution_count": null,
   "metadata": {
    "colab": {},
    "colab_type": "code",
    "id": "RlWFzeaGvPmc"
   },
   "outputs": [],
   "source": [
    "import warnings\n",
    "warnings.filterwarnings('ignore')"
   ]
  },
  {
   "cell_type": "code",
   "execution_count": null,
   "metadata": {
    "colab": {},
    "colab_type": "code",
    "id": "uktcOPYqt8Cn"
   },
   "outputs": [],
   "source": [
    "%matplotlib inline\n",
    "import datetime\n",
    "import numpy as np\n",
    "import pandas as pd\n",
    "import holoviews as hv"
   ]
  },
  {
   "cell_type": "code",
   "execution_count": null,
   "metadata": {},
   "outputs": [],
   "source": [
    "print(f\"    Numpy version: {np.__version__}\")\n",
    "print(f\"   Pandas version: {pd.__version__}\")\n",
    "print(f\"HoloViews version: {hv.__version__}\")"
   ]
  },
  {
   "cell_type": "markdown",
   "metadata": {},
   "source": [
    "## <font color=\"red\"> What is HoloViews?</font>\n",
    "\n",
    "- An open-source Python package or data analysis and visualization. It is designed to make plotting easy and interactive. \n",
    "- **It is not a plotting library**: it lets you build data structures that are conducive to visualization.\n",
    "- Once you move your data into a <font color=\"red\">HoloView Container object</font>,  you can explore the data visually.\n",
    "- It connects your data to plotting code implemented in other packages, such as Matplotlib, Plotly, or Bokeh. Plotting happens separately on the Matplotlib, Plotly or Bokeh backends, so you can focus on the data, not writing plotting code.\n",
    "- Allows you to collect and annotate your data in a way that reveals it naturally, with a minimum of effort needed for you to see your data as it actually is.\n",
    "- Designed to package your data to make it maximally visualizable and viewable interactively.\n",
    "- Can allow you to store, index, slice, analyze, reduce, compose, display, and animate your data as naturally as possible.\n",
    "- Makes your numerical data come alive, revealing itself easily and without extensive coding.\n",
    "- Support streaming data and many data formats (Pandas, Dask, Xarray, etc.)\n",
    "- Integrates with Seaborn and Pandas, opening up the power of Pandas DataFrames and Seaborn's statistical charts.\n",
    "\n",
    "\n",
    "### Few Key HoloViews Features\n",
    "\n",
    "- **The Element type**. Encapsulates your data to indicate how your data can be analyzed and displayed (image, curve, point plot, etc.). Elements are the HoloViews' most basic, core primitive. They always preserve the raw data they are supplied.\n",
    "- **Dimensions of your data**. Provide information on the dimensions (name, values, etc.) associated with the data. This allows HoloViews to rescale and label axes and allows HoloViews be smart in how it processes your data.\n",
    "- **The multi-dimensional space in which your data resides**. Might be spatial coordinates, spatial position of one component relative to another, or an abstract space. \n",
    "- **How your data should be grouped for display**. Describes how you want your data to be organized for visualization. \n"
   ]
  },
  {
   "cell_type": "markdown",
   "metadata": {},
   "source": [
    "##  <font color=\"red\">HoloViews Principles </font>\n",
    "\n",
    "- With HoloViews, instead of building a plot using direct calls to a plotting library:\n",
    "    - You first describe your data with a small amount of crucial semantic information required to make it visualizable, then \n",
    "    - You specify additional metadata as needed to determine more detailed aspects of your visualization. \n",
    "- You can then stylize the visualization, but the annotation is sufficient to specify the plot. Specifically, the annotations you need are:\n",
    "     - What kind of plotting element are you making (e.g., scatter, box-and-whisker, heat map, etc.).\n",
    "     - What columns specify the dimensions of the data, needed to set up axes.\n",
    "\n",
    "- Holoviews maintains metadata about your plot and it does not do any plotting by itself. \n",
    "- It just organizes metadata about how to plot data and uses its underlying backend library like `Bokeh`, `Matplotlib` or `Plotly` to actually plot data.\n",
    "\n",
    "## <font color=\"red\">Setting the Backend </font>\n",
    "\n",
    "Because we want to have interactive plots, we use the Bokeh rendering by calling the `hv.extension()` method."
   ]
  },
  {
   "cell_type": "code",
   "execution_count": null,
   "metadata": {},
   "outputs": [],
   "source": [
    "hv.extension(\"bokeh\")"
   ]
  },
  {
   "cell_type": "markdown",
   "metadata": {},
   "source": [
    "### <font color=\"green\"> Using Google Colab </font>\n",
    "\n",
    "To be able to use `HoloViews` in Google Colab, you need to run the following setting once:\n",
    "\n",
    "```python\n",
    "   %env HV_DOC_HTML=true\n",
    "```\n",
    "\n",
    "and to add the line:\n",
    "\n",
    "```python\n",
    "   hv.extension(\"bokeh\")\n",
    "```\n",
    "\n",
    "in every single cell where you plot with `HoloViews`."
   ]
  },
  {
   "cell_type": "code",
   "execution_count": null,
   "metadata": {},
   "outputs": [],
   "source": [
    "%env HV_DOC_HTML=true"
   ]
  },
  {
   "cell_type": "markdown",
   "metadata": {},
   "source": [
    "## <font color=\"red\">First Examples</font>\n",
    "\n",
    "- A HoloViews **element** is a way of converting the tabular nature of the data to a graphical representation\n",
    "- We will use here the following <a href=\"http://holoviews.org/reference/index.html\">graphic elements</a>:\n",
    "     - Point chart (`hv.Points`)\n",
    "     - Curve (`hv.Curve`)\n",
    "     - Image (`hv.Image`)"
   ]
  },
  {
   "cell_type": "markdown",
   "metadata": {},
   "source": [
    "Consider the function:\n",
    "\n",
    "$$G_{f,p}(x) = \\sin(f \\times x + p)$$\n",
    "\n",
    "where $x$ is the independent variable and $f$ (frequency) and $p$ (phase) are parameters."
   ]
  },
  {
   "cell_type": "code",
   "execution_count": null,
   "metadata": {},
   "outputs": [],
   "source": [
    "def myfunc(x, phase=0, freq=100):\n",
    "    return np.sin((freq * x + phase))"
   ]
  },
  {
   "cell_type": "markdown",
   "metadata": {},
   "source": [
    "We want to examine the effect of varying the phase and the frequency:"
   ]
  },
  {
   "cell_type": "code",
   "execution_count": null,
   "metadata": {},
   "outputs": [],
   "source": [
    "phases = np.linspace(0, 2*np.pi, 11) # Explored phases\n",
    "freqs = np.linspace(50, 150, 5)      # Explored frequencies"
   ]
  },
  {
   "cell_type": "markdown",
   "metadata": {},
   "source": [
    "Consider the spatial area:"
   ]
  },
  {
   "cell_type": "code",
   "execution_count": null,
   "metadata": {},
   "outputs": [],
   "source": [
    "dist = np.linspace(-0.5, 0.5, 202)   # Linear spatial sampling\n",
    "X, Y = np.meshgrid(dist, dist)\n",
    "grid = (X**2 + Y**2)                 # 2D spatial sampling"
   ]
  },
  {
   "cell_type": "markdown",
   "metadata": {},
   "source": [
    "With HoloViews, we can immediately view our simple function by creating `Image` and `Curve` objects to visualize the 2D arrays and 1D cross-sections generated by the `myfunc` function, respectively:"
   ]
  },
  {
   "cell_type": "markdown",
   "metadata": {},
   "source": [
    "### <font color=\"blue\">Point Chart</font>\n",
    "\n",
    "- We used `hv.Points` to invoke an element of visualization. \n",
    "- An element is just a way of converting the tabular nature of the data to a graphical representation, in this case a scatter plot of points."
   ]
  },
  {
   "cell_type": "code",
   "execution_count": null,
   "metadata": {},
   "outputs": [],
   "source": [
    "x = dist\n",
    "y = myfunc(dist, freq=50)"
   ]
  },
  {
   "cell_type": "code",
   "execution_count": null,
   "metadata": {},
   "outputs": [],
   "source": [
    "first_points = hv.Points((x, y)) \n",
    "first_points"
   ]
  },
  {
   "cell_type": "markdown",
   "metadata": {},
   "source": [
    "- We provided two arrays of vaules as a tuple to `hv.Points`.\n",
    "- We assigned the result to `first_points` and let Jupyter display the object using its default visual representation.\n",
    "- `first_points` is just a wrapper around your data, not a plot, and you can choose other representations that are not plots. \n",
    "\n",
    "Let us for instance print the object to get a textual representation:"
   ]
  },
  {
   "cell_type": "code",
   "execution_count": null,
   "metadata": {},
   "outputs": [],
   "source": [
    "print(first_points)"
   ]
  },
  {
   "cell_type": "markdown",
   "metadata": {},
   "source": [
    "- The textual representation indicates that this object is a continuous mapping from x to y, which is how HoloViews knew to render it as a continuous curve. \n",
    "- You can also access the full original data which has been converted to a Pandas dataframe:"
   ]
  },
  {
   "cell_type": "code",
   "execution_count": null,
   "metadata": {},
   "outputs": [],
   "source": [
    "print(type(first_points.data))"
   ]
  },
  {
   "cell_type": "code",
   "execution_count": null,
   "metadata": {},
   "outputs": [],
   "source": [
    "first_points.data.head()"
   ]
  },
  {
   "cell_type": "markdown",
   "metadata": {},
   "source": [
    "### <font color=\"blue\"> Line Chart or Curve</font>"
   ]
  },
  {
   "cell_type": "code",
   "execution_count": null,
   "metadata": {},
   "outputs": [],
   "source": [
    "first_curve = hv.Curve((x, y)) \n",
    "first_curve"
   ]
  },
  {
   "cell_type": "code",
   "execution_count": null,
   "metadata": {},
   "outputs": [],
   "source": [
    "print(first_curve)"
   ]
  },
  {
   "cell_type": "markdown",
   "metadata": {},
   "source": [
    "#### Annotating the Curve\n",
    "\n",
    "- Wrapping your data (`x` and `y`) as a HoloViews element is sufficient to make it visualizable.\n",
    "- There are many other aspects of the data that we can capture to convey more about its meaning to HoloViews. \n",
    "- For instance, we might want to specify what the x-axis and y-axis actually correspond to, in the real world. \n",
    "\n",
    "To specify what the x-axis and y-axis are: "
   ]
  },
  {
   "cell_type": "code",
   "execution_count": null,
   "metadata": {},
   "outputs": [],
   "source": [
    "first_annotated_curve = hv.Curve((x, y), \n",
    "                                 kdims=['x_values'], \n",
    "                                 vdims=['y_values']) \n",
    "first_annotated_curve"
   ]
  },
  {
   "cell_type": "markdown",
   "metadata": {},
   "source": [
    "- We told HoloViews that the `kdim` or key dimension of our data corresponds to the real-world independent variable ('x-values'), and the `vdim` or value dimension 'y-values' is the real-world dependent variable. \n",
    "- Even though the additional information we provided is about the data, not directly about the plot, HoloViews is designed to reveal the properties of your data accurately, and so the axes now update to show what these dimensions represent."
   ]
  },
  {
   "cell_type": "code",
   "execution_count": null,
   "metadata": {},
   "outputs": [],
   "source": [
    "print(first_annotated_curve)"
   ]
  },
  {
   "cell_type": "code",
   "execution_count": null,
   "metadata": {},
   "outputs": [],
   "source": [
    "first_annotated_curve.data.head()"
   ]
  },
  {
   "cell_type": "markdown",
   "metadata": {},
   "source": [
    "We can change the labels by using the `redim` method of the `Curve` element:"
   ]
  },
  {
   "cell_type": "code",
   "execution_count": null,
   "metadata": {},
   "outputs": [],
   "source": [
    "first_annotated_curve = first_annotated_curve.redim.label(x_values='X',\n",
    "                                                          y_values='Y')\n",
    "first_annotated_curve"
   ]
  },
  {
   "cell_type": "markdown",
   "metadata": {},
   "source": [
    "#### Casting between Elements\n",
    "\n",
    "- The type of an element is a declaration of important facts about your data, which gives HoloViews the appropriate hint required to generate a suitable visual representation from it. \n",
    "- Casting the same data between different Element types in this way is often useful as a way to see your data differently, particularly if you are not certain of a single best way to interpret the data. \n",
    "- Casting preserves your declared metadata as much as possible, propagating your declarations from the original object to the new one.\n",
    "- For instance, calling it a Curve is a declaration from the user that the data consists of samples from an underlying continuous function, which is why HoloViews plots it as a connected object. \n",
    "   - If we convert to an `hv.Scatter` object instead, the same set of data will show up as separated points, because \"Scatter\" does not make an assumption that the data is meant to be continuous:"
   ]
  },
  {
   "cell_type": "code",
   "execution_count": null,
   "metadata": {},
   "outputs": [],
   "source": [
    "hv.Scatter(first_annotated_curve)"
   ]
  },
  {
   "cell_type": "markdown",
   "metadata": {},
   "source": [
    "### <font color=\"blue\">Image</font>\n",
    "\n",
    "- We pass to the `hv.Image` object, a data array which maps from two key dimensions."
   ]
  },
  {
   "cell_type": "code",
   "execution_count": null,
   "metadata": {},
   "outputs": [],
   "source": [
    "image_data = myfunc(grid, freq=50)\n",
    "image_data.shape"
   ]
  },
  {
   "cell_type": "code",
   "execution_count": null,
   "metadata": {},
   "outputs": [],
   "source": [
    "first_image = hv.Image(image_data) \n",
    "first_image"
   ]
  },
  {
   "cell_type": "code",
   "execution_count": null,
   "metadata": {},
   "outputs": [],
   "source": [
    "print(first_image)"
   ]
  },
  {
   "cell_type": "code",
   "execution_count": null,
   "metadata": {},
   "outputs": [],
   "source": [
    "print(type(first_image.data))"
   ]
  },
  {
   "cell_type": "code",
   "execution_count": null,
   "metadata": {},
   "outputs": [],
   "source": [
    "first_image.data"
   ]
  },
  {
   "cell_type": "markdown",
   "metadata": {},
   "source": [
    "### <font color=\"blue\">Merging Graphs</font>\n",
    "\n",
    "You can merge graph objects using two operations:\n",
    "\n",
    "* `+`: Puts graphs next to each other.\n",
    "* `*`: Overlays graphs on one another to create one single graph combining all individuals."
   ]
  },
  {
   "cell_type": "code",
   "execution_count": null,
   "metadata": {},
   "outputs": [],
   "source": [
    "fq1 = 50\n",
    "image_1 = hv.Image(myfunc(grid, freq=fq1)) \n",
    "curve_1 = hv.Curve(zip(dist, myfunc(dist**2, freq=fq1)), \n",
    "                   label=f\"freq={fq1}\")\n",
    "image_curve_1 = image_1 + curve_1"
   ]
  },
  {
   "cell_type": "code",
   "execution_count": null,
   "metadata": {},
   "outputs": [],
   "source": [
    "fq2 = 200\n",
    "image_2 = hv.Image(myfunc(grid, freq=fq2)) \n",
    "curve_2 = hv.Curve(zip(dist, myfunc(dist**2, freq=fq2)), \n",
    "                   label=f\"freq={fq2}\")\n",
    "image_curve_2 = image_2 + curve_2"
   ]
  },
  {
   "cell_type": "code",
   "execution_count": null,
   "metadata": {},
   "outputs": [],
   "source": [
    "image_curve_1"
   ]
  },
  {
   "cell_type": "code",
   "execution_count": null,
   "metadata": {},
   "outputs": [],
   "source": [
    "curve_1 + curve_2"
   ]
  },
  {
   "cell_type": "markdown",
   "metadata": {},
   "source": [
    "#### Layouts\n",
    "\n",
    "We can specify the number of columns:"
   ]
  },
  {
   "cell_type": "code",
   "execution_count": null,
   "metadata": {},
   "outputs": [],
   "source": [
    "layout = image_curve_1 + image_curve_2\n",
    "layout.cols(1)"
   ]
  },
  {
   "cell_type": "code",
   "execution_count": null,
   "metadata": {},
   "outputs": [],
   "source": [
    "print(layout)"
   ]
  },
  {
   "cell_type": "markdown",
   "metadata": {},
   "source": [
    "We can build a new layout by selecting elements from `layout`:"
   ]
  },
  {
   "cell_type": "code",
   "execution_count": null,
   "metadata": {},
   "outputs": [],
   "source": [
    "layout.Image.I + layout.Curve.Freq_equals_200"
   ]
  },
  {
   "cell_type": "markdown",
   "metadata": {},
   "source": [
    "A `Layout` lets us pick component elements via two levels of tab-completable attribute access."
   ]
  },
  {
   "cell_type": "markdown",
   "metadata": {},
   "source": [
    "#### Overlays\n",
    "\n",
    "The operator `*` allows you to overlay elements into a single plot, if they live in the same space (with matching dimensions and similar ranges over those dimensions). "
   ]
  },
  {
   "cell_type": "code",
   "execution_count": null,
   "metadata": {},
   "outputs": [],
   "source": [
    "overlay_curve = curve_1 * curve_2\n",
    "overlay_curve "
   ]
  },
  {
   "cell_type": "code",
   "execution_count": null,
   "metadata": {},
   "outputs": [],
   "source": [
    "print(overlay_curve)"
   ]
  },
  {
   "cell_type": "markdown",
   "metadata": {},
   "source": [
    "By printing the `overlay_curve` object, we can see that its type is `Overlay`. We can access an individual elements of `Overlay` by simply following dot notation."
   ]
  },
  {
   "cell_type": "code",
   "execution_count": null,
   "metadata": {},
   "outputs": [],
   "source": [
    "overlay_curve.Curve.Freq_equals_200"
   ]
  },
  {
   "cell_type": "markdown",
   "metadata": {},
   "source": [
    "### <font color=\"blue\">Adding Style Options</font>\n",
    "\n",
    "We can specify:\n",
    "\n",
    "- **Style options**: Used by the renderer (Matplotlib, Bokeh). These are things like coloring, line thickness, etc..\n",
    "- **Plot options**: Control how HoloViews builds the graphic. These are things like whether or not to display a title or show a grid."
   ]
  },
  {
   "cell_type": "markdown",
   "metadata": {},
   "source": [
    "We can use the `hv.opts` method to add options:"
   ]
  },
  {
   "cell_type": "code",
   "execution_count": null,
   "metadata": {},
   "outputs": [],
   "source": [
    "curve_2.opts(hv.opts.Curve(line_color=\"violet\", \n",
    "                           width=500,\n",
    "                           line_width=2, \n",
    "                           line_dash='dotdash'))"
   ]
  },
  {
   "cell_type": "markdown",
   "metadata": {},
   "source": [
    "If you combine several curves, the `hv.opts` option is more appropriate:"
   ]
  },
  {
   "cell_type": "code",
   "execution_count": null,
   "metadata": {},
   "outputs": [],
   "source": [
    "mycurve = curve_1 + curve_2\n",
    "mycurve.opts(hv.opts.Curve(line_color=\"green\", \n",
    "                           line_width=3, \n",
    "                           line_dash='dotdash'))"
   ]
  },
  {
   "cell_type": "markdown",
   "metadata": {},
   "source": [
    "To investigate what styling options are available for each kind of plotting Element, you can enter, for example"
   ]
  },
  {
   "cell_type": "code",
   "execution_count": null,
   "metadata": {},
   "outputs": [],
   "source": [
    "help(hv.Curve)"
   ]
  },
  {
   "cell_type": "markdown",
   "metadata": {},
   "source": [
    "**Global Style Options**\n",
    "\n",
    "- Configuration options can be added by using jupyter notebook magic command `%%opts`. \n",
    "- Holoviews has divided configuration options in two categories:\n",
    "    - Primary options: xlabel, ylabel, height, width, etc.\n",
    "    - Secondary options: for data plotting options such as the size of points, alpha, color, a width of the bar, etc.\n",
    "    \n",
    "You can also use the `%%output` magic command to set output options.\n",
    "    \n",
    " **Both the `%output` and `%opts` line magics set things globally so it is recommended you declare them at the top of your notebooks.**"
   ]
  },
  {
   "cell_type": "code",
   "execution_count": null,
   "metadata": {},
   "outputs": [],
   "source": [
    "%%opts Curve [show_grid=True, width=450, height=350] (color=Cycle(values=['lightseagreen', 'coral']) line_width=2, line_dash='dotdash')\n",
    "curve_1"
   ]
  },
  {
   "cell_type": "code",
   "execution_count": null,
   "metadata": {},
   "outputs": [],
   "source": [
    "%%opts Image (cmap='RdYlGn') Curve (color='g')\n",
    "(image_curve_1 + image_curve_2).cols(2)"
   ]
  },
  {
   "cell_type": "code",
   "execution_count": null,
   "metadata": {},
   "outputs": [],
   "source": [
    "%%output backend='matplotlib'\n",
    "%%opts Curve [aspect=5 fig_size=400 xrotation=45] (color=Cycle(values=['lightseagreen', 'coral']) linewidth=2 linestyle='-.')\n",
    "curve_1"
   ]
  },
  {
   "cell_type": "markdown",
   "metadata": {},
   "source": [
    "### <font color=\"blue\">Live Data</font>\n",
    "\n",
    "- We can use the `HoloMap` data structure to explore parameter spaces.\n",
    "- `HoloMap` hold fully constructed Elements (Image, Curve, etc.) at specifically sampled points in a multidimensional space.\n",
    "- Be careful about using `HoloMap`:\n",
    "     - Can exhaust all the memory available to Python.\n",
    "     - Can exhaust all the memory in the browser when displayed.\n",
    "     - Can result in impractically large HTML files."
   ]
  },
  {
   "cell_type": "code",
   "execution_count": null,
   "metadata": {},
   "outputs": [],
   "source": [
    "q = hv.HoloMap([(p, hv.Curve(myfunc(dist, phase=p))) for p in phases], \n",
    "               kdims=['Phase'])\n",
    "q"
   ]
  },
  {
   "cell_type": "code",
   "execution_count": null,
   "metadata": {},
   "outputs": [],
   "source": [
    "from holoviews.operation import contours, threshold, gradient\n",
    "m = hv.HoloMap([(p, hv.Image(myfunc(grid, phase=p))) for p in phases], \n",
    "               kdims=['Phase'])\n",
    "contours(m, levels=[0.5]) + threshold(m, level=0.5) + gradient(m).hist(bin_range=(0,0.7))"
   ]
  },
  {
   "cell_type": "markdown",
   "metadata": {},
   "source": [
    "### <font color=\"blue\">Saving Plots</font>\n",
    "\n",
    "Bokeh supports static export to png's using `Selenium`, `PhantomJS` and `pillow`."
   ]
  },
  {
   "cell_type": "code",
   "execution_count": null,
   "metadata": {},
   "outputs": [],
   "source": [
    "hv.output(curve_1, fig='png')"
   ]
  },
  {
   "cell_type": "markdown",
   "metadata": {},
   "source": [
    "The exported png can also be saved to disk using the `save` function by changing the file extension from `.html`, which exports an interactive plot, `.png`:"
   ]
  },
  {
   "cell_type": "code",
   "execution_count": null,
   "metadata": {},
   "outputs": [],
   "source": [
    "hv.save(curve_1, 'curve_1.png')"
   ]
  },
  {
   "cell_type": "code",
   "execution_count": null,
   "metadata": {},
   "outputs": [],
   "source": [
    "hv.save(curve_2, 'curve_2.png')"
   ]
  },
  {
   "cell_type": "markdown",
   "metadata": {},
   "source": [
    "By passing `fig='png'` and a filename='my_curve' to `%output` we can both render to PNG and save the output to file:"
   ]
  },
  {
   "cell_type": "code",
   "execution_count": null,
   "metadata": {},
   "outputs": [],
   "source": [
    "%%output fig='png' filename='my_curve'\n",
    "curve_1.clone()"
   ]
  },
  {
   "cell_type": "markdown",
   "metadata": {},
   "source": [
    "### <font color='green'>Annotating Data</font>\n",
    "\n",
    "As we have seen, HoloViews relies heavily on semantic annotations, i.e., metadata you declare that lets HoloViews interpret what your data represents. With these annotations, HoloViews can perform complex tasks like visualization automatically.\n",
    "\n",
    "There are three main kinds of annotation that can be associated with each element:\n",
    "\n",
    "- **Type**, used to declare the sort of data you have, which is required before it can be visualized,\n",
    "- **Dimensions**, used to specify the abstract space in which the data resides, allowing axis labeling and indexing, and\n",
    "- **Group/Label**, used to declare a meaningful category and human-readable description of the element, allowing plot labeling and selecting related sets of elements.\n",
    "\n",
    "We will learn more about the annotation in the next examples."
   ]
  },
  {
   "cell_type": "markdown",
   "metadata": {},
   "source": [
    "## <font color=\"red\">Example with Pandas DataFrames</font>\n",
    "\n",
    "![fig_aeronet](https://www.nasa.gov/images/content/363322main_bamgomas_maps.jpg)\n",
    "Image Source: NASA\n",
    "\n",
    "- [AERONET](https://aeronet.gsfc.nasa.gov/) (AErosol RObotic NETwork) is a globally distributed network of identical robotically controlled ground-based sun/sky scanning radiometers. \n",
    "- Each instrument measures the intensity of sun and sky light throughout daylight hours from the ultraviolet through the near-infrared. \n",
    "- The program provides a longterm, continuous, and accessible public domain database of aerosol optical, microphysical, and radiative properties for aerosol research including, aerosol characterization, validation of satellite retrievals and model predictions, and synergism with other databases.\n",
    "- Here are some Science benefits of AERONET:\n",
    "     - AERONET measurements are used to validate and advance algorithm development of satellite retrievals of aerosols.\n",
    "     - Aerosol transport models use aerosol data from AERONET to validate and improve model algorithms.\n",
    "     - Aerosol assimilation models as well as weather prediction models use real time AERONET data to improve predictions.\n",
    "     - Long-term commitment to AERONET sites worldwide provides assessment of the regional climatological impact of aerosols (e.g., aerosol amount, size, and heating or cooling effects).\n",
    "- Over 840 stations worldwide.\n",
    "- Here, we analyze the measurements (Aerosol Optical Depth (AOD)) at the [NASA GSFC](https://aeronet.gsfc.nasa.gov/new_web/photo_db_v3/GSFC.html) site."
   ]
  },
  {
   "cell_type": "code",
   "execution_count": null,
   "metadata": {},
   "outputs": [],
   "source": [
    "url = \"https://raw.githubusercontent.com/astg606/py_materials/master/aeronet/\"\n",
    "filename = url+\"19930101_20190209_GSFC.lev20\""
   ]
  },
  {
   "cell_type": "code",
   "execution_count": null,
   "metadata": {},
   "outputs": [],
   "source": [
    "dateparse = lambda x: datetime.datetime.strptime(x, '%d:%m:%Y %H:%M:%S')\n",
    "aero_df = pd.read_csv(filename, skiprows=6, na_values=-999,\n",
    "                      parse_dates={'datetime': [0, 1]}, \n",
    "                      date_parser=dateparse, index_col=0)#, squeeze=True)"
   ]
  },
  {
   "cell_type": "code",
   "execution_count": null,
   "metadata": {},
   "outputs": [],
   "source": [
    "aero_df.head()"
   ]
  },
  {
   "cell_type": "code",
   "execution_count": null,
   "metadata": {},
   "outputs": [],
   "source": [
    "aero_df.info()"
   ]
  },
  {
   "cell_type": "markdown",
   "metadata": {},
   "source": [
    "**We can examime the instruments used:**"
   ]
  },
  {
   "cell_type": "code",
   "execution_count": null,
   "metadata": {},
   "outputs": [],
   "source": [
    "instruments = aero_df['AERONET_Instrument_Number'].unique()\n",
    "num_instruments = instruments.size\n",
    "print(\"Number of instruments: {}\".format(num_instruments))\n",
    "print(\"List of Intrument Number: \\n\\t {}\".format(instruments))"
   ]
  },
  {
   "cell_type": "code",
   "execution_count": null,
   "metadata": {},
   "outputs": [],
   "source": [
    "first_hist = hv.Histogram(np.histogram(aero_df['AERONET_Instrument_Number'], bins=num_instruments), \n",
    "                          kdims=['AERONET_Instrument_Number'])\n",
    "first_hist"
   ]
  },
  {
   "cell_type": "markdown",
   "metadata": {},
   "source": [
    "**Remove rows and columns that have all `NaN`:**"
   ]
  },
  {
   "cell_type": "code",
   "execution_count": null,
   "metadata": {},
   "outputs": [],
   "source": [
    "aero_df = aero_df.dropna(axis=1, how='all').dropna(axis=0, how='all')\n",
    "aero_df"
   ]
  },
  {
   "cell_type": "markdown",
   "metadata": {},
   "source": [
    "**Select few columns and rename them:**"
   ]
  },
  {
   "cell_type": "code",
   "execution_count": null,
   "metadata": {},
   "outputs": [],
   "source": [
    "list(aero_df.columns)"
   ]
  },
  {
   "cell_type": "code",
   "execution_count": null,
   "metadata": {},
   "outputs": [],
   "source": [
    "aero_df['Data_Quality_Level'].unique()"
   ]
  },
  {
   "cell_type": "code",
   "execution_count": null,
   "metadata": {},
   "outputs": [],
   "source": [
    "df = aero_df[['AOD_1640nm', 'AOD_1020nm', 'AOD_870nm', 'AOD_675nm',\n",
    "              'AOD_500nm', 'AOD_440nm', 'AOD_380nm', 'AOD_340nm',\n",
    "              'Precipitable_Water(cm)', 'AERONET_Instrument_Number']]\n",
    "df"
   ]
  },
  {
   "cell_type": "code",
   "execution_count": null,
   "metadata": {},
   "outputs": [],
   "source": [
    "df.columns = ['AOD_1640', 'AOD_1020', 'AOD_870', 'AOD_675',\n",
    "              'AOD_500', 'AOD_440', 'AOD_380', 'AOD_340',\n",
    "              'PrecWater', 'Instrument_Number']\n",
    "df"
   ]
  },
  {
   "cell_type": "code",
   "execution_count": null,
   "metadata": {},
   "outputs": [],
   "source": [
    "df.describe().transpose()"
   ]
  },
  {
   "cell_type": "markdown",
   "metadata": {},
   "source": [
    "**Get the average daily values:**"
   ]
  },
  {
   "cell_type": "code",
   "execution_count": null,
   "metadata": {},
   "outputs": [],
   "source": [
    "df_dm = df.resample(\"D\").mean()"
   ]
  },
  {
   "cell_type": "code",
   "execution_count": null,
   "metadata": {},
   "outputs": [],
   "source": [
    "df_dm"
   ]
  },
  {
   "cell_type": "markdown",
   "metadata": {},
   "source": [
    "Drop all rows with `NaN`:"
   ]
  },
  {
   "cell_type": "code",
   "execution_count": null,
   "metadata": {},
   "outputs": [],
   "source": [
    "df_dm = df_dm.dropna(axis=0)\n",
    "df_dm.describe().transpose()"
   ]
  },
  {
   "cell_type": "markdown",
   "metadata": {},
   "source": [
    "**Create Various Plots**"
   ]
  },
  {
   "cell_type": "markdown",
   "metadata": {},
   "source": [
    "Time series plot with `Pandas`:"
   ]
  },
  {
   "cell_type": "code",
   "execution_count": null,
   "metadata": {},
   "outputs": [],
   "source": [
    "df_dm.PrecWater.plot()"
   ]
  },
  {
   "cell_type": "markdown",
   "metadata": {},
   "source": [
    "Same plot using `HoloViews`\n",
    "\n",
    "- There are two types of dimensions, **key dimensions** and **value dimensions**, specified with the `kdims` and `vdims` arguments, respectively. \n",
    "- We can think of these like key-value pairs in dictionaries (where you can have multidimensional keys). \n",
    "- Key dimensions are indexing dimensions, which say where on the graphic the data in a row will reside. \n",
    "- The value dimensions give information about each data point. "
   ]
  },
  {
   "cell_type": "code",
   "execution_count": null,
   "metadata": {},
   "outputs": [],
   "source": [
    "hv_curve = hv.Curve(df_dm, kdims=\"datetime\", vdims=\"PrecWater\")\n",
    "hv_curve"
   ]
  },
  {
   "cell_type": "markdown",
   "metadata": {},
   "source": [
    "- Declaring the `kdims` and `vdims` does not simply declare the axis labels, it allows HoloViews to discover which columns of the data should be used from the DataFrame for each of the axes."
   ]
  },
  {
   "cell_type": "markdown",
   "metadata": {},
   "source": [
    "Add styling options:"
   ]
  },
  {
   "cell_type": "code",
   "execution_count": null,
   "metadata": {},
   "outputs": [],
   "source": [
    "plot_opts = {'show_grid':  True,\n",
    "             'width': 700,\n",
    "             'height': 500}\n",
    "style_opts = {'color': '#1f77b4',\n",
    "              'size': 1}\n",
    "#hv_curve.opts(style=style_opts, plot=plot_opts)\n",
    "hv_curve.opts(\n",
    "    hv.opts.Curve( height=300, width=500, xaxis=None, line_width=1.50, color='red', tools=['hover']),\n",
    ")"
   ]
  },
  {
   "cell_type": "markdown",
   "metadata": {},
   "source": [
    "#### Split-Apply-Combine with Graphic Element\n",
    "\n",
    "- In HoloViews, we are annotating a `DataFrame` to identify which are key dimensions and which are value dimensions.\n",
    "- We can add another value to any dimension.\n",
    "- HoloViews can only use one value dimension (the first one listed by default) to place the graph."
   ]
  },
  {
   "cell_type": "code",
   "execution_count": null,
   "metadata": {},
   "outputs": [],
   "source": [
    "hv_curve = hv.Curve(df_dm, \n",
    "                    kdims=\"datetime\", \n",
    "                    vdims=[\"PrecWater\",'Instrument_Number'])\n",
    "hv_curve"
   ]
  },
  {
   "cell_type": "markdown",
   "metadata": {},
   "source": [
    "- Now we can use the `groupby()` method on the curve plot to split-apply-combine to obtain an individual plot for each `Instrument_Number`."
   ]
  },
  {
   "cell_type": "code",
   "execution_count": null,
   "metadata": {},
   "outputs": [],
   "source": [
    "gp_hv_curve = hv_curve.groupby('Instrument_Number')\n",
    "gp_hv_curve"
   ]
  },
  {
   "cell_type": "markdown",
   "metadata": {},
   "source": [
    "We can also use:"
   ]
  },
  {
   "cell_type": "code",
   "execution_count": null,
   "metadata": {},
   "outputs": [],
   "source": [
    "hv.Curve(\n",
    "    df_dm,\n",
    "    kdims = [\"datetime\", \"PrecWater\"],\n",
    "    vdims = ['Instrument_Number'],\n",
    ").groupby(\n",
    "    'Instrument_Number'\n",
    ")"
   ]
  },
  {
   "cell_type": "markdown",
   "metadata": {},
   "source": [
    "- We can also overlay the curve plots for all the instruments:"
   ]
  },
  {
   "cell_type": "code",
   "execution_count": null,
   "metadata": {},
   "outputs": [],
   "source": [
    "overlay_gp_hv_curve = gp_hv_curve.overlay()\n",
    "overlay_gp_hv_curve.opts(\n",
    "    #plot=plot_opts\n",
    "    hv.opts.Curve( height=300, width=500, line_width=0.50, color='red', tools=['hover']),\n",
    ")"
   ]
  },
  {
   "cell_type": "markdown",
   "metadata": {},
   "source": [
    "- You may choose to create subplots instead:"
   ]
  },
  {
   "cell_type": "code",
   "execution_count": null,
   "metadata": {},
   "outputs": [],
   "source": [
    "layout_gp_hv_curve = gp_hv_curve.layout()\n",
    "layout_gp_hv_curve"
   ]
  },
  {
   "cell_type": "code",
   "execution_count": null,
   "metadata": {},
   "outputs": [],
   "source": [
    "layout_gp_hv_curve.cols(2)"
   ]
  },
  {
   "cell_type": "markdown",
   "metadata": {},
   "source": [
    "**We can zoom in 2017:**"
   ]
  },
  {
   "cell_type": "code",
   "execution_count": null,
   "metadata": {},
   "outputs": [],
   "source": [
    "df_dm2017 = df_dm[df_dm.index.year == 2017]"
   ]
  },
  {
   "cell_type": "code",
   "execution_count": null,
   "metadata": {},
   "outputs": [],
   "source": [
    "df_dm2017[[\"AOD_1640\", \"PrecWater\"]].plot()"
   ]
  },
  {
   "cell_type": "code",
   "execution_count": null,
   "metadata": {},
   "outputs": [],
   "source": [
    "dfd = df_dm[df_dm.index.year == 2017]\n",
    "hv_time_series_curve = hv.Curve(df_dm2017,\n",
    "                                kdims=[\"datetime\"],\n",
    "                                vdims=[\"AOD_1640\"]) * \\\n",
    "                       hv.Curve(df_dm2017,\n",
    "                                kdims=[\"datetime\"],\n",
    "                                vdims=[\"PrecWater\"])\n",
    "\n",
    "hv_time_series_curve"
   ]
  },
  {
   "cell_type": "code",
   "execution_count": null,
   "metadata": {},
   "outputs": [],
   "source": [
    "df_2017 = df_dm[df_dm.index.year == 2017]"
   ]
  },
  {
   "cell_type": "code",
   "execution_count": null,
   "metadata": {},
   "outputs": [],
   "source": [
    "df_2017.plot(kind=\"scatter\", y=\"AOD_1640\", x=\"PrecWater\")"
   ]
  },
  {
   "cell_type": "code",
   "execution_count": null,
   "metadata": {},
   "outputs": [],
   "source": [
    "plot_opts = {'show_grid':  True,\n",
    "             'width': 500,\n",
    "             'height': 300}\n",
    "style_opts = {'color': '#1f77b4',\n",
    "              'alpha': 0.7,\n",
    "              'size': 5}"
   ]
  },
  {
   "cell_type": "code",
   "execution_count": null,
   "metadata": {},
   "outputs": [],
   "source": [
    "hv_scatter1 = hv.Scatter(df_2017, vdims=['AOD_1640'], kdims=\"PrecWater\")\n",
    "hv_scatter1.opts(\n",
    "    #style=style_opts, \n",
    "    hv.opts.Curve( show_grid=True, height=300, width=500, xaxis=None, \n",
    "                  line_width=1.50, color='#1f77b4', tools=['hover']),\n",
    "    #plot=plot_opts\n",
    ")"
   ]
  },
  {
   "cell_type": "markdown",
   "metadata": {},
   "source": [
    "We can perform a simple linear regression:"
   ]
  },
  {
   "cell_type": "code",
   "execution_count": null,
   "metadata": {},
   "outputs": [],
   "source": [
    "slope, intercept = np.polyfit(df_2017['PrecWater'], df_2017['AOD_1640'], 1)\n",
    "\n",
    "# Line for plotting\n",
    "prec = np.array([0,5])\n",
    "aod = slope * prec + intercept"
   ]
  },
  {
   "cell_type": "code",
   "execution_count": null,
   "metadata": {},
   "outputs": [],
   "source": [
    "%%opts Curve (line_width=2, color='#24406d')\n",
    "\n",
    "# Regression line\n",
    "regression_line = hv.Curve((prec, aod),\n",
    "                           kdims=['PrecWater'],\n",
    "                           vdims=['AOD_1640'])\n",
    "\n",
    "# Compose a new plot with an overlay\n",
    "regression_line * hv_scatter1.opts(\n",
    "    #style=style_opts, plot=plot_opts\n",
    "    hv.opts.Curve( show_grid=True, height=300, width=500, xaxis=None, \n",
    "                  line_width=1.50, color='#1f77b4', tools=['hover']),\n",
    ")"
   ]
  },
  {
   "cell_type": "code",
   "execution_count": null,
   "metadata": {},
   "outputs": [],
   "source": [
    "regression_line + hv_scatter1.opts(\n",
    "    #style=style_opts, plot=plot_opts\n",
    "    hv.opts.Curve( show_grid=True, height=300, width=500, xaxis=None, \n",
    "                  line_width=1.50, color='#1f77b4', tools=['hover']),\n",
    ")"
   ]
  },
  {
   "cell_type": "code",
   "execution_count": null,
   "metadata": {},
   "outputs": [],
   "source": []
  },
  {
   "cell_type": "code",
   "execution_count": null,
   "metadata": {},
   "outputs": [],
   "source": [
    "hv_scatter2 = hv.Scatter(df_2017, vdims=['AOD_440'], kdims=\"PrecWater\")\n",
    "(hv_scatter1*hv_scatter2).opts(\n",
    "    #style=style_opts, plot=plot_opts\n",
    "    hv.opts.Curve( show_grid=True, height=300, width=500, xaxis=None, \n",
    "                  line_width=1.50, color='#1f77b4', tools=['hover']),\n",
    ")"
   ]
  },
  {
   "cell_type": "markdown",
   "metadata": {},
   "source": [
    "**Producing Live Data**"
   ]
  },
  {
   "cell_type": "code",
   "execution_count": null,
   "metadata": {
    "scrolled": true
   },
   "outputs": [],
   "source": [
    "years = range(2008, 2019)\n",
    "colls = [(y, hv.Scatter(df_dm[df_dm.index.year == y], \n",
    "                      kdims=[\"PrecWater\"], \n",
    "                      vdims=[\"AOD_1640\"])) for y in years]\n",
    "q = hv.HoloMap(colls, kdims=['Year'])\n",
    "q.opts(\n",
    "    #style=style_opts, plot=plot_opts\n",
    "    hv.opts.Curve( show_grid=True, height=300, width=500, xaxis=None, \n",
    "                  line_width=1.50, color='#1f77b4', tools=['hover']),\n",
    ")"
   ]
  },
  {
   "cell_type": "markdown",
   "metadata": {},
   "source": [
    "We can also use the `DynamicMap` function that takes as argument a callable platting function:"
   ]
  },
  {
   "cell_type": "code",
   "execution_count": null,
   "metadata": {},
   "outputs": [],
   "source": [
    "def live_plot(Year):\n",
    "    return  hv.Scatter(df_dm[df_dm.index.year == Year], \n",
    "                       kdims=[\"PrecWater\"], \n",
    "                       vdims=[\"AOD_1640\"])"
   ]
  },
  {
   "cell_type": "code",
   "execution_count": null,
   "metadata": {},
   "outputs": [],
   "source": [
    "q2 = hv.DynamicMap(live_plot, kdims=['Year'])\n",
    "q2.redim.range(Year=(2008, 2019))"
   ]
  },
  {
   "cell_type": "markdown",
   "metadata": {},
   "source": [
    "**Annual Mean Data**"
   ]
  },
  {
   "cell_type": "code",
   "execution_count": null,
   "metadata": {},
   "outputs": [],
   "source": [
    "df_am = df.resample(\"A\").mean()\n",
    "df_am"
   ]
  },
  {
   "cell_type": "code",
   "execution_count": null,
   "metadata": {},
   "outputs": [],
   "source": [
    "df_am.describe().transpose()"
   ]
  },
  {
   "cell_type": "code",
   "execution_count": null,
   "metadata": {},
   "outputs": [],
   "source": [
    "plot_opts = {'xrotation':  90,\n",
    "             'width': 500,\n",
    "             'height': 300}\n",
    "style_opts = {'color': '#1f77b4',\n",
    "              'alpha': 0.7,\n",
    "              'size': 5}"
   ]
  },
  {
   "cell_type": "code",
   "execution_count": null,
   "metadata": {},
   "outputs": [],
   "source": [
    "bar1 = hv.Bars(df_am.PrecWater)\n",
    "bar1.opts(\n",
    "    #style=style_opts, plot=plot_opts\n",
    "    hv.opts.Curve( show_grid=True, xrotation=90, height=300, width=500, xaxis=None, \n",
    "                  line_width=1.50, color='#1f77b4', tools=['hover']),\n",
    ")"
   ]
  },
  {
   "cell_type": "code",
   "execution_count": null,
   "metadata": {},
   "outputs": [],
   "source": []
  },
  {
   "cell_type": "markdown",
   "metadata": {},
   "source": [
    "## <font color=\"red\">Example with Sea Surface Temperature</font>"
   ]
  },
  {
   "cell_type": "code",
   "execution_count": null,
   "metadata": {},
   "outputs": [],
   "source": [
    "from bokeh.sampledata import sea_surface_temperature\n",
    "sst_data = sea_surface_temperature.sea_surface_temperature\n",
    "sst_data"
   ]
  },
  {
   "cell_type": "markdown",
   "metadata": {},
   "source": [
    "#### Time Series Plot"
   ]
  },
  {
   "cell_type": "code",
   "execution_count": null,
   "metadata": {},
   "outputs": [],
   "source": [
    "sst_timeseries = hv.Curve(sst_data)\n",
    "sst_timeseries.opts(plot=plot_opts)"
   ]
  },
  {
   "cell_type": "markdown",
   "metadata": {},
   "source": [
    "#### Hourly Average Temperature for Each Month\n",
    "- We want the plot the hourly means for each month of the year."
   ]
  },
  {
   "cell_type": "code",
   "execution_count": null,
   "metadata": {},
   "outputs": [],
   "source": [
    "month_names = [\"Jan\", \"Feb\", \"Mar\", \"Apr\", \"May\", \"Jun\", \n",
    "               \"Jul\", \"Aug\", \"Sep\", \"Oct\", \"Nov\", \"Dec\"]\n",
    "month_indx = range(1,13)"
   ]
  },
  {
   "cell_type": "markdown",
   "metadata": {},
   "source": [
    "Pull out the data by month:"
   ]
  },
  {
   "cell_type": "code",
   "execution_count": null,
   "metadata": {},
   "outputs": [],
   "source": [
    "data_month = [sst_data[sst_data.index.month == m] for m in month_indx]"
   ]
  },
  {
   "cell_type": "markdown",
   "metadata": {},
   "source": [
    "Group the data by hour and compute the mean:"
   ]
  },
  {
   "cell_type": "code",
   "execution_count": null,
   "metadata": {},
   "outputs": [],
   "source": [
    "data_hourly_avg = [d.groupby(d.index.hour).mean() for d in data_month]"
   ]
  },
  {
   "cell_type": "markdown",
   "metadata": {},
   "source": [
    "Create the `HoloViews` curves:"
   ]
  },
  {
   "cell_type": "code",
   "execution_count": null,
   "metadata": {},
   "outputs": [],
   "source": [
    "hourly_curves = [hv.Curve(d, label=l) \n",
    "                 for d, l in zip(data_hourly_avg, month_names)]"
   ]
  },
  {
   "cell_type": "markdown",
   "metadata": {},
   "source": [
    "Plot the hourly means:"
   ]
  },
  {
   "cell_type": "code",
   "execution_count": null,
   "metadata": {},
   "outputs": [],
   "source": [
    "hv.Overlay(hourly_curves).opts(\n",
    "    height=300, \n",
    "    width=600,\n",
    "    xlabel='Hour', \n",
    "    ylabel='Average Temperature', \n",
    "    title='Hourly Average Sea Temperature',\n",
    "    legend_position='right'\n",
    ")"
   ]
  },
  {
   "cell_type": "markdown",
   "metadata": {},
   "source": [
    "## <font color=\"red\">Tabular Datasets</font>\n",
    "\n",
    "- Elements are simple wrappers around your data that provide a semantically meaningful visual representation. \n",
    "- HoloViews can work with a wide variety of data types, but many of them can be categorized as either:\n",
    "    - **Tabular**: Tables of flat columns, or\n",
    "    - **Gridded**: Array-like data on 2-dimensional or N-dimensional grids\n",
    "- Tabular data (also called columnar data) is one of the most common, general, and versatile data formats, corresponding to how data is laid out in a spreadsheet. \n",
    "- The **columns** of the table represent **variables** or **dimensions** and the **rows** represent **observations**. \n",
    "\n",
    "\n",
    "To create a tabulal dataset, we need to create a HoloViews object called a `Dataset` that declares the independent variables (called key dimensions or **kdims** in HoloViews) and dependent variables (called value dimensions or **vdims**):"
   ]
  },
  {
   "cell_type": "markdown",
   "metadata": {},
   "source": [
    "#### Example:\n",
    "\n",
    "We can create a `Dataset` instance (`dst`) representing a time-dependent array (`data`):"
   ]
  },
  {
   "cell_type": "code",
   "execution_count": null,
   "metadata": {},
   "outputs": [],
   "source": [
    "nt = 10\n",
    "nx = 100\n",
    "ny = 100\n",
    "data = np.random.rand(nx, ny, nt)\n",
    "dst = hv.Dataset((np.arange(nt),\n",
    "                 np.linspace(0., 1., ny),\n",
    "                 np.linspace(0., 3., nx),\n",
    "                 data),\n",
    "                kdims=['time', 'y', 'x'],\n",
    "                vdims=['z'])\n",
    "dst"
   ]
  },
  {
   "cell_type": "code",
   "execution_count": null,
   "metadata": {},
   "outputs": [],
   "source": [
    "dst.data"
   ]
  },
  {
   "cell_type": "markdown",
   "metadata": {},
   "source": [
    "We can now perform visualization:"
   ]
  },
  {
   "cell_type": "code",
   "execution_count": null,
   "metadata": {},
   "outputs": [],
   "source": [
    "%opts Image(cmap='jet')\n",
    "dst.to(hv.Image, ['x', 'y']).hist()"
   ]
  },
  {
   "cell_type": "markdown",
   "metadata": {},
   "source": [
    "#### Example with Pandas DataFrame"
   ]
  },
  {
   "cell_type": "code",
   "execution_count": null,
   "metadata": {},
   "outputs": [],
   "source": [
    "hv_df = hv.Dataset(df_2017, kdims=\"PrecWater\")\n",
    "hv_df"
   ]
  },
  {
   "cell_type": "markdown",
   "metadata": {},
   "source": [
    "We want to overlay two plots:"
   ]
  },
  {
   "cell_type": "code",
   "execution_count": null,
   "metadata": {},
   "outputs": [],
   "source": [
    "hv_df.to(hv.Scatter, \"PrecWater\", ['AOD_440'])*hv_df.to(hv.Scatter, \"PrecWater\", ['AOD_1640'])"
   ]
  },
  {
   "cell_type": "markdown",
   "metadata": {},
   "source": [
    "#### Grid Matrices\n",
    "\n",
    "- We want to take a look at scatter plots between pairs of variables.\n",
    "- This can allow us to explore relationships among pairs of variables."
   ]
  },
  {
   "cell_type": "code",
   "execution_count": null,
   "metadata": {},
   "outputs": [],
   "source": [
    "df_dm.columns"
   ]
  },
  {
   "cell_type": "code",
   "execution_count": null,
   "metadata": {},
   "outputs": [],
   "source": [
    "# The key dimensions we are interested in\n",
    "kdims = ['AOD_1020', 'AOD_500', 'AOD_340', 'PrecWater']\n",
    "\n",
    "# For grouping by instrument\n",
    "vdims = 'Instrument_Number'"
   ]
  },
  {
   "cell_type": "markdown",
   "metadata": {},
   "source": [
    "We create a HoloViews Dataset:"
   ]
  },
  {
   "cell_type": "code",
   "execution_count": null,
   "metadata": {},
   "outputs": [],
   "source": [
    "dst = hv.Dataset(df_dm, kdims=kdims, vdims=vdims)"
   ]
  },
  {
   "cell_type": "markdown",
   "metadata": {},
   "source": [
    "We perform a `groupby` operation on the annotated data set:"
   ]
  },
  {
   "cell_type": "code",
   "execution_count": null,
   "metadata": {},
   "outputs": [],
   "source": [
    "gp_dst = dst.groupby('Instrument_Number', container_type=hv.NdOverlay)"
   ]
  },
  {
   "cell_type": "markdown",
   "metadata": {},
   "source": [
    "We can use `hv.operation.gridmatrix()` to make a matrix of our plots:"
   ]
  },
  {
   "cell_type": "code",
   "execution_count": null,
   "metadata": {},
   "outputs": [],
   "source": [
    "grid_mat = hv.operation.gridmatrix(gp_dst, diagonal_type=hv.Scatter)\n",
    "grid_mat"
   ]
  },
  {
   "cell_type": "markdown",
   "metadata": {},
   "source": [
    "- The `kdim`s represent the axes of the 3D array data, whereas the `vdims` represent the values stored in the array.\n",
    "- We can display the 2D image with a slider to change the time, and a histogram of `z` as a function of time:"
   ]
  }
 ],
 "metadata": {
  "colab": {
   "collapsed_sections": [],
   "name": "adv_viz.ipynb",
   "provenance": [],
   "version": "0.3.2"
  },
  "kernelspec": {
   "display_name": "Python 3 (ipykernel)",
   "language": "python",
   "name": "python3"
  },
  "language_info": {
   "codemirror_mode": {
    "name": "ipython",
    "version": 3
   },
   "file_extension": ".py",
   "mimetype": "text/x-python",
   "name": "python",
   "nbconvert_exporter": "python",
   "pygments_lexer": "ipython3",
   "version": "3.12.7"
  }
 },
 "nbformat": 4,
 "nbformat_minor": 4
}
