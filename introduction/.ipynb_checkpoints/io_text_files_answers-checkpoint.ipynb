{
 "cells": [
  {
   "cell_type": "code",
   "execution_count": null,
   "metadata": {
    "collapsed": true
   },
   "outputs": [],
   "source": [
    "### Exercise 0\n",
    "### Read the text file demo.txt and count the number of lines excluding empty lines.\n",
    "\n",
    "# Note that given a string:\n",
    "str = 'hi'\n",
    "# You can look up its methods using dir()\n",
    "print dir(str) # list associated methods, one of them is startswith()\n",
    "\n",
    "# So, open the file...\n",
    "my_file = open ('demo.txt','r')\n",
    "count = 0\n",
    "for line in my_file:\n",
    "    # ... and exclude empty lines (those that only contain '\\n') using startswith() method\n",
    "    if not line.startswith('\\n'): \n",
    "        count = count + 1\n",
    "print \"My file has \",count,\" lines.\"    \n",
    "my_file.close()"
   ]
  },
  {
   "cell_type": "code",
   "execution_count": null,
   "metadata": {
    "collapsed": true
   },
   "outputs": [],
   "source": [
    "### Exercise 1:\n",
    "### Read the text file demo.txt and find all instances of the word \"Luke\"\n",
    "\n",
    "# Prompt for file name\n",
    "fname = raw_input(\"Enter file name:\")\n",
    "# Enter your code here:\n",
    "my_file = open (fname)\n",
    "list_of_lines = my_file.readlines() # reads all the lines \n",
    "                           # returns a list - easier to post-process\n",
    "count = 0    \n",
    "for line in list_of_lines: # loop over elements (lines) in list_of_lines\n",
    "    if 'Luke' in line:\n",
    "        count = count + 1\n",
    "print 'Luke occurs', count,'times'"
   ]
  },
  {
   "cell_type": "code",
   "execution_count": null,
   "metadata": {
    "collapsed": true
   },
   "outputs": [],
   "source": [
    "### Exercise 2\n",
    "### Write a program that reads file 'demo.txt' and writes out a new file with the lines in reversed order \n",
    "### (i.e. the first line in the old file becomes the last one in the new file.)\n",
    "\n",
    "with open ('demo.txt','r') as f:\n",
    "    list_of_lines = f.readlines() # reads all the lines \n",
    "                                    # returns a list - easier to post-process\n",
    "        \n",
    "reversed_list_of_lines = list_of_lines[::-1] \n",
    "# or, the best way\n",
    "# reversed_list_of_lines = list_of_lines.reversed()\n",
    " \n",
    "# write the new file    \n",
    "with open ('reversedDemo.txt','w') as f: # note we can re-use \"f\" object\n",
    "    for line in reversed_list_of_lines: # loop over elements (lines) in list_of_lines\n",
    "        f.write(line)\n",
    "        \n",
    "# or, simply\n",
    "with open ('reversedDemo.txt','w') as f:\n",
    "    f.writelines(reversed_list_of_lines)"
   ]
  }
 ],
 "metadata": {
  "anaconda-cloud": {},
  "kernelspec": {
   "display_name": "Python [Root]",
   "language": "python",
   "name": "Python [Root]"
  },
  "language_info": {
   "codemirror_mode": {
    "name": "ipython",
    "version": 2
   },
   "file_extension": ".py",
   "mimetype": "text/x-python",
   "name": "python",
   "nbconvert_exporter": "python",
   "pygments_lexer": "ipython2",
   "version": "2.7.12"
  }
 },
 "nbformat": 4,
 "nbformat_minor": 0
}
