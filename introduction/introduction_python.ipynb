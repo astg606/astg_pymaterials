{
 "cells": [
  {
   "cell_type": "markdown",
   "metadata": {
    "slideshow": {
     "slide_type": "slide"
    }
   },
   "source": [
    "<center>\n",
    "<table>\n",
    "  <tr>\n",
    "    <td><img src=\"https://portal.nccs.nasa.gov/datashare/astg/training/python/logos/nasa-logo.svg\" width=\"100\"/> </td>\n",
    "     <td><img src=\"https://portal.nccs.nasa.gov/datashare/astg/training/python/logos/ASTG_logo.png?raw=true\" width=\"80\"/> </td>\n",
    "     <td> <img src=\"https://www.nccs.nasa.gov/sites/default/files/NCCS_Logo_0.png\" width=\"130\"/> </td>\n",
    "    </tr>\n",
    "</table>\n",
    "</center>\n",
    "\n",
    "\n",
    "<center>\n",
    "<h1><font color= \"blue\" size=\"+3\">ASTG Python Courses</font></h1>\n",
    "</center>\n",
    "\n",
    "---\n",
    "\n",
    "<center><h1>\n",
    "    <font color=\"red\">Introduction to Python</font>  \n",
    "</h1></center>"
   ]
  },
  {
   "cell_type": "markdown",
   "metadata": {},
   "source": [
    "![fig_python](https://hackernoon.com/hn-images/1*jVKTE1dd8CVv4WEtcidCPA.png)\n",
    "Image Source: [Javin Paul](https://hackernoon.com/10-reasons-to-learn-python-in-2018-f473dc35e2ee)"
   ]
  },
  {
   "cell_type": "markdown",
   "metadata": {
    "slideshow": {
     "slide_type": "slide"
    }
   },
   "source": [
    "## <font color=\"blue\"> Why learn Python?</font>\n",
    "\n",
    "* Free, open-source, high-level an interpreted general purpose programming language.\n",
    "* Is easy to learn. Its code has a very ‘natural’ style to it, in that it is easy to read and understand.\n",
    "* Supports multiple programming paradigms including object-oriented, imperative, functional programming and procedural styles\n",
    "* Interoprates with other languages such as  C# (`IronPython`), Fortran (`F2Py`), C (`CPython`), Java (`Jython`), Ruby (`RubyPython`), ...\n",
    "* Is a great General Purpose Language capable of creating anything from desktop software to web applications and frameworks.\n",
    "* Runs on any platform.\n",
    "* Has a very extensive standard library and over 150,000 external libraries.\n",
    "* Has a large community."
   ]
  },
  {
   "cell_type": "markdown",
   "metadata": {},
   "source": [
    "![fig_python](https://static.javatpoint.com/interview/images/advantages-of-python.png)\n",
    "Image Source: www.javatpoint.com"
   ]
  },
  {
   "cell_type": "markdown",
   "metadata": {
    "slideshow": {
     "slide_type": "slide"
    }
   },
   "source": [
    "## <font color=\"blue\"> What is Python used for?</font>\n",
    "\n",
    "+ __Web Programming__: Django, Pyramid, Flask\n",
    "+ __Data Science and Visualization__: NumPy, SciPy, Pandas, Matplotlib, Seaborn\n",
    "+ __Machine Learning__: Scikit-learn, Keras, TensorFlow, Pytorch\n",
    "+ __Scripting & Automation__\n",
    "+ __Games__: Pygame, Panda3D, Pyglet\n",
    "+ __Desktop GUI applications__: PyQt, Python GTK+, wxWidgets\n",
    "+ __Database access__: SQLite, MySQL, psycopg2\n",
    "+ __Education__\n",
    "          "
   ]
  },
  {
   "cell_type": "markdown",
   "metadata": {
    "slideshow": {
     "slide_type": "slide"
    }
   },
   "source": [
    "![users](https://www.logicfinder.net/wp-content/uploads/2019/03/who-uses-python.jpg)\n",
    "Image Source: [logicfinder](https://www.logicfinder.net/2019/03/16/page/2/)"
   ]
  },
  {
   "cell_type": "code",
   "execution_count": null,
   "metadata": {},
   "outputs": [],
   "source": []
  },
  {
   "cell_type": "markdown",
   "metadata": {},
   "source": [
    "![jobs](https://codingnomads.com/images/80702583-1fad-4770-1912-bda7901f7a00/public)"
   ]
  },
  {
   "cell_type": "markdown",
   "metadata": {},
   "source": [
    "## <font color=\"blue\">Python is an interpreted language</font>\n",
    "\n",
    "- An interpreted language is a computer programming language in which the instructions are executed without first being compiled into machine instructions.\n",
    "   - The language does not require prior translation. The translation occurs concurrently with the program’s execution.\n",
    "- Python is an __interpreted language__.\n",
    "- In practice,  Python is both __compiled as well as an interpreted__ language. \n",
    "   - This means when we run a python code, it is first compiled and then interpreted line by line.\n",
    "   - The compilation part is mostly hidden from the user.\n",
    "   - While running the code, Python generates a bytecode internally (ahead of time), this byte code is then converted using a python virtual machine to generate the output.\n",
    "   - Python’s compilation and interpretation work together to provide a flexible and dynamic programming environment.\n"
   ]
  },
  {
   "cell_type": "markdown",
   "metadata": {
    "slideshow": {
     "slide_type": "subslide"
    }
   },
   "source": [
    "## <font color=\"blue\">Ways of running Python</font>\n",
    "\n",
    "There are at least four ways to run programs through the Python interpreter:\n",
    "\n",
    "1. Command-line (from a terminal): `python`\n",
    "2. Interactive command-line (from a terminal): `ipython`\n",
    "3. Terminal and text editor (`vi`, `vim`, `nano`, `emacs`, etc.)\n",
    "4. Jupyter Notebook\n"
   ]
  },
  {
   "cell_type": "markdown",
   "metadata": {},
   "source": [
    "You first need to make sure that Python is install on your system. \n",
    "With Linux/Unix systems, a default Python interpreter comes with the operating system. To test this, from the terminal type:\n",
    "\n",
    "```cshell\n",
    "which python\n",
    "```\n",
    "\n",
    "and you will see something like:\n",
    "\n",
    "```cshell\n",
    "/usr/bin/python\n",
    "```\n",
    "\n",
    "You may also want to check the version of Python available on your computer by typing:\n",
    "\n",
    "```cshell\n",
    "python --version\n",
    "```\n",
    "\n",
    "__All the materials here are based on Python 3.x. We do not recommend using Python 2.7 or earlier versions.__\n"
   ]
  },
  {
   "cell_type": "markdown",
   "metadata": {
    "slideshow": {
     "slide_type": "subslide"
    }
   },
   "source": [
    "### <font color='red'>Command-line: `python` </font>\n",
    "\n",
    "---\n",
    "\n",
    "* You can use the interpreter in the interactive mode to test some commands.\n",
    "* You need to type `python` from the command line or terminal.\n",
    "* Interactive code execution is good when you need to immediately test some fragment of the code. \n",
    "* You can exit the interactive mode with `quit()` or `exit` command or `^Ctrl + D`.\n",
    "* The sequence you enter will not be saved if you close the current session."
   ]
  },
  {
   "cell_type": "markdown",
   "metadata": {
    "slideshow": {
     "slide_type": "subslide"
    }
   },
   "source": [
    "#### Sample session\n",
    "\n",
    "1. Open your terminal prompt and type:\n",
    "```cshell\n",
    "python\n",
    "```\n",
    "2. From this interactive shell, you will notice that the prompt is `>>>`. This is now allowing us to type Python code directly and execute it.\n",
    "3. Now type:\n",
    "```python\n",
    "print('Hello world!')\n",
    "```\n",
    "4. You should see the output on the screen. \n",
    "5. To exit the Python shell type `exit()` and press `Return` key."
   ]
  },
  {
   "cell_type": "markdown",
   "metadata": {
    "slideshow": {
     "slide_type": "subslide"
    }
   },
   "source": [
    "### <font color='red'>Interactive command-line: `ipython` </font>\n",
    "\n",
    "---\n",
    "* IPython is an interactive shell for the Python programming language that offers enhanced introspection, additional shell syntax, tab completion and rich history.\n",
    "* It does not come by default with Python.\n",
    "* IPython gives you all that you get in the basic interpreter but with a lot extra (line numbers, advanced editing, more functions, help functions etc).\n",
    "* It can be started by typing `ipython` at the command line.\n",
    "* The main aesthetic difference between the Python interpreter and the enhanced IPython interpreter lies in the command prompt: Python uses `>>>` by default, while IPython uses numbered commands (e.g. `In [1]:`). "
   ]
  },
  {
   "cell_type": "markdown",
   "metadata": {},
   "source": [
    "**Sample Session**\n",
    "\n",
    "1. Open your terminal/Anaconda prompt and type:\n",
    "```cshell\n",
    "ipython\n",
    "```\n",
    "3. This is an enhanced interactive shell that has many features (tab-completion, woot!). It also has a prompt that is numbered.\n",
    "4. Now type:\n",
    "```cshell\n",
    "print('Hello world!')\n",
    "```\n",
    "5. You should see the output on the screen.\n",
    "6. To exit the Python shell type `exit()` and press `Return` key.\n",
    "\n",
    "#### Advantages\n",
    "- Best for testing every single line of code written and gives immediate feedback and results.\n",
    "- Allows to run Python code without creating and saving a script file.\n",
    "- Great development tool for experimentation of Python code."
   ]
  },
  {
   "cell_type": "markdown",
   "metadata": {
    "slideshow": {
     "slide_type": "subslide"
    }
   },
   "source": [
    "### <font color='red'> Terminal and text editor </font>\n",
    "\n",
    "---\n",
    "* Real Python programs are made as scripts and look like simple text files. \n",
    "* These files are given extensions `.py`.\n",
    "* You can create a text file using whatever text editor you like: [vi](https://www.redhat.com/sysadmin/introduction-vi-editor), [vim](https://www.redhat.com/sysadmin/beginners-guide-vim), [nano](https://linuxize.com/post/how-to-use-nano-text-editor/), etc.\n",
    "* To run the script you need to use the programming language interpreter and specify the name of the created file as an additional parameter:\n",
    "```cshell\n",
    "       %python my_first_python_file.py\n",
    "```       \n",
    "Here are the steps used to run the script:\n",
    "\n",
    "1. First, the statements or expressions of your script are processed in a sequential manner by the interpreter. \n",
    "2. Then the code is compiled into a form of instruction set called the bytecode (low-level language). It is an intermediate, machine-independent code which optimizes the process of code execution.\n",
    "3. Finally, the interpreter transfers the code for execution. The Python Virtual Machine (PVM) loads the bytecode in the Python runtime and reads each operation and executes them as indicated. \n"
   ]
  },
  {
   "cell_type": "markdown",
   "metadata": {},
   "source": [
    "#### Sample session\n",
    "\n",
    "1. Start a new ASCII/text document named `my_first_python_file.py` and enter the following text:\n",
    "```python\n",
    "#!/usr/bin/env python\n",
    "print('Hello World!')\n",
    "```\n",
    "2. Save the document and then in your terminal/Anaconda prompt, go to the directory containing the newlt created file.\n",
    "\n",
    "3. From the terminal/Anaconda prompt, type:\n",
    "\n",
    "      `python my_first_python_file.py`\n",
    "\n",
    "4. You should see the output on the screen.\n",
    "\n",
    "#### Advantages\n",
    "\n",
    "1. Fast and easy to use, especially for testing and debugging.\n",
    "2. Allows to run Python Scripts from any location on your system as long as you know the path to the script file.\n",
    "3. Gives direct access to the Python interpreter and its features, such as command-line arguments, environment variables, and error messages. "
   ]
  },
  {
   "cell_type": "markdown",
   "metadata": {
    "slideshow": {
     "slide_type": "subslide"
    }
   },
   "source": [
    "### <font color='red'> Jupyter notebook </font>\n",
    "\n",
    "---\n",
    "* A useful hybrid of the interactive terminal and the self-contained script is the Jupyter notebook, a document format that allows executable code, formatted text, graphics, and even interactive features to be combined into a single document. \n",
    "* Though the notebook began as a Python-only format, it has since been made compatible with a large number of programming languages. \n",
    "* The notebook is useful both as a development environment, and as a means of sharing work via rich computational and data-driven narratives that mix together code, figures, data, and text.\n"
   ]
  },
  {
   "cell_type": "markdown",
   "metadata": {},
   "source": [
    "#### Sample session\n",
    "\n",
    "1. Open your terminal/Anaconda Prompt and type:\n",
    "\n",
    "`jupyter notebook`\n",
    " \n",
    "2. This directs you to a web browser and you can navigate to an already existing notebook or create one (right side menu New -> Python 3).\n",
    "\n",
    "3. This will open up a new Untitled notebook where you can directly input Python code, Markup formatted text, or have raw text.\n",
    "\n",
    "4. Now type:\n",
    "\n",
    "`print('Hello world!')`\n",
    "\n",
    "5. Press `Shift+Enter`, `Cntrl+Enter` or click `Cells -> Run Cells` or use the `Play` button near the top of the page.\n",
    "\n",
    "6. You should see the output on the screen. \n",
    "\n",
    "7. Exit via closing the browser windows and stopping the server running in the terminal/command prompt (most likely with a Cntrl+C)."
   ]
  },
  {
   "cell_type": "markdown",
   "metadata": {},
   "source": [
    "## Links for Windows Users\n",
    "\n",
    "- <a href=\"https://docs.python.org/3/faq/windows.html\">Python on Windows FAQ</a>\n",
    "- <a href=\"https://docs.microsoft.com/en-us/windows/python/beginners\"> Get started using Python on Windows for beginners</a>\n",
    "- <a href=\"https://helpdeskgeek.com/how-to/how-to-use-python-on-windows/\">How to Use Python on Windows</a>\n",
    "- <a href=\"https://www.jcchouinard.com/install-python-with-anaconda-on-windows/\">The 10-Step Guide To Install Python With Anaconda [On Windows]</a>"
   ]
  },
  {
   "cell_type": "code",
   "execution_count": null,
   "metadata": {},
   "outputs": [],
   "source": []
  }
 ],
 "metadata": {
  "celltoolbar": "Slideshow",
  "kernelspec": {
   "display_name": "Python 3 (ipykernel)",
   "language": "python",
   "name": "python3"
  },
  "language_info": {
   "codemirror_mode": {
    "name": "ipython",
    "version": 3
   },
   "file_extension": ".py",
   "mimetype": "text/x-python",
   "name": "python",
   "nbconvert_exporter": "python",
   "pygments_lexer": "ipython3",
   "version": "3.11.4"
  }
 },
 "nbformat": 4,
 "nbformat_minor": 4
}
