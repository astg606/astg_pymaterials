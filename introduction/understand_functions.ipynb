{
 "cells": [
  {
   "cell_type": "markdown",
   "metadata": {
    "slideshow": {
     "slide_type": "slide"
    }
   },
   "source": [
    "<center>\n",
    "<table>\n",
    "  <tr>\n",
    "    <td><img src=\"https://portal.nccs.nasa.gov/datashare/astg/training/python/logos/nasa-logo.svg\" width=\"100\"/> </td>\n",
    "     <td><img src=\"https://portal.nccs.nasa.gov/datashare/astg/training/python/logos/ASTG_logo.png?raw=true\" width=\"80\"/> </td>\n",
    "     <td> <img src=\"https://www.nccs.nasa.gov/sites/default/files/NCCS_Logo_0.png\" width=\"130\"/> </td>\n",
    "    </tr>\n",
    "</table>\n",
    "</center>\n",
    "\n",
    "        \n",
    "<center>\n",
    "<h1><font color= \"blue\" size=\"+3\">ASTG Python Courses</font></h1>\n",
    "</center>\n",
    "\n",
    "---\n",
    "\n",
    "<CENTER>\n",
    "<H1>\n",
    "    <font color=\"red\">Functions in Python</font>\n",
    "</H1>\n",
    "</CENTER>"
   ]
  },
  {
   "cell_type": "markdown",
   "metadata": {},
   "source": [
    "## Useful Links\n",
    "\n",
    "- <a href=\"https://www.tutorialspoint.com/python/python_functions.htm\"> Python - Functions</a>\n",
    "- <a href=\"https://realpython.com/defining-your-own-python-function/\"> Defining Your Own Python Function</a>"
   ]
  },
  {
   "cell_type": "markdown",
   "metadata": {
    "slideshow": {
     "slide_type": "subslide"
    }
   },
   "source": [
    "# <font color=\"red\">What is a function?</font>\n",
    "\n",
    "\n",
    "\n",
    "![fig_function](https://qph.cf2.quoracdn.net/main-qimg-0dc8b1a7c117026f1a285cd0feb456fa.webp)\n",
    "\n",
    "- Functions are the real building blocks of any programming language.\n",
    "- A __function__ is:\n",
    "   - A code segment that recieves input parameters (optional), performs predefined operations, and then returns a value (optional).\n",
    "   - Is meant to be be defined once and used many times. \n",
    "Functions are a great way to keep your code short, concise, and readable. \n",
    "   - Is only run when it is called.\n",
    "   - Allows data (parameters) to be passed as arguments.\n",
    "- Many programming languages have built-in functions that are readily available for us, but you can also create your own functions.\n",
    "\n"
   ]
  },
  {
   "cell_type": "markdown",
   "metadata": {
    "slideshow": {
     "slide_type": "slide"
    }
   },
   "source": [
    "# <font color=\"red\">Syntax of Function in Python</font>\n",
    "\n",
    "Here are simple rules to define a function in Python.\n",
    "\n",
    "- Function blocks begin with the keyword def followed by the function name and parentheses (`( )`).\n",
    "- Any input parameters or arguments should be placed within these parentheses. You can also define parameters inside these parentheses.\n",
    "- The first statement of a function can be an optional statement - the documentation string of the function or docstring.\n",
    "- The code block within every function starts with a colon (`:`) and is indented.\n",
    "- The statement return `[expression]` exits a function, optionally passing back an expression to the caller. A return statement with no arguments is the same as return `None`.\n",
    "\n",
    "```python\n",
    "def function_name([<arguments>]):\n",
    "    \"\"\"function_docstring\"\"\"\n",
    "    <function_statement(s)>\n",
    "    return [expression]\n",
    "```"
   ]
  },
  {
   "cell_type": "markdown",
   "metadata": {},
   "source": [
    "**Example 1**"
   ]
  },
  {
   "cell_type": "code",
   "execution_count": null,
   "metadata": {
    "slideshow": {
     "slide_type": "fragment"
    }
   },
   "outputs": [],
   "source": [
    "def my_function(x):\n",
    "    print(x**2)"
   ]
  },
  {
   "cell_type": "code",
   "execution_count": null,
   "metadata": {
    "slideshow": {
     "slide_type": "fragment"
    }
   },
   "outputs": [],
   "source": [
    "a = 5\n",
    "my_function(a)"
   ]
  },
  {
   "cell_type": "code",
   "execution_count": null,
   "metadata": {
    "slideshow": {
     "slide_type": "fragment"
    }
   },
   "outputs": [],
   "source": [
    "b = 'a string '\n",
    "my_function(b)"
   ]
  },
  {
   "cell_type": "markdown",
   "metadata": {},
   "source": [
    "#### Returning Values from Function\n",
    "\n",
    "- A `return` keyword is used to return a value from a Python function.\n",
    "   - When `return` is not present, the function return by default `None`.\n",
    "- The value returned from a function can be assigned to a variable which can then be used in the program.\n",
    "- Python functions are able to return multiple values, separated by commas."
   ]
  },
  {
   "cell_type": "markdown",
   "metadata": {},
   "source": [
    "__Exmaple 2__"
   ]
  },
  {
   "cell_type": "code",
   "execution_count": null,
   "metadata": {
    "slideshow": {
     "slide_type": "fragment"
    }
   },
   "outputs": [],
   "source": [
    "def f(x):\n",
    "    # note the use of a return statement\n",
    "    return x * x"
   ]
  },
  {
   "cell_type": "code",
   "execution_count": null,
   "metadata": {},
   "outputs": [],
   "source": [
    "a = f(3)\n",
    "b = f(-3) + f(4)\n",
    "c = f(f(f(f(f(2)))))"
   ]
  },
  {
   "cell_type": "code",
   "execution_count": null,
   "metadata": {},
   "outputs": [],
   "source": [
    "print(f\"             f(3) = {a}\")\n",
    "print(f\"     f(-3) + f(4) = {b}\")\n",
    "print(f\" f(f(f(f(f(2))))) = {c}\")"
   ]
  },
  {
   "cell_type": "markdown",
   "metadata": {},
   "source": [
    "__Example 3__"
   ]
  },
  {
   "cell_type": "code",
   "execution_count": null,
   "metadata": {},
   "outputs": [],
   "source": [
    "def produce_mult_values(a, b, c):\n",
    "    \"\"\" Returns multiple values. \"\"\"\n",
    "    return a*b, str(a*b+c), {c/a, c/b, c-b*b}\n",
    "    "
   ]
  },
  {
   "cell_type": "code",
   "execution_count": null,
   "metadata": {},
   "outputs": [],
   "source": [
    "A = produce_mult_values(a, b, c)"
   ]
  },
  {
   "cell_type": "code",
   "execution_count": null,
   "metadata": {},
   "outputs": [],
   "source": [
    "len(A)"
   ]
  },
  {
   "cell_type": "code",
   "execution_count": null,
   "metadata": {},
   "outputs": [],
   "source": [
    "type(A)"
   ]
  },
  {
   "cell_type": "code",
   "execution_count": null,
   "metadata": {},
   "outputs": [],
   "source": [
    "print(A[2])"
   ]
  },
  {
   "cell_type": "code",
   "execution_count": null,
   "metadata": {},
   "outputs": [],
   "source": [
    "A"
   ]
  },
  {
   "cell_type": "markdown",
   "metadata": {
    "slideshow": {
     "slide_type": "slide"
    }
   },
   "source": [
    "# <font color=\"red\">Arguments of Functions</font>\n",
    "\n",
    "---\n",
    "\n",
    "Functions allow the following types of arguments between the `()`'s:\n",
    "\n",
    "* No arguments\n",
    "* Positional Arguments - order sensitive\n",
    "* Keyword Arguments - named variables (can have default values)\n",
    "* Arbitrary arguments\n",
    "    * `*args` - a tuple of variable length\n",
    "    * `**kwargs` - a dictionary of keyword arguments"
   ]
  },
  {
   "cell_type": "markdown",
   "metadata": {},
   "source": [
    "## <font color=\"blue\">No arguments</font>\n",
    "\n",
    "- Useful for grouping codes."
   ]
  },
  {
   "cell_type": "markdown",
   "metadata": {},
   "source": [
    "__Example 4__"
   ]
  },
  {
   "cell_type": "code",
   "execution_count": null,
   "metadata": {
    "slideshow": {
     "slide_type": "subslide"
    }
   },
   "outputs": [],
   "source": [
    "def driver():\n",
    "    x = int(input('Provide an integer: '))\n",
    "    if (x < 0):\n",
    "        print(f\"The number {x} is negative!\")\n",
    "    elif(x < 100):\n",
    "        print(f\"The number {x} is reasonable!\")\n",
    "    else:\n",
    "        print(f\"The number {x} is too large!\")"
   ]
  },
  {
   "cell_type": "code",
   "execution_count": null,
   "metadata": {},
   "outputs": [],
   "source": [
    "driver()"
   ]
  },
  {
   "cell_type": "markdown",
   "metadata": {},
   "source": [
    "## <font color=\"blue\">Positional arguments</font>\n",
    "\n",
    "- Arguments where values get assigned to the arguments by their position when the function is called.\n",
    "- By default, Python functions are called using the positional arguments."
   ]
  },
  {
   "cell_type": "markdown",
   "metadata": {},
   "source": [
    "__Example 5__"
   ]
  },
  {
   "cell_type": "code",
   "execution_count": null,
   "metadata": {
    "slideshow": {
     "slide_type": "subslide"
    }
   },
   "outputs": [],
   "source": [
    "def calc_sum(x, y):\n",
    "    return x**2 + y"
   ]
  },
  {
   "cell_type": "code",
   "execution_count": null,
   "metadata": {},
   "outputs": [],
   "source": [
    "calc_sum(4, 248)"
   ]
  },
  {
   "cell_type": "markdown",
   "metadata": {},
   "source": [
    "\n",
    "### <font color=\"blue\">Breakout 1:</font>\n",
    "\n",
    "Consider the code below. Write a function that takes a patient's temperature and returns their condition (as a string)."
   ]
  },
  {
   "cell_type": "code",
   "execution_count": null,
   "metadata": {},
   "outputs": [],
   "source": [
    "# provide the temperature of the patient.\n",
    "temp = float(input('Enter the temperature of the patient: '))\n",
    "\n",
    "if temp > 105.8:\n",
    "    print('The patient has a very high fever.')\n",
    "elif temp > 103.1:\n",
    "    print('The patient has a high fever.')\n",
    "elif temp > 100.4:\n",
    "    print('The patient has fever.')\n",
    "elif temp > 97.9:\n",
    "    print('The patient is fine.')\n",
    "else:\n",
    "    print('The temperature of the patient is low.')"
   ]
  },
  {
   "cell_type": "markdown",
   "metadata": {},
   "source": [
    "<p>\n",
    "<p>\n",
    "\n",
    "<details><summary><b>CLICK HERE TO ACCESS THE SOLUTION</b></summary>\n",
    "<p>\n",
    "    \n",
    "```python\n",
    "def determine_patient_condition(patient_temp):\n",
    "    \"\"\"\n",
    "    Determine the patient condition based of their\n",
    "    temperature.\n",
    "    \n",
    "    Parameters\n",
    "    ----------\n",
    "    patient_temp : float\n",
    "       The temperature of a patient.\n",
    "    \n",
    "    Returns\n",
    "    -------\n",
    "    patient_cond: str\n",
    "       The patient condition.\n",
    "    \"\"\"\n",
    "    if patient_temp > 105.8:\n",
    "        patient_cond = 'The patient has a very high fever.'\n",
    "    elif patient_temp > 103.1:\n",
    "        patient_cond = 'The patient has a high fever.'\n",
    "    elif patient_temp > 100.4:\n",
    "        patient_cond = 'The patient has fever.'\n",
    "    elif patient_temp > 97.9:\n",
    "        patient_cond = 'The patient is fine.'\n",
    "    else:\n",
    "        patient_cond = 'The temperature of the patient is low.'\n",
    "    \n",
    "    return patient_cond\n",
    "\n",
    "# provide the temperature of the patient.\n",
    "patient_temp = float(input('Enter the temperature of the patient: '))\n",
    "patient_cond = determine_patient_condition(patient_temp)\n",
    "print(f\"The patient has a temperature of {patient_temp}. \\n\\t {patient_cond}\")\n",
    "```\n",
    "\n",
    "</p>\n",
    "</details>"
   ]
  },
  {
   "cell_type": "markdown",
   "metadata": {},
   "source": [
    "#### Consider a function that has as argument a string"
   ]
  },
  {
   "cell_type": "code",
   "execution_count": null,
   "metadata": {},
   "outputs": [],
   "source": [
    "def pass_raw_string(my_string):\n",
    "    print(f'{my_string}')"
   ]
  },
  {
   "cell_type": "code",
   "execution_count": null,
   "metadata": {},
   "outputs": [],
   "source": [
    "my_string = \"Python Class \\n\\t \\N{rightwards arrow} Session: Fall 2024\""
   ]
  },
  {
   "cell_type": "code",
   "execution_count": null,
   "metadata": {},
   "outputs": [],
   "source": [
    "pass_raw_string(my_string)"
   ]
  },
  {
   "cell_type": "code",
   "execution_count": null,
   "metadata": {},
   "outputs": [],
   "source": [
    "my_string = r\"Python Class \\n\\t \\N{rightwards arrow} Session: Fall 2024\""
   ]
  },
  {
   "cell_type": "code",
   "execution_count": null,
   "metadata": {},
   "outputs": [],
   "source": [
    "pass_raw_string(my_string)"
   ]
  },
  {
   "cell_type": "markdown",
   "metadata": {},
   "source": [
    "Asssume that we are using a Windows based system and we want to define the full path to a file:"
   ]
  },
  {
   "cell_type": "code",
   "execution_count": null,
   "metadata": {},
   "outputs": [],
   "source": [
    "my_string = \"C:\\Users\\Documents\\Important\\File.txt\""
   ]
  },
  {
   "cell_type": "markdown",
   "metadata": {},
   "source": [
    "To avoid the problem, we can use instaed a raw string:"
   ]
  },
  {
   "cell_type": "code",
   "execution_count": null,
   "metadata": {},
   "outputs": [],
   "source": [
    "my_string = r\"C:\\Users\\Documents\\Important\\File.txt\""
   ]
  },
  {
   "cell_type": "code",
   "execution_count": null,
   "metadata": {},
   "outputs": [],
   "source": [
    "pass_raw_string(my_string)"
   ]
  },
  {
   "cell_type": "markdown",
   "metadata": {},
   "source": [
    "We can also pass a LaTEX statement: "
   ]
  },
  {
   "cell_type": "code",
   "execution_count": null,
   "metadata": {},
   "outputs": [],
   "source": [
    "my_string = r\"$\\frac{1}{4}$\""
   ]
  },
  {
   "cell_type": "code",
   "execution_count": null,
   "metadata": {},
   "outputs": [],
   "source": [
    "pass_raw_string(my_string)"
   ]
  },
  {
   "cell_type": "markdown",
   "metadata": {},
   "source": [
    "## <font color=\"blue\">Function annotation/signature</font>\n",
    "\n",
    "- In the previous examples, we do not provide the data types of the arguments of the functions and the types of the return values.\n",
    "- This causes a problem when we call a function, especially if a parameter with the \"wrong\" data type is passed.\n",
    "   - The code will fail after Python attempts to execute the function.\n",
    "- It can be important to explicitly provide the data types of all arguments to allow Python to understand how before using the functions what are the expected parameters and return value.\n",
    "- The function annotation/signature feature enables users to add additional explanatory metada about the arguments declared in a function definition, and also the return data type.\n",
    "- __The annotations are not considered by Python interpreter while executing the function.__\n",
    "   - They are mainly used for providing a detailed documentation to the programmer.\n",
    "   - They are used to improve the readability of a Python program.\n",
    "  \n",
    "> In Python, a function signature provides crucial information about the types of parameters that a function can accept and the type of data it returns. The signature() function from the inspect module is used to determine the function signature, helping developers to ensure they are passing the correct types of arguments to their functions. This function can be particularly useful in large programs where a small mistake can lead to significant issues."
   ]
  },
  {
   "cell_type": "markdown",
   "metadata": {},
   "source": [
    "Let us define the function that compute the addition of two objects:"
   ]
  },
  {
   "cell_type": "code",
   "execution_count": null,
   "metadata": {},
   "outputs": [],
   "source": [
    "def func_add(x, y):\n",
    "    return x + y"
   ]
  },
  {
   "cell_type": "markdown",
   "metadata": {},
   "source": [
    "We can add two integers:"
   ]
  },
  {
   "cell_type": "code",
   "execution_count": null,
   "metadata": {},
   "outputs": [],
   "source": [
    "func_add(1, 2)"
   ]
  },
  {
   "cell_type": "markdown",
   "metadata": {},
   "source": [
    "We can add two floating point numbers:"
   ]
  },
  {
   "cell_type": "code",
   "execution_count": null,
   "metadata": {},
   "outputs": [],
   "source": [
    "func_add(1.5, 2.7)"
   ]
  },
  {
   "cell_type": "markdown",
   "metadata": {},
   "source": [
    "We can add an integer and a floating point nummber:"
   ]
  },
  {
   "cell_type": "code",
   "execution_count": null,
   "metadata": {},
   "outputs": [],
   "source": [
    "func_add(1, 2.7)"
   ]
  },
  {
   "cell_type": "markdown",
   "metadata": {},
   "source": [
    "We can add two strings:"
   ]
  },
  {
   "cell_type": "code",
   "execution_count": null,
   "metadata": {},
   "outputs": [],
   "source": [
    "func_add(\"Summer Python \", \"Bootcamp\")"
   ]
  },
  {
   "cell_type": "markdown",
   "metadata": {},
   "source": [
    "What happens when we add an integer and a string?"
   ]
  },
  {
   "cell_type": "code",
   "execution_count": null,
   "metadata": {},
   "outputs": [],
   "source": [
    "func_add(2024, \"Summer Python Bootcamp\")"
   ]
  },
  {
   "cell_type": "markdown",
   "metadata": {},
   "source": [
    "Let us assume that our intention is only to add two integers. We will provide the function signature:"
   ]
  },
  {
   "cell_type": "code",
   "execution_count": null,
   "metadata": {},
   "outputs": [],
   "source": [
    "def func_add_int(x: int, y: int) -> int:\n",
    "    return x + y"
   ]
  },
  {
   "cell_type": "code",
   "execution_count": null,
   "metadata": {},
   "outputs": [],
   "source": [
    "print(func_add_int.__annotations__)"
   ]
  },
  {
   "cell_type": "code",
   "execution_count": null,
   "metadata": {},
   "outputs": [],
   "source": [
    "from inspect import signature\n",
    "sig = signature(func_add_int)"
   ]
  },
  {
   "cell_type": "code",
   "execution_count": null,
   "metadata": {},
   "outputs": [],
   "source": [
    "sig"
   ]
  },
  {
   "cell_type": "code",
   "execution_count": null,
   "metadata": {},
   "outputs": [],
   "source": [
    "sig.parameters['x']"
   ]
  },
  {
   "cell_type": "code",
   "execution_count": null,
   "metadata": {},
   "outputs": [],
   "source": [
    "sig.parameters['x'].annotation"
   ]
  },
  {
   "cell_type": "code",
   "execution_count": null,
   "metadata": {},
   "outputs": [],
   "source": [
    "from typing import Any"
   ]
  },
  {
   "cell_type": "code",
   "execution_count": null,
   "metadata": {},
   "outputs": [],
   "source": [
    "def func_add_new(x: Any, y: Any) -> Any:\n",
    "    return x + y"
   ]
  },
  {
   "cell_type": "markdown",
   "metadata": {},
   "source": [
    "## <font color=\"blue\">Keyword arguments</font>\n",
    "\n",
    "- When function arguments are passed using their names, they are referred to as keyword arguments. \n",
    "   - Values get assigned to the arguments by their keyword (name) when the function is called\n",
    "- Usually arguments have default values.\n",
    "   - If the function is invoked without a value for a specific argument, the default value is used.\n",
    "- When using the function, the order of keyword arguments is not important.\n",
    "   - All the keyword arguments passed must match one of the arguments accepted by the function.\n",
    "- No argument should receive a value more than once"
   ]
  },
  {
   "cell_type": "markdown",
   "metadata": {},
   "source": [
    "__Example 6__"
   ]
  },
  {
   "cell_type": "code",
   "execution_count": null,
   "metadata": {
    "slideshow": {
     "slide_type": "subslide"
    }
   },
   "outputs": [],
   "source": [
    "def student_title(fname: str ='Bob', lname: str ='Brown') -> None:\n",
    "    print(f\"{fname.capitalize():<10}, {lname.capitalize():>20}\")"
   ]
  },
  {
   "cell_type": "code",
   "execution_count": null,
   "metadata": {},
   "outputs": [],
   "source": [
    "student_title()"
   ]
  },
  {
   "cell_type": "code",
   "execution_count": null,
   "metadata": {},
   "outputs": [],
   "source": [
    "student_title(lname='Smith')"
   ]
  },
  {
   "cell_type": "code",
   "execution_count": null,
   "metadata": {},
   "outputs": [],
   "source": [
    "student_title(lname='Smith', fname='Joe')"
   ]
  },
  {
   "cell_type": "markdown",
   "metadata": {},
   "source": [
    "## <font color=\"blue\">Combine positional arguments and keyword arguments</font>\n",
    "- Keyword arguments should follow positional arguments."
   ]
  },
  {
   "cell_type": "markdown",
   "metadata": {},
   "source": [
    "__Example 7__"
   ]
  },
  {
   "cell_type": "code",
   "execution_count": null,
   "metadata": {},
   "outputs": [],
   "source": [
    "def f(y: float, x: int = 1) -> float:\n",
    "    return y + x**2"
   ]
  },
  {
   "cell_type": "code",
   "execution_count": null,
   "metadata": {},
   "outputs": [],
   "source": [
    "f()"
   ]
  },
  {
   "cell_type": "code",
   "execution_count": null,
   "metadata": {},
   "outputs": [],
   "source": [
    "f(5)"
   ]
  },
  {
   "cell_type": "code",
   "execution_count": null,
   "metadata": {},
   "outputs": [],
   "source": [
    "f(x=27)"
   ]
  },
  {
   "cell_type": "markdown",
   "metadata": {},
   "source": [
    "__There is an order to arguments in that positional arguments HAVE TO preceed keyword arguments.__"
   ]
  },
  {
   "cell_type": "markdown",
   "metadata": {},
   "source": [
    "## <font color=\"blue\">Arbitrary arguments</font>\n",
    "- We may not know in advance the number of arguments that will be passed into a function.\n",
    "- With arbitrary arguments, we can pass a varying number of values during a function call.\n",
    "\n",
    "The special syntax, `*args` and `**kwargs` in function definitions is used to pass an arbitrary number of arguments to a function.\n",
    "* The single asterisk form (`*args`) is used to pass a non-keyworded, variable-length argument list.\n",
    "* The double asterisk form (`**kwargs`) is used to pass a keyworded, variable-length argument list."
   ]
  },
  {
   "cell_type": "markdown",
   "metadata": {},
   "source": [
    "__Example 8__\n",
    "- We use a non-keyworded, variable-length argument list."
   ]
  },
  {
   "cell_type": "code",
   "execution_count": null,
   "metadata": {},
   "outputs": [],
   "source": [
    "def add_numbers(*numbers: tuple[int]) -> int:\n",
    "    total = 10\n",
    "    for n in numbers:\n",
    "        total += n\n",
    "    return total"
   ]
  },
  {
   "cell_type": "code",
   "execution_count": null,
   "metadata": {},
   "outputs": [],
   "source": [
    "print(add_numbers())"
   ]
  },
  {
   "cell_type": "code",
   "execution_count": null,
   "metadata": {},
   "outputs": [],
   "source": [
    "print(add_numbers(8))"
   ]
  },
  {
   "cell_type": "code",
   "execution_count": null,
   "metadata": {},
   "outputs": [],
   "source": [
    "print(add_numbers(1, 2, 3, 4, 5, 6, 7))"
   ]
  },
  {
   "cell_type": "markdown",
   "metadata": {},
   "source": [
    "__Example 9__\n",
    "- We use a non-keyworded, variable-length argument list and a keyword aragument."
   ]
  },
  {
   "cell_type": "code",
   "execution_count": null,
   "metadata": {},
   "outputs": [],
   "source": [
    "def add_more_numbers(*numbers: tuple[int], initial: int =1) -> int:\n",
    "    total = initial\n",
    "    for n in numbers:\n",
    "        total += n\n",
    "    return total"
   ]
  },
  {
   "cell_type": "code",
   "execution_count": null,
   "metadata": {},
   "outputs": [],
   "source": [
    "print(add_more_numbers())"
   ]
  },
  {
   "cell_type": "code",
   "execution_count": null,
   "metadata": {},
   "outputs": [],
   "source": [
    "print(add_more_numbers(8))"
   ]
  },
  {
   "cell_type": "code",
   "execution_count": null,
   "metadata": {},
   "outputs": [],
   "source": [
    "print(add_more_numbers(2,8, initial=3))"
   ]
  },
  {
   "cell_type": "code",
   "execution_count": null,
   "metadata": {},
   "outputs": [],
   "source": [
    "print(add_more_numbers(1, 2, 3, 4, 5, 6, 7, initial=8))"
   ]
  },
  {
   "cell_type": "markdown",
   "metadata": {},
   "source": [
    "__Example 12__\n",
    "- We use a positional argument and a non-keyworded, variable-length argument list."
   ]
  },
  {
   "cell_type": "code",
   "execution_count": null,
   "metadata": {},
   "outputs": [],
   "source": [
    "def pass_var_args(farg: Any, *args: tuple) -> None:\n",
    "    print(f\"Formal arg: {farg}\")\n",
    "    for arg in args:\n",
    "        print(f\"Another arg: {arg}\")"
   ]
  },
  {
   "cell_type": "code",
   "execution_count": null,
   "metadata": {},
   "outputs": [],
   "source": [
    "pass_var_args(1, \"two\", 3, 4)"
   ]
  },
  {
   "cell_type": "markdown",
   "metadata": {},
   "source": [
    "__Example 11__\n",
    "- We use a positional argument and a keyworded, variable-length argument list."
   ]
  },
  {
   "cell_type": "code",
   "execution_count": null,
   "metadata": {},
   "outputs": [],
   "source": [
    "def pass_var_kwargs(farg: Any, **kwargs: dict) -> None:\n",
    "    print(\"Formal arg:\", farg)\n",
    "    for key in kwargs:\n",
    "        print(f\"Another keyword arg: {key} --> {kwargs[key]}\")"
   ]
  },
  {
   "cell_type": "code",
   "execution_count": null,
   "metadata": {},
   "outputs": [],
   "source": [
    "pass_var_kwargs(farg=1, myarg2=\"two\", myarg3=3)"
   ]
  },
  {
   "cell_type": "code",
   "execution_count": null,
   "metadata": {},
   "outputs": [],
   "source": [
    "my_dict = {\"myarg2\": \"two\", \"myarg3\":3, \"myarg4\":\"Python\"}\n",
    "pass_var_kwargs(farg='Test', **my_dict)"
   ]
  },
  {
   "cell_type": "markdown",
   "metadata": {},
   "source": [
    "\n",
    "### <font color=\"blue\">Breakout 2:</font>\n",
    "Write a function that:\n",
    "- Takes a list as an argument, and \n",
    "- Prints for each entry of the list its value and data type.\n"
   ]
  },
  {
   "cell_type": "markdown",
   "metadata": {},
   "source": [
    "<p>\n",
    "<p>\n",
    "\n",
    "<details><summary><b>CLICK HERE TO ACCESS THE SOLUTION</b></summary>\n",
    "<p>\n",
    "    \n",
    "```python\n",
    "def print_list_content(alist: list):\n",
    "    \"\"\"\n",
    "    Print each item of a list and its data type.\n",
    "    \n",
    "    Parameters\n",
    "    ----------\n",
    "    alist : list\n",
    "       A list\n",
    "    \"\"\"\n",
    "    for entry in alist:\n",
    "        print(f\"Entry value: {entry}\")\n",
    "        print(f\"\\t Entry type: {type(entry)}\")\n",
    "        \n",
    "my_list = ['Python', 125, -1.25, [1, 2.5]]\n",
    "print_list_content(my_list)\n",
    "```\n",
    "\n",
    "</p>\n",
    "</details>"
   ]
  },
  {
   "cell_type": "markdown",
   "metadata": {},
   "source": [
    "## <font color=\"purple\">Going Deeper: `yield` Statement</font>\n",
    "+ Use yield to replace the `return` statement.\n",
    "+ Suspend function’s execution and sends a value back to caller, but retains enough state to enable function to resume where it is left off.\n",
    "+ When resumed, the function continues execution immediately after the last yield run. \n",
    "+ Process allows its code to produce a series of values over time, rather than computing them at once and sending them back like a list.\n",
    "\n",
    "`yield` is used in Python **generators**.\n",
    "+ A generator function is defined like a normal function, but whenever it needs to generate a value, it does so with the `yield` keyword rather than return.\n",
    "+ A generator function is a function returns an iterable generator object rather than a single value.\n",
    "   + If you want to get the values stored inside the generator object, you need to iterate over it.\n",
    "+ If the body of a `def` contains `yield`, the function automatically becomes a generator function.\n"
   ]
  },
  {
   "cell_type": "markdown",
   "metadata": {},
   "source": [
    "__Example 12__"
   ]
  },
  {
   "cell_type": "code",
   "execution_count": null,
   "metadata": {},
   "outputs": [],
   "source": [
    "def create_generator(n):\n",
    "    j = 1\n",
    "    for i in range(n):\n",
    "        yield n + j\n",
    "        j += i"
   ]
  },
  {
   "cell_type": "code",
   "execution_count": null,
   "metadata": {},
   "outputs": [],
   "source": [
    "n = 5\n",
    "generator = create_generator(n)\n",
    "\n",
    "for i in generator:\n",
    "    print(i)"
   ]
  },
  {
   "cell_type": "markdown",
   "metadata": {},
   "source": [
    "__Example 12__\n",
    "\n",
    "Code to generate squares from 1 to 100 using `yield` and therefore generator."
   ]
  },
  {
   "cell_type": "code",
   "execution_count": null,
   "metadata": {},
   "outputs": [],
   "source": [
    "def nextSquare(): \n",
    "    \"\"\"\n",
    "    An infinite generator function that prints \n",
    "    next square number. It starts with 1. \n",
    "    \"\"\"\n",
    "    i = 1 \n",
    "  \n",
    "    # An Infinite loop to generate squares  \n",
    "    while True: \n",
    "        yield i*i                 \n",
    "        i += 1  # Next execution resumes from this point   "
   ]
  },
  {
   "cell_type": "code",
   "execution_count": null,
   "metadata": {},
   "outputs": [],
   "source": [
    "# Driver code to test above generator function \n",
    "for num in nextSquare(): \n",
    "    if num > 100: \n",
    "        break    \n",
    "    print(num)"
   ]
  },
  {
   "cell_type": "markdown",
   "metadata": {},
   "source": [
    "# <font color='red'>Scope of Variables</font>\n",
    "\n",
    "- All variables in a program may not be accessible at all locations in that program. This depends on where you have declared a variable.\n",
    "- The scope of a variable determines the portion of the program where you can access a particular identifier. \n",
    "- There are two basic scopes of variables in Python: \n",
    "     - __Global variables__: can be accessed throughout the program body by all functions.\n",
    "     - __Local variables__: can be accessed only inside the function in which they are created.\n",
    "- Variables that are defined inside a function body have a local scope, and those defined outside have a global scope.\n",
    " "
   ]
  },
  {
   "cell_type": "markdown",
   "metadata": {},
   "source": [
    "__Example 13__"
   ]
  },
  {
   "cell_type": "code",
   "execution_count": null,
   "metadata": {},
   "outputs": [],
   "source": [
    "total = -7"
   ]
  },
  {
   "cell_type": "code",
   "execution_count": null,
   "metadata": {},
   "outputs": [],
   "source": [
    "def add_objects(arg1: Any, arg2: Any) -> Any:\n",
    "    \"\"\"\n",
    "    Add both parameters and return the result.\n",
    "    \"\"\"\n",
    "    print(f\"Inside the function golbal total: {total}\")\n",
    "    #total = arg1 - arg2\n",
    "    z = arg1 + arg2\n",
    "    print(f\"Inside the function local z: {z}\")\n",
    "    #return total"
   ]
  },
  {
   "cell_type": "code",
   "execution_count": null,
   "metadata": {},
   "outputs": [],
   "source": [
    "add_objects( 10, 20 )"
   ]
  },
  {
   "cell_type": "code",
   "execution_count": null,
   "metadata": {},
   "outputs": [],
   "source": [
    "print(f\"Outside the function global total: {total}\") "
   ]
  },
  {
   "cell_type": "code",
   "execution_count": null,
   "metadata": {},
   "outputs": [],
   "source": [
    "print(f\"Value of z outside the function: {z}\") "
   ]
  },
  {
   "cell_type": "code",
   "execution_count": null,
   "metadata": {},
   "outputs": [],
   "source": [
    "def add_objects_2(arg1: Any, arg2: Any) -> Any:\n",
    "    \"\"\"\n",
    "    Add both parameters and return the result.\n",
    "    \"\"\"\n",
    "    total = arg1 + arg2\n",
    "    print(f\"Inside the function local total: {total}\")"
   ]
  },
  {
   "cell_type": "code",
   "execution_count": null,
   "metadata": {},
   "outputs": [],
   "source": [
    "add_objects_2(10, 20)"
   ]
  },
  {
   "cell_type": "code",
   "execution_count": null,
   "metadata": {},
   "outputs": [],
   "source": [
    "print(f\"Outside the function global total: {total}\") "
   ]
  },
  {
   "cell_type": "markdown",
   "metadata": {},
   "source": [
    "# <font color='red'>How Arguments are Passed?</font>\n",
    "\n",
    "- __Important question__\n",
    "   - When you pass arguments to a function, do you pass those arguments by value (making a deep copy) or by reference (pointing to the memory location)?\n",
    "- __General principle__\n",
    "   - When you call a function and pass arguments, Python assigns the references of the objects you pass to the corresponding parameters in the function definition.\n",
    "- __Everything is based on the data type of the argument__\n",
    "  - __Immutable Objects__: If you pass an immutable object (numbers, strings, tuples) as an argument, any changes made to the parameter within the function will create a new object, leaving the original object unchanged.\n",
    "  - __Mutable Objects__: If you pass a mutable object (lists, dictionaries, sets) as an argument, any changes made to the parameter within the function may directly affect the original object."
   ]
  },
  {
   "cell_type": "markdown",
   "metadata": {},
   "source": [
    "_Case 1_\n",
    "\n",
    "**If you are passing a immutable variable, then it is passed somehow by \"value\"**, which means the changes made to the variable within the function are local to that function and hence won't be reflected globally. This is more of a 'C' like behavior."
   ]
  },
  {
   "cell_type": "code",
   "execution_count": null,
   "metadata": {},
   "outputs": [],
   "source": [
    "def passed_by_value( myvar: Any) -> None:\n",
    "    myvar = 20 \n",
    "    print(f\"Value & ID inside the function: {myvar} - {id(myvar)}\")"
   ]
  },
  {
   "cell_type": "code",
   "execution_count": null,
   "metadata": {},
   "outputs": [],
   "source": [
    "myvar = 10\n",
    "passed_by_value( myvar )\n",
    "print(f\"Value & ID outside the function: {myvar} - {id(myvar)}\")"
   ]
  },
  {
   "cell_type": "markdown",
   "metadata": {},
   "source": [
    "_Case 2_\n",
    "\n",
    "**If you are passing the variables packed inside a mutable object** (like a list) **then the changes made to the object are reflected globally as long as the object is not re-assigned**."
   ]
  },
  {
   "cell_type": "code",
   "execution_count": null,
   "metadata": {},
   "outputs": [],
   "source": [
    "def passed_by_reference(mylist: list) -> None:\n",
    "    mylist.append('a')\n",
    "    print(f\" Value:  {mylist} \\n ID inside the function: {id(mylist)}\")\n",
    "    return"
   ]
  },
  {
   "cell_type": "code",
   "execution_count": null,
   "metadata": {},
   "outputs": [],
   "source": [
    "mylist = [1,2,3]\n",
    "print(f\" Value:  {mylist} \\n ID outside the function: {id(mylist)}\")"
   ]
  },
  {
   "cell_type": "code",
   "execution_count": null,
   "metadata": {},
   "outputs": [],
   "source": [
    "passed_by_reference( mylist )\n",
    "print()\n",
    "print(f\" Value:  {mylist} \\n ID outside the function: {id(mylist)}\")"
   ]
  },
  {
   "cell_type": "markdown",
   "metadata": {},
   "source": [
    "_Case 3_\n",
    "\n",
    "**If the mutable object is re-assigned, the object refers to a new memory location which is local to the function in which this happens and hence not reflected globally**."
   ]
  },
  {
   "cell_type": "code",
   "execution_count": null,
   "metadata": {},
   "outputs": [],
   "source": [
    "def passed_unchanged_object( mylist: list) -> None:\n",
    "    mylist = ['a']\n",
    "    print(f\" Value:  {mylist} \\n ID inside the function: {id(mylist)}\")\n"
   ]
  },
  {
   "cell_type": "code",
   "execution_count": null,
   "metadata": {},
   "outputs": [],
   "source": [
    "mylist = [1,2,3]\n",
    "print(f\" Value:  {mylist} \\n ID outside the function: {id(mylist)}\")"
   ]
  },
  {
   "cell_type": "code",
   "execution_count": null,
   "metadata": {},
   "outputs": [],
   "source": [
    "passed_unchanged_object( mylist )\n",
    "print()\n",
    "print(f\" Value:  {mylist} \\n ID outside the function: {id(mylist)}\")"
   ]
  },
  {
   "cell_type": "markdown",
   "metadata": {},
   "source": [
    "# <font color='purple'>Going Deeper: `lambda` Functions</font>\n",
    "\n",
    "\n",
    "What is Lambda?\n",
    "+ Lambdas (anonymous functions), are small, restricted functions which do not need a name (i.e., an identifier).\n",
    "+ Every anonymous function you define in Python will have 3 essential parts:\n",
    "          o The lambda keyword.\n",
    "          o The parameters (or bound variables), and\n",
    "          o The function body.\n",
    "          \n",
    "+ A lambda function can have any number of parameters, but the function body can only contain one expression."
   ]
  },
  {
   "cell_type": "markdown",
   "metadata": {},
   "source": [
    "**Basic Syntax**\n",
    "```python\n",
    "lambda p1, p2: expression \n",
    "```"
   ]
  },
  {
   "cell_type": "markdown",
   "metadata": {},
   "source": [
    "**Examples 13**"
   ]
  },
  {
   "cell_type": "code",
   "execution_count": null,
   "metadata": {},
   "outputs": [],
   "source": [
    "adder = lambda x, y: x + y\n",
    "print(adder(1, 2))"
   ]
  },
  {
   "cell_type": "code",
   "execution_count": null,
   "metadata": {},
   "outputs": [],
   "source": [
    "#What a lambda returns\n",
    "x='some kind of a lambda function'\n",
    "(lambda x : print(x))(x)"
   ]
  },
  {
   "cell_type": "markdown",
   "metadata": {},
   "source": [
    "\n",
    "### <font color=\"blue\">Breakout 3:</font>\n",
    "Write a function that takes as argument a list of numbers and returns the two values: \n",
    "\n",
    "- the average of the numbers\n",
    "- the sum of the last two entries of the list"
   ]
  },
  {
   "cell_type": "markdown",
   "metadata": {},
   "source": [
    "<p>\n",
    "<p>\n",
    "\n",
    "<details><summary><b>CLICK HERE TO ACCESS THE SOLUTION</b></summary>\n",
    "<p>\n",
    "    \n",
    "```python\n",
    "def manipulate_list(mylist):\n",
    "    a = sum(mylist)/len(mylist)\n",
    "    b = mylist[-2] + mylist[-1]\n",
    "    return a, b\n",
    "\n",
    "mylist = [-1, 7.2, 9.8, 3, 15.1]\n",
    "x, y = manipulate_list(mylist)\n",
    "```\n",
    "\n",
    "</p>\n",
    "</details>"
   ]
  },
  {
   "cell_type": "markdown",
   "metadata": {},
   "source": [
    "\n",
    "### <font color=\"blue\">Breakout 4:</font>\n",
    "Write a function that lists all files with a certain extension in the current directory. (__Hint:__ Use the `glob` package.)\n",
    "\n",
    "How might you extend this function to be useful to you and your projects?"
   ]
  },
  {
   "cell_type": "markdown",
   "metadata": {},
   "source": [
    "<p>\n",
    "<p>\n",
    "\n",
    "<details><summary><b>CLICK HERE TO ACCESS THE SOLUTION</b></summary>\n",
    "<p>\n",
    "    \n",
    "```python\n",
    "import glob\n",
    "\n",
    "def list_files(file_extension):\n",
    "    files = glob.glob(\"*\"+file_extension)\n",
    "    return files\n",
    "\n",
    "files = list_files('py')\n",
    "print(files)\n",
    "```\n",
    "\n",
    "</p>\n",
    "</details>"
   ]
  },
  {
   "cell_type": "code",
   "execution_count": null,
   "metadata": {},
   "outputs": [],
   "source": []
  }
 ],
 "metadata": {
  "anaconda-cloud": {},
  "kernelspec": {
   "display_name": "Python 3 (ipykernel)",
   "language": "python",
   "name": "python3"
  },
  "language_info": {
   "codemirror_mode": {
    "name": "ipython",
    "version": 3
   },
   "file_extension": ".py",
   "mimetype": "text/x-python",
   "name": "python",
   "nbconvert_exporter": "python",
   "pygments_lexer": "ipython3",
   "version": "3.11.4"
  }
 },
 "nbformat": 4,
 "nbformat_minor": 4
}
