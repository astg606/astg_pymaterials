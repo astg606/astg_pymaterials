{
 "cells": [
  {
   "cell_type": "markdown",
   "metadata": {
    "slideshow": {
     "slide_type": "slide"
    }
   },
   "source": [
    "<center>\n",
    "<table>\n",
    "  <tr>\n",
    "    <td><img src=\"https://portal.nccs.nasa.gov/datashare/astg/training/python/logos/nasa-logo.svg\" width=\"100\"/> </td>\n",
    "     <td><img src=\"https://portal.nccs.nasa.gov/datashare/astg/training/python/logos/ASTG_logo.png?raw=true\" width=\"80\"/> </td>\n",
    "     <td> <img src=\"https://www.nccs.nasa.gov/sites/default/files/NCCS_Logo_0.png\" width=\"130\"/> </td>\n",
    "    </tr>\n",
    "</table>\n",
    "</center>\n",
    "\n",
    "        \n",
    "<center>\n",
    "<h1><font color= \"blue\" size=\"+3\">ASTG Python Courses</font></h1>\n",
    "</center>\n",
    "\n",
    "---\n",
    "\n",
    "<center><h1>\n",
    "    <font color=\"red\">Loops in Python</font>  \n",
    "</h1></center>"
   ]
  },
  {
   "cell_type": "markdown",
   "metadata": {},
   "source": [
    "# <font color=\"red\">Objectives</font>\n",
    "\n",
    "- We want to introduce loops that are control flow statements used to repeatedly execute a block of code. \n",
    "- We present the Python syntax (along with examples) for the two yupes of loops:\n",
    "  - `for` loops: used to iterate over a sequence (like a list, tuple or string) or other iterable objects. Iterating over a sequence means going through each element one by one.\n",
    "  - `while` loops: used when the number of iterations is not known in advance. They keep running as long as a certain condition is `True`."
   ]
  },
  {
   "cell_type": "markdown",
   "metadata": {
    "slideshow": {
     "slide_type": "fragment"
    }
   },
   "source": [
    "# <font color=\"red\">What is a loop?</font>\n",
    "\n",
    "- A loop in a computer program is a sequence of instructions that is repeated multiple times.\n",
    "  - We execute the same, or similar, code (process is called **iteration**) a number of times or until a specified condition is reached. \n",
    "- Loops allow pcode developers to perform repetitive tasks efficiently, avoiding the need to write the same code over again, which saves time and makes programs more concise, maintainable and readable.\n",
    "- When you use a loop, you provide an initial condition, such as the starting point, and a termination condition that tells the loop when to stop. The instructions within the loop are executed repeatedly until the termination condition is satisfied.\n",
    "- A loop usually has one or more of the following features:\n",
    "    - A **counter**, which is initialized with a certain value — this is the starting point of the loop.\n",
    "    - A **condition**, which is a `True/False` test to determine whether the loop continues to run, or stops — usually when the counter reaches a certain value. \n",
    "    - An **iterator**, which generally increments the counter on each successive iteration of the loop, until the condition is no longer true."
   ]
  },
  {
   "cell_type": "markdown",
   "metadata": {},
   "source": [
    "![fig_loops](https://net-informations.com/python/flow/img/for-loop.png)\n",
    "Image Source: [net-informations.com](https://net-informations.com/python/flow/for.htm)"
   ]
  },
  {
   "cell_type": "markdown",
   "metadata": {
    "slideshow": {
     "slide_type": "fragment"
    }
   },
   "source": [
    "__For example:__\n",
    "\n",
    "We want to add the number `1`, `5` times:\n",
    "\n",
    "```python\n",
    "   1 + 1 + 1 + 1 + 1 = 5\n",
    "```  \n",
    "\n",
    "Here is it can be done in Python:\n",
    "\n",
    "```python\n",
    "   x = 1 \n",
    "   x = x + 1 \n",
    "   x = x + 1\n",
    "   x = x + 1\n",
    "   x = x + 1\n",
    "```\n",
    "\n",
    "Note that the instruction `x = x + 1` is repeated 4 times. How could we rewrite the above instructions using loop?"
   ]
  },
  {
   "cell_type": "markdown",
   "metadata": {},
   "source": [
    "# <font color=\"red\"> Loops in Python</font>\n",
    "\n",
    "+ Repetitive execution of the same block of code over and over is referred to as **iteration**.\n",
    "+ An __iterable__ is an object that can be iterated over, meaning its items can be accessed one by one.\n",
    "   + `Lists`, `tuples`, `strings`, and `dictionaries` are common iterable types in Python.\n",
    "+ There are two types of iteration:\n",
    "     1. **Definite** iteration, in which the number of repetitions is specified explicitly in advance (`for` loop).\n",
    "         - Used to iterate over an iterable.\n",
    "     2. **Indefinite** iteration, in which the code block executes until some condition is met (`while` loop).\n",
    "         - Used to execute a set of statements as long as a condition is true."
   ]
  },
  {
   "cell_type": "markdown",
   "metadata": {
    "slideshow": {
     "slide_type": "subslide"
    }
   },
   "source": [
    "## <font color=\"green\">The `for` loop</font>\n",
    "\n",
    "Python’s for loop looks like this:\n",
    "\n",
    "\n",
    "```python\n",
    "for <item> in <iterable>:\n",
    "    <statement(s)>\n",
    "```\n",
    "\n",
    "- `for` is the keyword that starts the for loop statement.\n",
    "- Colon `:` ends the first line of the loop.\n",
    "- `<item>` takes on the value of the next element in `<iterable>` each time through the loop.\n",
    "- `in` is the keyword that links the variable to the `<iterable>`.\n",
    "- `<iterable>` is a collection of objects (`list`, `tuple`, etc.).\n",
    "- The `<statement(s)>` in the loop body are denoted by indentation, as with all Python control structures, and are executed once for each item in `<iterable>`.\n",
    "   - Block of code indented is executed for each iteration."
   ]
  },
  {
   "cell_type": "markdown",
   "metadata": {},
   "source": [
    "#### <font color=\"orange\">Example 1</font>\n",
    "\n",
    "We want to perform the operation:\n",
    "\n",
    "```python\n",
    "   1 + 1 + 1 + 1 + 1\n",
    "```\n",
    "\n",
    "using a loop.\n",
    "\n",
    "We use the `range()` built-in function:\n",
    "- `range(n)`: generates a sequence of whole numbers starting from `0` to `n-1`."
   ]
  },
  {
   "cell_type": "code",
   "execution_count": null,
   "metadata": {
    "slideshow": {
     "slide_type": "subslide"
    }
   },
   "outputs": [],
   "source": [
    "total = 0\n",
    "\n",
    "for number in range(5):\n",
    "    # number = 0, 1, 2, 3, 4\n",
    "    print(f\"number = {number}\")\n",
    "    total = total + 1\n",
    "\n",
    "print(f\"Total = {total}\")"
   ]
  },
  {
   "cell_type": "markdown",
   "metadata": {},
   "source": [
    "#### <font color=\"blue\">Breakout 1</font>\n",
    "Write a loop to perform the operation:\n",
    "\n",
    "```python\n",
    "   2 + 3 + 4 + 5 + 6\n",
    "```"
   ]
  },
  {
   "cell_type": "markdown",
   "metadata": {},
   "source": [
    "<p>\n",
    "<p>\n",
    "\n",
    "<details><summary><b>CLICK HERE TO ACCESS THE SOLUTION</b></summary>\n",
    "<p>\n",
    "    \n",
    "```python\n",
    "total = 0\n",
    "\n",
    "for number in range(5):\n",
    "    total = total + number + 2\n",
    "\n",
    "print(f\"The total is: {total}!\")\n",
    "```\n",
    "\n",
    "</p>\n",
    "</details>"
   ]
  },
  {
   "cell_type": "markdown",
   "metadata": {},
   "source": [
    "#### <font color=\"orange\">Example 2</font>\n",
    "\n",
    "Loop over a collection of names."
   ]
  },
  {
   "cell_type": "code",
   "execution_count": null,
   "metadata": {
    "slideshow": {
     "slide_type": "fragment"
    }
   },
   "outputs": [],
   "source": [
    "# Here is a list of students\n",
    "student_names = ['Bob', 'Sue', 'Joe', 'Betty']\n",
    "\n",
    "for name in student_names:\n",
    "    # name is a temporary variable pointing to the current item\n",
    "    print(f\"Student name: {name}\")"
   ]
  },
  {
   "cell_type": "markdown",
   "metadata": {},
   "source": [
    "#### <font color=\"orange\">Example 3</font>\n",
    "\n",
    "Loop over a string."
   ]
  },
  {
   "cell_type": "code",
   "execution_count": null,
   "metadata": {},
   "outputs": [],
   "source": [
    "mystring = \"for loops are great!\"\n",
    "for c in mystring:\n",
    "    print(c)"
   ]
  },
  {
   "cell_type": "code",
   "execution_count": null,
   "metadata": {},
   "outputs": [],
   "source": [
    "mystring = \"for loops are great!\"\n",
    "for c in mystring:\n",
    "    if c.strip():  # remove emty spaces\n",
    "        print(c)"
   ]
  },
  {
   "cell_type": "markdown",
   "metadata": {
    "slideshow": {
     "slide_type": "subslide"
    }
   },
   "source": [
    "## <font color=\"green\">Nested Loops</font>\n",
    "\n",
    "When a `for` loop is present inside another `for` loop then it is called a __nested `for` loop__."
   ]
  },
  {
   "cell_type": "markdown",
   "metadata": {},
   "source": [
    "#### <font color=\"orange\">Example 4</font>"
   ]
  },
  {
   "cell_type": "code",
   "execution_count": null,
   "metadata": {},
   "outputs": [],
   "source": [
    "student_names = ['Bob', 'Sue', 'Joe', 'Betty']\n",
    "\n",
    "for number in range(5):\n",
    "    print(f\" --> New outer iteration: {number}\")\n",
    "    for name in student_names:\n",
    "        print(f\"Outer loop number: {number} and Inner loop student name: {name}\")\n",
    "    "
   ]
  },
  {
   "cell_type": "markdown",
   "metadata": {
    "slideshow": {
     "slide_type": "subslide"
    }
   },
   "source": [
    "### <font color=\"blue\"> Breakout 2 </font>\n",
    "\n",
    "Loop over the collection `[3, 5, 2, 9, 6]` and over the string `\"FoR LooP\"` to print all the pairs `(even_number, upper_case_character)`. For instance:\n",
    "\n",
    "```\n",
    "(2, F)\n",
    "(6, R)\n",
    "(6, P)\n",
    "```\n",
    "\n",
    "Note that if `c` is a character represented as a string, we can use `c.isupper()` to find out if `c` is uppercase or not."
   ]
  },
  {
   "cell_type": "markdown",
   "metadata": {},
   "source": [
    "<p>\n",
    "<p>\n",
    "\n",
    "<details><summary><b>CLICK HERE TO ACCESS THE SOLUTION</b></summary>\n",
    "<p>\n",
    "    \n",
    "```python\n",
    "for number in [3, 5, 2, 9, 6]:\n",
    "    if number % 2 == 0:\n",
    "       for c in \"FoR LooP\":\n",
    "           if c.isupper():\n",
    "               print(f\"({number}, {c})\")\n",
    "```\n",
    "\n",
    "</p>\n",
    "</details>"
   ]
  },
  {
   "cell_type": "markdown",
   "metadata": {},
   "source": [
    "## <font color=\"purple\">Going Deeper: Iterables and Iterators</font>\n",
    "\n",
    "- An **iterable** is an object that can be \"iterated over,\" meaning you can loop through its elements, typically using a `for` loop.\n",
    "   - If an object is iterable, it can be passed to the built-in Python function `iter()`, which returns something called an **iterator**. \n",
    "- An **iterator** is a value producer that yields successive values from its associated iterable object. It represents a stream of data and provides a way to access elements one by one.\n",
    "   - The built-in function `next()` is used to obtain the next value from in iterator."
   ]
  },
  {
   "cell_type": "markdown",
   "metadata": {},
   "source": [
    "#### <font color=\"orange\">Example 5</font>"
   ]
  },
  {
   "cell_type": "code",
   "execution_count": null,
   "metadata": {},
   "outputs": [],
   "source": [
    "student_names = ['Bob', 'Sue', 'Joe', 'Betty']\n",
    "itr_student_names = iter(student_names)"
   ]
  },
  {
   "cell_type": "code",
   "execution_count": null,
   "metadata": {},
   "outputs": [],
   "source": [
    "type(student_names)"
   ]
  },
  {
   "cell_type": "code",
   "execution_count": null,
   "metadata": {},
   "outputs": [],
   "source": [
    "type(itr_student_names)"
   ]
  },
  {
   "cell_type": "code",
   "execution_count": null,
   "metadata": {},
   "outputs": [],
   "source": [
    "itr_student_names"
   ]
  },
  {
   "cell_type": "code",
   "execution_count": null,
   "metadata": {},
   "outputs": [],
   "source": [
    "next(itr_student_names)"
   ]
  },
  {
   "cell_type": "code",
   "execution_count": null,
   "metadata": {},
   "outputs": [],
   "source": [
    "next(itr_student_names)"
   ]
  },
  {
   "cell_type": "code",
   "execution_count": null,
   "metadata": {},
   "outputs": [],
   "source": [
    "next(itr_student_names)"
   ]
  },
  {
   "cell_type": "code",
   "execution_count": null,
   "metadata": {},
   "outputs": [],
   "source": [
    "next(itr_student_names)"
   ]
  },
  {
   "cell_type": "code",
   "execution_count": null,
   "metadata": {},
   "outputs": [],
   "source": [
    "next(itr_student_names)"
   ]
  },
  {
   "cell_type": "code",
   "execution_count": null,
   "metadata": {},
   "outputs": [],
   "source": [
    "for item in iter(student_names):\n",
    "    print(f\"{item}\", end=\" \")"
   ]
  },
  {
   "cell_type": "markdown",
   "metadata": {
    "slideshow": {
     "slide_type": "subslide"
    }
   },
   "source": [
    "## <font color=\"green\"> Specifying a Change of Direction</font>\n",
    "\n",
    "---\n",
    "\n",
    "To change the behavior of conditionals and loops, use the keywords:\n",
    "- __`continue`__: Go to the next iteration of the loop by skiping the remaining code for the current iteration only.\n",
    "   - The `continue` statement is within the block of code under the loop statement, usually after a `if` statement.\n",
    "- __`break`__:  Terminate a loop when once a specified condition is met.\n",
    "   - You include the `break` statement within the block of code under your loop statement, usually after a `if` statement.\n",
    "   - The code immediately moves the statement following the loop.\n",
    "- __`pass`__: Proceed without impacting anything in the loop.\n",
    "   - It is typically used as a placeholder for future code.\n",
    "\n",
    "\n",
    "| `continue` |\t`break` |\t`pass` |\n",
    "| --- | --- | --- |\n",
    "| Skips only the current iteration of the loop.\t| Terminates the loop.\t| Used to write empty code blocks. | \n",
    "| Used only inside a loop.\t| Used only inside a loop. | Used anywhere in the Python code. | "
   ]
  },
  {
   "cell_type": "markdown",
   "metadata": {},
   "source": [
    "![fig_loops](https://almablog-media.s3.ap-south-1.amazonaws.com/Break_Pass_and_Continue_Statements_in_Python_min_69bb0f487a.png)\n",
    "Image Source [www.almabetter.com](https://www.almabetter.com/bytes/tutorials/python/break-pass-continue-statement-in-python)"
   ]
  },
  {
   "cell_type": "markdown",
   "metadata": {},
   "source": [
    "#### <font color=\"orange\">Example 6</font>"
   ]
  },
  {
   "cell_type": "markdown",
   "metadata": {},
   "source": [
    "__Use the `pass` statement__"
   ]
  },
  {
   "cell_type": "code",
   "execution_count": null,
   "metadata": {
    "slideshow": {
     "slide_type": "fragment"
    }
   },
   "outputs": [],
   "source": [
    "total = 0\n",
    "\n",
    "for number in range(10):\n",
    "    print(f\"number = {number} - total = {total}\")\n",
    "    if total == 5:\n",
    "        pass\n",
    "    total = total + 1\n",
    "\n",
    "print(f\"Final value of total (pass): {total}\")"
   ]
  },
  {
   "cell_type": "markdown",
   "metadata": {},
   "source": [
    "__Use the `continue` statement__"
   ]
  },
  {
   "cell_type": "code",
   "execution_count": null,
   "metadata": {
    "slideshow": {
     "slide_type": "fragment"
    }
   },
   "outputs": [],
   "source": [
    "total = 0\n",
    "\n",
    "for number in range(10):\n",
    "    print(f\"number = {number} - total = {total}\")\n",
    "    if total == 5:\n",
    "        continue\n",
    "    total = total + 1\n",
    "    \n",
    "print(f\"Final value of total (continue): {total}\")"
   ]
  },
  {
   "cell_type": "markdown",
   "metadata": {},
   "source": [
    "__Use the `break` statement__"
   ]
  },
  {
   "cell_type": "code",
   "execution_count": null,
   "metadata": {
    "slideshow": {
     "slide_type": "fragment"
    }
   },
   "outputs": [],
   "source": [
    "total = 0\n",
    "\n",
    "for number in range(10):\n",
    "    print(f\"number = {number} - total = {total}\")\n",
    "    if total == 5:\n",
    "        break\n",
    "    total = total + 1\n",
    "\n",
    "print(f\"Final value of total (break): {total}\")"
   ]
  },
  {
   "cell_type": "markdown",
   "metadata": {
    "slideshow": {
     "slide_type": "subslide"
    }
   },
   "source": [
    "#### <font color=\"blue\"> Breakout 3 </font>\n",
    "\n",
    "Print all the numbers from the output of `range(50)` backwards starting with 49 down to 7."
   ]
  },
  {
   "cell_type": "markdown",
   "metadata": {},
   "source": [
    "<p>\n",
    "<p>\n",
    "\n",
    "<details><summary><b>CLICK HERE TO ACCESS THE SOLUTION</b></summary>\n",
    "<p>\n",
    "    \n",
    "```python\n",
    "n = 50\n",
    "for i in range(n):\n",
    "    m = n-i-1\n",
    "    if m>6:\n",
    "        print(m)\n",
    "```\n",
    "\n",
    "</p>\n",
    "</details>"
   ]
  },
  {
   "cell_type": "markdown",
   "metadata": {},
   "source": [
    "#### <font color=\"blue\"> Breakout 4 </font> (Flipping of a coin)\n",
    "If you excute the code segment:\n",
    "\n",
    "```python\n",
    "       import random\n",
    "       print(random.choice(['T', 'H']))\n",
    "```\n",
    "\n",
    "you will get either `'T'` or `'H'`. \n",
    "\n",
    "Write a program that simulates the experiment of flipping of a coin: \n",
    "- Perform the experiment 1000 times, and\n",
    "- Print the total numbers of Heads (`'H'`) and  Tails (`'T'`).\n"
   ]
  },
  {
   "cell_type": "markdown",
   "metadata": {},
   "source": [
    "<p>\n",
    "<p>\n",
    "\n",
    "<details><summary><b>CLICK HERE TO ACCESS THE SOLUTION</b></summary>\n",
    "<p>\n",
    "    \n",
    "```python\n",
    "import random\n",
    "\n",
    "ntrials = 1000\n",
    "nheads = 0\n",
    "ntails = 0\n",
    "for i in range(ntrials):\n",
    "    outcome = random.choice(['T', 'H'])\n",
    "    if outcome == 'T':\n",
    "        ntails += 1\n",
    "    else:\n",
    "        nheads += 1\n",
    "        \n",
    "print(f'There were {ntrials} trials: \\n\\t {ntails} Tails \\n\\t {nheads} Heads.')\n",
    "```\n",
    "\n",
    "</p>\n",
    "</details>"
   ]
  },
  {
   "cell_type": "markdown",
   "metadata": {},
   "source": [
    "### <font color=\"blue\"> Breakout 5 </font> (Entering the password)\n",
    "We want to write a code that simulates providing the password:\n",
    "\n",
    "* You have at most three attempts.\n",
    "* If you provide the right password, the code will print `Welcome in!`.\n",
    "* If you provide the wrong password and it is not the third attempt, the code will print `Wrong password. Please try again.` and ask you to enter again the password.\n",
    "* If your third attempt is not successful, the code will write `You are not allowed to access this computer!` and exit.\n",
    "\n",
    "Assume that the right password is **PyTHoN** and use the function `input()` for asking the password from the command line.\n"
   ]
  },
  {
   "cell_type": "markdown",
   "metadata": {},
   "source": [
    "<p>\n",
    "<p>\n",
    "\n",
    "<details><summary><b>CLICK HERE TO ACCESS THE SOLUTION</b></summary>\n",
    "<p>\n",
    "    \n",
    "```python\n",
    "correct_passwd = 'PyTHoN'\n",
    "max_nattempts = 3\n",
    "\n",
    "for nattempts in range(1, max_nattempts+1):\n",
    "    passwd = input(\"Provide your password: \")\n",
    "    if passwd == correct_passwd:\n",
    "        print(f\"\\t Great! You provided the right password.\")\n",
    "        break\n",
    "    else:\n",
    "        print(f\"\\t You provided the wrong password\")\n",
    "        if nattempts == max_nattempts:\n",
    "            print(f\"\\t You exhausted the number of attempts.\")\n",
    "```\n",
    "\n",
    "</p>\n",
    "</details>        "
   ]
  },
  {
   "cell_type": "markdown",
   "metadata": {},
   "source": [
    "##  <font color=\"purple\">Going Deeper: `for` Loop with `else` Statement</font>\n",
    "\n",
    "```python\n",
    "for <variable> in <sequence>:\n",
    "\t<statements>\n",
    "else:\n",
    "\t<statements>\n",
    "```\n",
    "\n",
    "+ The `else` block will be executed only if the loop hasn't been \"broken\" by a break statement. \n",
    "   - It will only be executed, after all the items of the sequence in the header have been used."
   ]
  },
  {
   "cell_type": "markdown",
   "metadata": {},
   "source": [
    "#### <font color=\"orange\">Example 7</font>"
   ]
  },
  {
   "cell_type": "code",
   "execution_count": null,
   "metadata": {},
   "outputs": [],
   "source": [
    "edibles = [\"ham\", \"spam\", \"eggs\", \"nuts\"]\n",
    "for food in edibles:\n",
    "    if food == \"spam\":\n",
    "        print(\"No more spam please!\")\n",
    "        break\n",
    "    print(f\"Great, delicious {food}\")\n",
    "else:\n",
    "    print(\"I am so glad: No spam!\")\n",
    "print(\"Finally, I finished stuffing myself\")"
   ]
  },
  {
   "cell_type": "markdown",
   "metadata": {
    "slideshow": {
     "slide_type": "subslide"
    }
   },
   "source": [
    "## <font color=\"green\"> The `while` Loop</font>\n",
    "\n",
    "\n",
    "+ The while loop tells the computer to do something as long as the condition is met.\n",
    "+ Its construct consists of a block of code and a condition. \n",
    "---\n",
    "\n",
    "```python\n",
    "while condition:\n",
    "    <statement>\n",
    "```\n",
    "\n",
    "The `while` loop continues to process indefinitely until `condition` evaluates to False."
   ]
  },
  {
   "cell_type": "markdown",
   "metadata": {},
   "source": [
    "#### <font color=\"orange\">Example 8</font>\n",
    "\n",
    "- Think about your code before you run it.\n",
    "- Without close inspection, you can create an infinite loop in your program."
   ]
  },
  {
   "cell_type": "code",
   "execution_count": null,
   "metadata": {
    "slideshow": {
     "slide_type": "subslide"
    }
   },
   "outputs": [],
   "source": [
    "i = 50\n",
    "\n",
    "while i >= 7:\n",
    "    print(i)"
   ]
  },
  {
   "cell_type": "markdown",
   "metadata": {},
   "source": [
    "#### <font color=\"orange\">Example 9</font>"
   ]
  },
  {
   "cell_type": "code",
   "execution_count": null,
   "metadata": {},
   "outputs": [],
   "source": [
    "x = 1.0\n",
    "epsilon = 1e-20\n",
    "counter = 0\n",
    "while x >= epsilon:\n",
    "    x /= 2\n",
    "    counter += 1\n",
    "print(f\" Counter: {counter} \\n x = {x}\")"
   ]
  },
  {
   "cell_type": "markdown",
   "metadata": {
    "slideshow": {
     "slide_type": "subslide"
    }
   },
   "source": [
    "### <font color=\"blue\"> Breakout 6 </font>\n",
    "\n",
    "Use a `while` loop to solve the password problem shown above."
   ]
  },
  {
   "cell_type": "markdown",
   "metadata": {},
   "source": [
    "<p>\n",
    "<p>\n",
    "\n",
    "<details><summary><b>CLICK HERE TO ACCESS THE SOLUTION</b></summary>\n",
    "<p>\n",
    "    \n",
    "```python\n",
    "correct_passwd = 'PyTHoN'\n",
    "max_nattempts = 3\n",
    "\n",
    "nattempts = 0\n",
    "while nattempts < max_nattempts:\n",
    "    nattempts += 1\n",
    "    passwd = input(\"Provide your password: \")\n",
    "    if passwd == correct_passwd:\n",
    "        print(f\"\\t Great! You provided the right password.\")\n",
    "        break\n",
    "    else:\n",
    "        print(f\"\\t You provided the wrong password\")\n",
    "        if nattempts == max_nattempts:\n",
    "            print(f\"\\t You exhausted the number of attempts.\")\n",
    "```\n",
    "\n",
    "</p>\n",
    "</details>  "
   ]
  },
  {
   "cell_type": "markdown",
   "metadata": {},
   "source": [
    "# <font color=\"red\">Useful links</font>\n",
    "\n",
    "- <a href=\"https://www.thoughtco.com/definition-of-loop-958105\">Definition of a Loop</a> (by David Bolton)\n",
    "- <a href=\"https://realpython.com/python-for-loop/\">Python \"for\" Loops (Definite Iteration)</a>\n",
    "- <a href=\"https://stackabuse.com/loops-in-python/\">Loops in Python</a>"
   ]
  }
 ],
 "metadata": {
  "celltoolbar": "Slideshow",
  "kernelspec": {
   "display_name": "Python 3 (ipykernel)",
   "language": "python",
   "name": "python3"
  },
  "language_info": {
   "codemirror_mode": {
    "name": "ipython",
    "version": 3
   },
   "file_extension": ".py",
   "mimetype": "text/x-python",
   "name": "python",
   "nbconvert_exporter": "python",
   "pygments_lexer": "ipython3",
   "version": "3.12.7"
  }
 },
 "nbformat": 4,
 "nbformat_minor": 4
}
