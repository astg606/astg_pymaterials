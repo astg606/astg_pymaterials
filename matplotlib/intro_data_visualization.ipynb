{
 "cells": [
  {
   "cell_type": "markdown",
   "metadata": {
    "colab_type": "text",
    "id": "P90R-v_Xr6Wd"
   },
   "source": [
    "<center>\n",
    "<table>\n",
    "  <tr>\n",
    "    <td><img src=\"https://portal.nccs.nasa.gov/datashare/astg/training/python/logos/nasa-logo.svg\" width=\"100\"/> </td>\n",
    "     <td><img src=\"https://portal.nccs.nasa.gov/datashare/astg/training/python/logos/ASTG_logo.png?raw=true\" width=\"80\"/> </td>\n",
    "     <td> <img src=\"https://www.nccs.nasa.gov/sites/default/files/NCCS_Logo_0.png\" width=\"130\"/> </td>\n",
    "    </tr>\n",
    "</table>\n",
    "</center>\n",
    "\n",
    "        \n",
    "<center>\n",
    "<h1><font color= \"blue\" size=\"+3\">ASTG Python Courses</font></h1>\n",
    "</center>\n",
    "\n",
    "---\n",
    "\n",
    "<center>\n",
    "    <h1><font color=\"red\" size=\"+3\">Introduction to Data Visualization</font></h1>\n",
    "</center>"
   ]
  },
  {
   "cell_type": "code",
   "execution_count": null,
   "metadata": {},
   "outputs": [],
   "source": [
    "%%html\n",
    "<!DOCTYPE html>\n",
    "<html lang=\"en\">\n",
    "  <head> </head>\n",
    "  <body>\n",
    "<script src=\"https://bot.voiceatlas.mysmce.com/v1/chatlas.js\"></script>\n",
    "<app-chatlas\n",
    "\tatlas-id=\"f759a188-f8bb-46bb-9046-3b1b961bd6aa\"\n",
    "\twidget-background-color=\"#3f51b5ff\"\n",
    "\twidget-text-color=\"#ffffffff\"\n",
    "\twidget-title=\"Chatlas\">\n",
    "</app-chatlas>\n",
    "  </body>\n",
    "</html>"
   ]
  },
  {
   "cell_type": "markdown",
   "metadata": {},
   "source": [
    "## References\n",
    "\n",
    "- [What Data Visualization Is and How to Get Started In This Field](https://www.usnews.com/education/learn-data-visualization-guide)\n",
    "- [Data Visualization: What it is, why it matters, and best practices](https://www.qlik.com/us/data-visualization)\n",
    "- [What Is Data Visualization and Why Is It Important? A Complete Introduction](https://careerfoundry.com/en/blog/data-analytics/what-is-data-visualization/)\n",
    "- [PERSPECTIVES ON THE CURRENT DATA VISUALIZATION LANDSCAPE](https://invivo.com/dataviz2020/)\n",
    "- [Why is Data Visualization Important? What is Important in Data Visualization?](https://hdsr.mitpress.mit.edu/pub/zok97i7p/release/3)"
   ]
  },
  {
   "cell_type": "markdown",
   "metadata": {},
   "source": [
    "## <font color=\"red\"> Background</font>\n",
    "\n",
    "- The amount and complexity of data produced in science and engineering is increasing at staggering rates. \n",
    "- We need to determine methods to represent the data in forms that help us understand the data and and obtain meaningful information from the data.\n",
    "- We want to present a few Python visualization tools that can help increase the understanding of complex data.\n",
    "- We produce static as well as interactive plots and will mainly manipulate structured geolocated data.\n",
    "- We assume that learners are familiar with the basic concepts of the Python programming language and have some knowledge of Numpy and Pandas."
   ]
  },
  {
   "cell_type": "markdown",
   "metadata": {},
   "source": [
    "## <font color=\"red\"> Data Visualization in Data Science</font>\n",
    "\n",
    "> Data Science offers a powerful new approach to making discoveries. At its core, Data Scince involves using automated methods to analyze massive amounts of data in order to turn them into new insights and new knowledge. \n",
    "\n",
    "In the field of Data Science, the following aspects are important processes in Data Visualization:\n",
    "\n",
    "- Data Collection\n",
    "- Data Cleaning\n",
    "- Data Exploration\n",
    "- Evaluation of Modeling Outputs\n",
    "- Identifying Trends\n",
    "- Presenting Results\n",
    "\n",
    "![fig_ds](https://devopedia.org/images/article/38/9230.1523605818.jpg)"
   ]
  },
  {
   "cell_type": "markdown",
   "metadata": {},
   "source": [
    "## <font color=\"red\"> What is Data Visualization?</font>\n",
    "\n",
    "> Visualization gives you answers to questions you didn’t know you had. (Ben Shneiderman)\n",
    "\n",
    "> Data Visualization combines principles from psychology, usability, graphic design, and statistics to highlight important data in accessible and appealing formats. Doing so helps bridge knowledge producers with knowledge users, who are often inundated with information and increasingly pressed for time. (Jennifer J. Otten, Karen Cheng, and Adam Drewnowski)\n",
    "\n",
    "- Graphical or visual representation of data.\n",
    "- Crucial to analyze massive amounts of information and make data-driven decisions.\n",
    "- Enables scientists, engineers, decision makers to see analytics presented visually, so they can grasp difficult concepts or identify new patterns.\n",
    "\n",
    "#### Importance\n",
    "- Using charts or graphs or maps to visualize large amounts of complex data is easier than pouring over raw data or reports.\n",
    "- Make ist easier to share and communicate information.\n",
    "- Share insights with others in an easy-to-understand form.\n",
    "- Useful for data cleaning, exploring data structure, detecting outliers and corrupt data.\n",
    "- Identify accurate insights, relationships, patterns, and areas that need attention or improvement."
   ]
  },
  {
   "cell_type": "markdown",
   "metadata": {},
   "source": [
    "## <font color=\"red\"> Data Visualization Type and Purpose</font>\n",
    "\n",
    "The article [A Schematic of Data Visualization Type and Purpose](https://policyviz.com/2021/03/09/a-schematic-of-data-visualization-type-and-purpose/) shows the importance of identifying the needs of the audience before selecting a kind of data visualization. It define four broad kinds of visualizations by designing a space with two perpendicular lines:\n",
    "\n",
    "- **Static visualizations**:\n",
    "   - Provide all the information at once and do not move. These are, for example, your basic line, bar, and pie charts.\n",
    "- **Interactive visualizations**:\n",
    "   - Allow a transfer of information between the user and the interface. The user clicks, swipes, or hovers, and something happens or additional information is made visible.\n",
    "- **Explanatory visualizations**: \n",
    "   - Bring the results to the forefront; they convey the author’s hypothesis or argument to the reader.\n",
    "- **Exploratory visualizations**:\n",
    "   - Encourage the user to explore the data or subject matter to uncover findings for themselves.\n",
    "\n",
    "![fig_schematic](https://policyviz.com/wp-content/uploads/2021/03/Figure-3.01-1024x809.png)\n",
    "Image Source: PolicyViz\n",
    "\n",
    "The type of visualization you choose depends on: \n",
    "- what reaction you want from your audience, \n",
    "- where you publish your content, and \n",
    "- what tools your audience needs to understand the data. \n",
    "\n",
    "**As you and your organization go forward with your own data communication efforts, be sure to first ask yourself who makes up your audience and what do they need that will help them make discoveries, find insights, and improve their work.**\n",
    "\n",
    "\n",
    "> Excellent data visualizations consist of complex ideas communicated with clarity, precision, and efficiency. (Edward Tufte)"
   ]
  },
  {
   "cell_type": "markdown",
   "metadata": {},
   "source": [
    "## <font color=\"red\"> Data Visualization Tools in Python</font>\n",
    "\n",
    "- Python offers many different data visualization libraries.\n",
    "- Choosing the right library depends on the data you have, the type & and kind of plots you want to produce.\n",
    "\n",
    "![fig_landscape](https://assets.ine.com/blog/images/8ac76f28-58e3-448b-9016-757e14b85d2b.jpg)\n",
    "Image Source: [ine.com](https://ine.com/blog/python-visualization-libraries-you-should-know-in-2020-and-how-to-use-them)"
   ]
  },
  {
   "cell_type": "markdown",
   "metadata": {},
   "source": [
    "![fig_tools](https://optimise2.assets-servd.host/voracious-blesbok/production/Blog/PythonVisLandscape.jpg?w=1200&auto=compress%2Cformat&fit=crop&dm=1632326979&s=35cf543e04fd14bcc881ef8e70363860)"
   ]
  },
  {
   "cell_type": "code",
   "execution_count": null,
   "metadata": {},
   "outputs": [],
   "source": []
  }
 ],
 "metadata": {
  "colab": {
   "collapsed_sections": [],
   "name": "adv_viz.ipynb",
   "provenance": [],
   "version": "0.3.2"
  },
  "kernelspec": {
   "display_name": "Python 3 (ipykernel)",
   "language": "python",
   "name": "python3"
  },
  "language_info": {
   "codemirror_mode": {
    "name": "ipython",
    "version": 3
   },
   "file_extension": ".py",
   "mimetype": "text/x-python",
   "name": "python",
   "nbconvert_exporter": "python",
   "pygments_lexer": "ipython3",
   "version": "3.11.4"
  }
 },
 "nbformat": 4,
 "nbformat_minor": 4
}
