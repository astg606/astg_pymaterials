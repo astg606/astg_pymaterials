{
 "cells": [
  {
   "cell_type": "markdown",
   "metadata": {
    "id": "-24vit7OoB1x"
   },
   "source": [
    "<center>\n",
    "<table>\n",
    "  <tr>\n",
    "    <td><img src=\"https://portal.nccs.nasa.gov/datashare/astg/training/python/logos/nasa-logo.svg\" width=\"100\"/> </td>\n",
    "     <td><img src=\"https://portal.nccs.nasa.gov/datashare/astg/training/python/logos/ASTG_logo.png?raw=true\" width=\"80\"/> </td>\n",
    "     <td> <img src=\"https://www.nccs.nasa.gov/sites/default/files/NCCS_Logo_0.png\" width=\"130\"/> </td>\n",
    "    </tr>\n",
    "</table>\n",
    "</center>\n",
    "\n",
    "        \n",
    "<center>\n",
    "<h1><font color= \"blue\" size=\"+3\">ASTG Python Courses</font></h1>\n",
    "</center>\n",
    "\n",
    "---\n",
    "\n",
    "<center><h1><font color=\"red\" size=\"+3\">Introduction to MovingPandas</font></h1></center>"
   ]
  },
  {
   "cell_type": "markdown",
   "metadata": {
    "id": "SUWcEpvQoB11"
   },
   "source": [
    "## Reference Documents\n",
    "\n",
    "* [MovingPandas](https://github.com/movingpandas/movingpandas)\n",
    "* [MovingPandas - Examples](https://movingpandas.org/examples)\n",
    "* [BYU/NIC iceberg database](https://movingpandas.github.io/movingpandas-website/2-analysis-examples/iceberg.html)\n",
    "* [Tutorial 3 - Trajectory data mining in Python](https://sustainability-gis.readthedocs.io/en/latest/lessons/L3/mobility-analytics.html)"
   ]
  },
  {
   "cell_type": "markdown",
   "metadata": {
    "id": "sqZRoZwmoB11"
   },
   "source": [
    "_______"
   ]
  },
  {
   "cell_type": "markdown",
   "metadata": {},
   "source": [
    "# <font color=\"red\"> Objectives</font>\n"
   ]
  },
  {
   "cell_type": "markdown",
   "metadata": {
    "id": "Llm_K90yoB12"
   },
   "source": [
    "# <font color=\"red\"> What is MovingPandas? </font>\n",
    "![fig_logo](https://movingpandas.github.io/movingpandas/assets/img/logo-wide.svg)\n",
    "\n",
    "- A Python library for handling the movement of geospatial objects.\n",
    "- Provides trajectory data structures and functions for movement data exploration and analysis.\n",
    "- It is based based on Pandas, GeoPandas, and HoloViz."
   ]
  },
  {
   "cell_type": "markdown",
   "metadata": {},
   "source": [
    "# <font color=\"red\"> Features of MovingPandas</font>\n",
    "\n",
    "- Create trajectories from diverse sources, including CSV files, GIS file formats, (Geo)DataFrames, and OGC Moving Features JSONs (MF-JSON)\n",
    "- Find locations for given time stamps and time spans\n",
    "- Compute movement speed, direction, and sampling intervals\n",
    "- Detect and extract stops\n",
    "- Split trajectories into individual trips\n",
    "- Clean, simplify, generalize, and aggregate trajectories\n",
    "- Create static and interactive visualizations"
   ]
  },
  {
   "cell_type": "markdown",
   "metadata": {},
   "source": [
    "![fig_sample](https://user-images.githubusercontent.com/590385/137953765-33f9ce1b-037c-4c86-82b2-0620de5ca28f.gif)"
   ]
  },
  {
   "cell_type": "markdown",
   "metadata": {
    "id": "CLTjzNBJoB12"
   },
   "source": [
    "---"
   ]
  },
  {
   "cell_type": "markdown",
   "metadata": {
    "id": "SYmagjSHoB13"
   },
   "source": [
    "## Required Packages\n",
    "\n",
    "\n",
    "- __Matplotlib__: for basic plots.\n",
    "- __Pandas__: Manipulation and exploratory data analysis of tabular data.\n",
    "- __Shapely__: For manipulation and analysis of planar geometric objects\n",
    "- __GeosPandas__: Combines the capabilities of Pandas and Shapely for geospatial operations\n",
    "- __MovingPandas__: Handling the movement of geospatial objects."
   ]
  },
  {
   "cell_type": "markdown",
   "metadata": {},
   "source": [
    "----"
   ]
  },
  {
   "cell_type": "code",
   "execution_count": null,
   "metadata": {
    "id": "nT_3Q7CUoB15"
   },
   "outputs": [],
   "source": [
    "import warnings\n",
    "warnings.filterwarnings(\"ignore\")"
   ]
  },
  {
   "cell_type": "code",
   "execution_count": null,
   "metadata": {},
   "outputs": [],
   "source": [
    "import datetime as dt\n",
    "from pathlib import Path\n",
    "import requests"
   ]
  },
  {
   "cell_type": "code",
   "execution_count": null,
   "metadata": {
    "id": "ZX-VYGqaoB16"
   },
   "outputs": [],
   "source": [
    "%matplotlib inline\n",
    "import matplotlib\n",
    "import matplotlib.pyplot as plt\n",
    "import matplotlib.ticker as mticker"
   ]
  },
  {
   "cell_type": "code",
   "execution_count": null,
   "metadata": {},
   "outputs": [],
   "source": [
    "import numpy as np\n",
    "import h5py\n",
    "import pandas as pd\n",
    "import geopandas as gpd"
   ]
  },
  {
   "cell_type": "code",
   "execution_count": null,
   "metadata": {
    "id": "FBT2ouX8oB16"
   },
   "outputs": [],
   "source": [
    "from shapely import geometry as shpgeom\n",
    "from shapely import wkt as shpwkt"
   ]
  },
  {
   "cell_type": "code",
   "execution_count": null,
   "metadata": {},
   "outputs": [],
   "source": [
    "import movingpandas as mpd"
   ]
  },
  {
   "cell_type": "code",
   "execution_count": null,
   "metadata": {},
   "outputs": [],
   "source": [
    "import holoviews as hv"
   ]
  },
  {
   "cell_type": "code",
   "execution_count": null,
   "metadata": {},
   "outputs": [],
   "source": [
    "import hvplot.pandas "
   ]
  },
  {
   "cell_type": "code",
   "execution_count": null,
   "metadata": {},
   "outputs": [],
   "source": [
    "plot_defaults = {'linewidth':5, 'capstyle':'round', 'figsize':(9,3), 'legend':True}\n",
    "hv.opts.defaults(hv.opts.Overlay(active_tools=['wheel_zoom'], \n",
    "                              frame_width=500, frame_height=400))\n",
    "hvplot_defaults = {'tiles':None, 'cmap':'Viridis', 'colorbar':True}"
   ]
  },
  {
   "cell_type": "code",
   "execution_count": null,
   "metadata": {},
   "outputs": [],
   "source": [
    "mpd.show_versions()"
   ]
  },
  {
   "cell_type": "code",
   "execution_count": null,
   "metadata": {},
   "outputs": [],
   "source": [
    "def download_remote_file(url: str):\n",
    "    \"\"\"\n",
    "    Download remote binary file.\n",
    "    \n",
    "    Parameters\n",
    "    ----------\n",
    "    url : str\n",
    "       HTTP address of the file we want to download\n",
    "    \"\"\"\n",
    "    filename = Path(url).name # get the file name\n",
    "    resp = requests.get(url, stream=True)\n",
    "    if resp.status_code == 200:\n",
    "        print(f\"Downloading remote file: {filename}\")\n",
    "        with open(filename, 'wb') as fid:\n",
    "            fid.write(resp.content)\n",
    "        print(\"Done dowloading...\")\n",
    "    else:\n",
    "        print(\"URL does not exist\")"
   ]
  },
  {
   "cell_type": "markdown",
   "metadata": {},
   "source": [
    "# <font color=\"red\"> Understanding Trajectory</font>\n",
    "\n",
    "A trajectory:\n",
    "- A time-ordered series of geometries.\n",
    "   - The geometries and associated attributes are stored in a GeoPandas GeoDataFrame.\n",
    "- __Can be seen as a sequence of points that specify the position of a moving object in space and time__.\n",
    "- Can have a parent trajectory and can itself be the parent of successive trajectories.\n",
    "- Can represent its data either as point-based or as line-based. \n",
    "- A segment is a part of the trajectory that contains a list of episodes. \n",
    "    - Each episode has a starting and ending timestamp, a segmentation criterion (annotation type), and an episode annotation. \n",
    "    - For instance, an annotation type can be the “weather conditions”, and an episode annotation can be “a storm”, “heavy rain”, “extremely high waves”, etc."
   ]
  },
  {
   "cell_type": "markdown",
   "metadata": {},
   "source": [
    "### Method for Trajectory\n",
    "\n",
    "| Method for Trajectory | Description |\n",
    "| ---- | ---- |\n",
    "| `set_crs(crs)` | |\n",
    "| `has_parent()` | boolean |\n",
    "| `is_latlon()` | boolean |\n",
    "| `to_linestring()` | shapely.geometry.LineString |\n",
    "| `to_linestringm_wkt()` | string |\n",
    "| `get_start_location()` | shapely.geometry.Point |\n",
    "| `get_end_location()` | shapely.geometry.Point |\n",
    "| `get_bbox()` | (minx, miny, maxx, maxy) tuple |\n",
    "| `get_start_time()` | datetime |\n",
    "| `get_end_time()` | datetime |\n",
    "| `get_duration()` | timedelta |\n",
    "| `get_length()` | float |\n",
    "| `get_direction()` | float |\n",
    "| `get_row_at(timestamp, method='nearest')` | pandas.Series |\n",
    "| `get_position_at(timestamp, method='nearest')` | shapely.geometry.Point |\n",
    "| `interpolate_position_at(timestamp)` | shapely.geometry.Point |\n",
    "| `get_linestring_between(timestamp1, timestamp2)` | shapely.geometry.LineString |\n",
    "| `get_segment_between(timestamp1, timestamp2)` | Trajectory |\n",
    "| `add_direction()` | |\n",
    "| `add_distance()` | Add a new distance column in the trajectory's GeoDataFrame |\n",
    "| `add_speed()` | Add a new speed column in the trajectory's GeoDataFrame|\n",
    "| `add_acceleration()` | Add a new acceleration column in the trajectory's GeoDataFrame |\n",
    "| `make_line(df)` | shapely.geometry.LineString |\n",
    "| `clip(shapely.geometry.polygon)` | Trajectory |\n",
    "| `intersection(fiona.feature)` | Trajectory |"
   ]
  },
  {
   "cell_type": "markdown",
   "metadata": {},
   "source": [
    "# <font color=\"red\"> First Example: Create a simple trajectory</font>\n",
    "\n",
    "- Trajectory objects consist of a trajectory ID and a GeoPandas GeoDataFrame with a DatetimeIndex. \n",
    "- The DataFrame represents the trajectory data as a Pandas time series with associated point locations."
   ]
  },
  {
   "cell_type": "markdown",
   "metadata": {},
   "source": [
    "#### Create a time series Pandas DataFrame of Shapely Point object.\n",
    " - We represent a moving object at locations (`positions` list) and at the dates/times (`dates` list)."
   ]
  },
  {
   "cell_type": "code",
   "execution_count": null,
   "metadata": {},
   "outputs": [],
   "source": [
    "latitudes = [0, 0, 50, 75]\n",
    "longitudes = [0, 50, 50, 75]\n",
    "positions = [shpgeom.Point(x,y) for x, y in zip(longitudes, latitudes)]\n",
    "\n",
    "dates = [dt.datetime(2023,10,1,9,0,0),  dt.datetime(2023,10,1,9,6,0),\n",
    "         dt.datetime(2023,10,1,9,10,0), dt.datetime(2023,10,1,9,15,0)]\n",
    "\n",
    "dates = [dt.datetime(2023,10,1,9,min,0) for min in [0, 6, 10, 15]]"
   ]
  },
  {
   "cell_type": "code",
   "execution_count": null,
   "metadata": {},
   "outputs": [],
   "source": [
    "df = pd.DataFrame({'geometry': positions, 't': dates})\n",
    "df"
   ]
  },
  {
   "cell_type": "markdown",
   "metadata": {},
   "source": [
    "Set the `t` column as index:"
   ]
  },
  {
   "cell_type": "code",
   "execution_count": null,
   "metadata": {},
   "outputs": [],
   "source": [
    "df = df.set_index('t')\n",
    "df"
   ]
  },
  {
   "cell_type": "markdown",
   "metadata": {},
   "source": [
    "#### Convert the Pandas DataFrame into a GeoPandas GeoDataFrame"
   ]
  },
  {
   "cell_type": "code",
   "execution_count": null,
   "metadata": {},
   "outputs": [],
   "source": [
    "gdf = gpd.GeoDataFrame(df)#, crs=31256)\n",
    "gdf"
   ]
  },
  {
   "cell_type": "markdown",
   "metadata": {},
   "source": [
    "What is the CRS?"
   ]
  },
  {
   "cell_type": "code",
   "execution_count": null,
   "metadata": {},
   "outputs": [],
   "source": [
    "gdf.crs is None"
   ]
  },
  {
   "cell_type": "markdown",
   "metadata": {},
   "source": [
    "#### Convert the GeoPandas GeoDataFrame into a MovinPandas trajectory\n",
    "\n",
    "\n",
    "```python\n",
    "Trajectory(df, traj_id, \n",
    "           obj_id=None, t=None, x=None, y=None, \n",
    "           crs='epsg:4326', parent=None)\n",
    "```\n",
    "\n",
    "- __df__ (GeoDataFrame or DataFrame) – GeoDataFrame with point geometry column and timestamp index\n",
    "- __traj_id__ (any) – Trajectory ID\n",
    "- __obj_id__ (any) – Moving object ID\n",
    "- __t__ (string) – Name of the DataFrame column containing the timestamp\n",
    "- __x__ (string) – Name of the DataFrame column containing the x coordinate\n",
    "- __y__ (string) – Name of the DataFrame column containing the y coordinate\n",
    "- __crs__ (string) – CRS of the x/y coordinates\n",
    "- __parent__ (Trajectory) – Parent trajectory"
   ]
  },
  {
   "cell_type": "code",
   "execution_count": null,
   "metadata": {},
   "outputs": [],
   "source": [
    "simple_traj = mpd.Trajectory(gdf, traj_id=1)"
   ]
  },
  {
   "cell_type": "code",
   "execution_count": null,
   "metadata": {},
   "outputs": [],
   "source": [
    "print(simple_traj)"
   ]
  },
  {
   "cell_type": "markdown",
   "metadata": {},
   "source": [
    "#### Get the trajectory GeosDataFrame"
   ]
  },
  {
   "cell_type": "code",
   "execution_count": null,
   "metadata": {},
   "outputs": [],
   "source": [
    "simple_traj.df"
   ]
  },
  {
   "cell_type": "markdown",
   "metadata": {},
   "source": [
    "Plot the trajectory GeosDataFrame:"
   ]
  },
  {
   "cell_type": "code",
   "execution_count": null,
   "metadata": {},
   "outputs": [],
   "source": [
    "simple_traj.df.plot();"
   ]
  },
  {
   "cell_type": "markdown",
   "metadata": {},
   "source": [
    "#### Convert the trajectory into GeoPandas GeoDataFrame of Shapely Line objects"
   ]
  },
  {
   "cell_type": "code",
   "execution_count": null,
   "metadata": {},
   "outputs": [],
   "source": [
    "lines = simple_traj.to_line_gdf()\n",
    "lines"
   ]
  },
  {
   "cell_type": "code",
   "execution_count": null,
   "metadata": {},
   "outputs": [],
   "source": [
    "lines.plot();"
   ]
  },
  {
   "cell_type": "code",
   "execution_count": null,
   "metadata": {},
   "outputs": [],
   "source": [
    "lines_wkt = simple_traj.to_traj_gdf(wkt=True)\n",
    "lines_wkt"
   ]
  },
  {
   "cell_type": "code",
   "execution_count": null,
   "metadata": {},
   "outputs": [],
   "source": [
    "lines_wkt.plot()"
   ]
  },
  {
   "cell_type": "markdown",
   "metadata": {},
   "source": [
    "#### Compute the sampling interval (median time difference between records):"
   ]
  },
  {
   "cell_type": "code",
   "execution_count": null,
   "metadata": {},
   "outputs": [],
   "source": [
    "simple_traj.get_sampling_interval()"
   ]
  },
  {
   "cell_type": "markdown",
   "metadata": {},
   "source": [
    "#### Quick plot using the trajectory object"
   ]
  },
  {
   "cell_type": "code",
   "execution_count": null,
   "metadata": {},
   "outputs": [],
   "source": [
    "simple_traj.plot();"
   ]
  },
  {
   "cell_type": "markdown",
   "metadata": {},
   "source": [
    "## <font color=\"blue\">Extracting information from the Trajectory</font>"
   ]
  },
  {
   "cell_type": "code",
   "execution_count": null,
   "metadata": {},
   "outputs": [],
   "source": [
    "simple_traj.get_crs() is None"
   ]
  },
  {
   "cell_type": "markdown",
   "metadata": {},
   "source": [
    "Start/End Locations"
   ]
  },
  {
   "cell_type": "code",
   "execution_count": null,
   "metadata": {},
   "outputs": [],
   "source": [
    "str(simple_traj.get_start_location())"
   ]
  },
  {
   "cell_type": "code",
   "execution_count": null,
   "metadata": {},
   "outputs": [],
   "source": [
    "str(simple_traj.get_end_location())"
   ]
  },
  {
   "cell_type": "code",
   "execution_count": null,
   "metadata": {},
   "outputs": [],
   "source": [
    "simple_traj.get_length()"
   ]
  },
  {
   "cell_type": "markdown",
   "metadata": {},
   "source": [
    "Start/End Times"
   ]
  },
  {
   "cell_type": "code",
   "execution_count": null,
   "metadata": {},
   "outputs": [],
   "source": [
    "simple_traj.get_start_time()"
   ]
  },
  {
   "cell_type": "code",
   "execution_count": null,
   "metadata": {},
   "outputs": [],
   "source": [
    "simple_traj.get_end_time()"
   ]
  },
  {
   "cell_type": "code",
   "execution_count": null,
   "metadata": {},
   "outputs": [],
   "source": [
    "simple_traj.get_duration()"
   ]
  },
  {
   "cell_type": "markdown",
   "metadata": {},
   "source": [
    "## <font color=\"blue\">Processing the Trajectory</font>\n",
    "\n",
    "- We compute the distance, speed, and acceleration of movement along the trajectory (between consecutive points). \n",
    "- The paramters are added as new columns."
   ]
  },
  {
   "cell_type": "markdown",
   "metadata": {},
   "source": [
    "#### Distance\n",
    "- Add `distance` column and values to the trajectory’s DataFrame.\n",
    "    - Compute the distance to each point from the previous.\n",
    "- Use the `add_distance` function.\n",
    "\n",
    "```python\n",
    "add_distance(overwrite=False, name='distance', units=None)\n",
    "```\n",
    "- The default distance units are meters (or CRS units, if the CRS units are not known or specified), and the default time units are seconds.\n",
    "- A few units for distance: `\"dm\"`, `\"cm\"`, `\"m\"` (default), `\"ft\"`, `\"yd\"`, `\"km\"`, `\"mi\"`."
   ]
  },
  {
   "cell_type": "code",
   "execution_count": null,
   "metadata": {},
   "outputs": [],
   "source": [
    "simple_traj.add_distance()"
   ]
  },
  {
   "cell_type": "code",
   "execution_count": null,
   "metadata": {},
   "outputs": [],
   "source": [
    "simple_traj.df"
   ]
  },
  {
   "cell_type": "markdown",
   "metadata": {},
   "source": [
    "You can rename the column and specify the units:"
   ]
  },
  {
   "cell_type": "code",
   "execution_count": null,
   "metadata": {},
   "outputs": [],
   "source": [
    "simple_traj.add_distance(overwrite=True, name=\"distance (cm)\", units=\"cm\")\n",
    "simple_traj.df"
   ]
  },
  {
   "cell_type": "markdown",
   "metadata": {},
   "source": [
    "#### Speed\n",
    "- Add `speed` column and values to the trajectory’s DataFrame.\n",
    "    - Compute the speed to each point from the previous\n",
    "- Use the `add_speed` function:\n",
    "\n",
    "```python\n",
    "add_speed(overwrite=False, name='speed', \n",
    "          units=UNITS(distance=None, time=None, \n",
    "                      time2=None, crs=None))\n",
    "```\n",
    "- Units for time: `\"s\"`, `\"m\"`, `\"h\"`, `\"d\"`, `\"y\"`."
   ]
  },
  {
   "cell_type": "code",
   "execution_count": null,
   "metadata": {},
   "outputs": [],
   "source": [
    "simple_traj.add_speed(overwrite=True, \n",
    "                      name=\"speed (km/s)\", units=(\"km\", \"s\"))\n",
    "\n",
    "simple_traj.df"
   ]
  },
  {
   "cell_type": "markdown",
   "metadata": {},
   "source": [
    "#### Acceleration\n",
    "- Add acceleration column and values to the trajectory’s DataFrame.\n",
    "    - Compute he acceleration to each point from the previous.\n",
    "- Use the `add_acceleration` function\n",
    "\n",
    "```python\n",
    "add_acceleration(overwrite=False, name='acceleration', \n",
    "                 units=UNITS(distance=None, time=None, \n",
    "                             time2=None, crs=None))\n",
    "```"
   ]
  },
  {
   "cell_type": "code",
   "execution_count": null,
   "metadata": {},
   "outputs": [],
   "source": [
    "simple_traj.add_acceleration(overwrite=True, \n",
    "                             name=\"acceleration (mph/s)\", \n",
    "                             units=(\"mi\", \"h\", \"s\"))\n",
    "\n",
    "simple_traj.df"
   ]
  },
  {
   "cell_type": "markdown",
   "metadata": {},
   "source": [
    "### Visualization"
   ]
  },
  {
   "cell_type": "markdown",
   "metadata": {},
   "source": [
    "We can can turn the trajectory into a linestring:"
   ]
  },
  {
   "cell_type": "code",
   "execution_count": null,
   "metadata": {},
   "outputs": [],
   "source": [
    "simple_traj.to_linestring()"
   ]
  },
  {
   "cell_type": "markdown",
   "metadata": {},
   "source": [
    "We can directly call the `plot()` function that draws each line segment individually."
   ]
  },
  {
   "cell_type": "code",
   "execution_count": null,
   "metadata": {},
   "outputs": [],
   "source": [
    "simple_traj.plot()"
   ]
  },
  {
   "cell_type": "markdown",
   "metadata": {},
   "source": [
    "We can visualize the speed values where each line segment is colored:"
   ]
  },
  {
   "cell_type": "code",
   "execution_count": null,
   "metadata": {},
   "outputs": [],
   "source": [
    "simple_traj.plot(column=\"speed (km/s)\", linewidth=5, \n",
    "                 capstyle='round', legend=True)"
   ]
  },
  {
   "cell_type": "markdown",
   "metadata": {},
   "source": [
    "Create an inteactive plot with `hvplot`:"
   ]
  },
  {
   "cell_type": "code",
   "execution_count": null,
   "metadata": {},
   "outputs": [],
   "source": [
    "simple_traj.hvplot()"
   ]
  },
  {
   "cell_type": "markdown",
   "metadata": {},
   "source": [
    "We can select the background image with the by setting the `tiles` parameter with one of the options:\n",
    "\n",
    "   ‘CartoDark’, ‘CartoEco’, ‘CartoLight’, ‘CartoMidnight’, \n",
    "   ‘EsriImagery’, ‘EsriNatGeo’, ‘EsriReference’, ’EsriTerrain’,\n",
    "   ‘EsriUSATopo’, ‘OSM’, ‘StamenLabels’, ‘StamenTerrain’,\n",
    "   ‘StamenTerrainRetina’, ‘StamenToner’, ‘StamenTonerBackground’,\n",
    "   ‘StamenWatercolor’, ‘Wikipedia’ (default)\n",
    "\n"
   ]
  },
  {
   "cell_type": "code",
   "execution_count": null,
   "metadata": {},
   "outputs": [],
   "source": [
    "simple_traj.hvplot(tiles=\"EsriTerrain\") #\"StamenTerrain\")"
   ]
  },
  {
   "cell_type": "markdown",
   "metadata": {},
   "source": [
    "### Time interpolating the position of the object\n",
    "\n",
    "- Use the function `get_position_at()`:"
   ]
  },
  {
   "cell_type": "markdown",
   "metadata": {},
   "source": [
    "We need to make sure that the date falls between existing dates."
   ]
  },
  {
   "cell_type": "code",
   "execution_count": null,
   "metadata": {},
   "outputs": [],
   "source": [
    "date = dt.datetime(2023,10,1,9,4,45)"
   ]
  },
  {
   "cell_type": "code",
   "execution_count": null,
   "metadata": {},
   "outputs": [],
   "source": [
    "pos = simple_traj.get_position_at(date, method=\"nearest\")  \n",
    "print(pos)"
   ]
  },
  {
   "cell_type": "code",
   "execution_count": null,
   "metadata": {},
   "outputs": [],
   "source": [
    "pos = simple_traj.get_position_at(date, method=\"interpolated\")  \n",
    "print(pos)"
   ]
  },
  {
   "cell_type": "code",
   "execution_count": null,
   "metadata": {},
   "outputs": [],
   "source": [
    "pos = simple_traj.get_position_at(date, method=\"ffill\") # from the previous row\n",
    "print(pos)"
   ]
  },
  {
   "cell_type": "markdown",
   "metadata": {},
   "source": [
    "pos = simple_traj.get_position_at(date, method=\"bfill\") # from the following row\n",
    "print(pos)"
   ]
  },
  {
   "cell_type": "markdown",
   "metadata": {},
   "source": [
    "#### If the timestamp falls outside the time range between trajectory start and end time, we get an error:"
   ]
  },
  {
   "cell_type": "code",
   "execution_count": null,
   "metadata": {},
   "outputs": [],
   "source": [
    "date = dt.datetime(2023,10,1,11,4,45)\n",
    "try: \n",
    "    pos = simple_traj.get_position_at(date)\n",
    "except ValueError as e:\n",
    "    print(f\"ValueError: {e}\")"
   ]
  },
  {
   "cell_type": "code",
   "execution_count": null,
   "metadata": {},
   "outputs": [],
   "source": []
  },
  {
   "cell_type": "markdown",
   "metadata": {},
   "source": [
    "# <font color=\"red\"> Applications</font>\n"
   ]
  },
  {
   "cell_type": "markdown",
   "metadata": {},
   "source": [
    "## <font color=\"blue\">Tracking the International Space Station (ISS) </font>\n",
    "\n",
    "- ISS orbits the Earth about every 90 minutes at a speed of five miles per second.\n",
    "- The webpage [http://api.open-notify.org/iss-now.json](http://api.open-notify.org/iss-now.json) provides the time and the position of the ISS as a JSON object:\n",
    "```python\n",
    "{\"timestamp\": 1689905399, \"iss_position\": {\"latitude\": \"-16.3200\", \"longitude\": \"176.0359\"}, \"message\": \"success\"}\n",
    "```\n",
    "- We access the webpage every 5 seconds (for several hours) to collect data on the trajectory of ISS.\n",
    "- We create a CSV file containing the time and position of ISS over several hours."
   ]
  },
  {
   "cell_type": "code",
   "execution_count": null,
   "metadata": {},
   "outputs": [],
   "source": [
    "url = \"https://portal.nccs.nasa.gov/datashare/astg/training/python/geopandas/ISS_timeseries_path.csv\"\n",
    "df_iss = pd.read_csv(url)\n",
    "df_iss                     "
   ]
  },
  {
   "cell_type": "markdown",
   "metadata": {},
   "source": [
    "Convert the `geometry` column into a Shapely geometry:"
   ]
  },
  {
   "cell_type": "code",
   "execution_count": null,
   "metadata": {},
   "outputs": [],
   "source": [
    "df_iss['geometry'] = df_iss['geometry'].apply(shpwkt.loads)"
   ]
  },
  {
   "cell_type": "markdown",
   "metadata": {},
   "source": [
    "Convert the timestamp into a datetime object:"
   ]
  },
  {
   "cell_type": "code",
   "execution_count": null,
   "metadata": {},
   "outputs": [],
   "source": [
    "df_iss['timestamp'] = pd.to_datetime(df_iss['timestamp'], unit='s')\n",
    "df_iss"
   ]
  },
  {
   "cell_type": "markdown",
   "metadata": {},
   "source": [
    "Rename the columns and set the column `t` to be index:"
   ]
  },
  {
   "cell_type": "code",
   "execution_count": null,
   "metadata": {},
   "outputs": [],
   "source": [
    "df_iss.columns = ['latitude', 'longitude', 't', 'geometry']\n",
    "df_iss = df_iss.set_index('t')\n",
    "df_iss"
   ]
  },
  {
   "cell_type": "markdown",
   "metadata": {},
   "source": [
    "Create the GeoPandas GeoDataFrame:"
   ]
  },
  {
   "cell_type": "code",
   "execution_count": null,
   "metadata": {},
   "outputs": [],
   "source": [
    "gdf_iss = gpd.GeoDataFrame(df_iss, crs={'init': 'epsg:4326'})"
   ]
  },
  {
   "cell_type": "markdown",
   "metadata": {},
   "source": [
    "Create the trajectory:"
   ]
  },
  {
   "cell_type": "code",
   "execution_count": null,
   "metadata": {},
   "outputs": [],
   "source": [
    "iss_traj = mpd.Trajectory(gdf_iss, 1)"
   ]
  },
  {
   "cell_type": "code",
   "execution_count": null,
   "metadata": {},
   "outputs": [],
   "source": [
    "print(iss_traj)"
   ]
  },
  {
   "cell_type": "markdown",
   "metadata": {},
   "source": [
    "Plot the trajectory:"
   ]
  },
  {
   "cell_type": "code",
   "execution_count": null,
   "metadata": {},
   "outputs": [],
   "source": [
    "iss_traj.plot(legend=True, figsize=(9,5))"
   ]
  },
  {
   "cell_type": "markdown",
   "metadata": {},
   "source": [
    "- We only use one trajectory for the entire dataset.\n",
    "- There are mapping issues when the prime meridian is crossed"
   ]
  },
  {
   "cell_type": "markdown",
   "metadata": {},
   "source": [
    "#### Create a collection of MovingPandas trajectories\n",
    "\n",
    "Use the function `TrajectoryCollection`:\n",
    "\n",
    "\n",
    "```python\n",
    "TrajectoryCollection(data, traj_id_col=None, obj_id_col=None, \n",
    "                     t=None, x=None, y=None, \n",
    "                     crs='epsg:4326', min_length=0, \n",
    "                     min_duration=None)\n",
    "```\n",
    "\n",
    "- __data__ (list[Trajectory] or GeoDataFrame or DataFrame) – List of Trajectory objects or a GeoDataFrame with trajectory IDs, point geometry column and timestamp index\n",
    "- **traj_id_col** (string) – Name of the GeoDataFrame column containing trajectory IDs\n",
    "- **obj_id_col** (string) – Name of the GeoDataFrame column containing moving object IDs\n",
    "- __t__ (string) – Name of the DataFrame column containing the timestamp\n",
    "- __x__ (string) – Name of the DataFrame column containing the x coordinate\n",
    "- __y__ (string) – Name of the DataFrame column containing the y coordinate\n",
    "- __crs__ (string) – CRS of the x/y coordinates\n",
    "- **min_length** (numeric) – Desired minimum length of trajectories. (Shorter trajectories are discarded.)\n",
    "- **min_duration** (timedelta) – Desired minimum duration of trajectories. (Shorter trajectories are discarded.)"
   ]
  },
  {
   "cell_type": "markdown",
   "metadata": {},
   "source": [
    "Add a trajectory id:"
   ]
  },
  {
   "cell_type": "code",
   "execution_count": null,
   "metadata": {},
   "outputs": [],
   "source": [
    "traj_id = np.zeros_like(df_iss[\"longitude\"].values, int)\n",
    "\n",
    "count = 0\n",
    "prev_long = df_iss['longitude'].values[0]\n",
    "\n",
    "for i, long in enumerate(df_iss['longitude'].values[1:], start=1):\n",
    "    if (-179.9999 <= long <= -179.00) and (179.000 <= prev_long <= 179.99999):\n",
    "        count += 1\n",
    "    prev_long = long\n",
    "    traj_id[i] = count\n",
    "\n",
    "df_iss['traj_id'] = traj_id\n",
    "df_iss"
   ]
  },
  {
   "cell_type": "code",
   "execution_count": null,
   "metadata": {},
   "outputs": [],
   "source": [
    "df_iss.traj_id.unique()"
   ]
  },
  {
   "cell_type": "code",
   "execution_count": null,
   "metadata": {},
   "outputs": [],
   "source": [
    "iss_trajc = mpd.TrajectoryCollection(df_iss, \n",
    "                                 x = \"longitude\", y=\"latitude\",\n",
    "                                 traj_id_col=\"traj_id\", t=\"t\")"
   ]
  },
  {
   "cell_type": "code",
   "execution_count": null,
   "metadata": {},
   "outputs": [],
   "source": [
    "iss_trajc"
   ]
  },
  {
   "cell_type": "code",
   "execution_count": null,
   "metadata": {},
   "outputs": [],
   "source": [
    "iss_trajc.plot();"
   ]
  },
  {
   "cell_type": "code",
   "execution_count": null,
   "metadata": {},
   "outputs": [],
   "source": [
    "ntrajs = len(iss_trajc.trajectories)\n",
    "colors = [\"red\", \"blue\", \"green\", \"purple\"]\n",
    "\n",
    "fig, ax = plt.subplots(figsize=(20,15))\n",
    "\n",
    "for i in range(ntrajs):\n",
    "    iss_trajc.trajectories[i].plot(ax=ax, \n",
    "                                   color=colors[i], lw=3,\n",
    "                                  label=f\"Trajectory: {i}\")\n",
    "plt.legend();"
   ]
  },
  {
   "cell_type": "markdown",
   "metadata": {},
   "source": [
    "#### Select one trajectory"
   ]
  },
  {
   "cell_type": "code",
   "execution_count": null,
   "metadata": {},
   "outputs": [],
   "source": [
    "my_traj = iss_trajc.trajectories[1]"
   ]
  },
  {
   "cell_type": "code",
   "execution_count": null,
   "metadata": {},
   "outputs": [],
   "source": [
    "my_traj.df"
   ]
  },
  {
   "cell_type": "code",
   "execution_count": null,
   "metadata": {},
   "outputs": [],
   "source": [
    "my_traj.plot(color=\"blue\")"
   ]
  },
  {
   "cell_type": "markdown",
   "metadata": {},
   "source": [
    "#### Use `hvplot` to have an interactive map"
   ]
  },
  {
   "cell_type": "code",
   "execution_count": null,
   "metadata": {},
   "outputs": [],
   "source": [
    "my_traj.hvplot(color=\"blue\")"
   ]
  },
  {
   "cell_type": "markdown",
   "metadata": {},
   "source": [
    "## <font color=\"blue\">Measurement of `NO2` by the Ozone Monitoring Instrument (OMI)</font>\n",
    "\n",
    "- [The Ozone Monitoring Instrument (OMI)](https://www.earthdata.nasa.gov/learn/find-data/near-real-time/omi) aboard NASA's Aura satellite (launched in 2004) measures ozone from Earth's surface to top-of-atmosphere. \n",
    "  - OMI is a nadir-viewing wide-field-imaging spectrometer, giving daily global coverage.\n",
    "  - OMI measures the key air quality components such as nitrogen dioxide (NO$_2$), sulfur dioxide (SO$_2$), bromine oxide (BrO), OClO, and aerosol characteristics.\n",
    "  - OMI provides mapping of pollution products from an urban to super-regional scale.\n",
    "- Near real-time (NRT) OMI data are available through LANCE generally within three hours after a satellite observation.\n",
    "\n",
    "Here we focus on the [Nitrogen Dioxide (NO2) Total and Tropospheric Column](https://disc.gsfc.nasa.gov/datasets/OMNO2_003/summary) 1-orbit L2 Swath."
   ]
  },
  {
   "cell_type": "markdown",
   "metadata": {},
   "source": [
    "### Create the Pandas DataFrame"
   ]
  },
  {
   "cell_type": "code",
   "execution_count": null,
   "metadata": {},
   "outputs": [],
   "source": [
    "def convert_dict_dtype(sample_dict):\n",
    "    '''\n",
    "    Converts attribute dictionary from Numpy data types \n",
    "    to general Python data types\n",
    "\n",
    "    Parameters\n",
    "    ----------\n",
    "    sample_dict : dict\n",
    "         A dictionary of attributes\n",
    "         \n",
    "    Returns\n",
    "    sample_dict : dictt\n",
    "         A dictionary of attributes\n",
    "    '''\n",
    "    for key, item in sample_dict.items():\n",
    "        if isinstance(item, np.ndarray):   # Converts np arrays to a list to, if applicable, an int or float\n",
    "            item = list(item)\n",
    "        \n",
    "            if len(item) == 1:\n",
    "                item = item[0]\n",
    "        elif isinstance(item, np.bytes_):   # Converts np bytes to an np string to a Python string\n",
    "            item = str(item.astype('str'))\n",
    "        \n",
    "            if item[0] == '(' or item[0] == '{':   # Converts to tuple or dict if applicable\n",
    "                item = eval(item)\n",
    "            # **eval() relaiability??**\n",
    "            \n",
    "        sample_dict[key] = item   # Updates any changes to the key value\n",
    "        \n",
    "    return sample_dict"
   ]
  },
  {
   "cell_type": "code",
   "execution_count": null,
   "metadata": {},
   "outputs": [],
   "source": [
    "def get_ds_attrs(ds):\n",
    "    \"\"\"\n",
    "       Give a dataset identifier, return the dataset attribute.\n",
    "       \n",
    "       Input Parameters:\n",
    "          - ds: dataset identifier\n",
    "       Returned value:\n",
    "          - ds_attrs: a dictionary\n",
    "    \"\"\"\n",
    "    ds_attrs = dict(ds.attrs)\n",
    "    ds_attrs = convert_dict_dtype(ds_attrs)\n",
    "    \n",
    "    return ds_attrs"
   ]
  },
  {
   "cell_type": "code",
   "execution_count": null,
   "metadata": {},
   "outputs": [],
   "source": [
    "def get_ds_attribute_value(ds_attrs, attr_name):\n",
    "    '''\n",
    "    Obtain the value of a specified attribute in a dataset.\n",
    "    \n",
    "    Parameter\n",
    "    ---------\n",
    "    ds_attrs : dict\n",
    "         A dictionary of dataset attributes\n",
    "    attr_name : str\n",
    "         Attribute name    \n",
    "    \n",
    "    Returns\n",
    "    --------\n",
    "    value: float, int, str, list\n",
    "         Value of the attribute. If attribute not available, None.\n",
    "    '''\n",
    "    for key, value in ds_attrs.items():\n",
    "        if key == attr_name:\n",
    "            return value \n",
    "    return None"
   ]
  },
  {
   "cell_type": "code",
   "execution_count": null,
   "metadata": {},
   "outputs": [],
   "source": [
    "def restore_data(ds):\n",
    "    '''\n",
    "    Restore the dataset data using the dataset attributes.\n",
    "      \n",
    "    Parameters\n",
    "    ----------\n",
    "    ds : h5py dataset identifier\n",
    "    \n",
    "    Returns:\n",
    "    data : numpy array\n",
    "    '''\n",
    "    ds_attrs = get_ds_attrs(ds)\n",
    "    \n",
    "    _FillValue = get_ds_attribute_value(ds_attrs, '_FillValue')\n",
    "    scale_factor = get_ds_attribute_value(ds_attrs, 'scale_factor')\n",
    "    add_offset = get_ds_attribute_value(ds_attrs, 'add_offset')\n",
    "    \n",
    "    data = ds[()]#.astype('float')\n",
    "    \n",
    "    data = np.where(data != _FillValue, data, np.nan)\n",
    "    if add_offset:\n",
    "        data -= add_offset\n",
    "    if scale_factor:\n",
    "        data *= scale_factor\n",
    "\n",
    "    return data"
   ]
  },
  {
   "cell_type": "code",
   "execution_count": null,
   "metadata": {},
   "outputs": [],
   "source": [
    "def get_arrays(fname):\n",
    "    with h5py.File(fname, 'r') as fid:\n",
    "        geo_grp = fid['HDFEOS']['SWATHS']['ColumnAmountNO2']['Geolocation Fields']\n",
    "        data_grp = fid['HDFEOS']['SWATHS']['ColumnAmountNO2']['Data Fields']\n",
    "        NO2 = restore_data(data_grp['ColumnAmountNO2Trop'])[:,0]\n",
    "        time = geo_grp['Time'][()]\n",
    "        lats = geo_grp['SpacecraftLatitude'][()]\n",
    "        lons = geo_grp['SpacecraftLongitude'][()]\n",
    "    return NO2, time, lats, lons"
   ]
  },
  {
   "cell_type": "code",
   "execution_count": null,
   "metadata": {},
   "outputs": [],
   "source": [
    "list_files =[\n",
    "    \"OMI-Aura_L2-OMNO2_2023m0709t0114-o100959_v003-2023m0710t052026.he5\",\n",
    "    \"OMI-Aura_L2-OMNO2_2023m0709t0253-o100960_v003-2023m0710t052055.he5\",\n",
    "    \"OMI-Aura_L2-OMNO2_2023m0709t0432-o100961_v003-2023m0710t060000.he5\",\n",
    "    \"OMI-Aura_L2-OMNO2_2023m0709t0610-o100962_v003-2023m0710t124018.he5\",\n",
    "    \"OMI-Aura_L2-OMNO2_2023m0709t0749-o100963_v003-2023m0710t141856.he5\",\n",
    "    \"OMI-Aura_L2-OMNO2_2023m0709t0928-o100964_v003-2023m0710t141539.he5\",\n",
    "    \"OMI-Aura_L2-OMNO2_2023m0709t1107-o100965_v003-2023m0710t143421.he5\",\n",
    "    \"OMI-Aura_L2-OMNO2_2023m0709t1246-o100966_v003-2023m0710t171304.he5\",\n",
    "    \"OMI-Aura_L2-OMNO2_2023m0709t1425-o100967_v003-2023m0710t171303.he5\",\n",
    "    \"OMI-Aura_L2-OMNO2_2023m0709t1603-o100968_v003-2023m0710t171256.he5\",\n",
    "    \"OMI-Aura_L2-OMNO2_2023m0709t1742-o100969_v003-2023m0710t171227.he5\",\n",
    "    \"OMI-Aura_L2-OMNO2_2023m0709t1921-o100970_v003-2023m0710t224725.he5\",\n",
    "    \"OMI-Aura_L2-OMNO2_2023m0709t2100-o100971_v003-2023m0710t224852.he5\",\n",
    "    \"OMI-Aura_L2-OMNO2_2023m0709t2239-o100972_v003-2023m0710t224703.he5\"\n",
    "]"
   ]
  },
  {
   "cell_type": "code",
   "execution_count": null,
   "metadata": {},
   "outputs": [],
   "source": [
    "#data_dir = \"/Users/jkouatch/myTasks/PythonTraining/ASTG606/Materials/sat_data/OMI_Data/\"\n",
    "data_dir = \"/tljh-data/sat_data/OMI_Data\""
   ]
  },
  {
   "cell_type": "code",
   "execution_count": null,
   "metadata": {},
   "outputs": [],
   "source": [
    "num_files = len(list_files)\n",
    "first_iter = True\n",
    "for i in range(1):\n",
    "    fname = Path(data_dir) / list_files[i]\n",
    "    print(f\"Reading: {fname}\")\n",
    "    X, Y, Z, W = get_arrays(fname)\n",
    "    if first_iter:\n",
    "        first_iter = False\n",
    "        NO2, time, lats, lons = X, Y, Z, W\n",
    "    else:\n",
    "        NO2 = np.concatenate((NO2, X), axis=0)\n",
    "        time = np.concatenate((NO2, Y), axis=0)\n",
    "        lats = np.concatenate((NO2, Z), axis=0)\n",
    "        lons = np.concatenate((NO2, W), axis=0)"
   ]
  },
  {
   "cell_type": "code",
   "execution_count": null,
   "metadata": {},
   "outputs": [],
   "source": [
    "NO2.shape"
   ]
  },
  {
   "cell_type": "markdown",
   "metadata": {},
   "source": [
    "Convert the time (GPS unit) to a datetime object:"
   ]
  },
  {
   "cell_type": "code",
   "execution_count": null,
   "metadata": {},
   "outputs": [],
   "source": [
    "Times = np.zeros_like(time, object)\n",
    "gps_epoch = dt.datetime(1980, 1, 6)\n",
    "for j, t in enumerate(time):\n",
    "    Times[j] = (gps_epoch + dt.timedelta(seconds=time[j] - (35 - 19))).strftime(\"%Y-%m-%d %H:%M:%S.%f\")"
   ]
  },
  {
   "cell_type": "code",
   "execution_count": null,
   "metadata": {},
   "outputs": [],
   "source": [
    "df_omi = pd.DataFrame(\n",
    "    dict(latitude=lats, longitude=lons, \n",
    "         NO2TropSurf=NO2, t=Times))\n",
    "df_omi"
   ]
  },
  {
   "cell_type": "code",
   "execution_count": null,
   "metadata": {},
   "outputs": [],
   "source": [
    "df_omi.info()"
   ]
  },
  {
   "cell_type": "code",
   "execution_count": null,
   "metadata": {},
   "outputs": [],
   "source": [
    "#df_omi = df_omi.set_index('t')\n",
    "#df_omi"
   ]
  },
  {
   "cell_type": "code",
   "execution_count": null,
   "metadata": {},
   "outputs": [],
   "source": [
    "df_omi['longitude'] = df_omi['longitude']%360"
   ]
  },
  {
   "cell_type": "markdown",
   "metadata": {},
   "source": [
    "### Visualization"
   ]
  },
  {
   "cell_type": "markdown",
   "metadata": {},
   "source": [
    "Timeseries plot:"
   ]
  },
  {
   "cell_type": "code",
   "execution_count": null,
   "metadata": {},
   "outputs": [],
   "source": [
    "df_omi.plot(x='t', y='NO2TropSurf')\n",
    "plt.xticks(rotation=90);"
   ]
  },
  {
   "cell_type": "markdown",
   "metadata": {},
   "source": [
    "Histogram:"
   ]
  },
  {
   "cell_type": "code",
   "execution_count": null,
   "metadata": {},
   "outputs": [],
   "source": [
    "df_omi['NO2TropSurf'].plot(kind='hist', figsize=(12,8));"
   ]
  },
  {
   "cell_type": "markdown",
   "metadata": {},
   "source": [
    "Trajectory:"
   ]
  },
  {
   "cell_type": "code",
   "execution_count": null,
   "metadata": {},
   "outputs": [],
   "source": [
    "traj_omi = mpd.Trajectory(df_omi,\n",
    "                          traj_id=1,\n",
    "                          x = \"longitude\", y=\"latitude\",\n",
    "                          t=\"t\")"
   ]
  },
  {
   "cell_type": "code",
   "execution_count": null,
   "metadata": {},
   "outputs": [],
   "source": [
    "traj_omi.plot();"
   ]
  },
  {
   "cell_type": "code",
   "execution_count": null,
   "metadata": {},
   "outputs": [],
   "source": [
    "fig, ax = plt.subplots(figsize=(12,10))\n",
    "\n",
    "traj_omi.plot(legend=True, \n",
    "           column=\"NO2TropSurf\", \n",
    "           capstyle='round', \n",
    "              cmap=\"jet\", ax=ax);"
   ]
  },
  {
   "cell_type": "code",
   "execution_count": null,
   "metadata": {},
   "outputs": [],
   "source": [
    "traj_omi.hvplot(tiles=\"ESRI\")"
   ]
  },
  {
   "cell_type": "code",
   "execution_count": null,
   "metadata": {},
   "outputs": [],
   "source": [
    "hv_kwargs = dict(hover_cols=[\"latitude\", \"longitude\"], frame_height=300, frame_width=300)\n",
    "\n",
    "traj_omi.hvplot(**hv_kwargs)"
   ]
  },
  {
   "cell_type": "code",
   "execution_count": null,
   "metadata": {},
   "outputs": [],
   "source": []
  },
  {
   "cell_type": "markdown",
   "metadata": {},
   "source": [
    "## IASI METOP"
   ]
  },
  {
   "cell_type": "code",
   "execution_count": null,
   "metadata": {},
   "outputs": [],
   "source": [
    "#data_dir = \"/Users/jkouatch/myTasks/PythonTraining/ASTG606/Materials/sat_data/IASI_Data\"\n",
    "data_dir = \"/tljh-data/sat_data/IASI_Data\""
   ]
  },
  {
   "cell_type": "code",
   "execution_count": null,
   "metadata": {},
   "outputs": [],
   "source": [
    "nc4fname = Path(data_dir) / 'x0044.iasi_metop-a.2020-12-14T21:00:00Z.nc4'"
   ]
  },
  {
   "cell_type": "code",
   "execution_count": null,
   "metadata": {},
   "outputs": [],
   "source": [
    "def get_arrays_nc4(fname):\n",
    "    with h5py.File(fname, 'r') as fid:\n",
    "        data_grp = fid['ObsValue']\n",
    "        brightnessTemp = restore_data(data_grp['brightnessTemperature'])[:,0]\n",
    "        time = fid['MetaData']['dateTime'][()]\n",
    "        lats = fid['MetaData']['latitude'][()]\n",
    "        lons = fid['MetaData']['longitude'][()]\n",
    "    return brightnessTemp, time, lats, lons"
   ]
  },
  {
   "cell_type": "code",
   "execution_count": null,
   "metadata": {},
   "outputs": [],
   "source": [
    "brightnessTemp, time, lats, lons = get_arrays_nc4(nc4fname)"
   ]
  },
  {
   "cell_type": "markdown",
   "metadata": {},
   "source": [
    "#### Convert the time records into datetime objects"
   ]
  },
  {
   "cell_type": "code",
   "execution_count": null,
   "metadata": {},
   "outputs": [],
   "source": [
    "Times = np.zeros_like(time, object)\n",
    "init_dt = dt.datetime(1970, 1, 1)\n",
    "for i, t in enumerate(time):\n",
    "    sec = int(t)\n",
    "    Times[i] = (init_dt + dt.timedelta(seconds=sec)).strftime(\"%Y-%m-%d %H:%M:%S.%f\")"
   ]
  },
  {
   "cell_type": "markdown",
   "metadata": {},
   "source": [
    "#### Create the Pandas DataFrame"
   ]
  },
  {
   "cell_type": "code",
   "execution_count": null,
   "metadata": {},
   "outputs": [],
   "source": [
    "df_iasi = pd.DataFrame(\n",
    "    dict(latitude=lats, longitude=lons, \n",
    "         brightnessTemp=brightnessTemp, t=Times))\n",
    "df_iasi"
   ]
  },
  {
   "cell_type": "markdown",
   "metadata": {},
   "source": [
    "#### Sort the time records"
   ]
  },
  {
   "cell_type": "code",
   "execution_count": null,
   "metadata": {},
   "outputs": [],
   "source": [
    "df_iasi = df_iasi.sort_values(by='t')\n",
    "df_iasi"
   ]
  },
  {
   "cell_type": "markdown",
   "metadata": {},
   "source": [
    "#### Examine longitudes and latitudes to iderntify trajectories"
   ]
  },
  {
   "cell_type": "code",
   "execution_count": null,
   "metadata": {},
   "outputs": [],
   "source": [
    "# plot and rotate the tick labels with rot= in the first plot call\n",
    "ax = df_iasi.plot(x='t', y='longitude', \n",
    "                  color='tab:blue', \n",
    "                  figsize=(15,8), rot=90)\n",
    "ax2 = ax.twinx()\n",
    "df_iasi.plot(x='t', y='latitude', \n",
    "             color='tab:red', ax = ax2)\n",
    "ax2.legend(loc='lower right');"
   ]
  },
  {
   "cell_type": "markdown",
   "metadata": {},
   "source": [
    "- There appears to be five (5) obvious trajectories based on the number of crossings of the central meridian.\n",
    "- There are a lot of longitude oscillations after the first crosssing of the central meridian:\n",
    "   - It will create problems in determing the trajectories."
   ]
  },
  {
   "cell_type": "markdown",
   "metadata": {},
   "source": [
    "#### Set the values of the trajectory ids\n",
    "- Every time we cross the central meridian, we have a new trajectory"
   ]
  },
  {
   "cell_type": "code",
   "execution_count": null,
   "metadata": {},
   "outputs": [],
   "source": [
    "traj_id = np.zeros_like(time, int)\n",
    "\n",
    "count = 0\n",
    "prev_long = df_iasi['longitude'].values[0]\n",
    "\n",
    "for i, long in enumerate(df_iasi['longitude'].values[1:], start=1):\n",
    "    if (0.0 <= long <= 0.99999) and (340.000 <= prev_long <= 359.99999):\n",
    "        count += 1\n",
    "    prev_long = long\n",
    "    traj_id[i] = count\n",
    "\n",
    "df_iasi['traj_id'] = traj_id"
   ]
  },
  {
   "cell_type": "code",
   "execution_count": null,
   "metadata": {},
   "outputs": [],
   "source": [
    "df_iasi"
   ]
  },
  {
   "cell_type": "code",
   "execution_count": null,
   "metadata": {},
   "outputs": [],
   "source": [
    "df_iasi.plot(x='t', y='brightnessTemp')\n",
    "plt.xticks(rotation=90);"
   ]
  },
  {
   "cell_type": "code",
   "execution_count": null,
   "metadata": {},
   "outputs": [],
   "source": [
    "df_iasi['brightnessTemp'].plot(kind='hist', figsize=(12,8));"
   ]
  },
  {
   "cell_type": "markdown",
   "metadata": {},
   "source": [
    "#### Create MovingPandas Trajectories"
   ]
  },
  {
   "cell_type": "code",
   "execution_count": null,
   "metadata": {},
   "outputs": [],
   "source": [
    "iasi_trajc = mpd.TrajectoryCollection(df_iasi, \n",
    "                                 x = \"longitude\", y=\"latitude\",\n",
    "                                 traj_id_col=\"traj_id\", t=\"t\")"
   ]
  },
  {
   "cell_type": "code",
   "execution_count": null,
   "metadata": {},
   "outputs": [],
   "source": [
    "iasi_trajc"
   ]
  },
  {
   "cell_type": "code",
   "execution_count": null,
   "metadata": {},
   "outputs": [],
   "source": [
    "len(iasi_trajc.trajectories)"
   ]
  },
  {
   "cell_type": "markdown",
   "metadata": {},
   "source": [
    "#### Visualize the trajectories"
   ]
  },
  {
   "cell_type": "code",
   "execution_count": null,
   "metadata": {},
   "outputs": [],
   "source": [
    "iasi_trajc.plot()"
   ]
  },
  {
   "cell_type": "code",
   "execution_count": null,
   "metadata": {},
   "outputs": [],
   "source": [
    "ntrajs = len(iasi_trajc.trajectories)\n",
    "fig, ax = plt.subplots(nrows=ntrajs, ncols=1, figsize=(15,30))\n",
    "\n",
    "for i in range(ntrajs):\n",
    "    iasi_trajc.trajectories[i].plot(ax=ax[i])\n",
    "    ax[i].set_title(f\"Trajectory {i}\")\n",
    "    \n",
    "plt.tight_layout()"
   ]
  },
  {
   "cell_type": "markdown",
   "metadata": {},
   "source": [
    "We want to consider trajectories 6, 9 and 10."
   ]
  },
  {
   "cell_type": "code",
   "execution_count": null,
   "metadata": {},
   "outputs": [],
   "source": []
  },
  {
   "cell_type": "code",
   "execution_count": null,
   "metadata": {},
   "outputs": [],
   "source": [
    "fig, ax = plt.subplots(nrows=3, ncols=1, figsize=(10,25))\n",
    "\n",
    "j = 0\n",
    "for i in [6,9,10]:\n",
    "    iasi_trajc.trajectories[i].plot(legend='true',\n",
    "                                    legend_kwds={\n",
    "                                          \"shrink\":.55\n",
    "                                          },\n",
    "                                    column=\"brightnessTemp\",\n",
    "                                    capstyle='round',\n",
    "                                    ax=ax[j])\n",
    "    ax[j].set_title(f\"Trajectory {i}\")\n",
    "    j += 1\n",
    "\n",
    "    \n",
    "#plt.tight_layout()"
   ]
  },
  {
   "cell_type": "markdown",
   "metadata": {},
   "source": [
    "#### Let us zoom in on trajectory 6\n",
    "\n",
    "- We want to remove the two horizontal lines.\n",
    "- We need to check the positions at the beginning and at the end."
   ]
  },
  {
   "cell_type": "code",
   "execution_count": null,
   "metadata": {},
   "outputs": [],
   "source": [
    "df6 = iasi_trajc.trajectories[6].df\n",
    "df6"
   ]
  },
  {
   "cell_type": "markdown",
   "metadata": {},
   "source": [
    "We observe that the first and last points are out of place and we can remove them."
   ]
  },
  {
   "cell_type": "code",
   "execution_count": null,
   "metadata": {},
   "outputs": [],
   "source": [
    "df6.drop(df6.head(1).index, inplace=True)\n",
    "df6"
   ]
  },
  {
   "cell_type": "code",
   "execution_count": null,
   "metadata": {},
   "outputs": [],
   "source": [
    "df6.drop(df6.tail(1).index, inplace=True)\n",
    "df6"
   ]
  },
  {
   "cell_type": "markdown",
   "metadata": {},
   "source": [
    "If we plot again the trajectory, we have:"
   ]
  },
  {
   "cell_type": "code",
   "execution_count": null,
   "metadata": {},
   "outputs": [],
   "source": [
    "mpd.Trajectory(df6, 1).plot(legend='true',\n",
    "                            legend_kwds={\"shrink\":.55},\n",
    "                            column=\"brightnessTemp\",\n",
    "                            capstyle='round')"
   ]
  },
  {
   "cell_type": "markdown",
   "metadata": {},
   "source": [
    "## <font color=\"blue\"> Analyze Mars Rover & Heli  Data</font>\n",
    "\n",
    "- [The car-sized Perseverance and its little helicopter buddy Ingenuity landed together inside Mars](https://www.space.com/perseverance-rover-100-mars-days) by Mike Wall published June 02, 2021)\n",
    "   - One `sol` lasts about 24 hours and 40 minutes, slightly longer than an Earth day."
   ]
  },
  {
   "cell_type": "markdown",
   "metadata": {},
   "source": [
    "### Load the data"
   ]
  },
  {
   "cell_type": "code",
   "execution_count": null,
   "metadata": {},
   "outputs": [],
   "source": [
    "def to_timestamp(row):\n",
    "    start_time = dt.datetime(2021,2,18,0,0,0)  #  sol 0 \n",
    "    try: \n",
    "        sol = row['sol']  # rover\n",
    "    except KeyError:\n",
    "        sol = row['Sol']  # heli \n",
    "    td = dt.timedelta(hours=24*sol, minutes=40*sol)\n",
    "    return start_time + td"
   ]
  },
  {
   "cell_type": "code",
   "execution_count": null,
   "metadata": {},
   "outputs": [],
   "source": [
    "m20_waypoints_json = \"https://mars.nasa.gov/mmgis-maps/M20/Layers/json/M20_waypoints.json\"\n",
    "m20_filename = Path(m20_waypoints_json).name"
   ]
  },
  {
   "cell_type": "code",
   "execution_count": null,
   "metadata": {},
   "outputs": [],
   "source": [
    "heli_waypoints_json = \"https://mars.nasa.gov/mmgis-maps/M20/Layers/json/m20_heli_waypoints.json\"\n",
    "heli_filename = Path(heli_waypoints_json).name"
   ]
  },
  {
   "cell_type": "code",
   "execution_count": null,
   "metadata": {},
   "outputs": [],
   "source": [
    "def get_df_from_file(filename):\n",
    "    gdf = gpd.read_file(filename)\n",
    "    gdf['time'] = gdf.apply(to_timestamp, axis=1)\n",
    "    gdf.set_index('time', inplace=True)\n",
    "    return gdf"
   ]
  },
  {
   "cell_type": "code",
   "execution_count": null,
   "metadata": {},
   "outputs": [],
   "source": [
    "download_remote_file(m20_waypoints_json)\n",
    "download_remote_file(heli_waypoints_json)"
   ]
  },
  {
   "cell_type": "code",
   "execution_count": null,
   "metadata": {},
   "outputs": [],
   "source": [
    "m20_df = get_df_from_file(m20_filename)\n",
    "heli_df = get_df_from_file(heli_filename)"
   ]
  },
  {
   "cell_type": "code",
   "execution_count": null,
   "metadata": {},
   "outputs": [],
   "source": [
    "m20_df.head()"
   ]
  },
  {
   "cell_type": "code",
   "execution_count": null,
   "metadata": {},
   "outputs": [],
   "source": [
    "m20_df.info()"
   ]
  },
  {
   "cell_type": "code",
   "execution_count": null,
   "metadata": {},
   "outputs": [],
   "source": [
    "m20_df.describe().transpose()"
   ]
  },
  {
   "cell_type": "code",
   "execution_count": null,
   "metadata": {},
   "outputs": [],
   "source": [
    "heli_df.info()"
   ]
  },
  {
   "cell_type": "code",
   "execution_count": null,
   "metadata": {},
   "outputs": [],
   "source": [
    "heli_df.describe().transpose()"
   ]
  },
  {
   "cell_type": "markdown",
   "metadata": {},
   "source": [
    "### Plot"
   ]
  },
  {
   "cell_type": "code",
   "execution_count": null,
   "metadata": {},
   "outputs": [],
   "source": [
    "m20_df.hvplot(title=\"M20 & heli waypoints\", hover_cols=['sol'], **hvplot_defaults) * heli_df.hvplot(hover_cols=['Sol'], color=\"red\")\n"
   ]
  },
  {
   "cell_type": "markdown",
   "metadata": {},
   "source": [
    "### Determine Trajectory"
   ]
  },
  {
   "cell_type": "code",
   "execution_count": null,
   "metadata": {},
   "outputs": [],
   "source": [
    "m20_traj = mpd.Trajectory(m20_df, 'm20')\n",
    "heli_traj = mpd.Trajectory(heli_df, 'heli')"
   ]
  },
  {
   "cell_type": "code",
   "execution_count": null,
   "metadata": {},
   "outputs": [],
   "source": [
    "traj_plot = m20_traj.hvplot(title=\"M20 & heli trajectories\", line_width=3, **hvplot_defaults) * heli_traj.hvplot(line_width=3, color='red', **hvplot_defaults)\n",
    "traj_plot "
   ]
  },
  {
   "cell_type": "code",
   "execution_count": null,
   "metadata": {},
   "outputs": [],
   "source": [
    "m20_traj.hvplot(title=\"Rover speed (only suitable for relative comparison)\", \n",
    "                c='speed', line_width=7, **hvplot_defaults) "
   ]
  },
  {
   "cell_type": "markdown",
   "metadata": {},
   "source": [
    "### Select "
   ]
  },
  {
   "cell_type": "code",
   "execution_count": null,
   "metadata": {},
   "outputs": [],
   "source": [
    "m20_detector = mpd.TrajectoryStopDetector(m20_traj)\n",
    "stop_points = m20_detector.get_stop_points(min_duration=dt.timedelta(seconds=60), \n",
    "                                           max_diameter=100)\n",
    "stop_points['duration_days'] = stop_points['duration_s']/(60*60*24)\n",
    "stop_points.head()"
   ]
  },
  {
   "cell_type": "code",
   "execution_count": null,
   "metadata": {},
   "outputs": [],
   "source": [
    "heli_detector = mpd.TrajectoryStopDetector(heli_traj)\n",
    "heli_stop_points = heli_detector.get_stop_points(min_duration=dt.timedelta(seconds=60), max_diameter=100)\n",
    "heli_stop_points['duration_days'] = heli_stop_points['duration_s']/(60*60*24)\n",
    "heli_stop_points.head()"
   ]
  },
  {
   "cell_type": "code",
   "execution_count": null,
   "metadata": {},
   "outputs": [],
   "source": [
    "stop_point_plot = stop_points.hvplot(title='M20 & heli stops ', \n",
    "                                     geo=True, size=np.log(hv.dim('duration_days'))*10, \n",
    "                                     hover_cols=['duration_days'], color='blue', alpha=0.5) \n",
    "heli_stop_plot = heli_stop_points.hvplot(geo=True, size=np.log(hv.dim('duration_days'))*10, \n",
    "                                     hover_cols=['duration_days'], color='red', alpha=0.5) \n",
    "stop_point_plot * heli_stop_plot * traj_plot"
   ]
  },
  {
   "cell_type": "markdown",
   "metadata": {},
   "source": [
    "### Mars background map\n",
    "\n",
    "https://mars.nasa.gov/mars2020/mission/where-is-the-rover/"
   ]
  },
  {
   "cell_type": "code",
   "execution_count": null,
   "metadata": {},
   "outputs": [],
   "source": [
    "from bokeh.models import TMSTileSource\n",
    "\n",
    "tile_url = 'http://s3-eu-west-1.amazonaws.com/whereonmars.cartodb.net/celestia_mars-shaded-16k_global/{Z}/{X}/{Y}.png'\n",
    "\n",
    "def mars_tiles(plot, element):\n",
    "    plot.state.add_tile(TMSTileSource(url=tile_url), level='underlay')\n",
    "\n",
    "traj_map = m20_traj.hvplot(title=\"M20 & heli trajectories\", tiles=None) * heli_traj.hvplot(color='red', **hvplot_defaults)\n",
    "traj_map.opts(hooks=[mars_tiles])"
   ]
  },
  {
   "cell_type": "code",
   "execution_count": null,
   "metadata": {},
   "outputs": [],
   "source": []
  },
  {
   "cell_type": "markdown",
   "metadata": {},
   "source": [
    "## <font color=\"blue\"> Analyze Ship Data</font>"
   ]
  },
  {
   "cell_type": "markdown",
   "metadata": {},
   "source": [
    "#### Obtain the remote data file"
   ]
  },
  {
   "cell_type": "code",
   "execution_count": null,
   "metadata": {},
   "outputs": [],
   "source": [
    "url = 'https://github.com/movingpandas/movingpandas/raw/main/tutorials/data/demodata_ais.gpkg'\n",
    "ais_filename = Path(url).name"
   ]
  },
  {
   "cell_type": "code",
   "execution_count": null,
   "metadata": {},
   "outputs": [],
   "source": [
    "download_remote_file(url)"
   ]
  },
  {
   "cell_type": "markdown",
   "metadata": {},
   "source": [
    "#### Read the `.gpkg` file as a Pandas DataFrame\n",
    "\n",
    "- A file with a `.gpkg` extension consists of a GIS implemented as a SQLite database container containing data and metadata tables with typical definitions, format limitations, integrity assertions and content constraints.\n",
    "- The GeoPackage (GPKG) standard describes a set of conventions for   \n",
    "    - Storing tile matrix sets of imagery\n",
    "    - Vector features\n",
    "    - Raster maps at various scales\n",
    "    - Metadata and schema"
   ]
  },
  {
   "cell_type": "code",
   "execution_count": null,
   "metadata": {},
   "outputs": [],
   "source": [
    "df_ais = gpd.read_file(ais_filename)\n",
    "df_ais"
   ]
  },
  {
   "cell_type": "code",
   "execution_count": null,
   "metadata": {},
   "outputs": [],
   "source": [
    "df_ais.info()"
   ]
  },
  {
   "cell_type": "markdown",
   "metadata": {},
   "source": [
    "- `MMSI`: Maritime Mobile Service Idenity used as unique id for a ship.\n",
    "- `NavStatus`: Navigational status\n",
    "- `SOG`: Speed over ground in 1/10 knot steps (0-102.2 knots)\n",
    "- `COG`: Course over ground in 1/10 = (0-3599)\n",
    "- `ShipType`: Ship type"
   ]
  },
  {
   "cell_type": "markdown",
   "metadata": {},
   "source": [
    "#### Focus on the ship type:"
   ]
  },
  {
   "cell_type": "code",
   "execution_count": null,
   "metadata": {},
   "outputs": [],
   "source": [
    "df_ais['ShipType'].unique()"
   ]
  },
  {
   "cell_type": "code",
   "execution_count": null,
   "metadata": {},
   "outputs": [],
   "source": [
    "df_ais['ShipType'].value_counts()"
   ]
  },
  {
   "cell_type": "code",
   "execution_count": null,
   "metadata": {},
   "outputs": [],
   "source": [
    "total_ships = df_ais['ShipType'].value_counts().sum()\n",
    "percent = 100*df_ais['ShipType'].value_counts()/total_ships\n",
    "\n",
    "dist_ship = pd.concat([df_ais['ShipType'].value_counts(), percent],\n",
    "                    axis=1, keys=['Total', 'Percent'])\n",
    "dist_ship"
   ]
  },
  {
   "cell_type": "code",
   "execution_count": null,
   "metadata": {},
   "outputs": [],
   "source": [
    "dist_ship['Total'].plot(kind='bar', figsize=(15,3));"
   ]
  },
  {
   "cell_type": "markdown",
   "metadata": {},
   "source": [
    "#### Focus on `SOC`"
   ]
  },
  {
   "cell_type": "code",
   "execution_count": null,
   "metadata": {},
   "outputs": [],
   "source": [
    "df_ais['SOG'].hist(bins=100, figsize=(15,3))"
   ]
  },
  {
   "cell_type": "markdown",
   "metadata": {},
   "source": [
    "- There are a lot of records with values equal to zero.\n",
    "- Remove the ships with speed over ground equal to zero."
   ]
  },
  {
   "cell_type": "code",
   "execution_count": null,
   "metadata": {},
   "outputs": [],
   "source": [
    "print(f\"Original size: {len(df_ais)} rows\")\n",
    "df_ais = df_ais[df_ais.SOG > 0]\n",
    "print(f\"Reduced to {len(df_ais)} rows after removing 0 speed records\")"
   ]
  },
  {
   "cell_type": "code",
   "execution_count": null,
   "metadata": {},
   "outputs": [],
   "source": [
    "df_ais['SOG'].hist(bins=100, figsize=(15,3))"
   ]
  },
  {
   "cell_type": "markdown",
   "metadata": {},
   "source": [
    "Basic plot:"
   ]
  },
  {
   "cell_type": "code",
   "execution_count": null,
   "metadata": {},
   "outputs": [],
   "source": [
    "df_ais.plot(figsize=(12,12), markersize=0.7, alpha=0.7);"
   ]
  },
  {
   "cell_type": "markdown",
   "metadata": {},
   "source": [
    "#### Create trajectories\n",
    "\n",
    "- We transform the content of `Timestamp` into Datetime objects.\n",
    "- We specify that the minimum length for a trajectory needs to be at least 100 meters."
   ]
  },
  {
   "cell_type": "code",
   "execution_count": null,
   "metadata": {},
   "outputs": [],
   "source": [
    "df_ais['t'] = pd.to_datetime(df_ais['Timestamp'], \n",
    "                             format='%d/%m/%Y %H:%M:%S')"
   ]
  },
  {
   "cell_type": "code",
   "execution_count": null,
   "metadata": {},
   "outputs": [],
   "source": [
    "df_ais"
   ]
  },
  {
   "cell_type": "code",
   "execution_count": null,
   "metadata": {},
   "outputs": [],
   "source": [
    "df_ais.info()"
   ]
  },
  {
   "cell_type": "code",
   "execution_count": null,
   "metadata": {},
   "outputs": [],
   "source": [
    "df_ais['MMSI'].value_counts()"
   ]
  },
  {
   "cell_type": "markdown",
   "metadata": {},
   "source": [
    "Specify minimum length for a trajectory (in meters):\n",
    "- Desired minimum length of trajectories (shorter trajectories are discarded)"
   ]
  },
  {
   "cell_type": "code",
   "execution_count": null,
   "metadata": {},
   "outputs": [],
   "source": [
    "minimum_length = 100"
   ]
  },
  {
   "cell_type": "code",
   "execution_count": null,
   "metadata": {},
   "outputs": [],
   "source": [
    "traj_collection = mpd.TrajectoryCollection(df_ais, 'MMSI', \n",
    "                                           t='t', \n",
    "                                           min_length=minimum_length)"
   ]
  },
  {
   "cell_type": "code",
   "execution_count": null,
   "metadata": {},
   "outputs": [],
   "source": [
    "traj_collection"
   ]
  },
  {
   "cell_type": "markdown",
   "metadata": {},
   "source": [
    "We can plot all the trajectories:"
   ]
  },
  {
   "cell_type": "code",
   "execution_count": null,
   "metadata": {},
   "outputs": [],
   "source": [
    "traj_collection.plot()"
   ]
  },
  {
   "cell_type": "markdown",
   "metadata": {},
   "source": [
    "#### Down-sample the trajectories to ensure a certain time delta between records\n",
    "\n",
    "The goal is to increase the time interval between records."
   ]
  },
  {
   "cell_type": "code",
   "execution_count": null,
   "metadata": {},
   "outputs": [],
   "source": [
    "traj_collection = mpd.MinTimeDeltaGeneralizer(traj_collection).generalize(tolerance=dt.timedelta(minutes=1))"
   ]
  },
  {
   "cell_type": "markdown",
   "metadata": {},
   "source": [
    "Plot the trajectories with colors:"
   ]
  },
  {
   "cell_type": "code",
   "execution_count": null,
   "metadata": {},
   "outputs": [],
   "source": [
    "shiptype_to_color = {'Passenger': 'blue', 'HSC': 'green', 'Tanker': 'red', \n",
    "                     'Cargo': 'orange', 'Sailing': 'grey', 'Other': 'grey', \n",
    "                     'Tug': 'grey', 'SAR': 'grey', 'Undefined': 'grey', \n",
    "                     'Pleasure': 'grey', 'Dredging': 'grey', 'Law enforcement': 'grey',\n",
    "                    'Pilot': 'grey', 'Fishing': 'grey', 'Diving':'grey', 'Spare 2': 'grey'}\n",
    "traj_collection.plot(column='ShipType', \n",
    "                     column_to_color=shiptype_to_color, \n",
    "                     linewidth=1, capstyle='round')"
   ]
  },
  {
   "cell_type": "markdown",
   "metadata": {},
   "source": [
    "Use `hvplot`:"
   ]
  },
  {
   "cell_type": "code",
   "execution_count": null,
   "metadata": {},
   "outputs": [],
   "source": [
    "passenger = traj_collection.filter('ShipType', 'Passenger')\n",
    "passenger.hvplot(title='Passenger ferries', line_width=2, \n",
    "                 frame_width=700, frame_height=500)"
   ]
  },
  {
   "cell_type": "markdown",
   "metadata": {},
   "source": [
    "#### Focus on one trajectory"
   ]
  },
  {
   "cell_type": "code",
   "execution_count": null,
   "metadata": {},
   "outputs": [],
   "source": [
    "len(traj_collection.trajectories)"
   ]
  },
  {
   "cell_type": "code",
   "execution_count": null,
   "metadata": {},
   "outputs": [],
   "source": [
    "id = 5\n",
    "my_traj = traj_collection.trajectories[id]\n",
    "my_traj.df"
   ]
  },
  {
   "cell_type": "code",
   "execution_count": null,
   "metadata": {},
   "outputs": [],
   "source": [
    "my_traj.hvplot(title=f'Trajectory {my_traj.id}', \n",
    "               frame_width=700, frame_height=500, \n",
    "               line_width=5.0, c='NavStatus', cmap='Dark2') "
   ]
  },
  {
   "cell_type": "markdown",
   "metadata": {},
   "source": [
    "### Finding ships passing under a bridge"
   ]
  },
  {
   "cell_type": "code",
   "execution_count": null,
   "metadata": {},
   "outputs": [],
   "source": [
    "area_of_interest = shpgeom.Polygon([(11.89935, 57.69270), (11.90161, 57.68902), \n",
    "                                    (11.90334, 57.68967), (11.90104, 57.69354), \n",
    "                                    (11.89935, 57.69270)])"
   ]
  },
  {
   "cell_type": "code",
   "execution_count": null,
   "metadata": {},
   "outputs": [],
   "source": [
    "intersecting = traj_collection.get_intersecting(area_of_interest)"
   ]
  },
  {
   "cell_type": "code",
   "execution_count": null,
   "metadata": {},
   "outputs": [],
   "source": [
    "print(f\"Found {len(intersecting)} intersections with the bridge\")"
   ]
  },
  {
   "cell_type": "code",
   "execution_count": null,
   "metadata": {},
   "outputs": [],
   "source": [
    "bridge_traj = intersecting.trajectories[0]\n",
    "bridge_traj.hvplot(title=f'Trajectory {bridge_traj.id}', \n",
    "                   line_width=5.0, c='NavStatus', cmap='Dark2')"
   ]
  },
  {
   "cell_type": "code",
   "execution_count": null,
   "metadata": {},
   "outputs": [],
   "source": [
    "bridge_traj.df.head()"
   ]
  },
  {
   "cell_type": "code",
   "execution_count": null,
   "metadata": {},
   "outputs": [],
   "source": []
  },
  {
   "cell_type": "code",
   "execution_count": null,
   "metadata": {},
   "outputs": [],
   "source": []
  },
  {
   "cell_type": "code",
   "execution_count": null,
   "metadata": {},
   "outputs": [],
   "source": []
  },
  {
   "cell_type": "code",
   "execution_count": null,
   "metadata": {
    "id": "Wv3dOk6Frrqn"
   },
   "outputs": [],
   "source": []
  }
 ],
 "metadata": {
  "anaconda-cloud": {},
  "colab": {
   "collapsed_sections": [],
   "name": "introduction_geopandas.ipynb",
   "provenance": []
  },
  "kernelspec": {
   "display_name": "Python 3 (ipykernel)",
   "language": "python",
   "name": "python3"
  },
  "language_info": {
   "codemirror_mode": {
    "name": "ipython",
    "version": 3
   },
   "file_extension": ".py",
   "mimetype": "text/x-python",
   "name": "python",
   "nbconvert_exporter": "python",
   "pygments_lexer": "ipython3",
   "version": "3.11.4"
  }
 },
 "nbformat": 4,
 "nbformat_minor": 4
}
