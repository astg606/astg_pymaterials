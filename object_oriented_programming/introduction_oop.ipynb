{
 "cells": [
  {
   "cell_type": "markdown",
   "metadata": {
    "slideshow": {
     "slide_type": "slide"
    }
   },
   "source": [
    "<center>\n",
    "<table>\n",
    "  <tr>\n",
    "    <td><img src=\"https://portal.nccs.nasa.gov/datashare/astg/training/python/logos/nasa-logo.svg\" width=\"100\"/> </td>\n",
    "     <td><img src=\"https://portal.nccs.nasa.gov/datashare/astg/training/python/logos/ASTG_logo.png?raw=true\" width=\"80\"/> </td>\n",
    "     <td> <img src=\"https://www.nccs.nasa.gov/sites/default/files/NCCS_Logo_0.png\" width=\"130\"/> </td>\n",
    "    </tr>\n",
    "</table>\n",
    "</center>\n",
    "\n",
    "        \n",
    "<center>\n",
    "<h1><font color= \"blue\" size=\"+3\">ASTG Python Courses</font></h1>\n",
    "</center>\n",
    "\n",
    "---\n",
    "\n",
    "<CENTER>\n",
    "<H1 style=\"color:red\">\n",
    "Introduction to Object Oriented Programming (OOP)\n",
    "</H1>\n",
    "</CENTER>\n"
   ]
  },
  {
   "cell_type": "markdown",
   "metadata": {},
   "source": [
    "---"
   ]
  },
  {
   "cell_type": "markdown",
   "metadata": {
    "slideshow": {
     "slide_type": "slide"
    }
   },
   "source": [
    "## Goals\n",
    "\n",
    "We want to:\n",
    "\n",
    "- Define Object-Oriented Programming (OOP) and compare it with Functional Programming\n",
    "- Present the basic concepts of OOP\n",
    "- Show how OOP works in Python"
   ]
  },
  {
   "cell_type": "markdown",
   "metadata": {},
   "source": [
    "## <font color=\"red\"> Functional Programming (FP) vs. OOP</font>\n",
    "\n",
    "- Both OOP and FP have the shared goal of creating understandable, flexible programs that are free of bugs. \n",
    "- They have two different approaches for how to best create those programs.\n",
    "- In all programs, there are two primary components: the data (the stuff a program knows) and the behaviors (the stuff a program can do to/with that data)."
   ]
  },
  {
   "cell_type": "markdown",
   "metadata": {
    "slideshow": {
     "slide_type": "slide"
    }
   },
   "source": [
    "### Functional Programming \n",
    "\n",
    "> Functional programming is a programming paradigm, a style of building the structure and elements of computer programs, that treats computation as the evaluation of mathematical functions and avoids changing-state and mutable data -- <a href=\" https://en.wikipedia.org/wiki/Functional_programming\"> Wikipedia</a>\n",
    "\n",
    "\n",
    "![fig_func](https://files.cloudreports.net/2019/06/Function_machine2.png)\n",
    "Image Source: cloudreports.net\n",
    "\n",
    "\n",
    "- In functional programming is a complete separation between the data of a program, and the behaviors of a program.\n",
    "- Nothing changed by the function, no internal variables altered that will result a future call of the same function dealing with different values.\n",
    "- Codes are sequences of function calls that operate on data.\n",
    "\n",
    "![fig_FP](https://miro.medium.com/max/700/1*1yVFdiXsp3u40OZfCrG14A.png)\n",
    "Image Source: miro.medium.com"
   ]
  },
  {
   "cell_type": "markdown",
   "metadata": {
    "slideshow": {
     "slide_type": "slide"
    }
   },
   "source": [
    "### Object-Oriented Programming\n",
    "\n",
    "> Object-oriented programming (OOP) is a programming paradigm based on the concept of \"objects\", which are data structures that contain data, in the form of fields, often known as attributes; and code, in the form of procedures, often known as methods --  <a href=\"en.wikipedia.org/wiki/Object-oriented_programming\"> Wikipedia </a>\n",
    "\n",
    "- Combine  data and its associated behavior in a single location (called an “object”).\n",
    "- Objects are instances of a class, and are seen as individual entities which interact with each other.\n",
    "- Rather than being static data, class <i>instances</i> contain variables (called <i>attributes</i>), as well as functions (or <i>methods</i>)"
   ]
  },
  {
   "cell_type": "markdown",
   "metadata": {
    "slideshow": {
     "slide_type": "slide"
    }
   },
   "source": [
    "## Advantages of OOP\n",
    "\n",
    "\n",
    "- Encapsulation hides implementation details so you can forget more\n",
    "- Code is organized intuitively\n",
    "- Reuse is straightforward\n",
    "- Modularity forces good programming habits\n",
    "\n",
    "\n",
    "Pure object oriented is usually stated to have four ingredients:\n",
    "\n",
    "+ **Polymorphism**: Process of using an operator or function in different ways for different data input.\n",
    "+ **Encapsulation**: Hides the implementation details of a class from other objects.\n",
    "+ **Inheritance**: A way to form new classes using classes that have already been defined.  \n",
    "+ **Abstraction**: Hides internal details and show only functionalities.\n",
    "\n",
    "\n",
    "![fig_oop](https://readdive.com/wp-content/uploads/2020/10/Object-Oriented-Programming.png)\n",
    "Image Source: readdive.com/"
   ]
  },
  {
   "cell_type": "markdown",
   "metadata": {},
   "source": [
    "### Comparison Table Between Functional Programming vs OOP\n",
    "\n",
    "| BASIS FOR COMPARISON | Functional Programming\t| OOP |\n",
    "| :--- | :--- | :--- | \n",
    "| Definition\t| Emphasizes an evaluation of functions.\t| Is based on a concept of objects. | \n",
    "| Data\t| Uses immutable data.\t| Uses the mutable data. | \n",
    "| Model\t| Follows a declarative programming model.\t| Follows an imperative programming model. | \n",
    "| Support\t| Parallel programming is supported.\t| Does not support parallel programming. | \n",
    "| Execution\t| Statements can be executed in any order. | \tStatements should be executed in particular order. | \n",
    "| Iteration\t| Recursion is used for iterative data.\t| Loops are used for iterative data. | \n",
    "| Element\t| The basic elements are Variables and Functions.\t| The basic elements are objects and methods. | \n",
    "| Use\t| Is used only when there are few things with more operations.\t| Is used when there are many things with few operations. | \n",
    "\n",
    "Source: www.educba.com"
   ]
  },
  {
   "cell_type": "markdown",
   "metadata": {},
   "source": [
    "### <font color=\"green\"> Everything in Python is an Object!</font>\n",
    "- Each entity (a number, a function, a module, etc.) has some metadata (called attributes) and associated functionality (called methods). \n",
    "     - Here we do not include keywords such as `for`, `if`, `def`, etc.\n",
    "- Every variable is an instance of a class, and not just values in memory.\n",
    "- Everything is an object in the sense that it can be assigned to a variable or passed as an argument to a function.\n",
    "\n",
    "**Examples:**"
   ]
  },
  {
   "cell_type": "code",
   "execution_count": null,
   "metadata": {},
   "outputs": [],
   "source": [
    "x = 10\n",
    "print(type(x))"
   ]
  },
  {
   "cell_type": "code",
   "execution_count": null,
   "metadata": {},
   "outputs": [],
   "source": [
    "y = 10.5\n",
    "print(type(y))"
   ]
  },
  {
   "cell_type": "code",
   "execution_count": null,
   "metadata": {},
   "outputs": [],
   "source": [
    "z = \"OOP\"\n",
    "print(type(z))"
   ]
  },
  {
   "cell_type": "code",
   "execution_count": null,
   "metadata": {},
   "outputs": [],
   "source": [
    "w = [10, (20, 30), \"Python\"]\n",
    "print(type(w))"
   ]
  },
  {
   "cell_type": "code",
   "execution_count": null,
   "metadata": {},
   "outputs": [],
   "source": [
    "def func(x, y):\n",
    "    return x+y\n",
    "print(type(func))"
   ]
  },
  {
   "cell_type": "code",
   "execution_count": null,
   "metadata": {},
   "outputs": [],
   "source": [
    "import math\n",
    "print(type(math))"
   ]
  },
  {
   "cell_type": "markdown",
   "metadata": {},
   "source": [
    "## <font color=\"red\">Definitions</font>\n",
    "\n",
    "**Classes**\n",
    "* Classes in Python are used to create new user-defined data structures that contain:\n",
    "  1. **Data** in the form of **variables**, a.k.a. **\"attributes\"**, and\n",
    "  2. **Functions**, a.k.a. **\"methods\"**\n",
    "\n",
    "**Objects**\n",
    "* Objects are the instances created from the class.  \n",
    "* An instance is the specific object created from a particular class. \n",
    "* You can create as many objects as you want from one class. \n",
    "* It has classes’ methods and properties. \n",
    "\n",
    "**Instance Methods**\n",
    "* Function that is associated with an object.\n",
    "* When you define any method in a class, you will have to provide at least the argument called `self`.\n",
    "* `self` is the default argument to any instances methods. \n",
    "* You do not need to provide any argument at the time of calling that function, but the argument is required when you define that function inside that class."
   ]
  },
  {
   "cell_type": "markdown",
   "metadata": {
    "slideshow": {
     "slide_type": "slide"
    }
   },
   "source": [
    "### Python Class Definition Syntax\n",
    "\n",
    "```python\n",
    "class ClassName[(BaseClasses)]:\n",
    "    \"\"\"\n",
    "      [Documentation String]\n",
    "    \"\"\"\n",
    "    \n",
    "    # Executed only when class is defined\n",
    "    [Statement1]     \n",
    "    [Statement2]\n",
    "    ...\n",
    "    \n",
    "    # Class 'global' variables can be defined here\n",
    "    [Variable1]\n",
    "\n",
    "    # Performs task 1 \n",
    "    def Method1(self, args, kwargs={}):\n",
    "    \n",
    "    # Performs task 2      \n",
    "    def Method2(self, args, kwargs={}):\n",
    "        \n",
    "    ...\n",
    "```"
   ]
  },
  {
   "cell_type": "markdown",
   "metadata": {},
   "source": [
    "## <font color=\"red\"> When should I write my own classes?</font>\n",
    "* When you have some functions that are passing one or more parameters around\n",
    "* When you have some functions that need to access the same \"state\" information\n",
    "* When you are developing a Graphical User Interface (GUI)\n",
    "* When you need to represent and process some highly structured data, e.g.:\n",
    "  - a document or web page\n",
    "  - data about a real-world \"thing\" (either man-made or natural)"
   ]
  },
  {
   "cell_type": "markdown",
   "metadata": {
    "slideshow": {
     "slide_type": "slide"
    }
   },
   "source": [
    "## <font color=\"red\">Class Creation</font>\n",
    "\n",
    "Solar system planets: [https://solarsystem.nasa.gov/planets/overview/](https://solarsystem.nasa.gov/planets/overview/)\n",
    "\n",
    "> Our solar system consists of our star, the Sun, and everything bound to it by gravity — the planets Mercury, Venus, Earth, Mars, Jupiter, Saturn, Uranus and Neptune, dwarf planets such as Pluto, dozens of moons and millions of asteroids, comets and meteoroids.\n",
    "\n",
    "### Smarter than the average var(iable)\n",
    "\n",
    "<img style=\"float: left\" src=\"https://apod.nasa.gov/apod/image/0608/planets_iau_big.jpg\" width=\"55%\">\n",
    "\n",
    "<i>Characteristics</i> --> Name, Number of Moons\n",
    "<p class=\"gap05\"<p>\n",
    "<i>Does Things</i> --> Zip, Spin\n",
    "<p class=\"gap05\"<p>\n",
    "<i>Interaction</i> --> Parent, Moons<p class=\"gap05\"<p>"
   ]
  },
  {
   "cell_type": "markdown",
   "metadata": {
    "slideshow": {
     "slide_type": "slide"
    }
   },
   "source": [
    "The \"blueprint\" class for planet:\n",
    "<p class=\"object\">\n",
    "<b><u>Planet:</u></b><br>\n",
    "- Attributes: name, distance from sun, number of moons<br>\n",
    "- Methods: zip(), spin()\n",
    "</p>"
   ]
  },
  {
   "cell_type": "markdown",
   "metadata": {
    "slideshow": {
     "slide_type": "slide"
    }
   },
   "source": [
    "Two <i>instances</i> of planets:\n",
    "\n",
    "<p class=\"instance\">\n",
    "<b>Mercury:</b><br>\n",
    "- Attributes: \"Mercury\", 36 million miles away from the sun, no moon<br>\n",
    "- Methods: zip(), spin()\n",
    "</p>\n",
    "\n",
    "<p class=\"instance\">\n",
    "<b>Neptune:</b><br>\n",
    "- Attributes: \"Neptune\", 2.8 billion miles away from the sun, 14 known moons<br>\n",
    "- Methods: zip(), spin()\n",
    "</p>\n",
    "\n",
    "![fig_objects](https://www.kirupa.com/html5/images/planet_class_objects2.png)\n",
    "Image Source: kirupa.com\n"
   ]
  },
  {
   "cell_type": "markdown",
   "metadata": {},
   "source": [
    "### <font color=\"blue\">Simple Planet Class, Attributes and Methods</font>"
   ]
  },
  {
   "cell_type": "markdown",
   "metadata": {},
   "source": [
    "**Create a Class**"
   ]
  },
  {
   "cell_type": "code",
   "execution_count": null,
   "metadata": {},
   "outputs": [],
   "source": [
    "class SolarPlanet:\n",
    "    \"\"\"\n",
    "    My first class.\n",
    "    \"\"\"\n",
    "    print(\"The planet class is now created.\")"
   ]
  },
  {
   "cell_type": "markdown",
   "metadata": {},
   "source": [
    "**Instantiating Objects**\n",
    "\n",
    "This is not generally useful: we don't often reference the class itself"
   ]
  },
  {
   "cell_type": "code",
   "execution_count": null,
   "metadata": {},
   "outputs": [],
   "source": [
    "a = SolarPlanet\n",
    "print(a)"
   ]
  },
  {
   "cell_type": "markdown",
   "metadata": {},
   "source": [
    "That is more like it! This creates a new *instance* of the class."
   ]
  },
  {
   "cell_type": "code",
   "execution_count": null,
   "metadata": {},
   "outputs": [],
   "source": [
    "a = SolarPlanet() \n",
    "print(type(a))"
   ]
  },
  {
   "cell_type": "code",
   "execution_count": null,
   "metadata": {},
   "outputs": [],
   "source": [
    "print(a)"
   ]
  },
  {
   "cell_type": "markdown",
   "metadata": {},
   "source": [
    "**Adding Attributes**\n",
    "- We can add attributes to the instance on-the-fly"
   ]
  },
  {
   "cell_type": "code",
   "execution_count": null,
   "metadata": {},
   "outputs": [],
   "source": [
    "a.name  = \"Saturn\"     \n",
    "a.distance = \"886 million miles\"      "
   ]
  },
  {
   "cell_type": "code",
   "execution_count": null,
   "metadata": {},
   "outputs": [],
   "source": [
    "print(a.name) "
   ]
  },
  {
   "cell_type": "markdown",
   "metadata": {},
   "source": [
    "You can find out what is happening internally: \n",
    "- The instances possess dictionaries `__dict__`, which they use to store their attributes and their corresponding values."
   ]
  },
  {
   "cell_type": "code",
   "execution_count": null,
   "metadata": {},
   "outputs": [],
   "source": [
    "a.__dict__"
   ]
  },
  {
   "cell_type": "markdown",
   "metadata": {},
   "source": [
    "What happens if you what to access an attribute that does not exist?"
   ]
  },
  {
   "cell_type": "code",
   "execution_count": null,
   "metadata": {},
   "outputs": [],
   "source": [
    "a.number_moons"
   ]
  },
  {
   "cell_type": "markdown",
   "metadata": {},
   "source": [
    "By using the function `getattr`, you can prevent this exception, if you provide a default value as the third argument:"
   ]
  },
  {
   "cell_type": "code",
   "execution_count": null,
   "metadata": {},
   "outputs": [],
   "source": [
    "default_number_moons = 53\n",
    "getattr(a, 'number_moons', default_number_moons)"
   ]
  },
  {
   "cell_type": "code",
   "execution_count": null,
   "metadata": {},
   "outputs": [],
   "source": [
    "a.number_moons"
   ]
  },
  {
   "cell_type": "markdown",
   "metadata": {},
   "source": [
    "The `setattr` function allows us to set the value of an attribute."
   ]
  },
  {
   "cell_type": "code",
   "execution_count": null,
   "metadata": {},
   "outputs": [],
   "source": [
    "setattr(a, 'number_moons', default_number_moons)"
   ]
  },
  {
   "cell_type": "code",
   "execution_count": null,
   "metadata": {},
   "outputs": [],
   "source": [
    "a.number_moons"
   ]
  },
  {
   "cell_type": "code",
   "execution_count": null,
   "metadata": {},
   "outputs": [],
   "source": [
    "getattr(a, 'number_moons', 82)"
   ]
  },
  {
   "cell_type": "markdown",
   "metadata": {},
   "source": [
    "We can use the function `hasattr` to find out if an attribute exists:"
   ]
  },
  {
   "cell_type": "code",
   "execution_count": null,
   "metadata": {},
   "outputs": [],
   "source": [
    "hasattr(a, 'num_years_to_orbit_sun')"
   ]
  },
  {
   "cell_type": "code",
   "execution_count": null,
   "metadata": {},
   "outputs": [],
   "source": [
    "if not hasattr(a, 'num_years_to_orbit_sun'):\n",
    "    setattr(a, 'num_years_to_orbit_sun', 29)\n",
    "\n",
    "a.__dict__"
   ]
  },
  {
   "cell_type": "markdown",
   "metadata": {},
   "source": [
    "What happens if we create a new instance of the class?"
   ]
  },
  {
   "cell_type": "code",
   "execution_count": null,
   "metadata": {},
   "outputs": [],
   "source": [
    "b = SolarPlanet()\n",
    "b.__dict__"
   ]
  },
  {
   "cell_type": "markdown",
   "metadata": {},
   "source": [
    "**Adding Methods**"
   ]
  },
  {
   "cell_type": "code",
   "execution_count": null,
   "metadata": {},
   "outputs": [],
   "source": [
    "class SolarPlanet:\n",
    "    \"\"\"\n",
    "    Class with an instance method.\n",
    "    \"\"\"\n",
    "    print(\"The planet class is now created.\")\n",
    "    \n",
    "    # Instance method\n",
    "    def say_hello(self):\n",
    "        print(\"Hello, world! I am a planet.\")"
   ]
  },
  {
   "cell_type": "code",
   "execution_count": null,
   "metadata": {},
   "outputs": [],
   "source": [
    "a = SolarPlanet()\n",
    "a.say_hello()"
   ]
  },
  {
   "cell_type": "markdown",
   "metadata": {},
   "source": [
    "**Constructor**\n",
    "\n",
    "+ The `__init__()` method is a special method automatically called when a new instance is created. It can specify necessary initialization parameters.\n",
    "+ `self` is a special identifier used inside a method to refer to the particular instance of the class. \n",
    "+ `self` is not explicitly passed in when accessed through an object instance; Python takes care of that bookkeeping."
   ]
  },
  {
   "cell_type": "code",
   "execution_count": null,
   "metadata": {},
   "outputs": [],
   "source": [
    "class SolarPlanet:\n",
    "    \"\"\"\n",
    "    Create a class Planet with a constructor and \n",
    "    an instance method.\n",
    "    \"\"\"\n",
    "    print(\"The planet class is now created.\")\n",
    "    \n",
    "    # Initializer / Instance Attributes\n",
    "    def __init__(self, name):\n",
    "        self.name = name\n",
    "        print(\"A planet is added.\")\n",
    "    \n",
    "    # Instance method\n",
    "    def say_hello(self):\n",
    "        print(\"Hello, world! I am a planet.\")\n",
    "        print(f\"My name is {self.name}.\")"
   ]
  },
  {
   "cell_type": "markdown",
   "metadata": {},
   "source": [
    "Can I create an instance this way?"
   ]
  },
  {
   "cell_type": "code",
   "execution_count": null,
   "metadata": {},
   "outputs": [],
   "source": [
    "b = SolarPlanet()"
   ]
  },
  {
   "cell_type": "markdown",
   "metadata": {},
   "source": [
    "We need to provide the `name`:"
   ]
  },
  {
   "cell_type": "code",
   "execution_count": null,
   "metadata": {},
   "outputs": [],
   "source": [
    "b = SolarPlanet(\"Saturn\")"
   ]
  },
  {
   "cell_type": "code",
   "execution_count": null,
   "metadata": {},
   "outputs": [],
   "source": [
    "b.say_hello()"
   ]
  },
  {
   "cell_type": "markdown",
   "metadata": {},
   "source": [
    "**To see all the attributes and methods of an object, the built-in `dir()` function can be used.**"
   ]
  },
  {
   "cell_type": "code",
   "execution_count": null,
   "metadata": {},
   "outputs": [],
   "source": [
    "dir(a)"
   ]
  },
  {
   "cell_type": "code",
   "execution_count": null,
   "metadata": {},
   "outputs": [],
   "source": [
    "dir(b)"
   ]
  },
  {
   "cell_type": "markdown",
   "metadata": {},
   "source": [
    "### <font color=\"blue\">Global Class Variables versus Object Instance Attributes </font>\n",
    "\n",
    "**Class variables** \n",
    "* Are shared - they can be accessed by all instances of that class. \n",
    "* There is only one copy of the class variable and when any one object makes a change to a class variable, that change will be seen by all the other instances.\n",
    "\n",
    "**Object variables** \n",
    "* Are owned by each individual object/instance of the class. \n",
    "* Each object has its own copy of the field i.e. they are not shared and are not related in any way to the field by the same name in a different instance."
   ]
  },
  {
   "cell_type": "code",
   "execution_count": null,
   "metadata": {},
   "outputs": [],
   "source": [
    "class SolarPlanet:\n",
    "    \"\"\"\n",
    "    Create a class with a class variable and an object variable.\n",
    "    \"\"\"\n",
    "    \n",
    "    # Class Attribute\n",
    "    population = 0\n",
    "    \n",
    "    # Initializer / Instance Attributes\n",
    "    def __init__(self, name):\n",
    "        self.name = name\n",
    "        \n",
    "        # Increment the 'global' census counter, a class attribute\n",
    "        SolarPlanet.population += 1 \n",
    "        \n",
    "        # Copy the current number to our own object attribute\n",
    "        self.number = SolarPlanet.population \n",
    "    \n",
    "    # Instance method\n",
    "    def say_hello(self):\n",
    "        print(f'I am planet #{self.number}/{SolarPlanet.population}. My name is {self.name}.')"
   ]
  },
  {
   "cell_type": "code",
   "execution_count": null,
   "metadata": {},
   "outputs": [],
   "source": [
    "a = SolarPlanet(\"Mars\")\n",
    "a.say_hello()"
   ]
  },
  {
   "cell_type": "code",
   "execution_count": null,
   "metadata": {},
   "outputs": [],
   "source": [
    "b = SolarPlanet(\"Earth\")\n",
    "b.say_hello()\n",
    "a.say_hello()"
   ]
  },
  {
   "cell_type": "markdown",
   "metadata": {},
   "source": [
    "Note the interesting and useful dynamic behavior: Mars's `say_hello()` method knows about other planet(s)."
   ]
  },
  {
   "cell_type": "markdown",
   "metadata": {},
   "source": [
    "### <font color=\"blue\">Calling a Class Method \"Globally\" with an Explicit Instance </font>\n",
    "- We can call a class 'directly' with an explicit reference to an object"
   ]
  },
  {
   "cell_type": "code",
   "execution_count": null,
   "metadata": {},
   "outputs": [],
   "source": [
    "c = SolarPlanet(\"Jupiter\")\n",
    "Planet.say_hello(c)"
   ]
  },
  {
   "cell_type": "markdown",
   "metadata": {},
   "source": [
    "**An Example**\n",
    "- You study the solar system planets.\n",
    "- You want to determine the total number of moons  moving around the planets.\n",
    "- Assume that you have three planets: `Mars`, `Earth` and `Jupiter`."
   ]
  },
  {
   "cell_type": "code",
   "execution_count": null,
   "metadata": {},
   "outputs": [],
   "source": [
    "class SolarPlanet:\n",
    "    \"\"\"\n",
    "    Create a class with class variables and object variables.\n",
    "    \"\"\"\n",
    "    \n",
    "    moon_population = 0\n",
    "    planet_population = 0\n",
    "    \n",
    "    def __init__(self, name, num_moons):\n",
    "        self.name = name\n",
    "        self.num_moons = num_moons   \n",
    "        SolarPlanet.moon_population += num_moons\n",
    "        SolarPlanet.planet_population += 1\n",
    "        self.index = SolarPlanet.planet_population\n",
    "        \n",
    "    def count_objects(self):\n",
    "        print(f'Planet #{self.index}/{SolarPlanet.planet_population} with name {self.name}.')\n",
    "        print(f'{SolarPlanet.moon_population} moons with {SolarPlanet.planet_population} planets.')"
   ]
  },
  {
   "cell_type": "code",
   "execution_count": null,
   "metadata": {},
   "outputs": [],
   "source": [
    "a = SolarPlanet(\"Mars\", 2)\n",
    "a.count_objects()"
   ]
  },
  {
   "cell_type": "code",
   "execution_count": null,
   "metadata": {},
   "outputs": [],
   "source": [
    "b = SolarPlanet(\"Earth\", 1)\n",
    "b.count_objects()"
   ]
  },
  {
   "cell_type": "code",
   "execution_count": null,
   "metadata": {},
   "outputs": [],
   "source": [
    "c = SolarPlanet(\"Jupiter\", 75)\n",
    "c.count_objects()"
   ]
  },
  {
   "cell_type": "markdown",
   "metadata": {},
   "source": [
    "Class instances in Python can be treated like any other data type:\n",
    "- They can be assigned to other variables, put in lists, iterated over, etc."
   ]
  },
  {
   "cell_type": "code",
   "execution_count": null,
   "metadata": {},
   "outputs": [],
   "source": [
    "my_planets = [a, b, c]"
   ]
  },
  {
   "cell_type": "code",
   "execution_count": null,
   "metadata": {},
   "outputs": [],
   "source": [
    "total_moons = 0\n",
    "for z in my_planets:\n",
    "    total_moons += z.num_moons\n",
    "\n",
    "print(f\"The Total Number of Moons: {total_moons}.\")"
   ]
  },
  {
   "cell_type": "markdown",
   "metadata": {},
   "source": [
    "### <font color=\"blue\">Initial Summary</font>\n",
    "\n",
    "We have learned the following on OOP:\n",
    "+ Objects & Classes\n",
    "+ Attributes as objects’ data\n",
    "+ Methods as objects’ behavior"
   ]
  },
  {
   "cell_type": "markdown",
   "metadata": {
    "slideshow": {
     "slide_type": "slide"
    }
   },
   "source": [
    "## <font color=\"green\"> Breakout Problem 1</font>\n",
    "\n",
    "<img src=http://www.analyzemath.com/Geometry_calculators/irregular_polygon_1.gif>\n",
    "\n",
    "Calculate the perimeter (and, if you are up for it, the area) of a polygon provided the vector coordinates (in order) of its N vertices. Hint: Sum over distance between adjacent points, where d =\n",
    "math.sqrt( $ \\delta x^2 + \\delta y^2 $) ."
   ]
  },
  {
   "cell_type": "markdown",
   "metadata": {},
   "source": [
    "```python\n",
    "a = Polygon([[0,0], [0,1], [1,1], [1,0]])\n",
    "a.perimeter()\n",
    "  4.0\n",
    "a.area()\n",
    "  1.0\n",
    "b = Polygon([[0,-2],[1,1],[3,3],[5,1],[4,0],[4,-3]])\n",
    "b.perimeter()\n",
    "  17.356451097651515\n",
    "```"
   ]
  },
  {
   "cell_type": "code",
   "execution_count": null,
   "metadata": {},
   "outputs": [],
   "source": [
    "%matplotlib inline\n",
    "import matplotlib.pyplot as plt\n",
    "\n",
    "def plot_polygon(coord):\n",
    "    #coord = [[0,-2],[1,1],[3,3],[5,1],[4,0],[4,-3]]\n",
    "    coord.append(coord[0]) #repeat the first point to create a 'closed loop'\n",
    "\n",
    "    xs, ys = zip(*coord) #create lists of x and y values\n",
    "\n",
    "    plt.figure()\n",
    "    plt.plot(xs,ys) \n",
    "    plt.show()\n",
    "\n",
    "coord = [[0,-2],[1,1],[3,3],[5,1],[4,0],[4,-3]]\n",
    "plot_polygon(coord)"
   ]
  },
  {
   "cell_type": "markdown",
   "metadata": {},
   "source": [
    "<details><summary><b><font color=\"green\">Click here to access the solution</font></b></summary>\n",
    "<p>\n",
    "\n",
    "```python\n",
    "import math\n",
    "\n",
    "class Polygon:\n",
    "    def __init__(self, list_points):\n",
    "        \"\"\"\n",
    "        list_points: list of lists where the innner lists are\n",
    "                    pairs of floating point numbers.\n",
    "        \"\"\"\n",
    "        self.points = list_points\n",
    "\n",
    "    def perimeter(self):\n",
    "        \"\"\"\n",
    "        Compute the perimeter of a polygon.\n",
    "        \"\"\"\n",
    "        p = 0.0\n",
    "        n = -4\n",
    "        for i in range(n, len(self.points)+n):\n",
    "            print(i, self.points[i], self.points[i+1])\n",
    "            p += math.sqrt((self.points[i][0]-self.points[i+1][0])**2 + \n",
    "                  (self.points[i][1]-self.points[i+1][1])**2)\n",
    "        return p\n",
    "\n",
    "a = Polygon(((0,0), (0,1), (1,1), (1,0)))\n",
    "a.perimeter()\n",
    "\n",
    "b = Polygon([[0,-2],[1,1],[3,3],[5,1],[4,0],[4,-3]])\n",
    "b.perimeter()\n",
    "```\n",
    "    \n",
    "</p>\n",
    "</details>"
   ]
  },
  {
   "cell_type": "markdown",
   "metadata": {},
   "source": [
    "## <font color=\"red\">Encapsulation: Hiding Information</font>\n",
    "\n",
    "+ Encapsulation is a mechanism that restricts direct access to objects’ data and methods. \n",
    "+ All internal representation of an object is hidden from the outside. \n",
    "+ Only the object can interact with its internal data.\n",
    "+ At the same time, it facilitates operation on that data only through a well-defined interface (objects’ methods).\n",
    "    + The internal state of an object is not directly accessible from outside the object, and can only be modified or accessed through the object’s methods."
   ]
  },
  {
   "cell_type": "markdown",
   "metadata": {},
   "source": [
    "### <font color=\"blue\">Public Instance Variables</font>\n",
    "\n",
    "* We can initialize a `public instance` variable within our constructor method. "
   ]
  },
  {
   "cell_type": "code",
   "execution_count": null,
   "metadata": {},
   "outputs": [],
   "source": [
    "class SolarPlanet:   \n",
    "    \"\"\"\n",
    "    Create a class with a public instance variable.\n",
    "    \"\"\"\n",
    "    def __init__(self, name):\n",
    "        self.name = name"
   ]
  },
  {
   "cell_type": "markdown",
   "metadata": {},
   "source": [
    "Here we apply the `name` value as an argument to the `public instance variable`."
   ]
  },
  {
   "cell_type": "code",
   "execution_count": null,
   "metadata": {},
   "outputs": [],
   "source": [
    "a = SolarPlanet(\"Mars\")\n",
    "print(a.name)"
   ]
  },
  {
   "cell_type": "markdown",
   "metadata": {},
   "source": [
    "Within the class:"
   ]
  },
  {
   "cell_type": "code",
   "execution_count": null,
   "metadata": {},
   "outputs": [],
   "source": [
    "class SolarPlanet: \n",
    "    name = \"Mars\""
   ]
  },
  {
   "cell_type": "markdown",
   "metadata": {},
   "source": [
    "Here, we do not need to apply the `name` as an argument, and all instance objects will have a `class attribute` initialized with `Mars`."
   ]
  },
  {
   "cell_type": "code",
   "execution_count": null,
   "metadata": {},
   "outputs": [],
   "source": [
    "a = SolarPlanet()\n",
    "print(a.name)"
   ]
  },
  {
   "cell_type": "markdown",
   "metadata": {},
   "source": [
    "+ We have now learned that we can use `public instance variables` and `class attributes`. \n",
    "+ Another interesting thing about the `public` part is that we can manage the variable value.  \n",
    "+ Our `object` can manage its variable value: Get and Set variable values."
   ]
  },
  {
   "cell_type": "markdown",
   "metadata": {},
   "source": [
    "Keeping the `Planet` class in mind, we want to set another value to its `name` variable:"
   ]
  },
  {
   "cell_type": "code",
   "execution_count": null,
   "metadata": {},
   "outputs": [],
   "source": [
    "a = SolarPlanet()\n",
    "a.name = \"Jupiter\"\n",
    "print(a.name)"
   ]
  },
  {
   "cell_type": "markdown",
   "metadata": {},
   "source": [
    "+ We just set another value (`Jupiter`) to the `name` instance variable and it updated the value.  "
   ]
  },
  {
   "cell_type": "code",
   "execution_count": null,
   "metadata": {},
   "outputs": [],
   "source": [
    "b = SolarPlanet()\n",
    "print(b.name)"
   ]
  },
  {
   "cell_type": "markdown",
   "metadata": {},
   "source": [
    "### <font color=\"blue\">Private Instance Variable</font>\n",
    "\n",
    "+ We can define the `private instance variable` both within the constructor method or within the class. \n",
    "+ The syntax difference is: for `private instance variables`, use a double underscore (`__`) before the `variable` name."
   ]
  },
  {
   "cell_type": "code",
   "execution_count": null,
   "metadata": {},
   "outputs": [],
   "source": [
    "class SolarPlanet:\n",
    "    \"\"\"\n",
    "    Create a class with a private instance variable.\n",
    "    \"\"\"\n",
    "    def __init__(self, name, num_moons):\n",
    "        self.name = name\n",
    "        self.__num_moons = num_moons   "
   ]
  },
  {
   "cell_type": "markdown",
   "metadata": {},
   "source": [
    "Did you see the `num_moons` variable? This is how we define a `private` variable:"
   ]
  },
  {
   "cell_type": "code",
   "execution_count": null,
   "metadata": {},
   "outputs": [],
   "source": [
    "a = SolarPlanet(\"Jupiter\", 75)\n",
    "print(a.__num_moons)"
   ]
  },
  {
   "cell_type": "markdown",
   "metadata": {},
   "source": [
    "+ <font color=\"red\">**It we want to access and update `num_moons`, we need to use a method that allows us to do it inside our class definition.**</font>\n",
    "\n",
    "Let us implement two methods (`num_moons` and `update_num_moons`) to understand it:"
   ]
  },
  {
   "cell_type": "code",
   "execution_count": null,
   "metadata": {},
   "outputs": [],
   "source": [
    "class SolarPlanet:\n",
    "    \"\"\"\n",
    "    Create a class with a private instance variable and \n",
    "    methods to manipulate it.\n",
    "    \"\"\"\n",
    "    def __init__(self, name, num_moons):\n",
    "        self.name = name\n",
    "        self.__num_moons = num_moons \n",
    "        \n",
    "    def set_num_moons(self, new_num_moons):\n",
    "        self.__num_moons = new_num_moons \n",
    "\n",
    "    def get_num_moons(self):\n",
    "        return self.__num_moons"
   ]
  },
  {
   "cell_type": "markdown",
   "metadata": {},
   "source": [
    "Now we can update and access `private variables using` those methods."
   ]
  },
  {
   "cell_type": "code",
   "execution_count": null,
   "metadata": {},
   "outputs": [],
   "source": [
    "# Saturn has 53 known moons\n",
    "c = SolarPlanet(\"Saturn\", 53)"
   ]
  },
  {
   "cell_type": "code",
   "execution_count": null,
   "metadata": {},
   "outputs": [],
   "source": [
    "print(c.__dict__)"
   ]
  },
  {
   "cell_type": "code",
   "execution_count": null,
   "metadata": {},
   "outputs": [],
   "source": [
    "print(c.get_num_moons())"
   ]
  },
  {
   "cell_type": "code",
   "execution_count": null,
   "metadata": {},
   "outputs": [],
   "source": [
    "# There are 29 moons awaiting confirmation of their confirmation\n",
    "c.__num_moons = 82\n",
    "print(c.get_num_moons())"
   ]
  },
  {
   "cell_type": "code",
   "execution_count": null,
   "metadata": {},
   "outputs": [],
   "source": [
    "print(c.__dict__)"
   ]
  },
  {
   "cell_type": "code",
   "execution_count": null,
   "metadata": {},
   "outputs": [],
   "source": [
    "c.set_num_moons(82)\n",
    "print(c.get_num_moons())"
   ]
  },
  {
   "cell_type": "markdown",
   "metadata": {},
   "source": [
    "### <font color=\"blue\">Public Method</font>\n",
    "\n",
    "With `public methods`, we can also use them out of our class:"
   ]
  },
  {
   "cell_type": "code",
   "execution_count": null,
   "metadata": {},
   "outputs": [],
   "source": [
    "class SolarPlanet:\n",
    "    \"\"\"\n",
    "    Create a class with a public method.\n",
    "    \"\"\"\n",
    "    def __init__(self, name, num_moons):\n",
    "        self.name = name\n",
    "        self._num_moons = num_moons \n",
    "\n",
    "    def show_num_moons(self):\n",
    "        return self._num_moons"
   ]
  },
  {
   "cell_type": "code",
   "execution_count": null,
   "metadata": {},
   "outputs": [],
   "source": [
    "a = SolarPlanet(\"Saturn\", 82)\n",
    "print(a.show_num_moons())"
   ]
  },
  {
   "cell_type": "markdown",
   "metadata": {},
   "source": [
    "### <font color=\"blue\">Private Method</font>\n",
    "\n",
    "+ With a `private method` we are not able to access directly a `private instance variable`. \n",
    "+ Let’s implement the same `Planet` class, but now with a `show_num_moons` `private method` using a double underscore (`__`)."
   ]
  },
  {
   "cell_type": "code",
   "execution_count": null,
   "metadata": {},
   "outputs": [],
   "source": [
    "class SolarPlanet:\n",
    "    \"\"\"\n",
    "    Create a class with a private instance method.\n",
    "    \"\"\"\n",
    "    # Initializer / Instance Attributes\n",
    "    def __init__(self, name, num_moons):\n",
    "        self.name = name\n",
    "        self.__num_moons = num_moons \n",
    "\n",
    "    def __show_num_moons(self):\n",
    "        return self.__num_moons"
   ]
  },
  {
   "cell_type": "code",
   "execution_count": null,
   "metadata": {},
   "outputs": [],
   "source": [
    "a = SolarPlanet(\"Saturn\", 82)"
   ]
  },
  {
   "cell_type": "code",
   "execution_count": null,
   "metadata": {},
   "outputs": [],
   "source": [
    "dir(a)"
   ]
  },
  {
   "cell_type": "code",
   "execution_count": null,
   "metadata": {},
   "outputs": [],
   "source": [
    "print(a.__show_num_moons())"
   ]
  },
  {
   "cell_type": "markdown",
   "metadata": {},
   "source": [
    "We can access and update our object."
   ]
  },
  {
   "cell_type": "code",
   "execution_count": null,
   "metadata": {},
   "outputs": [],
   "source": [
    "class SolarPlanet:\n",
    "    \"\"\"\n",
    "    Create a class with a private instance method and\n",
    "    a public instance method to extract information \n",
    "    from the private instance method.\n",
    "    \"\"\"\n",
    "    # Initializer / Instance Attributes\n",
    "    def __init__(self, name, num_moons):\n",
    "        self.name = name\n",
    "        self.__num_moons = num_moons \n",
    "\n",
    "    # Public Instance method\n",
    "    def get_num_moons(self):\n",
    "        return self.__show_num_moons()\n",
    "    \n",
    "    # Private instance method\n",
    "    def __show_num_moons(self):\n",
    "        return self.__num_moons"
   ]
  },
  {
   "cell_type": "code",
   "execution_count": null,
   "metadata": {},
   "outputs": [],
   "source": [
    "a = SolarPlanet(\"Saturn\", 82)\n",
    "print(a.get_num_moons())"
   ]
  },
  {
   "cell_type": "markdown",
   "metadata": {},
   "source": [
    "* Here we have a `__show_num_moons` `private method` and a `get_num_moons` `public method`. \n",
    "* The `get_num_moons` can be used by our object (out of our class) and the `__show_num_moons` only used inside our class definition (inside `get_num_moons` method)."
   ]
  },
  {
   "cell_type": "markdown",
   "metadata": {},
   "source": [
    "**Benefits of Encapsulation**\n",
    "\n",
    "* The functionality is defined in one place and not in multiple places.\n",
    "* It is defined in a logical place – the place where the data is kept.\n",
    "* Data inside our object is not modified unexpectedly by external code in a completely different part of our program.\n",
    "* When we use a method, we only need to know what result the method will produce – we don’t need to know details about the object’s internals in order to use it. We could switch to using another object which is completely different on the inside, and not have to change any code because both objects have the same interface.\n",
    "\n",
    "\n",
    "| Type\t| Description |\n",
    "| --- | --- |\n",
    "| public methods\t| Accessible from anywhere |\n",
    "| <font color=\"blue\">private methods</font>\t| Accessible only in their own class and start with two underscores |\n",
    "| public variables\t| Accessible from anywhere |\n",
    "| <font color=\"blue\">private variables</font>\t| Accesible only in their own class or by a method if defined. starts with two underscores |"
   ]
  },
  {
   "cell_type": "markdown",
   "metadata": {},
   "source": [
    "## <font color=\"green\"> Breakout Problem 2</font>\n",
    "\n",
    "- Create a class `SolarPlanet` which is initialized with `name` (public), `distance to the Sun` (private), \n",
    "- Add two private variables `number of moons` and `number of Earth years it orbits the Sun` that are set after initialization.\n",
    "- Have a method that prints all the characteristics of an instance of `Planet`.\n",
    "- Also write a program that inputs the user's Earth age and prints out their age on a planet using the formula:\n",
    "\n",
    "      age_planet = (age_earth * 365) / earth_days_planet_orbits_sun\n",
    "\n",
    "Sample planets:\n",
    "\n",
    "- `Saturn`\n",
    "    - Distance to the Sun: 886 million miles\n",
    "    - Number of moons: 53\n",
    "    - Number of Earth years to orbit the Sun: 29\n",
    "- `Jupiter`\n",
    "    - Distance to the Sun: 484 million miles\n",
    "    - Number of moons: 75\n",
    "    - Number of Earth years to orbit the Sun: 12"
   ]
  },
  {
   "cell_type": "markdown",
   "metadata": {},
   "source": [
    "<details><summary><b><font color=\"green\">Click here to access the solution</font></b></summary>\n",
    "<p>\n",
    "\n",
    "```python\n",
    "class SolarPlanet():\n",
    "     def __init__(self, name, dist_to_sun):\n",
    "         self.name = name\n",
    "         self.__distance_to_sun = dist_to_sun\n",
    "         self.__num_orbit_years = None\n",
    "         #self.__num_moons = None\n",
    "\n",
    "     def set_num_moons(self, new_num_moons):\n",
    "         self.__num_moons = new_num_moons \n",
    "\n",
    "     def set_num_orbit_years(self, num_orbit_years):\n",
    "         self.__num_orbit_years = num_orbit_years \n",
    "\n",
    "     def update_distance(self, dist_to_sun):\n",
    "         self.__distance_to_sun = dist_to_sun\n",
    "    \n",
    "     def print_info(self):\n",
    "         print(\"{}: {}\".format(\"Planet Name\", self.name))\n",
    "         print(\"\\t {}: {} million miles\".format(\"Distance to Sun\", self.__distance_to_sun))\n",
    "         if hasattr(self, \"_Planet__num_moons\"):\n",
    "            #if self.__num_moons:\n",
    "            print(\"\\t Number of moons: {}\".format(self.__num_moons))\n",
    "         if self.__num_orbit_years:\n",
    "            print(\"\\t Number of Earth years to orbit the Sun: {}\".format(self.__num_orbit_years))\n",
    "\n",
    "     def compute_age_planet(self, age_earth):\n",
    "         return (age_earth * 365.0) / self.__num_orbit_years     \n",
    "\n",
    "     def get_num_moons(self):\n",
    "         return self.__num_moons \n",
    "\n",
    "a = SolarPlanet(\"Saturn\", 886)\n",
    "a.set_num_moons(53)\n",
    "a.set_num_orbit_years(29)\n",
    "a.print_info()\n",
    "a.__distance_to_sun\n",
    "a.compute_age_planet(110)\n",
    "\n",
    "hasattr(a, '__num_moons')\n",
    "\n",
    "dir(a)\n",
    "\n",
    "b = SolarPlanet(\"Jupiter\", 484)\n",
    "b.print_info()\n",
    "\n",
    "dir(b)\n",
    "\n",
    "```\n",
    "    \n",
    "</p>\n",
    "</details>"
   ]
  },
  {
   "cell_type": "markdown",
   "metadata": {},
   "source": [
    "## <font color=\"red\">Inheritance: Behaviors and Characteristics</font>\n",
    "\n",
    "* One of the major benefits of OOP is **reuse** of code and one of the ways this is achieved is through the **inheritance** mechanism. \n",
    "* Inheritance can be best imagined as implementing a **superclass** (or base class) and **subclass** (or derived class) relationship between classes.\n",
    "* In OOP, classes can inherit common characteristics (data) and behavior (methods) from another class.\n",
    "    - The derived class shares some of the properties of the base class. Therefore a code from a base class can be reused by a derived class.\n",
    "* Inheritance can help us to represent objects which have some differences and some similarities in the way they work. We can put all the functionality that the objects have in common in a base class, and then define one or more subclasses with their own custom functionality.\n",
    "\n",
    "There are different types of inheritance:\n",
    "\n",
    "- **Single level inheritance** enables a derived class to inherit characteristics from a single parent class.\n",
    "- **Multilevel inheritance** enables a derived class to inherit properties from an immediate parent class which in turn inherits properties from his parent class.\n",
    "- **Hierarchical level inheritance** enables more than one derived class to inherit properties from a parent class.\n",
    "- **Multiple level inheritance** enables one derived class to inherit properties from more than one base class.\n",
    "\n",
    "![fig_inh](https://d1jnx9ba8s6j9r.cloudfront.net/blog/wp-content/uploads/2017/07/Types-of-Inheritance.jpg)\n",
    "Image Source: https://www.edureka.co/blog/object-oriented-programming-python/"
   ]
  },
  {
   "cell_type": "markdown",
   "metadata": {},
   "source": [
    "**Syntax for Inheritance**\n",
    "\n",
    "To create a child class based upon the parent class we use the following syntax:\n",
    "\n",
    "```python\n",
    "class ParentClass:\n",
    "    # body of ParentClass\n",
    "    # parent_method1\n",
    "    # parent_method2\n",
    " \n",
    "class ChildClass(ParentClass):\n",
    "    # body of ChildClass\n",
    "    # child_method 1\n",
    "    # child_method 2\n",
    "    \n",
    "```"
   ]
  },
  {
   "cell_type": "markdown",
   "metadata": {},
   "source": [
    "### Example\n",
    "\n",
    "* Imagine a car. \n",
    "* Number of wheels, seating capacity and maximum velocity are all attributes of a car. \n",
    "* We can say that an **ElectricCar** class inherits these same attributes from the regular **Car** class."
   ]
  },
  {
   "cell_type": "code",
   "execution_count": null,
   "metadata": {},
   "outputs": [],
   "source": [
    "class Car:\n",
    "    def __init__(self, number_of_wheels, seating_capacity, \n",
    "                 maximum_velocity):\n",
    "        self.number_of_wheels = number_of_wheels\n",
    "        self.seating_capacity = seating_capacity\n",
    "        self.maximum_velocity = maximum_velocity\n",
    "    \n",
    "    def change_velocity(self, velocity):\n",
    "        self.maximum_velocity = velocity \n",
    "        \n",
    "    def make_noise(self):\n",
    "        print('VRUUUUUUUM')"
   ]
  },
  {
   "cell_type": "code",
   "execution_count": null,
   "metadata": {},
   "outputs": [],
   "source": [
    "my_car = Car(4, 5, 250)\n",
    "print(my_car.number_of_wheels)\n",
    "print(my_car.seating_capacity)\n",
    "print(my_car.maximum_velocity)"
   ]
  },
  {
   "cell_type": "markdown",
   "metadata": {},
   "source": [
    "* In Python, we apply a `parent class` to the `child class` as a parameter. \n",
    "* An **ElectricCar** class can inherit from our **Car** class."
   ]
  },
  {
   "cell_type": "code",
   "execution_count": null,
   "metadata": {},
   "outputs": [],
   "source": [
    "class ElectricCar(Car):\n",
    "    def __init__(self, number_of_wheels, seating_capacity, \n",
    "                 maximum_velocity):\n",
    "        Car.__init__(self, number_of_wheels, seating_capacity, \n",
    "                     maximum_velocity)\n",
    "    \n",
    "    def show_description(self):\n",
    "        print(f\"This car has {self.number_of_wheels} wheels, seats up to {self.seating_capacity} people and has a maximum speed of {self.maximum_velocity} mph\")"
   ]
  },
  {
   "cell_type": "code",
   "execution_count": null,
   "metadata": {},
   "outputs": [],
   "source": [
    "my_electric_car = ElectricCar(4, 5, 250)\n",
    "print(my_electric_car.number_of_wheels) # => 4\n",
    "print(my_electric_car.seating_capacity) # => 5\n",
    "print(my_electric_car.maximum_velocity) # => 250"
   ]
  },
  {
   "cell_type": "code",
   "execution_count": null,
   "metadata": {},
   "outputs": [],
   "source": [
    "my_electric_car.make_noise()"
   ]
  },
  {
   "cell_type": "code",
   "execution_count": null,
   "metadata": {},
   "outputs": [],
   "source": [
    "my_electric_car.show_description()"
   ]
  },
  {
   "cell_type": "code",
   "execution_count": null,
   "metadata": {},
   "outputs": [],
   "source": [
    "my_electric_car.change_velocity(255)\n",
    "print(my_electric_car.maximum_velocity)"
   ]
  },
  {
   "cell_type": "markdown",
   "metadata": {},
   "source": [
    "## <font color=\"red\">Polymorphism</font>\n",
    "\n",
    "\n",
    "* Polymorphism means the ability to take various forms or different types respond to the same function.\n",
    "* In Python, Polymorphism allows us to define methods in the child class with the same name as defined in their parent class.\n"
   ]
  },
  {
   "cell_type": "markdown",
   "metadata": {},
   "source": [
    "**Example of Polymorphism**\n",
    "\n",
    "- Create an abstract class `Car` which holds the structure  `drive()` and `stop()`.  \n",
    "- Define two objects `Sportscar` and `Truck`, both are a form of `Car`.\n",
    "- Access any type of car and call the functionality without taking further into account if the form is `Sportscar` or `Truck`."
   ]
  },
  {
   "cell_type": "code",
   "execution_count": null,
   "metadata": {},
   "outputs": [],
   "source": [
    "class Car:\n",
    "    def __init__(self, name):\n",
    "        self.name = name\n",
    "    \n",
    "    def drive(self):\n",
    "        raise NotImplementedError(\"Subclass must implement abstract method\")\n",
    "\n",
    "    def stop(self):\n",
    "        raise NotImplementedError(\"Subclass must implement abstract method\")\n",
    "    \n",
    "class Sportscar(Car):\n",
    "    def drive(self):\n",
    "        return 'Sportscar driving!'\n",
    "\n",
    "    def stop(self):\n",
    "        return 'Sportscar braking!'\n",
    "    \n",
    "class Truck(Car):\n",
    "    def drive(self):\n",
    "        return 'Truck driving slowly because heavily loaded.'\n",
    "\n",
    "    def stop(self):\n",
    "        return 'Truck braking!'"
   ]
  },
  {
   "cell_type": "code",
   "execution_count": null,
   "metadata": {},
   "outputs": [],
   "source": [
    "cars = [Truck('Bananatruck'), Truck('Orangetruck'), Sportscar('Z3')]\n",
    "\n",
    "for car in cars:\n",
    "    print(f\"{car.name:>15}: {car.drive()}\")"
   ]
  },
  {
   "cell_type": "code",
   "execution_count": null,
   "metadata": {},
   "outputs": [],
   "source": [
    "cars = [Truck('Bananatruck'), Truck('Orangetruck'), Sportscar('Z3')]\n",
    "\n",
    "for car in cars:\n",
    "    print(f\"{car.name:>15}: {car.stop()}\")"
   ]
  },
  {
   "cell_type": "markdown",
   "metadata": {},
   "source": [
    "## <font color=\"red\">Method Overriding</font>\n",
    "\n",
    "+ Method overriding means having a method with the same name in the child class as in the parent class.\n",
    "+ A child class inherits all the methods from the parent class. \n",
    "+ You can encounter situations where the method inherited from the parent class doesn’t quite fit into the child class. In such cases, you will have to re-implement method in the child class. "
   ]
  },
  {
   "cell_type": "markdown",
   "metadata": {},
   "source": [
    "**Example of Method Overriding**"
   ]
  },
  {
   "cell_type": "code",
   "execution_count": null,
   "metadata": {},
   "outputs": [],
   "source": [
    "class A:\n",
    "    def explore(self):\n",
    "        print(\"explore() method from class A\")\n",
    " \n",
    "class B(A):\n",
    "    def explore(self):\n",
    "        print(\"explore() method from class B\")\n",
    "  \n",
    "b_obj = B()\n",
    "a_obj = A()\n",
    " \n",
    "b_obj.explore()\n",
    "a_obj.explore()"
   ]
  },
  {
   "cell_type": "markdown",
   "metadata": {},
   "source": [
    "* Here `b_obj` is an object of class `B` (child class), as a result, class `B` version of the `explore()` method is called. \n",
    "+ However, the variable `a_obj` is an object of class `A` (parent class), as a result, class `A` version of the `explore()` method is called.\n",
    "\n",
    "If for some reason you still want to access the overridden method of the parent class in the child class, you can call it using the `super()` function as follows:"
   ]
  },
  {
   "cell_type": "code",
   "execution_count": null,
   "metadata": {},
   "outputs": [],
   "source": [
    "class A:\n",
    "    def explore(self):\n",
    "        print(\"explore() method from class A\")\n",
    " \n",
    "class B(A):\n",
    "    def explore(self):\n",
    "        super().explore()  # calling the parent class explore() method\n",
    "        print(\"explore() method from class B\")\n",
    "  \n",
    "b_obj = B()\n",
    "b_obj.explore()"
   ]
  },
  {
   "cell_type": "markdown",
   "metadata": {},
   "source": [
    "## <font color=\"red\">object – The Base Class</font>\n",
    "\n",
    "In Python, all classes inherit from the `object` class implicitly. It means that the following two class definitions are equivalent:\n",
    "\n",
    "```python\n",
    "class MyClass:\n",
    "    pass\n",
    " \n",
    "class MyClass(object):\n",
    "    pass\n",
    "```\n",
    "\n",
    "It turns out that the object class provides some **special methods** with two leading and trailing underscores which are inherited by all the classes. Here are some important methods provided by the object class.\n",
    "\n",
    "* `__new__()`: creates the object. After creating the object it calls the `__init__()` method to initialize attributes of the object. Finally, it returns the newly created object to the calling program. Normally, we don’t override `__new__()` method, however, if you want to significantly change the way an object is created, you should definitely override it.\n",
    "* `__init__()`\n",
    "* `__str__()`: Is used to return a nicely formatted string representation of the object. The object class version of `__str__()` method returns a string containing the name of the class and its memory address in hexadecimal.\n",
    "* `__repr__()`: Returns the object representation in string format. This method is called when `repr()` function is invoked on the object. If possible, the string returned should be a valid Python expression that can be used to reconstruct the object again."
   ]
  },
  {
   "cell_type": "code",
   "execution_count": null,
   "metadata": {},
   "outputs": [],
   "source": [
    "class SolarPlanet:\n",
    "    def __init__(self, name, num_moons):\n",
    "        self.name = name\n",
    "        self.num_moons = num_moons \n",
    "\n",
    "    def show_num_moons(self):\n",
    "        return self.num_moons"
   ]
  },
  {
   "cell_type": "code",
   "execution_count": null,
   "metadata": {},
   "outputs": [],
   "source": [
    "a = SolarPlanet(\"Saturn\", 82)\n",
    "print(a)"
   ]
  },
  {
   "cell_type": "markdown",
   "metadata": {},
   "source": [
    "+ The above output is not helpful\n",
    "+ We can easily override this method by defining a method named `__str__()` in the `SolarPlanet` class as follows:"
   ]
  },
  {
   "cell_type": "code",
   "execution_count": null,
   "metadata": {},
   "outputs": [],
   "source": [
    "class SolarPlanet:\n",
    "    def __init__(self, name, num_moons):\n",
    "        self.name = name\n",
    "        self.num_moons = num_moons \n",
    "\n",
    "    def show_num_moons(self):\n",
    "        return self.num_moons\n",
    "    \n",
    "    def __str__(self):\n",
    "        return f'The planet name is {self.name} and it has {self.num_moons} moons.'\n",
    "    \n",
    "    def __repr__(self):\n",
    "        return f'SolarPlanet({self.name}, {self.num_moons})'"
   ]
  },
  {
   "cell_type": "code",
   "execution_count": null,
   "metadata": {},
   "outputs": [],
   "source": [
    "a = SolarPlanet(\"Saturn\", 82)\n",
    "print(a)"
   ]
  },
  {
   "cell_type": "code",
   "execution_count": null,
   "metadata": {},
   "outputs": [],
   "source": [
    "a.__str__()"
   ]
  },
  {
   "cell_type": "code",
   "execution_count": null,
   "metadata": {},
   "outputs": [],
   "source": [
    "a.__repr__()"
   ]
  },
  {
   "cell_type": "code",
   "execution_count": null,
   "metadata": {},
   "outputs": [],
   "source": []
  },
  {
   "cell_type": "markdown",
   "metadata": {},
   "source": [
    "## <font color='red'>The `property()` Function</font>\n",
    "\n",
    "- Used to define properties in the Python class\n",
    "- Provides an interface to instance attributes.\n",
    "- Takes the `get`, `set` and `delete` methods as arguments and returns an object of the `property` class.\n",
    "\n",
    "```python\n",
    "   property(fget, fset, fdel, doc)\n",
    "```\n",
    "\n",
    "- `fget`: (Optional) Function for getting the attribute value. Default value is none.\n",
    "- `fset`: (Optional) Function for setting the attribute value. Default value is none.\n",
    "- `fdel`: (Optional) Function for deleting the attribute value. Default value is none.\n",
    "- `doc`: (Optional) A string that contains the documentation. Default value is none."
   ]
  },
  {
   "cell_type": "code",
   "execution_count": null,
   "metadata": {},
   "outputs": [],
   "source": [
    "class Planet:\n",
    "    def __init__(self):\n",
    "        self.__name = ''\n",
    "\n",
    "    def set_name(self, name):\n",
    "        print('Setting name')\n",
    "        self.__name = name\n",
    "    \n",
    "    def get_name(self):\n",
    "        print('Getting name')\n",
    "        return self.__name\n",
    "    \n",
    "    name = property(get_name, set_name)"
   ]
  },
  {
   "cell_type": "markdown",
   "metadata": {},
   "source": [
    "- `property(get_name, set_name)` returns the property object and assigns it to `name`. \n",
    "- The `name` property hides the private instance attribute `__name`. \n",
    "- The `name` property is accessed directly, but internally it will invoke the `get_name()` or `set_name()` method."
   ]
  },
  {
   "cell_type": "code",
   "execution_count": null,
   "metadata": {},
   "outputs": [],
   "source": [
    "saturn = Planet()"
   ]
  },
  {
   "cell_type": "code",
   "execution_count": null,
   "metadata": {},
   "outputs": [],
   "source": [
    "saturn.name = \"Saturn\""
   ]
  },
  {
   "cell_type": "code",
   "execution_count": null,
   "metadata": {},
   "outputs": [],
   "source": [
    "saturn.name"
   ]
  },
  {
   "cell_type": "markdown",
   "metadata": {},
   "source": [
    "`get_name()` and `set_name()` method are automatically called when we access/assign the `name` property."
   ]
  },
  {
   "cell_type": "markdown",
   "metadata": {},
   "source": [
    "We can also add the deleter method for the property:"
   ]
  },
  {
   "cell_type": "code",
   "execution_count": null,
   "metadata": {},
   "outputs": [],
   "source": [
    "class Planet:\n",
    "    def __init__(self):\n",
    "        self.__name = ''\n",
    "\n",
    "    def set_name(self, name):\n",
    "        print('Setting name')\n",
    "        self.__name = name\n",
    "    \n",
    "    def get_name(self):\n",
    "        print('Getting name')\n",
    "        return self.__name\n",
    " \n",
    "    def del_name(self):\n",
    "        print('Deleting name')\n",
    "        del self.__name\n",
    "    \n",
    "    name = property(get_name, set_name, del_name)"
   ]
  },
  {
   "cell_type": "code",
   "execution_count": null,
   "metadata": {},
   "outputs": [],
   "source": [
    "saturn = Planet()\n",
    "saturn.name = 'Saturn'"
   ]
  },
  {
   "cell_type": "code",
   "execution_count": null,
   "metadata": {},
   "outputs": [],
   "source": [
    "del saturn.name"
   ]
  },
  {
   "cell_type": "code",
   "execution_count": null,
   "metadata": {},
   "outputs": [],
   "source": [
    "saturn.name"
   ]
  },
  {
   "cell_type": "markdown",
   "metadata": {},
   "source": [
    "The `@property` decorator makes it easy to declare a property instead of calling the `property()`.\n",
    "\n",
    "- A decorator is a function that receives another function as argument. \n",
    "- The behaviour of the argument function is extended by the decorator without actually modifying it."
   ]
  },
  {
   "cell_type": "code",
   "execution_count": null,
   "metadata": {},
   "outputs": [],
   "source": [
    "class Planet:\n",
    "    def __init__(self):\n",
    "        self.__name = ''\n",
    "\n",
    "    @property\n",
    "    def name(self):\n",
    "        print('Getting name')\n",
    "        return self.__name\n",
    "    \n",
    "    @name.setter\n",
    "    def name(self, my_name):\n",
    "        print('Setting name')\n",
    "        self.__name = my_name\n",
    " \n",
    "    @name.deleter\n",
    "    def name(self):\n",
    "        print('Deleting name')\n",
    "        del self.__name"
   ]
  },
  {
   "cell_type": "markdown",
   "metadata": {},
   "source": [
    "- The class includes three methods with the same name `name()`, but with a different number of parameters. This is called method overloading.\n",
    "- `@property` is used to indicate that we are going to define a property.\n",
    "- The `name(self)` function is marked with the `@property` decorator which indicates that the `name(self)` method is a getter method and the name of the property is the method name only, in this case `name`. \n",
    "- `name(self, my_name)` is assigning a value to the private attribute `__name`. This is is seen as a setter method for the name property, the `@name.setter` decorator is applied. \n",
    "- We can also apply the `@name.deleter` decorator for the deleter method.\n",
    "- `name` is what we will use to access and modify the attribute outside of the class. \n",
    "- This is how we can define a property and its getter, setter and deleter methods."
   ]
  },
  {
   "cell_type": "code",
   "execution_count": null,
   "metadata": {},
   "outputs": [],
   "source": [
    "saturn = Planet()"
   ]
  },
  {
   "cell_type": "code",
   "execution_count": null,
   "metadata": {},
   "outputs": [],
   "source": [
    "saturn.name = 'Saturn'"
   ]
  },
  {
   "cell_type": "code",
   "execution_count": null,
   "metadata": {},
   "outputs": [],
   "source": [
    "saturn.name"
   ]
  },
  {
   "cell_type": "code",
   "execution_count": null,
   "metadata": {},
   "outputs": [],
   "source": [
    "del saturn.name"
   ]
  },
  {
   "cell_type": "code",
   "execution_count": null,
   "metadata": {},
   "outputs": [],
   "source": [
    "saturn.name"
   ]
  },
  {
   "cell_type": "markdown",
   "metadata": {},
   "source": [
    "#### Summary\n",
    "\n",
    "We defined three methods for a property:\n",
    "\n",
    "- A **getter** - to access the value of the attribute.\n",
    "- A **setter** - to set the value of the attribute.\n",
    "- A **deleter** - to delete the instance attribute.\n",
    "\n",
    "Doing that, we protected the `name` attribute by adding a leading underscore as `self.__name`.\n",
    "\n",
    "**By defining properties, you can change the internal implementation of a class without affecting the program, so you can add getters, setters, and deleters that act as intermediaries \"behind the scenes\" to avoid accessing or modifying the data directly.**"
   ]
  },
  {
   "cell_type": "code",
   "execution_count": null,
   "metadata": {},
   "outputs": [],
   "source": []
  }
 ],
 "metadata": {
  "kernelspec": {
   "display_name": "Python 3 (ipykernel)",
   "language": "python",
   "name": "python3"
  },
  "language_info": {
   "codemirror_mode": {
    "name": "ipython",
    "version": 3
   },
   "file_extension": ".py",
   "mimetype": "text/x-python",
   "name": "python",
   "nbconvert_exporter": "python",
   "pygments_lexer": "ipython3",
   "version": "3.11.4"
  }
 },
 "nbformat": 4,
 "nbformat_minor": 4
}
