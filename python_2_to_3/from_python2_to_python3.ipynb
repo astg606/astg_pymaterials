{
 "cells": [
  {
   "cell_type": "markdown",
   "metadata": {},
   "source": [
    "<center>\n",
    "<table>\n",
    "  <tr>\n",
    "    <td><img src=\"https://portal.nccs.nasa.gov/datashare/astg/training/python/logos/nasa-logo.svg\" width=\"100\"/> </td>\n",
    "     <td><img src=\"https://portal.nccs.nasa.gov/datashare/astg/training/python/logos/ASTG_logo.png?raw=true\" width=\"80\"/> </td>\n",
    "     <td> <img src=\"https://www.nccs.nasa.gov/sites/default/files/NCCS_Logo_0.png\" width=\"130\"/> </td>\n",
    "    </tr>\n",
    "</table>\n",
    "</center>\n",
    "\n",
    "        \n",
    "<center>\n",
    "<h1><font color= \"blue\" size=\"+3\">ASTG Python Courses</font></h1>\n",
    "</center>\n",
    "\n",
    "---\n",
    "\n",
    "<CENTER>\n",
    "<H1 style=\"color:red\">\n",
    "Transitioning from Python 2 to Python 3\n",
    "</H1>    \n",
    "</CENTER>"
   ]
  },
  {
   "cell_type": "markdown",
   "metadata": {},
   "source": [
    "## Reference Documents\n",
    "\n",
    "- [Python 2 vs Python 3: The Key Differences](https://www.mygreatlearning.com/blog/python-2-vs-python-3/) by GreatLearning\n",
    "- [How to Migrate Python 2 Applications to Python 3](https://www.activestate.com/blog/how-to-migrate-python-2-applications-to-python-3/) by ActiveState\n",
    "- [How To Port Python 2 Code to Python 3](https://www.digitalocean.com/community/tutorials/how-to-port-python-2-code-to-python-3) by DigitalOcean\n",
    "- [The Conservative Python 3 Porting Guide](https://portingguide.readthedocs.io/en/latest/)\n",
    "- [Porting Code to Python 3 with 2to3](https://diveintopython3.problemsolving.io/porting-code-to-python-3-with-2to3.html) \n",
    "- [Migrating to Python 3 with pleasure](https://github.com/arogozhnikov/python3_with_pleasure), a porting guide on features of Python 3 for data scientists\n",
    "- [Moving from Python 2 to Python 3](https://ptgmedia.pearsoncmg.com/imprint_downloads/informit/promotions/python/python2python3.pdf), PDF cheatsheet for porting your Python code."
   ]
  },
  {
   "cell_type": "markdown",
   "metadata": {},
   "source": [
    "## <font color=\"red\">Background?</font>\n",
    "\n",
    "Python was developed in the late 1980s and first published in 1991. \n",
    "\n",
    "+ **Python 2** Released in 2000 to include many more programmatic features and added more features throughout its development.\n",
    "+ **Python 3** Released in late 2008 and addressed and amended intrinsic design flaws. \n",
    "+ **Python 2.7** Published in 2010 as the last of the 2.x releases in order to make it easier for Python 2.x users to port features over to Python 3 by providing some measure of compatibility between the two.\n",
    "\n",
    "Python 2.7 stopped being maintained on January 1, 2020. Python 2.6 is\n",
    "no longer supported.  \n",
    "\n",
    "__It is important to upgrade to Python 3.__"
   ]
  },
  {
   "cell_type": "markdown",
   "metadata": {},
   "source": [
    "## <font color=\"red\">Why Learn Python 3</font>\n",
    "\n",
    "- Python 3 supports modern techniques like AI, Machine Learning, and Data Science\n",
    "- Python 3 is supported by a large Python developer's community. Getting support is easy.\n",
    "- Its easier to learn Python language compared to earlier versions.\n",
    "- Offers Powerful toolkit and libraries.\n",
    "- Mixable with other languages."
   ]
  },
  {
   "cell_type": "markdown",
   "metadata": {},
   "source": [
    "## <font color=\"red\">Some Differences</font>\n",
    "\n",
    "When getting started with porting and migration, there are several syntax changes that you can implement now.."
   ]
  },
  {
   "cell_type": "markdown",
   "metadata": {},
   "source": [
    "**`print`**\n",
    "\n",
    "The `print` statement of Python 2 has changed to a `print()` function in Python 3.\n",
    "\n",
    "| Python 2\t| Python 3 |\n",
    "| --- | --- |\n",
    "| `print \"Hello, World!\"` |\t`print(\"Hello, World!\")`|"
   ]
  },
  {
   "cell_type": "markdown",
   "metadata": {},
   "source": [
    "**Floor Division**\n",
    "\n",
    "Python 2 does floor division with the `/` operator, Python 3 introduced `//` for floor division.\n",
    "Note that in Python 3, whenever two integers are divided, you get a float value whereas Python 2, you get an integer value\n",
    "\n",
    "| Python 2\t| Python 3 |\n",
    "| --- | --- |\n",
    "| `5 / 2 = 2` | `5 / 2 = 2.5` |\n",
    "| | `5 // 2 = 2` | \n",
    "\n",
    "To make use of these operators in Python 2, import `division` from the `__future__` module:\n",
    "\n",
    "```python\n",
    "from __future__ import division\n",
    "```"
   ]
  },
  {
   "cell_type": "markdown",
   "metadata": {},
   "source": [
    "**Integer Representation**\n",
    "\n",
    "In Python 2 the `long` type is different than the `int` type. In Python 3 the two types are the same.\n",
    "\n",
    "| Python 2\t| Python 3 |\n",
    "| --- | --- |\n",
    "| `123456789L` | `123456789` |\n",
    "| `long(123456789)` | |\n"
   ]
  },
  {
   "cell_type": "markdown",
   "metadata": {},
   "source": [
    "**String Formatting**\n",
    "\n",
    "String formatting syntax has changed from Python 2 to Python 3.\n",
    "\n",
    "| Python 2 |Python 3 |\n",
    "| --- | --- |\n",
    "| `\"%d %s\" % (i, s)` |\t`\"{} {}\".format(i, s)` |\n",
    "|                    |   `f\"{i} {s}\"` |\n",
    "| `\"%d/%d=%f\" % (355, 113, 355/113)` |\t`\"{:d}/{:d}={:f}\".format(355, 113, 355/113)` |\n",
    "|                                    | `f\"{355}/{113}={355/113:.f}\"` |\n"
   ]
  },
  {
   "cell_type": "markdown",
   "metadata": {},
   "source": [
    "**`raise`**\n",
    "\n",
    "In Python 3, raising exceptions with arguments requires parentheses, and strings cannot be used as exceptions.\n",
    "\n",
    "| Python 2 |\tPython 3 |\n",
    "| --- | --- |\n",
    "| `raise Exception, args` |\t`raise Exception` |\n",
    "| | `raise Exception(args)` |\n",
    "| `raise Exception, args, traceback` |\t`raise Exception(args).with_traceback(traceback)` |\n",
    "| `raise \"Error\"` |\t`raise Exception(\"Error\")` |"
   ]
  },
  {
   "cell_type": "markdown",
   "metadata": {},
   "source": [
    "**`except`**\n",
    "\n",
    "In Python 2 it was difficult to list multiple exceptions, but that has changed in Python 3.\n",
    "\n",
    "\n",
    "| Python 2 |\tPython 3 |\n",
    "| --- | --- |\n",
    "|`except Exception, variable:` |\t`except AnException as variable:` |\n",
    "| | `except (OneException, TwoException) as variable:` |\n"
   ]
  },
  {
   "cell_type": "markdown",
   "metadata": {},
   "source": [
    "**`def`**\n",
    "\n",
    "In Python 2, functions can take in sequences like tuples or lists. In Python 3, this unpacking has been removed.\n",
    "\n",
    "| Python 2 |\tPython 3 |\n",
    "| --- | --- |\n",
    "| `def function(arg1, (x, y)):` |\t`def function(arg1, x_y): x, y = x_y` |\n",
    "\n"
   ]
  },
  {
   "cell_type": "markdown",
   "metadata": {},
   "source": [
    "## <font color=\"red\">Transitioning Process</font>\n",
    "\n",
    "Our goal is to write codes that are both compatiple with Python 2 and Python 3.\n",
    "\n",
    "\n",
    "- Start will small pieces first\n",
    "- Run tests.\n",
    "- Add support for Python 3 while keeping compatibility with Python 2 by introducing specific workarounds and helpers.\n",
    "- Modernise your code by removing deprecated features that have a Python3-compatible equivalent available in Python 2.\n",
    "- If needed, use tools to make you code both compatible with Python 2 and Python 3.\n"
   ]
  },
  {
   "cell_type": "markdown",
   "metadata": {},
   "source": [
    "## <font color=\"red\">A Few Tools</font>\n",
    "\n",
    "Several tools exist to automate as much of the porting as possible, and to check for common errors. \n"
   ]
  },
  {
   "cell_type": "markdown",
   "metadata": {},
   "source": [
    "#### `future` \n",
    "\n",
    "- Works to make Python 3 idioms and best practices exist in Python 2.\n",
    "\n",
    "\n",
    "Leveraging `future`, you should consider adding these `import` statements on top of each of your Python 2 modules:\n",
    "\n",
    "```python\n",
    "from __future__ import print_function\n",
    "from __future__ import division\n",
    "from __future__ import absolute_imports\n",
    "from __future__ import unicode_literals\n",
    "```"
   ]
  },
  {
   "cell_type": "markdown",
   "metadata": {},
   "source": [
    "#### Compatibility Library: `six`\n",
    "\n",
    "-  `six` module makes it practical to write code compatible with both Python 2 and 3 by offering compatibility wrappers over the differences."
   ]
  },
  {
   "cell_type": "markdown",
   "metadata": {},
   "source": [
    "#### Automated Fixer: `python-modernize`\n",
    "\n",
    "- `python-modernize` is code-to-code translator that takes a Python 2 codebase and updates it to be compatible with both Python 2 and 3.\n",
    "- The tool builds on top of `2to3`, a library that comes with Python.\n",
    "- The tool operates by applying individual fixers – one for each type of change needed."
   ]
  },
  {
   "cell_type": "markdown",
   "metadata": {},
   "source": [
    "#### Automated Fixer: [2to3](https://docs.python.org/3/library/2to3.html)\n",
    "- `2to3` is a Python program that utilizes the library `lib2to3` to transform Python 2 application source code into that of a Python 3 application.\n",
    "- It relies on functions that detect specific syntax differences between Python 2 and Python 3, and refactor code to make it compatible with versions of Python 3."
   ]
  },
  {
   "cell_type": "markdown",
   "metadata": {},
   "source": [
    "#### Automated Checker: `pylint --py3k`\n",
    "\n",
    "- `Pylint` is a static code analyzer that can catch mistakes such as initialized variables, unused imports, and duplicated code. \n",
    "- It also has a mode that flags code incompatible with Python 3.\n",
    "- You can run the tool with the `--py3k` option on any code that is already ported. \n",
    "- You can also run pylint `--py3k` on unported code to get an idea of what will need to change."
   ]
  },
  {
   "cell_type": "markdown",
   "metadata": {},
   "source": [
    "#### Remarks\n",
    "\n",
    "- Using an an automated tool, is a first and important step.\n",
    "- It is critical to perform tests to verify that the new code produces expected result.\n",
    "- You may need to manually rewrite sections of your codet o ensure that your Python 2 code aligns with Python 3 syntax."
   ]
  },
  {
   "cell_type": "code",
   "execution_count": null,
   "metadata": {},
   "outputs": [],
   "source": []
  },
  {
   "cell_type": "code",
   "execution_count": null,
   "metadata": {},
   "outputs": [],
   "source": []
  },
  {
   "cell_type": "code",
   "execution_count": null,
   "metadata": {},
   "outputs": [],
   "source": []
  }
 ],
 "metadata": {
  "kernelspec": {
   "display_name": "Python 3 (ipykernel)",
   "language": "python",
   "name": "python3"
  },
  "language_info": {
   "codemirror_mode": {
    "name": "ipython",
    "version": 3
   },
   "file_extension": ".py",
   "mimetype": "text/x-python",
   "name": "python",
   "nbconvert_exporter": "python",
   "pygments_lexer": "ipython3",
   "version": "3.11.4"
  }
 },
 "nbformat": 4,
 "nbformat_minor": 4
}
