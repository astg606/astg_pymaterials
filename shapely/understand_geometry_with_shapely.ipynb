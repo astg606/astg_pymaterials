{
 "cells": [
  {
   "cell_type": "markdown",
   "metadata": {},
   "source": [
    "<center>\n",
    "<table>\n",
    "  <tr>\n",
    "    <td><img src=\"https://portal.nccs.nasa.gov/datashare/astg/training/python/logos/nasa-logo.svg\" width=\"100\"/> </td>\n",
    "     <td><img src=\"https://portal.nccs.nasa.gov/datashare/astg/training/python/logos/ASTG_logo.png?raw=true\" width=\"80\"/> </td>\n",
    "     <td> <img src=\"https://www.nccs.nasa.gov/sites/default/files/NCCS_Logo_0.png\" width=\"130\"/> </td>\n",
    "    </tr>\n",
    "</table>\n",
    "</center>\n",
    "\n",
    "        \n",
    "<center>\n",
    "<h1><font color= \"blue\" size=\"+3\">ASTG Python Courses</font></h1>\n",
    "</center>\n",
    "\n",
    "---\n",
    "\n",
    "<center><h1>\n",
    "    <font color=\"red\">Creating Geometry Objects with Shapely</font>  \n",
    "</h1></center>\n"
   ]
  },
  {
   "cell_type": "markdown",
   "metadata": {},
   "source": [
    "# <font color=\"red\"> Reference Documents</font>\n",
    "\n",
    "- [Shapely Python Tutorial](https://coderslegacy.com/python/shapely-tutorial/)\n",
    "- [Geometries (`shapely`)](https://geobgu.xyz/py/07-shapely.html)\n",
    "- [Well-known text representation of geometry](https://en.wikipedia.org/wiki/Well-known_text_representation_of_geometry)\n",
    "- [GeoJSON](https://geobgu.xyz/web-mapping2/geojson-1.html)\n",
    "- [Analyze Geospatial Data in Python: GeoPandas and Shapely](https://www.learndatasci.com/tutorials/geospatial-data-python-geopandas-shapely/)"
   ]
  },
  {
   "cell_type": "markdown",
   "metadata": {},
   "source": [
    "_______"
   ]
  },
  {
   "cell_type": "markdown",
   "metadata": {},
   "source": [
    "---"
   ]
  },
  {
   "cell_type": "markdown",
   "metadata": {},
   "source": [
    "# <font color=\"red\">Required Packages</font>\n",
    "\n",
    "We will mainly need:\n",
    "\n",
    "- `matplotlib`: for plotting.\n",
    "- `NumPy`: for converting Shapely objects into Numpy arrays.\n",
    "- `Shapely`: for creating geometry objects."
   ]
  },
  {
   "cell_type": "code",
   "execution_count": null,
   "metadata": {},
   "outputs": [],
   "source": [
    "import warnings\n",
    "warnings.filterwarnings(\"ignore\")"
   ]
  },
  {
   "cell_type": "code",
   "execution_count": null,
   "metadata": {},
   "outputs": [],
   "source": [
    "%matplotlib inline\n",
    "import matplotlib.pyplot as plt\n",
    "import matplotlib.patches as patches"
   ]
  },
  {
   "cell_type": "code",
   "execution_count": null,
   "metadata": {},
   "outputs": [],
   "source": [
    "import numpy as np"
   ]
  },
  {
   "cell_type": "code",
   "execution_count": null,
   "metadata": {},
   "outputs": [],
   "source": [
    "import shapely\n",
    "from shapely import geometry as shpgeom\n",
    "from shapely import wkt as shpwkt\n",
    "import shapely.plotting as shpplt # only good for v2.0 or newer"
   ]
  },
  {
   "cell_type": "code",
   "execution_count": null,
   "metadata": {},
   "outputs": [],
   "source": [
    "print(f\"Shapely version: {shapely.__version__}\")\n",
    "print(f\"Numpy   version: {np.__version__}\")"
   ]
  },
  {
   "cell_type": "markdown",
   "metadata": {},
   "source": [
    "# <font color=\"red\">Objective</font>\n",
    "\n",
    "### Spatial Data\n",
    "\n",
    "- Geospatial data includes information related to locations on the Earth’s surface (identified by latitude and longitude coordinates). \n",
    "- Geospatial data involves large sets of spatial data gathered from many diverse sources in varying formats and can include information such as census data, satellite imagery, weather data, cell phone data, drawn images and social media data. \n",
    "- To identify exact locations on the surface of the Earth, a geographic coordinate system is used.\n",
    "- Spatial data can be divided into two categories:\n",
    "\n",
    "  - `Vector layers`: points, lines, and polygons, associated with attributes (such as buildings, cities, roads, mountains and bodies of water).\n",
    "  - `Rasters`: numeric arrays (for photographs and satellite images for instance) representing a regular grid over a rectangular area. Each piece of the grid can be either a continuous value (such as an elevation value) or a categorical classification (such as land cover classifications). Classic examples include altitude data or satellite images.\n",
    "- Both vector and raster data usually come together with non-spatial data, also known as **attributes**. \n",
    "- Spatial data can have any number of additional attributes accompanying information about the location. \n",
    "   - The location of a school can be associated with the name of the school, the number of students, or the address.\n",
    "   - A building is associated with the type of use (housing, business, government, etc.), the year it was built, and how many stories it has."
   ]
  },
  {
   "cell_type": "markdown",
   "metadata": {},
   "source": [
    "![fig_categories](https://gsp.humboldt.edu/olm/Lessons/GIS/08%20Rasters/Images/convertingdatamodels2.png)\n",
    "Image Source: [Humboldt University](https://gsp.humboldt.edu/olm/Lessons/GIS/08%20Rasters/RasterToVector.html)"
   ]
  },
  {
   "cell_type": "markdown",
   "metadata": {},
   "source": [
    "#### Examples of spatial data\n",
    "\n",
    "- `Vectors and Attributes`: Descriptive information about a location such as points, lines and polygons.\n",
    "- `Raster and Satellite Imagery`: High-resolution images of our world, taken from above.\n",
    "- `Census Data`: Released census data tied to specific geographic areas, for the study of community trends.\n",
    "- `Model Outputs`: Data such as temperature, winds, air pressure, etc. generated from numerical models.\n",
    "- `Observations`: Measurements obtained from satellites, ground-based stations, etc.\n",
    "\n",
    "\n",
    "Through out theis course series, we will use `Census Data`, `Observations`, `Model Outputs`."
   ]
  },
  {
   "cell_type": "markdown",
   "metadata": {},
   "source": [
    "### What we want to accomplish in this class\n",
    "\n",
    "Our goal in this presentation is to work with the `vector layers` category. In particular, we want to cover the following topics:\n",
    "\n",
    "- Call methods for creating geometry objects\n",
    "- Extract geometry properties:\n",
    "   - Geometry type\n",
    "   - Coordinates\n",
    "   - Derived properties, such as length and area\n",
    "- Plot the geometry objects using Shapely and Matplotlib.\n",
    "- Lay the foundations for data analysis with Cartopy, GeoPandas and MovingPandas."
   ]
  },
  {
   "cell_type": "markdown",
   "metadata": {},
   "source": [
    "# <font color=\"red\">What is Shapely?</font>\n",
    "\n",
    "* Used for the manipulation and analysis of planar geometric objects such as:\n",
    "   * Points\n",
    "   * Lines\n",
    "   * Polygons\n",
    "   * Meshes\n",
    "   * etc.\n",
    "* Includes functions for creating geometries, as well as functions for applying geometric operations on geometries, such as calculating the centroid of a polygon.\n",
    "* Only deals with individual geometries, their creation, their derived properties, and spatial operation applied to them.\n",
    "* Does not include any functions to read or write geometries to or from files, or more complex data structures to represent collections of geometries with or without non-spatial attributes (done in GeosPandas). \n",
    "* Finds application in any geometry/geography related work.\n",
    "* Relies on [GEOS](https://trac.osgeo.org/geos) and JTS libraries.\n",
    "* Uses the conventions of the geographic information systems (GIS) world.\n",
    "* Used in packages such as Cartopy, GeoPandas."
   ]
  },
  {
   "cell_type": "markdown",
   "metadata": {},
   "source": [
    "## <font color=\"blue\"> Shapely Geometry Types</font>\n",
    "\n",
    "In Shapely, there are 7 main geometry types:\n",
    "\n",
    "| __Type__ | __Description__ |\n",
    "| :----- | :----- |\n",
    "| \"Point\"\t| A single point  | \n",
    "| \"LineString\"\t| Sequence of connected points forming a line | \n",
    "| \"Polygon\"\t| Sequence of connected points “closed” to form a polygon, possibly having one or more holes | \n",
    "| \"MultiPoint\"\t| Set of points | \n",
    "| \"MultiLineString\"\t| Set of lines | \n",
    "| \"MultiPolygon\"\t| Set of polygons | \n",
    "| \"GeometryCollection\"\t| Set of geometries of any type except for \"GeometryCollection\" | "
   ]
  },
  {
   "cell_type": "markdown",
   "metadata": {},
   "source": [
    "![fig_geotypes](https://geobgu.xyz/py/_images/simple_feature_types.svg)\n",
    "Image Source: [https://geobgu.xyz/](https://geobgu.xyz/)"
   ]
  },
  {
   "cell_type": "markdown",
   "metadata": {},
   "source": [
    "## <font color=\"blue\">Data Representation of Geometry Objects</font>\n",
    "\n",
    "Throughout this presentation, we will represent a geometry using:\n",
    "\n",
    "- Shapely: we will use the appropriate function.\n",
    "- The Well-known text (WKT) format\n",
    "- GeoJSON"
   ]
  },
  {
   "cell_type": "markdown",
   "metadata": {},
   "source": [
    "### <font color=\"green\">Well-known text (WKT) format</font>\n",
    " \n",
    "- It is a (human readable) text markup language or representing vector geometry objects on a map and spatial reference systems of spatial objects.\n",
    "- WKT can be used both to construct new instances of the type and to convert existing instances to textual form for alphanumeric display.\n",
    "- WTK can represent points, lines, polygons, multi-geometries, etc.\n",
    "- It's very common in databases.\n",
    "- WKT can only store one feature at a time and has no way to store properties.\n",
    "- Each geometry object in WKT has a tag which says what it is, usually followed by a list of coordinates. For example, here are some common tags:\n",
    "   - `POINT(...)`\n",
    "   - `LINESTRING(...)`\n",
    "   - `POLYGON((...))`\n",
    "   - `MULTIPOLYGON(...)`"
   ]
  },
  {
   "cell_type": "markdown",
   "metadata": {},
   "source": [
    "### <font color=\"green\">GeoJSON</font>\n",
    "\n",
    "- A Plain-text (human readable) format designed for representing vector geometries, with or without non-spatial attributes.\n",
    "- It is based on the JavaScript Object Notation (JSON) and is the most common data format for exchanging spatial (vector) data on the web.\n",
    "- It can store both geometry (Points, Lines, Polygons) and properties (attributes) in the same file.\n",
    "- **Supports the seven most commonly used geometry types (as shown above).** "
   ]
  },
  {
   "cell_type": "markdown",
   "metadata": {},
   "source": [
    "#### Examples of GeoJSON string\n",
    "\n",
    "We can represent a point as:\n",
    "\n",
    "```json\n",
    "{\n",
    "   \"type\": \"Point\",\n",
    "    \"coordinates\": [125.6, 10.1]\n",
    "}\n",
    "```\n",
    "\n",
    "We can add a `feature` that is a combination of `geometry` and `properties` (non-spatial attributes):\n",
    "\n",
    "```json\n",
    "{\n",
    "  \"type\": \"Feature\",\n",
    "  \"geometry\": {\n",
    "    \"type\": \"Point\",\n",
    "    \"coordinates\": [125.6, 10.1]\n",
    "  },\n",
    "  \"properties\": {\n",
    "    \"name\": \"Dinagat Islands\"\n",
    "  }\n",
    "}\n",
    "```"
   ]
  },
  {
   "cell_type": "markdown",
   "metadata": {},
   "source": [
    "---\n",
    "\n",
    "**In this presentation, we show three different ways of creating geometry objects with Shapely:**\n",
    "- Pure shapely formulation\n",
    "- WTK formulation\n",
    "- GeoJSON formulation\n",
    "\n",
    "***"
   ]
  },
  {
   "cell_type": "markdown",
   "metadata": {},
   "source": [
    "# <font color=\"red\">Creating Shapely Objects</font>\n",
    "\n",
    "The package `shapely.geometry` contains all geometry-related functions for manipulating geometry objects.\n",
    "\n",
    "| Geometry Type | Function to Create | Access Coordinates |\n",
    "| :--- | :---  | :--- |\n",
    "| `Point` | `shapely.geometry.Point` | `.coords` |\n",
    "| `MultiPoint` |  `shapely.geometry.MultiPoint` | `.geoms[i].coords` |\n",
    "| `LineString` |  `shapely.geometry.LineString` | `.coords`  |\n",
    "| `MultiLineString` |  `shapely.geometry.MultiLineString` | `.geoms[i].coords` |\n",
    "| `Polygon` |  `shapely.geometry.Polygon` | `.exterior.coords` |\n",
    "|           |                             | `.interiors[i].coords` |\n",
    "| `MultiPolygon` | `shapely.geometry.MultiPolygon` | `.geoms[i].exterior.coords` |\n",
    "|           |              | `.geoms[i].interiors[j].coords` |\n",
    "| `GeometryCollection` |  `shapely.geometry.GeometryCollection` |  |\n",
    "\n",
    "Coordinate sequences of an object are associated with the concepts of exterior and interiors coordinate sequences:\n",
    "\n",
    "- The __exterior__ is the outer bound of the object. There is only one exterior sequence per object. The `.exterior` property gives direct access to the exterior geometry.\n",
    "- The __interiors__ refers to the object holes. There can be zero or more holes in each object. Accordingly, the `.interiors` property is a sequence of length zero or more."
   ]
  },
  {
   "cell_type": "markdown",
   "metadata": {},
   "source": [
    "## <font color=\"blue\"> Point Object</font>\n",
    "\n",
    "- This is the most basic “shape” which represents a single coordinate."
   ]
  },
  {
   "cell_type": "markdown",
   "metadata": {},
   "source": [
    "#### Creating a point"
   ]
  },
  {
   "cell_type": "code",
   "execution_count": null,
   "metadata": {},
   "outputs": [],
   "source": [
    "pt1 = shpgeom.Point(5, 7)"
   ]
  },
  {
   "cell_type": "markdown",
   "metadata": {},
   "source": [
    "You can view all the geometric objects without having to resort to any graphical package:"
   ]
  },
  {
   "cell_type": "code",
   "execution_count": null,
   "metadata": {},
   "outputs": [],
   "source": [
    "pt1"
   ]
  },
  {
   "cell_type": "code",
   "execution_count": null,
   "metadata": {},
   "outputs": [],
   "source": [
    "print(pt1)"
   ]
  },
  {
   "cell_type": "markdown",
   "metadata": {},
   "source": [
    "You can obtain the geometry type:"
   ]
  },
  {
   "cell_type": "code",
   "execution_count": null,
   "metadata": {},
   "outputs": [],
   "source": [
    "pt1.geom_type"
   ]
  },
  {
   "cell_type": "markdown",
   "metadata": {},
   "source": [
    "We can display the string representation of the object:"
   ]
  },
  {
   "cell_type": "code",
   "execution_count": null,
   "metadata": {},
   "outputs": [],
   "source": [
    "str(pt1)"
   ]
  },
  {
   "cell_type": "markdown",
   "metadata": {},
   "source": [
    "#### Using the Well Known Text (WKT) string formulation"
   ]
  },
  {
   "cell_type": "code",
   "execution_count": null,
   "metadata": {},
   "outputs": [],
   "source": [
    "pt2 = shpwkt.loads('POINT (1 4)')\n",
    "pt2"
   ]
  },
  {
   "cell_type": "code",
   "execution_count": null,
   "metadata": {},
   "outputs": [],
   "source": [
    "print(pt2)"
   ]
  },
  {
   "cell_type": "code",
   "execution_count": null,
   "metadata": {},
   "outputs": [],
   "source": [
    "shpwkt.dumps(pt2)"
   ]
  },
  {
   "cell_type": "markdown",
   "metadata": {},
   "source": [
    "We can load the string representation back into geometric format:"
   ]
  },
  {
   "cell_type": "code",
   "execution_count": null,
   "metadata": {},
   "outputs": [],
   "source": [
    "shpwkt.loads(str(pt1))"
   ]
  },
  {
   "cell_type": "markdown",
   "metadata": {},
   "source": [
    "#### Using the GeoJSON formulation\n",
    "- We use the `shapely.geometry.shape` function.\n",
    "- The function accepts GeoJSON-like dictionary with the geometry definition.\n",
    "- The dictionary needs to have a least two properties:\n",
    "   - `\"type\"`: contains the geometry type.\n",
    "   - `\"coordinates\"`: contains the sequences of geometries/parts/coordinates, as lists or tuples."
   ]
  },
  {
   "cell_type": "code",
   "execution_count": null,
   "metadata": {},
   "outputs": [],
   "source": [
    "d = {'type': 'Point', 'coordinates': (-5, 2)}\n",
    "pt3 = shpgeom.shape(d)\n",
    "pt3"
   ]
  },
  {
   "cell_type": "markdown",
   "metadata": {},
   "source": [
    "You can conver a Shapely geometry object into the GeoJSON representation using the `to_geojson()` function:"
   ]
  },
  {
   "cell_type": "code",
   "execution_count": null,
   "metadata": {},
   "outputs": [],
   "source": [
    "shapely.to_geojson(pt3)"
   ]
  },
  {
   "cell_type": "code",
   "execution_count": null,
   "metadata": {},
   "outputs": [],
   "source": [
    "print(shapely.to_geojson(pt3, indent=2))"
   ]
  },
  {
   "cell_type": "markdown",
   "metadata": {},
   "source": [
    "#### `Point` attributes and functions"
   ]
  },
  {
   "cell_type": "markdown",
   "metadata": {},
   "source": [
    "Extract the coordinates:"
   ]
  },
  {
   "cell_type": "code",
   "execution_count": null,
   "metadata": {},
   "outputs": [],
   "source": [
    "print(pt1.x)\n",
    "print(pt1.y)  "
   ]
  },
  {
   "cell_type": "code",
   "execution_count": null,
   "metadata": {},
   "outputs": [],
   "source": [
    "pt1.coords"
   ]
  },
  {
   "cell_type": "code",
   "execution_count": null,
   "metadata": {},
   "outputs": [],
   "source": [
    "type(pt1.coords[0])"
   ]
  },
  {
   "cell_type": "code",
   "execution_count": null,
   "metadata": {},
   "outputs": [],
   "source": [
    "pt1.coords[0]"
   ]
  },
  {
   "cell_type": "code",
   "execution_count": null,
   "metadata": {},
   "outputs": [],
   "source": [
    "list(pt1.coords) # Tuple of x-y coordinates"
   ]
  },
  {
   "cell_type": "code",
   "execution_count": null,
   "metadata": {},
   "outputs": [],
   "source": [
    "list(pt1.coords)[0]"
   ]
  },
  {
   "cell_type": "code",
   "execution_count": null,
   "metadata": {},
   "outputs": [],
   "source": [
    "pt1.xy  "
   ]
  },
  {
   "cell_type": "markdown",
   "metadata": {},
   "source": [
    "Convert a `Point` object into an array of point coordinates:"
   ]
  },
  {
   "cell_type": "code",
   "execution_count": null,
   "metadata": {},
   "outputs": [],
   "source": [
    "np.array(pt1)"
   ]
  },
  {
   "cell_type": "markdown",
   "metadata": {},
   "source": [
    "Compute the area and the length:"
   ]
  },
  {
   "cell_type": "code",
   "execution_count": null,
   "metadata": {},
   "outputs": [],
   "source": [
    "print(pt1.area)\n",
    "print(pt1.length)"
   ]
  },
  {
   "cell_type": "markdown",
   "metadata": {},
   "source": [
    "Compute the distance between the two points:"
   ]
  },
  {
   "cell_type": "code",
   "execution_count": null,
   "metadata": {},
   "outputs": [],
   "source": [
    "pt1.distance(pt2)"
   ]
  },
  {
   "cell_type": "markdown",
   "metadata": {},
   "source": [
    "#### Plot using Matplotlib"
   ]
  },
  {
   "cell_type": "code",
   "execution_count": null,
   "metadata": {},
   "outputs": [],
   "source": [
    "fig, ax = plt.subplots()\n",
    "#pts = list(pt1.coords)\n",
    "#x1,y1 = zip(*pts)\n",
    "\n",
    "#pts = list(pt2.coords)\n",
    "#x2,y2 = zip(*pts)\n",
    "\n",
    "x1, y1 = pt1.coords[0]\n",
    "x2, y2 = pt2.coords[0]\n",
    "\n",
    "ax.plot(x1, y1,  marker=\"o\", markersize=10)\n",
    "ax.plot(x2, y2,  marker=\"*\", markersize=10)\n",
    "\n",
    "ax.set_xlim([0,15])\n",
    "ax.set_ylim([0,15]);"
   ]
  },
  {
   "cell_type": "markdown",
   "metadata": {},
   "source": [
    "### <font color=\"green\">Breakout</font>\n",
    "\n",
    "Determine if the points `(5,5)`, `(2,7)` and (`7,8)` form a right triangle.\n"
   ]
  },
  {
   "cell_type": "markdown",
   "metadata": {},
   "source": [
    "<details><summary><b><font color=\"green\">Click here to access the solution</font></b></summary>\n",
    "<p>\n",
    "\n",
    "```python\n",
    "pt1 = shpgeom.Point(5,5)\n",
    "pt2 = shpgeom.Point(2,7)\n",
    "pt3 = shpgeom.Point(7,8)\n",
    "\n",
    "A = pt2.distance(pt1)\n",
    "B = pt1.distance(pt3)\n",
    "C = pt3.distance(pt2)\n",
    "\n",
    "assert A**2 + B**2 == C**2\n",
    "```\n",
    "</details>"
   ]
  },
  {
   "cell_type": "markdown",
   "metadata": {},
   "source": [
    "## <font color=\"blue\"> MultiPoint Object</font>"
   ]
  },
  {
   "cell_type": "code",
   "execution_count": null,
   "metadata": {},
   "outputs": [],
   "source": [
    "points = shpgeom.MultiPoint([(5, 7), (1, 4)])\n",
    "points"
   ]
  },
  {
   "cell_type": "markdown",
   "metadata": {},
   "source": [
    "#### Using the WKT formulation"
   ]
  },
  {
   "cell_type": "code",
   "execution_count": null,
   "metadata": {},
   "outputs": [],
   "source": [
    "points1 = shpwkt.loads('MULTIPOINT (5 7, 1 4)')\n",
    "points1"
   ]
  },
  {
   "cell_type": "markdown",
   "metadata": {},
   "source": [
    "#### Using the GeoJSON formulation"
   ]
  },
  {
   "cell_type": "code",
   "execution_count": null,
   "metadata": {},
   "outputs": [],
   "source": [
    "d = {\n",
    "    'type': 'MultiPoint', \n",
    "    'coordinates': [\n",
    "        (5, 7),\n",
    "        (1, 4)\n",
    "    ]\n",
    "}\n",
    "points2 = shpgeom.shape(d)\n",
    "points2"
   ]
  },
  {
   "cell_type": "markdown",
   "metadata": {},
   "source": [
    "#### Turn the points `pt1` and `pt2` into a MultiPoint object"
   ]
  },
  {
   "cell_type": "code",
   "execution_count": null,
   "metadata": {},
   "outputs": [],
   "source": [
    "points = shpgeom.MultiPoint([pt1, pt2])\n",
    "points"
   ]
  },
  {
   "cell_type": "markdown",
   "metadata": {},
   "source": [
    "Get the GeoJSON representation:"
   ]
  },
  {
   "cell_type": "code",
   "execution_count": null,
   "metadata": {},
   "outputs": [],
   "source": [
    "print(shapely.to_geojson(points, indent=2))"
   ]
  },
  {
   "cell_type": "markdown",
   "metadata": {},
   "source": [
    "#### `MultiPoint` attributes and functions"
   ]
  },
  {
   "cell_type": "markdown",
   "metadata": {},
   "source": [
    "Find the centroid:"
   ]
  },
  {
   "cell_type": "code",
   "execution_count": null,
   "metadata": {},
   "outputs": [],
   "source": [
    "np.array(points.centroid)"
   ]
  },
  {
   "cell_type": "markdown",
   "metadata": {},
   "source": [
    "Get the list points in the object:"
   ]
  },
  {
   "cell_type": "code",
   "execution_count": null,
   "metadata": {},
   "outputs": [],
   "source": [
    "len(points.geoms)"
   ]
  },
  {
   "cell_type": "code",
   "execution_count": null,
   "metadata": {},
   "outputs": [],
   "source": [
    "list(points.geoms)"
   ]
  },
  {
   "cell_type": "code",
   "execution_count": null,
   "metadata": {},
   "outputs": [],
   "source": [
    "points.geoms[0].coords[0]"
   ]
  },
  {
   "cell_type": "code",
   "execution_count": null,
   "metadata": {},
   "outputs": [],
   "source": [
    "points.geoms[1].coords[0]"
   ]
  },
  {
   "cell_type": "code",
   "execution_count": null,
   "metadata": {},
   "outputs": [],
   "source": [
    "list(points.geoms[0].coords)"
   ]
  },
  {
   "cell_type": "code",
   "execution_count": null,
   "metadata": {},
   "outputs": [],
   "source": [
    "list(points.geoms[1].coords)"
   ]
  },
  {
   "cell_type": "markdown",
   "metadata": {},
   "source": [
    "#### Plot"
   ]
  },
  {
   "cell_type": "code",
   "execution_count": null,
   "metadata": {},
   "outputs": [],
   "source": [
    "fig, ax = plt.subplots()\n",
    "pts = list()\n",
    "for i in range(len(points.geoms)):\n",
    "    pts.append(points.geoms[i].coords[0])\n",
    "\n",
    "x,y = zip(*pts)\n",
    "\n",
    "print(f\"x-values: {x}\")\n",
    "print(f\"y-values: {y}\")\n",
    "\n",
    "ax.scatter(x, y, c=[\"green\", \"red\"])\n",
    "\n",
    "ax.set_xlim([0,15])\n",
    "ax.set_ylim([0,15]);"
   ]
  },
  {
   "cell_type": "code",
   "execution_count": null,
   "metadata": {},
   "outputs": [],
   "source": [
    "shpplt.plot_points(points)"
   ]
  },
  {
   "cell_type": "markdown",
   "metadata": {},
   "source": [
    "### <font color=\"green\"> Breakout </font>\n",
    "\n",
    "Consider:\n",
    "\n",
    "```python\n",
    "POINTS = [\n",
    "    (0, 4275),\n",
    "    (1225, 5500),\n",
    "    (3500, 5500),\n",
    "    (4220, 4970),\n",
    "    (4220, 2025),\n",
    "    (3000, 732),\n",
    "    (1140, 732),\n",
    "    (0, 1500)\n",
    "]\n",
    "\n",
    "my_polygon = shpgeom.MultiPoint(POINTS).convex_hull\n",
    "```\n",
    "Write a function that takes as arguments `x` and `y` and determine if the point `(x, y)` is within `my_polygon`. We assume that `x` is a random integer between `1` and `4367`, and `y` is a random integer between `730` and `5720`.\n",
    "\n",
    "**Hint:** Consider the function `Point.within()`."
   ]
  },
  {
   "cell_type": "markdown",
   "metadata": {},
   "source": [
    "<details><summary><b><font color=\"green\">Click here to access the solution</font></b></summary>\n",
    "<p>\n",
    "\n",
    "```python\n",
    "POINTS = [\n",
    "    (0, 4275),\n",
    "    (1225, 5500),\n",
    "    (3500, 5500),\n",
    "    (4220, 4970),\n",
    "    (4220, 2025),\n",
    "    (3000, 732),\n",
    "    (1140, 732),\n",
    "    (0, 1500)\n",
    "]\n",
    "\n",
    "my_polygon = shpgeom.MultiPoint(POINTS).convex_hull\n",
    "shpplt.plot_polygon(my_polygon);\n",
    "\n",
    "def check_point(x, y):\n",
    "    my_point = shpgeom.Point(x,y)\n",
    "    return my_point.within(my_polygon)\n",
    "\n",
    "import random\n",
    "\n",
    "x = random.randint(1, 4367)\n",
    "y = random.randint(730, 5720)\n",
    "in_polygon = check_point(x, y)\n",
    "print(f\"The point ({x},{y}) is in the polygon? {in_polygon}\")\n",
    "```\n",
    "</details>"
   ]
  },
  {
   "cell_type": "markdown",
   "metadata": {},
   "source": [
    "## <font color=\"blue\"> LineString Object</font>\n",
    "\n",
    "- Created using a list of tuples (representing points).\n",
    "- They can cross themselves.\n",
    "- The order of points is important as it determines the order in which you pass through them."
   ]
  },
  {
   "cell_type": "code",
   "execution_count": null,
   "metadata": {},
   "outputs": [],
   "source": [
    "line1 = shpgeom.LineString([(5, 7), (3,4), (-1, 3), (6,2), (8, 5)])\n",
    "line1"
   ]
  },
  {
   "cell_type": "markdown",
   "metadata": {},
   "source": [
    "#### Using the WKT formulation"
   ]
  },
  {
   "cell_type": "code",
   "execution_count": null,
   "metadata": {},
   "outputs": [],
   "source": [
    "line2 = shpwkt.loads('LINESTRING (5 7, 3 4, -1 3, 6 2, 8 5)')\n",
    "line2"
   ]
  },
  {
   "cell_type": "markdown",
   "metadata": {},
   "source": [
    "#### Using the GeoJSON formulation"
   ]
  },
  {
   "cell_type": "code",
   "execution_count": null,
   "metadata": {},
   "outputs": [],
   "source": [
    "d = {\n",
    "    'type': 'LineString', \n",
    "    'coordinates': [\n",
    "        (5, 7), (3,4), (-1, 3), (6,2), (8, 5)\n",
    "    ]\n",
    "}\n",
    "line3 = shpgeom.shape(d)\n",
    "line3"
   ]
  },
  {
   "cell_type": "markdown",
   "metadata": {},
   "source": [
    "#### `LineString` attributes and functions"
   ]
  },
  {
   "cell_type": "markdown",
   "metadata": {},
   "source": [
    "Extract the coordinates"
   ]
  },
  {
   "cell_type": "code",
   "execution_count": null,
   "metadata": {},
   "outputs": [],
   "source": [
    "line1.xy"
   ]
  },
  {
   "cell_type": "code",
   "execution_count": null,
   "metadata": {},
   "outputs": [],
   "source": [
    "list(line1.xy[0])"
   ]
  },
  {
   "cell_type": "code",
   "execution_count": null,
   "metadata": {},
   "outputs": [],
   "source": [
    "list(line1.xy[-1])"
   ]
  },
  {
   "cell_type": "code",
   "execution_count": null,
   "metadata": {},
   "outputs": [],
   "source": [
    "list(line2.coords)"
   ]
  },
  {
   "cell_type": "markdown",
   "metadata": {},
   "source": [
    "Convert a `LineString` object into an array of point coordinates:"
   ]
  },
  {
   "cell_type": "code",
   "execution_count": null,
   "metadata": {},
   "outputs": [],
   "source": [
    "np.array(line1)"
   ]
  },
  {
   "cell_type": "markdown",
   "metadata": {},
   "source": [
    "Compute the length of the line:"
   ]
  },
  {
   "cell_type": "code",
   "execution_count": null,
   "metadata": {},
   "outputs": [],
   "source": [
    "line1.length"
   ]
  },
  {
   "cell_type": "markdown",
   "metadata": {},
   "source": [
    "Get the centroid:"
   ]
  },
  {
   "cell_type": "code",
   "execution_count": null,
   "metadata": {},
   "outputs": [],
   "source": [
    "line1.centroid"
   ]
  },
  {
   "cell_type": "code",
   "execution_count": null,
   "metadata": {},
   "outputs": [],
   "source": [
    "print(line1.centroid)"
   ]
  },
  {
   "cell_type": "markdown",
   "metadata": {},
   "source": [
    "#### Plot using Matplotlib"
   ]
  },
  {
   "cell_type": "code",
   "execution_count": null,
   "metadata": {},
   "outputs": [],
   "source": [
    "fig, ax = plt.subplots()\n",
    "pts = list(line1.coords)\n",
    "x,y = zip(*pts)\n",
    "ax.plot(x, y)\n",
    "ax.set_xlim([-2,13])\n",
    "ax.set_ylim([0,10]);"
   ]
  },
  {
   "cell_type": "code",
   "execution_count": null,
   "metadata": {},
   "outputs": [],
   "source": [
    "shpplt.plot_line(line1)"
   ]
  },
  {
   "cell_type": "markdown",
   "metadata": {},
   "source": [
    "Compute the distance between a point and the line:"
   ]
  },
  {
   "cell_type": "code",
   "execution_count": null,
   "metadata": {},
   "outputs": [],
   "source": [
    "pt2.distance(line2)"
   ]
  },
  {
   "cell_type": "markdown",
   "metadata": {},
   "source": [
    "Determine the point projection on the line:\n",
    "- distance along `line2` to a point nearest to `pt2`."
   ]
  },
  {
   "cell_type": "code",
   "execution_count": null,
   "metadata": {},
   "outputs": [],
   "source": [
    "line2.project(pt2)"
   ]
  },
  {
   "cell_type": "markdown",
   "metadata": {},
   "source": [
    "## <font color=\"blue\"> MultiLineString Object</font>"
   ]
  },
  {
   "cell_type": "code",
   "execution_count": null,
   "metadata": {},
   "outputs": [],
   "source": [
    "coords = [((0, 0), (6, 1), (3, 4)), \n",
    "          ((-1, -4), (10, 0), (15, -2), (18, 6)),\n",
    "          ((10, 7), (16, 19))\n",
    "         ]\n",
    "lines = shpgeom.MultiLineString(coords)\n",
    "lines"
   ]
  },
  {
   "cell_type": "markdown",
   "metadata": {},
   "source": [
    "#### Using the WKT formulation"
   ]
  },
  {
   "cell_type": "code",
   "execution_count": null,
   "metadata": {},
   "outputs": [],
   "source": [
    "line1 = shpwkt.loads('MultiLineString ((0 0, 6 1, 3 4), (-1 -4, 10 0, 15 -2, 18 6), (10 7, 16 19))')\n",
    "line1"
   ]
  },
  {
   "cell_type": "markdown",
   "metadata": {},
   "source": [
    "#### Using the GeoJSON formulation"
   ]
  },
  {
   "cell_type": "code",
   "execution_count": null,
   "metadata": {},
   "outputs": [],
   "source": [
    "d = {\n",
    "    'type': 'MultiLineString', \n",
    "    'coordinates': coords\n",
    "}\n",
    "lines2 = shpgeom.shape(d)\n",
    "lines2"
   ]
  },
  {
   "cell_type": "markdown",
   "metadata": {},
   "source": [
    "#### Compute the length:"
   ]
  },
  {
   "cell_type": "code",
   "execution_count": null,
   "metadata": {},
   "outputs": [],
   "source": [
    "lines.length"
   ]
  },
  {
   "cell_type": "markdown",
   "metadata": {},
   "source": [
    "#### Compute the number of lines:"
   ]
  },
  {
   "cell_type": "code",
   "execution_count": null,
   "metadata": {},
   "outputs": [],
   "source": [
    "len(lines.geoms)"
   ]
  },
  {
   "cell_type": "markdown",
   "metadata": {},
   "source": [
    "#### Dertermine the centroid:"
   ]
  },
  {
   "cell_type": "code",
   "execution_count": null,
   "metadata": {},
   "outputs": [],
   "source": [
    "lines.centroid.coords[0]"
   ]
  },
  {
   "cell_type": "code",
   "execution_count": null,
   "metadata": {},
   "outputs": [],
   "source": [
    "lines.centroid.within(lines)"
   ]
  },
  {
   "cell_type": "markdown",
   "metadata": {},
   "source": [
    "#### List the coordinates:"
   ]
  },
  {
   "cell_type": "code",
   "execution_count": null,
   "metadata": {},
   "outputs": [],
   "source": [
    "list(lines.geoms)"
   ]
  },
  {
   "cell_type": "markdown",
   "metadata": {},
   "source": [
    "#### Determine the bounds:"
   ]
  },
  {
   "cell_type": "code",
   "execution_count": null,
   "metadata": {},
   "outputs": [],
   "source": [
    "lines.bounds"
   ]
  },
  {
   "cell_type": "markdown",
   "metadata": {},
   "source": [
    "#### Plot the lines:"
   ]
  },
  {
   "cell_type": "code",
   "execution_count": null,
   "metadata": {},
   "outputs": [],
   "source": [
    "fig, ax = plt.subplots()\n",
    "for l in lines.geoms:\n",
    "    pts = list(l.coords)\n",
    "    x,y = zip(*pts)\n",
    "    ax.plot(x, y)\n",
    "\n",
    "bounds = lines.bounds\n",
    "ax.set_xlim([bounds[0]-1,bounds[2]+1])\n",
    "ax.set_ylim([bounds[1]-1,bounds[3]+1]);"
   ]
  },
  {
   "cell_type": "code",
   "execution_count": null,
   "metadata": {},
   "outputs": [],
   "source": [
    "shpplt.plot_line(lines)"
   ]
  },
  {
   "cell_type": "markdown",
   "metadata": {},
   "source": [
    "## <font color=\"blue\"> Polygon Object</font>"
   ]
  },
  {
   "cell_type": "code",
   "execution_count": null,
   "metadata": {},
   "outputs": [],
   "source": [
    "coords = [(20, 20), (200, 20), (200, 180), (20, 180)]\n",
    "poly1 = shpgeom.Polygon(coords)\n",
    "poly1"
   ]
  },
  {
   "cell_type": "code",
   "execution_count": null,
   "metadata": {},
   "outputs": [],
   "source": [
    "poly1.boundary"
   ]
  },
  {
   "cell_type": "markdown",
   "metadata": {},
   "source": [
    "#### Use the WKT formulation"
   ]
  },
  {
   "cell_type": "code",
   "execution_count": null,
   "metadata": {},
   "outputs": [],
   "source": [
    "poly2 = shpwkt.loads('POLYGON ((20 20, 200 20, 200 180, 20 180, 20 20))')\n",
    "poly2"
   ]
  },
  {
   "cell_type": "markdown",
   "metadata": {},
   "source": [
    "#### Use the GeoJSON formulation"
   ]
  },
  {
   "cell_type": "code",
   "execution_count": null,
   "metadata": {},
   "outputs": [],
   "source": [
    "coords2 = [\n",
    "    [(20, 20), (200, 20), (200, 180), (20, 180)]\n",
    "]\n",
    "d = {\n",
    "  'type': 'Polygon',\n",
    "  'coordinates': coords2\n",
    "}\n",
    "shapely.geometry.shape(d)"
   ]
  },
  {
   "cell_type": "code",
   "execution_count": null,
   "metadata": {},
   "outputs": [],
   "source": [
    "shpgeom.mapping(poly1)"
   ]
  },
  {
   "cell_type": "markdown",
   "metadata": {},
   "source": [
    "#### Extract the coordinates"
   ]
  },
  {
   "cell_type": "code",
   "execution_count": null,
   "metadata": {},
   "outputs": [],
   "source": [
    "poly1.exterior.xy"
   ]
  },
  {
   "cell_type": "code",
   "execution_count": null,
   "metadata": {},
   "outputs": [],
   "source": [
    "list(poly1.exterior.coords)"
   ]
  },
  {
   "cell_type": "code",
   "execution_count": null,
   "metadata": {},
   "outputs": [],
   "source": [
    "np.array(poly1.exterior)"
   ]
  },
  {
   "cell_type": "markdown",
   "metadata": {},
   "source": [
    "#### x-y bounding box is a (`minx`, `miny`, `maxx`, `maxy`) tuple."
   ]
  },
  {
   "cell_type": "code",
   "execution_count": null,
   "metadata": {},
   "outputs": [],
   "source": [
    "poly1.bounds"
   ]
  },
  {
   "cell_type": "markdown",
   "metadata": {},
   "source": [
    "#### Compute the area"
   ]
  },
  {
   "cell_type": "code",
   "execution_count": null,
   "metadata": {},
   "outputs": [],
   "source": [
    "poly1.area"
   ]
  },
  {
   "cell_type": "markdown",
   "metadata": {},
   "source": [
    "#### Compute the centroid"
   ]
  },
  {
   "cell_type": "code",
   "execution_count": null,
   "metadata": {},
   "outputs": [],
   "source": [
    "np.array(poly1.centroid)"
   ]
  },
  {
   "cell_type": "markdown",
   "metadata": {},
   "source": [
    "#### Check if a point is within a polygon"
   ]
  },
  {
   "cell_type": "code",
   "execution_count": null,
   "metadata": {},
   "outputs": [],
   "source": [
    "pt1.within(poly1)"
   ]
  },
  {
   "cell_type": "code",
   "execution_count": null,
   "metadata": {},
   "outputs": [],
   "source": [
    "poly1.centroid.within(poly1)"
   ]
  },
  {
   "cell_type": "markdown",
   "metadata": {},
   "source": [
    "#### Use the Shapely plotting tool"
   ]
  },
  {
   "cell_type": "code",
   "execution_count": null,
   "metadata": {},
   "outputs": [],
   "source": [
    "shpplt.plot_polygon(poly1)"
   ]
  },
  {
   "cell_type": "code",
   "execution_count": null,
   "metadata": {},
   "outputs": [],
   "source": [
    "fig, ax = plt.subplots()\n",
    "pts = list(poly1.exterior.coords)\n",
    "x,y = zip(*pts)\n",
    "ax.plot(x, y)\n",
    "\n",
    "bounds = poly1.bounds\n",
    "ax.set_xlim([bounds[0]-5,bounds[2]+5])\n",
    "ax.set_ylim([bounds[1]-5,bounds[3]+5]);"
   ]
  },
  {
   "cell_type": "code",
   "execution_count": null,
   "metadata": {},
   "outputs": [],
   "source": [
    "def add_polygon_patch(coords, ax, fc='blue'):\n",
    "    patch = patches.Polygon(np.array(coords.xy).T, fc=fc)\n",
    "    ax.add_patch(patch)\n",
    "\n",
    "def plot_poly(poly):\n",
    "    fig, ax = plt.subplots(1, 1)\n",
    "\n",
    "    add_polygon_patch(poly.exterior, ax)\n",
    "    for interior in poly.interiors:\n",
    "        add_polygon_patch(interior, ax, 'white')\n",
    "        \n",
    "    ax.axis('equal')"
   ]
  },
  {
   "cell_type": "code",
   "execution_count": null,
   "metadata": {},
   "outputs": [],
   "source": [
    "plot_poly(poly1)"
   ]
  },
  {
   "cell_type": "markdown",
   "metadata": {},
   "source": [
    "### <font color=\"green\"> Breakout </font>\n",
    "\n",
    "Consider:\n",
    "\n",
    "```python\n",
    "POINTS = [\n",
    "    (0, 4275),\n",
    "    (1225, 5500),\n",
    "    (3500, 5500),\n",
    "    (4220, 4970),\n",
    "    (4220, 2025),\n",
    "    (3000, 732),\n",
    "    (1140, 732),\n",
    "    (0, 1500)\n",
    "]\n",
    "```\n",
    "\n",
    "Create a polygon with the above set of points and plot the polygon using the Matplotlib formulation."
   ]
  },
  {
   "cell_type": "markdown",
   "metadata": {},
   "source": [
    "<details><summary><b><font color=\"green\">Click here to access the solution</font></b></summary>\n",
    "<p>\n",
    "\n",
    "```python\n",
    "POINTS = [\n",
    "    (0, 4275),\n",
    "    (1225, 5500),\n",
    "    (3500, 5500),\n",
    "    (4220, 4970),\n",
    "    (4220, 2025),\n",
    "    (3000, 732),\n",
    "    (1140, 732),\n",
    "    (0, 1500)\n",
    "]\n",
    "\n",
    "my_polygon = shpgeom.Polygon(POINTS)\n",
    "plot_poly(my_polygon)\n",
    "```\n",
    "</details>"
   ]
  },
  {
   "cell_type": "markdown",
   "metadata": {},
   "source": [
    "#### Operations on polygons"
   ]
  },
  {
   "cell_type": "code",
   "execution_count": null,
   "metadata": {},
   "outputs": [],
   "source": [
    "poly3 = shpwkt.loads('POLYGON ((150 100, 300 100, 300 320, 175 320, 150 100))')\n",
    "poly3"
   ]
  },
  {
   "cell_type": "markdown",
   "metadata": {},
   "source": [
    "Let us plot the exterior of each polygon:"
   ]
  },
  {
   "cell_type": "code",
   "execution_count": null,
   "metadata": {},
   "outputs": [],
   "source": [
    "fig, ax = plt.subplots()\n",
    "pts = list(poly1.exterior.coords)\n",
    "x,y = zip(*pts)\n",
    "ax.plot(x, y)\n",
    "pts = list(poly3.exterior.coords)\n",
    "x,y = zip(*pts)\n",
    "ax.plot(x, y);"
   ]
  },
  {
   "cell_type": "markdown",
   "metadata": {},
   "source": [
    "We can perform the following operations on the two polygons:\n",
    "- difference\n",
    "- intersection\n",
    "- union\n",
    "- symmetric_difference"
   ]
  },
  {
   "cell_type": "code",
   "execution_count": null,
   "metadata": {},
   "outputs": [],
   "source": [
    "poly1.difference(poly3) "
   ]
  },
  {
   "cell_type": "code",
   "execution_count": null,
   "metadata": {},
   "outputs": [],
   "source": [
    "poly1.intersection(poly3) "
   ]
  },
  {
   "cell_type": "code",
   "execution_count": null,
   "metadata": {},
   "outputs": [],
   "source": [
    "poly1.union(poly3) "
   ]
  },
  {
   "cell_type": "code",
   "execution_count": null,
   "metadata": {},
   "outputs": [],
   "source": [
    "poly1.symmetric_difference(poly3) "
   ]
  },
  {
   "cell_type": "markdown",
   "metadata": {},
   "source": [
    "#### Polygon with holes"
   ]
  },
  {
   "cell_type": "code",
   "execution_count": null,
   "metadata": {},
   "outputs": [],
   "source": [
    "poly4 = shpgeom.Polygon(\n",
    "    [(20, 20), (200, 20), (200, 180), (20, 180)],\n",
    "    [[(25, 30), (100, 30), (90, 75), (65, 125)]]\n",
    ")\n",
    "poly4"
   ]
  },
  {
   "cell_type": "code",
   "execution_count": null,
   "metadata": {},
   "outputs": [],
   "source": [
    "shpwkt.loads('POLYGON ((20 20, 200 20, 200 180, 20 180, 20 20), (25 30, 100 30, 90 75, 65 125, 25 30))')"
   ]
  },
  {
   "cell_type": "markdown",
   "metadata": {},
   "source": [
    "#### Use the GeoJSON to formulation"
   ]
  },
  {
   "cell_type": "code",
   "execution_count": null,
   "metadata": {},
   "outputs": [],
   "source": [
    "coords2 = [\n",
    "    [[20.0,20.0],[200.0,20.0],[200.0,180.0],[20.0,180.0],[20.0,20.0]],\n",
    "    [[25.0,30.0],[100.0,30.0],[90.0,75.0],[65.0,125.0],[25.0,30.0]]\n",
    "]\n",
    "d = {\n",
    "  'type': 'Polygon',\n",
    "  'coordinates': coords2\n",
    "}\n",
    "shapely.geometry.shape(d)"
   ]
  },
  {
   "cell_type": "code",
   "execution_count": null,
   "metadata": {},
   "outputs": [],
   "source": [
    "poly4.exterior"
   ]
  },
  {
   "cell_type": "code",
   "execution_count": null,
   "metadata": {},
   "outputs": [],
   "source": [
    "list(poly4.exterior.coords)"
   ]
  },
  {
   "cell_type": "code",
   "execution_count": null,
   "metadata": {},
   "outputs": [],
   "source": [
    "len(poly3.interiors)"
   ]
  },
  {
   "cell_type": "code",
   "execution_count": null,
   "metadata": {},
   "outputs": [],
   "source": [
    "list(poly4.interiors[0].coords)"
   ]
  },
  {
   "cell_type": "markdown",
   "metadata": {},
   "source": [
    "Plotting:"
   ]
  },
  {
   "cell_type": "code",
   "execution_count": null,
   "metadata": {},
   "outputs": [],
   "source": [
    "poly4.boundary"
   ]
  },
  {
   "cell_type": "code",
   "execution_count": null,
   "metadata": {},
   "outputs": [],
   "source": [
    "shpplt.plot_polygon(poly4)"
   ]
  },
  {
   "cell_type": "code",
   "execution_count": null,
   "metadata": {},
   "outputs": [],
   "source": [
    "plot_poly(poly4)"
   ]
  },
  {
   "cell_type": "markdown",
   "metadata": {},
   "source": [
    "### <font color=\"blue\">Note: valid and invalid Polygons</font>\n",
    "\n",
    "- Rings of a _valid Polygon_ may not cross each other, but may touch at a single point only.\n",
    "- Shapely will not prevent the creation of invalid features, but exceptions will be raised when they are operated on."
   ]
  },
  {
   "cell_type": "markdown",
   "metadata": {},
   "source": [
    "#### Example\n",
    "- a) _valid_: The interior ring touches the exterior ring at one point.\n",
    "- b) _invalid_: The interior ring touches the exterior ring at more than one point."
   ]
  },
  {
   "cell_type": "code",
   "execution_count": null,
   "metadata": {},
   "outputs": [],
   "source": [
    "fig = plt.figure(1, figsize=(6,3), dpi=90)\n",
    "\n",
    "# 1: valid polygon\n",
    "ax = fig.add_subplot(121)\n",
    "\n",
    "ext = [(0, 0), (0, 2), (2, 2), (2, 0), (0, 0)]\n",
    "int = [(1, 0), (0.5, 0.5), (1, 1), (1.5, 0.5), (1, 0)][::-1]\n",
    "polygon = shpgeom.Polygon(ext, [int])\n",
    "\n",
    "shpplt.plot_polygon(polygon, ax=ax, add_points=False, color='blue')\n",
    "shpplt.plot_points(polygon, ax=ax, color='gray', alpha=0.7)\n",
    "\n",
    "ax.set_title('a) valid')\n",
    "ax.set_xlim([-1,3])\n",
    "ax.set_ylim([-1,3])\n",
    "\n",
    "#2: invalid self-touching ring \n",
    "ax = fig.add_subplot(122)\n",
    "ext = [(0, 0), (0, 2), (2, 2), (2, 0), (0, 0)]\n",
    "int = [(1, 0), (0, 1), (0.5, 1.5), (1.5, 0.5), (1, 0)][::-1]\n",
    "polygon = shpgeom.Polygon(ext, [int])\n",
    "\n",
    "shpplt.plot_polygon(polygon, ax=ax, add_points=False, color='red')\n",
    "shpplt.plot_points(polygon, ax=ax, color='gray', alpha=0.7)\n",
    "\n",
    "ax.set_title('b) invalid')\n",
    "ax.set_xlim([-1,3])\n",
    "ax.set_ylim([-1,3])\n",
    "plt.tight_layout()"
   ]
  },
  {
   "cell_type": "markdown",
   "metadata": {},
   "source": [
    "#### Example\n",
    "- c) _invalid_: The exterior and interior rings touch along a line.\n",
    "- d) _invalid_: The interior rings touch along a line."
   ]
  },
  {
   "cell_type": "code",
   "execution_count": null,
   "metadata": {},
   "outputs": [],
   "source": [
    "fig = plt.figure(1, figsize=(6,3), dpi=90)\n",
    "\n",
    "# 3: invalid polygon, ring touch along a line\n",
    "ax = fig.add_subplot(121)\n",
    "\n",
    "ext = [(0, 0), (0, 2), (2, 2), (2, 0), (0, 0)]\n",
    "int = [(0.5, 0), (1.5, 0), (1.5, 1), (0.5, 1), (0.5, 0)]\n",
    "polygon = shpgeom.Polygon(ext, [int])\n",
    "\n",
    "shpplt.plot_polygon(polygon, ax=ax, add_points=False, color='red')\n",
    "shpplt.plot_points(polygon, ax=ax, color='gray', alpha=0.7)\n",
    "\n",
    "ax.set_title('c) invalid')\n",
    "ax.set_xlim([-1,3])\n",
    "ax.set_ylim([-1,3])\n",
    "\n",
    "#4: invalid self-touching ring\n",
    "ax = fig.add_subplot(122)\n",
    "ext = [(0, 0), (0, 2), (2, 2), (2, 0), (0, 0)]\n",
    "int_1 = [(0.5, 0.25), (1.5, 0.25), (1.5, 1.25), (0.5, 1.25), (0.5, 0.25)]\n",
    "int_2 = [(0.5, 1.25), (1, 1.25), (1, 1.75), (0.5, 1.75)]\n",
    "polygon = shpgeom.Polygon(ext, [int_1, int_2])\n",
    "\n",
    "shpplt.plot_polygon(polygon, ax=ax, add_points=False, color='red')\n",
    "shpplt.plot_points(polygon, ax=ax, color='gray', alpha=0.7)\n",
    "\n",
    "ax.set_title('d) invalid')\n",
    "ax.set_xlim([-1,3])\n",
    "ax.set_ylim([-1,3])\n",
    "plt.tight_layout()"
   ]
  },
  {
   "cell_type": "markdown",
   "metadata": {},
   "source": [
    "#### Convert LineString and point objects into Polygons"
   ]
  },
  {
   "cell_type": "code",
   "execution_count": null,
   "metadata": {},
   "outputs": [],
   "source": [
    "poly5 = shpgeom.Point(5, 7).buffer(3)\n",
    "poly5"
   ]
  },
  {
   "cell_type": "code",
   "execution_count": null,
   "metadata": {},
   "outputs": [],
   "source": [
    "type(poly5)"
   ]
  },
  {
   "cell_type": "markdown",
   "metadata": {},
   "source": [
    "This is still a polygon (not a circle in a strict sense), comprised, in this case, of `65` points:"
   ]
  },
  {
   "cell_type": "code",
   "execution_count": null,
   "metadata": {},
   "outputs": [],
   "source": [
    "len(np.array(poly5.exterior.coords))"
   ]
  },
  {
   "cell_type": "code",
   "execution_count": null,
   "metadata": {},
   "outputs": [],
   "source": [
    "list(poly5.exterior.coords)"
   ]
  },
  {
   "cell_type": "markdown",
   "metadata": {},
   "source": [
    "You can increase the precision from the default resolution (16), by passing resolution parameter in your buffer:"
   ]
  },
  {
   "cell_type": "code",
   "execution_count": null,
   "metadata": {},
   "outputs": [],
   "source": [
    "poly6 = shpgeom.Point(5, 7).buffer(3, resolution=32)\n",
    "len(np.array(poly6.exterior.coords))"
   ]
  },
  {
   "cell_type": "code",
   "execution_count": null,
   "metadata": {},
   "outputs": [],
   "source": [
    "np.array(poly5.centroid)"
   ]
  },
  {
   "cell_type": "code",
   "execution_count": null,
   "metadata": {},
   "outputs": [],
   "source": [
    "fig, ax = plt.subplots()\n",
    "pts = list(poly5.exterior.coords)\n",
    "x,y = zip(*pts)\n",
    "ax.plot(x, y);"
   ]
  },
  {
   "cell_type": "markdown",
   "metadata": {},
   "source": [
    "Buffer allows you to easily relate polygons and other geometry objects. For example, if you want to cut a polygon by a line of a specific width:"
   ]
  },
  {
   "cell_type": "code",
   "execution_count": null,
   "metadata": {},
   "outputs": [],
   "source": [
    "shpgeom.Point(10,10).buffer(10).difference(\n",
    "    shpgeom.LineString([\n",
    "        (0, 0),\n",
    "        (20, 20)\n",
    "    ]\n",
    "    ).buffer(0.95))"
   ]
  },
  {
   "cell_type": "markdown",
   "metadata": {},
   "source": [
    "You may cut it without any loss of surface area:"
   ]
  },
  {
   "cell_type": "code",
   "execution_count": null,
   "metadata": {},
   "outputs": [],
   "source": [
    "from shapely.ops import split\n",
    "shapely.ops.split(\n",
    "    shpgeom.Point(10,10).buffer(10),\n",
    "    shpgeom.LineString([\n",
    "        (0, 0),\n",
    "        (20, 20)\n",
    "    ])\n",
    ")"
   ]
  },
  {
   "cell_type": "markdown",
   "metadata": {},
   "source": [
    "#### Box"
   ]
  },
  {
   "cell_type": "code",
   "execution_count": null,
   "metadata": {},
   "outputs": [],
   "source": [
    "object_box = shpgeom.box(2, 2, 5, 10)\n",
    "print(object_box.bounds)\n",
    "print(list(object_box.exterior.coords))"
   ]
  },
  {
   "cell_type": "code",
   "execution_count": null,
   "metadata": {},
   "outputs": [],
   "source": [
    "fig, ax = plt.subplots()\n",
    "pts = list(object_box.exterior.coords)\n",
    "x,y = zip(*pts)\n",
    "ax.plot(x, y)\n",
    "ax.set_xlim([0,15])\n",
    "ax.set_ylim([0,15]);"
   ]
  },
  {
   "cell_type": "markdown",
   "metadata": {},
   "source": [
    "## <font color=\"blue\">MultiPolygon Object</font>"
   ]
  },
  {
   "cell_type": "markdown",
   "metadata": {},
   "source": [
    "#### Create individuals polygons"
   ]
  },
  {
   "cell_type": "code",
   "execution_count": null,
   "metadata": {},
   "outputs": [],
   "source": [
    "pl1 = shpgeom.Polygon(((40, 40), (20, 45), (45, 30)))\n",
    "pl1"
   ]
  },
  {
   "cell_type": "code",
   "execution_count": null,
   "metadata": {},
   "outputs": [],
   "source": [
    "pl2 = shpgeom.Polygon(\n",
    "    ((20, 35), (10, 30), (10, 10), (30, 5), (45, 20)), \n",
    "    [[(30, 20), (20, 15), (20, 25)]]    \n",
    ")\n",
    "pl2"
   ]
  },
  {
   "cell_type": "markdown",
   "metadata": {},
   "source": [
    "#### Combine the multiple polygons"
   ]
  },
  {
   "cell_type": "code",
   "execution_count": null,
   "metadata": {},
   "outputs": [],
   "source": [
    "mpoly = shpgeom.MultiPolygon([pl1, pl2])\n",
    "mpoly"
   ]
  },
  {
   "cell_type": "markdown",
   "metadata": {},
   "source": [
    "#### Use the WKT formulation"
   ]
  },
  {
   "cell_type": "code",
   "execution_count": null,
   "metadata": {},
   "outputs": [],
   "source": [
    "shpwkt.loads('''\n",
    "MULTIPOLYGON\n",
    "(((40 40, 20 45, 45 30, 40 40)),\n",
    "((20 35, 10 30, 10 10, 30 5, 45 20, 20 35), (30 20, 20 15, 20 25, 30 20)))\n",
    "''')"
   ]
  },
  {
   "cell_type": "markdown",
   "metadata": {},
   "source": [
    "#### Use the GeoJSON formulation"
   ]
  },
  {
   "cell_type": "code",
   "execution_count": null,
   "metadata": {},
   "outputs": [],
   "source": [
    "d = {\n",
    "  'type': 'MultiPolygon',\n",
    "  'coordinates': [\n",
    "    [\n",
    "      [[40, 40], [20, 45], [45, 30], [40, 40]]\n",
    "    ],\n",
    "    [\n",
    "      [[20, 35], [10, 30], [10, 10], [30, 5], [45, 20], \n",
    "      [20, 35]], \n",
    "      [[30, 20], [20, 15], [20, 25], [30, 20]]\n",
    "    ]\n",
    "  ]\n",
    "}\n",
    "shapely.geometry.shape(d)"
   ]
  },
  {
   "cell_type": "code",
   "execution_count": null,
   "metadata": {},
   "outputs": [],
   "source": [
    "mpoly.bounds"
   ]
  },
  {
   "cell_type": "code",
   "execution_count": null,
   "metadata": {},
   "outputs": [],
   "source": [
    "len(mpoly.geoms)"
   ]
  },
  {
   "cell_type": "code",
   "execution_count": null,
   "metadata": {},
   "outputs": [],
   "source": [
    "mpoly.area"
   ]
  },
  {
   "cell_type": "code",
   "execution_count": null,
   "metadata": {},
   "outputs": [],
   "source": [
    "np.array(mpoly.centroid)"
   ]
  },
  {
   "cell_type": "markdown",
   "metadata": {},
   "source": [
    "### Example\n",
    "\n",
    "We divide our world into western and eastern hemispheres with a hole on the western hemisphere."
   ]
  },
  {
   "cell_type": "markdown",
   "metadata": {},
   "source": [
    "Create the exterior of the western part of the world:"
   ]
  },
  {
   "cell_type": "code",
   "execution_count": null,
   "metadata": {},
   "outputs": [],
   "source": [
    "west_exterior = [(-180, 90), (-180, -90), (0, -90), (0, 90)]"
   ]
  },
  {
   "cell_type": "markdown",
   "metadata": {},
   "source": [
    "Create a hole:"
   ]
  },
  {
   "cell_type": "code",
   "execution_count": null,
   "metadata": {},
   "outputs": [],
   "source": [
    "west_hole = [(-170, 80), (-170, -80), (-10, -80), (-10, 80)]"
   ]
  },
  {
   "cell_type": "markdown",
   "metadata": {},
   "source": [
    "Create a polygon:"
   ]
  },
  {
   "cell_type": "code",
   "execution_count": null,
   "metadata": {},
   "outputs": [],
   "source": [
    "west_poly = shpgeom.Polygon(shell=west_exterior, holes=[west_hole])\n",
    "west_poly"
   ]
  },
  {
   "cell_type": "markdown",
   "metadata": {},
   "source": [
    "Plot the boundary:"
   ]
  },
  {
   "cell_type": "code",
   "execution_count": null,
   "metadata": {},
   "outputs": [],
   "source": [
    "west_poly.boundary"
   ]
  },
  {
   "cell_type": "markdown",
   "metadata": {},
   "source": [
    "Manually extracting exterior and interior boundaries:"
   ]
  },
  {
   "cell_type": "code",
   "execution_count": null,
   "metadata": {},
   "outputs": [],
   "source": [
    "polydiff = shpgeom.Polygon(west_exterior).difference(shpgeom.Polygon(west_hole))\n",
    "xe,ye = polydiff.exterior.xy\n",
    "plt.plot(xe,ye)\n",
    "\n",
    "for LinearRing in polydiff.interiors:\n",
    "    xi,yi = LinearRing.xy\n",
    "    plt.plot(xi,yi)"
   ]
  },
  {
   "cell_type": "markdown",
   "metadata": {},
   "source": [
    "Create he Polygon of our Eastern hemisphere polygon using bounding box.\n",
    "For bounding box we need to specify the lower-left corner coordinates and upper-right coordinates:"
   ]
  },
  {
   "cell_type": "code",
   "execution_count": null,
   "metadata": {},
   "outputs": [],
   "source": [
    "max_x, max_y = 180, 90\n",
    "min_x, min_y = 0, -90"
   ]
  },
  {
   "cell_type": "code",
   "execution_count": null,
   "metadata": {},
   "outputs": [],
   "source": [
    "east_poly_box = shpgeom.box(minx=min_x, miny=min_y, \n",
    "                            maxx=max_x, maxy=max_y)\n",
    "east_poly_box"
   ]
  },
  {
   "cell_type": "markdown",
   "metadata": {},
   "source": [
    "Create the MultiPolygon. We can pass multiple Polygon objects."
   ]
  },
  {
   "cell_type": "code",
   "execution_count": null,
   "metadata": {},
   "outputs": [],
   "source": [
    "multi_poly = shpgeom.MultiPolygon([west_poly, east_poly_box])\n",
    "multi_poly"
   ]
  },
  {
   "cell_type": "code",
   "execution_count": null,
   "metadata": {},
   "outputs": [],
   "source": [
    "multi_poly.area"
   ]
  },
  {
   "cell_type": "code",
   "execution_count": null,
   "metadata": {},
   "outputs": [],
   "source": [
    "# West area\n",
    "multi_poly.geoms[0].area"
   ]
  },
  {
   "cell_type": "code",
   "execution_count": null,
   "metadata": {},
   "outputs": [],
   "source": [
    "# East area\n",
    "multi_poly.geoms[1].area"
   ]
  },
  {
   "cell_type": "code",
   "execution_count": null,
   "metadata": {},
   "outputs": [],
   "source": [
    "area = 0.0\n",
    "for polygon in multi_poly.geoms:\n",
    "    area += polygon.area\n",
    "\n",
    "print(area)"
   ]
  },
  {
   "cell_type": "markdown",
   "metadata": {},
   "source": [
    "### <font color=\"green\">GeometryCollection Object</font>"
   ]
  },
  {
   "cell_type": "code",
   "execution_count": null,
   "metadata": {},
   "outputs": [],
   "source": [
    "poly3.contains(pt1)"
   ]
  },
  {
   "cell_type": "code",
   "execution_count": null,
   "metadata": {},
   "outputs": [],
   "source": [
    "pt1.distance(poly3)"
   ]
  },
  {
   "cell_type": "code",
   "execution_count": null,
   "metadata": {},
   "outputs": [],
   "source": [
    "geocol = shpgeom.GeometryCollection([pt1, poly3])\n",
    "geocol"
   ]
  },
  {
   "cell_type": "code",
   "execution_count": null,
   "metadata": {},
   "outputs": [],
   "source": [
    "print(shapely.to_geojson(geocol, indent=1))"
   ]
  }
 ],
 "metadata": {
  "anaconda-cloud": {},
  "kernelspec": {
   "display_name": "Python 3 (ipykernel)",
   "language": "python",
   "name": "python3"
  },
  "language_info": {
   "codemirror_mode": {
    "name": "ipython",
    "version": 3
   },
   "file_extension": ".py",
   "mimetype": "text/x-python",
   "name": "python",
   "nbconvert_exporter": "python",
   "pygments_lexer": "ipython3",
   "version": "3.11.4"
  }
 },
 "nbformat": 4,
 "nbformat_minor": 4
}
