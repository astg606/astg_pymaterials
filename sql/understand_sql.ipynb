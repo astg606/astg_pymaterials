{
 "cells": [
  {
   "cell_type": "markdown",
   "metadata": {},
   "source": [
    "<center>\n",
    "<table>\n",
    "  <tr>\n",
    "    <td><img src=\"https://portal.nccs.nasa.gov/datashare/astg/training/python/logos/nasa-logo.svg\" width=\"100\"/> </td>\n",
    "     <td><img src=\"https://portal.nccs.nasa.gov/datashare/astg/training/python/logos/ASTG_logo.png?raw=true\" width=\"80\"/> </td>\n",
    "     <td> <img src=\"https://www.nccs.nasa.gov/sites/default/files/NCCS_Logo_0.png\" width=\"130\"/> </td>\n",
    "    </tr>\n",
    "</table>\n",
    "</center>\n",
    "\n",
    "        \n",
    "<center>\n",
    "<h1><font color= \"blue\" size=\"+3\">ASTG Python Courses</font></h1>\n",
    "</center>\n",
    "\n",
    "---\n",
    "\n",
    "<CENTER>\n",
    "<H1>\n",
    "    <font color=\"red\">Python and SQL</font>\n",
    "</H1>\n",
    "</CENTER>"
   ]
  },
  {
   "cell_type": "markdown",
   "metadata": {},
   "source": [
    "# <font color='red'>Objectives</font>\n",
    "\n",
    "In this presentation, you will learn to pull data from relational databases straight into your Python workflow.\n",
    "\n",
    "We will cover the following topics:\n",
    "\n",
    "- What is a database?\n",
    "- What is SQL?\n",
    "- The SQL building blocks.\n",
    "- Create SQL single-table and multi-table databases.\n",
    "- Pull data from a database."
   ]
  },
  {
   "cell_type": "markdown",
   "metadata": {},
   "source": [
    "# <font color='red'>What is a database?</font>\n",
    "\n",
    "- A huge collection of data that is stored and retrieved electronically from a system.\n",
    "- The collected information could be in any number of formats: electronic, printed, graphic, audio, statistical, or combinations of any of them.\n",
    "- The structured data stored in the database is processed, manipulated, controlled, and updated to perform various operations.\n",
    "- The database system is typically composed of the information itself and a database management system (DBMS), allowing users to easily access, update, analyze, and manage the information. \n",
    "\n",
    "There are many types of databases, including:\n",
    "\n",
    "- __Relational databases__: Are highly structured and use a programming language called SQL to query the data. Examples include Microsoft SQL Server, SQLite, MySQL, and PostgreSQL. \n",
    "- __NoSQL databases__: (nonrelational database) A broad category for databases that do not use the traditional table-based relational model. They allows unstructured and semistructured data to be stored and manipulated.\n",
    "- __Distributed databases__: Consist of two or more files located in different sites. The database may be stored on multiple computers, located in the same physical location, or scattered over different networks.\n",
    "- __In-memory databases__: Store data in a device's main memory (RAM) for faster access, making them ideal for real-time applications. \n",
    "- __Document/JSON databases__: Store data in a document format, often JSON, instead of rows and columns. \n",
    "- __Multimodel databases__: Combine different types of database models (like document, graph, and relational) into a single, integrated back end. \n",
    "- __Self-driving databases__: (autonomous databases) Are cloud-based and use machine learning to automate database tuning, security, backups, updates, and other routine management tasks traditionally performed by database administrators.. \n",
    "\n",
    "__In this presentation, we focus on relational databases.__"
   ]
  },
  {
   "cell_type": "markdown",
   "metadata": {},
   "source": [
    "# <font color='red'>What is `SQL`?</font>\n",
    "\n",
    "Structured Query Language (SQL):\n",
    "\n",
    "- Allows users to communicate with relational databases.\n",
    "- Carries out various operations such as inserting, manipulating, updating, and retrieving data from databases.\n",
    "\n",
    "An SQL database has the following features:\n",
    "\n",
    "- __Organization__: Organizes data into tables, with each table containing records (rows) and fields (columns). A primary key is used to uniquely identify each record within a table. \n",
    "- __Access__: Allows multiple users or applications to access, manage, and update data easily. \n",
    "- __Interactions__: Is often separated from an application by a server, creating a more secure and scalable system.\n",
    "\n",
    "`SQL` perfoms the following tasks:\n",
    "\n",
    "- Create new databases, tables, and views\n",
    "- Insert records in a database\n",
    "- Update records in a database\n",
    "- Delete records from a database\n",
    "- Retrieve data from a database\n",
    "\n",
    "__We will carry out the above operations using Python.__"
   ]
  },
  {
   "cell_type": "markdown",
   "metadata": {},
   "source": [
    "## <font color=\"blue\">Applications of SQL</font>\n",
    "\n",
    "- Used to create a database, define its structure, implement it, and perform various functions on the database.\n",
    "- Used for accessing, maintaining, and manipulating already created databases.\n",
    "- A well built language for entering data, modifying data, and extracting data in a database.\n",
    "- Used as a Client/Server language to connect the front-end with the back-end, thus supporting the client/server architecture.\n",
    "- When deployed as Data Control Language (DCL), helps protect your database from unauthorized access."
   ]
  },
  {
   "cell_type": "markdown",
   "metadata": {},
   "source": [
    "## <font color=\"blue\">SQL features</font>\n",
    "\n",
    "- Used to access data within the relational database.\n",
    "- Very fast in extracting large amounts of data very efficiently.\n",
    "- Flexible as it works with multiple database systems from Oracle, IBM, Microsoft, etc.\n",
    "- Helps you manage databases without knowing a lot of coding."
   ]
  },
  {
   "cell_type": "markdown",
   "metadata": {},
   "source": [
    "## <font color=\"blue\">SQL and Python</font>\n",
    "\n",
    "- By using SQL in Python, you benefit from the ability to seamlessly bridge the distance between data retrieval and manipulation.\n",
    "- Combining the two tools unlocks a world of opportunities for data-driven decision-making!"
   ]
  },
  {
   "cell_type": "markdown",
   "metadata": {},
   "source": [
    "## <font color=\"blue\">SQL data types</font>\n",
    "- SQL data types define the kind of values that can be stored in a column within a database table.\n",
    "- Choosing the correct data type is essential for data integrity, storage optimization, and efficient query performance.\n",
    "\n",
    "Common SQL data types include:"
   ]
  },
  {
   "cell_type": "markdown",
   "metadata": {},
   "source": [
    "__Numeric__\n",
    "\n",
    "- _Integers_: Store whole numbers without decimal places. Examples: `INT`, `SMALLINT`, `TINYINT`, `BIGINT`.\n",
    "- _Decimals/Numerics_: Store exact numeric values with a fixed precision and scale, suitable for financial data. Example: `DECIMAL` (precision, scale), `NUMERIC`.\n",
    "- _Floating-Point Numbers_: Store approximate numeric values with decimal places. Examples: `FLOAT`, `REAL`, `DOUBLE PRECISION`."
   ]
  },
  {
   "cell_type": "markdown",
   "metadata": {},
   "source": [
    "__Boolean__\n",
    "\n",
    "- `BOOLEAN`: Stores TRUE or FALSE values. Some databases use `BIT(1)` for this purpose."
   ]
  },
  {
   "cell_type": "markdown",
   "metadata": {},
   "source": [
    "__String/character__\n",
    "\n",
    "- `CHAR(n)`: Stores fixed-length strings of `n` characters.\n",
    "- `VARCHAR(n)`: Stores variable-length strings up to `n` characters.\n",
    "- `TEXT`: Stores large blocks of text.\n",
    "- `NCHAR(n) / NVARCHAR(n)`: Similar to `CHAR/VARCHAR` but for Unicode characters."
   ]
  },
  {
   "cell_type": "markdown",
   "metadata": {},
   "source": [
    "__Date and time__\n",
    "\n",
    "- `DATE`: Stores a date value (YYYY-MM-DD).\n",
    "- `TIME`: Stores a time value (HH:MM:SS).\n",
    "- `DATETIME`: Stores both date and time (YYYY-MM-DD HH:MM:SS). \n",
    "- `TIMESTAMP`: Stores a date and time, often with a higher precision and sometimes converted to UTC for consistency across time zones."
   ]
  },
  {
   "cell_type": "markdown",
   "metadata": {},
   "source": [
    "__Binary__\n",
    "\n",
    "- `BINARY(n)`: Stores fixed-length binary data.\n",
    "- `VARBINARY(n)`: Stores variable-length binary data.\n",
    "- `BLOB` (Binary Large Object): Stores large binary data, such as images or files."
   ]
  },
  {
   "cell_type": "markdown",
   "metadata": {},
   "source": [
    "__Other data types__\n",
    "\n",
    "- `JSON`: Stores structured data in JSON format.\n",
    "- `UUID`: Stores universally unique identifiers.\n",
    "- `MONEY`: Used in some SQL databases specifically for currency values.\n",
    "\n",
    "The specific names and characteristics of these data types can vary slightly between different SQL database systems (e.g., SQLite, MySQL, PostgreSQL, SQL Server, Oracle)."
   ]
  },
  {
   "cell_type": "markdown",
   "metadata": {},
   "source": [
    "## <font color=\"blue\">SQL building block of data creation</font>"
   ]
  },
  {
   "cell_type": "markdown",
   "metadata": {},
   "source": [
    "### `CREATE`: creating database objects\n",
    "\n",
    "The `CREATE` statement allows users to define and create various database objects (`DATABASE`, `TABLE`). \n",
    "\n",
    "The basic syntax for creating a table:\n",
    "\n",
    "```sql\n",
    "CREATE TABLE table_name (\n",
    "    column1 datatype [constraints],\n",
    "    column2 datatype [constraints],\n",
    "    ...\n",
    "    columnN datatype [constraints]\n",
    ");\n",
    "```\n",
    "\n",
    "where:\n",
    "\n",
    "- __table_name__: The name you assign to the new table.\n",
    "- __column1__, __column2__, ...: The names of the columns in the table. \n",
    "- __datatype__: Specifies the type of data the column can hold (e.g., `INT`, `VARCHAR(255)`, `DATE`). \n",
    "- __[constraints]__: Optional rules applied to the column (e.g., `PRIMARY KEY`, `NULL`, `NOT NULL`, `UNIQUE`, `DEFAULT`)."
   ]
  },
  {
   "cell_type": "markdown",
   "metadata": {},
   "source": [
    "#### Example\n",
    "\n",
    "```sql\n",
    "CREATE TABLE customers (\n",
    "    customer_id INT PRIMARY KEY,\n",
    "    name VARCHAR(30) NOT NULL,\n",
    "    email VARCHAR(30) UNIQUE,\n",
    "    transaction_amount FLOAT NOT NULL,\n",
    "    product_description VARCHAR(50) NULL,\n",
    "    transaction_date DATE DEFAULT GETDATE()\n",
    ");\n",
    "```"
   ]
  },
  {
   "cell_type": "markdown",
   "metadata": {},
   "source": [
    "## <font color=\"blue\">SQL building blocks of data retrieval and manipulation</font>\n",
    "\n",
    "- SQL can be seen as a language providing commands we could deliver to a database management system (DBMS) to retrieve, modify, and control data saved within its tables. "
   ]
  },
  {
   "cell_type": "markdown",
   "metadata": {},
   "source": [
    "### `SELECT`: Unveiling the secrets within\n",
    "\n",
    "The `SELECT` statement allows users to extract particular data from your database tables. The basic syntax is:\n",
    "\n",
    "```sql\n",
    "SELECT column1, column2, ..., columnN\n",
    "FROM table_name\n",
    "WHERE condition;\n",
    "```\n",
    "\n",
    "where:\n",
    "\n",
    "- __column1, column2, ..., columnN__: The columns (fields) users want to retrieve from the table. You can select all columns using `*`.\n",
    "- __FROM table_name__: Indicates the table containing the data you want to extract.\n",
    "- __WHERE condition__: Lets you clear the retrieved data based on unique criteria."
   ]
  },
  {
   "cell_type": "markdown",
   "metadata": {},
   "source": [
    "#### Example\n",
    "\n",
    "```sql\n",
    "SELECT name\n",
    "FROM customers;\n",
    "```"
   ]
  },
  {
   "cell_type": "markdown",
   "metadata": {},
   "source": [
    "### `WHERE` clause: refining your search\n",
    "\n",
    "The `WHERE` clause acts as a filter in the `SELECT` statement, allowing users to slim down the retrieved data primarily based on unique situations. "
   ]
  },
  {
   "cell_type": "markdown",
   "metadata": {},
   "source": [
    "#### Example\n",
    "\n",
    "```sql\n",
    "SELECT name\n",
    "FROM customers\n",
    "WHERE email LIKE '%@gmail.com';\n",
    "```"
   ]
  },
  {
   "cell_type": "markdown",
   "metadata": {},
   "source": [
    "### <font color=\"green\">`ORDER BY`: putting things in order</font>\n",
    "\n",
    "The `ORDER BY` clause allows users to find retrieved data based totally on a specific column.\n",
    "\n",
    "```sql\n",
    "SELECT column1, column2, ..., columnN\n",
    "FROM table_name\n",
    "ORDER BY column_name ASC/DESC;\n",
    "```\n",
    "\n",
    "where:\n",
    "\n",
    "- __Column_name__: This specifies the column users need to sort by.\n",
    "- __ASC__: Sorts data in ascending order (lowest to highest).\n",
    "- __DESC__: Sorts data in descending order (highest to lowest)."
   ]
  },
  {
   "cell_type": "markdown",
   "metadata": {},
   "source": [
    "#### Example\n",
    "\n",
    "```sql\n",
    "SELECT name\n",
    "FROM customers\n",
    "ORDER BY name ASC;\n",
    "```"
   ]
  },
  {
   "cell_type": "markdown",
   "metadata": {
    "jp-MarkdownHeadingCollapsed": true
   },
   "source": [
    "### <font color=\"green\">`GROUP BY`</font>\n",
    "\n",
    "- Some time it is required to apply a `SELECT` query in a group of records instead of whole table.\n",
    "- We can group records by using `GROUP BY <column>` clause with `SELECT` command.\n",
    "- A group column is chosen which have non-distinct (repeating) values like City, Job etc.\n",
    "- Generally, the following Aggregate Functions `[MIN(), MAX(), SUM(), AVG(), COUNT()]`, etc. are applied on groups.\n",
    "\n",
    "| Name | Purpose |\n",
    "| --- | --- |\n",
    "| SUM() | Returns the sum of given column. |\n",
    "| MIN() | Returns the minimum value in the given column. |\n",
    "| MAX() | Returns the maximum value in the given column. |\n",
    "| AVG() | Returns the Average value of the given column. |\n",
    "| COUNT() | Returns the total number of values/ records as per given column. | "
   ]
  },
  {
   "cell_type": "markdown",
   "metadata": {},
   "source": [
    "### <font color=\"green\">Data manipulation beyond retrieval: `INSERT`, `UPDATE`, and `DELETE`</font>\n",
    "\n",
    "The `INSERT` statement permits users to add new rows of data to a table.\n",
    "\n",
    "```sql\n",
    "INSERT INTO table_name (column1, column2, ..., columnN)\n",
    "VALUES (value1, value2, ..., valueN);\n",
    "```\n",
    "\n",
    "- __Table_name__: The table where users need to insert the new data.\n",
    "- __Column1, column2, ..., columnN__: The columns (fields) wherein users can insert new values. \n",
    "- __Value1, value2, ..., valueN__: Real data values users want to insert into the corresponding columns.\n"
   ]
  },
  {
   "cell_type": "markdown",
   "metadata": {},
   "source": [
    "#### Example\n",
    "\n",
    "```sql\n",
    "INSERT INTO customers (name, email)\n",
    "VALUES ('John Doe', 'john.doe@example.com');\n",
    "```"
   ]
  },
  {
   "cell_type": "markdown",
   "metadata": {},
   "source": [
    "The `UPDATE` statement allows you to regulate existing data within a table. \n",
    "\n",
    "```sql\n",
    "UPDATE table_name\n",
    "SET column_name = new_value\n",
    "WHERE condition;\n",
    "```\n",
    "\n",
    "- __table_name__: The table containing the data users need to regulate.\n",
    "- __column_name__: The column wherein users need to replace the values.\n",
    "- __new_value__: The brand-new value users want to assign to the required column.\n",
    "- __`WHERE` condition__: Let you target specific rows for amendment based on certain criteria."
   ]
  },
  {
   "cell_type": "markdown",
   "metadata": {},
   "source": [
    "#### Example\n",
    "\n",
    "```sql\n",
    "UPDATE customers\n",
    "SET email = 'john.doe@newcompany.com'\n",
    "WHERE name = 'John Doe';\n",
    "```"
   ]
  },
  {
   "cell_type": "markdown",
   "metadata": {},
   "source": [
    "The `DELETE` statement empowers users to cast off undesirable rows from a table.\n",
    "\n",
    "```sql\n",
    "DELETE FROM table_name\n",
    "WHERE condition;\n",
    "```"
   ]
  },
  {
   "cell_type": "markdown",
   "metadata": {},
   "source": [
    "__The web page [https://www.db-fiddle.com/](https://www.db-fiddle.com/) can be used as a place to test all the above SQL commands.__"
   ]
  },
  {
   "cell_type": "markdown",
   "metadata": {},
   "source": [
    "# <font color='red'>Interface Python with SQL database</font>\n",
    "\n",
    "- Using SQL, databases and tables can be created and data can be accessed, updated and maintained.\n",
    "- The Python standard for database interfaces is the __Python DB-API__.\n",
    "- Python Database API supports a wide range of database servers, like `SQLite`, `msql` , `mysql`, `postgressql`, `Informix`, `oracle`, `Sybase`, etc.\n",
    "   - We must download a separate DB API module for each database we need to access.\n",
    "   - Suppose we need to access an Oracle database as well as a MySQL database, we must download both the Oracle and the MySQL database modules.\n",
    "   - Here, we will use:\n",
    "      - SQLite.\n",
    "      - MySQL as back end database (open source, free and portable ) and rely on the `mysql.connector` DB API package.\n",
    "- The DB API provides a minimal standard for working with databases using Python structuresand syntax wherever possible. The API includes the following:\n",
    "  - Importing the API module.\n",
    "  - Acquiring a connection with the database.\n",
    "  - Issuing SQL statements and stored procedures.\n",
    "  - Closing the connection."
   ]
  },
  {
   "cell_type": "markdown",
   "metadata": {},
   "source": [
    "## <font color=\"blue\">SQLite</font>\n",
    "\n",
    "- SQLite is an embedded database library written in C.\n",
    "- Is a lightweight, file-based relational database management system that is often used in Python applications due to its simplicity and minimal configuration.\n",
    "- It provides concurrent access, allowing multiple processes or threads to access the same database.\n",
    "- It is known as __embedded__ database (as opposite to a database that is installed as a server, and then a client is used to connect to it), because it is included in a program as a library.\n",
    "   - It lacks multi-user functionalities and can’t be managed as a process unlike other database technologies like MySQL or PostgreSQL that use a client-server approach.\n",
    "- All the data is stored in a file — usually with a `.db` extension — and there are functions that allow users to run SQL statements or do any other operation on the database."
   ]
  },
  {
   "cell_type": "markdown",
   "metadata": {},
   "source": [
    "__SQLite in Python__\n",
    "\n",
    "- The `sqlite3` module in Python provides an SQL interface to SQLite and comes pre-installed with Python.\n",
    "- It allows users to create a database, connect to it, create tables, insert data, and execute SQL commands.\n",
    "- The module also supports placeholders, which allow parameter substitution in SQL commands, making it easier to insert variables into a query.\n",
    "- Transactions in SQLite are sequences of operations performed on a database that are treated as a single unit, ensuring data integrity.\n",
    "   - The `sqlite3` module starts a transaction before executing `INSERT`, `UPDATE`, `DELETE`, or `REPLACE` statements.\n",
    "   - Users must call the `commit()` method to save changes made during the transaction, and can handle transactions explicitly by setting the `isolation_level` to `None` when connecting to the database.\n",
    "\n",
    "To install `sqlite3`, issue the command:\n",
    "```shell\n",
    "   pip install sqlite3\n",
    "```"
   ]
  },
  {
   "cell_type": "markdown",
   "metadata": {},
   "source": [
    "## <font color=\"blue\">MySQL</font>\n",
    "\n",
    "- An open-source relational database management system (RDBMS) that organizes data into one or more data tables in which data may be related to each other.\n",
    "   - These relations help structure the data.\n",
    "- MySQL has stand-alone clients that allow users to interact directly with a MySQL database using SQL, but more often, MySQL is used with other programs to implement applications that need relational database capability.\n",
    "\n",
    "__MySQL Connector__\n",
    "\n",
    "- Refers to a set of drivers and libraries that enable applications to connect to and interact with a MySQL database\n",
    "- The connectors are available for various programming languages and technologies, such as MySQL Connector/Python for Python, MySQL Connector/J for Java (using JDBC), and MySQL Connector/ODBC for C++ (using ODBC).\n",
    "\n",
    "__Steps for using `mysql-connector`__\n",
    "\n",
    "To use a connector in Python:\n",
    "\n",
    "1. [Download Mysql API](https://dev.mysql.com/downloads/connector/python/), exe file and install it.\n",
    "2. Install Mysql-Python Connector using:\n",
    "```shell\n",
    "   pip install mysql-connector\n",
    "```"
   ]
  },
  {
   "cell_type": "markdown",
   "metadata": {},
   "source": [
    "# <font color=\"red\">Packages used</font>\n",
    "\n",
    "- __getpass__: Provide a secure to prompt users for sensitive information, such as passwords.\n",
    "- __Pandas__: Package for data analysis and visualization.\n",
    "- __sqlite3__: Provide an interface to interact with SQLite databases.\n",
    "- __mysql-connector__: Python DB API package used to interact with SQL database."
   ]
  },
  {
   "cell_type": "code",
   "execution_count": null,
   "metadata": {},
   "outputs": [],
   "source": [
    "try:\n",
    "    import google.colab\n",
    "    print(\"Running in Google Colab\")\n",
    "except:\n",
    "    print(\"Not running in Google Colab\")\n",
    "else:\n",
    "    print(\"Installing modules in Google Colab\")\n",
    "    !pip install sqlite3\n",
    "    !pip install mysql-connector\n",
    "    !pip install sqlalchemy"
   ]
  },
  {
   "cell_type": "code",
   "execution_count": null,
   "metadata": {},
   "outputs": [],
   "source": [
    "import getpass"
   ]
  },
  {
   "cell_type": "code",
   "execution_count": null,
   "metadata": {},
   "outputs": [],
   "source": [
    "import matplotlib.pyplot as plt\n",
    "import matplotlib.patches as mpatches"
   ]
  },
  {
   "cell_type": "code",
   "execution_count": null,
   "metadata": {},
   "outputs": [],
   "source": [
    "from sqlalchemy import create_engine, inspect"
   ]
  },
  {
   "cell_type": "code",
   "execution_count": null,
   "metadata": {},
   "outputs": [],
   "source": [
    "import numpy as np\n",
    "import pandas as pd\n",
    "import seaborn as sns"
   ]
  },
  {
   "cell_type": "markdown",
   "metadata": {},
   "source": [
    "# <font color=\"red\"> Using SQLite</font>"
   ]
  },
  {
   "cell_type": "code",
   "execution_count": null,
   "metadata": {},
   "outputs": [],
   "source": [
    "import sqlite3"
   ]
  },
  {
   "cell_type": "markdown",
   "metadata": {},
   "source": [
    "## <font color=\"blue\">SQLite database connection with Python</font>\n",
    "\n",
    "The diagram below illustrates how a connection request is sent to SQLite connector Python, how it gets accepted from the database and how the cursor is executed with result data.\n",
    "\n",
    "![fig_sqlite3](https://pynative.com/wp-content/uploads/2019/06/python-sqlite3-module-working.png)\n",
    "Image source: pynative.com"
   ]
  },
  {
   "cell_type": "markdown",
   "metadata": {},
   "source": [
    "__Connect to a SQLite database__\n",
    "\n",
    "Use the `connect()` method to create a connection object (connect to a new database or create one if it does not exist):\n",
    "\n",
    "```python\n",
    "  sqlite_conn = sqlite3.connect(db_file_name)\n",
    "```\n",
    "`db_file_name` can be the full path to the file.\n",
    "\n",
    "You also have the option of creating databases in memory for testing purposes:\n",
    "\n",
    "```python\n",
    "  sqlite_conn = sqlite3.connect(:memory:)\n",
    "```\n"
   ]
  },
  {
   "cell_type": "markdown",
   "metadata": {},
   "source": [
    "__Create the cursor object__\n",
    "\n",
    "Use the `cursor()` method of a connection class to create a __cursor__ object that allows us to execute SQLite commands/queries from Python.\n",
    "\n",
    "```python\n",
    "  cursor = sqlite_conn.cursor()\n",
    "```"
   ]
  },
  {
   "cell_type": "markdown",
   "metadata": {},
   "source": [
    "__Run an SQL query__\n",
    "\n",
    "The `cursor.execute()` methods run the SQL query and return the result.\n",
    "\n",
    "```python\n",
    "  cursor.execute(my_sql_query)\n",
    "```"
   ]
  },
  {
   "cell_type": "markdown",
   "metadata": {},
   "source": [
    "__Read query result__\n",
    "\n",
    "To read query results, use:\n",
    "\n",
    "- `cursor.fetchall()`: to return all the results.\n",
    "- `cursor.fetchone()`: to return one result.\n",
    "- `cursor.fetchmany()`: to return more than one result."
   ]
  },
  {
   "cell_type": "markdown",
   "metadata": {},
   "source": [
    "__Close the cursor and the connection__\n",
    "\n",
    "Use `cursor.close()` and `connection.close()` method to close the __cursor__ and SQLite connections after your work completes\n",
    "\n",
    "```python\n",
    "  cursor.close()\n",
    "  sqlite_conn.close()\n",
    "```"
   ]
  },
  {
   "cell_type": "markdown",
   "metadata": {},
   "source": [
    "## <font color=\"blue\">Supported data types</font>\n",
    "\n",
    "SQLite for Python offers fewer data types than other SQL implementations. It mainly supports numeric, character/string and binary data types."
   ]
  },
  {
   "cell_type": "markdown",
   "metadata": {},
   "source": [
    "## <font color=\"blue\">Simple test</font>\n",
    "\n",
    "- Create and connect to the new database file and prints the SQLite version details.\n",
    "- Use `try/except` statement for error checking."
   ]
  },
  {
   "cell_type": "code",
   "execution_count": null,
   "metadata": {},
   "outputs": [],
   "source": [
    "db_file_name = 'sample_sqlite.db'\n",
    "\n",
    "try:\n",
    "    sqlite_conn = sqlite3.connect(db_file_name)\n",
    "    cursor = sqlite_conn.cursor()\n",
    "    print(\"Database created and Successfully Connected to SQLite\")\n",
    "\n",
    "    sqlite_select_Query = \"select sqlite_version();\"\n",
    "    cursor.execute(sqlite_select_Query)\n",
    "    record = cursor.fetchall()\n",
    "    print(\"SQLite Database Version is: \", record)\n",
    "    cursor.close()\n",
    "\n",
    "except sqlite3.Error as error:\n",
    "    print(\"Error while connecting to sqlite\", error)\n",
    "finally:\n",
    "    if sqlite_conn:\n",
    "        sqlite_conn.close()\n",
    "        print(\"The SQLite connection is closed\")"
   ]
  },
  {
   "cell_type": "markdown",
   "metadata": {},
   "source": [
    "## <font color=\"blue\">Operations on a SQLite database</font>\n",
    "\n",
    "- Create a brand new database, connect to it and perform various operations"
   ]
  },
  {
   "cell_type": "markdown",
   "metadata": {},
   "source": [
    "### <font color=\"green\">Connect to a database and create a cursor object</font>\n",
    "\n",
    "- Establish a connection to an SQLite database file.\n",
    "   - If the file does not exist, it will be created.\n",
    "- Create the cursor object"
   ]
  },
  {
   "cell_type": "code",
   "execution_count": null,
   "metadata": {},
   "outputs": [],
   "source": [
    "db_file_name = 'sqlite_planets.db'\n",
    "\n",
    "try:\n",
    "    sqlite_conn = sqlite3.connect(db_file_name)\n",
    "    cursor = sqlite_conn.cursor()\n",
    "    print(f\"Database {db_file_name} was created and successfully connected to SQLite.\")\n",
    "\n",
    "except Exception as e:\n",
    "    print(\"Something bad happened: \", e)\n",
    "    if sqlite_conn:\n",
    "        sqlite_conn.close()"
   ]
  },
  {
   "cell_type": "markdown",
   "metadata": {},
   "source": [
    "### <font color=\"green\">Create a table</font>\n",
    "\n",
    "- We want to create a `planets` table containing data on the solar system planets:\n",
    "  - `name`: The name of the planet\n",
    "  - `distance`: The distance to the sun\n",
    "  - `mean_radius`:  The planet mean radius (in $km$).\n",
    "  - `orbit_duration`: The amount of time the planet takes to orbit around the sun (in Earth years).\n",
    "  - `orbit_speed`: The planet average orbital speed (in $km/s$)\n",
    "  - `surface_area`: The planet surface area (in $km^2$).\n",
    "  - `num_moons`: The number of moons the planet has.\n",
    "\n",
    "- Execute a `CREATE TABLE SQL` statement to define the structure of your data: the table is named `planets` and has as columns the names mentioned above."
   ]
  },
  {
   "cell_type": "code",
   "execution_count": null,
   "metadata": {},
   "outputs": [],
   "source": [
    "create_planets_table = \"\"\"\n",
    "CREATE TABLE planets (\n",
    "  name VARCHAR(15) PRIMARY KEY,\n",
    "  distance FLOAT(53) NOT NULL,\n",
    "  mean_radius FLOAT(53) NOT NULL,\n",
    "  orbit_duration FLOAT(53) NOT NULL,\n",
    "  orbital_speed FLOAT(53) NOT NULL,\n",
    "  surface_area FLOAT(53) NOT NULL,\n",
    "  num_moons INT NOT NULL\n",
    "  )\n",
    "\"\"\"\n",
    "cursor.execute(create_planets_table);"
   ]
  },
  {
   "cell_type": "markdown",
   "metadata": {},
   "source": [
    "### <font color=\"green\">Insert data</font>\n",
    "\n",
    "- Insert rows into your table using `INSERT INTO` statements.\n",
    "- Use placeholders (`?`) for values to prevent SQL injection."
   ]
  },
  {
   "cell_type": "markdown",
   "metadata": {},
   "source": [
    "__Insert many values at once__\n",
    "\n",
    "- We include data (as a `tuple`) of individual planets in a `list`.\n",
    "- We use the `executemany()` method on the cursor object"
   ]
  },
  {
   "cell_type": "code",
   "execution_count": null,
   "metadata": {},
   "outputs": [],
   "source": [
    "pop_planet_data = [\n",
    "('Mercury', 5.800e+07,  2439.7,   0.24, 47.36, 7.50e+07,   0),\n",
    "('Venus',   1.080e+08,  6051.8,   0.62, 35.02, 4.60e+08,   0),\n",
    "('Earth',   1.497e+08,  6371.0,   1.00, 29.79, 5.10e+08,   1), \n",
    "('Mars',    2.279e+08,  3389.5,   1.88, 24.07, 1.40e+08,   2),\n",
    "('Jupiter', 7.780e+08, 69911.0,  11.86, 13.07, 6.40e+10,  95),\n",
    "('Saturn',  1.434e+09, 58232.0,  29.47,  9.68, 4.40e+10, 146),\n",
    "('Uranus',  2.900e+09, 25362.0,  84.02,  6.80, 8.10e+09,  28),\n",
    "('Pluto',   5.910e+09,  1188.3, 247.94,  4.74, 1.80e+07,   5)    \n",
    "]"
   ]
  },
  {
   "cell_type": "code",
   "execution_count": null,
   "metadata": {},
   "outputs": [],
   "source": [
    "cursor.executemany('INSERT OR REPLACE INTO planets VALUES (?,?,?,?,?,?,?)', pop_planet_data)\n",
    "sqlite_conn.commit()"
   ]
  },
  {
   "cell_type": "markdown",
   "metadata": {},
   "source": [
    "__Insert data of one planet__\n",
    "\n",
    "- We use the `execute()` method on the cursor object to insert data on one planet.\n",
    "- We create a function to execute the operation."
   ]
  },
  {
   "cell_type": "code",
   "execution_count": null,
   "metadata": {},
   "outputs": [],
   "source": [
    "def insert_sqlite_command(conn: sqlite3.Connection, planet_data: tuple) -> None:\n",
    "    command = 'INSERT INTO planets VALUES (?,?,?,?,?,?,?)'\n",
    "    try:\n",
    "        cur = conn.cursor()\n",
    "        cur.execute(command, planet_data)\n",
    "        conn.commit()\n",
    "    except sqlite3.Error as error:\n",
    "        print(f\"Error: '{error}'\")      "
   ]
  },
  {
   "cell_type": "code",
   "execution_count": null,
   "metadata": {},
   "outputs": [],
   "source": [
    "neptune_data = ('Neptune', 4.500e+09, 24622.0, 164.80,  5.43, 7.70e+09,  16)"
   ]
  },
  {
   "cell_type": "code",
   "execution_count": null,
   "metadata": {},
   "outputs": [],
   "source": [
    "insert_sqlite_command(sqlite_conn, neptune_data)"
   ]
  },
  {
   "cell_type": "markdown",
   "metadata": {},
   "source": [
    "### <font color=\"green\">Query the entire database</font>"
   ]
  },
  {
   "cell_type": "code",
   "execution_count": null,
   "metadata": {},
   "outputs": [],
   "source": [
    "def read_sqlite_query(\n",
    "    conn: sqlite3.Connection, \n",
    "    query: str\n",
    ") -> list[tuple]:\n",
    "    \"\"\"\n",
    "    Access the database and extract data based on the query.\n",
    "\n",
    "    Parameters\n",
    "    ----------\n",
    "    conn : sqlite3.Connection\n",
    "       The SQLite connection obejct to the database.\n",
    "    query : str\n",
    "       The operation we want to perform.\n",
    "\n",
    "    Returns\n",
    "    -------\n",
    "    results : list[tuple]\n",
    "       The data extracted from the database based on the query.\n",
    "       It is a list of tuples.    \n",
    "    \"\"\"\n",
    "    cur = conn.cursor()\n",
    "    results = list()\n",
    "    try:\n",
    "        cur.execute(query)\n",
    "        results = cur.fetchall()   \n",
    "    except sqlite3.Error as error:\n",
    "        print(f\"SQLite error: '{error}'\")\n",
    "    return results"
   ]
  },
  {
   "cell_type": "markdown",
   "metadata": {},
   "source": [
    "__Extract all the data of all the planets__"
   ]
  },
  {
   "cell_type": "code",
   "execution_count": null,
   "metadata": {},
   "outputs": [],
   "source": [
    "query_planets = \"SELECT * FROM planets\"\n",
    "extract_records = read_sqlite_query(sqlite_conn, query_planets)\n",
    "for planet in extract_records:\n",
    "    print(planet)"
   ]
  },
  {
   "cell_type": "markdown",
   "metadata": {},
   "source": [
    "__Extract the planets in alphabetical order__"
   ]
  },
  {
   "cell_type": "code",
   "execution_count": null,
   "metadata": {},
   "outputs": [],
   "source": [
    "query_order_planets = \"\"\"\n",
    "SELECT *\n",
    "FROM planets\n",
    "ORDER BY name ASC;\n",
    "\"\"\"\n",
    "\n",
    "extract_records = read_sqlite_query(sqlite_conn, query_order_planets)\n",
    "for planet in extract_records:\n",
    "    print(planet)"
   ]
  },
  {
   "cell_type": "markdown",
   "metadata": {},
   "source": [
    "__Aggregate functions__"
   ]
  },
  {
   "cell_type": "markdown",
   "metadata": {},
   "source": [
    "Count:"
   ]
  },
  {
   "cell_type": "code",
   "execution_count": null,
   "metadata": {},
   "outputs": [],
   "source": [
    "read_sqlite_query(sqlite_conn, \"SELECT COUNT(*) FROM planets;\")[0][0]"
   ]
  },
  {
   "cell_type": "code",
   "execution_count": null,
   "metadata": {},
   "outputs": [],
   "source": [
    "read_sqlite_query(sqlite_conn, \"SELECT COUNT(num_moons) FROM planets;\")[0][0]"
   ]
  },
  {
   "cell_type": "code",
   "execution_count": null,
   "metadata": {},
   "outputs": [],
   "source": [
    "read_sqlite_query(sqlite_conn, \"SELECT COUNT(num_moons) FROM planets WHERE num_moons > 0;\")[0][0]"
   ]
  },
  {
   "cell_type": "markdown",
   "metadata": {},
   "source": [
    "Sum:"
   ]
  },
  {
   "cell_type": "code",
   "execution_count": null,
   "metadata": {},
   "outputs": [],
   "source": [
    "read_sqlite_query(sqlite_conn, \"SELECT SUM(num_moons) FROM planets;\")"
   ]
  },
  {
   "cell_type": "markdown",
   "metadata": {},
   "source": [
    "Max/Min:"
   ]
  },
  {
   "cell_type": "code",
   "execution_count": null,
   "metadata": {},
   "outputs": [],
   "source": [
    "read_sqlite_query(sqlite_conn, \"SELECT MAX(num_moons) FROM planets;\")[0][0]"
   ]
  },
  {
   "cell_type": "code",
   "execution_count": null,
   "metadata": {},
   "outputs": [],
   "source": [
    "read_sqlite_query(sqlite_conn, \"SELECT MIN(num_moons) FROM planets;\")[0][0]"
   ]
  },
  {
   "cell_type": "markdown",
   "metadata": {},
   "source": [
    "Average:"
   ]
  },
  {
   "cell_type": "code",
   "execution_count": null,
   "metadata": {},
   "outputs": [],
   "source": [
    "read_sqlite_query(sqlite_conn, \"SELECT AVG(num_moons) FROM planets;\")[0][0]"
   ]
  },
  {
   "cell_type": "markdown",
   "metadata": {},
   "source": [
    "__Filter a query__\n",
    "\n",
    "We want to extract from the database only the columns  `name`, `distance` and `surface_area` for the planets that have at least one moon."
   ]
  },
  {
   "cell_type": "code",
   "execution_count": null,
   "metadata": {},
   "outputs": [],
   "source": [
    "query_partial_planets = \"\"\"\n",
    "SELECT name, distance, surface_area\n",
    "FROM planets\n",
    "WHERE num_moons > 0\n",
    "\"\"\"\n",
    "\n",
    "partial_results = read_sqlite_query(sqlite_conn, query_partial_planets)\n",
    "for result in partial_results:\n",
    "    print(result)"
   ]
  },
  {
   "cell_type": "markdown",
   "metadata": {},
   "source": [
    "### <font color=\"green\">Fetch one record of a table</font>\n",
    "\n",
    "- We use the `fetchone()` method to retrieve the next row of a query result set and return a single sequence, or None if no more rows are available."
   ]
  },
  {
   "cell_type": "code",
   "execution_count": null,
   "metadata": {},
   "outputs": [],
   "source": [
    "def fetch_sqlite_one_record(\n",
    "    conn: sqlite3.Connection, \n",
    "    query: str\n",
    ") -> tuple:\n",
    "    \"\"\"\n",
    "    Access the database and a single sequence based on the query.\n",
    "\n",
    "    Parameters\n",
    "    ----------\n",
    "    conn : sqlite3.Connection\n",
    "       The SQLite connection obejct to the database.\n",
    "    query : str\n",
    "       The operation we want to perform.\n",
    "\n",
    "    Returns\n",
    "    -------\n",
    "    results : tuple\n",
    "       The data extracted from the database based on the query.\n",
    "    \"\"\"\n",
    "    cur = conn.cursor()\n",
    "    result = tuple()\n",
    "    try:\n",
    "        cur.execute(query)\n",
    "        result = cur.fetchone()   \n",
    "    except sqlite3.Error as error:\n",
    "        print(f\"Error: '{error}'\")\n",
    "    return result"
   ]
  },
  {
   "cell_type": "code",
   "execution_count": null,
   "metadata": {},
   "outputs": [],
   "source": [
    "one_record = fetch_sqlite_one_record(sqlite_conn, query_planets)\n",
    "one_record"
   ]
  },
  {
   "cell_type": "code",
   "execution_count": null,
   "metadata": {},
   "outputs": [],
   "source": [
    "query = \"SELECT COUNT(*) FROM planets\"\n",
    "results = fetch_sqlite_one_record(sqlite_conn, query)\n",
    "results[0]"
   ]
  },
  {
   "cell_type": "code",
   "execution_count": null,
   "metadata": {},
   "outputs": [],
   "source": [
    "query = \"SELECT SUM(num_moons) FROM planets\"\n",
    "results = fetch_sqlite_one_record(sqlite_conn, query)\n",
    "results[0]"
   ]
  },
  {
   "cell_type": "markdown",
   "metadata": {},
   "source": [
    "### <font color=\"green\">List all the tables in the database</font>"
   ]
  },
  {
   "cell_type": "code",
   "execution_count": null,
   "metadata": {},
   "outputs": [],
   "source": [
    "def list_sqlite_tables(conn: sqlite3.Connection) -> list:\n",
    "    \"\"\"\n",
    "    Use the connection object to lists all tables in the database.\n",
    "\n",
    "    Parameters\n",
    "    ----------\n",
    "    conn : sqlite3.Connection\n",
    "       The SQLite connection obejct to the database.\n",
    "\n",
    "    Returns\n",
    "    -------\n",
    "    tables : list\n",
    "       A list of table names in the database.\n",
    "    \"\"\"\n",
    "    table_names = list()\n",
    "    try:\n",
    "        cursor = conn.cursor()\n",
    "\n",
    "        # Query sqlite_master to get table names\n",
    "        cursor.execute(\"SELECT name FROM sqlite_master WHERE type='table';\")\n",
    "        tables = cursor.fetchall()\n",
    "\n",
    "        # Extract table names from the fetched results\n",
    "        table_names = [table[0] for table in tables]\n",
    "    except sqlite3.Error as e:\n",
    "        print(f\"Error connecting to or querying database: {e}\")\n",
    "    return table_names"
   ]
  },
  {
   "cell_type": "code",
   "execution_count": null,
   "metadata": {},
   "outputs": [],
   "source": [
    "list_sqlite_tables(sqlite_conn)"
   ]
  },
  {
   "cell_type": "markdown",
   "metadata": {},
   "source": [
    "### <font color=\"green\">Delete one record of a table</font>\n",
    "\n",
    "- Note that __Pluto__ is not a planet but appears in our database. We want to delete its record."
   ]
  },
  {
   "cell_type": "code",
   "execution_count": null,
   "metadata": {},
   "outputs": [],
   "source": [
    "cursor.execute(\"DELETE FROM planets WHERE name='Pluto';\")\n",
    "sqlite_conn.commit()"
   ]
  },
  {
   "cell_type": "code",
   "execution_count": null,
   "metadata": {},
   "outputs": [],
   "source": [
    "query_planets = \"SELECT * FROM planets\"\n",
    "extract_records = read_sqlite_query(sqlite_conn, query_planets)\n",
    "for planet in extract_records:\n",
    "    print(planet)"
   ]
  },
  {
   "cell_type": "markdown",
   "metadata": {},
   "source": [
    "## <font color=\"blue\">Access the database with Pandas</font>\n",
    "\n",
    "We use Pandas related functions to extract data from table."
   ]
  },
  {
   "cell_type": "markdown",
   "metadata": {},
   "source": [
    "__Use the `read_sql()` function__\n",
    "\n",
    "```python\n",
    "pd.read_sql(\n",
    "    sql, con, index_col=None, \n",
    "    coerce_float=True, params=None, \n",
    "    parse_dates=None, columns=None, \n",
    "    chunksize=None\n",
    ")\n",
    "```"
   ]
  },
  {
   "cell_type": "code",
   "execution_count": null,
   "metadata": {},
   "outputs": [],
   "source": [
    "df = pd.read_sql('SELECT * FROM planets', sqlite_conn)"
   ]
  },
  {
   "cell_type": "code",
   "execution_count": null,
   "metadata": {},
   "outputs": [],
   "source": [
    "df"
   ]
  },
  {
   "cell_type": "markdown",
   "metadata": {},
   "source": [
    "We can also select specific columns:"
   ]
  },
  {
   "cell_type": "code",
   "execution_count": null,
   "metadata": {},
   "outputs": [],
   "source": [
    "columns = ['name', 'distance', 'mean_radius', 'num_moons']\n",
    "pd_sql_query = pd.read_sql('SELECT * FROM planets', sqlite_conn)\n",
    "df = pd.DataFrame(pd_sql_query, columns=columns)\n",
    "df"
   ]
  },
  {
   "cell_type": "markdown",
   "metadata": {},
   "source": [
    "__Use the `read_sql_query()` function__\n",
    "\n",
    "```python\n",
    "pd.read_sql_query(\n",
    "    sql, con, index_col=None, \n",
    "    coerce_float=True, params=None, \n",
    "    parse_dates=None, chunksize=None, \n",
    "    dtype=None\n",
    ")\n",
    "```"
   ]
  },
  {
   "cell_type": "code",
   "execution_count": null,
   "metadata": {},
   "outputs": [],
   "source": [
    "df = pd.read_sql_query(\"SELECT * FROM planets\", sqlite_conn)\n",
    "df"
   ]
  },
  {
   "cell_type": "markdown",
   "metadata": {},
   "source": [
    "## <font color=\"blue\">Sample visualization</font>"
   ]
  },
  {
   "cell_type": "markdown",
   "metadata": {},
   "source": [
    "__Create schema visualization__"
   ]
  },
  {
   "cell_type": "code",
   "execution_count": null,
   "metadata": {},
   "outputs": [],
   "source": [
    "class DatabaseStructureVisualizer:\n",
    "    def __init__(self, engine):\n",
    "        self.engine = engine\n",
    "        self.inspector = inspect(engine)\n",
    "    \n",
    "    def visualize_table_sizes(self):\n",
    "        \"\"\"\n",
    "        Visualize table sizes and record counts.\n",
    "        \"\"\"\n",
    "        \n",
    "        tables = self.inspector.get_table_names()\n",
    "        table_info = []\n",
    "        \n",
    "        for table in tables:\n",
    "            # Get row count\n",
    "            count_query = f\"SELECT COUNT(*) as count FROM {table}\"\n",
    "            result = pd.read_sql_query(count_query, self.engine)\n",
    "            row_count = result['count'].iloc[0]\n",
    "            \n",
    "            # Get column count\n",
    "            columns = self.inspector.get_columns(table)\n",
    "            column_count = len(columns)\n",
    "            \n",
    "            table_info.append({\n",
    "                'table_name': table,\n",
    "                'row_count': row_count,\n",
    "                'column_count': column_count\n",
    "            })\n",
    "        \n",
    "        df = pd.DataFrame(table_info)\n",
    "        \n",
    "        # Create visualization\n",
    "        fig, (ax1, ax2) = plt.subplots(1, 2, figsize=(15, 6))\n",
    "        \n",
    "        # Row counts\n",
    "        bars1 = ax1.bar(df['table_name'], df['row_count'], color='skyblue')\n",
    "        ax1.set_title('Table Row Counts')\n",
    "        ax1.set_ylabel('Number of Rows')\n",
    "        ax1.tick_params(axis='x', rotation=45)\n",
    "        \n",
    "        # Add value labels on bars\n",
    "        for bar in bars1:\n",
    "            height = bar.get_height()\n",
    "            ax1.text(bar.get_x() + bar.get_width()/2., height,\n",
    "                    f'{int(height)}', ha='center', va='bottom')\n",
    "        \n",
    "        # Column counts\n",
    "        bars2 = ax2.bar(df['table_name'], df['column_count'], color='lightgreen')\n",
    "        ax2.set_title('Table Column Counts')\n",
    "        ax2.set_ylabel('Number of Columns')\n",
    "        ax2.tick_params(axis='x', rotation=45)\n",
    "        \n",
    "        # Add value labels on bars\n",
    "        for bar in bars2:\n",
    "            height = bar.get_height()\n",
    "            ax2.text(bar.get_x() + bar.get_width()/2., height,\n",
    "                    f'{int(height)}', ha='center', va='bottom')\n",
    "        \n",
    "        plt.tight_layout()\n",
    "        plt.show()\n",
    "        \n",
    "        return df\n",
    "    \n",
    "    def create_schema_summary(self):\n",
    "        \"\"\"\n",
    "        Create a comprehensive schema summary visualization.\n",
    "        \"\"\"\n",
    "        \n",
    "        tables = self.inspector.get_table_names()\n",
    "        schema_data = []\n",
    "        \n",
    "        for table in tables:\n",
    "            columns = self.inspector.get_columns(table)\n",
    "            foreign_keys = self.inspector.get_foreign_keys(table)\n",
    "            primary_key = self.inspector.get_pk_constraint(table)\n",
    "            \n",
    "            for column in columns:\n",
    "                schema_data.append({\n",
    "                    'table': table,\n",
    "                    'column': column['name'],\n",
    "                    'type': str(column['type']),\n",
    "                    'nullable': column['nullable'],\n",
    "                    'is_primary_key': column['name'] in primary_key['constrained_columns'],\n",
    "                    'is_foreign_key': any(column['name'] in fk['constrained_columns'] for fk in foreign_keys)\n",
    "                })\n",
    "        \n",
    "        schema_df = pd.DataFrame(schema_data)\n",
    "        \n",
    "        # Create summary statistics\n",
    "        summary_stats = {\n",
    "            'Total Tables': len(tables),\n",
    "            'Total Columns': len(schema_df),\n",
    "            'Primary Keys': len(schema_df[schema_df['is_primary_key']]),\n",
    "            'Foreign Keys': len(schema_df[schema_df['is_foreign_key']]),\n",
    "            'Nullable Columns': len(schema_df[schema_df['nullable']])\n",
    "        }\n",
    "        \n",
    "        # Visualize summary\n",
    "        fig, ((ax1, ax2), (ax3, ax4)) = plt.subplots(2, 2, figsize=(16, 12))\n",
    "        \n",
    "        # 1. Schema overview\n",
    "        categories = list(summary_stats.keys())\n",
    "        values = list(summary_stats.values())\n",
    "        ax1.bar(categories, values, color=['blue', 'green', 'red', 'orange', 'purple'])\n",
    "        ax1.set_title('Database Schema Overview')\n",
    "        ax1.set_ylabel('Count')\n",
    "        ax1.tick_params(axis='x', rotation=45)\n",
    "        \n",
    "        # 2. Data types distribution\n",
    "        type_counts = schema_df['type'].value_counts()\n",
    "        ax2.pie(type_counts.values, labels=type_counts.index, autopct='%1.1f%%')\n",
    "        ax2.set_title('Data Types Distribution')\n",
    "        \n",
    "        # 3. Tables by column count\n",
    "        columns_per_table = schema_df.groupby('table').size()\n",
    "        ax3.bar(columns_per_table.index, columns_per_table.values, color='lightcoral')\n",
    "        ax3.set_title('Columns per Table')\n",
    "        ax3.set_ylabel('Number of Columns')\n",
    "        ax3.tick_params(axis='x', rotation=45)\n",
    "        \n",
    "        # 4. Key relationships\n",
    "        key_data = schema_df.groupby('table').agg({\n",
    "            'is_primary_key': 'sum',\n",
    "            'is_foreign_key': 'sum'\n",
    "        })\n",
    "        \n",
    "        x = np.arange(len(key_data.index))\n",
    "        width = 0.35\n",
    "        \n",
    "        ax4.bar(x - width/2, key_data['is_primary_key'], width, label='Primary Keys', alpha=0.8)\n",
    "        ax4.bar(x + width/2, key_data['is_foreign_key'], width, label='Foreign Keys', alpha=0.8)\n",
    "        ax4.set_title('Keys per Table')\n",
    "        ax4.set_ylabel('Number of Keys')\n",
    "        ax4.set_xticks(x)\n",
    "        ax4.set_xticklabels(key_data.index, rotation=45)\n",
    "        ax4.legend()\n",
    "        \n",
    "        plt.tight_layout()\n",
    "        plt.show()\n",
    "        \n",
    "        return schema_df, summary_stats"
   ]
  },
  {
   "cell_type": "code",
   "execution_count": null,
   "metadata": {},
   "outputs": [],
   "source": [
    "engine = create_engine(f'sqlite:///{db_file_name}')\n",
    "structure_viz = DatabaseStructureVisualizer(engine)\n",
    "table_sizes_df = structure_viz.visualize_table_sizes()\n",
    "schema_df, summary_stats = structure_viz.create_schema_summary()"
   ]
  },
  {
   "cell_type": "markdown",
   "metadata": {},
   "source": [
    "__Use `Seaborn` to plot planets relative to their disnace to the sun__"
   ]
  },
  {
   "cell_type": "code",
   "execution_count": null,
   "metadata": {},
   "outputs": [],
   "source": [
    "g = sns.relplot(x=\"name\", y=\"distance\", \n",
    "                size=\"mean_radius\", hue=\"num_moons\",\n",
    "                sizes=(40, 400), \n",
    "                alpha=.75, \n",
    "                palette=\"muted\",\n",
    "                height=6, data=df\n",
    "               )\n",
    "g.set_xticklabels(rotation=90);"
   ]
  },
  {
   "cell_type": "code",
   "execution_count": null,
   "metadata": {},
   "outputs": [],
   "source": []
  },
  {
   "cell_type": "markdown",
   "metadata": {},
   "source": [
    "## <font color=\"blue\">Close connection</font>\n",
    "- Always close the database connection when you are finished."
   ]
  },
  {
   "cell_type": "code",
   "execution_count": null,
   "metadata": {},
   "outputs": [],
   "source": [
    "cursor.close()\n",
    "sqlite_conn.close()"
   ]
  },
  {
   "cell_type": "markdown",
   "metadata": {},
   "source": [
    "# <font color=\"red\">SQLITE database with multiple related tables</font>\n",
    "\n",
    "- We create a database with multiple tables.\n",
    "- The database consists of enrollement statistics of a set of students.\n",
    "- After the database creation, we perform various queries to exttact useful information."
   ]
  },
  {
   "cell_type": "code",
   "execution_count": null,
   "metadata": {},
   "outputs": [],
   "source": [
    "num_students = 50"
   ]
  },
  {
   "cell_type": "code",
   "execution_count": null,
   "metadata": {},
   "outputs": [],
   "source": [
    "students_data = {\n",
    "    'student_id': [f'Student_{i:04}' for i in range(1, num_students+1)],\n",
    "    'age': np.random.randint(18, 25, num_students),\n",
    "    'major': np.random.choice(['CS', 'Math', 'Physics', 'Chemistry'], num_students),\n",
    "    'gpa': np.round(np.random.uniform(2.0, 4.0, num_students), 2)\n",
    "}"
   ]
  },
  {
   "cell_type": "code",
   "execution_count": null,
   "metadata": {},
   "outputs": [],
   "source": [
    "students_df = pd.DataFrame(students_data)\n",
    "students_df"
   ]
  },
  {
   "cell_type": "code",
   "execution_count": null,
   "metadata": {},
   "outputs": [],
   "source": [
    "courses_data = {\n",
    "    'course_id': ['CS101', 'CS201', 'MATH101', 'PHYS101', 'CHEM101'],\n",
    "    'course_name': ['Introduction to Programming Python', 'Data Structures', \n",
    "                    'Calculus I', 'Physics I', 'General Chemistry'],\n",
    "    'credits': [3, 4, 4, 3, 4],\n",
    "    'department': ['CS', 'CS', 'Math', 'Physics', 'Chemistry']\n",
    "}"
   ]
  },
  {
   "cell_type": "code",
   "execution_count": null,
   "metadata": {},
   "outputs": [],
   "source": [
    "courses_df = pd.DataFrame(courses_data)\n",
    "courses_df"
   ]
  },
  {
   "cell_type": "code",
   "execution_count": null,
   "metadata": {},
   "outputs": [],
   "source": [
    "enrollments = list()\n",
    "for idx in range(1, num_students+1):\n",
    "    student_id = f'Student_{idx:04}'\n",
    "    num_courses = np.random.randint(2, 6)  # Each student takes 2-5 courses\n",
    "    student_courses = np.random.choice(courses_data['course_id'], num_courses, replace=False)\n",
    "    for course_id in student_courses:\n",
    "        enrollments.append({\n",
    "            'student_id': student_id,\n",
    "            'course_id': course_id,\n",
    "            'grade': np.random.choice(['A', 'B', 'C', 'D', 'F'], p=[0.3, 0.4, 0.2, 0.08, 0.02])\n",
    "        })     "
   ]
  },
  {
   "cell_type": "code",
   "execution_count": null,
   "metadata": {},
   "outputs": [],
   "source": [
    "enrollments_df = pd.DataFrame(enrollments)\n",
    "enrollments_df"
   ]
  },
  {
   "cell_type": "markdown",
   "metadata": {},
   "source": [
    "## <font color=\"blue\">Create a multi-table database</font>\n",
    "\n",
    "- We store multiple tables within a single database file.\n",
    "   - This is a important aspect of relational database management systems, allowing for the organization of related data into distinct, structured tables that can then be queried and joined.\n",
    "- Use Pandas DataFrames to write the contents of the tables into the database file.\n",
    "- We perform operations (using `COUNT`, `WHERE`, `JOIN`, `GROUP BY`, etc. statements) to extract data from the database."
   ]
  },
  {
   "cell_type": "markdown",
   "metadata": {},
   "source": [
    "__Establish a connection to an SQLite database file__"
   ]
  },
  {
   "cell_type": "code",
   "execution_count": null,
   "metadata": {},
   "outputs": [],
   "source": [
    "db_file_name = 'learner_records.db'"
   ]
  },
  {
   "cell_type": "code",
   "execution_count": null,
   "metadata": {},
   "outputs": [],
   "source": [
    "sqlite_conn = sqlite3.connect(db_file_name)"
   ]
  },
  {
   "cell_type": "markdown",
   "metadata": {},
   "source": [
    "__Enable foreign key constraints__"
   ]
  },
  {
   "cell_type": "code",
   "execution_count": null,
   "metadata": {},
   "outputs": [],
   "source": [
    "#sqlite_conn.execute(\"PRAGMA foreign_keys = ON\")"
   ]
  },
  {
   "cell_type": "markdown",
   "metadata": {},
   "source": [
    "__Populate the database (with dependencies among the tables) using the Pandas DataFrames__"
   ]
  },
  {
   "cell_type": "markdown",
   "metadata": {},
   "source": [
    "Use the `DataFrame.to_sql()` method to write the DataFrame's contents to a table in the connected database."
   ]
  },
  {
   "cell_type": "code",
   "execution_count": null,
   "metadata": {},
   "outputs": [],
   "source": [
    "try: \n",
    "    # Create tables with proper dependencies using SQL\n",
    "    create_tables_sql = \"\"\"\n",
    "    -- Parent table: students (no dependencies)\n",
    "    CREATE TABLE IF NOT EXISTS students (\n",
    "        student_id TEXT PRIMARY KEY,\n",
    "        age INTEGER,\n",
    "        major TEXT,\n",
    "        gpa REAL\n",
    "    );\n",
    "\n",
    "    -- Parent table: students (no dependencies)\n",
    "    CREATE TABLE IF NOT EXISTS courses (\n",
    "        course_id TEXT PRIMARY KEY,\n",
    "        course_name TEXT,\n",
    "        credits INTEGER,\n",
    "        department TEXT\n",
    "    );\n",
    "\n",
    "    -- Child table: employees (depends on students and courses)\n",
    "    CREATE TABLE IF NOT EXISTS enrollments (\n",
    "        student_id TEXT,\n",
    "        course_id TEXT,\n",
    "        grade TEXT,\n",
    "        FOREIGN KEY (student_id) REFERENCES students(student_id),\n",
    "        FOREIGN KEY (course_id) REFERENCES courses(course_id),\n",
    "        UNIQUE(student_id, course_id)\n",
    "    );\n",
    "    \"\"\"\n",
    "\n",
    "    # Execute table creation\n",
    "    sqlite_conn.executescript(create_tables_sql)\n",
    "\n",
    "    # Insert data respecting dependencies\n",
    "    \n",
    "    students_df.to_sql('students',       sqlite_conn, if_exists='replace', index=False)\n",
    "    courses_df.to_sql('courses',         sqlite_conn, if_exists='replace', index=False)\n",
    "    enrollments_df.to_sql('enrollments', sqlite_conn, if_exists='replace', index=False)\n",
    "\n",
    "    sqlite_conn.commit()\n",
    "    \n",
    "    print(f\"Database '{db_file_name}' created successfully!\")\n",
    "\n",
    "    # Display some basic info about the created tables\n",
    "    cursor = sqlite_conn.cursor()\n",
    "    cursor.execute(\"SELECT name FROM sqlite_master WHERE type='table';\")\n",
    "    tables = cursor.fetchall()\n",
    "        \n",
    "    print(f\"\\nDatabase contains {len(tables)} tables:\")\n",
    "    for table in tables:\n",
    "        cursor.execute(f\"SELECT COUNT(*) FROM {table[0]}\")\n",
    "        count = cursor.fetchone()[0]\n",
    "        print(f\"    {table[0]:>15}: {count:4} records\")\n",
    "        \n",
    "except sqlite3.Error as e:\n",
    "    print(f\"Error populating the database: {e}\")"
   ]
  },
  {
   "cell_type": "markdown",
   "metadata": {},
   "source": [
    "__Verify the content of the database__"
   ]
  },
  {
   "cell_type": "code",
   "execution_count": null,
   "metadata": {},
   "outputs": [],
   "source": [
    "query = \"SELECT name FROM sqlite_master WHERE type='table'\"\n",
    "records = read_sqlite_query(sqlite_conn, query)\n",
    "table_names = list()\n",
    "for rec in records:\n",
    "    table_names.append(rec[0])\n",
    "table_names"
   ]
  },
  {
   "cell_type": "code",
   "execution_count": null,
   "metadata": {},
   "outputs": [],
   "source": [
    "table_names = list_sqlite_tables(sqlite_conn)\n",
    "table_names"
   ]
  },
  {
   "cell_type": "code",
   "execution_count": null,
   "metadata": {},
   "outputs": [],
   "source": [
    "query = \"SELECT * FROM students\"\n",
    "read_sqlite_query(sqlite_conn, query)"
   ]
  },
  {
   "cell_type": "code",
   "execution_count": null,
   "metadata": {},
   "outputs": [],
   "source": [
    "query = \"SELECT * FROM courses\"\n",
    "read_sqlite_query(sqlite_conn, query)"
   ]
  },
  {
   "cell_type": "code",
   "execution_count": null,
   "metadata": {},
   "outputs": [],
   "source": [
    "query = \"SELECT * FROM enrollments\"\n",
    "read_sqlite_query(sqlite_conn, query)"
   ]
  },
  {
   "cell_type": "markdown",
   "metadata": {},
   "source": [
    "__Visualize the database__"
   ]
  },
  {
   "cell_type": "code",
   "execution_count": null,
   "metadata": {},
   "outputs": [],
   "source": [
    "engine = create_engine(f'sqlite:///{db_file_name}')\n",
    "structure_viz = DatabaseStructureVisualizer(engine)\n",
    "table_sizes_df = structure_viz.visualize_table_sizes()\n",
    "schema_df, summary_stats = structure_viz.create_schema_summary()"
   ]
  },
  {
   "cell_type": "markdown",
   "metadata": {},
   "source": [
    "## <font color=\"blue\">Extract information from database</font>"
   ]
  },
  {
   "cell_type": "markdown",
   "metadata": {},
   "source": [
    "__Count number of rows in each table__"
   ]
  },
  {
   "cell_type": "code",
   "execution_count": null,
   "metadata": {},
   "outputs": [],
   "source": [
    "for table_name in table_names:\n",
    "    query = f\"SELECT COUNT(*) FROM {table_name}\"\n",
    "    result = fetch_sqlite_one_record(sqlite_conn, query)\n",
    "    print(f\"The {table_name} table has {result[0]} rows.\")"
   ]
  },
  {
   "cell_type": "markdown",
   "metadata": {},
   "source": [
    "__Count the number of courses taken by each student__"
   ]
  },
  {
   "cell_type": "code",
   "execution_count": null,
   "metadata": {},
   "outputs": [],
   "source": [
    "query = 'SELECT student_id, COUNT(*) as num_courses FROM enrollments GROUP BY student_id'\n",
    "records = read_sqlite_query(sqlite_conn, query)\n",
    "for rec in records:\n",
    "    print(f\"{rec[0]:>15}: {rec[1]:3}\")"
   ]
  },
  {
   "cell_type": "markdown",
   "metadata": {},
   "source": [
    "__Compute the average number of courses taken by students__"
   ]
  },
  {
   "cell_type": "code",
   "execution_count": null,
   "metadata": {},
   "outputs": [],
   "source": [
    "query = \"\"\"\n",
    "WITH course_counts AS (\n",
    "    SELECT student_id, COUNT(*) as num_courses\n",
    "    FROM enrollments\n",
    "    GROUP BY student_id\n",
    ")\n",
    "SELECT AVG(num_courses) as avg_num FROM course_counts\n",
    "\"\"\"\n",
    "read_sqlite_query(sqlite_conn, query)[0][0]"
   ]
  },
  {
   "cell_type": "markdown",
   "metadata": {},
   "source": [
    "__Count students by major__"
   ]
  },
  {
   "cell_type": "code",
   "execution_count": null,
   "metadata": {},
   "outputs": [],
   "source": [
    "query = 'SELECT major, COUNT(*) as student_count FROM students GROUP BY major'\n",
    "records = read_sqlite_query(sqlite_conn, query)\n",
    "for rec in records:\n",
    "    print(f\"{rec[0]:>15}: {rec[1]:3}\")"
   ]
  },
  {
   "cell_type": "markdown",
   "metadata": {},
   "source": [
    "__Find all students with `GPA > 3.75`__"
   ]
  },
  {
   "cell_type": "code",
   "execution_count": null,
   "metadata": {},
   "outputs": [],
   "source": [
    "query = 'SELECT * FROM students WHERE gpa > 3.75'\n",
    "records = read_sqlite_query(sqlite_conn, query)\n",
    "for rec in records:\n",
    "    print(rec)"
   ]
  },
  {
   "cell_type": "markdown",
   "metadata": {},
   "source": [
    "__Find students enrolled in `CS` courses with their grades__\n",
    "\n",
    "- We need to use multiple `JOIN`s statement to connect related tables."
   ]
  },
  {
   "cell_type": "code",
   "execution_count": null,
   "metadata": {},
   "outputs": [],
   "source": [
    "query = \"\"\"\n",
    "SELECT s.name, c.course_name, e.grade\n",
    "FROM students s\n",
    "JOIN enrollments e ON s.student_id = e.student_id\n",
    "JOIN courses c ON e.course_id = c.course_id\n",
    "WHERE c.department = 'CS'\n",
    "\"\"\""
   ]
  },
  {
   "cell_type": "code",
   "execution_count": null,
   "metadata": {},
   "outputs": [],
   "source": [
    "records = read_sqlite_query(sqlite_conn, query)\n",
    "for rec in records:\n",
    "    print(rec)"
   ]
  },
  {
   "cell_type": "code",
   "execution_count": null,
   "metadata": {},
   "outputs": [],
   "source": [
    "student_recs_CS = dict()\n",
    "for rec in records:\n",
    "    student_id = rec[0]\n",
    "    if student_id in student_recs_CS:\n",
    "        student_recs_CS[student_id].append(rec[1:])\n",
    "    else:\n",
    "        student_recs_CS[student_id] = [rec[1:]]\n",
    "\n",
    "for student_id in student_recs_CS:\n",
    "    print(student_id)\n",
    "    for rec in student_recs_CS[student_id]:\n",
    "        print(f\"\\t {rec}\")"
   ]
  },
  {
   "cell_type": "markdown",
   "metadata": {},
   "source": [
    "__Calculate average GPA by major, show only majors with avg `GPA > 3.0`__"
   ]
  },
  {
   "cell_type": "code",
   "execution_count": null,
   "metadata": {},
   "outputs": [],
   "source": [
    "query = \"\"\"\n",
    "SELECT major, AVG(gpa) as avg_gpa\n",
    "FROM students\n",
    "GROUP BY major\n",
    "HAVING AVG(gpa) > 3.0\n",
    "ORDER BY avg_gpa DESC\n",
    "\"\"\""
   ]
  },
  {
   "cell_type": "code",
   "execution_count": null,
   "metadata": {},
   "outputs": [],
   "source": [
    "records = read_sqlite_query(sqlite_conn, query)\n",
    "for rec in records:\n",
    "    print(rec)"
   ]
  },
  {
   "cell_type": "markdown",
   "metadata": {},
   "source": [
    "__Find students who are taking more courses than the average__"
   ]
  },
  {
   "cell_type": "code",
   "execution_count": null,
   "metadata": {},
   "outputs": [],
   "source": [
    "query = \"\"\"\n",
    "WITH course_counts AS (\n",
    "    SELECT student_id, COUNT(*) as num_courses\n",
    "    FROM enrollments\n",
    "    GROUP BY student_id\n",
    "),\n",
    "avg_courses AS (\n",
    "    SELECT AVG(num_courses) as avg_num\n",
    "    FROM course_counts\n",
    ")\n",
    "SELECT s.student_id, cc.num_courses\n",
    "FROM students s\n",
    "JOIN course_counts cc ON s.student_id = cc.student_id\n",
    "CROSS JOIN avg_courses ac\n",
    "WHERE cc.num_courses > ac.avg_num\n",
    "ORDER BY cc.num_courses DESC\n",
    "\"\"\""
   ]
  },
  {
   "cell_type": "code",
   "execution_count": null,
   "metadata": {},
   "outputs": [],
   "source": [
    "records = read_sqlite_query(sqlite_conn, query)\n",
    "for rec in records:\n",
    "    print(rec)"
   ]
  },
  {
   "cell_type": "markdown",
   "metadata": {},
   "source": [
    "# <font color=\"red\">Using MySQL</font>"
   ]
  },
  {
   "cell_type": "code",
   "execution_count": null,
   "metadata": {},
   "outputs": [],
   "source": [
    "import mysql.connector\n",
    "from mysql.connector import Error"
   ]
  },
  {
   "cell_type": "markdown",
   "metadata": {},
   "source": [
    "## <font color=\"blue\">SQL connection with Python</font>\n",
    "\n",
    "The diagram illustrates how a connection request is sent to MySQL connector Python, how it gets accepted from the database and how the cursor is executed with result data.\n",
    "\n",
    "![fig_mysql](https://media.geeksforgeeks.org/wp-content/uploads/20210907134817/SQLConnectionpython-660x432.jpg)\n",
    "Image Sourge: geeksforgeeks"
   ]
  },
  {
   "cell_type": "markdown",
   "metadata": {},
   "source": [
    "## <font color=\"blue\">Connect to server and create database</font>"
   ]
  },
  {
   "cell_type": "markdown",
   "metadata": {},
   "source": [
    "### <font color=\"green\">Create database connection function</font>\n",
    "\n",
    "- Use the `mysql.connector.connect()` method to connect to our MySQL Server.\n",
    "- The method has the following arguments:\n",
    "   - __host__: The server name or IP address on which MySQL is running.\n",
    "      If running on localhost, then use `localhost` or its IP `127.0.0.0`.\n",
    "   - __user__: The username that you use to work with MySQL Server.\n",
    "      The default username for the MySQL database is a `root`.\n",
    "   - __passwd__: The password is needed at the time of installing the MySQL server.\n",
    "   - __database__: The name of the database to which you want to connect and perform the operations."
   ]
  },
  {
   "cell_type": "code",
   "execution_count": null,
   "metadata": {},
   "outputs": [],
   "source": [
    "def create_server_connection(\n",
    "    host_name: str, \n",
    "    user_name: str, \n",
    "    user_password: str\n",
    ") -> mysql.connector.connection_cext.CMySQLConnection:\n",
    "    \"\"\"\n",
    "    Connect to the server.\n",
    "\n",
    "    Parameters\n",
    "    ----------\n",
    "    host_name : str\n",
    "      Name of the server to contain the database.\n",
    "    user_name : str\n",
    "      Name of the user.\n",
    "    user_password : str\n",
    "      Password of the user\n",
    "\n",
    "    Returns\n",
    "    -------\n",
    "    connection : mysql.connector.connection_cext.CMySQLConnection\n",
    "      The object identifying the connection to the server.\n",
    "    \"\"\"\n",
    "    connection = None\n",
    "    try:\n",
    "        connection = mysql.connector.connect(\n",
    "            host=host_name,\n",
    "            user=user_name,\n",
    "            passwd=user_password\n",
    "        )\n",
    "        print(\"MySQL Database connection successful\")\n",
    "    except Error as err:\n",
    "        print(f\"Error: '{err}'\")\n",
    "\n",
    "    return connection"
   ]
  },
  {
   "cell_type": "markdown",
   "metadata": {},
   "source": [
    "Provide the password:"
   ]
  },
  {
   "cell_type": "code",
   "execution_count": null,
   "metadata": {},
   "outputs": [],
   "source": [
    "root_password = getpass.getpass(\"Provide the root password: \")"
   ]
  },
  {
   "cell_type": "markdown",
   "metadata": {},
   "source": [
    "Provide the name of the database:"
   ]
  },
  {
   "cell_type": "code",
   "execution_count": null,
   "metadata": {},
   "outputs": [],
   "source": [
    "db_name = \"solar_planet\""
   ]
  },
  {
   "cell_type": "code",
   "execution_count": null,
   "metadata": {},
   "outputs": [],
   "source": [
    "connection = create_server_connection(\"localhost\", \"root\", root_password)"
   ]
  },
  {
   "cell_type": "markdown",
   "metadata": {},
   "source": [
    "### <font color=\"green\">Define a function to create a database</font>\n",
    "\n",
    "- Use the `cursor()` method (from the `CMySQLConnection` object) to create a cursor object to perform various SQL operations.\n",
    "- Use the `execute()` method to run the SQL query and return the result."
   ]
  },
  {
   "cell_type": "code",
   "execution_count": null,
   "metadata": {},
   "outputs": [],
   "source": [
    "def create_database(\n",
    "    connection: mysql.connector.connection_cext.CMySQLConnection, \n",
    "    query: str\n",
    "):\n",
    "    cursor = connection.cursor()\n",
    "    try:\n",
    "        cursor.execute(query)\n",
    "        print(\"Database created successfully\")\n",
    "    except Error as err:\n",
    "        print(f\"Error: '{err}'\")"
   ]
  },
  {
   "cell_type": "code",
   "execution_count": null,
   "metadata": {},
   "outputs": [],
   "source": [
    "create_database_query = f\"CREATE DATABASE {db_name}\""
   ]
  },
  {
   "cell_type": "code",
   "execution_count": null,
   "metadata": {},
   "outputs": [],
   "source": [
    "create_database(connection, create_database_query)"
   ]
  },
  {
   "cell_type": "markdown",
   "metadata": {},
   "source": [
    "### <font color=\"green\">Modify server connection function and create database connection function</font>"
   ]
  },
  {
   "cell_type": "code",
   "execution_count": null,
   "metadata": {},
   "outputs": [],
   "source": [
    "def create_database_connection(\n",
    "    host_name: str, \n",
    "    user_name: str, \n",
    "    user_password: str, \n",
    "    db_name: str\n",
    ") -> mysql.connector.connection_cext.CMySQLConnection:\n",
    "    \"\"\"\n",
    "    Connect to the server.\n",
    "\n",
    "    Parameters\n",
    "    ----------\n",
    "    host_name : str\n",
    "      Name of the server to contain the database.\n",
    "    user_name : str\n",
    "      Name of the user.\n",
    "    user_password : str\n",
    "      Password of the user\n",
    "    db_name : str\n",
    "      Database name\n",
    "\n",
    "    Returns\n",
    "    -------\n",
    "    connection : mysql.connector.connection_cext.CMySQLConnection\n",
    "    \"\"\"\n",
    "    connection = None\n",
    "    try:\n",
    "        connection = mysql.connector.connect(\n",
    "            host=host_name,\n",
    "            user=user_name,\n",
    "            passwd=user_password,\n",
    "            database=db_name\n",
    "        )\n",
    "        print(\"MySQL Database connection successful\")\n",
    "    except Error as err:\n",
    "        print(f\"Error: '{err}'\")\n",
    "\n",
    "    return connection"
   ]
  },
  {
   "cell_type": "code",
   "execution_count": null,
   "metadata": {},
   "outputs": [],
   "source": [
    "type(connection)"
   ]
  },
  {
   "cell_type": "code",
   "execution_count": null,
   "metadata": {},
   "outputs": [],
   "source": [
    "def execute_query(\n",
    "    connection: mysql.connector.connection_cext.CMySQLConnection, \n",
    "    query: str\n",
    "):\n",
    "    cursor = connection.cursor()\n",
    "    try:\n",
    "        cursor.execute(query)\n",
    "        connection.commit()\n",
    "        print(\"Query successful\")\n",
    "    except Error as err:\n",
    "        print(f\"Error: '{err}'\")"
   ]
  },
  {
   "cell_type": "markdown",
   "metadata": {},
   "source": [
    "## <font color=\"blue\">Creating tables</font>\n",
    "\n",
    "- Here we want to create a database containing information on solar planets.\n",
    "- We list each solar planet and include:\n",
    "   - its name\n",
    "   - its distance to the sun\n",
    "   - the number of moons it has\n",
    "   - its orbital speed\n",
    "   - its mean radius\n",
    "   - its orbital duration\n",
    "   - its surface area"
   ]
  },
  {
   "cell_type": "markdown",
   "metadata": {},
   "source": [
    "### <font color=\"green\">Create the planet table</font>"
   ]
  },
  {
   "cell_type": "markdown",
   "metadata": {},
   "source": [
    "Connect to the database:"
   ]
  },
  {
   "cell_type": "code",
   "execution_count": null,
   "metadata": {},
   "outputs": [],
   "source": [
    "connection = create_database_connection(\"localhost\", \"root\", root_password, db_name) "
   ]
  },
  {
   "cell_type": "markdown",
   "metadata": {},
   "source": [
    "Execute our defined query:"
   ]
  },
  {
   "cell_type": "code",
   "execution_count": null,
   "metadata": {},
   "outputs": [],
   "source": [
    "execute_query(connection, create_planets_table)"
   ]
  },
  {
   "cell_type": "markdown",
   "metadata": {},
   "source": [
    "## <font color=\"blue\">Populate table</font>\n",
    "\n",
    "- Insert the planet information."
   ]
  },
  {
   "cell_type": "code",
   "execution_count": null,
   "metadata": {},
   "outputs": [],
   "source": [
    "pop_planet_data = \"\"\"\n",
    "INSERT INTO planets VALUES\n",
    "('Mercury', 5.800e+07,  2439.7,   0.24, 47.36, 7.50e+07,   0),\n",
    "('Venus',   1.080e+08,  6051.8,   0.62, 35.02, 4.60e+08,   0),\n",
    "('Earth',   1.497e+08,  6371.0,   1.00, 29.79, 5.10e+08,   1), \n",
    "('Mars',    2.279e+08,  3389.5,   1.88, 24.07, 1.40e+08,   2),\n",
    "('Jupiter', 7.780e+08, 69911.0,  11.86, 13.07, 6.40e+10,  95),\n",
    "('Saturn',  1.434e+09, 58232.0,  29.47,  9.68, 4.40e+10, 146),\n",
    "('Uranus',  2.900e+09, 25362.0,  84.02,  6.80, 8.10e+09,  28),\n",
    "('Pluto',   5.910e+09,  1188.3, 247.94,  4.74, 1.80e+07,   5);\n",
    "\"\"\""
   ]
  },
  {
   "cell_type": "code",
   "execution_count": null,
   "metadata": {},
   "outputs": [],
   "source": [
    "connection = create_database_connection(\"localhost\", \"root\", root_password, db_name) \n",
    "execute_query(connection, pop_planet_data)"
   ]
  },
  {
   "cell_type": "markdown",
   "metadata": {},
   "source": [
    "## <font color=\"blue\">Reading data</font>\n",
    "\n",
    "We want to read the information write in the database."
   ]
  },
  {
   "cell_type": "markdown",
   "metadata": {},
   "source": [
    "### <font color=\"green\">Define function for reading all the data</font>\n",
    "\n",
    "- We use the `fetchall()` method to retrieve all the data from the table `planets`."
   ]
  },
  {
   "cell_type": "code",
   "execution_count": null,
   "metadata": {},
   "outputs": [],
   "source": [
    "def read_query(\n",
    "    connection: mysql.connector.connection_cext.CMySQLConnection, \n",
    "    query: str\n",
    "):\n",
    "    cursor = connection.cursor()\n",
    "    result = None\n",
    "    try:\n",
    "        cursor.execute(query)\n",
    "        result = cursor.fetchall()   \n",
    "    except Error as err:\n",
    "        print(f\"Error: '{err}'\")\n",
    "    return result"
   ]
  },
  {
   "cell_type": "markdown",
   "metadata": {},
   "source": [
    "We use the `SELECT` command to retrieve all the data from all the columns in the `planets` table."
   ]
  },
  {
   "cell_type": "code",
   "execution_count": null,
   "metadata": {},
   "outputs": [],
   "source": [
    "query_planets = \"\"\"\n",
    "SELECT *\n",
    "FROM planets;\n",
    "\"\"\""
   ]
  },
  {
   "cell_type": "code",
   "execution_count": null,
   "metadata": {},
   "outputs": [],
   "source": [
    "connection = create_database_connection(\"localhost\", \"root\", root_password, db_name)\n",
    "results = read_query(connection, query_planets)"
   ]
  },
  {
   "cell_type": "code",
   "execution_count": null,
   "metadata": {},
   "outputs": [],
   "source": [
    "type(results)"
   ]
  },
  {
   "cell_type": "code",
   "execution_count": null,
   "metadata": {},
   "outputs": [],
   "source": [
    "for result in results:\n",
    "    print(result)"
   ]
  },
  {
   "cell_type": "markdown",
   "metadata": {},
   "source": [
    "### <font color=\"green\">Pass the data into a Pandas DataFrame</font>"
   ]
  },
  {
   "cell_type": "code",
   "execution_count": null,
   "metadata": {},
   "outputs": [],
   "source": [
    "columns = [\"name\", \"distance\", \"mean_radius\", \n",
    "           \"orbit_duration\", \"orbital_speed\", \n",
    "           \"surface_area\", \"num_moons\"]"
   ]
  },
  {
   "cell_type": "code",
   "execution_count": null,
   "metadata": {},
   "outputs": [],
   "source": [
    "df = pd.DataFrame(results, columns=columns)"
   ]
  },
  {
   "cell_type": "code",
   "execution_count": null,
   "metadata": {},
   "outputs": [],
   "source": [
    "df"
   ]
  },
  {
   "cell_type": "code",
   "execution_count": null,
   "metadata": {},
   "outputs": [],
   "source": [
    "df.info()"
   ]
  },
  {
   "cell_type": "markdown",
   "metadata": {},
   "source": [
    "### <font color=\"green\">Order the planet names</font>"
   ]
  },
  {
   "cell_type": "code",
   "execution_count": null,
   "metadata": {},
   "outputs": [],
   "source": [
    "query_order_planets = \"\"\"\n",
    "SELECT *\n",
    "FROM planets\n",
    "ORDER BY name ASC;\n",
    "\"\"\""
   ]
  },
  {
   "cell_type": "code",
   "execution_count": null,
   "metadata": {},
   "outputs": [],
   "source": [
    "connection = create_database_connection(\"localhost\", \"root\", root_password, db_name)\n",
    "order_results = read_query(connection, query_order_planets)"
   ]
  },
  {
   "cell_type": "code",
   "execution_count": null,
   "metadata": {},
   "outputs": [],
   "source": [
    "for result in order_results:\n",
    "    print(result)"
   ]
  },
  {
   "cell_type": "markdown",
   "metadata": {},
   "source": [
    "### <font color=\"green\">Aggregate functions<font>"
   ]
  },
  {
   "cell_type": "code",
   "execution_count": null,
   "metadata": {},
   "outputs": [],
   "source": [
    "read_query(connection, \"SELECT COUNT(*) FROM planets;\")[0][0]"
   ]
  },
  {
   "cell_type": "code",
   "execution_count": null,
   "metadata": {},
   "outputs": [],
   "source": [
    "read_query(connection, \"SELECT SUM(num_moons) FROM planets;\")"
   ]
  },
  {
   "cell_type": "code",
   "execution_count": null,
   "metadata": {},
   "outputs": [],
   "source": [
    "read_query(connection, \"SELECT MAX(num_moons) FROM planets;\")[0][0]"
   ]
  },
  {
   "cell_type": "code",
   "execution_count": null,
   "metadata": {},
   "outputs": [],
   "source": [
    "read_query(connection, \"SELECT MIN(num_moons) FROM planets;\")[0][0]"
   ]
  },
  {
   "cell_type": "code",
   "execution_count": null,
   "metadata": {},
   "outputs": [],
   "source": [
    "read_query(connection, \"SELECT AVG(num_moons) FROM planets;\")[0][0]"
   ]
  },
  {
   "cell_type": "code",
   "execution_count": null,
   "metadata": {},
   "outputs": [],
   "source": [
    "read_query(connection, \"SELECT COUNT(num_moons) FROM planets;\")[0][0]"
   ]
  },
  {
   "cell_type": "code",
   "execution_count": null,
   "metadata": {},
   "outputs": [],
   "source": [
    "read_query(connection, \"SELECT COUNT(num_moons) FROM planets WHERE num_moons > 0;\")[0][0]"
   ]
  },
  {
   "cell_type": "markdown",
   "metadata": {},
   "source": [
    "### <font color=\"green\">Filter the query</font>\n",
    "\n",
    "We want to extract from the database only the columns  `name`, `distance` and `surface_area` for the planets that have at least one moon.\n"
   ]
  },
  {
   "cell_type": "code",
   "execution_count": null,
   "metadata": {},
   "outputs": [],
   "source": [
    "query_partial_planets = \"\"\"\n",
    "SELECT name, distance, surface_area\n",
    "FROM planets\n",
    "WHERE num_moons > 0\n",
    "\"\"\""
   ]
  },
  {
   "cell_type": "code",
   "execution_count": null,
   "metadata": {},
   "outputs": [],
   "source": [
    "connection = create_database_connection(\"localhost\", \"root\", root_password, db_name)\n",
    "partial_results = read_query(connection, query_partial_planets)"
   ]
  },
  {
   "cell_type": "code",
   "execution_count": null,
   "metadata": {},
   "outputs": [],
   "source": [
    "for result in partial_results:\n",
    "    print(result)"
   ]
  },
  {
   "cell_type": "markdown",
   "metadata": {},
   "source": [
    "### <font color=\"green\">Fetch one record of a table</font>\n",
    "\n",
    "- We use the `fetchone()` method to retrieve the next row of a query result set and return a single sequence, or None if no more rows are available.\n",
    "- By default, the returned tuple consists of data returned by the MySQL server, converted to Python objects."
   ]
  },
  {
   "cell_type": "code",
   "execution_count": null,
   "metadata": {},
   "outputs": [],
   "source": [
    "def fetch_one_record(\n",
    "    connection: mysql.connector.connection_cext.CMySQLConnection, \n",
    "    query: str\n",
    "):\n",
    "    cursor = connection.cursor()\n",
    "    result = None\n",
    "    try:\n",
    "        cursor.execute(query)\n",
    "        result = cursor.fetchone()   \n",
    "    except Error as err:\n",
    "        print(f\"Error: '{err}'\")\n",
    "    return result"
   ]
  },
  {
   "cell_type": "code",
   "execution_count": null,
   "metadata": {},
   "outputs": [],
   "source": [
    "connection = create_database_connection(\"localhost\", \"root\", root_password, db_name)\n",
    "one_record = fetch_one_record(connection, query_planets)"
   ]
  },
  {
   "cell_type": "code",
   "execution_count": null,
   "metadata": {},
   "outputs": [],
   "source": [
    "one_record"
   ]
  },
  {
   "cell_type": "markdown",
   "metadata": {},
   "source": [
    "# <font color='red'>Reference Documents</font>\n",
    "\n",
    "- [Unveiling the Power of SQL with Python](https://www.upgrad.com/tutorials/software-engineering/sql-tutorial/sql-with-python/) from upGrad\n",
    "- [How to Create and Manipulate SQL Databases with Python](https://www.freecodecamp.org/news/connect-python-with-sql/) from freeCodeCamp\n",
    "- [Python SQLite tutorial using sqlite3](https://pynative.com/python-sqlite/) from PYnative Python Programming."
   ]
  },
  {
   "cell_type": "code",
   "execution_count": null,
   "metadata": {},
   "outputs": [],
   "source": []
  }
 ],
 "metadata": {
  "kernelspec": {
   "display_name": "Python 3 (ipykernel)",
   "language": "python",
   "name": "python3"
  },
  "language_info": {
   "codemirror_mode": {
    "name": "ipython",
    "version": 3
   },
   "file_extension": ".py",
   "mimetype": "text/x-python",
   "name": "python",
   "nbconvert_exporter": "python",
   "pygments_lexer": "ipython3",
   "version": "3.12.7"
  }
 },
 "nbformat": 4,
 "nbformat_minor": 4
}
