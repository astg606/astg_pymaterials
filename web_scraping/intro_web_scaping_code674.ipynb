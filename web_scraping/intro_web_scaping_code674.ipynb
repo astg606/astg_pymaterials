{
 "cells": [
  {
   "cell_type": "markdown",
   "metadata": {},
   "source": [
    "<center>\n",
    "<table>\n",
    "  <tr>\n",
    "    <td><img src=\"https://portal.nccs.nasa.gov/datashare/astg/training/python/logos/nasa-logo.svg\" width=\"100\"/> </td>\n",
    "     <td><img src=\"https://portal.nccs.nasa.gov/datashare/astg/training/python/logos/ASTG_logo.png?raw=true\" width=\"80\"/> </td>\n",
    "     <td> <img src=\"https://www.nccs.nasa.gov/sites/default/files/NCCS_Logo_0.png\" width=\"130\"/> </td>\n",
    "    </tr>\n",
    "</table>\n",
    "</center>\n",
    "\n",
    "        \n",
    "<center>\n",
    "<h1><font color= \"blue\" size=\"+3\">ASTG Python Courses</font></h1>\n",
    "</center>\n",
    "\n",
    "---\n",
    "\n",
    "<CENTER>\n",
    "<H1> <font color=\"red\" size=\"+3\">\n",
    "    Web Scraping with Python </font> \n",
    "</H1>\n",
    "    <br>\n",
    "<font color=\"black\" size=\"+3\">\n",
    "    Accessing the DONKI Database\n",
    "</font>\n",
    "</CENTER>"
   ]
  },
  {
   "cell_type": "markdown",
   "metadata": {},
   "source": [
    "## <font color='red'>Reference Documents</font>\n",
    "\n",
    "- [Web Scraping: What It Is and How to Use It](https://scrape-it.cloud/blog/web-scraping-what-it-is-and-how-to-use-it)\n",
    "- [What is web scraping](https://www.scrapehero.com/a-beginners-guide-to-web-scraping-part-1-the-basics/)\n",
    "- [Python Requests Tutorial](http://zetcode.com/python/requests/)\n",
    "- [Python’s Requests Library (Guide](https://realpython.com/python-requests/)\n",
    "- [Building a Web Scraper from start to finish](https://hackernoon.com/building-a-web-scraper-from-start-to-finish-bb6b95388184)"
   ]
  },
  {
   "cell_type": "markdown",
   "metadata": {},
   "source": [
    "## <font color='red'>Objectives</font>\n",
    "\n",
    "In this course, we want to describe web scraping and show how it can be accomplished with Python. We present the basic steps of web scraping and run examples on accessing HTTP servers, grabbing the content of web pages (in JSON format), parsing the content to extract useful information and performing analyses.\n",
    "\n",
    "The following topics will be covered:\n",
    "\n",
    "+ What is web scraping?\n",
    "+ What is JSON?\n",
    "+ Accessing Web Pages with `requests`\n",
    "+ Web Scraping with `Json`\n",
    "\n",
    "We expect that at end of this presentation, participants will be able to write Python scripts that automatically perform web scraping to extract specific data from webpages."
   ]
  },
  {
   "cell_type": "markdown",
   "metadata": {},
   "source": [
    "## <font color='red'>Web Scraping</font>\n",
    "\n",
    "> Web scraping is a mechanism of collecting large amounts of data from a webpage and store the data into any required format which further helps us to perform analysis on the extracted data.\n",
    "\n",
    "\n",
    "- It is used to extract or “scrape” data from any web page on the Internet.\n",
    "- It is performed using a “**web-scraper**” (or a “bot” or a “web spider” or “web crawler”). \n",
    "    - A web-scraper is a program that goes to web pages, downloads the contents, extracts data out of the contents and then saves the data to a file or a database."
   ]
  },
  {
   "cell_type": "markdown",
   "metadata": {},
   "source": [
    "![fig_json](https://daveberesford.co.uk/wp-content/uploads/2019/02/data-scraping-960x594.png)\n",
    "Image Source: daveberesford.co.uk"
   ]
  },
  {
   "cell_type": "markdown",
   "metadata": {},
   "source": [
    "Web scraping involves a three-step process:\n",
    "\n",
    "1. **Step 1**: Send an HTTP request to the webpage\n",
    "   - The server responds to the request by returning the (JSON, HTML, etc.) content of the target webpage.\n",
    "2. **Step 2**: Parse the webpage content\n",
    "   - A parser is needed to create a nested structure of the data. \n",
    "3. **Step 3**: Pull out useful data out\n",
    "   - We use Python packages such as Json and Beautiful Soup to pull out data and store them.\n",
    "   \n",
    "![fig_scap](https://scrape-it.cloud/assets/cache_image/assets/blog_img/web-scraping-process2_760x0_073.webp)\n",
    "Image Source: [scrape-it.cloud](https://scrape-it.cloud/blog/web-scraping-what-it-is-and-how-to-use-it)\n",
    "     \n",
    "\n",
    "__Web Scrapers crawl websites, extracts data from it, transforms to a usable structured format and load it to a file or database for subsequent use.__\n"
   ]
  },
  {
   "cell_type": "markdown",
   "metadata": {},
   "source": [
    "## <font color='red'>Required Packages</font>\n",
    "We will need the Python packages:\n",
    "\n",
    "- `requests`: for accessing servers and getting the contents of web pages.\n",
    "- `json`: for manipulating JSON documents.\n",
    "- `BeautifulSoup`: for pulling information out of HTML and XML files. \n",
    "- `Pandas`: for data analysis and manipulation.\n",
    "- `Matplotlib`: for creating visualization.\n",
    "- `Seaborn`: for drawing attractive and informative statistical graphics.\n",
    "- `Plotly`: for making interactive graphs."
   ]
  },
  {
   "cell_type": "code",
   "execution_count": null,
   "metadata": {},
   "outputs": [],
   "source": [
    "import warnings\n",
    "warnings.filterwarnings(\"ignore\")"
   ]
  },
  {
   "cell_type": "code",
   "execution_count": null,
   "metadata": {},
   "outputs": [],
   "source": [
    "import os\n",
    "import pprint\n",
    "import re"
   ]
  },
  {
   "cell_type": "code",
   "execution_count": null,
   "metadata": {},
   "outputs": [],
   "source": [
    "import requests as reqs"
   ]
  },
  {
   "cell_type": "code",
   "execution_count": null,
   "metadata": {},
   "outputs": [],
   "source": [
    "import json"
   ]
  },
  {
   "cell_type": "code",
   "execution_count": null,
   "metadata": {},
   "outputs": [],
   "source": [
    "%matplotlib inline\n",
    "import matplotlib.pyplot as plt"
   ]
  },
  {
   "cell_type": "code",
   "execution_count": null,
   "metadata": {},
   "outputs": [],
   "source": [
    "import pandas as pd"
   ]
  },
  {
   "cell_type": "code",
   "execution_count": null,
   "metadata": {},
   "outputs": [],
   "source": [
    "import seaborn as sns"
   ]
  },
  {
   "cell_type": "code",
   "execution_count": null,
   "metadata": {},
   "outputs": [],
   "source": [
    "import plotly.express as px"
   ]
  },
  {
   "cell_type": "code",
   "execution_count": null,
   "metadata": {},
   "outputs": [],
   "source": [
    "from bs4 import BeautifulSoup as bso"
   ]
  },
  {
   "cell_type": "code",
   "execution_count": null,
   "metadata": {},
   "outputs": [],
   "source": [
    "from IPython.display import HTML"
   ]
  },
  {
   "cell_type": "code",
   "execution_count": null,
   "metadata": {},
   "outputs": [],
   "source": [
    "#print(f\"Requests version:  {reqs.__version__}\")\n",
    "#print(f\"JSON version:      {json.__version__}\")"
   ]
  },
  {
   "cell_type": "markdown",
   "metadata": {},
   "source": [
    "# <font color='red'>What is `JSON`? </font>\n",
    "\n",
    "* JSON (JavaScript Object Notation) is a popular data format used for representing structured data. \n",
    "* It is a text format that is language independent and can be used in Python, Perl among other languages. \n",
    "* JSON format is used for data communications between servers and web applications.\n",
    "* It is built on two structures:\n",
    "    - A collection of name/value pairs. This is realized as an object, record, dictionary, hash table, keyed list, or associative array.\n",
    "    - An ordered list of values. This is realized as an array, vector, list, or sequence."
   ]
  },
  {
   "cell_type": "markdown",
   "metadata": {},
   "source": [
    "#### Examples of JSON Data\n",
    "\n",
    "__Example 1__\n",
    "\n",
    "```python\n",
    "{\n",
    "    \"stations\": [\n",
    "        {\n",
    "            \"acronym\": “BLD”, \n",
    "            \"name\": \"Boulder Colorado\",\n",
    "            \"latitude”: 40.00,\n",
    "            \"longitude”: -105.25\n",
    "        }, \n",
    "        {\n",
    "            \"acronym”: “BHD”, \n",
    "            \"name\": \"Baring Head Wellington New Zealand\",\n",
    "            \"latitude\": -41.28,\n",
    "            \"longitude\": 174.87\n",
    "        }\n",
    "    ]\n",
    "}\n",
    "```\n",
    "\n",
    "This looks like a Python disctionary that has one key (`stations`) with a corresponding value a list (of two dictionaries)."
   ]
  },
  {
   "cell_type": "markdown",
   "metadata": {},
   "source": [
    "__Example 2__\n",
    "\n",
    "```python\n",
    "{\n",
    "  \"cme\": {\n",
    "    \"start_time\": \"2020-11-24T13:24:00Z\",\n",
    "    \"lat\": \"-10\",\n",
    "    \"lon\": \"-148\",\n",
    "    \"half_width\": \"42\",\n",
    "    \"speed\": \"878\",\n",
    "    \"time_at_height\": {\n",
    "      \"time\": \"2020-11-24T17:19Z\",\n",
    "      \"height\": \"21.5\"\n",
    "    },\n",
    "    \"coordinates\": \"HEEQ\",\n",
    "    \"catalog\": \"DONKI\",\n",
    "    \"catalog_id\": \"2020-11-24T13:24:00-CME-001\"\n",
    "  }\n",
    "}\n",
    "```\n",
    "\n",
    "This looks like a Python dictionary that has one key (`cme`) with a corresponding value another dictionary."
   ]
  },
  {
   "cell_type": "markdown",
   "metadata": {},
   "source": [
    "### <font color=\"blue\">`JSON` Main Functions</font>\n",
    "`JSON` has two sets of functions:\n",
    "\n",
    "- Set 1 - for serialization (process of transforming objects or data structures into byte streams or strings)\n",
    "   - `dumps()`: Returns a string representing a JSON object from a Python object.\n",
    "   - `dump()`: Store a file (`.json`) the JSON representation of a Python object.\n",
    "- Set 2 - for deserialization (conversion of JSON object into their respective Python objects)\n",
    "   - `loads()`: Returns a Python object from a string representing a JSON object.\n",
    "   - `load()`: Retrieve from a `.json` (with a JSON object) the Python object.\n",
    "\n",
    "\n",
    "![fig_json](https://www.bogotobogo.com/python/images/json_load_dump/python-json-load-loads-dump-dumps.png)\n",
    "Image Source: [www.bogotobogo.com](https://www.bogotobogo.com/python/python-json-dumps-loads-file-read-write.php)"
   ]
  },
  {
   "cell_type": "markdown",
   "metadata": {},
   "source": [
    "### <font color=\"blue\"> What `JSON` is Used For?</font>\n",
    "\n",
    "\n",
    "![fig_sd](https://miro.medium.com/max/1150/1*9zJJ65xk8agiQXlqd7nYUw.jpeg)\n",
    "Image Source: Phonlawat Khunphet"
   ]
  },
  {
   "cell_type": "markdown",
   "metadata": {},
   "source": [
    "# <font color='red'>Accessing Web Servers with `requests` </font>\n",
    "\n",
    "* Requests is a built-in Python module.\n",
    "* Requests is a simple and elegant Python HTTP (Hypertext Transfer Protocol) library. \n",
    "* It provides methods for accessing Web resources via HTTP. \n",
    "* The HTTP request returns a Response Object with all the response data (content, encoding, status, etc.)."
   ]
  },
  {
   "cell_type": "markdown",
   "metadata": {},
   "source": [
    "**Reading a Web Page**\n",
    "- We use the function `get()` to grab the content of a web page into an object.\n",
    "- We extract from the object the HTML content of the page."
   ]
  },
  {
   "cell_type": "code",
   "execution_count": null,
   "metadata": {},
   "outputs": [],
   "source": [
    "resp = reqs.get(\"http://www.webcode.me\")"
   ]
  },
  {
   "cell_type": "markdown",
   "metadata": {},
   "source": [
    "We can get all information from the `resp` object:"
   ]
  },
  {
   "cell_type": "code",
   "execution_count": null,
   "metadata": {},
   "outputs": [],
   "source": [
    "print(resp.text)"
   ]
  },
  {
   "cell_type": "markdown",
   "metadata": {},
   "source": [
    "We can use the module `re` to strip all the HTML markups from the content."
   ]
  },
  {
   "cell_type": "code",
   "execution_count": null,
   "metadata": {},
   "outputs": [],
   "source": [
    "resp = reqs.get(\"http://www.webcode.me\")\n",
    "\n",
    "content = resp.text\n",
    "\n",
    "stripped = re.sub('<[^<]+?>', '', content)\n",
    "print(stripped)"
   ]
  },
  {
   "cell_type": "markdown",
   "metadata": {},
   "source": [
    "#### Encoding"
   ]
  },
  {
   "cell_type": "markdown",
   "metadata": {},
   "source": [
    "- When you issue a request, `Requests` makes educated guesses about the encoding of the response based on the HTTP headers. \n",
    "- The text encoding guessed by `Requests` is used when you access `resp.text`. "
   ]
  },
  {
   "cell_type": "code",
   "execution_count": null,
   "metadata": {},
   "outputs": [],
   "source": [
    "resp.encoding"
   ]
  },
  {
   "cell_type": "code",
   "execution_count": null,
   "metadata": {},
   "outputs": [],
   "source": [
    "resp.text"
   ]
  },
  {
   "cell_type": "markdown",
   "metadata": {},
   "source": [
    "#### Getting the Status of a Web Page\n",
    "- We perform an HTTP request with the `get()` method and check for the returned status code.\n",
    "- A status code informs you of the status of the request: if the request was successfull or not.\n",
    "- `200` is a standard response for a successful HTTP request and `404` tells that the requested resource could not be found.\n",
    "- By accessing `.status_code`, you can see the status code that the server returned."
   ]
  },
  {
   "cell_type": "code",
   "execution_count": null,
   "metadata": {},
   "outputs": [],
   "source": [
    "resp = reqs.get(\"http://www.webcode.me\")\n",
    "print(resp.status_code)"
   ]
  },
  {
   "cell_type": "code",
   "execution_count": null,
   "metadata": {},
   "outputs": [],
   "source": [
    "resp = reqs.get(\"http://www.webcode.me/news\")\n",
    "print(resp.status_code)"
   ]
  },
  {
   "cell_type": "markdown",
   "metadata": {},
   "source": [
    "#### Check first if a webpage is accessible\n",
    "\n",
    "We write a function to check first that a website is accessible."
   ]
  },
  {
   "cell_type": "code",
   "execution_count": null,
   "metadata": {},
   "outputs": [],
   "source": [
    "def access_website(url):\n",
    "    try:\n",
    "        resp = reqs.get(url)\n",
    "        resp.raise_for_status()\n",
    "        print(f\"Valid url {url}\")\n",
    "    except reqs.exceptions.RequestException as errex:\n",
    "        print(f\"Invalid url: {url}\")\n",
    "    return resp"
   ]
  },
  {
   "cell_type": "code",
   "execution_count": null,
   "metadata": {},
   "outputs": [],
   "source": [
    "url = \"http://www.webcode.me\"\n",
    "resp = access_website(url)\n",
    "print(f\"Status Code: {resp.status_code}\")"
   ]
  },
  {
   "cell_type": "code",
   "execution_count": null,
   "metadata": {},
   "outputs": [],
   "source": [
    "url = \"http://www.webcode.me/news\"\n",
    "resp = access_website(url)\n",
    "print(f\"Status Code: {resp.status_code}\")"
   ]
  },
  {
   "cell_type": "markdown",
   "metadata": {},
   "source": [
    "**Other Information**"
   ]
  },
  {
   "cell_type": "code",
   "execution_count": null,
   "metadata": {},
   "outputs": [],
   "source": [
    "url = \"http://www.webcode.me\"\n",
    "resp = access_website(url)\n",
    "if resp.status_code == 200:\n",
    "    print(f\"\\t URL:      {resp.url}\")\n",
    "    print(f\"\\t Encoding: {resp.encoding}\")\n",
    "    print(f\"\\t Time:     {resp.elapsed}\")"
   ]
  },
  {
   "cell_type": "markdown",
   "metadata": {},
   "source": [
    "#### Server Headers\n",
    "\n",
    "We can access the headers the server sent back to us:"
   ]
  },
  {
   "cell_type": "code",
   "execution_count": null,
   "metadata": {},
   "outputs": [],
   "source": [
    "resp.headers"
   ]
  },
  {
   "cell_type": "code",
   "execution_count": null,
   "metadata": {},
   "outputs": [],
   "source": [
    "headers = resp.headers\n",
    "for key in headers:\n",
    "    print(f\"{key:20} --> {headers[key]}\")"
   ]
  },
  {
   "cell_type": "markdown",
   "metadata": {},
   "source": [
    "#### More on the `get()` Method\n",
    "- The `get()` method issues a GET request to the server. \n",
    "- The GET method requests a representation of the specified resource.\n",
    "\n",
    "```python\n",
    "requests.get(url, params={key: value}, args)\n",
    "```\n",
    "\n",
    "| Parameter | Description |\n",
    "| --- | :--- |\n",
    "|`url` | (required) The url of the request |\n",
    "| `params` | (optional) A dictionary, list of tuples or bytes to send as a query string. |\n",
    "| `allow_redirects` | (optional) A Boolean to enable/disable redirection. |\n",
    "| `auth` | (optional) A tuple to enable a certain HTTP authentication. |\n",
    "| `cert` | (optional) A String or Tuple specifying a cert file or key. |\n",
    "| `cookies` | (optional) A dictionary of cookies to send to the specified url. |\n",
    "| `headers` | (optional) A dictionary of HTTP headers to send to the specified url. |\n",
    "| `proxies` | (optional) A dictionary of the protocol to the proxy url. |\n",
    "| `stream` | (optional) A Boolean indication if the response should be immediately downloaded (False) or streamed (True). |\n",
    "| `timeout` | (optional) A number, or a tuple, indicating how many seconds to wait for the client to make a connection and/or send a response. |\n",
    "| `verify` | (optional) A Boolean or a String indication to verify the servers TLS certificate or not. |"
   ]
  },
  {
   "cell_type": "markdown",
   "metadata": {},
   "source": [
    "#### Sending Parmeters in URL\n",
    "\n",
    "- We often ant to send some sort of data in the URL’s query string.\n",
    "- The `get()` method takes a `params` keyword argument where we can specify the query parameters.\n",
    "     - The beginning of the query parameters is denoted by a question mark (`?`).\n",
    "     - The pieces of information constituting one query parameter are encoded in key-value pairs, where related keys and values are joined together by an equals sign (`key=value`).\n",
    "     - Every URL can have multiple query parameters, which are separated from each other by an ampersand (`&`)\n",
    "\n",
    "If:\n",
    "```python\n",
    "   {'key1': value1, 'key2': value2, 'key2': value3}\n",
    "```\n",
    "is the dictionary of the parameters, and `https://MyOwnWebsite.com/` is the url, then the final url to access will be:\n",
    "```\n",
    "    https://MyOwnWebsite.com/?key1=value1&key2=value2&key3=value3\n",
    "```\n",
    "\n",
    "The code to reach the webpage is:\n",
    "```Python\n",
    "payload = {'key1': value1, 'key2': value2, 'key2': value3}\n",
    "resp = reqs.get(\"https://MyOwnWebsite.com\", params=payload)\n",
    "```"
   ]
  },
  {
   "cell_type": "markdown",
   "metadata": {},
   "source": [
    "The following script sends a variable with a value to the `httpbin.org` server. The variable is specified directly in the URL."
   ]
  },
  {
   "cell_type": "code",
   "execution_count": null,
   "metadata": {},
   "outputs": [],
   "source": [
    "resp = reqs.get(\"https://httpbin.org/get?name=Peter\")\n",
    "print(resp.text)"
   ]
  },
  {
   "cell_type": "markdown",
   "metadata": {},
   "source": [
    "We send a `get()` request to the web site and pass the data, which is specified in the `params` parameter:"
   ]
  },
  {
   "cell_type": "code",
   "execution_count": null,
   "metadata": {},
   "outputs": [],
   "source": [
    "payload = {'name': 'Peter'}\n",
    "resp = reqs.get(\"https://httpbin.org/get\", params=payload)"
   ]
  },
  {
   "cell_type": "markdown",
   "metadata": {},
   "source": [
    "`payload` is a dictionary of pairs of keys/values:"
   ]
  },
  {
   "cell_type": "code",
   "execution_count": null,
   "metadata": {},
   "outputs": [],
   "source": [
    "payload = {'name': 'Peter', 'age': 23}\n",
    "resp = reqs.get(\"https://httpbin.org/get\", params=payload)"
   ]
  },
  {
   "cell_type": "code",
   "execution_count": null,
   "metadata": {},
   "outputs": [],
   "source": [
    "print(resp.url)"
   ]
  },
  {
   "cell_type": "code",
   "execution_count": null,
   "metadata": {},
   "outputs": [],
   "source": [
    "print(resp.text)"
   ]
  },
  {
   "cell_type": "markdown",
   "metadata": {},
   "source": [
    "You can also pass a list of items as a value:"
   ]
  },
  {
   "cell_type": "code",
   "execution_count": null,
   "metadata": {},
   "outputs": [],
   "source": [
    "payload = {'name': ['Peter', 'Johns'], 'age': 23}\n",
    "resp = reqs.get(\"https://httpbin.org/get\", params=payload)"
   ]
  },
  {
   "cell_type": "code",
   "execution_count": null,
   "metadata": {},
   "outputs": [],
   "source": [
    "print(resp.url)"
   ]
  },
  {
   "cell_type": "markdown",
   "metadata": {},
   "source": [
    "### Content-Type\n",
    "\n",
    "- It is part of the HTTP header.\n",
    "   - A string used to indicate the media type of the resource you want to access.  \n",
    "   - It tells the browser the type of content it has to load on the machine. \n",
    "- Here are some values of `content-type`:\n",
    "\n",
    "```html\n",
    "   text/html\n",
    "   text/csv\n",
    "   application/json\n",
    "   application/javascript\n",
    "   audio/ogg\n",
    "   image/png\n",
    "```\n",
    "\n",
    "- While scraping a web page, it is used to determine which tool is needed to parse the content of a web page."
   ]
  },
  {
   "cell_type": "code",
   "execution_count": null,
   "metadata": {},
   "outputs": [],
   "source": [
    "print(f\"Content Type: \\n\\t {resp.headers['content-type']}\")"
   ]
  },
  {
   "cell_type": "markdown",
   "metadata": {},
   "source": [
    "#### Revisiting the function to accesss a web page\n",
    "We want to pass the `payload` and `timeout` as arguments of the function."
   ]
  },
  {
   "cell_type": "code",
   "execution_count": null,
   "metadata": {},
   "outputs": [],
   "source": [
    "def access_website(url: str, payload: dict=None, timeout: int=10):\n",
    "    \"\"\"\n",
    "    Attempt to access a server. If the attempt is successful,\n",
    "    return the response object, otherwise return an error message.\n",
    "\n",
    "    Parameters\n",
    "    ----------\n",
    "    url : str\n",
    "       HTTP address of the web page we want to access\n",
    "    payload : dict\n",
    "       Parameters needed to construct the target url.\n",
    "    timeout: int\n",
    "       Maximum time (in seconds) to access a website and grab its content.\n",
    "\n",
    "    Returns\n",
    "    -------\n",
    "    resp : object\n",
    "       Object which has infomation on the web page of interest.\n",
    "    \"\"\"\n",
    "    try:\n",
    "        if payload:\n",
    "            resp = reqs.get(url, params=payload, timeout=timeout)\n",
    "        else:\n",
    "            resp = reqs.get(url, timeout=timeout)\n",
    "        resp.raise_for_status()\n",
    "    except reqs.exceptions.HTTPError as errh:\n",
    "        print(f\"Http Error: {errh}\")\n",
    "    except reqs.exceptions.ConnectionError as errc:\n",
    "        print(f\"Error Connecting: {errc}\")\n",
    "    except reqs.exceptions.Timeout as errt:\n",
    "        print(f\"Timeout Error: {errt}\")\n",
    "    except reqs.exceptions.RequestException as err:\n",
    "        print(f\"General Error: {err}\")\n",
    "    else:\n",
    "        print(f\"Successfully accessed the site: \\n\\t {resp.url}\")\n",
    "    \n",
    "    return resp"
   ]
  },
  {
   "cell_type": "markdown",
   "metadata": {},
   "source": [
    "---"
   ]
  },
  {
   "cell_type": "markdown",
   "metadata": {},
   "source": [
    "## <font color=\"red\">Accessing the DONKI webservice API</font>\n",
    "\n",
    "The Space Weather Database Of Notifications, Knowledge, Information (DONKI), developed at the Community Coordinated Modeling Center (CCMC), is a comprehensive on-line tool for space weather forecasters, scientists, and the general space science community.\n",
    "\n",
    "DONKI provides:\n",
    "- Chronicles the daily interpretations of space weather observations, analysis, models output, and notifications provided by the Moon to Mars Space Weather Analysis Office as a courtesy to the community.\n",
    "- Comprehensive knowledge-base search functionality to support anomaly resolution and space science research.\n",
    "- Intelligent linkages, relationships, cause-and-effects between space weather activities.\n",
    "- Comprehensive webservice API access to information stored in DONKI\n",
    "\n",
    "\n",
    "__Our goal__:\n",
    "- We want to be able to obtain from the webpage [https://kauai.ccmc.gsfc.nasa.gov/DONKI/WS/get/CME](https://kauai.ccmc.gsfc.nasa.gov/DONKI/WS/get/CME) the Coronal Mass Ejection (CME) data\n",
    "- We access the webpage (using a set of parameters) and retrieve the content of the page as a JSON object.\n"
   ]
  },
  {
   "cell_type": "markdown",
   "metadata": {},
   "source": [
    "### <font color=\"blue\">Access CME Web Database Server</font>\n",
    "\n",
    "The based URL is: `https://kauai.ccmc.gsfc.nasa.gov/DONKI/WS/get/CME`\n",
    "\n",
    "To access the data, we need to provide two parameters:\n",
    "\n",
    "- `startDate` (YYYY-MM-DD): default to 30 days prior to current UTC date\n",
    "- `endDate` (YYYY-MM-DD): default to current UTC date"
   ]
  },
  {
   "cell_type": "code",
   "execution_count": null,
   "metadata": {},
   "outputs": [],
   "source": [
    "url_cme = \"https://kauai.ccmc.gsfc.nasa.gov/DONKI/WS/get/CME\""
   ]
  },
  {
   "cell_type": "code",
   "execution_count": null,
   "metadata": {},
   "outputs": [],
   "source": [
    "startDate=\"2017-01-01\"\n",
    "endDate=\"2017-03-31\"\n",
    "\n",
    "payload = {\n",
    "    'startDate': startDate,\n",
    "    'endDate': endDate,\n",
    "}\n",
    "\n",
    "page_content = access_website(url_cme, payload, timeout=150)"
   ]
  },
  {
   "cell_type": "markdown",
   "metadata": {},
   "source": [
    "__Determine the content type__:"
   ]
  },
  {
   "cell_type": "code",
   "execution_count": null,
   "metadata": {},
   "outputs": [],
   "source": [
    "print(f\"Content type: \\n\\t {page_content.headers['content-type']}\")"
   ]
  },
  {
   "cell_type": "markdown",
   "metadata": {},
   "source": [
    "### <font color=\"blue\">Process the data with JSON</font>\n",
    "\n",
    "- We have a JSON object that we need to convert into a Python object.\n",
    "- We need to use the `loads()` function (deserialization)."
   ]
  },
  {
   "cell_type": "code",
   "execution_count": null,
   "metadata": {},
   "outputs": [],
   "source": [
    "json_page = json.loads(page_content.text)"
   ]
  },
  {
   "cell_type": "markdown",
   "metadata": {},
   "source": [
    "Whenever we have a Python object, it is good to determine its type before proceeding."
   ]
  },
  {
   "cell_type": "code",
   "execution_count": null,
   "metadata": {},
   "outputs": [],
   "source": [
    "type(json_page)"
   ]
  },
  {
   "cell_type": "markdown",
   "metadata": {},
   "source": [
    "What is the length of the list?"
   ]
  },
  {
   "cell_type": "code",
   "execution_count": null,
   "metadata": {},
   "outputs": [],
   "source": [
    "len(json_page)"
   ]
  },
  {
   "cell_type": "markdown",
   "metadata": {},
   "source": [
    "Let us look at the first entry of the list:"
   ]
  },
  {
   "cell_type": "code",
   "execution_count": null,
   "metadata": {},
   "outputs": [],
   "source": [
    "pprint.pprint(json_page[0])"
   ]
  },
  {
   "cell_type": "markdown",
   "metadata": {},
   "source": [
    "It seems that there is was no activity on `2017-01-01T00:39Z`: \n",
    "\n",
    "```\n",
    "  'cmeAnalyses': None\n",
    "```"
   ]
  },
  {
   "cell_type": "code",
   "execution_count": null,
   "metadata": {},
   "outputs": [],
   "source": [
    "one_activity = json_page[1]"
   ]
  },
  {
   "cell_type": "code",
   "execution_count": null,
   "metadata": {},
   "outputs": [],
   "source": [
    "pprint.pprint(one_activity)"
   ]
  },
  {
   "cell_type": "markdown",
   "metadata": {},
   "source": [
    "### <font color=\"blue\">Basic data extraction from one CME activity</font>"
   ]
  },
  {
   "cell_type": "markdown",
   "metadata": {},
   "source": [
    "We need to first get the keys of the dictionary:"
   ]
  },
  {
   "cell_type": "code",
   "execution_count": null,
   "metadata": {},
   "outputs": [],
   "source": [
    "one_activity.keys()"
   ]
  },
  {
   "cell_type": "markdown",
   "metadata": {},
   "source": [
    "We can focus on:\n",
    "\n",
    "- `'cmeAnalyses'`\n",
    "- `'startTime'`\n",
    "- `'instruments'`"
   ]
  },
  {
   "cell_type": "markdown",
   "metadata": {},
   "source": [
    "__Get instruments__"
   ]
  },
  {
   "cell_type": "code",
   "execution_count": null,
   "metadata": {},
   "outputs": [],
   "source": [
    "one_activity['instruments']"
   ]
  },
  {
   "cell_type": "code",
   "execution_count": null,
   "metadata": {},
   "outputs": [],
   "source": [
    "for i, item in enumerate(one_activity['instruments'], start=1):\n",
    "    print(f\"Instrument {i}- {item['displayName']}\")"
   ]
  },
  {
   "cell_type": "markdown",
   "metadata": {},
   "source": [
    "__Get start date/time__"
   ]
  },
  {
   "cell_type": "code",
   "execution_count": null,
   "metadata": {},
   "outputs": [],
   "source": [
    "one_activity['startTime']"
   ]
  },
  {
   "cell_type": "markdown",
   "metadata": {},
   "source": [
    "__Get CME activity data__"
   ]
  },
  {
   "cell_type": "code",
   "execution_count": null,
   "metadata": {},
   "outputs": [],
   "source": [
    "pprint.pprint(one_activity['cmeAnalyses'])"
   ]
  },
  {
   "cell_type": "markdown",
   "metadata": {},
   "source": [
    "We want to be able to extract the following parameters:\n",
    "- `speed`\n",
    "- `longitude`\n",
    "- `latitude`\n",
    "- `halfAngle`"
   ]
  },
  {
   "cell_type": "code",
   "execution_count": null,
   "metadata": {},
   "outputs": [],
   "source": [
    "type(one_activity['cmeAnalyses'])"
   ]
  },
  {
   "cell_type": "code",
   "execution_count": null,
   "metadata": {},
   "outputs": [],
   "source": [
    "len(one_activity['cmeAnalyses'])"
   ]
  },
  {
   "cell_type": "code",
   "execution_count": null,
   "metadata": {},
   "outputs": [],
   "source": [
    "pprint.pprint(one_activity['cmeAnalyses'][0])"
   ]
  },
  {
   "cell_type": "code",
   "execution_count": null,
   "metadata": {},
   "outputs": [],
   "source": [
    "latitude = one_activity['cmeAnalyses'][0]['latitude']\n",
    "longitude = one_activity['cmeAnalyses'][0]['longitude']\n",
    "halfAngle = one_activity['cmeAnalyses'][0]['halfAngle']\n",
    "speed = one_activity['cmeAnalyses'][0]['speed']"
   ]
  },
  {
   "cell_type": "code",
   "execution_count": null,
   "metadata": {},
   "outputs": [],
   "source": [
    "print(f\"  latitude: {latitude}\")\n",
    "print(f\" longitude: {longitude}\")\n",
    "print(f\" halfAngle: {halfAngle}\")\n",
    "print(f\"     speed: {speed}\")"
   ]
  },
  {
   "cell_type": "markdown",
   "metadata": {},
   "source": [
    "### <font color=\"blue\">Data Analysis</font>\n",
    "\n",
    "- We want to inspect the obtained Python list and identify the dates/times when there were CME activities.\n",
    "- For each date/time when there was an activity, we will extract from the list:\n",
    "    - The `date/time`, the `speed`, the latitude, the longitude, and the hall angle\n",
    "    - The the list of instruments "
   ]
  },
  {
   "cell_type": "code",
   "execution_count": null,
   "metadata": {},
   "outputs": [],
   "source": [
    "def get_CME_parameters(cme_activity: dict):\n",
    "    \"\"\"\n",
    "    From a dictionary containing CME activity data on a specific date/time,\n",
    "    extract the following parameters:\n",
    "\n",
    "    - starting date/time\n",
    "    - latitude\n",
    "    - longitude\n",
    "    - halfAngle\n",
    "    - speed\n",
    "    \"\"\"\n",
    "\n",
    "    latitude = cme_activity['cmeAnalyses'][0]['latitude']\n",
    "    longitude = cme_activity['cmeAnalyses'][0]['longitude']\n",
    "    half_angle = cme_activity['cmeAnalyses'][0]['halfAngle']\n",
    "    speed = cme_activity['cmeAnalyses'][0]['speed']\n",
    "    start_time = cme_activity['startTime']\n",
    "    list_instruments = list()\n",
    "    for item in cme_activity['instruments']:\n",
    "        list_instruments.append(item['displayName'])\n",
    "    return start_time, speed, latitude, longitude, half_angle, tuple(sorted(list_instruments))"
   ]
  },
  {
   "cell_type": "code",
   "execution_count": null,
   "metadata": {},
   "outputs": [],
   "source": [
    "get_CME_parameters(one_activity)"
   ]
  },
  {
   "cell_type": "code",
   "execution_count": null,
   "metadata": {},
   "outputs": [],
   "source": [
    "def create_df(cme_activities: list):\n",
    "    \"\"\"\n",
    "    Using a list of CME activities, create a Pandas DataFrame\n",
    "    with columns:\n",
    "    \n",
    "    - star_time\n",
    "    - latitude\n",
    "    - longitude\n",
    "    - half_angle\n",
    "    - speed\n",
    "    \"\"\"\n",
    "    columns = [\"start_time\", \"speed\", \"latitude\", \"longitude\", \"half_angle\", \"instruments\"]\n",
    "    df = pd.DataFrame(columns=columns)\n",
    "\n",
    "    # Loop over the CME event\n",
    "    for cme_activity in cme_activities:\n",
    "        # Only process when a CME activity was recorded.\n",
    "        if cme_activity['cmeAnalyses']:   # This mean that an activity was recorded\n",
    "            df.loc[len(df)] = get_CME_parameters(cme_activity)\n",
    "    return df     "
   ]
  },
  {
   "cell_type": "code",
   "execution_count": null,
   "metadata": {},
   "outputs": [],
   "source": [
    "df = create_df(json_page)"
   ]
  },
  {
   "cell_type": "code",
   "execution_count": null,
   "metadata": {},
   "outputs": [],
   "source": [
    "df"
   ]
  },
  {
   "cell_type": "code",
   "execution_count": null,
   "metadata": {},
   "outputs": [],
   "source": [
    "df.info()"
   ]
  },
  {
   "cell_type": "code",
   "execution_count": null,
   "metadata": {},
   "outputs": [],
   "source": [
    "df.describe()"
   ]
  },
  {
   "cell_type": "markdown",
   "metadata": {},
   "source": [
    "We need to convert the `start_time` into a datetime object:"
   ]
  },
  {
   "cell_type": "code",
   "execution_count": null,
   "metadata": {},
   "outputs": [],
   "source": [
    "df['start_time'] = pd.to_datetime(df['start_time'])"
   ]
  },
  {
   "cell_type": "code",
   "execution_count": null,
   "metadata": {},
   "outputs": [],
   "source": [
    "df"
   ]
  },
  {
   "cell_type": "markdown",
   "metadata": {},
   "source": [
    "Set the `start_time` column as index of the Pandas DataFrame:"
   ]
  },
  {
   "cell_type": "code",
   "execution_count": null,
   "metadata": {},
   "outputs": [],
   "source": [
    "df.set_index('start_time', inplace=True)\n",
    "df"
   ]
  },
  {
   "cell_type": "markdown",
   "metadata": {},
   "source": [
    "#### Write a function that accesses the DONKI API and collects CME activities"
   ]
  },
  {
   "cell_type": "code",
   "execution_count": null,
   "metadata": {},
   "outputs": [],
   "source": [
    "def collect_cme_activities(start_date: str, end_date: str):\n",
    "    \"\"\"\n",
    "    Use web scraping to gather from DONKI all the CME activities\n",
    "    between the beginning date (start_date) and the end date (end_date).\n",
    "\n",
    "    Parameters\n",
    "    ----------\n",
    "    start_date : str\n",
    "       Beginning date in the format YYYY-MM-DD\n",
    "    end_date : str\n",
    "       End date in the format YYYY-MM-DD\n",
    "\n",
    "    Returns\n",
    "    -------\n",
    "    df : Pandas DataFrame\n",
    "       Pandas DataFrame containg parameters of CME activities.\n",
    "    \"\"\"\n",
    "    url_cme = \"https://kauai.ccmc.gsfc.nasa.gov/DONKI/WS/get/CME\"\n",
    "    payload = {\n",
    "        'startDate': start_date,\n",
    "        'endDate': end_date\n",
    "    }\n",
    "\n",
    "    page_content = access_website(url_cme, payload, timeout=150)\n",
    "    json_page = json.loads(page_content.text)\n",
    "    df = create_df(json_page)\n",
    "\n",
    "    df['start_time'] = pd.to_datetime(df['start_time'])\n",
    "    df.set_index('start_time', inplace=True)\n",
    "    return df"
   ]
  },
  {
   "cell_type": "code",
   "execution_count": null,
   "metadata": {},
   "outputs": [],
   "source": [
    "df = collect_cme_activities(\"2017-01-01\", \"2019-12-31\")"
   ]
  },
  {
   "cell_type": "code",
   "execution_count": null,
   "metadata": {},
   "outputs": [],
   "source": [
    "df"
   ]
  },
  {
   "cell_type": "markdown",
   "metadata": {},
   "source": [
    "__Get basic information on columns using the `info()` method__"
   ]
  },
  {
   "cell_type": "code",
   "execution_count": null,
   "metadata": {},
   "outputs": [],
   "source": [
    "df.info()"
   ]
  },
  {
   "cell_type": "markdown",
   "metadata": {},
   "source": [
    "__Observations__: \n",
    "\n",
    "- The values of each column have the same data type.\n",
    "- There are 330 data points (rows).\n",
    "- The columns `latitude` and `longitude` have 329 and 325 values respectively.\n",
    "   - The two columns have missing values.\n",
    "   - If the two columns are important for your analysis, you need to decide what to do with missing values.\n",
    "\n",
    "__To get the number of missing values in each column:__"
   ]
  },
  {
   "cell_type": "code",
   "execution_count": null,
   "metadata": {},
   "outputs": [],
   "source": [
    "df.isnull().sum()"
   ]
  },
  {
   "cell_type": "markdown",
   "metadata": {},
   "source": [
    "__Basic descriptive statistics__"
   ]
  },
  {
   "cell_type": "code",
   "execution_count": null,
   "metadata": {},
   "outputs": [],
   "source": [
    "df.describe()"
   ]
  },
  {
   "cell_type": "markdown",
   "metadata": {},
   "source": [
    "#### Focus on the instruments"
   ]
  },
  {
   "cell_type": "markdown",
   "metadata": {},
   "source": [
    "__Combined sets of instruments__"
   ]
  },
  {
   "cell_type": "code",
   "execution_count": null,
   "metadata": {},
   "outputs": [],
   "source": [
    "df_instr = df.groupby('instruments')"
   ]
  },
  {
   "cell_type": "code",
   "execution_count": null,
   "metadata": {},
   "outputs": [],
   "source": [
    "df_instr"
   ]
  },
  {
   "cell_type": "code",
   "execution_count": null,
   "metadata": {},
   "outputs": [],
   "source": [
    "df_instr.groups.keys()"
   ]
  },
  {
   "cell_type": "code",
   "execution_count": null,
   "metadata": {},
   "outputs": [],
   "source": [
    "fig = px.pie(df_instr.count(), \n",
    "             names=list(df_instr.groups.keys()),\n",
    "             title=\"Pie Chart of Unique Combined Sets of Instruments\",\n",
    "            width=700)\n",
    "fig.show()"
   ]
  },
  {
   "cell_type": "markdown",
   "metadata": {},
   "source": [
    "__Count the number times each imstrument is used__\n",
    "\n",
    "We will create a dictionary with key as the instrument name and value the number of times used."
   ]
  },
  {
   "cell_type": "code",
   "execution_count": null,
   "metadata": {},
   "outputs": [],
   "source": [
    "dict_instruments = dict()\n",
    "\n",
    "for item in df['instruments'].values:\n",
    "    for inst in item:\n",
    "        if inst in dict_instruments:\n",
    "            dict_instruments[inst] += 1\n",
    "        else:\n",
    "            dict_instruments[inst] = 1"
   ]
  },
  {
   "cell_type": "code",
   "execution_count": null,
   "metadata": {},
   "outputs": [],
   "source": [
    "dict_instruments"
   ]
  },
  {
   "cell_type": "code",
   "execution_count": null,
   "metadata": {},
   "outputs": [],
   "source": [
    "plt.bar(dict_instruments.keys(), dict_instruments.values());"
   ]
  },
  {
   "cell_type": "markdown",
   "metadata": {},
   "source": [
    "#### Plot time series values the speed"
   ]
  },
  {
   "cell_type": "markdown",
   "metadata": {},
   "source": [
    "Uing Matplotlib:"
   ]
  },
  {
   "cell_type": "code",
   "execution_count": null,
   "metadata": {},
   "outputs": [],
   "source": [
    "fig, ax = plt.subplots(figsize=(12, 7))\n",
    "ax.scatter(df.index, df[\"speed\"], s=7)\n",
    "ax.set_xlabel(\"CME Start Date\")\n",
    "ax.set_ylabel(\"CME Speed (km/s)\")\n",
    "ax.set_title(f\"DONKI CME Database \\n Date vs CME Speed\")\n",
    "ax.grid()"
   ]
  },
  {
   "cell_type": "markdown",
   "metadata": {},
   "source": [
    "Using Seaborn:"
   ]
  },
  {
   "cell_type": "code",
   "execution_count": null,
   "metadata": {},
   "outputs": [],
   "source": [
    "fig = plt.figure(figsize=(12, 7))\n",
    "ax = sns.scatterplot(x=df.index, y=df['speed'])\n",
    "ax.set_xlabel(\"CME Start Date\")\n",
    "ax.set_ylabel(\"CME Speed (km/s)\")\n",
    "ax.set_title(f\"DONKI CME Database \\n Date vs CME Speed\")\n",
    "ax.grid()"
   ]
  },
  {
   "cell_type": "markdown",
   "metadata": {},
   "source": [
    "Using Plotly (interactive plot):"
   ]
  },
  {
   "cell_type": "code",
   "execution_count": null,
   "metadata": {},
   "outputs": [],
   "source": [
    "\n",
    "fig = px.scatter(x=df.index, y=df['speed'],\n",
    "                width=800, height=600)\n",
    "fig.show()"
   ]
  },
  {
   "cell_type": "markdown",
   "metadata": {},
   "source": [
    "__Create histograms__"
   ]
  },
  {
   "cell_type": "code",
   "execution_count": null,
   "metadata": {},
   "outputs": [],
   "source": [
    "df[\"speed\"].hist(bins=5)"
   ]
  },
  {
   "cell_type": "code",
   "execution_count": null,
   "metadata": {},
   "outputs": [],
   "source": [
    "fig = px.histogram(df, x=\"speed\", nbins=5)\n",
    "fig.show()"
   ]
  },
  {
   "cell_type": "code",
   "execution_count": null,
   "metadata": {},
   "outputs": [],
   "source": []
  },
  {
   "cell_type": "markdown",
   "metadata": {},
   "source": [
    "__Create a new column to categorize speed into ranges__\n",
    "\n",
    "| Type | Speed range |\n",
    "| --- | --- |\n",
    "| `S-type` | $<500$ km/s |\n",
    "| `C-type` | $500-999$ km/s |\n",
    "| `0-type` | $1000-1999$ km/s |\n",
    "| `R-type` | $2000-2999$ km/s |\n",
    "| `ER-type` | $>3000$ km/s |"
   ]
  },
  {
   "cell_type": "code",
   "execution_count": null,
   "metadata": {},
   "outputs": [],
   "source": [
    "df['speed_range'] = pd.cut(df['speed'], \n",
    "                           bins=[0, 500, 1000, 2000, 3000, float('inf')], \n",
    "                           labels=['S-type (<500 km/s)', 'C-type (500-999 km/s)', \n",
    "                                   'O-type (1000-1999 km/s)', 'R-type (2000-2999 km/s)', \n",
    "                                   'ER-type (>3000 km/s)']\n",
    "                          )"
   ]
  },
  {
   "cell_type": "code",
   "execution_count": null,
   "metadata": {},
   "outputs": [],
   "source": [
    "df"
   ]
  },
  {
   "cell_type": "code",
   "execution_count": null,
   "metadata": {},
   "outputs": [],
   "source": [
    "fig = px.histogram(df, x=\"speed_range\", color=\"speed_range\")\n",
    "fig.show()"
   ]
  },
  {
   "cell_type": "code",
   "execution_count": null,
   "metadata": {},
   "outputs": [],
   "source": [
    "fig = px.bar(df, x='speed_range', y='speed', color=\"speed_range\", text='speed', height=600)\n",
    "fig.show()"
   ]
  },
  {
   "cell_type": "code",
   "execution_count": null,
   "metadata": {},
   "outputs": [],
   "source": [
    "fig = px.bar(df, x=df.index.year, y='speed', color=\"speed_range\", height=600)\n",
    "fig.show()"
   ]
  },
  {
   "cell_type": "markdown",
   "metadata": {},
   "source": [
    "#### Plot the time series values of speed by categories"
   ]
  },
  {
   "cell_type": "code",
   "execution_count": null,
   "metadata": {},
   "outputs": [],
   "source": [
    "fig = plt.figure(figsize=(12, 7))\n",
    "ax = sns.scatterplot(data=df, x=df.index, y='speed', hue='speed_range')\n",
    "ax.set_xlabel(\"CME Start Date\")\n",
    "ax.set_ylabel(\"CME Speed (km/s)\")\n",
    "ax.set_title(f\"DONKI CME Database \\n Date vs CME Speed\")\n",
    "ax.grid()"
   ]
  },
  {
   "cell_type": "markdown",
   "metadata": {},
   "source": [
    "#### Longitude vs Speed plot"
   ]
  },
  {
   "cell_type": "code",
   "execution_count": null,
   "metadata": {},
   "outputs": [],
   "source": [
    "g = sns.FacetGrid(df, subplot_kws=dict(projection='polar'), \n",
    "                  height=5, sharex=False, sharey=False, despine=False)\n",
    "g.map_dataframe(sns.scatterplot, x='longitude', y='speed', hue='speed_range')"
   ]
  },
  {
   "cell_type": "markdown",
   "metadata": {},
   "source": [
    "We can generate the same polar plot with `Plotly` (note the interactivity):"
   ]
  },
  {
   "cell_type": "code",
   "execution_count": null,
   "metadata": {},
   "outputs": [],
   "source": [
    "fig = px.scatter_polar(df, \n",
    "                       r='speed', \n",
    "                       theta='longitude', \n",
    "                       color='speed_range', \n",
    "                       width=700, height=700)\n",
    "\n",
    "#fig.update_layout(showlegend=False)\n",
    "fig.show()"
   ]
  },
  {
   "cell_type": "markdown",
   "metadata": {},
   "source": [
    "#### Gather statistics"
   ]
  },
  {
   "cell_type": "markdown",
   "metadata": {},
   "source": [
    "__CME for a specific month__"
   ]
  },
  {
   "cell_type": "code",
   "execution_count": null,
   "metadata": {},
   "outputs": [],
   "source": [
    "df[df.index.month==2]"
   ]
  },
  {
   "cell_type": "code",
   "execution_count": null,
   "metadata": {},
   "outputs": [],
   "source": [
    "for i in range(1,13):\n",
    "    print(f\"{i:<3} --> {len(df[df.index.month==i])}\")"
   ]
  },
  {
   "cell_type": "markdown",
   "metadata": {},
   "source": [
    "__Data on a specific day__"
   ]
  },
  {
   "cell_type": "code",
   "execution_count": null,
   "metadata": {},
   "outputs": [],
   "source": [
    "df.loc['2019-05-13']"
   ]
  },
  {
   "cell_type": "markdown",
   "metadata": {},
   "source": [
    "__Data over a specific range of date__"
   ]
  },
  {
   "cell_type": "code",
   "execution_count": null,
   "metadata": {},
   "outputs": [],
   "source": [
    "df.loc['2018-01-01 09:00:00':'2018-04-14 11:00:00']"
   ]
  },
  {
   "cell_type": "markdown",
   "metadata": {},
   "source": [
    "__Data for a specific year/month__"
   ]
  },
  {
   "cell_type": "code",
   "execution_count": null,
   "metadata": {},
   "outputs": [],
   "source": [
    "df.loc['2018-01']"
   ]
  },
  {
   "cell_type": "markdown",
   "metadata": {},
   "source": [
    "__Data with a specific speed__"
   ]
  },
  {
   "cell_type": "code",
   "execution_count": null,
   "metadata": {},
   "outputs": [],
   "source": [
    "df[df.speed==350.0]"
   ]
  },
  {
   "cell_type": "markdown",
   "metadata": {},
   "source": [
    "__Speed monthly and yearly means__"
   ]
  },
  {
   "cell_type": "code",
   "execution_count": null,
   "metadata": {},
   "outputs": [],
   "source": [
    "df.speed.resample('M').mean()"
   ]
  },
  {
   "cell_type": "code",
   "execution_count": null,
   "metadata": {},
   "outputs": [],
   "source": [
    "df.speed.resample('Y').mean()"
   ]
  },
  {
   "cell_type": "markdown",
   "metadata": {},
   "source": [
    "__Group by speed range__"
   ]
  },
  {
   "cell_type": "code",
   "execution_count": null,
   "metadata": {},
   "outputs": [],
   "source": [
    "df_range = df.groupby('speed_range')"
   ]
  },
  {
   "cell_type": "code",
   "execution_count": null,
   "metadata": {},
   "outputs": [],
   "source": [
    "list_groups = list(df_range.groups.keys())\n",
    "list_groups"
   ]
  },
  {
   "cell_type": "code",
   "execution_count": null,
   "metadata": {},
   "outputs": [],
   "source": []
  },
  {
   "cell_type": "code",
   "execution_count": null,
   "metadata": {},
   "outputs": [],
   "source": [
    "df_range.count()[\"speed\"]"
   ]
  },
  {
   "cell_type": "code",
   "execution_count": null,
   "metadata": {},
   "outputs": [],
   "source": [
    "df_S = df_range.groups['S-type (<500 km/s)']"
   ]
  },
  {
   "cell_type": "code",
   "execution_count": null,
   "metadata": {},
   "outputs": [],
   "source": [
    "df_S"
   ]
  },
  {
   "cell_type": "code",
   "execution_count": null,
   "metadata": {},
   "outputs": [],
   "source": [
    "len(df_S[df_S.slice_indexer(\"2017-01-01\", \"2017-12-31\")])"
   ]
  },
  {
   "cell_type": "code",
   "execution_count": null,
   "metadata": {},
   "outputs": [],
   "source": [
    "len(df_S[df_S.slice_indexer(\"2018-01-01\", \"2018-12-31\")])"
   ]
  },
  {
   "cell_type": "code",
   "execution_count": null,
   "metadata": {},
   "outputs": [],
   "source": [
    "len(df_S[df_S.slice_indexer(\"2019-01-01\", \"2019-12-31\")])"
   ]
  },
  {
   "cell_type": "code",
   "execution_count": null,
   "metadata": {},
   "outputs": [],
   "source": [
    "fig = px.pie(df_range.count(), values=\"speed\", names=list_groups)\n",
    "fig.show()"
   ]
  },
  {
   "cell_type": "markdown",
   "metadata": {},
   "source": [
    "---\n",
    "---"
   ]
  },
  {
   "cell_type": "markdown",
   "metadata": {},
   "source": [
    "# <font color=\"purple\">Search and Plot GIF Images</font>\n",
    "\n",
    "Here we focus on a one-day CME activity and perform web scraping to extract the gif images generated on the activity."
   ]
  },
  {
   "cell_type": "code",
   "execution_count": null,
   "metadata": {},
   "outputs": [],
   "source": [
    "startDate=\"2017-01-03\"\n",
    "endDate=\"2017-01-03\"\n",
    "\n",
    "payload = {\n",
    "    'startDate': startDate,\n",
    "    'endDate': endDate,\n",
    "}\n",
    "\n",
    "page_content = access_website(url_cme, payload, timeout=15)"
   ]
  },
  {
   "cell_type": "markdown",
   "metadata": {},
   "source": [
    "#### Task 1: Get link associated with the `enlilList` key"
   ]
  },
  {
   "cell_type": "code",
   "execution_count": null,
   "metadata": {},
   "outputs": [],
   "source": [
    "page = json.loads(page_content.text)[0]"
   ]
  },
  {
   "cell_type": "code",
   "execution_count": null,
   "metadata": {},
   "outputs": [],
   "source": [
    "page['cmeAnalyses']"
   ]
  },
  {
   "cell_type": "code",
   "execution_count": null,
   "metadata": {},
   "outputs": [],
   "source": [
    "pprint.pprint(page['cmeAnalyses'][0])"
   ]
  },
  {
   "cell_type": "code",
   "execution_count": null,
   "metadata": {},
   "outputs": [],
   "source": [
    "url_link = page['cmeAnalyses'][0]['enlilList'][0]['link']\n",
    "url_link"
   ]
  },
  {
   "cell_type": "markdown",
   "metadata": {},
   "source": [
    "#### Task 2: Get the gif images contain in the webpage"
   ]
  },
  {
   "cell_type": "markdown",
   "metadata": {},
   "source": [
    "__Access the webpage and get its content__"
   ]
  },
  {
   "cell_type": "code",
   "execution_count": null,
   "metadata": {},
   "outputs": [],
   "source": [
    "source = access_website(url_link)"
   ]
  },
  {
   "cell_type": "markdown",
   "metadata": {},
   "source": [
    "__Use BeautifulSoup to obtain the HTML document__"
   ]
  },
  {
   "cell_type": "code",
   "execution_count": null,
   "metadata": {},
   "outputs": [],
   "source": [
    "print(f\"Content type: \\n\\t {source.headers['content-type']}\")"
   ]
  },
  {
   "cell_type": "code",
   "execution_count": null,
   "metadata": {},
   "outputs": [],
   "source": [
    "mysoup = bso(source.text, 'html.parser')"
   ]
  },
  {
   "cell_type": "code",
   "execution_count": null,
   "metadata": {},
   "outputs": [],
   "source": [
    "print(mysoup.prettify())"
   ]
  },
  {
   "cell_type": "markdown",
   "metadata": {},
   "source": [
    "__Parse the content of the HTML document to extract all the web links that have gif images__"
   ]
  },
  {
   "cell_type": "code",
   "execution_count": null,
   "metadata": {},
   "outputs": [],
   "source": [
    "list_images = [a['href'] for a in mysoup.select('a[href]') if \"iswa\" in a['href']]"
   ]
  },
  {
   "cell_type": "markdown",
   "metadata": {},
   "source": [
    "#### Task 3: Display some of the remote images"
   ]
  },
  {
   "cell_type": "code",
   "execution_count": null,
   "metadata": {},
   "outputs": [],
   "source": [
    "HTML(f'<img src={list_images[0]}>')"
   ]
  },
  {
   "cell_type": "code",
   "execution_count": null,
   "metadata": {},
   "outputs": [],
   "source": [
    "HTML(f'<img src={list_images[1]}>')"
   ]
  },
  {
   "cell_type": "code",
   "execution_count": null,
   "metadata": {},
   "outputs": [],
   "source": [
    "HTML(f'<img src={list_images[2]}>')"
   ]
  },
  {
   "cell_type": "code",
   "execution_count": null,
   "metadata": {},
   "outputs": [],
   "source": [
    "HTML(f'<img src={list_images[3]}>')"
   ]
  },
  {
   "cell_type": "code",
   "execution_count": null,
   "metadata": {},
   "outputs": [],
   "source": [
    "HTML(f'<img src={list_images[7]}>')"
   ]
  },
  {
   "cell_type": "code",
   "execution_count": null,
   "metadata": {},
   "outputs": [],
   "source": []
  },
  {
   "cell_type": "code",
   "execution_count": null,
   "metadata": {},
   "outputs": [],
   "source": []
  },
  {
   "cell_type": "markdown",
   "metadata": {},
   "source": [
    "---"
   ]
  },
  {
   "cell_type": "code",
   "execution_count": null,
   "metadata": {},
   "outputs": [],
   "source": []
  }
 ],
 "metadata": {
  "anaconda-cloud": {},
  "kernelspec": {
   "display_name": "Python 3 (ipykernel)",
   "language": "python",
   "name": "python3"
  },
  "language_info": {
   "codemirror_mode": {
    "name": "ipython",
    "version": 3
   },
   "file_extension": ".py",
   "mimetype": "text/x-python",
   "name": "python",
   "nbconvert_exporter": "python",
   "pygments_lexer": "ipython3",
   "version": "3.12.7"
  }
 },
 "nbformat": 4,
 "nbformat_minor": 4
}
