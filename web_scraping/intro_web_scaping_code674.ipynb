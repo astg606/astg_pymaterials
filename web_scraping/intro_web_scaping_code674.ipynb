{
 "cells": [
  {
   "cell_type": "markdown",
   "metadata": {},
   "source": [
    "<center>\n",
    "<table>\n",
    "  <tr>\n",
    "    <td><img src=\"https://portal.nccs.nasa.gov/datashare/astg/training/python/logos/nasa-logo.svg\" width=\"100\"/> </td>\n",
    "     <td><img src=\"https://portal.nccs.nasa.gov/datashare/astg/training/python/logos/ASTG_logo.png?raw=true\" width=\"80\"/> </td>\n",
    "     <td> <img src=\"https://www.nccs.nasa.gov/sites/default/files/NCCS_Logo_0.png\" width=\"130\"/> </td>\n",
    "    </tr>\n",
    "</table>\n",
    "</center>\n",
    "\n",
    "        \n",
    "<center>\n",
    "<h1><font color= \"blue\" size=\"+3\">ASTG Python Courses</font></h1>\n",
    "</center>\n",
    "\n",
    "---\n",
    "\n",
    "<CENTER>\n",
    "<H1> <font color=\"red\" size=\"+3\">\n",
    "    Web Scraping with Python</font>\n",
    "</H1>\n",
    "</CENTER>"
   ]
  },
  {
   "cell_type": "markdown",
   "metadata": {},
   "source": [
    "## <font color='red'>Reference Documents</font>\n",
    "\n",
    "- [Web Scraping: What It Is and How to Use It](https://scrape-it.cloud/blog/web-scraping-what-it-is-and-how-to-use-it)\n",
    "- [What is web scraping](https://www.scrapehero.com/a-beginners-guide-to-web-scraping-part-1-the-basics/)\n",
    "- [Python Requests Tutorial](http://zetcode.com/python/requests/)\n",
    "- [Python’s Requests Library (Guide](https://realpython.com/python-requests/)\n",
    "- [Building a Web Scraper from start to finish](https://hackernoon.com/building-a-web-scraper-from-start-to-finish-bb6b95388184)"
   ]
  },
  {
   "cell_type": "markdown",
   "metadata": {},
   "source": [
    "## <font color='red'>Objectives</font>\n",
    "\n",
    "In this course, we want to describe web scraping and show how it can be accomplished with Python. We present the basic steps of web scraping and run examples on accessing HTTP servers, grabbing the content of web pages (in JSON format), parsing the content to extract useful information and performing analyses.\n",
    "\n",
    "The following topics will be covered:\n",
    "\n",
    "+ What is web scraping?\n",
    "+ Components of a web page\n",
    "+ Accessing Web Pages with `requests`\n",
    "+ Web Scraping with `Json`\n",
    "\n",
    "We expect that at end of this presentation, participants will be able to write Python scripts that automatically perform web scraping to extract specific data from webpages."
   ]
  },
  {
   "cell_type": "markdown",
   "metadata": {},
   "source": [
    "## <font color='red'>Web Scraping</font>\n",
    "\n",
    "> Web scraping is a mechanism of collecting large amounts of data from a webpage and store the data into any required format which further helps us to perform analysis on the extracted data.\n",
    "\n",
    "\n",
    "- It is used to extract or “scrape” data from any web page on the Internet.\n",
    "- It is performed using a “**web-scraper**” (or a “bot” or a “web spider” or “web crawler”). \n",
    "    - A web-scraper is a program that goes to web pages, downloads the contents, extracts data out of the contents and then saves the data to a file or a database."
   ]
  },
  {
   "cell_type": "markdown",
   "metadata": {},
   "source": [
    "![fig_json](https://daveberesford.co.uk/wp-content/uploads/2019/02/data-scraping-960x594.png)\n",
    "Image Source: daveberesford.co.uk"
   ]
  },
  {
   "cell_type": "markdown",
   "metadata": {},
   "source": [
    "Web scraping involves a three-step process:\n",
    "\n",
    "1. **Step 1**: Send an HTTP request to the webpage\n",
    "   - The server responds to the request by returning the (JSON, HTML, etc.) content of the target webpage.\n",
    "2. **Step 2**: Parse the webpage content\n",
    "   - A parser is needed to create a nested structure of the data. \n",
    "3. **Step 3**: Pull out useful data out\n",
    "   - We use Python packages such as Json and Beautiful Soup to pull out data and store them.\n",
    "   \n",
    "![fig_scap](https://scrape-it.cloud/assets/cache_image/assets/blog_img/web-scraping-process2_760x0_073.webp)\n",
    "Image Source: [scrape-it.cloud](https://scrape-it.cloud/blog/web-scraping-what-it-is-and-how-to-use-it)\n",
    "     \n",
    "\n",
    "__Web Scrapers crawl websites, extracts data from it, transforms to a usable structured format and load it to a file or database for subsequent use.__\n"
   ]
  },
  {
   "cell_type": "markdown",
   "metadata": {},
   "source": [
    "## <font color='red'>Required Packages</font>\n",
    "We will need the three main Python packages:\n",
    "\n",
    "- `requests`: for accessing servers and getting the contents of web pages.\n",
    "- `json`: for manipulating JSON documents."
   ]
  },
  {
   "cell_type": "code",
   "execution_count": null,
   "metadata": {},
   "outputs": [],
   "source": [
    "%matplotlib inline\n",
    "import matplotlib.pyplot as plt"
   ]
  },
  {
   "cell_type": "code",
   "execution_count": null,
   "metadata": {},
   "outputs": [],
   "source": [
    "import os\n",
    "import pprint\n",
    "import re"
   ]
  },
  {
   "cell_type": "code",
   "execution_count": null,
   "metadata": {},
   "outputs": [],
   "source": [
    "import pandas as pd"
   ]
  },
  {
   "cell_type": "code",
   "execution_count": null,
   "metadata": {},
   "outputs": [],
   "source": [
    "import requests as reqs"
   ]
  },
  {
   "cell_type": "code",
   "execution_count": null,
   "metadata": {},
   "outputs": [],
   "source": [
    "import json"
   ]
  },
  {
   "cell_type": "code",
   "execution_count": null,
   "metadata": {},
   "outputs": [],
   "source": [
    "from bs4 import BeautifulSoup as bso"
   ]
  },
  {
   "cell_type": "code",
   "execution_count": null,
   "metadata": {},
   "outputs": [],
   "source": [
    "from IPython.display import HTML"
   ]
  },
  {
   "cell_type": "code",
   "execution_count": null,
   "metadata": {},
   "outputs": [],
   "source": [
    "print(f\"Requests version:  {reqs.__version__}\")\n",
    "print(f\"JSON version:      {json.__version__}\")"
   ]
  },
  {
   "cell_type": "markdown",
   "metadata": {},
   "source": [
    "# <font color='red'>Python `requests` Module</font>\n",
    "\n",
    "* Requests is a built-in Python module.\n",
    "* Requests is a simple and elegant Python HTTP (Hypertext Transfer Protocol) library. \n",
    "* It provides methods for accessing Web resources via HTTP. \n",
    "* The HTTP request returns a Response Object with all the response data (content, encoding, status, etc.)."
   ]
  },
  {
   "cell_type": "markdown",
   "metadata": {},
   "source": [
    "**Reading a Web Page**\n",
    "- We use the function `get()` to grab the content of a web page into an object.\n",
    "- We extract from the object the HTML content of the page."
   ]
  },
  {
   "cell_type": "code",
   "execution_count": null,
   "metadata": {},
   "outputs": [],
   "source": [
    "resp = reqs.get(\"http://www.webcode.me\")"
   ]
  },
  {
   "cell_type": "markdown",
   "metadata": {},
   "source": [
    "We can get all information from the `resp` object:"
   ]
  },
  {
   "cell_type": "code",
   "execution_count": null,
   "metadata": {},
   "outputs": [],
   "source": [
    "print(resp.text)"
   ]
  },
  {
   "cell_type": "markdown",
   "metadata": {},
   "source": [
    "We can use the module `re` to strip all the HTML markups from the content."
   ]
  },
  {
   "cell_type": "code",
   "execution_count": null,
   "metadata": {},
   "outputs": [],
   "source": [
    "resp = reqs.get(\"http://www.webcode.me\")\n",
    "\n",
    "content = resp.text\n",
    "\n",
    "stripped = re.sub('<[^<]+?>', '', content)\n",
    "print(stripped)"
   ]
  },
  {
   "cell_type": "markdown",
   "metadata": {},
   "source": [
    "#### Encoding"
   ]
  },
  {
   "cell_type": "markdown",
   "metadata": {},
   "source": [
    "- When you issue a request, `Requests` makes educated guesses about the encoding of the response based on the HTTP headers. \n",
    "- The text encoding guessed by `Requests` is used when you access `resp.text`. "
   ]
  },
  {
   "cell_type": "code",
   "execution_count": null,
   "metadata": {},
   "outputs": [],
   "source": [
    "resp.encoding"
   ]
  },
  {
   "cell_type": "code",
   "execution_count": null,
   "metadata": {},
   "outputs": [],
   "source": [
    "resp.text"
   ]
  },
  {
   "cell_type": "markdown",
   "metadata": {},
   "source": [
    "- You can find out what encoding `Requests` is using, and change it.\n",
    "- If you change the encoding, `Requests` will use the new value of `resp.encoding` whenever you call `resp.text`."
   ]
  },
  {
   "cell_type": "code",
   "execution_count": null,
   "metadata": {},
   "outputs": [],
   "source": [
    "resp.encoding = 'utf-8'"
   ]
  },
  {
   "cell_type": "code",
   "execution_count": null,
   "metadata": {},
   "outputs": [],
   "source": [
    "resp.encoding"
   ]
  },
  {
   "cell_type": "code",
   "execution_count": null,
   "metadata": {},
   "outputs": [],
   "source": [
    "resp.text"
   ]
  },
  {
   "cell_type": "markdown",
   "metadata": {},
   "source": [
    "#### Getting the Status of a Web Page\n",
    "- We perform an HTTP request with the `get()` method and check for the returned status code.\n",
    "- A status code informs you of the status of the request: if the request was successfull or not.\n",
    "- `200` is a standard response for a successful HTTP request and `404` tells that the requested resource could not be found.\n",
    "- By accessing `.status_code`, you can see the status code that the server returned."
   ]
  },
  {
   "cell_type": "code",
   "execution_count": null,
   "metadata": {},
   "outputs": [],
   "source": [
    "resp = reqs.get(\"http://www.webcode.me\")\n",
    "print(resp.status_code)"
   ]
  },
  {
   "cell_type": "code",
   "execution_count": null,
   "metadata": {},
   "outputs": [],
   "source": [
    "resp = reqs.get(\"http://www.webcode.me/news\")\n",
    "print(resp.status_code)"
   ]
  },
  {
   "cell_type": "markdown",
   "metadata": {},
   "source": [
    "#### Function for checking if a website is accessible"
   ]
  },
  {
   "cell_type": "code",
   "execution_count": null,
   "metadata": {},
   "outputs": [],
   "source": [
    "def access_website(url):\n",
    "    \"\"\"\n",
    "    Attempt to access a server. If the attempt is successful,\n",
    "    return the response object, otherwise return an error message.\n",
    "\n",
    "    Parameters\n",
    "    ----------\n",
    "    url : str\n",
    "       HTTP address of the web page we want to access\n",
    "\n",
    "    Returns\n",
    "    -------\n",
    "    resp : object\n",
    "       Object which has infomation on the web page of interest.\n",
    "    \"\"\"\n",
    "    try:\n",
    "        resp = reqs.get(url, timeout=3)\n",
    "        resp.raise_for_status()\n",
    "    except reqs.exceptions.HTTPError as errh:\n",
    "        print(f\"Http Error: {errh}\")\n",
    "    except reqs.exceptions.ConnectionError as errc:\n",
    "        print(f\"Error Connecting: {errc}\")\n",
    "    except reqs.exceptions.Timeout as errt:\n",
    "        print(f\"Timeout Error: {errt}\")\n",
    "    except reqs.exceptions.RequestException as err:\n",
    "        print(f\"General Error: {err}\")\n",
    "    else:\n",
    "        print(\"Successfully accessed the site!\")\n",
    "    \n",
    "    return resp"
   ]
  },
  {
   "cell_type": "code",
   "execution_count": null,
   "metadata": {},
   "outputs": [],
   "source": [
    "url = \"http://www.webcode.me/news\"\n",
    "resp = access_website(url)\n",
    "print(f\"Type of returned value: {type(resp)}\")\n",
    "if not isinstance(resp, str):\n",
    "    print(f\"Status Code: {resp.status_code}\")"
   ]
  },
  {
   "cell_type": "code",
   "execution_count": null,
   "metadata": {},
   "outputs": [],
   "source": [
    "url = \"http://www.webcode.me\"\n",
    "resp = access_website(url)\n",
    "print(f\"Type of returned value: {type(resp)}\")\n",
    "if not isinstance(resp, str):\n",
    "    print(f\"Status Code: {resp.status_code}\")"
   ]
  },
  {
   "cell_type": "code",
   "execution_count": null,
   "metadata": {},
   "outputs": [],
   "source": [
    "if not isinstance(resp, str):\n",
    "    print(f\"Status Code: {resp.status_code}\")"
   ]
  },
  {
   "cell_type": "markdown",
   "metadata": {},
   "source": [
    "**Other Information**"
   ]
  },
  {
   "cell_type": "code",
   "execution_count": null,
   "metadata": {},
   "outputs": [],
   "source": [
    "url = \"http://www.webcode.me\"\n",
    "resp = access_website(url)\n",
    "if resp.status_code == 200:\n",
    "    print(f\"\\t URL:      {resp.url}\")\n",
    "    print(f\"\\t Encoding: {resp.encoding}\")\n",
    "    print(f\"\\t Time:     {resp.elapsed}\")"
   ]
  },
  {
   "cell_type": "markdown",
   "metadata": {},
   "source": [
    "#### Server Headers\n",
    "\n",
    "We can access the headers the server sent back to us:"
   ]
  },
  {
   "cell_type": "code",
   "execution_count": null,
   "metadata": {},
   "outputs": [],
   "source": [
    "resp.headers"
   ]
  },
  {
   "cell_type": "code",
   "execution_count": null,
   "metadata": {},
   "outputs": [],
   "source": [
    "headers = resp.headers\n",
    "for key in headers:\n",
    "    print(f\"{key:20} --> {headers[key]}\")"
   ]
  },
  {
   "cell_type": "markdown",
   "metadata": {},
   "source": [
    "#### More on the `get()` Method\n",
    "- The `get()` method issues a GET request to the server. \n",
    "- The GET method requests a representation of the specified resource.\n",
    "\n",
    "```python\n",
    "requests.get(url, params={key: value}, args)\n",
    "```\n",
    "\n",
    "| Parameter | Description |\n",
    "| --- | :--- |\n",
    "|`url` | (required) The url of the request |\n",
    "| `params` | (optional) A dictionary, list of tuples or bytes to send as a query string. |\n",
    "| `allow_redirects` | (optional) A Boolean to enable/disable redirection. |\n",
    "| `auth` | (optional) A tuple to enable a certain HTTP authentication. |\n",
    "| `cert` | (optional) A String or Tuple specifying a cert file or key. |\n",
    "| `cookies` | (optional) A dictionary of cookies to send to the specified url. |\n",
    "| `headers` | (optional) A dictionary of HTTP headers to send to the specified url. |\n",
    "| `proxies` | (optional) A dictionary of the protocol to the proxy url. |\n",
    "| `stream` | (optional) A Boolean indication if the response should be immediately downloaded (False) or streamed (True). |\n",
    "| `timeout` | (optional) A number, or a tuple, indicating how many seconds to wait for the client to make a connection and/or send a response. |\n",
    "| `verify` | (optional) A Boolean or a String indication to verify the servers TLS certificate or not. |"
   ]
  },
  {
   "cell_type": "markdown",
   "metadata": {},
   "source": [
    "#### Sending Parmeters in URL\n",
    "\n",
    "- We often ant to send some sort of data in the URL’s query string.\n",
    "- The `get()` method takes a `params` keyword argument where we can specify the query parameters.\n",
    "     - The beginning of the query parameters is denoted by a question mark (`?`).\n",
    "     - The pieces of information constituting one query parameter are encoded in key-value pairs, where related keys and values are joined together by an equals sign (`key=value`).\n",
    "     - Every URL can have multiple query parameters, which are separated from each other by an ampersand (`&`)\n",
    "\n",
    "If:\n",
    "```python\n",
    "   {'key1': value1, 'key2': value2, 'key2': value3}\n",
    "```\n",
    "is the dictionary of the parameters, and `https://MyOwnWebsite.com/` is the url, then the final url to access will be:\n",
    "```\n",
    "    https://MyOwnWebsite.com/?key1=value1&key2=value2&key3=value3\n",
    "```\n",
    "\n",
    "The code to reach the webpage is:\n",
    "```Python\n",
    "payload = {'key1': value1, 'key2': value2, 'key2': value3}\n",
    "resp = reqs.get(\"https://MyOwnWebsite.com\", params=payload)\n",
    "```"
   ]
  },
  {
   "cell_type": "markdown",
   "metadata": {},
   "source": [
    "The following script sends a variable with a value to the `httpbin.org` server. The variable is specified directly in the URL."
   ]
  },
  {
   "cell_type": "code",
   "execution_count": null,
   "metadata": {},
   "outputs": [],
   "source": [
    "resp = reqs.get(\"https://httpbin.org/get?name=Peter\")\n",
    "print(resp.text)"
   ]
  },
  {
   "cell_type": "markdown",
   "metadata": {},
   "source": [
    "We send a `get()` request to the web site and pass the data, which is specified in the `params` parameter:"
   ]
  },
  {
   "cell_type": "code",
   "execution_count": null,
   "metadata": {},
   "outputs": [],
   "source": [
    "payload = {'name': 'Peter'}\n",
    "resp = reqs.get(\"https://httpbin.org/get\", params=payload)"
   ]
  },
  {
   "cell_type": "markdown",
   "metadata": {},
   "source": [
    "`payload` is a dictionary of pairs of keys/values:"
   ]
  },
  {
   "cell_type": "code",
   "execution_count": null,
   "metadata": {},
   "outputs": [],
   "source": [
    "payload = {'name': 'Peter', 'age': 23}\n",
    "resp = reqs.get(\"https://httpbin.org/get\", params=payload)"
   ]
  },
  {
   "cell_type": "code",
   "execution_count": null,
   "metadata": {},
   "outputs": [],
   "source": [
    "print(resp.url)"
   ]
  },
  {
   "cell_type": "code",
   "execution_count": null,
   "metadata": {},
   "outputs": [],
   "source": [
    "print(resp.text)"
   ]
  },
  {
   "cell_type": "markdown",
   "metadata": {},
   "source": [
    "You can also pass a list of items as a value:"
   ]
  },
  {
   "cell_type": "code",
   "execution_count": null,
   "metadata": {},
   "outputs": [],
   "source": [
    "payload = {'name': ['Peter', 'Johns'], 'age': 23}\n",
    "resp = reqs.get(\"https://httpbin.org/get\", params=payload)"
   ]
  },
  {
   "cell_type": "code",
   "execution_count": null,
   "metadata": {},
   "outputs": [],
   "source": [
    "print(resp.url)"
   ]
  },
  {
   "cell_type": "markdown",
   "metadata": {},
   "source": [
    "**Other Methods**\n",
    "\n",
    "```python\n",
    "requests.post('https://httpbin.org/post', data={'key':'value'})\n",
    "requests.put('https://httpbin.org/put', data={'key':'value'})\n",
    "requests.delete('https://httpbin.org/delete')\n",
    "requests.patch('https://httpbin.org/patch', data={'key':'value'})\n",
    "requests.options('https://httpbin.org/get')\n",
    "```"
   ]
  },
  {
   "cell_type": "markdown",
   "metadata": {},
   "source": [
    "### Summary of `requests` Methods \n",
    "\n",
    "| Method\t| Description |\n",
    "| :--- | :--- |\n",
    "| delete(url, args)\t| Sends a DELETE request to the specified url | \n",
    "| get(url, params, args)\t| Sends a GET request to the specified url | \n",
    "| head(url, args)\t| Sends a HEAD request to the specified url | \n",
    "| patch(url, data, args)\t| Sends a PATCH request to the specified url | \n",
    "| post(url, data, json, args)\t| Sends a POST request to the specified url | \n",
    "| put(url, data, args)\t| Sends a PUT request to the specified url | \n",
    "| request(method, url, args)\t| Sends a request of the specified method to the specified url| "
   ]
  },
  {
   "cell_type": "markdown",
   "metadata": {},
   "source": [
    "### Content-Type\n",
    "\n",
    "- It is part of the HTTP header.\n",
    "   - A string used to indicate the media type of the resource you want to access.  \n",
    "   - It tells the browser the type of content it has to load on the machine. \n",
    "- Here are some values of `content-type`:\n",
    "\n",
    "```html\n",
    "   text/html\n",
    "   text/csv\n",
    "   application/json\n",
    "   application/javascript\n",
    "   audio/ogg\n",
    "   image/png\n",
    "```\n",
    "\n",
    "- While scraping a web page, it is used to determine which tool is needed to parse the content of a web page."
   ]
  },
  {
   "cell_type": "code",
   "execution_count": null,
   "metadata": {},
   "outputs": [],
   "source": [
    "print(f\"Content Type: \\n\\t {resp.headers['content-type']}\")"
   ]
  },
  {
   "cell_type": "markdown",
   "metadata": {},
   "source": [
    "#### Revisiting the function to accesss a web page\n",
    "We want to pass the `payload` as argument of the function."
   ]
  },
  {
   "cell_type": "code",
   "execution_count": null,
   "metadata": {},
   "outputs": [],
   "source": [
    "def access_website(url, payload=None):\n",
    "    \"\"\"\n",
    "    Attempt to access a server. If the attempt is successful,\n",
    "    return the response object, otherwise return an error message.\n",
    "\n",
    "    Parameters\n",
    "    ----------\n",
    "    url : str\n",
    "       HTTP address of the web page we want to access\n",
    "    payload : dict\n",
    "       Parameters needed to construct the target url.\n",
    "\n",
    "    Returns\n",
    "    -------\n",
    "    resp : object\n",
    "       Object which has infomation on the web page of interest.\n",
    "    \"\"\"\n",
    "    try:\n",
    "        if payload:\n",
    "            resp = reqs.get(url, params=payload, timeout=3)\n",
    "        else:\n",
    "            resp = reqs.get(url, timeout=3)\n",
    "        resp.raise_for_status()\n",
    "    except reqs.exceptions.HTTPError as errh:\n",
    "        print(f\"Http Error: {errh}\")\n",
    "    except reqs.exceptions.ConnectionError as errc:\n",
    "        print(f\"Error Connecting: {errc}\")\n",
    "    except reqs.exceptions.Timeout as errt:\n",
    "        print(f\"Timeout Error: {errt}\")\n",
    "    except reqs.exceptions.RequestException as err:\n",
    "        print(f\"General Error: {err}\")\n",
    "    else:\n",
    "        print(\"Successfully accessed the site!\")\n",
    "    \n",
    "    return resp"
   ]
  },
  {
   "cell_type": "markdown",
   "metadata": {},
   "source": [
    "---"
   ]
  },
  {
   "cell_type": "markdown",
   "metadata": {},
   "source": [
    "## <font color='red'>Web Scraping with JSON</font>\n",
    "\n",
    "### <font color=\"blue\"> What is JSON?</font>\n",
    "\n",
    "* JSON (JavaScript Object Notation) is a popular data format used for representing structured data. \n",
    "* It is a text format that is language independent and can be used in Python, Perl among other languages. \n",
    "* JSON format is used for data communications between servers and web applications.\n",
    "* It is built on two structures:\n",
    "\n",
    "     - A collection of name/value pairs. This is realized as an object, record, dictionary, hash table, keyed list, or associative array.\n",
    "     - An ordered list of values. This is realized as an array, vector, list, or sequence."
   ]
  },
  {
   "cell_type": "markdown",
   "metadata": {},
   "source": [
    "The main functions of `JSON` are:\n",
    "\n",
    "* `dump()`: encoded string writing on file.\n",
    "* `load()`: Decode while JSON file read.\n",
    "* `dumps()`: encoding to JSON objects\n",
    "* `loads()`: Decode the JSON string."
   ]
  },
  {
   "cell_type": "markdown",
   "metadata": {},
   "source": [
    "**Example of JSON Data**\n",
    "\n",
    "```python\n",
    "{\n",
    "    \"stations\": [\n",
    "        {\n",
    "            \"acronym\": “BLD”, \n",
    "            \"name\": \"Boulder Colorado\",\n",
    "            \"latitude”: 40.00,\n",
    "            \"longitude”: -105.25\n",
    "        }, \n",
    "        {\n",
    "            \"acronym”: “BHD”, \n",
    "            \"name\": \"Baring Head Wellington New Zealand\",\n",
    "            \"latitude\": -41.28,\n",
    "            \"longitude\": 174.87\n",
    "        }\n",
    "    ]\n",
    "}\n",
    "```"
   ]
  },
  {
   "cell_type": "markdown",
   "metadata": {},
   "source": [
    "**Another Example of JSON Data**\n",
    "\n",
    "We consider an online database, <a href=\"IP-API.com\">IP-API.com</a>, that returns GeoIP data in JSON format. Simply opening <a href=\"http://ip-api.com/json/54.148.84.95\">http://ip-api.com/json/54.148.84.95</a> will return the following JSON result:\n",
    "\n",
    "\n",
    "```python\n",
    "{\n",
    "  \"as\": \"AS16509 Amazon.com, Inc.\",\n",
    "  \"city\": \"Boardman\",\n",
    "  \"country\": \"United States\",\n",
    "  \"countryCode\": \"US\",\n",
    "  \"isp\": \"Amazon\",\n",
    "  \"lat\": 45.8696,\n",
    "  \"lon\": -119.688,\n",
    "  \"org\": \"Amazon\",\n",
    "  \"query\": \"54.148.84.95\",\n",
    "  \"region\": \"OR\",\n",
    "  \"regionName\": \"Oregon\",\n",
    "  \"status\": \"success\",\n",
    "  \"timezone\": \"America\\/Los_Angeles\",\n",
    "  \"zip\": \"97818\"\n",
    "}\n",
    "```\n",
    "\n",
    "To see your own Geolocation data in JSON format, just open <a href=\"http://ip-api.com/json/\">http://ip-api.com/json/</a>."
   ]
  },
  {
   "cell_type": "code",
   "execution_count": null,
   "metadata": {},
   "outputs": [],
   "source": [
    "url = \"http://ip-api.com/json/\"\n",
    "resp = access_website(url)"
   ]
  },
  {
   "cell_type": "code",
   "execution_count": null,
   "metadata": {},
   "outputs": [],
   "source": [
    "if resp.status_code == 200:\n",
    "    print(f\"Content type: \\t {resp.headers['content-type']}\")\n",
    "    print(f\"Web page content: \\n\\t {resp.text}\")"
   ]
  },
  {
   "cell_type": "markdown",
   "metadata": {},
   "source": [
    "**<font color=\"red\">Note that we have a JSON page.</font>**"
   ]
  },
  {
   "cell_type": "code",
   "execution_count": null,
   "metadata": {},
   "outputs": [],
   "source": [
    "json_page = json.loads(resp.text)\n",
    "pprint.pprint(json_page)"
   ]
  },
  {
   "cell_type": "markdown",
   "metadata": {},
   "source": [
    "### <font color=\"blue\">`JSON` Main Functions</font>\n",
    "`JSON' has two sets of functions:\n",
    "\n",
    "- Set 1 - for serialization (process of transforming objects or data structures into byte streams or strings)\n",
    "   - `dumps()`: Returns a string representing a JSON object from a Python object.\n",
    "   - `dump()`: Store a file (`.json`) the JSON representation of a Python object.\n",
    "- Set 2 - for deserialization (conversion of JSON object into their respective Python objects)\n",
    "   - `loads()`: Returns a Python object from a string representing a JSON object.\n",
    "   - `load()`: Retrieve from a `.json` (with a JSON object) the Python object.\n",
    "\n",
    "\n",
    "![fig_json](https://www.bogotobogo.com/python/images/json_load_dump/python-json-load-loads-dump-dumps.png)\n",
    "Image Source: [www.bogotobogo.com](https://www.bogotobogo.com/python/python-json-dumps-loads-file-read-write.php)"
   ]
  },
  {
   "cell_type": "markdown",
   "metadata": {},
   "source": [
    "![fig_sd](https://miro.medium.com/max/1150/1*9zJJ65xk8agiQXlqd7nYUw.jpeg)\n",
    "Image Source: Phonlawat Khunphet"
   ]
  },
  {
   "cell_type": "markdown",
   "metadata": {},
   "source": [
    "**Serialization**\n",
    "\n",
    "We use the `dump()` that takes two arguments: \n",
    "* The data object to be serialized.\n",
    "* The file object to which it will be written (Byte format)."
   ]
  },
  {
   "cell_type": "code",
   "execution_count": null,
   "metadata": {},
   "outputs": [],
   "source": [
    "file_name = \"Sample.json\"\n",
    "with open(file_name, \"w\") as fid: \n",
    "     json.dump(json_page, fid)"
   ]
  },
  {
   "cell_type": "code",
   "execution_count": null,
   "metadata": {},
   "outputs": [],
   "source": [
    "!cat Sample.json"
   ]
  },
  {
   "cell_type": "markdown",
   "metadata": {},
   "source": [
    "**Deserializing JSON**\n",
    "\n",
    "* The Deserialization is opposite of Serialization, i.e. conversion of JSON object into their respective Python objects. \n",
    "* We use the `load()` function which is usually used to load from string, otherwise the root object is in list or dict."
   ]
  },
  {
   "cell_type": "code",
   "execution_count": null,
   "metadata": {},
   "outputs": [],
   "source": [
    "with open(file_name, \"r\") as fid: \n",
    "     json_obj = json.load(fid)\n",
    "\n",
    "print(json_obj)"
   ]
  },
  {
   "cell_type": "code",
   "execution_count": null,
   "metadata": {},
   "outputs": [],
   "source": [
    "for key in json_obj:\n",
    "    print(\"{:>12}: {}\".format(key, json_obj[key]))"
   ]
  },
  {
   "cell_type": "markdown",
   "metadata": {},
   "source": [
    "## <font color=\"green\">Accessing the DONKI webservice API</font>\n",
    "\n",
    "The Space Weather Database Of Notifications, Knowledge, Information (DONKI), developed at the Community Coordinated Modeling Center (CCMC), is a comprehensive on-line tool for space weather forecasters, scientists, and the general space science community.\n",
    "\n",
    "DONKI provides:\n",
    "- Chronicles the daily interpretations of space weather observations, analysis, models output, and notifications provided by the Moon to Mars Space Weather Analysis Office as a courtesy to the community.\n",
    "- Comprehensive knowledge-base search functionality to support anomaly resolution and space science research.\n",
    "- Intelligent linkages, relationships, cause-and-effects between space weather activities.\n",
    "- Comprehensive webservice API access to information stored in DONKI\n",
    "\n",
    "\n",
    "__Our goal__:\n",
    "- We want to be able to obtain from the webpage [https://kauai.ccmc.gsfc.nasa.gov/DONKI/WS/get/CME](https://kauai.ccmc.gsfc.nasa.gov/DONKI/WS/get/CME) the Coronal Mass Ejection (CME) data\n",
    "- We access the webpage (using a set of parameters) and retrieve the content of the page as a JSON object.\n"
   ]
  },
  {
   "cell_type": "markdown",
   "metadata": {},
   "source": [
    "__URL for Coronal Mass Ejection__\n",
    "\n",
    "The based URL is: `https://kauai.ccmc.gsfc.nasa.gov/DONKI/WS/get/CME`\n",
    "\n",
    "To access the data, we need to provide two parameters:\n",
    "\n",
    "- `startDate` (YYYY-MM-DD): default to 30 days prior to current UTC date\n",
    "- `endDate` (YYYY-MM-DD): default to current UTC date"
   ]
  },
  {
   "cell_type": "code",
   "execution_count": null,
   "metadata": {},
   "outputs": [],
   "source": [
    "url_cme = \"https://kauai.ccmc.gsfc.nasa.gov/DONKI/WS/get/CME\""
   ]
  },
  {
   "cell_type": "code",
   "execution_count": null,
   "metadata": {},
   "outputs": [],
   "source": [
    "startDate=\"2017-01-03\"\n",
    "endDate=\"2017-01-03\"\n",
    "\n",
    "payload = {\n",
    "    'startDate': startDate,\n",
    "    'endDate': endDate,\n",
    "}\n",
    "\n",
    "page_content = access_website(url_cme, payload)"
   ]
  },
  {
   "cell_type": "markdown",
   "metadata": {},
   "source": [
    "Get the url:"
   ]
  },
  {
   "cell_type": "code",
   "execution_count": null,
   "metadata": {},
   "outputs": [],
   "source": [
    "print(f\"URL: \\n\\t {page_content.url}\")"
   ]
  },
  {
   "cell_type": "markdown",
   "metadata": {},
   "source": [
    "Determine the content type:"
   ]
  },
  {
   "cell_type": "code",
   "execution_count": null,
   "metadata": {},
   "outputs": [],
   "source": [
    "print(f\"Content type: \\n\\t {page_content.headers['content-type']}\")"
   ]
  },
  {
   "cell_type": "markdown",
   "metadata": {},
   "source": [
    "Process the data with JSON:"
   ]
  },
  {
   "cell_type": "code",
   "execution_count": null,
   "metadata": {},
   "outputs": [],
   "source": [
    "json_page = json.loads(page_content.text)"
   ]
  },
  {
   "cell_type": "code",
   "execution_count": null,
   "metadata": {},
   "outputs": [],
   "source": [
    "type(json_page)"
   ]
  },
  {
   "cell_type": "markdown",
   "metadata": {},
   "source": [
    "__It seems that we have a list.__"
   ]
  },
  {
   "cell_type": "code",
   "execution_count": null,
   "metadata": {},
   "outputs": [],
   "source": [
    "len(json_page)"
   ]
  },
  {
   "cell_type": "markdown",
   "metadata": {},
   "source": [
    "The list has only one entry."
   ]
  },
  {
   "cell_type": "code",
   "execution_count": null,
   "metadata": {},
   "outputs": [],
   "source": [
    "page = json_page[0]"
   ]
  },
  {
   "cell_type": "code",
   "execution_count": null,
   "metadata": {},
   "outputs": [],
   "source": [
    "type(page)"
   ]
  },
  {
   "cell_type": "markdown",
   "metadata": {},
   "source": [
    "List all the keys:"
   ]
  },
  {
   "cell_type": "code",
   "execution_count": null,
   "metadata": {},
   "outputs": [],
   "source": [
    "for x in page:\n",
    "    print(x)"
   ]
  },
  {
   "cell_type": "markdown",
   "metadata": {},
   "source": [
    "List the keys and the corresponding values:"
   ]
  },
  {
   "cell_type": "code",
   "execution_count": null,
   "metadata": {},
   "outputs": [],
   "source": [
    "for x in page:\n",
    "    print(f\"{x} --> {page[x]} \\n\")"
   ]
  },
  {
   "cell_type": "code",
   "execution_count": null,
   "metadata": {},
   "outputs": [],
   "source": []
  },
  {
   "cell_type": "code",
   "execution_count": null,
   "metadata": {},
   "outputs": [],
   "source": [
    "pprint.pprint(page)"
   ]
  },
  {
   "cell_type": "markdown",
   "metadata": {},
   "source": [
    "#### Task: Get link associated with the `enlilList` key"
   ]
  },
  {
   "cell_type": "code",
   "execution_count": null,
   "metadata": {},
   "outputs": [],
   "source": [
    "page['cmeAnalyses']"
   ]
  },
  {
   "cell_type": "code",
   "execution_count": null,
   "metadata": {},
   "outputs": [],
   "source": [
    "pprint.pprint(page['cmeAnalyses'][0])"
   ]
  },
  {
   "cell_type": "code",
   "execution_count": null,
   "metadata": {},
   "outputs": [],
   "source": [
    "url_link = page['cmeAnalyses'][0]['enlilList'][0]['link']\n",
    "url_link"
   ]
  },
  {
   "cell_type": "markdown",
   "metadata": {},
   "source": [
    "#### Task: Get the gif images contain in the webpage"
   ]
  },
  {
   "cell_type": "code",
   "execution_count": null,
   "metadata": {},
   "outputs": [],
   "source": [
    "from bs4 import BeautifulSoup as bso"
   ]
  },
  {
   "cell_type": "code",
   "execution_count": null,
   "metadata": {},
   "outputs": [],
   "source": [
    "source = access_website(url_link)"
   ]
  },
  {
   "cell_type": "code",
   "execution_count": null,
   "metadata": {},
   "outputs": [],
   "source": [
    "print(f\"Content type: \\n\\t {source.headers['content-type']}\")"
   ]
  },
  {
   "cell_type": "code",
   "execution_count": null,
   "metadata": {},
   "outputs": [],
   "source": [
    "mysoup = bso(source.text, 'html.parser')"
   ]
  },
  {
   "cell_type": "code",
   "execution_count": null,
   "metadata": {},
   "outputs": [],
   "source": [
    "print(mysoup.prettify())"
   ]
  },
  {
   "cell_type": "code",
   "execution_count": null,
   "metadata": {},
   "outputs": [],
   "source": []
  },
  {
   "cell_type": "code",
   "execution_count": null,
   "metadata": {},
   "outputs": [],
   "source": [
    "[a['href'] for a in mysoup.select('a[href]')]"
   ]
  },
  {
   "cell_type": "code",
   "execution_count": null,
   "metadata": {},
   "outputs": [],
   "source": [
    "[a['href'] for a in mysoup.select('a[href]') if \"iswa\" in a['href']]"
   ]
  },
  {
   "cell_type": "code",
   "execution_count": null,
   "metadata": {},
   "outputs": [],
   "source": [
    "list_images = [a['href'] for a in mysoup.select('a[href]') if \"iswa\" in a['href']]"
   ]
  },
  {
   "cell_type": "markdown",
   "metadata": {},
   "source": [
    "#### Task: Display some of the remote images"
   ]
  },
  {
   "cell_type": "code",
   "execution_count": null,
   "metadata": {},
   "outputs": [],
   "source": [
    "HTML(f'<img src={list_images[0]}>')"
   ]
  },
  {
   "cell_type": "code",
   "execution_count": null,
   "metadata": {},
   "outputs": [],
   "source": []
  },
  {
   "cell_type": "code",
   "execution_count": null,
   "metadata": {},
   "outputs": [],
   "source": [
    "HTML(f'<img src={list_images[1]}>')"
   ]
  },
  {
   "cell_type": "code",
   "execution_count": null,
   "metadata": {},
   "outputs": [],
   "source": [
    "HTML(f'<img src={list_images[2]}>')"
   ]
  },
  {
   "cell_type": "code",
   "execution_count": null,
   "metadata": {},
   "outputs": [],
   "source": [
    "HTML(f'<img src={list_images[3]}>')"
   ]
  },
  {
   "cell_type": "code",
   "execution_count": null,
   "metadata": {},
   "outputs": [],
   "source": [
    "HTML(f'<img src={list_images[7]}>')"
   ]
  },
  {
   "cell_type": "code",
   "execution_count": null,
   "metadata": {},
   "outputs": [],
   "source": []
  },
  {
   "cell_type": "code",
   "execution_count": null,
   "metadata": {},
   "outputs": [],
   "source": []
  },
  {
   "cell_type": "markdown",
   "metadata": {},
   "source": [
    "__Based URL for Coronal Mass Ejection Analysis__"
   ]
  },
  {
   "cell_type": "code",
   "execution_count": null,
   "metadata": {},
   "outputs": [],
   "source": [
    "url_cme = \"https://kauai.ccmc.gsfc.nasa.gov/DONKI/WS/get/CME/Analysis\""
   ]
  },
  {
   "cell_type": "code",
   "execution_count": null,
   "metadata": {},
   "outputs": [],
   "source": []
  },
  {
   "cell_type": "code",
   "execution_count": null,
   "metadata": {},
   "outputs": [],
   "source": []
  },
  {
   "cell_type": "code",
   "execution_count": null,
   "metadata": {},
   "outputs": [],
   "source": []
  },
  {
   "cell_type": "markdown",
   "metadata": {},
   "source": [
    "### <font color=\"green\">Scraping the NASA Astronomy Picture Of the Day (APOD) Webpage </font>\n",
    "\n",
    "- We want to be able to obtain from the webpage <a href=\"https://api.nasa.gov/planetary/apod\"> https://api.nasa.gov/planetary/apod</a>,  the Astronomy picture of the day for a given day and plot the image.\n",
    "- We access the webpage (using a set of parameters) and retrieve the content of the page as a JSON object.\n",
    "\n",
    "**Query Parameters**\n",
    "\n",
    "| Parameter | Type | Default | Description |\n",
    "| --- | --- | --- | --- |\n",
    "|`date` | YYYY-MM-DD | today | Date of the APOD image to retrieve |\n",
    "|`start_date` | YYYY-MM-DD | none | The start of a date range, when requesting date for a range of dates. Cannot be used with `date`. |\n",
    "|`end_date` | YYYY-MM-DD | today | The end of the date range, when used with `start_date`. |\n",
    "| `count` |\tint\t| none\t| If this is specified then count randomly chosen images will be returned. Cannot be used with `date` or `start_date` and `end_date`. |\n",
    "| `hd` | bool | False | Retrieve the URL for the high resolution image |\n",
    "| `api_key` | string | DEMO_KEY | <a href=\"https://api.nasa.gov/\">[https://api.nasa.gov/</a> key for expanded usage |\n"
   ]
  },
  {
   "cell_type": "code",
   "execution_count": null,
   "metadata": {},
   "outputs": [],
   "source": []
  },
  {
   "cell_type": "markdown",
   "metadata": {},
   "source": [
    "---"
   ]
  },
  {
   "cell_type": "code",
   "execution_count": null,
   "metadata": {},
   "outputs": [],
   "source": []
  }
 ],
 "metadata": {
  "anaconda-cloud": {},
  "kernelspec": {
   "display_name": "Python 3 (ipykernel)",
   "language": "python",
   "name": "python3"
  },
  "language_info": {
   "codemirror_mode": {
    "name": "ipython",
    "version": 3
   },
   "file_extension": ".py",
   "mimetype": "text/x-python",
   "name": "python",
   "nbconvert_exporter": "python",
   "pygments_lexer": "ipython3",
   "version": "3.12.7"
  }
 },
 "nbformat": 4,
 "nbformat_minor": 4
}
