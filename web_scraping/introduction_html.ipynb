{
 "cells": [
  {
   "cell_type": "markdown",
   "metadata": {},
   "source": [
    "<center>\n",
    "<table>\n",
    "  <tr>\n",
    "    <td><img src=\"https://portal.nccs.nasa.gov/datashare/astg/training/python/logos/nasa-logo.svg\" width=\"100\"/> </td>\n",
    "     <td><img src=\"https://portal.nccs.nasa.gov/datashare/astg/training/python/logos/ASTG_logo.png?raw=true\" width=\"80\"/> </td>\n",
    "     <td> <img src=\"https://www.nccs.nasa.gov/sites/default/files/NCCS_Logo_0.png\" width=\"130\"/> </td>\n",
    "    </tr>\n",
    "</table>\n",
    "</center>\n",
    "\n",
    "        \n",
    "<center>\n",
    "<h1><font color= \"blue\" size=\"+3\">ASTG Python Courses</font></h1>\n",
    "</center>\n",
    "\n",
    "---\n",
    "<center>\n",
    "<H1 style=\"color:red\">\n",
    "Parsing HTML Documents with Python\n",
    "</H1>\n",
    "</center>"
   ]
  },
  {
   "cell_type": "markdown",
   "metadata": {},
   "source": [
    "## Reference Documents\n",
    "\n",
    "* <a href=\"https://aws.amazon.com/what-is/xml/\">What is XML?</a> from Amazon.\n",
    "* [Understanding XML, Its Elements, and Benefits](https://www.spiceworks.com/tech/tech-general/articles/what-is-xml/) from spiceworks.com."
   ]
  },
  {
   "cell_type": "markdown",
   "metadata": {},
   "source": [
    "## <font color=\"red\"> What is HTML?</font>\n",
    "\n",
    "- HTML (HyperText Markup Language) is the technology that defines the content and structure of any website.\n",
    "- It uses various elements (commonly known as tags) that define the different sections of a web page, such as headings, paragraphs, links to other webpages, listings, images, tables, etc.\n",
    "- "
   ]
  },
  {
   "cell_type": "markdown",
   "metadata": {},
   "source": [
    "### <font color=\"blue\">HTML Elements and Tags</font>\n",
    "\n",
    "- An HTML element is a basic building block to create a webpage.\n",
    "- Elements identify the different parts of a page, such as paragraphs, headings, titles, body text, images and more.\n",
    "- Elements are demarcated by tags which enclose the content of an element.\n",
    "   - A tag marks the beginning and the end of an HTML element\n",
    "- An element is created by a start tag, content, and end tag.\n",
    "   - In an HTML element, the content is placed between a start and end tag.\n",
    "\n",
    "```html\n",
    "<tagname>Stuff in the middle</tagname>\n",
    "```"
   ]
  },
  {
   "cell_type": "markdown",
   "metadata": {},
   "source": [
    "### <font color=\"blue\">Basic HTML Tags</font>\n",
    "\n",
    "The following are the HTML Basic Tags:\n",
    "\n",
    "- `<head>`: It contains all the elements describing the document.\n",
    "- `<title>`: It specifies the HTML page title, which is shown in the browser’s title bar.\n",
    "- `<body>`: It is where you insert your web page’s content.\n",
    "- `<h1>` to `<h6>`: These are heading tags that used to write headings for the webpage. Where, `<h1>` is the top-level heading and `<h6>` is the bottom-level (lowest) heading.\n",
    "- `<p>`: It displays text as a paragraph on the webpage.\n",
    "- `<br>` or `<br />`: It stands for \"break\", and it inserts a line break on the webpage.\n",
    "- `<div>`: It stands for \"division\", it defines a division or section on the webpage. You can place any number of elements to group them in a section.\n",
    "- `<ul>` and `<ol>`: They insert list items on the webpage, `<ol>` tag defines ordered listing, whereas `<ul>` tag defines unordered listing.\n",
    "- `<img>`: It is used to insert an image in the webpage.\n",
    "- `<a>`: It stands for \"anchor\", and it is used to place a link in the webpage.\n",
    "- `<pre>`: It is used to preserve formatting.\n",
    "\n",
    "Browsers do not display the HTML tags, but use them to render the content of the page."
   ]
  },
  {
   "cell_type": "markdown",
   "metadata": {},
   "source": [
    "### <font color=\"blue\">HTML Page Structure</font>\n",
    "\n",
    "HTML page structure consists of the essential elements that are required to create an HTML document that can be displayed on the browser.\n",
    "\n",
    "\n",
    "![fig_html](https://site-2014251.mozfiles.com/files/2014251/base64img_4b26ec866e5df2600c8a849b0b6db0eb.jpg)\n",
    "Image Source: topperu.mozellosite.com"
   ]
  },
  {
   "cell_type": "markdown",
   "metadata": {},
   "source": [
    "#### Anatomy of an HTML element\n",
    "\n",
    "Attribute\n",
    "\n",
    "- Provides additional information about the HTML element\n",
    "- Class, ID, language, style, identity, source\n",
    "- Placed inside an opening tag, before the right angle bracket.\n",
    "\n",
    "Value\n",
    "- Value is the value assigned to a given attribute.\n",
    "- Values must be contained inside quotation marks.\n",
    "\n",
    "```html\n",
    "<img src=\"my_picture.jpg\"/>\n",
    "```"
   ]
  },
  {
   "cell_type": "code",
   "execution_count": null,
   "metadata": {},
   "outputs": [],
   "source": []
  },
  {
   "cell_type": "markdown",
   "metadata": {},
   "source": [
    "#### HTML Tables\n",
    "\n",
    "- An HTML table is a structured data grid organized into rows and columns.\n",
    "- HTML tables use a combination of tags to structure and display data in a tabular format.\n",
    "   - `<table>`: Serves as the container for the entire table. It encapsulates all other table-related tags.\n",
    "   - `<tr>`: Represents a row within the table.\n",
    "   - `<th>`: Defines header cells within rows.\n",
    "   - `<td>`: Data cells contain the actual data and are placed within `<tr>` elements. \n",
    "   - `<caption>`: Provides a title or description for the entire table.\n",
    "   - `<colgroup>`: Groups columns for styling purposes.\n",
    "   - `<col>`: Defines column-specific properties.\n",
    "   - `<tbody>`: Groups main data rows within the table.\n",
    "   - `<thead>`: Groups header rows within the table.\n",
    "   - `<tfoot>`: Groups footer rows within the table."
   ]
  },
  {
   "cell_type": "markdown",
   "metadata": {},
   "source": [
    "#### Cascading Style Sheets (CSS)\n",
    "\n",
    "- HTML controls the website’s content and tells the browser what’s on the page. This includes content like headings, paragraphs, links, and images.\n",
    "- CSS controls the styling of website content (e.g., colors, borders, size, positioning, typography, etc.).\n",
    "- CSS is essentially a set of rules that can then be applied when rendering a HTML document. \n",
    "- CSS takes all the styling information that used to be written inline, line-by-line, and moves it into a separate style document.\n",
    "   - There, you can use classes to group HTML elements together for more efficient styling.\n",
    "   - Any HTML elements with the same class will take on the styles associated with that class."
   ]
  },
  {
   "cell_type": "code",
   "execution_count": null,
   "metadata": {},
   "outputs": [],
   "source": []
  },
  {
   "cell_type": "code",
   "execution_count": null,
   "metadata": {},
   "outputs": [],
   "source": []
  },
  {
   "cell_type": "code",
   "execution_count": null,
   "metadata": {},
   "outputs": [],
   "source": []
  },
  {
   "cell_type": "markdown",
   "metadata": {},
   "source": [
    "## <font color='red'>Components of a Web Page</font>\n",
    "\n",
    "A web page typically has the following components:\n",
    "\n",
    "- [HTML (HyperText Markup Language)](https://en.wikipedia.org/wiki/HTML): The main content of the page.\n",
    "   - Is the language that web pages are created in.\n",
    "   - It’s a markup language that tells a browser how to display content.\n",
    "- [CSS (Casdading Style Sheets)](https://skillcrush.com/blog/css/): Used to add styling to make the page look nicer and modern.\n",
    "- [JS (Javascript)](https://developer.mozilla.org/en-US/docs/Learn/JavaScript/First_steps/What_is_JavaScript): Adds interactivity to web pages.\n",
    "- Images: image formats, such as JPG and PNG, allow web pages to show pictures.\n",
    "\n",
    "![webpage](https://wp.brytdesigns.com/wp-content/uploads/2019/12/html_css_javascript_infographic.png)\n",
    "Image Source: [brytdesigns.com](https://brytdesigns.com/html-css-javascript-whats-the-difference)"
   ]
  },
  {
   "cell_type": "markdown",
   "metadata": {},
   "source": [
    "#### Sample HTML document\n",
    "\n",
    "\n",
    "\n",
    "Below is the content of a [sample](https://www.freecodecamp.org/news/html-css-and-javascript-explained-for-beginners/) web page:\n",
    "\n",
    "```html\n",
    "<!DOCTYPE html>\n",
    "<html lang=\"en\">\n",
    "<head>\n",
    "  <meta charset=\"UTF-8\">\n",
    "  <meta name=\"viewport\" content=\"width=device-width, initial-scale=1.0\">\n",
    "  <meta http-equiv=\"X-UA-Compatible\" content=\"ie=edge\">\n",
    "  <link rel=\"stylesheet\" href=\"./styles.css\">\n",
    "  <title>Document</title>\n",
    "</head>\n",
    "<body>\n",
    "  <h1>This is a first level heading in HTML. With CSS, I will turn this into red color</h1>\n",
    "  <h2>This is a second level heading in HTML. With CSS, I will turn this into blue color</h2>\n",
    "  <h3>This is a third level heading in HTML. With CSS, I will turn this into green color</h3>\n",
    "  <p>This is a <em>paragragh</em> As you can see, I placed an empahisis on the word \"paragraph\". Now, I will change also\n",
    "    the background color of the word \"paragraph\" to black, and its text color  to green, all with just CSS.</p>\n",
    "  <p>The main essence of this tutorial is to:</p>\n",
    "    <ul>\n",
    "       <li>Show you how to format a web document with HTML</li>\n",
    "       <li>Show you how to design a web page with CSS</li>\n",
    "       <li>Show you how to program a web document with JavaScript</li>\n",
    "    </ul>\n",
    "\n",
    "  <p>Next, I am going to add the following two numbers and display the result, all with JavaScript<p/>\n",
    "    <p>First number:<span id= \"firstNum\">2</span> <br></p>\n",
    "    <p>Second number: <span id= \"secondNum\">7</span> </p>\n",
    "    <p>Therefore, the sum of the two of those numbers is: <span id= \"answer\">(placeholder for the answer)</span></p>\n",
    "    <input type=\"button\" id=\"sumButton\" value=\"Click to add!\">\n",
    "</body>\n",
    "</html>\n",
    "```"
   ]
  },
  {
   "cell_type": "markdown",
   "metadata": {},
   "source": [
    "## <font color=\"red\">Parsing HTML documents with Python</font>\n",
    "\n",
    "- Python provides a built-in HTML parser accessible via the `html.parser` module.\n",
    "- This module defines a class named `HTMLParser` that serves as the basis for parsing HTML and XML files, and can be subclassed to implement custom parsing behavior.\n",
    "- When you pass HTML data to an instance of `HTMLParser`, it automatically invokes handler methods such as `handle_starttag`, `handle_endtag`, and `handle_data`.\n",
    "   - These methods are triggered when the parser encounters start tags, end tags, text, comments, and other markup elements.\n",
    " \n",
    "https://www.roborabbit.com/blog/top-5-python-html-parser/"
   ]
  },
  {
   "cell_type": "code",
   "execution_count": null,
   "metadata": {},
   "outputs": [],
   "source": [
    "from html.parser import HTMLParser"
   ]
  },
  {
   "cell_type": "code",
   "execution_count": null,
   "metadata": {},
   "outputs": [],
   "source": [
    "class MyHTMLParser(HTMLParser):\n",
    "    def handle_starttag(self, tag, attrs):\n",
    "        print(f\"Encountered a start tag: {tag}\")\n",
    "        for attr in attrs:\n",
    "            print(f\"     attr: {attr}\")\n",
    "\n",
    "    def handle_endtag(self, tag):\n",
    "        print(f\"Encountered an end tag: {tag}\")\n",
    "\n",
    "    def handle_data(self, data):\n",
    "        print(f\"Encountered some data: {data}\")\n",
    "\n",
    "parser = MyHTMLParser()"
   ]
  },
  {
   "cell_type": "code",
   "execution_count": null,
   "metadata": {},
   "outputs": [],
   "source": []
  },
  {
   "cell_type": "code",
   "execution_count": null,
   "metadata": {},
   "outputs": [],
   "source": [
    "htmldoc = \"\"\"\n",
    "\n",
    "\"\"\""
   ]
  },
  {
   "cell_type": "code",
   "execution_count": null,
   "metadata": {},
   "outputs": [],
   "source": [
    "parser.feed(htmldoc)"
   ]
  },
  {
   "cell_type": "code",
   "execution_count": null,
   "metadata": {},
   "outputs": [],
   "source": []
  }
 ],
 "metadata": {
  "anaconda-cloud": {},
  "celltoolbar": "Raw Cell Format",
  "kernelspec": {
   "display_name": "Python 3 (ipykernel)",
   "language": "python",
   "name": "python3"
  },
  "language_info": {
   "codemirror_mode": {
    "name": "ipython",
    "version": 3
   },
   "file_extension": ".py",
   "mimetype": "text/x-python",
   "name": "python",
   "nbconvert_exporter": "python",
   "pygments_lexer": "ipython3",
   "version": "3.12.7"
  }
 },
 "nbformat": 4,
 "nbformat_minor": 4
}
