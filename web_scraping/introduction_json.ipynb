{
 "cells": [
  {
   "cell_type": "markdown",
   "metadata": {},
   "source": [
    "<center>\n",
    "<table>\n",
    "  <tr>\n",
    "    <td><img src=\"https://portal.nccs.nasa.gov/datashare/astg/training/python/logos/nasa-logo.svg\" width=\"100\"/> </td>\n",
    "     <td><img src=\"https://portal.nccs.nasa.gov/datashare/astg/training/python/logos/ASTG_logo.png?raw=true\" width=\"80\"/> </td>\n",
    "     <td> <img src=\"https://www.nccs.nasa.gov/sites/default/files/NCCS_Logo_0.png\" width=\"130\"/> </td>\n",
    "    </tr>\n",
    "</table>\n",
    "</center>\n",
    "\n",
    "        \n",
    "<center>\n",
    "<h1><font color= \"blue\" size=\"+3\">ASTG Python Courses</font></h1>\n",
    "</center>\n",
    "\n",
    "---\n",
    "<center>\n",
    "<H1 style=\"color:red\">\n",
    "Introduction to JSON\n",
    "</H1>\n",
    "</center>"
   ]
  },
  {
   "cell_type": "markdown",
   "metadata": {},
   "source": [
    "# <font color=\"red\">Reference Documents</font>\n",
    "\n",
    "- [What Is JSON?](https://www.oracle.com/database/what-is-json/) from oracle.com\n",
    "- [Working With JSON Data in Pytho](https://realpython.com/python-json/) from realpython.com\n",
    "- [A Practical Guide to JSON Parsing with Python](https://www.zyte.com/blog/json-parsing-with-python/) by Felipe Boff Nunes, December 2024."
   ]
  },
  {
   "cell_type": "markdown",
   "metadata": {},
   "source": [
    "# <font color=\"red\"> What is JSON?</font>\n",
    "\n",
    "* JSON (JavaScript Object Notation) is a human-readable and machine-parsable data format used for representing structured data. \n",
    "* It is language independent.\n",
    "* It was originally developed for JavaScript, but is language independent.\n",
    "   - Can be used in any language: Python, Perl, etc.\n",
    "* JSON format is used for data communications between servers and web applications.\n",
    "   - It provides a standardized and efficient way for different systems to exchange data.\n",
    "* Beyond web development, JSON is often used within an application or an IT system for storing and managing configuration settings.\n",
    "* It is built on two structures:\n",
    "   * A collection of key/value pairs. This is realized as an object, record, dictionary, hash table, keyed list, or associative array.\n",
    "   * An ordered list of values. This is realized as an array, vector, list, or sequence."
   ]
  },
  {
   "cell_type": "markdown",
   "metadata": {},
   "source": [
    "# <font color=\"red\">JSON vs. HTML vs. XML</font>\n",
    "\n",
    "- __JSON__ (JavaScript Object Notation): commonly used for data storage and transfer. JSON is a popular choice for applications that benefit from a simple and easy-to-use data format.\n",
    "- __XML__ (Extensible Markup Language):  a general-purpose markup language similar to JSON that allows for more complex data structures.\n",
    "- __HTML__ (Hypertext Markup Language): used to create the structure and content of web pages. Other languages are used to unify a website’s style and add interactivity: CSS (Cascading Style Sheets) and JavaScript for instance."
   ]
  },
  {
   "cell_type": "markdown",
   "metadata": {},
   "source": [
    "# <font color=\"red\">JSON data types</font>\n",
    "\n",
    "JSON supports several data types, including the following:\n",
    "\n",
    "- __Object__: A set of name or value pairs inserted between `{}` (curly braces). This is like a Python dictionary consisting of key-value pairs.\n",
    "   - In a JSON document, objects are separated by commas.\n",
    "- __Array__ An ordered collection of values which must be type string, number, object, array, Boolean, or null.\n",
    "- __String__: Is enclosed in double quotation marks (`\"\"`), can contain any Unicode character, and is commonly used to store and transmit text-based data, such as names, addresses, or descriptions.\n",
    "   - A JSON string can be stored in its own file, which is basically just a text file with an extension of `.json`.\n",
    "- __Boolean__: Can takes two values (true or false) and is not surrounded by quotes (reserved for string values).\n",
    "- __Null__: Represents a value that is intentionally left empty. When no value is assigned to a key, it can be treated as null.\n",
    "- __Number__: Used to store numerical values."
   ]
  },
  {
   "cell_type": "markdown",
   "metadata": {},
   "source": [
    "## <font color=\"blue\"> Examples of JSON data</font>"
   ]
  },
  {
   "cell_type": "markdown",
   "metadata": {},
   "source": [
    "__Example 1__\n",
    "\n",
    "The basic structure is built from one or more pairs of keys and values:\n",
    "\n",
    "\n",
    "```python\n",
    "{\n",
    "  \"city\": \"Greenbelt\",\n",
    "  \"temperature\": 34.7\n",
    "}\n",
    "```\n",
    "\n",
    "This looks like a Python disctionary with two keys and the corresponding values."
   ]
  },
  {
   "cell_type": "markdown",
   "metadata": {},
   "source": [
    "\n",
    "__Example 2__\n",
    "\n",
    "```python\n",
    "{\n",
    "    \"stations\": [\n",
    "        {\n",
    "            \"acronym\": “BLD”, \n",
    "            \"name\": \"Boulder Colorado\",\n",
    "            \"latitude”: 40.00,\n",
    "            \"longitude”: -105.25\n",
    "        }, \n",
    "        {\n",
    "            \"acronym”: “BHD”, \n",
    "            \"name\": \"Baring Head Wellington New Zealand\",\n",
    "            \"latitude\": -41.28,\n",
    "            \"longitude\": 174.87\n",
    "        }\n",
    "    ]\n",
    "}\n",
    "```\n",
    "\n",
    "This looks like a Python disctionary that has one key (`stations`) with a corresponding value a list (of two dictionaries)."
   ]
  },
  {
   "cell_type": "markdown",
   "metadata": {},
   "source": [
    "__Example 3__\n",
    "\n",
    "```python\n",
    "{\n",
    "  \"cme\": {\n",
    "    \"start_time\": \"2020-11-24T13:24:00Z\",\n",
    "    \"lat\": \"-10\",\n",
    "    \"lon\": \"-148\",\n",
    "    \"half_width\": \"42\",\n",
    "    \"speed\": \"878\",\n",
    "    \"time_at_height\": {\n",
    "      \"time\": \"2020-11-24T17:19Z\",\n",
    "      \"height\": \"21.5\"\n",
    "    },\n",
    "    \"coordinates\": \"HEEQ\",\n",
    "    \"catalog\": \"DONKI\",\n",
    "    \"catalog_id\": \"2020-11-24T13:24:00-CME-001\"\n",
    "  }\n",
    "}\n",
    "```\n",
    "\n",
    "This looks like a Python dictionary that has one key (`cme`) with a corresponding value another dictionary."
   ]
  },
  {
   "cell_type": "markdown",
   "metadata": {},
   "source": [
    "## <font color=\"red\">Convert Python Data Types into JSON Objects </font>\n",
    "\n",
    "Python objects and their equivalent conversion to JSON.\n",
    "\n",
    "| Python Data Type | JSON Equivalent |\n",
    "| --- | ---  |\n",
    "| `dict` | object |\n",
    "| `list`, `tuple` | array |\n",
    "| `str` | string |\n",
    "| `int`, `float` | number |\n",
    "| `True`/`False` | true/false |\n",
    "| `None` | null |\n"
   ]
  },
  {
   "cell_type": "markdown",
   "metadata": {},
   "source": [
    "`JSON` has two sets of functions:\n",
    "\n",
    "- __Set 1__ - for serialization (process of transforming objects or data structures into byte streams or strings)\n",
    "   - `dumps()`: Returns a string representing a JSON object from a Python object.\n",
    "   - `dump()`: Store a file (`.json`) the JSON representation of a Python object.\n",
    "- __Set 2__ - for deserialization (conversion of JSON object into their respective Python objects)\n",
    "   - `loads()`: Returns a Python object from a string representing a JSON object.\n",
    "   - `load()`: Retrieve from a `.json` (with a JSON object) the Python object."
   ]
  },
  {
   "cell_type": "markdown",
   "metadata": {},
   "source": [
    "![fig_json](https://www.bogotobogo.com/python/images/json_load_dump/python-json-load-loads-dump-dumps.png)\n",
    "Image Source: [www.bogotobogo.com](https://www.bogotobogo.com/python/python-json-dumps-loads-file-read-write.php)"
   ]
  },
  {
   "cell_type": "code",
   "execution_count": null,
   "metadata": {},
   "outputs": [],
   "source": [
    "import pprint"
   ]
  },
  {
   "cell_type": "code",
   "execution_count": null,
   "metadata": {},
   "outputs": [],
   "source": [
    "import json"
   ]
  },
  {
   "cell_type": "markdown",
   "metadata": {},
   "source": [
    "## <font color=\"blue\">Convert Python objects into JSON objects</font>"
   ]
  },
  {
   "cell_type": "code",
   "execution_count": null,
   "metadata": {},
   "outputs": [],
   "source": [
    "print(f'Dictionary: {json.dumps({\"name\": \"John\", \"age\": 30})}')\n",
    "print(f'List:       {json.dumps([\"apple\", \"bananas\"])}')\n",
    "print(f'Tuple:      {json.dumps((\"apple\", \"bananas\"))}')\n",
    "print(f'String:     {json.dumps(\"hello\")}')\n",
    "print(f'Integer:    {json.dumps(42)}')\n",
    "print(f'Float:      {json.dumps(31.76)}')\n",
    "print(f'True:       {json.dumps(True)}')\n",
    "print(f'False:      {json.dumps(False)}')\n",
    "print(f'None:       {json.dumps(None)}')"
   ]
  },
  {
   "cell_type": "markdown",
   "metadata": {},
   "source": [
    "## <font color=\"blue\">Convert JSON to Python Object (`dict`)</font>"
   ]
  },
  {
   "cell_type": "code",
   "execution_count": null,
   "metadata": {},
   "outputs": [],
   "source": [
    "json_data = '{\"acronym\": \"BLD\", \"name\": \"Boulder Colorado\", \"latitude\": 40.00, \"longitude\": -105.25}'"
   ]
  },
  {
   "cell_type": "code",
   "execution_count": null,
   "metadata": {},
   "outputs": [],
   "source": [
    "python_obj = json.loads(json_data)"
   ]
  },
  {
   "cell_type": "code",
   "execution_count": null,
   "metadata": {},
   "outputs": [],
   "source": [
    "print(f'Name:     {python_obj[\"name\"]}')\n",
    "print(f'Acronym:  {python_obj[\"acronym\"]}')\n",
    "print(f'Latitude: {python_obj[\"latitude\"]}')\n",
    "print(f'Latitude: {python_obj[\"longitude\"]}')"
   ]
  },
  {
   "cell_type": "markdown",
   "metadata": {},
   "source": [
    "__Reconvert into a JSON object__"
   ]
  },
  {
   "cell_type": "code",
   "execution_count": null,
   "metadata": {},
   "outputs": [],
   "source": [
    "print(json.dumps(python_obj, sort_keys=True, indent=4))"
   ]
  },
  {
   "cell_type": "markdown",
   "metadata": {},
   "source": [
    "## <font color=\"blue\">Convert JSON to Python Object (`list`)</font>"
   ]
  },
  {
   "cell_type": "code",
   "execution_count": null,
   "metadata": {},
   "outputs": [],
   "source": [
    "json_array = '{\"drinks\": [\"coffee\", \"tea\", \"water\"]}'"
   ]
  },
  {
   "cell_type": "code",
   "execution_count": null,
   "metadata": {},
   "outputs": [],
   "source": [
    "pprint.pprint(json_array, indent=4)"
   ]
  },
  {
   "cell_type": "code",
   "execution_count": null,
   "metadata": {},
   "outputs": [],
   "source": [
    "data = json.loads(json_array)"
   ]
  },
  {
   "cell_type": "code",
   "execution_count": null,
   "metadata": {},
   "outputs": [],
   "source": [
    "type(data)"
   ]
  },
  {
   "cell_type": "code",
   "execution_count": null,
   "metadata": {},
   "outputs": [],
   "source": [
    "type(data[\"drinks\"])"
   ]
  },
  {
   "cell_type": "code",
   "execution_count": null,
   "metadata": {},
   "outputs": [],
   "source": [
    "for element in data[\"drinks\"]:\n",
    "    print(element)"
   ]
  },
  {
   "cell_type": "markdown",
   "metadata": {},
   "source": [
    "__Reconvert into a JSON object__"
   ]
  },
  {
   "cell_type": "code",
   "execution_count": null,
   "metadata": {},
   "outputs": [],
   "source": [
    "print(json.dumps(data, sort_keys=True, indent=4))"
   ]
  },
  {
   "cell_type": "markdown",
   "metadata": {},
   "source": [
    "## <font color=\"blue\">Convert JSON to Python object</font>"
   ]
  },
  {
   "cell_type": "code",
   "execution_count": null,
   "metadata": {},
   "outputs": [],
   "source": [
    "json_input = '{\"stations\": [{\"acronym\": \"BLD\", \\\n",
    "                                \"name\": \"Boulder Colorado\", \\\n",
    "                            \"latitude\": 40.00, \\\n",
    "                            \"longitude\": -105.25}, \\\n",
    "                            {\"acronym\": \"BHD\", \\\n",
    "                             \"name\": \"Baring Head Wellington New Zealand\",\\\n",
    "                             \"latitude\": -41.28, \\\n",
    "                             \"longitude\": 174.87}]}'"
   ]
  },
  {
   "cell_type": "code",
   "execution_count": null,
   "metadata": {},
   "outputs": [],
   "source": [
    "pprint.pprint(json_input)"
   ]
  },
  {
   "cell_type": "code",
   "execution_count": null,
   "metadata": {},
   "outputs": [],
   "source": [
    "decoded = json.loads(json_input)\n",
    "for x in decoded['stations']:\n",
    "    print(x[\"name\"])"
   ]
  },
  {
   "cell_type": "code",
   "execution_count": null,
   "metadata": {},
   "outputs": [],
   "source": [
    "print(json.dumps(decoded, sort_keys=True, indent=4))"
   ]
  },
  {
   "cell_type": "markdown",
   "metadata": {},
   "source": [
    "## <font color=\"blue\">Convert Python object (`dict`) to JSON</font>"
   ]
  },
  {
   "cell_type": "code",
   "execution_count": null,
   "metadata": {},
   "outputs": [],
   "source": [
    "d = {}\n",
    "d[\"name\"] = \"Boulder Colorado\"\n",
    "d[\"acronym\"] = \"BLD\"\n",
    "d[\"latitude\"] = 40.00\n",
    "d[\"longitude\"] = -105.25"
   ]
  },
  {
   "cell_type": "code",
   "execution_count": null,
   "metadata": {},
   "outputs": [],
   "source": [
    "pprint.pprint(d, indent=4)"
   ]
  },
  {
   "cell_type": "code",
   "execution_count": null,
   "metadata": {},
   "outputs": [],
   "source": [
    "print(json.dumps(d, ensure_ascii=False, indent=4))"
   ]
  },
  {
   "cell_type": "markdown",
   "metadata": {},
   "source": [
    "## <font color=\"blue\">Convert Python objects into JSON</font>"
   ]
  },
  {
   "cell_type": "code",
   "execution_count": null,
   "metadata": {},
   "outputs": [],
   "source": [
    "x = {\n",
    "  \"name\": \"John\",\n",
    "  \"age\": 30,\n",
    "  \"married\": True,\n",
    "  \"divorced\": False,\n",
    "  \"children\": (\"Ann\",\"Billy\"),\n",
    "  \"pets\": None,\n",
    "  \"cars\": [\n",
    "    {\"model\": \"BMW 230\", \"mpg\": 27.5},\n",
    "    {\"model\": \"Ford Edge\", \"mpg\": 24.1}\n",
    "  ]\n",
    "}\n",
    "\n",
    "print(f\"Python Object: \\n {x}\")"
   ]
  },
  {
   "cell_type": "code",
   "execution_count": null,
   "metadata": {},
   "outputs": [],
   "source": [
    "for key in x:\n",
    "    print(f\"{key:<10}: {x[key]}\")"
   ]
  },
  {
   "cell_type": "code",
   "execution_count": null,
   "metadata": {},
   "outputs": [],
   "source": [
    "x_js = json.dumps(x)\n",
    "type(x_js)"
   ]
  },
  {
   "cell_type": "code",
   "execution_count": null,
   "metadata": {},
   "outputs": [],
   "source": [
    "print(f\"Corresponding JSON Object: \\n\\t {x_js}\")"
   ]
  },
  {
   "cell_type": "markdown",
   "metadata": {},
   "source": [
    "__Going back to Python__"
   ]
  },
  {
   "cell_type": "code",
   "execution_count": null,
   "metadata": {},
   "outputs": [],
   "source": [
    "y = json.loads(x_js)\n",
    "for key in y:\n",
    "    print(f\"{key:<10}: {y[key]}\")"
   ]
  },
  {
   "cell_type": "markdown",
   "metadata": {},
   "source": [
    "## <font color=\"blue\">Convert Python string to JSON</font>"
   ]
  },
  {
   "cell_type": "code",
   "execution_count": null,
   "metadata": {},
   "outputs": [],
   "source": [
    "json_string = \"\"\"\n",
    "{\n",
    "    \"researcher\": {\n",
    "        \"name\": \"Ford Prefect\",\n",
    "        \"species\": \"Betelgeusian\",\n",
    "        \"relatives\": [\n",
    "            {\n",
    "                \"name\": \"Zaphod Beeblebrox\",\n",
    "                \"species\": \"Betelgeusian\"\n",
    "            }\n",
    "        ]\n",
    "    }\n",
    "}\n",
    "\"\"\""
   ]
  },
  {
   "cell_type": "code",
   "execution_count": null,
   "metadata": {},
   "outputs": [],
   "source": [
    "data = json.loads(json_string)\n",
    "type(data)"
   ]
  },
  {
   "cell_type": "code",
   "execution_count": null,
   "metadata": {},
   "outputs": [],
   "source": [
    "pprint.pprint(data, indent=4)"
   ]
  },
  {
   "cell_type": "code",
   "execution_count": null,
   "metadata": {},
   "outputs": [],
   "source": [
    "print(json.dumps(data, sort_keys=True, indent=4))"
   ]
  },
  {
   "cell_type": "markdown",
   "metadata": {},
   "source": [
    "# <font color=\"red\"> Serialization and Deserialization</font>\n",
    "\n",
    "Serialization and deserialization are fundamental processes in software development, enabling the conversion of complex data structures into a format suitable for storage or transmission.\n",
    "\n",
    "- __Serialization__: Process of converting an object or data structure into a format that can be easily stored or transmitted.\n",
    "- __Deserialization__: Reverse process, converting a serialized string back into an object."
   ]
  },
  {
   "cell_type": "markdown",
   "metadata": {},
   "source": [
    "![fig_sd](https://miro.medium.com/max/1150/1*9zJJ65xk8agiQXlqd7nYUw.jpeg)\n",
    "Image Source: Phonlawat Khunphet"
   ]
  },
  {
   "cell_type": "markdown",
   "metadata": {},
   "source": [
    "## <font color=\"blue\">Serialization with JSON</font>\n",
    "\n",
    "We use the `dump()` that takes two arguments: \n",
    "* The data object to be serialized.\n",
    "* The file object to which it will be written (Byte format)."
   ]
  },
  {
   "cell_type": "code",
   "execution_count": null,
   "metadata": {},
   "outputs": [],
   "source": [
    "x = {\n",
    "  \"name\": \"John\",\n",
    "  \"age\": 30,\n",
    "  \"married\": True,\n",
    "  \"divorced\": False,\n",
    "  \"children\": (\"Ann\",\"Billy\"),\n",
    "  \"pets\": None,\n",
    "  \"cars\": [\n",
    "    {\"model\": \"BMW 230\", \"mpg\": 27.5},\n",
    "    {\"model\": \"Ford Edge\", \"mpg\": 24.1}\n",
    "  ]\n",
    "}"
   ]
  },
  {
   "cell_type": "code",
   "execution_count": null,
   "metadata": {},
   "outputs": [],
   "source": [
    "file_name = \"Sample.json\"\n",
    "with open(file_name, \"w\") as fid: \n",
    "     json.dump(x, fid)"
   ]
  },
  {
   "cell_type": "markdown",
   "metadata": {},
   "source": [
    "## <font color=\"blue\">Deserializing with JSON</font>\n",
    "\n",
    "* The Deserialization is opposite of Serialization, i.e. conversion of JSON object into their respective Python objects. \n",
    "* We use the `load()` function which is usually used to load from string, otherwise the root object is in list or dict."
   ]
  },
  {
   "cell_type": "code",
   "execution_count": null,
   "metadata": {},
   "outputs": [],
   "source": [
    "with open(file_name, \"r\") as fid: \n",
    "     z = json.load(fid)"
   ]
  },
  {
   "cell_type": "code",
   "execution_count": null,
   "metadata": {},
   "outputs": [],
   "source": [
    "type(z)"
   ]
  },
  {
   "cell_type": "code",
   "execution_count": null,
   "metadata": {},
   "outputs": [],
   "source": [
    "print(z)"
   ]
  },
  {
   "cell_type": "code",
   "execution_count": null,
   "metadata": {},
   "outputs": [],
   "source": [
    "for key in z:\n",
    "    print(f\"{key:<10}: {z[key]}\")"
   ]
  },
  {
   "cell_type": "markdown",
   "metadata": {},
   "source": [
    "**Example**\n",
    "\n",
    "Consider the following JSON data (from NASA's Astronomy Picture of the Day API) that we write in a file named `apod.json`."
   ]
  },
  {
   "cell_type": "code",
   "execution_count": null,
   "metadata": {},
   "outputs": [],
   "source": [
    "%%writefile apod.json\n",
    "{\n",
    "    \"media_type\": \"image\",\n",
    "    \"copyright\": \"Yin Hao\",\n",
    "    \"date\": \"2018-10-30\",\n",
    "    \"url\": \"https://apod.nasa.gov/apod/image/1810/Orionids_Hao_960.jpg\",\n",
    "    \"explanation\": \"Meteors have been shooting out from the constellation of Orion. This was expected, as October is the time of year for the Orionids Meteor Shower.  Pictured here, over two dozen meteors were caught in successively added exposures last October over Wulan Hada volcano in Inner Mongolia, China. The featured image shows multiple meteor streaks that can all be connected to a single small region on the sky called the radiant, here visible just above and to the left of the belt of Orion, The Orionids meteors started as sand sized bits expelled from Comet Halley during one of its trips to the inner Solar System. Comet Halley is actually responsible for two known meteor showers, the other known as the Eta Aquarids and visible every May. An Orionids image featured on APOD one year ago today from the same location shows the same car. Next month, the Leonids Meteor Shower from Comet Tempel-Tuttle should also result in some bright meteor streaks. Follow APOD on: Facebook, Instagram, Reddit, or Twitter\",\n",
    "    \"hdurl\": \"https://apod.nasa.gov/apod/image/1810/Orionids_Hao_2324.jpg\",\n",
    "    \"title\": \"Orionids Meteors over Inner Mongolia\",\n",
    "    \"service_version\": \"v1\"\n",
    "}"
   ]
  },
  {
   "cell_type": "markdown",
   "metadata": {},
   "source": [
    "Read the file:"
   ]
  },
  {
   "cell_type": "code",
   "execution_count": null,
   "metadata": {},
   "outputs": [],
   "source": [
    "with open(\"apod.json\", \"r\") as f:\n",
    "    json_text = f.read()"
   ]
  },
  {
   "cell_type": "markdown",
   "metadata": {},
   "source": [
    "Decode the JSON string into a Python dictionary:"
   ]
  },
  {
   "cell_type": "code",
   "execution_count": null,
   "metadata": {},
   "outputs": [],
   "source": [
    "apod_dict = json.loads(json_text)\n",
    "print(apod_dict['explanation'])"
   ]
  },
  {
   "cell_type": "markdown",
   "metadata": {},
   "source": [
    "Encode the Python dictionary into a JSON string."
   ]
  },
  {
   "cell_type": "code",
   "execution_count": null,
   "metadata": {},
   "outputs": [],
   "source": [
    "new_json_string = json.dumps(apod_dict, indent=6)\n",
    "print(new_json_string)"
   ]
  },
  {
   "cell_type": "code",
   "execution_count": null,
   "metadata": {},
   "outputs": [],
   "source": [
    "new_json_string = json.dumps(apod_dict, indent=6, sort_keys=True)\n",
    "print(new_json_string)"
   ]
  },
  {
   "cell_type": "code",
   "execution_count": null,
   "metadata": {},
   "outputs": [],
   "source": []
  }
 ],
 "metadata": {
  "anaconda-cloud": {},
  "celltoolbar": "Raw Cell Format",
  "kernelspec": {
   "display_name": "Python 3 (ipykernel)",
   "language": "python",
   "name": "python3"
  },
  "language_info": {
   "codemirror_mode": {
    "name": "ipython",
    "version": 3
   },
   "file_extension": ".py",
   "mimetype": "text/x-python",
   "name": "python",
   "nbconvert_exporter": "python",
   "pygments_lexer": "ipython3",
   "version": "3.12.7"
  }
 },
 "nbformat": 4,
 "nbformat_minor": 4
}
