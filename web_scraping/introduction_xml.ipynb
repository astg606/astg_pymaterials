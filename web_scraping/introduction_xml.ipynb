{
 "cells": [
  {
   "cell_type": "markdown",
   "metadata": {},
   "source": [
    "<center>\n",
    "<table>\n",
    "  <tr>\n",
    "    <td><img src=\"https://portal.nccs.nasa.gov/datashare/astg/training/python/logos/nasa-logo.svg\" width=\"100\"/> </td>\n",
    "     <td><img src=\"https://portal.nccs.nasa.gov/datashare/astg/training/python/logos/ASTG_logo.png?raw=true\" width=\"80\"/> </td>\n",
    "     <td> <img src=\"https://www.nccs.nasa.gov/sites/default/files/NCCS_Logo_0.png\" width=\"130\"/> </td>\n",
    "    </tr>\n",
    "</table>\n",
    "</center>\n",
    "\n",
    "        \n",
    "<center>\n",
    "<h1><font color= \"blue\" size=\"+3\">ASTG Python Courses</font></h1>\n",
    "</center>\n",
    "\n",
    "---\n",
    "<center>\n",
    "<H1 style=\"color:red\">\n",
    "Parsing XML Documents with Python\n",
    "</H1>\n",
    "</center>"
   ]
  },
  {
   "cell_type": "markdown",
   "metadata": {},
   "source": [
    "## Reference Documents\n",
    "\n",
    "* <a href=\"https://aws.amazon.com/what-is/xml/\">What is XML?</a> from Amazon.\n",
    "* [Understanding XML, Its Elements, and Benefits](https://www.spiceworks.com/tech/tech-general/articles/what-is-xml/) from spiceworks.com."
   ]
  },
  {
   "cell_type": "markdown",
   "metadata": {},
   "source": [
    "## <font color=\"red\"> What is XML?</font>\n",
    "\n",
    "- Extensible Markup Language (XML) is a markup language that provides rules to define any data.\n",
    "- XML is similar to HTML, but without predefined tags to use. Instead, you define your own tags designed specifically for your needs.\n",
    "- Unlike HTML which is primarily geared toward how data looks (presentation), XML focuses on what data is (content).\n",
    "- XML lets you define and store data in a shareable manner.\n",
    "- XML supports information exchange between computer systems such as websites, databases, and third-party applications.\n",
    "- A XML file is a text-based document that you can save with the `.xml` extension.\n",
    "- XML does not have the ability to perform data computing operations. Instead, it relies on other programming languages or software to do so.\n",
    "- XML enables you to create or define your own language.\n",
    "   - For example, languages such as XHTML, MathML (Mathematical Markup Language), and SVG are created using XML meta-language."
   ]
  },
  {
   "cell_type": "markdown",
   "metadata": {},
   "source": [
    "### <font color=\"blue\">Some benefits of using XML</font>\n",
    "\n",
    "- __Maintain data integrity__: You transfer data along with the data’s description, preventing the loss of data integrity.\n",
    "- __Improve search efficiency__: Computer programs like search engines can sort and categorize XML files more efficiently and precisely than other types of documents.\n",
    "- "
   ]
  },
  {
   "cell_type": "markdown",
   "metadata": {},
   "source": [
    "### <font color=\"blue\"> XML Tags</font>\n",
    "\n",
    "- XML uses markup symbols, called tags, to define data.\n",
    "- Tags bring sophisticated data coding to integrate information flows across different systems.\n",
    "- Software can use these tags to determine the data processing strategies of the document.\n",
    "- A tag is a construct that starts with `<` and ends with `>`.\n",
    "- A tag marks the beginning or end of an element.\n",
    "   - For example, `<center>` is an opening tag, and `</center>` is a closing tag.\n",
    "- Tags are case-sensitive.\n",
    "   - `<center>` and `<Center>` are considered different.\n",
    "- We can define an empty tag as `<empty_tag />`."
   ]
  },
  {
   "cell_type": "markdown",
   "metadata": {},
   "source": [
    "### <font color=\"blue\">XML Syntax</font>\n",
    "\n",
    "- XML documents embody a \"tree\" structure, composed of elements arranged in a hierarchical relationship. \n",
    "- The first line of an XML document should be a declaration that this is an XML document, including the version of XML being used and the type of encoding (optional).\n",
    "\n",
    "\n",
    "```xml\n",
    "<?xml version=\"1.0\" encoding=\"UTF-8\"?>\n",
    "```\n",
    "\n",
    "- The main content of an XML document consists entirely of XML __elements__.\n",
    "- An __element__ is made up of an opening tag, content, and a closing tag.\n",
    "- Elements contain features such as text, attributes, and other XML file elements.\n",
    "  - XML elements may be nested; an XML element may have other XML elements as its content.\n",
    "- An XML document must have a __single root element__, which contains all other XML elements in the document.\n",
    "\n",
    "```xml\n",
    "<?xml version=\"1.0\" encoding=\"UTF-8\"?>\n",
    "```\n",
    "\n",
    "- A comment in XML is anything between the delimiters `<!--` and`-->`.\n",
    "- For readability, it is recommended to indend the contents of each element."
   ]
  },
  {
   "cell_type": "markdown",
   "metadata": {},
   "source": [
    "#### XML attributes\n",
    "\n",
    "- Attributes provide additional information about XML elements.\n",
    "- They are always defined within the start tag of an element using the name–value pair syntax, in the format `name=\"value\"`.\n",
    "   - The attribute value must always be enclosed in quotes, either single (`'`) or double (`\"`).\n",
    "- They are designed to hold data that is related to the specific element. \n",
    "\n",
    "```xml\n",
    "    <center id=\"1\">\n",
    "        <name>Goddard Space Flight Center</name>\n",
    "        <state>Maryland</state>\n",
    "        <location>8800 Greenbelt Road, Greenbelt</location>\n",
    "    </center>\n",
    "```"
   ]
  },
  {
   "cell_type": "markdown",
   "metadata": {},
   "source": [
    "#### XML content\n",
    "\n",
    "- Data embedded within XML files are referred to as XML content.\n"
   ]
  },
  {
   "cell_type": "markdown",
   "metadata": {},
   "source": [
    "#### XML schema\n",
    "\n",
    "- XML schema sets boundaries to the XML file structure.\n",
    "- It expresses rules and constraints that need to be obeyed by the XML document.\n",
    "- It acts as a ‘definition’ of the XML document. \n",
    "   - It profiles key rules and limits for how the XML file is structured as well as controls for content and data types – and crucially, how they interact with one another within the document. "
   ]
  },
  {
   "cell_type": "markdown",
   "metadata": {},
   "source": [
    "#### Disallowed characters\n",
    "\n",
    "XML uses entity references to handle special characters that could be problematic when parsing data, such as `<`, `&`, or large blocks of repeatable data.\n",
    "\n",
    "| Disallowed | Character Description | XML syntax |\n",
    "| --- | --- | --- |\n",
    "| `<` | Less than sign | `&lt;` |\n",
    "| `>` | Greater than sign |  `&gt;` |\n",
    "| `&` | Ampersand | `&amp;` |\n",
    "| `'` | Apostrophe | `&apos;` |\n",
    "| `\"` | Quotation mark | `&quot;` |"
   ]
  },
  {
   "cell_type": "code",
   "execution_count": null,
   "metadata": {},
   "outputs": [],
   "source": []
  },
  {
   "cell_type": "markdown",
   "metadata": {},
   "source": [
    "#### Sample XML document\n",
    "\n",
    "- We define a simple document with a tree structure that starts at the root and branches to the lowest level of the tree.\n",
    "- The first line describes the root element of the document: `<nasa_centers>`\n",
    "- The next set of lines describes two child elements (`<center>` `</center>`) of the root, and each of the elements has 3 subelements (`name`, `state`, `location`).\n",
    "- Each `<center>` has an `id` attribute.\n",
    "\n",
    "```xml\n",
    "<?xml version=\"1.0\" encoding=\"UTF-8\"?>\n",
    "<!-- Names and locations of NASA Centers -->\n",
    "<nasa_centers>\n",
    "    <center id=\"1\">\n",
    "        <name>Goddard Space Flight Center</name>\n",
    "        <state>Maryland</state>\n",
    "        <location>8800 Greenbelt Road, Greenbelt</location>\n",
    "    </center>\n",
    "    <center id=\"2\">\n",
    "        <name>Stennis Space Center</name>\n",
    "        <state>Mississipi</state>\n",
    "        <location>John C. Stennis Space Center</location>\n",
    "    </center>\n",
    "</nasa_centers>\n",
    "```"
   ]
  },
  {
   "cell_type": "markdown",
   "metadata": {},
   "source": [
    "## <font color=\"red\">Parsing XML documents with Python</font>\n",
    "\n",
    "Python has a built-in library, `ElementTree`, that has functions to read and manipulate XMLs. "
   ]
  },
  {
   "cell_type": "code",
   "execution_count": null,
   "metadata": {},
   "outputs": [],
   "source": [
    "import xml.etree.ElementTree as ET"
   ]
  },
  {
   "cell_type": "code",
   "execution_count": null,
   "metadata": {},
   "outputs": [],
   "source": [
    "xmldoc = \"\"\"\n",
    "<!-- Names and locations of NASA Centers -->\n",
    "<nasa_centers>\n",
    "    <center acronym=\"GSFC\">\n",
    "        <name>Goddard Space Flight Center</name>\n",
    "        <state>Maryland</state>\n",
    "        <location>8800 Greenbelt Road, Greenbelt</location>\n",
    "    </center>\n",
    "    <center acronym=\"SSC\">\n",
    "        <name>Stennis Space Center</name>\n",
    "        <state>Mississipi</state>\n",
    "        <location>Bay St. Louis</location>\n",
    "    </center>\n",
    "    <center acronym=\"JSC\">\n",
    "        <name>Johnson Space Center</name>\n",
    "        <state>Texas</state>\n",
    "        <location>Houston</location>\n",
    "    </center>\n",
    "    <center acronym=\"ARC\">\n",
    "        <name>Ames Research Center</name>\n",
    "        <state>California</state>\n",
    "        <location>Moffett Field</location>\n",
    "    </center>\n",
    "    <center acronym=\"GRC\">\n",
    "        <name>Glenn Research Center</name>\n",
    "        <state>Ohio</state>\n",
    "        <location>Cleveland</location>\n",
    "    </center>\n",
    "</nasa_centers>\n",
    "\"\"\""
   ]
  },
  {
   "cell_type": "code",
   "execution_count": null,
   "metadata": {},
   "outputs": [],
   "source": [
    "xml_url = \"nasa_centers.xml\""
   ]
  },
  {
   "cell_type": "code",
   "execution_count": null,
   "metadata": {},
   "outputs": [],
   "source": [
    "tree = ET.parse(xml_url)"
   ]
  },
  {
   "cell_type": "code",
   "execution_count": null,
   "metadata": {},
   "outputs": [],
   "source": [
    "tree"
   ]
  },
  {
   "cell_type": "code",
   "execution_count": null,
   "metadata": {},
   "outputs": [],
   "source": [
    "root = tree.getroot()"
   ]
  },
  {
   "cell_type": "markdown",
   "metadata": {},
   "source": [
    "__In case the XML document is a string, use the following:__\n",
    "\n",
    "```python\n",
    "root = ET.fromstring(xmldoc)\n",
    "```\n",
    "\n",
    "`fromstring()` parses XML from a string directly into an `Element`, which is the root element of the parsed tree. "
   ]
  },
  {
   "cell_type": "markdown",
   "metadata": {},
   "source": [
    "As an `Element`, `root` has a tag and a dictionary of attributes:"
   ]
  },
  {
   "cell_type": "code",
   "execution_count": null,
   "metadata": {},
   "outputs": [],
   "source": [
    "root.tag"
   ]
  },
  {
   "cell_type": "code",
   "execution_count": null,
   "metadata": {},
   "outputs": [],
   "source": [
    "root.attrib"
   ]
  },
  {
   "cell_type": "markdown",
   "metadata": {},
   "source": [
    "__List the outer elements and their ids__"
   ]
  },
  {
   "cell_type": "code",
   "execution_count": null,
   "metadata": {},
   "outputs": [],
   "source": [
    "for child in root:\n",
    "    print(f\"Tag: {child.tag} --> Acronym: {child.attrib}\")"
   ]
  },
  {
   "cell_type": "code",
   "execution_count": null,
   "metadata": {},
   "outputs": [],
   "source": [
    "for child in root:\n",
    "    d = child.attrib\n",
    "    key = list(d.keys())[0]\n",
    "    print(f\"Tag: {child.tag} --> {key}: {d[key]}\")"
   ]
  },
  {
   "cell_type": "markdown",
   "metadata": {},
   "source": [
    "__Children are nested, and we can access specific child nodes by index:__"
   ]
  },
  {
   "cell_type": "code",
   "execution_count": null,
   "metadata": {},
   "outputs": [],
   "source": [
    "root[0][0].text"
   ]
  },
  {
   "cell_type": "code",
   "execution_count": null,
   "metadata": {},
   "outputs": [],
   "source": [
    "root[0][1].text"
   ]
  },
  {
   "cell_type": "code",
   "execution_count": null,
   "metadata": {},
   "outputs": [],
   "source": [
    "root[0][2].text"
   ]
  },
  {
   "cell_type": "markdown",
   "metadata": {},
   "source": [
    "__List all the tag elements__"
   ]
  },
  {
   "cell_type": "code",
   "execution_count": null,
   "metadata": {},
   "outputs": [],
   "source": [
    "list_tags = [elem.tag for elem in tree.iter()]\n",
    "list_tags"
   ]
  },
  {
   "cell_type": "markdown",
   "metadata": {},
   "source": [
    "__List unique tags__"
   ]
  },
  {
   "cell_type": "code",
   "execution_count": null,
   "metadata": {},
   "outputs": [],
   "source": [
    "unique_tags = list()\n",
    "for tag in list_tags:\n",
    "    if tag not in unique_tags:\n",
    "        unique_tags.append(tag)\n",
    "\n",
    "unique_tags"
   ]
  },
  {
   "cell_type": "markdown",
   "metadata": {},
   "source": [
    "__Create a list of dictionaries with center information__"
   ]
  },
  {
   "cell_type": "code",
   "execution_count": null,
   "metadata": {},
   "outputs": [],
   "source": [
    "data = list()\n",
    "for center in tree.findall(\"center\"):\n",
    "    d = dict()\n",
    "    key = list(center.attrib.keys())[0]\n",
    "    d[key] = center.attrib[key]\n",
    "    for tag in unique_tags:\n",
    "        if tag not in ['nasa_centers', 'center']:\n",
    "            d[tag] = center.find(tag).text\n",
    "    data.append(d)\n",
    "data"
   ]
  },
  {
   "cell_type": "markdown",
   "metadata": {},
   "source": [
    "__Create a Pandas DataFrame with center information__"
   ]
  },
  {
   "cell_type": "code",
   "execution_count": null,
   "metadata": {},
   "outputs": [],
   "source": [
    "import pandas as pd"
   ]
  },
  {
   "cell_type": "code",
   "execution_count": null,
   "metadata": {},
   "outputs": [],
   "source": [
    "center_df = pd.DataFrame(data)\n",
    "center_df"
   ]
  },
  {
   "cell_type": "code",
   "execution_count": null,
   "metadata": {},
   "outputs": [],
   "source": []
  }
 ],
 "metadata": {
  "anaconda-cloud": {},
  "celltoolbar": "Raw Cell Format",
  "kernelspec": {
   "display_name": "Python 3 (ipykernel)",
   "language": "python",
   "name": "python3"
  },
  "language_info": {
   "codemirror_mode": {
    "name": "ipython",
    "version": 3
   },
   "file_extension": ".py",
   "mimetype": "text/x-python",
   "name": "python",
   "nbconvert_exporter": "python",
   "pygments_lexer": "ipython3",
   "version": "3.12.7"
  }
 },
 "nbformat": 4,
 "nbformat_minor": 4
}
