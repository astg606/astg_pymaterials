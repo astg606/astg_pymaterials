{
 "cells": [
  {
   "cell_type": "markdown",
   "metadata": {},
   "source": [
    "<center>\n",
    "<table>\n",
    "  <tr>\n",
    "    <td><img src=\"https://portal.nccs.nasa.gov/datashare/astg/training/python/logos/nasa-logo.svg\" width=\"100\"/> </td>\n",
    "     <td><img src=\"https://portal.nccs.nasa.gov/datashare/astg/training/python/logos/ASTG_logo.png?raw=true\" width=\"80\"/> </td>\n",
    "     <td> <img src=\"https://www.nccs.nasa.gov/sites/default/files/NCCS_Logo_0.png\" width=\"130\"/> </td>\n",
    "    </tr>\n",
    "</table>\n",
    "</center>\n",
    "\n",
    "        \n",
    "<center>\n",
    "<h1><font color= \"blue\" size=\"+3\">ASTG Python Courses</font></h1>\n",
    "</center>\n",
    "\n",
    "---\n",
    "\n",
    "<CENTER>\n",
    "<H1> <font color=\"red\" size=\"+3\">\n",
    "    Web Scraping with Python </font> \n",
    "    <br>\n",
    "    Helio Applications\n",
    "</H1>\n",
    "</CENTER>"
   ]
  },
  {
   "cell_type": "markdown",
   "metadata": {},
   "source": [
    "## <font color='red'>Reference Documents</font>\n",
    "\n",
    "- [Web Scraping: What It Is and How to Use It](https://scrape-it.cloud/blog/web-scraping-what-it-is-and-how-to-use-it)\n",
    "- [What is web scraping](https://www.scrapehero.com/a-beginners-guide-to-web-scraping-part-1-the-basics/)\n",
    "- [Python Requests Tutorial](http://zetcode.com/python/requests/)\n",
    "- [Python’s Requests Library (Guide](https://realpython.com/python-requests/)\n",
    "- [Building a Web Scraper from start to finish](https://hackernoon.com/building-a-web-scraper-from-start-to-finish-bb6b95388184)"
   ]
  },
  {
   "cell_type": "markdown",
   "metadata": {},
   "source": [
    "## <font color='red'>Objectives</font>\n",
    "\n",
    "In this course, we want to describe web scraping and show how it can be accomplished with Python. We present the basic steps of web scraping and run examples on accessing HTTP servers, grabbing the content of web pages (in JSON format), parsing the content to extract useful information and performing analyses.\n",
    "\n",
    "The following topics will be covered:\n",
    "\n",
    "+ What is web scraping?\n",
    "+ What is JSON?\n",
    "+ Accessing Web Pages with `requests`\n",
    "+ Web Scraping with `Json`\n",
    "\n",
    "We expect that at end of this presentation, participants will be able to write Python scripts that automatically perform web scraping to extract specific data from webpages."
   ]
  },
  {
   "cell_type": "markdown",
   "metadata": {},
   "source": [
    "## <font color='red'>Required Packages</font>\n",
    "We will need the Python packages:\n",
    "\n",
    "- `requests`: for accessing servers and getting the contents of web pages.\n",
    "- `json`: for manipulating JSON documents.\n",
    "- `BeautifulSoup`: for pulling information out of HTML and XML files. \n",
    "- `Pandas`: for data analysis and manipulation.\n",
    "- `Matplotlib`: for creating visualization.\n",
    "- `Seaborn`: for drawing attractive and informative statistical graphics.\n",
    "- `Plotly`: for making interactive graphs."
   ]
  },
  {
   "cell_type": "code",
   "execution_count": null,
   "metadata": {},
   "outputs": [],
   "source": [
    "import warnings\n",
    "warnings.filterwarnings(\"ignore\")"
   ]
  },
  {
   "cell_type": "code",
   "execution_count": null,
   "metadata": {},
   "outputs": [],
   "source": [
    "import os\n",
    "import pprint\n",
    "import re"
   ]
  },
  {
   "cell_type": "code",
   "execution_count": null,
   "metadata": {},
   "outputs": [],
   "source": [
    "import requests as reqs"
   ]
  },
  {
   "cell_type": "code",
   "execution_count": null,
   "metadata": {},
   "outputs": [],
   "source": [
    "import json"
   ]
  },
  {
   "cell_type": "code",
   "execution_count": null,
   "metadata": {},
   "outputs": [],
   "source": [
    "import matplotlib.pyplot as plt"
   ]
  },
  {
   "cell_type": "code",
   "execution_count": null,
   "metadata": {},
   "outputs": [],
   "source": [
    "import numpy as np\n",
    "import pandas as pd"
   ]
  },
  {
   "cell_type": "code",
   "execution_count": null,
   "metadata": {},
   "outputs": [],
   "source": [
    "import seaborn as sns"
   ]
  },
  {
   "cell_type": "code",
   "execution_count": null,
   "metadata": {},
   "outputs": [],
   "source": [
    "import plotly.express as px"
   ]
  },
  {
   "cell_type": "code",
   "execution_count": null,
   "metadata": {},
   "outputs": [],
   "source": [
    "from bs4 import BeautifulSoup as bso"
   ]
  },
  {
   "cell_type": "code",
   "execution_count": null,
   "metadata": {},
   "outputs": [],
   "source": [
    "from IPython.display import HTML"
   ]
  },
  {
   "cell_type": "code",
   "execution_count": null,
   "metadata": {},
   "outputs": [],
   "source": [
    "#print(f\"Requests version:  {reqs.__version__}\")\n",
    "#print(f\"JSON version:      {json.__version__}\")"
   ]
  },
  {
   "cell_type": "markdown",
   "metadata": {},
   "source": [
    "# <font color='red'>Accessing web servers with `requests` </font>\n",
    "\n",
    "* Requests is a built-in Python module.\n",
    "* Requests is a simple and elegant Python HTTP (Hypertext Transfer Protocol) library. \n",
    "* It provides methods for accessing Web resources via HTTP. \n",
    "* The HTTP request returns a Response Object with all the response data (content, encoding, status, etc.)."
   ]
  },
  {
   "cell_type": "markdown",
   "metadata": {},
   "source": [
    "**Reading a Web Page**\n",
    "- We use the function `get()` to grab the content of a web page into an object.\n",
    "- We extract from the object the HTML content of the page."
   ]
  },
  {
   "cell_type": "markdown",
   "metadata": {},
   "source": [
    "### Content-Type\n",
    "\n",
    "- It is part of the HTTP header.\n",
    "   - A string used to indicate the media type of the resource you want to access.  \n",
    "   - It tells the browser the type of content it has to load on the machine. \n",
    "- Here are some values of `content-type`:\n",
    "\n",
    "```html\n",
    "   text/html\n",
    "   text/csv\n",
    "   application/json\n",
    "   application/javascript\n",
    "   audio/ogg\n",
    "   image/png\n",
    "```\n",
    "\n",
    "- While scraping a web page, it is used to determine which tool is needed to parse the content of a web page."
   ]
  },
  {
   "cell_type": "markdown",
   "metadata": {},
   "source": [
    "#### Function to accesss a web page\n",
    "We want to pass the `payload` and `timeout` as arguments of the function."
   ]
  },
  {
   "cell_type": "code",
   "execution_count": null,
   "metadata": {},
   "outputs": [],
   "source": [
    "def access_website(url: str, payload: dict=None, timeout: int=10):\n",
    "    \"\"\"\n",
    "    Attempt to access a server. If the attempt is successful,\n",
    "    return the response object, otherwise return an error message.\n",
    "\n",
    "    Parameters\n",
    "    ----------\n",
    "    url : str\n",
    "       HTTP address of the web page we want to access\n",
    "    payload : dict\n",
    "       Parameters needed to construct the target url.\n",
    "    timeout: int\n",
    "       Maximum time (in seconds) to access a website and grab its content.\n",
    "\n",
    "    Returns\n",
    "    -------\n",
    "    resp : object\n",
    "       Object which has infomation on the web page of interest.\n",
    "    \"\"\"\n",
    "    try:\n",
    "        if payload:\n",
    "            resp = reqs.get(url, params=payload, timeout=timeout)\n",
    "        else:\n",
    "            resp = reqs.get(url, timeout=timeout)\n",
    "        resp.raise_for_status()\n",
    "    except reqs.exceptions.HTTPError as errh:\n",
    "        print(f\"Http Error: {errh}\")\n",
    "    except reqs.exceptions.ConnectionError as errc:\n",
    "        print(f\"Error Connecting: {errc}\")\n",
    "    except reqs.exceptions.Timeout as errt:\n",
    "        print(f\"Timeout Error: {errt}\")\n",
    "    except reqs.exceptions.RequestException as err:\n",
    "        print(f\"General Error: {err}\")\n",
    "    else:\n",
    "        print(f\"Successfully accessed the site: \\n\\t {resp.url}\")\n",
    "        print(f\"Content type: \\n\\t {resp.headers['content-type']}\")\n",
    "    return resp"
   ]
  },
  {
   "cell_type": "markdown",
   "metadata": {},
   "source": [
    "---"
   ]
  },
  {
   "cell_type": "markdown",
   "metadata": {},
   "source": [
    "## <font color=\"red\">Accessing the DONKI webservice API</font>\n",
    "\n",
    "The Space Weather Database Of Notifications, Knowledge, Information (DONKI), developed at the Community Coordinated Modeling Center (CCMC), is a comprehensive on-line tool for space weather forecasters, scientists, and the general space science community.\n",
    "\n",
    "DONKI provides:\n",
    "- Chronicles the daily interpretations of space weather observations, analysis, models output, and notifications provided by the Moon to Mars Space Weather Analysis Office as a courtesy to the community.\n",
    "- Comprehensive knowledge-base search functionality to support anomaly resolution and space science research.\n",
    "- Intelligent linkages, relationships, cause-and-effects between space weather activities.\n",
    "- Comprehensive webservice API access to information stored in DONKI\n",
    "\n",
    "\n",
    "__Our goal__:\n",
    "- We want to be able to obtain from the webpage [https://kauai.ccmc.gsfc.nasa.gov/DONKI/WS/get/CME](https://kauai.ccmc.gsfc.nasa.gov/DONKI/WS/get/CME) the Coronal Mass Ejection (CME) data\n",
    "- We access the webpage (using a set of parameters) and retrieve the content of the page as a JSON object.\n"
   ]
  },
  {
   "cell_type": "markdown",
   "metadata": {},
   "source": [
    "### <font color=\"blue\">Access CME Web Database Server</font>\n",
    "\n",
    "The based URL is: `https://kauai.ccmc.gsfc.nasa.gov/DONKI/WS/get/CME`\n",
    "\n",
    "To access the data, we need to provide two parameters:\n",
    "\n",
    "- `startDate` (YYYY-MM-DD): default to 30 days prior to current UTC date\n",
    "- `endDate` (YYYY-MM-DD): default to current UTC date"
   ]
  },
  {
   "cell_type": "code",
   "execution_count": null,
   "metadata": {},
   "outputs": [],
   "source": [
    "url_cme = \"https://kauai.ccmc.gsfc.nasa.gov/DONKI/WS/get/CME\""
   ]
  },
  {
   "cell_type": "code",
   "execution_count": null,
   "metadata": {},
   "outputs": [],
   "source": [
    "startDate=\"2017-01-01\"\n",
    "endDate=\"2017-03-31\"\n",
    "\n",
    "payload = {\n",
    "    'startDate': startDate,\n",
    "    'endDate': endDate,\n",
    "}\n",
    "\n",
    "page_content = access_website(url_cme, payload, timeout=150)"
   ]
  },
  {
   "cell_type": "markdown",
   "metadata": {},
   "source": [
    "### <font color=\"blue\">Process the data with JSON</font>\n",
    "\n",
    "- We have a JSON object that we need to convert into a Python object.\n",
    "- We need to use the `loads()` function (deserialization)."
   ]
  },
  {
   "cell_type": "code",
   "execution_count": null,
   "metadata": {},
   "outputs": [],
   "source": [
    "json_page = json.loads(page_content.text)"
   ]
  },
  {
   "cell_type": "markdown",
   "metadata": {},
   "source": [
    "Whenever we have a Python object, it is good to determine its type before proceeding."
   ]
  },
  {
   "cell_type": "code",
   "execution_count": null,
   "metadata": {},
   "outputs": [],
   "source": [
    "type(json_page)"
   ]
  },
  {
   "cell_type": "markdown",
   "metadata": {},
   "source": [
    "What is the length of the list?"
   ]
  },
  {
   "cell_type": "code",
   "execution_count": null,
   "metadata": {},
   "outputs": [],
   "source": [
    "len(json_page)"
   ]
  },
  {
   "cell_type": "markdown",
   "metadata": {},
   "source": [
    "Let us look at the first entry of the list:"
   ]
  },
  {
   "cell_type": "code",
   "execution_count": null,
   "metadata": {},
   "outputs": [],
   "source": [
    "pprint.pprint(json_page[0])"
   ]
  },
  {
   "cell_type": "markdown",
   "metadata": {},
   "source": [
    "It seems that there is was no activity on `2017-01-01T00:39Z`: \n",
    "\n",
    "```\n",
    "  'cmeAnalyses': None\n",
    "```"
   ]
  },
  {
   "cell_type": "code",
   "execution_count": null,
   "metadata": {},
   "outputs": [],
   "source": [
    "one_activity = json_page[1]"
   ]
  },
  {
   "cell_type": "code",
   "execution_count": null,
   "metadata": {},
   "outputs": [],
   "source": [
    "pprint.pprint(one_activity)"
   ]
  },
  {
   "cell_type": "markdown",
   "metadata": {},
   "source": [
    "### <font color=\"blue\">Basic data extraction from one CME activity</font>"
   ]
  },
  {
   "cell_type": "markdown",
   "metadata": {},
   "source": [
    "We need to first get the keys of the dictionary:"
   ]
  },
  {
   "cell_type": "code",
   "execution_count": null,
   "metadata": {},
   "outputs": [],
   "source": [
    "one_activity.keys()"
   ]
  },
  {
   "cell_type": "markdown",
   "metadata": {},
   "source": [
    "We can focus on:\n",
    "\n",
    "- `'cmeAnalyses'`\n",
    "- `'startTime'`\n",
    "- `'instruments'`"
   ]
  },
  {
   "cell_type": "markdown",
   "metadata": {},
   "source": [
    "__Get instruments__"
   ]
  },
  {
   "cell_type": "code",
   "execution_count": null,
   "metadata": {},
   "outputs": [],
   "source": [
    "one_activity['instruments']"
   ]
  },
  {
   "cell_type": "code",
   "execution_count": null,
   "metadata": {},
   "outputs": [],
   "source": [
    "for i, item in enumerate(one_activity['instruments'], start=1):\n",
    "    print(f\"Instrument {i}- {item['displayName']}\")"
   ]
  },
  {
   "cell_type": "markdown",
   "metadata": {},
   "source": [
    "__Get start date/time__"
   ]
  },
  {
   "cell_type": "code",
   "execution_count": null,
   "metadata": {},
   "outputs": [],
   "source": [
    "one_activity['startTime']"
   ]
  },
  {
   "cell_type": "markdown",
   "metadata": {},
   "source": [
    "__Get CME activity data__"
   ]
  },
  {
   "cell_type": "code",
   "execution_count": null,
   "metadata": {},
   "outputs": [],
   "source": [
    "pprint.pprint(one_activity['cmeAnalyses'])"
   ]
  },
  {
   "cell_type": "markdown",
   "metadata": {},
   "source": [
    "We want to be able to extract the following parameters:\n",
    "- `speed`\n",
    "- `longitude`\n",
    "- `latitude`\n",
    "- `halfAngle`"
   ]
  },
  {
   "cell_type": "code",
   "execution_count": null,
   "metadata": {},
   "outputs": [],
   "source": [
    "type(one_activity['cmeAnalyses'])"
   ]
  },
  {
   "cell_type": "code",
   "execution_count": null,
   "metadata": {},
   "outputs": [],
   "source": [
    "len(one_activity['cmeAnalyses'])"
   ]
  },
  {
   "cell_type": "code",
   "execution_count": null,
   "metadata": {},
   "outputs": [],
   "source": [
    "pprint.pprint(one_activity['cmeAnalyses'][0])"
   ]
  },
  {
   "cell_type": "code",
   "execution_count": null,
   "metadata": {},
   "outputs": [],
   "source": [
    "latitude = one_activity['cmeAnalyses'][0]['latitude']\n",
    "longitude = one_activity['cmeAnalyses'][0]['longitude']\n",
    "halfAngle = one_activity['cmeAnalyses'][0]['halfAngle']\n",
    "speed = one_activity['cmeAnalyses'][0]['speed']"
   ]
  },
  {
   "cell_type": "code",
   "execution_count": null,
   "metadata": {},
   "outputs": [],
   "source": [
    "print(f\"  latitude: {latitude}\")\n",
    "print(f\" longitude: {longitude}\")\n",
    "print(f\" halfAngle: {halfAngle}\")\n",
    "print(f\"     speed: {speed}\")"
   ]
  },
  {
   "cell_type": "markdown",
   "metadata": {},
   "source": [
    "### <font color=\"blue\">Data Analysis</font>\n",
    "\n",
    "- We want to inspect the obtained Python list and identify the dates/times when there were CME activities.\n",
    "- For each date/time when there was an activity, we will extract from the list:\n",
    "    - The `date/time`, the `speed`, the latitude, the longitude, and the hall angle\n",
    "    - The the list of instruments "
   ]
  },
  {
   "cell_type": "code",
   "execution_count": null,
   "metadata": {},
   "outputs": [],
   "source": [
    "def get_CME_parameters(cme_activity: dict):\n",
    "    \"\"\"\n",
    "    From a dictionary containing CME activity data on a specific date/time,\n",
    "    extract the following parameters:\n",
    "\n",
    "    - starting date/time\n",
    "    - latitude\n",
    "    - longitude\n",
    "    - halfAngle\n",
    "    - speed\n",
    "    \"\"\"\n",
    "\n",
    "    latitude = cme_activity['cmeAnalyses'][0]['latitude']\n",
    "    longitude = cme_activity['cmeAnalyses'][0]['longitude']\n",
    "    half_angle = cme_activity['cmeAnalyses'][0]['halfAngle']\n",
    "    speed = cme_activity['cmeAnalyses'][0]['speed']\n",
    "    start_time = cme_activity['startTime']\n",
    "    list_instruments = list()\n",
    "    for item in cme_activity['instruments']:\n",
    "        list_instruments.append(item['displayName'])\n",
    "    return start_time, speed, latitude, longitude, half_angle, tuple(sorted(list_instruments))"
   ]
  },
  {
   "cell_type": "code",
   "execution_count": null,
   "metadata": {},
   "outputs": [],
   "source": [
    "get_CME_parameters(one_activity)"
   ]
  },
  {
   "cell_type": "code",
   "execution_count": null,
   "metadata": {},
   "outputs": [],
   "source": [
    "def create_df(cme_activities: list):\n",
    "    \"\"\"\n",
    "    Using a list of CME activities, create a Pandas DataFrame\n",
    "    with columns:\n",
    "    \n",
    "    - star_time\n",
    "    - latitude\n",
    "    - longitude\n",
    "    - half_angle\n",
    "    - speed\n",
    "    \"\"\"\n",
    "    columns = [\"start_time\", \"speed\", \"latitude\", \"longitude\", \"half_angle\", \"instruments\"]\n",
    "    df = pd.DataFrame(columns=columns)\n",
    "\n",
    "    # Loop over the CME event\n",
    "    for cme_activity in cme_activities:\n",
    "        # Only process when a CME activity was recorded.\n",
    "        if cme_activity['cmeAnalyses']:   # This mean that an activity was recorded\n",
    "            df.loc[len(df)] = get_CME_parameters(cme_activity)\n",
    "    return df     "
   ]
  },
  {
   "cell_type": "code",
   "execution_count": null,
   "metadata": {},
   "outputs": [],
   "source": [
    "df = create_df(json_page)"
   ]
  },
  {
   "cell_type": "code",
   "execution_count": null,
   "metadata": {},
   "outputs": [],
   "source": [
    "df"
   ]
  },
  {
   "cell_type": "code",
   "execution_count": null,
   "metadata": {},
   "outputs": [],
   "source": [
    "df.info()"
   ]
  },
  {
   "cell_type": "code",
   "execution_count": null,
   "metadata": {},
   "outputs": [],
   "source": [
    "df.describe()"
   ]
  },
  {
   "cell_type": "markdown",
   "metadata": {},
   "source": [
    "We need to convert the `start_time` into a datetime object:"
   ]
  },
  {
   "cell_type": "code",
   "execution_count": null,
   "metadata": {},
   "outputs": [],
   "source": [
    "df['start_time'] = pd.to_datetime(df['start_time'])"
   ]
  },
  {
   "cell_type": "code",
   "execution_count": null,
   "metadata": {},
   "outputs": [],
   "source": [
    "df"
   ]
  },
  {
   "cell_type": "markdown",
   "metadata": {},
   "source": [
    "Set the `start_time` column as index of the Pandas DataFrame:"
   ]
  },
  {
   "cell_type": "code",
   "execution_count": null,
   "metadata": {},
   "outputs": [],
   "source": [
    "df.set_index('start_time', inplace=True)\n",
    "df"
   ]
  },
  {
   "cell_type": "markdown",
   "metadata": {},
   "source": [
    "#### Write a function that accesses the DONKI API and collects CME activities"
   ]
  },
  {
   "cell_type": "code",
   "execution_count": null,
   "metadata": {},
   "outputs": [],
   "source": [
    "def collect_cme_activities(start_date: str, end_date: str):\n",
    "    \"\"\"\n",
    "    Use web scraping to gather from DONKI all the CME activities\n",
    "    between the beginning date (start_date) and the end date (end_date).\n",
    "\n",
    "    Parameters\n",
    "    ----------\n",
    "    start_date : str\n",
    "       Beginning date in the format YYYY-MM-DD\n",
    "    end_date : str\n",
    "       End date in the format YYYY-MM-DD\n",
    "\n",
    "    Returns\n",
    "    -------\n",
    "    df : Pandas DataFrame\n",
    "       Pandas DataFrame containg parameters of CME activities.\n",
    "    \"\"\"\n",
    "    url_cme = \"https://kauai.ccmc.gsfc.nasa.gov/DONKI/WS/get/CME\"\n",
    "    payload = {\n",
    "        'startDate': start_date,\n",
    "        'endDate': end_date\n",
    "    }\n",
    "\n",
    "    page_content = access_website(url_cme, payload, timeout=150)\n",
    "    json_page = json.loads(page_content.text)\n",
    "    df = create_df(json_page)\n",
    "\n",
    "    df['start_time'] = pd.to_datetime(df['start_time'])\n",
    "    df.set_index('start_time', inplace=True)\n",
    "    return df"
   ]
  },
  {
   "cell_type": "code",
   "execution_count": null,
   "metadata": {},
   "outputs": [],
   "source": [
    "df = collect_cme_activities(\"2017-01-01\", \"2019-12-31\")"
   ]
  },
  {
   "cell_type": "code",
   "execution_count": null,
   "metadata": {},
   "outputs": [],
   "source": [
    "df"
   ]
  },
  {
   "cell_type": "markdown",
   "metadata": {},
   "source": [
    "__Get basic information on columns using the `info()` method__"
   ]
  },
  {
   "cell_type": "code",
   "execution_count": null,
   "metadata": {},
   "outputs": [],
   "source": [
    "df.info()"
   ]
  },
  {
   "cell_type": "markdown",
   "metadata": {},
   "source": [
    "__Observations__: \n",
    "\n",
    "- The values of each column have the same data type.\n",
    "- There are 330 data points (rows).\n",
    "- The columns `latitude` and `longitude` have 329 and 325 values respectively.\n",
    "   - The two columns have missing values.\n",
    "   - If the two columns are important for your analysis, you need to decide what to do with missing values.\n",
    "\n",
    "__To get the number of missing values in each column:__"
   ]
  },
  {
   "cell_type": "code",
   "execution_count": null,
   "metadata": {},
   "outputs": [],
   "source": [
    "df.isnull().sum()"
   ]
  },
  {
   "cell_type": "markdown",
   "metadata": {},
   "source": [
    "__Basic descriptive statistics__"
   ]
  },
  {
   "cell_type": "code",
   "execution_count": null,
   "metadata": {},
   "outputs": [],
   "source": [
    "df.describe()"
   ]
  },
  {
   "cell_type": "markdown",
   "metadata": {},
   "source": [
    "### <font color=\"green\">Focus on the instruments</font>"
   ]
  },
  {
   "cell_type": "markdown",
   "metadata": {},
   "source": [
    "__Get the the unique instruments__"
   ]
  },
  {
   "cell_type": "code",
   "execution_count": null,
   "metadata": {},
   "outputs": [],
   "source": [
    "set_instruments = set()\n",
    "\n",
    "for item in df['instruments'].values:\n",
    "    for inst in item:\n",
    "        set_instruments.add(inst)\n",
    "\n",
    "print(f\"Set of instruments: \\n\\t {sorted(list(set_instruments))}\")"
   ]
  },
  {
   "cell_type": "markdown",
   "metadata": {},
   "source": [
    "__Combined sets of instruments__"
   ]
  },
  {
   "cell_type": "code",
   "execution_count": null,
   "metadata": {},
   "outputs": [],
   "source": [
    "df_instr = df.groupby('instruments')"
   ]
  },
  {
   "cell_type": "code",
   "execution_count": null,
   "metadata": {},
   "outputs": [],
   "source": [
    "df_instr"
   ]
  },
  {
   "cell_type": "code",
   "execution_count": null,
   "metadata": {},
   "outputs": [],
   "source": [
    "df_instr.groups.keys()"
   ]
  },
  {
   "cell_type": "code",
   "execution_count": null,
   "metadata": {},
   "outputs": [],
   "source": [
    "df_instr.count()[\"speed\"]"
   ]
  },
  {
   "cell_type": "code",
   "execution_count": null,
   "metadata": {},
   "outputs": [],
   "source": [
    "plt.pie(df_instr.count()[\"speed\"], \n",
    "        labels=list(df_instr.groups.keys()), \n",
    "         autopct='%.0f%%') \n",
    "plt.title(\"Pie Chart of Unique Combined Sets of Instruments\");"
   ]
  },
  {
   "cell_type": "code",
   "execution_count": null,
   "metadata": {},
   "outputs": [],
   "source": [
    "fig = px.pie(df_instr.count(), \n",
    "             values=\"speed\",\n",
    "             names=list(df_instr.groups.keys()),\n",
    "             title=\"Pie Chart of Unique Combined Sets of Instruments\",\n",
    "            width=700)\n",
    "fig.show()"
   ]
  },
  {
   "cell_type": "markdown",
   "metadata": {},
   "source": [
    "__Count the number times each instrument is used__\n",
    "\n",
    "We will create a dictionary with key as the instrument name and value the number of times used."
   ]
  },
  {
   "cell_type": "code",
   "execution_count": null,
   "metadata": {},
   "outputs": [],
   "source": [
    "dict_instruments = dict()\n",
    "\n",
    "for item in df['instruments'].values:\n",
    "    for inst in item:\n",
    "        if inst in dict_instruments:\n",
    "            dict_instruments[inst] += 1\n",
    "        else:\n",
    "            dict_instruments[inst] = 1"
   ]
  },
  {
   "cell_type": "code",
   "execution_count": null,
   "metadata": {},
   "outputs": [],
   "source": [
    "dict_instruments"
   ]
  },
  {
   "cell_type": "code",
   "execution_count": null,
   "metadata": {},
   "outputs": [],
   "source": [
    "plt.bar(dict_instruments.keys(), dict_instruments.values());"
   ]
  },
  {
   "cell_type": "code",
   "execution_count": null,
   "metadata": {},
   "outputs": [],
   "source": [
    "dict_instruments.values()"
   ]
  },
  {
   "cell_type": "code",
   "execution_count": null,
   "metadata": {},
   "outputs": [],
   "source": [
    "plt.pie(list(dict_instruments.values()), \n",
    "        labels=list(dict_instruments.keys()), \n",
    "         autopct='%.0f%%') \n",
    "plt.title(\"How many times instruments are used\");"
   ]
  },
  {
   "cell_type": "markdown",
   "metadata": {},
   "source": [
    "### <font color=\"green\"> Plot time series values of the speed</font>"
   ]
  },
  {
   "cell_type": "markdown",
   "metadata": {},
   "source": [
    "Using Matplotlib:"
   ]
  },
  {
   "cell_type": "code",
   "execution_count": null,
   "metadata": {},
   "outputs": [],
   "source": [
    "fig, ax = plt.subplots(figsize=(12, 7))\n",
    "ax.scatter(df.index, df[\"speed\"], s=7)\n",
    "ax.set_xlabel(\"CME Start Date\")\n",
    "ax.set_ylabel(\"CME Speed (km/s)\")\n",
    "ax.set_title(f\"DONKI CME Database \\n Date vs CME Speed\")\n",
    "ax.grid()"
   ]
  },
  {
   "cell_type": "markdown",
   "metadata": {},
   "source": [
    "Using Seaborn:"
   ]
  },
  {
   "cell_type": "code",
   "execution_count": null,
   "metadata": {},
   "outputs": [],
   "source": [
    "fig = plt.figure(figsize=(12, 7))\n",
    "ax = sns.scatterplot(x=df.index, y=df['speed'])\n",
    "ax.set_xlabel(\"CME Start Date\")\n",
    "ax.set_ylabel(\"CME Speed (km/s)\")\n",
    "ax.set_title(f\"DONKI CME Database \\n Date vs CME Speed\")\n",
    "ax.grid()"
   ]
  },
  {
   "cell_type": "markdown",
   "metadata": {},
   "source": [
    "Using Plotly (interactive plot):"
   ]
  },
  {
   "cell_type": "code",
   "execution_count": null,
   "metadata": {},
   "outputs": [],
   "source": [
    "fig = px.scatter(x=df.index, y=df['speed'],\n",
    "                width=800, height=600)\n",
    "fig.show()"
   ]
  },
  {
   "cell_type": "markdown",
   "metadata": {},
   "source": [
    "__Create histograms__"
   ]
  },
  {
   "cell_type": "code",
   "execution_count": null,
   "metadata": {},
   "outputs": [],
   "source": [
    "df[\"speed\"].hist(bins=5)"
   ]
  },
  {
   "cell_type": "code",
   "execution_count": null,
   "metadata": {},
   "outputs": [],
   "source": [
    "fig = px.histogram(df, x=\"speed\", nbins=5)\n",
    "fig.show()"
   ]
  },
  {
   "cell_type": "markdown",
   "metadata": {},
   "source": [
    "__Create a new column to categorize speed into ranges__\n",
    "\n",
    "| Type | Speed range |\n",
    "| --- | --- |\n",
    "| `S-type` | $<500$ km/s |\n",
    "| `C-type` | $500-999$ km/s |\n",
    "| `0-type` | $1000-1999$ km/s |\n",
    "| `R-type` | $2000-2999$ km/s |\n",
    "| `ER-type` | $>3000$ km/s |"
   ]
  },
  {
   "cell_type": "code",
   "execution_count": null,
   "metadata": {},
   "outputs": [],
   "source": [
    "speed_bins = [0, 500, 1000, 2000, 3000, float('inf')]\n",
    "speed_labels = [\n",
    "    'S-type (<500 km/s)', \n",
    "    'C-type (500-999 km/s)', \n",
    "    'O-type (1000-1999 km/s)', \n",
    "    'R-type (2000-2999 km/s)', \n",
    "    'ER-type (>3000 km/s)'\n",
    "]\n",
    "assert(len(speed_bins)-1 == len(speed_labels))"
   ]
  },
  {
   "cell_type": "code",
   "execution_count": null,
   "metadata": {},
   "outputs": [],
   "source": [
    "df['speed_range'] = pd.cut(\n",
    "    df['speed'], \n",
    "    bins=speed_bins,\n",
    "    labels=speed_labels\n",
    ")\n",
    "df"
   ]
  },
  {
   "cell_type": "code",
   "execution_count": null,
   "metadata": {},
   "outputs": [],
   "source": [
    "fig = px.histogram(df, x=\"speed_range\", color=\"speed_range\")\n",
    "fig.show()"
   ]
  },
  {
   "cell_type": "code",
   "execution_count": null,
   "metadata": {},
   "outputs": [],
   "source": [
    "fig = px.bar(df, x='speed_range', y='speed', color=\"speed_range\", text='speed', height=600)\n",
    "fig.show()"
   ]
  },
  {
   "cell_type": "code",
   "execution_count": null,
   "metadata": {},
   "outputs": [],
   "source": [
    "fig = px.bar(df, x=df.index.year, y='speed', color=\"speed_range\", height=600)\n",
    "fig.show()"
   ]
  },
  {
   "cell_type": "markdown",
   "metadata": {},
   "source": [
    "#### Plot the time series values of speed by categories"
   ]
  },
  {
   "cell_type": "code",
   "execution_count": null,
   "metadata": {},
   "outputs": [],
   "source": [
    "fig = plt.figure(figsize=(12, 7))\n",
    "ax = sns.scatterplot(data=df, x=df.index, y='speed', hue='speed_range')\n",
    "ax.set_xlabel(\"CME Start Date\")\n",
    "ax.set_ylabel(\"CME Speed (km/s)\")\n",
    "ax.set_title(f\"DONKI CME Database \\n Date vs CME Speed\")\n",
    "ax.grid()"
   ]
  },
  {
   "cell_type": "markdown",
   "metadata": {},
   "source": [
    "#### Longitude vs Speed plot (polar plot)"
   ]
  },
  {
   "cell_type": "code",
   "execution_count": null,
   "metadata": {},
   "outputs": [],
   "source": [
    "g = sns.FacetGrid(df, subplot_kws=dict(projection='polar'), \n",
    "                  height=5, sharex=False, sharey=False, despine=False)\n",
    "g.map_dataframe(sns.scatterplot, \n",
    "                x='longitude', \n",
    "                y='speed', \n",
    "                hue='speed_range');"
   ]
  },
  {
   "cell_type": "markdown",
   "metadata": {},
   "source": [
    "We can generate the same polar plot with `Plotly` (note the interactivity):"
   ]
  },
  {
   "cell_type": "code",
   "execution_count": null,
   "metadata": {},
   "outputs": [],
   "source": [
    "fig = px.scatter_polar(df, \n",
    "                       r='speed', \n",
    "                       theta='longitude', \n",
    "                       color='speed_range', \n",
    "                       width=700, height=700)\n",
    "\n",
    "#fig.update_layout(showlegend=False)\n",
    "fig.show()"
   ]
  },
  {
   "cell_type": "markdown",
   "metadata": {},
   "source": [
    "### <font color=\"green\">Gather statistics</font>"
   ]
  },
  {
   "cell_type": "markdown",
   "metadata": {},
   "source": [
    "__CME for a specific month__"
   ]
  },
  {
   "cell_type": "code",
   "execution_count": null,
   "metadata": {},
   "outputs": [],
   "source": [
    "df[df.index.month==2]"
   ]
  },
  {
   "cell_type": "code",
   "execution_count": null,
   "metadata": {},
   "outputs": [],
   "source": [
    "month_count_df = pd.DataFrame(columns=[\"Month\", \"Count\"])\n",
    "for i in range(1,13):\n",
    "    month_count_df.loc[len(month_count_df)] = [i, len(df[df.index.month==i])]\n",
    "month_count_df"
   ]
  },
  {
   "cell_type": "code",
   "execution_count": null,
   "metadata": {},
   "outputs": [],
   "source": [
    "month_count_df[\"Month\"] = [\"Jan\", \"Feb\", \"Mar\", \"Apr\", \"May\", \"Jun\", \n",
    "                           \"Jul\", \"Aug\", \"Sep\", \"Oct\", \"Nov\", \"Dec\"]"
   ]
  },
  {
   "cell_type": "code",
   "execution_count": null,
   "metadata": {},
   "outputs": [],
   "source": [
    "# Create the bar plot\n",
    "sns.barplot(data=month_count_df, x='Month', y='Count', hue=\"Count\", legend=False)\n",
    "\n",
    "# Add title and labels\n",
    "#plt.title('Bar Chart Example')"
   ]
  },
  {
   "cell_type": "code",
   "execution_count": null,
   "metadata": {},
   "outputs": [],
   "source": [
    "fig = px.bar(month_count_df, x=\"Month\", y='Count', height=500)\n",
    "fig.show()"
   ]
  },
  {
   "cell_type": "markdown",
   "metadata": {},
   "source": [
    "__Data on a specific day__"
   ]
  },
  {
   "cell_type": "code",
   "execution_count": null,
   "metadata": {},
   "outputs": [],
   "source": [
    "df.loc['2019-05-13']"
   ]
  },
  {
   "cell_type": "markdown",
   "metadata": {},
   "source": [
    "__Data over a specific range of date__"
   ]
  },
  {
   "cell_type": "code",
   "execution_count": null,
   "metadata": {},
   "outputs": [],
   "source": [
    "df.loc['2018-01-01 09:00:00':'2018-04-14 11:00:00']"
   ]
  },
  {
   "cell_type": "markdown",
   "metadata": {},
   "source": [
    "__Data for a specific year/month__"
   ]
  },
  {
   "cell_type": "code",
   "execution_count": null,
   "metadata": {},
   "outputs": [],
   "source": [
    "df.loc['2018-01']"
   ]
  },
  {
   "cell_type": "markdown",
   "metadata": {},
   "source": [
    "__Data with a specific speed__"
   ]
  },
  {
   "cell_type": "code",
   "execution_count": null,
   "metadata": {},
   "outputs": [],
   "source": [
    "df[df.speed==350.0]"
   ]
  },
  {
   "cell_type": "markdown",
   "metadata": {},
   "source": [
    "__Speed monthly and yearly means__"
   ]
  },
  {
   "cell_type": "code",
   "execution_count": null,
   "metadata": {},
   "outputs": [],
   "source": [
    "speed_monthly_means = df.speed.resample('M').mean()"
   ]
  },
  {
   "cell_type": "code",
   "execution_count": null,
   "metadata": {},
   "outputs": [],
   "source": [
    "speed_monthly_means.plot()"
   ]
  },
  {
   "cell_type": "code",
   "execution_count": null,
   "metadata": {},
   "outputs": [],
   "source": [
    "df.speed.resample('Y').mean()"
   ]
  },
  {
   "cell_type": "markdown",
   "metadata": {},
   "source": [
    "__Group by speed range__"
   ]
  },
  {
   "cell_type": "code",
   "execution_count": null,
   "metadata": {},
   "outputs": [],
   "source": [
    "df_range = df.groupby('speed_range')"
   ]
  },
  {
   "cell_type": "code",
   "execution_count": null,
   "metadata": {},
   "outputs": [],
   "source": [
    "list_groups = list(df_range.groups.keys())\n",
    "list_groups"
   ]
  },
  {
   "cell_type": "code",
   "execution_count": null,
   "metadata": {},
   "outputs": [],
   "source": []
  },
  {
   "cell_type": "code",
   "execution_count": null,
   "metadata": {},
   "outputs": [],
   "source": [
    "df_range.count()[\"speed\"]"
   ]
  },
  {
   "cell_type": "code",
   "execution_count": null,
   "metadata": {},
   "outputs": [],
   "source": [
    "df_S = df_range.groups['S-type (<500 km/s)']"
   ]
  },
  {
   "cell_type": "code",
   "execution_count": null,
   "metadata": {},
   "outputs": [],
   "source": [
    "df_S"
   ]
  },
  {
   "cell_type": "code",
   "execution_count": null,
   "metadata": {},
   "outputs": [],
   "source": [
    "len(df_S[df_S.slice_indexer(\"2017-01-01\", \"2017-12-31\")])"
   ]
  },
  {
   "cell_type": "code",
   "execution_count": null,
   "metadata": {},
   "outputs": [],
   "source": [
    "len(df_S[df_S.slice_indexer(\"2018-01-01\", \"2018-12-31\")])"
   ]
  },
  {
   "cell_type": "code",
   "execution_count": null,
   "metadata": {},
   "outputs": [],
   "source": [
    "len(df_S[df_S.slice_indexer(\"2019-01-01\", \"2019-12-31\")])"
   ]
  },
  {
   "cell_type": "code",
   "execution_count": null,
   "metadata": {},
   "outputs": [],
   "source": [
    "fig = px.pie(df_range.count(), values=\"speed\", names=list_groups)\n",
    "fig.show()"
   ]
  },
  {
   "cell_type": "markdown",
   "metadata": {},
   "source": [
    "---\n",
    "---"
   ]
  },
  {
   "cell_type": "markdown",
   "metadata": {},
   "source": [
    "# <font color=\"red\">Search and plot GIF images</font>\n",
    "\n",
    "Here we focus on a one-day CME activity and perform web scraping to extract the gif images generated on the activity."
   ]
  },
  {
   "cell_type": "code",
   "execution_count": null,
   "metadata": {},
   "outputs": [],
   "source": [
    "startDate=\"2017-01-03\"\n",
    "endDate=\"2017-01-03\"\n",
    "\n",
    "payload = {\n",
    "    'startDate': startDate,\n",
    "    'endDate': endDate,\n",
    "}\n",
    "\n",
    "page_content = access_website(url_cme, payload, timeout=15)"
   ]
  },
  {
   "cell_type": "markdown",
   "metadata": {},
   "source": [
    "#### Task 1: Get link associated with the `enlilList` key"
   ]
  },
  {
   "cell_type": "code",
   "execution_count": null,
   "metadata": {},
   "outputs": [],
   "source": [
    "page = json.loads(page_content.text)[0]"
   ]
  },
  {
   "cell_type": "code",
   "execution_count": null,
   "metadata": {},
   "outputs": [],
   "source": [
    "page['cmeAnalyses']"
   ]
  },
  {
   "cell_type": "code",
   "execution_count": null,
   "metadata": {},
   "outputs": [],
   "source": [
    "pprint.pprint(page['cmeAnalyses'][0])"
   ]
  },
  {
   "cell_type": "markdown",
   "metadata": {},
   "source": [
    "__Extract the link of interest__"
   ]
  },
  {
   "cell_type": "code",
   "execution_count": null,
   "metadata": {},
   "outputs": [],
   "source": [
    "url_link = page['cmeAnalyses'][0]['enlilList'][0]['link']\n",
    "url_link"
   ]
  },
  {
   "cell_type": "markdown",
   "metadata": {},
   "source": [
    "#### Task 2: Get the gif images contain in the webpage"
   ]
  },
  {
   "cell_type": "markdown",
   "metadata": {},
   "source": [
    "__Access the webpage and get its content__"
   ]
  },
  {
   "cell_type": "code",
   "execution_count": null,
   "metadata": {},
   "outputs": [],
   "source": [
    "source = access_website(url_link)"
   ]
  },
  {
   "cell_type": "markdown",
   "metadata": {},
   "source": [
    "__Use BeautifulSoup to obtain the HTML document__"
   ]
  },
  {
   "cell_type": "code",
   "execution_count": null,
   "metadata": {},
   "outputs": [],
   "source": [
    "mysoup = bso(source.text, 'html.parser')"
   ]
  },
  {
   "cell_type": "code",
   "execution_count": null,
   "metadata": {},
   "outputs": [],
   "source": [
    "print(mysoup.prettify())"
   ]
  },
  {
   "cell_type": "markdown",
   "metadata": {},
   "source": [
    "__Parse the content of the HTML document to extract all the web links that have gif images__"
   ]
  },
  {
   "cell_type": "code",
   "execution_count": null,
   "metadata": {},
   "outputs": [],
   "source": [
    "list_images = [a['href'] for a in mysoup.select('a[href]') if \"iswa\" in a['href']]"
   ]
  },
  {
   "cell_type": "code",
   "execution_count": null,
   "metadata": {},
   "outputs": [],
   "source": [
    "len(list_images)"
   ]
  },
  {
   "cell_type": "code",
   "execution_count": null,
   "metadata": {},
   "outputs": [],
   "source": [
    "list_images"
   ]
  },
  {
   "cell_type": "markdown",
   "metadata": {},
   "source": [
    "#### Task 3: Display some of the remote images"
   ]
  },
  {
   "cell_type": "code",
   "execution_count": null,
   "metadata": {},
   "outputs": [],
   "source": [
    "HTML(f'<img src={list_images[0]}>')"
   ]
  },
  {
   "cell_type": "code",
   "execution_count": null,
   "metadata": {},
   "outputs": [],
   "source": [
    "HTML(f'<img src={list_images[1]}>')"
   ]
  },
  {
   "cell_type": "code",
   "execution_count": null,
   "metadata": {},
   "outputs": [],
   "source": [
    "HTML(f'<img src={list_images[2]}>')"
   ]
  },
  {
   "cell_type": "code",
   "execution_count": null,
   "metadata": {},
   "outputs": [],
   "source": [
    "HTML(f'<img src={list_images[3]}>')"
   ]
  },
  {
   "cell_type": "code",
   "execution_count": null,
   "metadata": {},
   "outputs": [],
   "source": [
    "HTML(f'<img src={list_images[7]}>')"
   ]
  },
  {
   "cell_type": "code",
   "execution_count": null,
   "metadata": {},
   "outputs": [],
   "source": []
  },
  {
   "cell_type": "markdown",
   "metadata": {},
   "source": [
    "---"
   ]
  },
  {
   "cell_type": "markdown",
   "metadata": {},
   "source": [
    "# <font color=\"red\"> Breakout</fon>\n",
    "\n",
    "This exercise is inspired by:\n",
    "\n",
    "\n",
    "[Project 1: Data scraping and cleaning](https://www.cs.umd.edu/class/spring2017/cmsc320/hw/Project1.html)\n",
    "\n",
    "A possible solution can be seen at:\n",
    "\n",
    "[NASA Data Scraping, Cleaning, & Data Analysis](https://www.kaggle.com/code/fareselsalamouny/nasa-data-scraping-cleaning-data-analysis)\n"
   ]
  },
  {
   "cell_type": "markdown",
   "metadata": {},
   "source": [
    "## <font color=\"blue\"> Part 1:</font> Scrape data for the top 50 solar flares\n",
    "\n",
    "Access the website:\n",
    "\n",
    "[https://www.spaceweatherlive.com/en/solar-activity/top-50-solar-flares.html](https://www.spaceweatherlive.com/en/solar-activity/top-50-solar-flares.html)\n",
    "\n",
    "to create a Pandas DataFrame.\n"
   ]
  },
  {
   "cell_type": "code",
   "execution_count": null,
   "metadata": {},
   "outputs": [],
   "source": [
    "import http.client as http_client\n",
    "http_client.HTTPConnection.debuglevel = 0 #1"
   ]
  },
  {
   "cell_type": "code",
   "execution_count": null,
   "metadata": {},
   "outputs": [],
   "source": [
    "spaceweather_url = \"https://www.spaceweatherlive.com/en/solar-activity/top-50-solar-flares\""
   ]
  },
  {
   "cell_type": "code",
   "execution_count": null,
   "metadata": {},
   "outputs": [],
   "source": [
    "spaceweather_resp = access_website(spaceweather_url)"
   ]
  },
  {
   "cell_type": "code",
   "execution_count": null,
   "metadata": {},
   "outputs": [],
   "source": [
    "spaceweather_soup = bso(spaceweather_resp.content, 'html5lib')"
   ]
  },
  {
   "cell_type": "code",
   "execution_count": null,
   "metadata": {},
   "outputs": [],
   "source": [
    "#spaceweather_soup"
   ]
  },
  {
   "cell_type": "code",
   "execution_count": null,
   "metadata": {},
   "outputs": [],
   "source": [
    "print(spaceweather_soup.prettify())"
   ]
  },
  {
   "cell_type": "markdown",
   "metadata": {},
   "source": [
    "__Extract the HTML table from the web document__"
   ]
  },
  {
   "cell_type": "code",
   "execution_count": null,
   "metadata": {},
   "outputs": [],
   "source": [
    "html_table = spaceweather_soup.find('table')"
   ]
  },
  {
   "cell_type": "code",
   "execution_count": null,
   "metadata": {},
   "outputs": [],
   "source": [
    "type(table)"
   ]
  },
  {
   "cell_type": "markdown",
   "metadata": {},
   "source": [
    "__Create a DataFrame__"
   ]
  },
  {
   "cell_type": "code",
   "execution_count": null,
   "metadata": {},
   "outputs": [],
   "source": [
    "spaceweather_columns = [\n",
    "    'rank', \n",
    "    'x_class', \n",
    "    'date', \n",
    "    'region', \n",
    "    'start_time', \n",
    "    'max_time', \n",
    "    'end_time', \n",
    "    'movie'\n",
    "]"
   ]
  },
  {
   "cell_type": "code",
   "execution_count": null,
   "metadata": {},
   "outputs": [],
   "source": [
    "spaceweather_df = pd.DataFrame(columns=spaceweather_columns, index = range(0,50))\n",
    "\n",
    "# Loop over rows of HTML table to extract the text and populate the DataFrame\n",
    "row_marker = 0\n",
    "for row in html_table.find_all('tr'):\n",
    "    column_marker = 0\n",
    "    columns = row.find_all('td')\n",
    "    row_marker += 1\n",
    "    for column in columns:\n",
    "        if (row_marker > 1):\n",
    "            spaceweather_df.iat[row_marker-2,column_marker] = column.get_text()\n",
    "            column_marker += 1"
   ]
  },
  {
   "cell_type": "code",
   "execution_count": null,
   "metadata": {},
   "outputs": [],
   "source": [
    "spaceweather_df"
   ]
  },
  {
   "cell_type": "markdown",
   "metadata": {},
   "source": [
    "__Drop the last column (`movie`)__"
   ]
  },
  {
   "cell_type": "code",
   "execution_count": null,
   "metadata": {},
   "outputs": [],
   "source": [
    "spaceweather_df = spaceweather_df.drop(spaceweather_columns[-1], 1)"
   ]
  },
  {
   "cell_type": "code",
   "execution_count": null,
   "metadata": {},
   "outputs": [],
   "source": [
    "spaceweather_df.info()"
   ]
  },
  {
   "cell_type": "markdown",
   "metadata": {},
   "source": [
    "__Combine the date column with the time columns to convert to datetime format__"
   ]
  },
  {
   "cell_type": "code",
   "execution_count": null,
   "metadata": {},
   "outputs": [],
   "source": [
    "spaceweather_df['start_time'] = pd.to_datetime(spaceweather_df['date'] + ' ' + spaceweather_df['start_time'])"
   ]
  },
  {
   "cell_type": "code",
   "execution_count": null,
   "metadata": {},
   "outputs": [],
   "source": [
    "spaceweather_df['max_time'] = pd.to_datetime(spaceweather_df['date'] + ' ' + spaceweather_df['max_time'])"
   ]
  },
  {
   "cell_type": "code",
   "execution_count": null,
   "metadata": {},
   "outputs": [],
   "source": [
    "spaceweather_df['end_time'] = pd.to_datetime(spaceweather_df['date'] + ' ' + spaceweather_df['end_time'])"
   ]
  },
  {
   "cell_type": "markdown",
   "metadata": {},
   "source": [
    "__Drop the `date` column__"
   ]
  },
  {
   "cell_type": "code",
   "execution_count": null,
   "metadata": {},
   "outputs": [],
   "source": [
    "spaceweather_df.drop('date', 1)"
   ]
  },
  {
   "cell_type": "markdown",
   "metadata": {},
   "source": [
    "__Change the order of the columns__"
   ]
  },
  {
   "cell_type": "code",
   "execution_count": null,
   "metadata": {},
   "outputs": [],
   "source": [
    "spaceweather_df = spaceweather_df[['rank', 'x_class', 'start_time', 'max_time', 'end_time', 'region']]"
   ]
  },
  {
   "cell_type": "markdown",
   "metadata": {},
   "source": [
    "__Replace all instances of `'-'` with `'<NA>'`__"
   ]
  },
  {
   "cell_type": "code",
   "execution_count": null,
   "metadata": {},
   "outputs": [],
   "source": [
    "spaceweather_df = spaceweather_df.replace('-', '<NA>')"
   ]
  },
  {
   "cell_type": "code",
   "execution_count": null,
   "metadata": {},
   "outputs": [],
   "source": [
    "spaceweather_df"
   ]
  },
  {
   "cell_type": "code",
   "execution_count": null,
   "metadata": {},
   "outputs": [],
   "source": []
  },
  {
   "cell_type": "markdown",
   "metadata": {},
   "source": [
    "## <font color=\"blue\"> Part 2:</font> Scrape the NASA data\n",
    "\n",
    "Access the webpage:\n",
    "\n",
    "[https://cdaw.gsfc.nasa.gov/CME_list/radio/waves_type2.html](https://cdaw.gsfc.nasa.gov/CME_list/radio/waves_type2.html)\n",
    "\n",
    "to scrap the STEREO and Wind WAVES type II bursts and the associated CMEs. "
   ]
  },
  {
   "cell_type": "code",
   "execution_count": null,
   "metadata": {},
   "outputs": [],
   "source": [
    "nasa_url = \"https://cdaw.gsfc.nasa.gov/CME_list/radio/waves_type2.html\""
   ]
  },
  {
   "cell_type": "code",
   "execution_count": null,
   "metadata": {},
   "outputs": [],
   "source": [
    "nasa_resp = access_website(nasa_url)"
   ]
  },
  {
   "cell_type": "code",
   "execution_count": null,
   "metadata": {},
   "outputs": [],
   "source": [
    "nasa_bs = bso(nasa_resp.content, 'html.parser')"
   ]
  },
  {
   "cell_type": "code",
   "execution_count": null,
   "metadata": {},
   "outputs": [],
   "source": [
    "#print(nasa_bs.prettify())"
   ]
  },
  {
   "cell_type": "markdown",
   "metadata": {},
   "source": [
    "__Extract the HTML table__"
   ]
  },
  {
   "cell_type": "code",
   "execution_count": null,
   "metadata": {},
   "outputs": [],
   "source": [
    "nasa_table = nasa_bs.find('pre').text"
   ]
  },
  {
   "cell_type": "code",
   "execution_count": null,
   "metadata": {},
   "outputs": [],
   "source": [
    "#print(nasa_table)"
   ]
  },
  {
   "cell_type": "markdown",
   "metadata": {},
   "source": [
    "__Convert the table to a list__\n",
    "\n",
    "- Do not take the first 11 rows of the table.\n",
    "- Do not take any row that has `===`."
   ]
  },
  {
   "cell_type": "code",
   "execution_count": null,
   "metadata": {},
   "outputs": [],
   "source": [
    "nasa_table_list = [x.split() for x in nasa_table.split('\\n')[11:] if \"===\" not in x and x]\n",
    "#nasa_table_list"
   ]
  },
  {
   "cell_type": "markdown",
   "metadata": {},
   "source": [
    "__Create the DataFrame__\n",
    "\n",
    "- Only consider the first 14 columns."
   ]
  },
  {
   "cell_type": "code",
   "execution_count": null,
   "metadata": {},
   "outputs": [],
   "source": [
    "nasa_df = pd.DataFrame(nasa_table_list).loc[:,0:13]"
   ]
  },
  {
   "cell_type": "code",
   "execution_count": null,
   "metadata": {},
   "outputs": [],
   "source": [
    "nasa_df"
   ]
  },
  {
   "cell_type": "code",
   "execution_count": null,
   "metadata": {},
   "outputs": [],
   "source": [
    "nasa_df.info()"
   ]
  },
  {
   "cell_type": "markdown",
   "metadata": {},
   "source": [
    "__Provide the labels for the columns__"
   ]
  },
  {
   "cell_type": "code",
   "execution_count": null,
   "metadata": {},
   "outputs": [],
   "source": [
    "columns = [\n",
    "    \"start_date\", #Column 1: Starting date of the type II burst (yyyy/mm/dd format)\n",
    "    \"start_time\", #Column 2:  Starting time (UT) of the type II burst (hh:mm format)\n",
    "    \"end_date\", #Column 3:  Ending date of the type II burst (mm/dd format; year in Column 1 applies)\n",
    "    \"end_time\", #Column 4:  Ending time of the Type II burst (hh:mm  format)\n",
    "    \"start_frequency\", #Column 5:  Starting frequency of type II burst (kHz) [1]\n",
    "    \"end_frequency\", #Column 6:  Ending frequency of type II burst (kHz) [1]\n",
    "    \"flare_location\", #Column 7:  Solar source location (Loc) of the associated eruption in heliographic coordinates [2]\n",
    "    \"flare_region\",  #Column 8:  NOAA active region number (NOAA) [3]\n",
    "    \"flare_classification\",  #Column 9:  Soft X-ray flare importance (Imp)  [4]\n",
    "    \"cme_date\",   #Column 10: Date of the associated CME (mm/dd format, Year in Column 1 applies) [5]\n",
    "    \"cme_time\",   #Column 11: Time of the associated CME (hh:mm format)\n",
    "    \"cme_angle\",  #Column 12: Central position angle (CPA, degrees) for non-halo CMEs [6]\n",
    "    \"cme_width\",  #Column 13: CME width in the sky plane (degrees) [7]\n",
    "    \"cme_speed\"   #Column 14: CME speed in the sky plane (km/s)\n",
    "]\n",
    "\n",
    "nasa_df.columns = columns\n",
    "nasa_df"
   ]
  },
  {
   "cell_type": "markdown",
   "metadata": {},
   "source": [
    "__Condition [1]__"
   ]
  },
  {
   "cell_type": "code",
   "execution_count": null,
   "metadata": {},
   "outputs": [],
   "source": [
    "nasa_df[\"start_frequency\"] = nasa_df[\"start_frequency\"].apply(lambda x: None if '?' in x else x)"
   ]
  },
  {
   "cell_type": "code",
   "execution_count": null,
   "metadata": {},
   "outputs": [],
   "source": [
    "nasa_df[\"end_frequency\"] = nasa_df[\"end_frequency\"].apply(lambda x: None if '?' in x else x)"
   ]
  },
  {
   "cell_type": "markdown",
   "metadata": {},
   "source": [
    "__Condition [3]__"
   ]
  },
  {
   "cell_type": "code",
   "execution_count": null,
   "metadata": {},
   "outputs": [],
   "source": [
    "nasa_df[\"flare_region\"] = nasa_df[\"flare_region\"].apply(lambda x: None if '--' in x else x)"
   ]
  },
  {
   "cell_type": "code",
   "execution_count": null,
   "metadata": {},
   "outputs": [],
   "source": [
    "nasa_df.head(6)"
   ]
  },
  {
   "cell_type": "markdown",
   "metadata": {},
   "source": [
    "__Condition [4]__"
   ]
  },
  {
   "cell_type": "code",
   "execution_count": null,
   "metadata": {},
   "outputs": [],
   "source": [
    "#nasa_df[\"flare_classification\"] = nasa_df[\"flare_classification\"].apply(lambda x: None if '--' in x else x)"
   ]
  },
  {
   "cell_type": "markdown",
   "metadata": {},
   "source": [
    "Only get the rows that have `X` in classification flare"
   ]
  },
  {
   "cell_type": "code",
   "execution_count": null,
   "metadata": {},
   "outputs": [],
   "source": [
    "flares_df = nasa_df.loc[nasa_df['flare_classification'].str.contains('X')]"
   ]
  },
  {
   "cell_type": "code",
   "execution_count": null,
   "metadata": {},
   "outputs": [],
   "source": [
    "flares_df"
   ]
  },
  {
   "cell_type": "markdown",
   "metadata": {},
   "source": [
    "Get rid of X for sorting purposes"
   ]
  },
  {
   "cell_type": "code",
   "execution_count": null,
   "metadata": {},
   "outputs": [],
   "source": [
    "flares_df['flare_classification'] = flares_df['flare_classification'].str.lstrip('X')"
   ]
  },
  {
   "cell_type": "markdown",
   "metadata": {},
   "source": [
    "Convert to float"
   ]
  },
  {
   "cell_type": "code",
   "execution_count": null,
   "metadata": {},
   "outputs": [],
   "source": [
    "flares_df['flare_classification'] = flares_df.flare_classification.astype(float)"
   ]
  },
  {
   "cell_type": "markdown",
   "metadata": {},
   "source": [
    "Sort rows by flare class"
   ]
  },
  {
   "cell_type": "code",
   "execution_count": null,
   "metadata": {},
   "outputs": [],
   "source": [
    "flares_df = flares_df.sort_values('flare_classification', ascending = False)"
   ]
  },
  {
   "cell_type": "code",
   "execution_count": null,
   "metadata": {},
   "outputs": [],
   "source": [
    "flares_df"
   ]
  },
  {
   "cell_type": "markdown",
   "metadata": {},
   "source": [
    "__Only consider the top 50__"
   ]
  },
  {
   "cell_type": "code",
   "execution_count": null,
   "metadata": {},
   "outputs": [],
   "source": [
    "flares_df = flares_df.head(50)"
   ]
  },
  {
   "cell_type": "markdown",
   "metadata": {},
   "source": [
    "Reconvert back to string"
   ]
  },
  {
   "cell_type": "code",
   "execution_count": null,
   "metadata": {},
   "outputs": [],
   "source": [
    "flares_df['flare_classification'] = flares_df.flare_classification.astype(str)"
   ]
  },
  {
   "cell_type": "markdown",
   "metadata": {},
   "source": [
    "Add the `X` before any classification value"
   ]
  },
  {
   "cell_type": "code",
   "execution_count": null,
   "metadata": {},
   "outputs": [],
   "source": [
    "flares_df['flare_classification'] = \"X\" + flares_df['flare_classification']"
   ]
  },
  {
   "cell_type": "code",
   "execution_count": null,
   "metadata": {},
   "outputs": [],
   "source": [
    "flares_df"
   ]
  }
 ],
 "metadata": {
  "anaconda-cloud": {},
  "kernelspec": {
   "display_name": "Python 3 (ipykernel)",
   "language": "python",
   "name": "python3"
  },
  "language_info": {
   "codemirror_mode": {
    "name": "ipython",
    "version": 3
   },
   "file_extension": ".py",
   "mimetype": "text/x-python",
   "name": "python",
   "nbconvert_exporter": "python",
   "pygments_lexer": "ipython3",
   "version": "3.12.7"
  }
 },
 "nbformat": 4,
 "nbformat_minor": 4
}
