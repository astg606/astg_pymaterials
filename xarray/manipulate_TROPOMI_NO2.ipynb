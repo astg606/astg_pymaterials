{
 "cells": [
  {
   "cell_type": "markdown",
   "metadata": {},
   "source": [
    "<center>\n",
    "<table>\n",
    "  <tr>\n",
    "    <td><img src=\"https://portal.nccs.nasa.gov/datashare/astg/training/python/logos/nasa-logo.svg\" width=\"100\"/> </td>\n",
    "     <td><img src=\"https://portal.nccs.nasa.gov/datashare/astg/training/python/logos/ASTG_logo.png?raw=true\" width=\"80\"/> </td>\n",
    "     <td> <img src=\"https://www.nccs.nasa.gov/sites/default/files/NCCS_Logo_0.png\" width=\"130\"/> </td>\n",
    "    </tr>\n",
    "</table>\n",
    "</center>\n",
    "\n",
    "        \n",
    "<center>\n",
    "<h1><font color= \"blue\" size=\"+3\">ASTG Python Courses</font></h1>\n",
    "</center>\n",
    "\n",
    "---\n",
    "\n",
    "<center><h1><font color=\"red\" size=\"+3\">Manipulate the TROPOMI Monthly Averages of Tropospheric NO2 </font></h1></center>"
   ]
  },
  {
   "cell_type": "markdown",
   "metadata": {},
   "source": [
    "# <font color=\"red\">Objectives</font>\n",
    "\n",
    "- We want to show how to read a collection of monthly NO2 data files and perform manipulations.\n",
    "- We show how the Python Xarray package is used to read netCDF files and do time series analyses."
   ]
  },
  {
   "cell_type": "markdown",
   "metadata": {},
   "source": [
    "# <font color=\"red\">HAQAST Sentinel-5P TROPOMI Nitrogen Dioxide (NO2) Data</font>\n",
    "\n",
    "- The HAQAST Sentinel-5P TROPOMI Nitrogen Dioxide (NO2) GLOBAL Monthly is a Level 3, gridded dataset providing monthly averages of tropospheric NO2 vertical column density globally.\n",
    "- It is derived from the Sentinel-5P satellite's TROPOMI instrument by George Washington University as part of the NASA HAQAST program.\n",
    "- This dataset offers a 0.1 x 0.1 degree (~10 km2) spatial resolution and is available through  [https://access.earthdata.nasa.gov/collections/C2839237129-GES_DISC](NASA's Earthdata Search).\n",
    "   - It can be downloaded from (after registration from: [HAQ_TROPOMI_NO2_GLOBAL_M_L3_2.4](https://disc.gsfc.nasa.gov/datasets/HAQ_TROPOMI_NO2_GLOBAL_M_L3_2.4/summary)\n",
    "- The dataset record began in January 2019 and continues to the present. \n",
    "- NO2 is an air pollutant that negatively impacts human respiratory health and contributes to premature mortality.\n",
    "- NO2 is also a precursor to ground-level ozone and fine particulate matter, both of which have severe health consequences. \n",
    "\n",
    "![fig_no2](https://docserver.gesdisc.eosdis.nasa.gov/public/project/Images/HAQ_TROPOMI_NO2_GLOBAL_M_L3.2.4.png)"
   ]
  },
  {
   "cell_type": "markdown",
   "metadata": {},
   "source": [
    "# <font color=\"red\">What is Xarray?</font>\n",
    "+ `Xarray` is an open source project and Python package that makes working with **labeled multi-dimensional arrays** simple and efficient.\n",
    "+ Introduces labels in the form of dimensions, coordinates and attributes on top of raw `NumPy`-like arrays, which allows for a more intuitive, more concise, and less error-prone developer experience. \n",
    "+ Is inspired by and borrows heavily from `Pandas`.\n",
    "+ Builds on top of, and seamlessly interoperates with, the core scientific Python packages, such as NumPy, SciPy, Matplotlib, and Pandas\n",
    "+ Is particularly tailored to working with `netCDF` files and integrates tightly with `Dask` for parallel computing.\n"
   ]
  },
  {
   "cell_type": "markdown",
   "metadata": {},
   "source": [
    "![fig_structure](https://tutorial.xarray.dev/_images/xarray-data-structures.png)\n",
    "Image Source: tutorial.xarray.dev"
   ]
  },
  {
   "cell_type": "markdown",
   "metadata": {},
   "source": [
    "Here is an example of how we might structure a dataset for a weather forecast:\n",
    "\n",
    "![fig_dataset](https://docs.xarray.dev/en/stable/_images/dataset-diagram.png)\n",
    "\n",
    "Image Source: docs.xarray.dev"
   ]
  },
  {
   "cell_type": "markdown",
   "metadata": {},
   "source": [
    "---\n",
    "\n",
    "# <font color=\"red\"> Python packages used</font>\n",
    "\n",
    "- __Matplotlib__: Tool for creating high-quality 2D visualization.\n",
    "- __Cartopy__: Package designed for geospatial data processing in order to produce maps and other geospatial data analyses.\n",
    "- __netCDF4__: Python interface to netCDF.\n",
    "- __Pandas__: Tool for data analysis and visualization on two dimensional labeled data.\n",
    "- __Xarray__: Package for manipulating labelled multi-dimensional arrays."
   ]
  },
  {
   "cell_type": "code",
   "execution_count": null,
   "metadata": {},
   "outputs": [],
   "source": [
    "try:\n",
    "    import google.colab\n",
    "    print(\"Running in Google Colab\")\n",
    "except:\n",
    "    print(\"Not running in Google Colab\")\n",
    "else:\n",
    "    print(\"Installing modules in Google Colab\")\n",
    "    !apt-get install libproj-dev proj-data proj-bin\n",
    "    !apt-get install libgeos-dev\n",
    "    !pip install cython\n",
    "    !pip install cartopy\n",
    "    !python -m pip install dask[dataframe] --upgrade\n",
    "    !pip install netCDF4\n",
    "    !pip install xarray"
   ]
  },
  {
   "cell_type": "code",
   "execution_count": null,
   "metadata": {},
   "outputs": [],
   "source": [
    "import warnings\n",
    "warnings.filterwarnings(\"ignore\")"
   ]
  },
  {
   "cell_type": "code",
   "execution_count": null,
   "metadata": {},
   "outputs": [],
   "source": [
    "import pprint\n",
    "import datetime\n",
    "import random"
   ]
  },
  {
   "cell_type": "code",
   "execution_count": null,
   "metadata": {},
   "outputs": [],
   "source": [
    "%matplotlib inline\n",
    "import matplotlib.pyplot as plt\n",
    "import cartopy\n",
    "from cartopy.mpl.ticker import LongitudeFormatter, LatitudeFormatter\n",
    "import cartopy.crs as ccrs\n",
    "import cartopy.feature as cfeature\n",
    "import cartopy.io.shapereader as shapereader"
   ]
  },
  {
   "cell_type": "code",
   "execution_count": null,
   "metadata": {},
   "outputs": [],
   "source": [
    "import netCDF4\n",
    "import numpy as np\n",
    "import pandas as pd\n",
    "import xarray as xr"
   ]
  },
  {
   "cell_type": "code",
   "execution_count": null,
   "metadata": {},
   "outputs": [],
   "source": [
    "print(f\"Version of Numpy:   {np.__version__}\")\n",
    "print(f\"Version of Pandas:  {pd.__version__}\")\n",
    "print(f\"Version of netCDF4: {netCDF4.__version__}\")\n",
    "print(f\"Version of Xarray:  {xr.__version__}\")"
   ]
  },
  {
   "cell_type": "markdown",
   "metadata": {},
   "source": [
    "# <font color='red'>Manipulating NO2 monthly files</font> "
   ]
  },
  {
   "cell_type": "markdown",
   "metadata": {},
   "source": [
    "## <font color=\"blue\">File location</font>\n",
    "\n",
    "- We gathered (for the NASA) monthly tropospheric NO2 files for the year 2024.\n",
    "- The files are in netCDF-4 format and were transferred to a remote public available location."
   ]
  },
  {
   "cell_type": "code",
   "execution_count": null,
   "metadata": {},
   "outputs": [],
   "source": [
    "#base_url = \"https://portal.nccs.nasa.gov/datashare/astg/training/python/cartopy\"\n",
    "base_url = \"/Users/jkouatch/Downloads\""
   ]
  },
  {
   "cell_type": "code",
   "execution_count": null,
   "metadata": {},
   "outputs": [],
   "source": [
    "list_files = [\n",
    "    'HAQ_TROPOMI_NO2_GLOBAL_QA75_L3_Monthly_012024_V2.4_20240719.nc4',\n",
    "    'HAQ_TROPOMI_NO2_GLOBAL_QA75_L3_Monthly_022024_V2.4_20240719.nc4', \n",
    "    'HAQ_TROPOMI_NO2_GLOBAL_QA75_L3_Monthly_032024_V2.4_20240719.nc4', \n",
    "    'HAQ_TROPOMI_NO2_GLOBAL_QA75_L3_Monthly_042024_V2.4_20240719.nc4', \n",
    "    'HAQ_TROPOMI_NO2_GLOBAL_QA75_L3_Monthly_052024_V2.4_20240719.nc4', \n",
    "    'HAQ_TROPOMI_NO2_GLOBAL_QA75_L3_Monthly_062024_V2.4_20240719.nc4', \n",
    "    'HAQ_TROPOMI_NO2_GLOBAL_QA75_L3_Monthly_072024_V2.4_20240810.nc4', \n",
    "    'HAQ_TROPOMI_NO2_GLOBAL_QA75_L3_Monthly_082024_V2.4_20250110.nc4', \n",
    "    'HAQ_TROPOMI_NO2_GLOBAL_QA75_L3_Monthly_092024_V2.4_20250110.nc4', \n",
    "    'HAQ_TROPOMI_NO2_GLOBAL_QA75_L3_Monthly_102024_V2.4_20250110.nc4', \n",
    "    'HAQ_TROPOMI_NO2_GLOBAL_QA75_L3_Monthly_112024_V2.4_20250110.nc4', \n",
    "    'HAQ_TROPOMI_NO2_GLOBAL_QA75_L3_Monthly_122024_V2.4_20250110.nc4' \n",
    "]"
   ]
  },
  {
   "cell_type": "markdown",
   "metadata": {},
   "source": [
    "Combine the `base_url` variables and the file names:"
   ]
  },
  {
   "cell_type": "code",
   "execution_count": null,
   "metadata": {},
   "outputs": [],
   "source": [
    "list_files = [f\"{base_url}/{file}\" for file in list_files]"
   ]
  },
  {
   "cell_type": "code",
   "execution_count": null,
   "metadata": {},
   "outputs": [],
   "source": [
    "list_files"
   ]
  },
  {
   "cell_type": "markdown",
   "metadata": {},
   "source": [
    "## <font color=\"blue\">Focus on one file</font>"
   ]
  },
  {
   "cell_type": "markdown",
   "metadata": {},
   "source": [
    "Create the list of month names:"
   ]
  },
  {
   "cell_type": "code",
   "execution_count": null,
   "metadata": {},
   "outputs": [],
   "source": [
    "list_months = [datetime.date(2025, i, 1).strftime('%B') for i in range(1, 13)]\n",
    "list_months"
   ]
  },
  {
   "cell_type": "markdown",
   "metadata": {},
   "source": [
    "Select an arbitrary month:"
   ]
  },
  {
   "cell_type": "code",
   "execution_count": null,
   "metadata": {},
   "outputs": [],
   "source": [
    "idx = random.randint(0, 11)\n",
    "mymonth = list_months[idx]\n",
    "print(f\"Index = {idx} --> Month = {mymonth}\")"
   ]
  },
  {
   "cell_type": "markdown",
   "metadata": {},
   "source": [
    "### <font color=\"green\">Read the monthly file for the selected month</font>\n",
    "\n",
    "- We use Xarray to read the netCDF file.\n",
    "- We obtain a Xarray Dataset object."
   ]
  },
  {
   "cell_type": "code",
   "execution_count": null,
   "metadata": {},
   "outputs": [],
   "source": [
    "myfile = list_files[idx]\n",
    "myfile"
   ]
  },
  {
   "cell_type": "code",
   "execution_count": null,
   "metadata": {},
   "outputs": [],
   "source": [
    "ds = xr.open_dataset(myfile, engine='netcdf4')"
   ]
  },
  {
   "cell_type": "code",
   "execution_count": null,
   "metadata": {},
   "outputs": [],
   "source": [
    "ds"
   ]
  },
  {
   "cell_type": "code",
   "execution_count": null,
   "metadata": {},
   "outputs": [],
   "source": [
    "print(f\"DataArrays in the Dataset: \\n\\t {list(ds.keys())}\")"
   ]
  },
  {
   "cell_type": "code",
   "execution_count": null,
   "metadata": {},
   "outputs": [],
   "source": [
    "print(f\"Variables in the Dataset: \\n\\t {list(ds.variables.keys())}\")"
   ]
  },
  {
   "cell_type": "code",
   "execution_count": null,
   "metadata": {},
   "outputs": [],
   "source": [
    "print(f\"Dimensions in the Dataset: \\n\\t {list(ds.dims.keys())}\")"
   ]
  },
  {
   "cell_type": "code",
   "execution_count": null,
   "metadata": {},
   "outputs": [],
   "source": [
    "print(f\"Coordinates in the Dataset: \\n\\t {list(ds.coords.keys())}\")"
   ]
  },
  {
   "cell_type": "code",
   "execution_count": null,
   "metadata": {},
   "outputs": [],
   "source": [
    "print(f\"Global attributes: \\n\\t {list(ds.attrs)}\")"
   ]
  },
  {
   "cell_type": "code",
   "execution_count": null,
   "metadata": {},
   "outputs": [],
   "source": [
    "print(f\"Global attributes - source: \\n\\t {ds.attrs['source']}\")"
   ]
  },
  {
   "cell_type": "markdown",
   "metadata": {},
   "source": [
    "Minimum/Maximum latidtude and longitude:"
   ]
  },
  {
   "cell_type": "code",
   "execution_count": null,
   "metadata": {},
   "outputs": [],
   "source": [
    "print(f\"Min/Max latitudes: \\n\\t {ds['Latitude'].values.min()} {ds['Latitude'].values.max()}\")"
   ]
  },
  {
   "cell_type": "code",
   "execution_count": null,
   "metadata": {},
   "outputs": [],
   "source": [
    "print(f\"Min/Max longitudes: \\n\\t {ds['Longitude'].values.min()} {ds['Longitude'].values.max()}\")"
   ]
  },
  {
   "cell_type": "markdown",
   "metadata": {},
   "source": [
    "__Observations__\n",
    "\n",
    "- There are the latitude and longitude dimensions.\n",
    "- There are two variables:\n",
    "   - `Tropospheric_NO2`\n",
    "   - `Number_obs`\n",
    "- __There is no time dimension.__\n",
    "   - <font color=\"red\">If we want to do time series analyses, we need to combine data from all the files and add the time dimension to the combined Xarray Dataset.</font>"
   ]
  },
  {
   "cell_type": "markdown",
   "metadata": {},
   "source": [
    "### <font color=\"green\">Create plots with the selected monthly file</font>"
   ]
  },
  {
   "cell_type": "markdown",
   "metadata": {},
   "source": [
    "#### Define a function creating a map"
   ]
  },
  {
   "cell_type": "code",
   "execution_count": null,
   "metadata": {},
   "outputs": [],
   "source": [
    "def create_map_contourf(xds: xr.Dataset, \n",
    "                        map_projection = None,\n",
    "                        data_transform = None,\n",
    "                        mytitle: str = None, \n",
    "                        units: str = None):\n",
    "    \"\"\"\n",
    "    Create a countour plot on top of the map of the world. \n",
    "    Use the Xarray Dataset object to extract the latitudes, longitudes\n",
    "    and the data to do the plot.\n",
    "\n",
    "    Parameters\n",
    "    ----------\n",
    "    xds : xr.Dataset\n",
    "       Xarray Dataset containing the data we want to visualize.\n",
    "    map_projection :\n",
    "       Cartopy object representing the map project we want to use for our plot.\n",
    "    data_transform :\n",
    "       Cartopy object representing the coordinate system the data is in.\n",
    "    mytitle : str\n",
    "       Title of the plot.\n",
    "    units : str\n",
    "       Title of the colorbar.\n",
    "       This title represents the unit of the variable we are plotting.\n",
    "    \"\"\"\n",
    "    if not map_projection:\n",
    "        map_projection = ccrs.PlateCarree()\n",
    "\n",
    "    if not data_transform:\n",
    "        data_transform = ccrs.PlateCarree()\n",
    "        \n",
    "    plt.rcParams[\"figure.figsize\"] = [15, 12]\n",
    "    fig = plt.figure(tight_layout=False)\n",
    "\n",
    "    ax = fig.add_subplot(1, 1, 1, projection=map_projection)\n",
    "    data = xds.values\n",
    "    lats = xds['Latitude'].values\n",
    "    lons = xds['Longitude'].values\n",
    "\n",
    "    cp = plt.contourf(lons, lats, data, 60,\n",
    "                      cmap='jet', transform=data_transform)\n",
    "    \n",
    "    ax.add_feature(cfeature.COASTLINE)\n",
    "    ax.add_feature(cfeature.BORDERS)\n",
    "    ax.add_feature(cfeature.LAKES)\n",
    "    ax.add_feature(cfeature.RIVERS)\n",
    "    \n",
    "    ax.gridlines(draw_labels=True, dms=True, x_inline=False, y_inline=False)\n",
    "\n",
    "    if mytitle:\n",
    "        ax.set_title(mytitle)\n",
    "\n",
    "    cbar = plt.colorbar(cp, orientation='horizontal', ax=ax, pad=0.05, shrink=0.7)\n",
    "    if units:\n",
    "        cbar.set_label(units);"
   ]
  },
  {
   "cell_type": "markdown",
   "metadata": {},
   "source": [
    "__Extract the NO2 DataArray__"
   ]
  },
  {
   "cell_type": "code",
   "execution_count": null,
   "metadata": {},
   "outputs": [],
   "source": [
    "mymonth_tropNO2 = ds['Tropospheric_NO2']"
   ]
  },
  {
   "cell_type": "code",
   "execution_count": null,
   "metadata": {},
   "outputs": [],
   "source": [
    "mymonth_tropNO2"
   ]
  },
  {
   "cell_type": "code",
   "execution_count": null,
   "metadata": {},
   "outputs": [],
   "source": [
    "myunits = f'{mymonth_tropNO2.attrs[\"long_name\"]} [{mymonth_tropNO2.attrs[\"units\"]}]'\n",
    "myunits"
   ]
  },
  {
   "cell_type": "markdown",
   "metadata": {},
   "source": [
    "__Plot NO2 against longitude for specific latitude values__"
   ]
  },
  {
   "cell_type": "code",
   "execution_count": null,
   "metadata": {},
   "outputs": [],
   "source": [
    "mymonth_tropNO2.sel(Latitude=slice(-4.0, 5.0, 12)).plot(x=\"Longitude\", hue=\"Latitude\");"
   ]
  },
  {
   "cell_type": "markdown",
   "metadata": {},
   "source": [
    "__Quick global map__"
   ]
  },
  {
   "cell_type": "code",
   "execution_count": null,
   "metadata": {},
   "outputs": [],
   "source": [
    "mymonth_tropNO2.plot(cmap=\"jet\");"
   ]
  },
  {
   "cell_type": "markdown",
   "metadata": {},
   "source": [
    "__Use function to create map__"
   ]
  },
  {
   "cell_type": "code",
   "execution_count": null,
   "metadata": {},
   "outputs": [],
   "source": [
    "mytitle = f'Monthly average tropospheric NO2 for {mymonth}'\n",
    "units = myunits\n",
    "create_map_contourf(mymonth_tropNO2, mytitle=mytitle, units=units)"
   ]
  },
  {
   "cell_type": "markdown",
   "metadata": {},
   "source": [
    "__Zoom in over Africa__\n",
    "\n",
    "```python\n",
    "LatIndexer, LonIndexer = 'Latitude', 'Longitude'\n",
    "SliceData = data.sel(\n",
    "    **{LatIndexer: slice(min_lat, max_lat),\n",
    "       LonIndexer: slice(min_lon, max_lon)}\n",
    ")\n",
    "```"
   ]
  },
  {
   "cell_type": "code",
   "execution_count": null,
   "metadata": {},
   "outputs": [],
   "source": [
    "min_lat, max_lat = -35.3, 38.1\n",
    "min_lon, max_lon = -19.2, 53.0\n",
    "\n",
    "LatIndexer, LonIndexer = 'Latitude', 'Longitude'\n",
    "\n",
    "mymonth_tropNO2_africa = mymonth_tropNO2.sel(\n",
    "    **{LatIndexer: slice(min_lat, max_lat),\n",
    "       LonIndexer: slice(min_lon, max_lon)}\n",
    ")"
   ]
  },
  {
   "cell_type": "code",
   "execution_count": null,
   "metadata": {},
   "outputs": [],
   "source": [
    "mymonth_tropNO2_africa"
   ]
  },
  {
   "cell_type": "code",
   "execution_count": null,
   "metadata": {},
   "outputs": [],
   "source": [
    "mytitle = f'Monthly average tropospheric NO2 ofer Africa for {mymonth}'\n",
    "create_map_contourf(mymonth_tropNO2_africa, mytitle=mytitle, units=units)"
   ]
  },
  {
   "cell_type": "markdown",
   "metadata": {},
   "source": [
    "## <font color=\"blue\">Combine the monthly data</font>"
   ]
  },
  {
   "cell_type": "markdown",
   "metadata": {},
   "source": [
    "__Loop over the monthly data files to create a unique Xarray Dataset__"
   ]
  },
  {
   "cell_type": "code",
   "execution_count": null,
   "metadata": {},
   "outputs": [],
   "source": [
    "datasets = list()\n",
    "for i, path in enumerate(list_files, start=1):\n",
    "    ds = xr.open_dataset(path)\n",
    "    # Assign a time coordinate to each dataset\n",
    "    # Replace this with your actual time extraction logic\n",
    "    time_val = pd.to_datetime(f'2024-{i:02}-15')\n",
    "    ds = ds.assign_coords(time=time_val)\n",
    "    ds = ds.expand_dims('time') # Expand to explicitly create the time dimension\n",
    "    datasets.append(ds)"
   ]
  },
  {
   "cell_type": "markdown",
   "metadata": {},
   "source": [
    "Concatenate the datasets along the `'time'` dimension to create a Dataset with 12 records:"
   ]
  },
  {
   "cell_type": "code",
   "execution_count": null,
   "metadata": {},
   "outputs": [],
   "source": [
    "ds = xr.concat(datasets, dim='time')"
   ]
  },
  {
   "cell_type": "code",
   "execution_count": null,
   "metadata": {},
   "outputs": [],
   "source": [
    "ds"
   ]
  },
  {
   "cell_type": "markdown",
   "metadata": {},
   "source": [
    "Extract the time series DataArray for NO2:"
   ]
  },
  {
   "cell_type": "code",
   "execution_count": null,
   "metadata": {},
   "outputs": [],
   "source": [
    "tropNO2 = ds['Tropospheric_NO2']\n",
    "tropNO2"
   ]
  },
  {
   "cell_type": "markdown",
   "metadata": {},
   "source": [
    "__Monthly plots__"
   ]
  },
  {
   "cell_type": "code",
   "execution_count": null,
   "metadata": {},
   "outputs": [],
   "source": [
    "tropNO2.plot(x=\"Longitude\", y=\"Latitude\",\n",
    "                col=\"time\", col_wrap=3);"
   ]
  },
  {
   "cell_type": "markdown",
   "metadata": {},
   "source": [
    "### <font color=\"green\">Slicing the data</font>"
   ]
  },
  {
   "cell_type": "markdown",
   "metadata": {},
   "source": [
    "__Select an arbitrary lat/lon location__"
   ]
  },
  {
   "cell_type": "code",
   "execution_count": null,
   "metadata": {},
   "outputs": [],
   "source": [
    "longitude = 15.55 \n",
    "latitude = 5.05"
   ]
  },
  {
   "cell_type": "markdown",
   "metadata": {},
   "source": [
    "__Plot the selected location on a map__"
   ]
  },
  {
   "cell_type": "code",
   "execution_count": null,
   "metadata": {},
   "outputs": [],
   "source": [
    "fig = plt.figure(figsize=(12, 9))\n",
    "map_projection = ccrs.PlateCarree()\n",
    "data_transform = ccrs.PlateCarree()\n",
    "\n",
    "ax = plt.axes(projection=map_projection)\n",
    "ax.stock_img()\n",
    "\n",
    "# Plot the selected location \n",
    "plt.plot([longitude], [latitude], 'r*', \n",
    "        transform=data_transform,\n",
    "        color=\"purple\", \n",
    "         markersize=10)\n",
    "\n",
    "ax.set(title=f\"Location of the {latitude} Lat and {longitude} Lon Being Used to Slice Your netcdf Climate Data File\");"
   ]
  },
  {
   "cell_type": "markdown",
   "metadata": {},
   "source": [
    "__Interpolate at the selected location to obtain time series data__"
   ]
  },
  {
   "cell_type": "code",
   "execution_count": null,
   "metadata": {},
   "outputs": [],
   "source": [
    "one_point = tropNO2.interp(Latitude=latitude, Longitude=longitude)\n",
    "\n",
    "one_point"
   ]
  },
  {
   "cell_type": "markdown",
   "metadata": {},
   "source": [
    "- When you slice the data by a single point, the output data only has a single array of values. \n",
    "- The values represent air temperature (in K) over time."
   ]
  },
  {
   "cell_type": "code",
   "execution_count": null,
   "metadata": {},
   "outputs": [],
   "source": [
    "one_point.shape"
   ]
  },
  {
   "cell_type": "markdown",
   "metadata": {},
   "source": [
    "We can get the first few values:"
   ]
  },
  {
   "cell_type": "code",
   "execution_count": null,
   "metadata": {},
   "outputs": [],
   "source": [
    "one_point.values"
   ]
  },
  {
   "cell_type": "markdown",
   "metadata": {},
   "source": [
    "**Time series plot at a single location**"
   ]
  },
  {
   "cell_type": "code",
   "execution_count": null,
   "metadata": {},
   "outputs": [],
   "source": [
    "f, ax = plt.subplots(figsize=(12, 6))\n",
    "one_point.plot.line(ax=ax, marker=\"o\", color=\"grey\",\n",
    "                    markerfacecolor=\"purple\",\n",
    "                    markeredgecolor=\"purple\");\n",
    "ax.set(title=f\"Time Series at latitude {latitude:.2f} and longitude {longitude:.2f}\");"
   ]
  },
  {
   "cell_type": "markdown",
   "metadata": {},
   "source": [
    "### <font color='green'> Slice the data by time and location</font>\n",
    "- We want to slice the data at a selected lat/lon location and for the months of April to June."
   ]
  },
  {
   "cell_type": "code",
   "execution_count": null,
   "metadata": {},
   "outputs": [],
   "source": [
    "beg_date = \"2024-04-01\"\n",
    "end_date = \"2024-06-30\"\n",
    "tropNO2_apr_jun = tropNO2.sel(time=slice(beg_date, end_date),\n",
    "                              Latitude=latitude, Longitude=longitude)\n",
    "tropNO2_apr_jun"
   ]
  },
  {
   "cell_type": "code",
   "execution_count": null,
   "metadata": {},
   "outputs": [],
   "source": [
    "print(tropNO2_apr_jun.shape)"
   ]
  },
  {
   "cell_type": "markdown",
   "metadata": {},
   "source": [
    "We can plot the data:"
   ]
  },
  {
   "cell_type": "code",
   "execution_count": null,
   "metadata": {},
   "outputs": [],
   "source": [
    "f, ax = plt.subplots(figsize=(12, 6))\n",
    "tropNO2_apr_jun.plot.line(ax=ax, marker=\"o\", color=\"grey\",\n",
    "                       markerfacecolor=\"purple\",\n",
    "                       markeredgecolor=\"purple\")\n",
    "ax.set(title=\"April-June Time Series for A Single Location\");"
   ]
  },
  {
   "cell_type": "markdown",
   "metadata": {},
   "source": [
    "### <font color='green'> Time series at specific latitudes and along a longitude line</font>\n",
    "\n",
    "- We can use line plots to check the variation of air temperature at three different latitudes along a longitude line:"
   ]
  },
  {
   "cell_type": "code",
   "execution_count": null,
   "metadata": {},
   "outputs": [],
   "source": [
    "f, ax = plt.subplots(figsize=(12, 6))\n",
    "tropNO2.isel(Longitude=10, Latitude=[19, 21, 22]).plot.line(x=\"time\");"
   ]
  },
  {
   "cell_type": "markdown",
   "metadata": {},
   "source": [
    "### <font color='green'> Perform Correlation Analysis</font>"
   ]
  },
  {
   "cell_type": "markdown",
   "metadata": {},
   "source": [
    "__Compute the annual mean__"
   ]
  },
  {
   "cell_type": "code",
   "execution_count": null,
   "metadata": {},
   "outputs": [],
   "source": [
    "tropNO2_clim = tropNO2.mean(dim='time')"
   ]
  },
  {
   "cell_type": "code",
   "execution_count": null,
   "metadata": {},
   "outputs": [],
   "source": [
    "tropNO2_clim"
   ]
  },
  {
   "cell_type": "code",
   "execution_count": null,
   "metadata": {},
   "outputs": [],
   "source": [
    "mytitle = \"Annual mean of NO2\"\n",
    "create_map_contourf(tropNO2_clim, mytitle=mytitle, units=myunits)"
   ]
  },
  {
   "cell_type": "markdown",
   "metadata": {},
   "source": [
    "__Compute the anomaly__"
   ]
  },
  {
   "cell_type": "code",
   "execution_count": null,
   "metadata": {},
   "outputs": [],
   "source": [
    "tropNO2_anom = tropNO2 - tropNO2_clim"
   ]
  },
  {
   "cell_type": "code",
   "execution_count": null,
   "metadata": {},
   "outputs": [],
   "source": [
    "tropNO2_anom"
   ]
  },
  {
   "cell_type": "markdown",
   "metadata": {},
   "source": [
    "__Plot the anomaly for the selected month__"
   ]
  },
  {
   "cell_type": "code",
   "execution_count": null,
   "metadata": {},
   "outputs": [],
   "source": [
    "mytitle = f\"Anomaly of NO2 for the month of {mymonth}\"\n",
    "create_map_contourf(tropNO2_anom[idx], mytitle=mytitle, units=myunits)"
   ]
  },
  {
   "cell_type": "markdown",
   "metadata": {},
   "source": [
    "__Plot anomaly time series at a specific location__"
   ]
  },
  {
   "cell_type": "code",
   "execution_count": null,
   "metadata": {},
   "outputs": [],
   "source": [
    "tropNO2_ref = tropNO2_anom.sel(Longitude=longitude, Latitude=latitude, method='nearest')\n",
    "tropNO2_ref.plot();"
   ]
  },
  {
   "cell_type": "markdown",
   "metadata": {},
   "source": [
    "__Compute correlation__"
   ]
  },
  {
   "cell_type": "code",
   "execution_count": null,
   "metadata": {},
   "outputs": [],
   "source": [
    "def covariance(x, y, dims=None):\n",
    "    return xr.dot(x - x.mean(dims), y - y.mean(dims), dims=dims) / x.count(dims)\n",
    "\n",
    "def corrrelation(x, y, dims=None):\n",
    "    return covariance(x, y, dims) / (x.std(dims) * y.std(dims))"
   ]
  },
  {
   "cell_type": "code",
   "execution_count": null,
   "metadata": {},
   "outputs": [],
   "source": [
    "tropNO2_cor = corrrelation(tropNO2_anom, tropNO2_ref, dims='time')"
   ]
  },
  {
   "cell_type": "code",
   "execution_count": null,
   "metadata": {},
   "outputs": [],
   "source": [
    "mytitle = f'Correlation btw. global tropNO2 Anomaly and tropNO2 Anomaly at lat={latitude:.2f}/lon={longitude:.2f}'\n",
    "create_map_contourf(tropNO2_cor, mytitle=mytitle, units=myunits)"
   ]
  },
  {
   "cell_type": "markdown",
   "metadata": {},
   "source": [
    "__Determine the time series spatial means__"
   ]
  },
  {
   "cell_type": "code",
   "execution_count": null,
   "metadata": {},
   "outputs": [],
   "source": [
    "tropNO2_anom_avg = tropNO2_anom.mean(dim=['Latitude', 'Longitude'])\n",
    "tropNO2_anom_avg"
   ]
  },
  {
   "cell_type": "code",
   "execution_count": null,
   "metadata": {},
   "outputs": [],
   "source": [
    "tropNO2_anom_avg.plot();"
   ]
  },
  {
   "cell_type": "markdown",
   "metadata": {},
   "source": [
    "__Interpolation using datetime strings__"
   ]
  },
  {
   "cell_type": "code",
   "execution_count": null,
   "metadata": {},
   "outputs": [],
   "source": [
    "inter_data = tropNO2.interp(time=[\"2024-03-10\", \"2024-11-26\"])\n",
    "inter_data"
   ]
  },
  {
   "cell_type": "code",
   "execution_count": null,
   "metadata": {},
   "outputs": [],
   "source": [
    "inter_data.plot(x=\"Longitude\", y=\"Latitude\", col=\"time\");"
   ]
  },
  {
   "cell_type": "markdown",
   "metadata": {},
   "source": [
    "---"
   ]
  },
  {
   "cell_type": "markdown",
   "metadata": {},
   "source": [
    "**Compute seasonal values:**"
   ]
  },
  {
   "cell_type": "markdown",
   "metadata": {},
   "source": [
    "For seasons `JFM`, `AMJ`, `JAS` and `OND`:"
   ]
  },
  {
   "cell_type": "code",
   "execution_count": null,
   "metadata": {},
   "outputs": [],
   "source": [
    "JFM_dst = tropNO2.resample(time='QS-JAN').mean()\n",
    "JFM_dst"
   ]
  },
  {
   "cell_type": "code",
   "execution_count": null,
   "metadata": {},
   "outputs": [],
   "source": [
    "JFM_dst.plot(x=\"Longitude\", y=\"Latitude\", col=\"time\", col_wrap=3)\n",
    "plt.suptitle(\"Seasonal Means (JFM, AMJ, JAS, OND)\", y = 1.05)"
   ]
  },
  {
   "cell_type": "markdown",
   "metadata": {},
   "source": [
    "For seasons `DJF`, `MAM`, `JJA` and `SON`:"
   ]
  },
  {
   "cell_type": "code",
   "execution_count": null,
   "metadata": {},
   "outputs": [],
   "source": [
    "DJF_dst = tropNO2.resample(time='QS-DEC').mean()\n",
    "DJF_dst"
   ]
  },
  {
   "cell_type": "markdown",
   "metadata": {},
   "source": [
    "Or you can use the following for the seasons `DJF`, `MAM`, `JJA`, `SON`:"
   ]
  },
  {
   "cell_type": "code",
   "execution_count": null,
   "metadata": {},
   "outputs": [],
   "source": [
    "DJF_dst2 = tropNO2.groupby('time.season').mean()"
   ]
  },
  {
   "cell_type": "code",
   "execution_count": null,
   "metadata": {},
   "outputs": [],
   "source": [
    "DJF_dst.plot(x=\"Longitude\", y=\"Latitude\", col=\"time\", col_wrap=3)\n",
    "plt.suptitle(\"Seasonal Means (DJF, MAM, JJA, SON)\", y = 1.05)"
   ]
  },
  {
   "cell_type": "markdown",
   "metadata": {},
   "source": [
    "---"
   ]
  },
  {
   "cell_type": "markdown",
   "metadata": {},
   "source": [
    "## <font color=\"red\">Useful References</font>\n",
    "- <a href=\"http://xarray.pydata.org/en/stable/\"> xarray</a>\n",
    "- <a href=\"http://gallery.pangeo.io/repos/pangeo-data/pangeo-tutorial-gallery/xarray.html\"> XARRAY TUTORIAL</a>\n",
    "- <a href=\"https://openresearchsoftware.metajnl.com/articles/10.5334/jors.148/\"> xarray: N-D labeled arrays and datasets in Python</a>\n",
    "- <a href=\"https://nbviewer.jupyter.org/github/mccrayc/tutorials/blob/master/2_reanalysis/CFSR_Data_Tutorial.ipynb\">Importing and mapping reanalysis data with xarray and cartopy</a>\n",
    "- <a href=\"https://cbrownley.wordpress.com/tag/xarray/\">Visualizing Global Land Temperatures in Python with scrapy, xarray, and cartopy</a>\n",
    "- [Xarray Introduction and Tutorial](https://boisestate.hosted.panopto.com/Panopto/Pages/Embed.aspx?id=a38a2efc-1ac6-4c02-af0f-acfc015e9444)"
   ]
  }
 ],
 "metadata": {
  "anaconda-cloud": {},
  "kernelspec": {
   "display_name": "Python 3 (ipykernel)",
   "language": "python",
   "name": "python3"
  },
  "language_info": {
   "codemirror_mode": {
    "name": "ipython",
    "version": 3
   },
   "file_extension": ".py",
   "mimetype": "text/x-python",
   "name": "python",
   "nbconvert_exporter": "python",
   "pygments_lexer": "ipython3",
   "version": "3.12.7"
  }
 },
 "nbformat": 4,
 "nbformat_minor": 4
}
