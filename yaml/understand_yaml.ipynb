{
 "cells": [
  {
   "cell_type": "markdown",
   "metadata": {
    "slideshow": {
     "slide_type": "slide"
    }
   },
   "source": [
    "<center>\n",
    "<table>\n",
    "  <tr>\n",
    "    <td><img src=\"https://portal.nccs.nasa.gov/datashare/astg/training/python/logos/nasa-logo.svg\" width=\"100\"/> </td>\n",
    "     <td><img src=\"https://portal.nccs.nasa.gov/datashare/astg/training/python/logos/ASTG_logo.png?raw=true\" width=\"80\"/> </td>\n",
    "     <td> <img src=\"https://www.nccs.nasa.gov/sites/default/files/NCCS_Logo_0.png\" width=\"130\"/> </td>\n",
    "    </tr>\n",
    "</table>\n",
    "</center>\n",
    "\n",
    "        \n",
    "<center>\n",
    "<h1><font color= \"blue\" size=\"+3\">ASTG Python Courses</font></h1>\n",
    "</center>\n",
    "\n",
    "---\n",
    "\n",
    "<CENTER>\n",
    "<H1>\n",
    "    <font color=\"red\">Manipulating YAML Files with Python</font>\n",
    "</H1>\n",
    "</CENTER>"
   ]
  },
  {
   "cell_type": "markdown",
   "metadata": {
    "slideshow": {
     "slide_type": "slide"
    }
   },
   "source": [
    "## <font color=\"red\">Objectives</font>\n",
    "\n",
    "In this presentation, we want to:\n",
    "\n",
    "- Understand the YAML data format\n",
    "- Learn how to create a YAML file\n",
    "- Lear how to read a YAML file and manipulate its content. "
   ]
  },
  {
   "cell_type": "markdown",
   "metadata": {},
   "source": [
    "## <font color=\"red\">Useful Links</font>\n",
    "\n",
    "- [Official YAML Website](https://yaml.org/) \n",
    "- [PyYAML Documentation](https://pyyaml.org/wiki/PyYAMLDocumentation)\n",
    "- [Python YAML: A Comprehensive Guide for Beginners](https://www.pythoncentral.io/python-yaml-a-comprehensive-guide-for-beginners/)\n",
    "- [YAML Tutorial : A Complete Language Guide with Examples](https://spacelift.io/blog/yaml) by Omkar Birade.\n",
    "- [YAML: The Missing Battery in Python](https://realpython.com/python-yaml/) by Real Python.\n"
   ]
  },
  {
   "cell_type": "markdown",
   "metadata": {},
   "source": [
    "## <font color=\"red\">Modules needed</font>\n",
    "\n",
    "We will rely on:\n",
    "\n",
    "- `yaml`: Python interface to YAML"
   ]
  },
  {
   "cell_type": "code",
   "execution_count": null,
   "metadata": {},
   "outputs": [],
   "source": [
    "import pprint"
   ]
  },
  {
   "cell_type": "code",
   "execution_count": null,
   "metadata": {},
   "outputs": [],
   "source": [
    "import yaml"
   ]
  },
  {
   "cell_type": "code",
   "execution_count": null,
   "metadata": {},
   "outputs": [],
   "source": [
    "import pandas as pd"
   ]
  },
  {
   "cell_type": "code",
   "execution_count": null,
   "metadata": {},
   "outputs": [],
   "source": [
    "import seaborn as sns"
   ]
  },
  {
   "cell_type": "markdown",
   "metadata": {},
   "source": [
    "## <font color=\"red\">What is YAML?</font>\n",
    "\n",
    "- YAML Ain't Markup Language (initially Yet Another Markup Language), is a data serialization language (used to exchange data across different systems using a standardized syntax).\n",
    "- A simple human-readable format that is often used for configuration files and in applications where data is being stored or transmitted.\n",
    "- YAML works with all modern programming languages and is widely used in data persistence, internet messaging, cross-language data sharing, etc. \n",
    "- The YAML data format is a superset of one more widely used Markup language called JSON."
   ]
  },
  {
   "cell_type": "markdown",
   "metadata": {},
   "source": [
    "#### A few areas where YAML is used\n",
    "\n",
    "YAML is often used for configuration files that are parsed and read by a programming language or framework. Its format makes it easy for developers and system administrators to understand and modify configuration settings.\n",
    "\n",
    "- _Configuration Management_: One of the primary uses of YAML is in configuration files. YAML’s human-friendly syntax makes it an excellent choice for storing configuration data. It’s readable, writable, and easy to update, making it a go-to choice for developers worldwide.\n",
    "- _Data serialization_: YAML  can represent complex data structures in a format that’s easy to understand and manipulate.\n",
    "- _CI/CD_ Many CI/CD products rely on yaml to describe their pipelines (GitHub Actions, GitLab CI/CD, Azure DevOps, CircleCI)."
   ]
  },
  {
   "cell_type": "markdown",
   "metadata": {},
   "source": [
    "## <font color=\"red\">Structure of a YAML File</font>\n",
    "\n",
    "- Any YAML files ends with the suffix `.yaml` or `.yml`.\n",
    "- A construct of a YAML document consists of key-value pairs.\n",
    "- A YAML format primarily uses three node types:\n",
    "   - __Maps/Dictionaries__ (mapping): An unordered set of key/value node pairs, with the restriction that each of the keys is unique. \n",
    "   - __Arrays/Lists__ (sequences): An ordered series of zero or more nodes. In particular, a sequence may contain the same node more than once. It could even contain itself.\n",
    "   - __Literals__ (Strings, numbers, boolean, etc.): An opaque datum that can be presented as a series of zero or more Unicode characters."
   ]
  },
  {
   "cell_type": "markdown",
   "metadata": {},
   "source": [
    "#### Syntax\n",
    "- __Beginning of file__: The file starts with three dashes: `---`\n",
    "  - These dashes indicate the start of a new YAML document.\n",
    "  - A file with multiple documents would look like this, where each new document is indicated by `---`.\n",
    "  - Triple dots, `...` (optional), are used to end a YAML document without starting a new one.\n",
    "- __Comments__: A comments start with `#`.\n",
    "- __Indentation__: A YAML file relies on whitespace and indentation to indicate nesting. The number of spaces used for indentation doesn’t matter as long as they are consistent.\n",
    "- __Mapping__: Mappings are used to associate key/value pairs that are unordered. Maps can be nested by increasing the indentation, or new maps can be created at the same level by resolving the previous one.\n",
    "- __Sequences__: Sequences are represented by using the hyphen (`-`) and space. They are ordered and can be embedded inside a map using indentation.\n",
    "- __Literals__:\n",
    "  - String literals in YAML do not need to be quoted. It is only important to quote them when they contain a value that can be mistaken for a special character.\n",
    "- __Multiple lines__: Values can span multiple lines using `|` or `>`.\n",
    "  - Spanning multiple lines using a “Literal Block Scalar” `|` will include the newlines and any trailing spaces.\n",
    "  - Using a “Folded Block Scalar” `>` will fold newlines to spaces; it is used to make what would otherwise be a very long line easier to read and edit.\n",
    "    \n",
    "  In both cases, the indentation will be ignored."
   ]
  },
  {
   "cell_type": "markdown",
   "metadata": {},
   "source": [
    "#### Supported literals\n",
    "\n",
    "| Data Type\t| YAML |\n",
    "| --- |  :--- |\n",
    "| Null\t| null, ~ | \n",
    "| Boolean\t| true, false | \n",
    "| Integer\t| 10, 0b10, 0x10, 0o10 | \n",
    "| Floating-Point\t| 3.14, 12.5e-9, .inf, .nan | \n",
    "| String\t| Lorem ipsum | \n",
    "| Date and Time\t| 01:35, 2024-10-23,  2024-10-23 01:15:32 | "
   ]
  },
  {
   "cell_type": "markdown",
   "metadata": {},
   "source": [
    "### Example\n",
    "\n",
    "Consider the following YAML file content:"
   ]
  },
  {
   "cell_type": "markdown",
   "metadata": {},
   "source": [
    "```\n",
    "---\n",
    "# key: value [mapping]\n",
    "Description: >\n",
    "      We provide information on\n",
    "      the planets of the solar system.\n",
    "\n",
    "Information: |\n",
    "    The given data is the distance to the sun,\n",
    "    the orbital and physical characteristics, and\n",
    "    the number of moons of each planet.\n",
    "\n",
    "sun:\n",
    "   mean_radius: \"696340 km\"     # string [literal]\n",
    "   # key: value is an array [sequence]\n",
    "   planets: \n",
    "     - Mercury:\n",
    "         distance: 0.580e8      # floating point [literal]\n",
    "         orbital_characteristics:\n",
    "            orbit_duration: 87.96 Earth years   # string [literal]\n",
    "            orbital_speed: 47.36 km/s           # string [literal]\n",
    "         physical_characteristics:\n",
    "            mean_radius: \"2439.7 km\"           # string [literal]\n",
    "            surface_area: 7.48e7               # string [literal]\n",
    "         num_moons: 0                          # integer number [literal]\n",
    "    \n",
    "     - Earth:\n",
    "         distance: 1.497e8\n",
    "         orbital_characteristics:\n",
    "            orbit_duration: \"1.0 Earth years\"\n",
    "            orbital_speed: \"29.7827 km/s\"\n",
    "         physical_characteristics:\n",
    "            mean_radius: \"6371.0  km\"\n",
    "            surface_area: 510072.0e3\n",
    "         num_moons: 1\n",
    "```"
   ]
  },
  {
   "cell_type": "markdown",
   "metadata": {},
   "source": [
    "## <font color=\"red\">PyYAML: YAML Parser for Python</font>\n",
    "\n",
    "- PyYAML is a YAML parser and emitter for Python, which allows you to easily load and dump YAML data.\n",
    "- It is used by importing the `yaml` module.\n",
    "- It has the main methods:\n",
    "   - `yaml.load()`: To parse the YAML file and load its contents into a Python data structure.\n",
    "   - `yaml.dump()`: To convert a Python object into a YAML document."
   ]
  },
  {
   "cell_type": "markdown",
   "metadata": {},
   "source": [
    "## <font color=\"red\">Reading a YAML File in Python</font>"
   ]
  },
  {
   "cell_type": "code",
   "execution_count": null,
   "metadata": {},
   "outputs": [],
   "source": [
    "file_name = \"solar_planet_data.yaml\""
   ]
  },
  {
   "cell_type": "code",
   "execution_count": null,
   "metadata": {},
   "outputs": [],
   "source": [
    "import urllib.request\n",
    "url = \"https://raw.githubusercontent.com/astg606/astg_pymaterials/main/yaml/solar_planet.yaml\"\n",
    "urllib.request.urlretrieve(url, file_name)"
   ]
  },
  {
   "cell_type": "markdown",
   "metadata": {},
   "source": [
    "#### Loading YAML content\n",
    "\n",
    "We can read content of a YAML file and convert it to Python data structures."
   ]
  },
  {
   "cell_type": "markdown",
   "metadata": {},
   "source": [
    "- Use the `yaml.load()` function when data is coming from trusted sources.\n",
    "- The `Loader=yaml.FullLoader` argument ensures that the full YAML syntax is supported."
   ]
  },
  {
   "cell_type": "code",
   "execution_count": null,
   "metadata": {},
   "outputs": [],
   "source": [
    "with open(file_name, 'r') as fid:\n",
    "    solar_system = yaml.load(fid, Loader=yaml.FullLoader)"
   ]
  },
  {
   "cell_type": "markdown",
   "metadata": {},
   "source": [
    "- An alternative approach to parse the YAML file is by using `yaml.safe_load()` function to load data by untrusted sources."
   ]
  },
  {
   "cell_type": "code",
   "execution_count": null,
   "metadata": {},
   "outputs": [],
   "source": [
    "try:\n",
    "    with open(file_name, 'r') as fid:\n",
    "       solar_system = yaml.safe_load(fid)\n",
    "except yaml.YAMLError as exc:\n",
    "    print(f\"Error reading YAML file: {exc}\")"
   ]
  },
  {
   "cell_type": "code",
   "execution_count": null,
   "metadata": {},
   "outputs": [],
   "source": [
    "type(solar_system)"
   ]
  },
  {
   "cell_type": "markdown",
   "metadata": {},
   "source": [
    "Parsing a YAML file in Python reads the contents of the YAML file into Python as a dictionary."
   ]
  },
  {
   "cell_type": "markdown",
   "metadata": {},
   "source": [
    "#### Inspecting the dictionary"
   ]
  },
  {
   "cell_type": "code",
   "execution_count": null,
   "metadata": {},
   "outputs": [],
   "source": [
    "solar_system.keys()"
   ]
  },
  {
   "cell_type": "code",
   "execution_count": null,
   "metadata": {},
   "outputs": [],
   "source": [
    "solar_system['Description']"
   ]
  },
  {
   "cell_type": "code",
   "execution_count": null,
   "metadata": {},
   "outputs": [],
   "source": [
    "solar_system['Information']"
   ]
  },
  {
   "cell_type": "code",
   "execution_count": null,
   "metadata": {},
   "outputs": [],
   "source": [
    "solar_system['sun']"
   ]
  },
  {
   "cell_type": "code",
   "execution_count": null,
   "metadata": {},
   "outputs": [],
   "source": [
    "solar_system['sun'].keys()"
   ]
  },
  {
   "cell_type": "code",
   "execution_count": null,
   "metadata": {},
   "outputs": [],
   "source": [
    "type(solar_system['sun']['planets'])"
   ]
  },
  {
   "cell_type": "code",
   "execution_count": null,
   "metadata": {},
   "outputs": [],
   "source": [
    "len(solar_system['sun']['planets'])"
   ]
  },
  {
   "cell_type": "code",
   "execution_count": null,
   "metadata": {},
   "outputs": [],
   "source": [
    "for planet in solar_system['sun']['planets']:\n",
    "    print(planet.keys())"
   ]
  },
  {
   "cell_type": "code",
   "execution_count": null,
   "metadata": {},
   "outputs": [],
   "source": [
    "for planet in solar_system['sun']['planets']:\n",
    "    for x in planet:\n",
    "        print(f\"{x} --> {planet[x]}\")\n",
    "        print()"
   ]
  },
  {
   "cell_type": "markdown",
   "metadata": {},
   "source": [
    "#### Get the list of planets"
   ]
  },
  {
   "cell_type": "code",
   "execution_count": null,
   "metadata": {},
   "outputs": [],
   "source": [
    "list_planets = list()\n",
    "for planet in solar_system['sun']['planets']:\n",
    "    for x in planet:\n",
    "        list_planets.append(x)"
   ]
  },
  {
   "cell_type": "code",
   "execution_count": null,
   "metadata": {},
   "outputs": [],
   "source": [
    "list_planets"
   ]
  },
  {
   "cell_type": "markdown",
   "metadata": {},
   "source": [
    "#### Create a Pandas DataFrame"
   ]
  },
  {
   "cell_type": "code",
   "execution_count": null,
   "metadata": {},
   "outputs": [],
   "source": [
    "columns = [\n",
    "    'distance', 'num_moons', 'orbit_duration', 'orbital_speed', \n",
    "    'mean_radius', 'surface_area'\n",
    "]\n",
    "df = pd.DataFrame(index=list_planets, columns=columns)\n",
    "df"
   ]
  },
  {
   "cell_type": "code",
   "execution_count": null,
   "metadata": {},
   "outputs": [],
   "source": [
    "for planet in solar_system['sun']['planets']:\n",
    "    for x in planet:\n",
    "        data = [planet[x]['distance'], \n",
    "                planet[x]['num_moons'],\n",
    "                planet[x]['orbital_characteristics']['orbit_duration'],\n",
    "                planet[x]['orbital_characteristics']['orbital_speed'],\n",
    "                planet[x]['physical_characteristics']['mean_radius'],\n",
    "                planet[x]['physical_characteristics']['surface_area']\n",
    "               ]\n",
    "        df.loc[x] = data"
   ]
  },
  {
   "cell_type": "code",
   "execution_count": null,
   "metadata": {},
   "outputs": [],
   "source": [
    "df"
   ]
  },
  {
   "cell_type": "code",
   "execution_count": null,
   "metadata": {},
   "outputs": [],
   "source": [
    "df.info()"
   ]
  },
  {
   "cell_type": "markdown",
   "metadata": {},
   "source": [
    "#### Changing the data type"
   ]
  },
  {
   "cell_type": "code",
   "execution_count": null,
   "metadata": {},
   "outputs": [],
   "source": [
    "df['distance'] = df['distance'].apply(float)\n",
    "df['num_moons'] = df['num_moons'].apply(int)\n",
    "df['surface_area'] = df['surface_area'].apply(float)"
   ]
  },
  {
   "cell_type": "code",
   "execution_count": null,
   "metadata": {},
   "outputs": [],
   "source": [
    "df.info()"
   ]
  },
  {
   "cell_type": "code",
   "execution_count": null,
   "metadata": {},
   "outputs": [],
   "source": []
  },
  {
   "cell_type": "code",
   "execution_count": null,
   "metadata": {},
   "outputs": [],
   "source": [
    "def remove_words(x):\n",
    "    if isinstance(x, str):\n",
    "        if 'km' in x or 'Earth' in x:\n",
    "            return float(x.split()[0])\n",
    "    else:\n",
    "        return x"
   ]
  },
  {
   "cell_type": "code",
   "execution_count": null,
   "metadata": {},
   "outputs": [],
   "source": [
    "df = df.map(remove_words)"
   ]
  },
  {
   "cell_type": "code",
   "execution_count": null,
   "metadata": {},
   "outputs": [],
   "source": [
    "df"
   ]
  },
  {
   "cell_type": "code",
   "execution_count": null,
   "metadata": {},
   "outputs": [],
   "source": [
    "df.info()"
   ]
  },
  {
   "cell_type": "markdown",
   "metadata": {},
   "source": [
    "#### Simple plot"
   ]
  },
  {
   "cell_type": "code",
   "execution_count": null,
   "metadata": {},
   "outputs": [],
   "source": [
    "g = sns.relplot(x=df.index, y=\"distance\", \n",
    "                size=\"mean_radius\", hue=\"num_moons\",\n",
    "                sizes=(40, 400), \n",
    "                alpha=.75, \n",
    "                palette=\"muted\",\n",
    "                height=6, data=df\n",
    "               )\n",
    "g.set_xticklabels(rotation=90)"
   ]
  },
  {
   "cell_type": "markdown",
   "metadata": {},
   "source": [
    "## <font color=\"red\">Writing a YAML document</font>\n",
    "\n",
    "We use the `dump` method to convert Python objects into a YAML document:\n",
    "\n",
    "```python\n",
    "with open(\"new_file.yaml\", 'w') as fid:\n",
    "    yaml.dump(data, fid)\n",
    "```"
   ]
  },
  {
   "cell_type": "markdown",
   "metadata": {},
   "source": [
    "#### Create a YAML document from a Pandas DataFrame\n",
    "\n",
    "- We need to convert the Pandas DataFrame to a dictionary and then to YAML document"
   ]
  },
  {
   "cell_type": "code",
   "execution_count": null,
   "metadata": {},
   "outputs": [],
   "source": [
    "yaml_doc = yaml.dump(df.to_dict(orient='records'),default_flow_style=None)"
   ]
  },
  {
   "cell_type": "code",
   "execution_count": null,
   "metadata": {},
   "outputs": [],
   "source": [
    "pprint.pprint(yaml_doc)"
   ]
  },
  {
   "cell_type": "markdown",
   "metadata": {},
   "source": [
    "#### Dump a Pandas DataFrame into a YAML file"
   ]
  },
  {
   "cell_type": "code",
   "execution_count": null,
   "metadata": {},
   "outputs": [],
   "source": [
    "with open(\"new_file.yaml\", 'w') as fid:\n",
    "    yaml.dump({'results': df.to_dict(orient='records')}, fid, default_flow_style=False)"
   ]
  },
  {
   "cell_type": "markdown",
   "metadata": {},
   "source": [
    "You can read the file to create a new Pandas DataFrame:"
   ]
  },
  {
   "cell_type": "code",
   "execution_count": null,
   "metadata": {},
   "outputs": [],
   "source": [
    "with open('new_file.yaml', mode=\"rt\") as fid: #, encoding=\"utf-8\") as fid:\n",
    "    df_merged = pd.DataFrame(yaml.full_load(fid)['results'])"
   ]
  },
  {
   "cell_type": "code",
   "execution_count": null,
   "metadata": {},
   "outputs": [],
   "source": [
    "df_merged"
   ]
  },
  {
   "cell_type": "code",
   "execution_count": null,
   "metadata": {},
   "outputs": [],
   "source": [
    "df_merged.index = list_planets\n",
    "df_merged"
   ]
  },
  {
   "cell_type": "markdown",
   "metadata": {},
   "source": [
    "## <font color=\"red\">Best practices</font>\n",
    "\n",
    "- __Use consistent indentation__: – Be consistent with the number of spaces (two or four is appropriate) you use throughout your file.\n",
    "- __Keep your YAML files short__: If you have many parameters, try to split your configuration settings into multiple files to facilitate the debugging process.\n",
    "- __Use descriptive key names__: Key names need to To make your configuration smooth and easy to understand by other people, the key names used throughout the file should be meaningful.\n",
    "- __Structure complex data__: Lists are denoted by a dash (`-`), while maps are key-value pairs.\n",
    "- __Use comments__: – Comments help to understand what a data is used for. \n",
    "- __Use quotes for strings__: This is especially useful if your string contains special characters or starts with a number.\n",
    "- __Avoid using the `yaml.load()` function without specifying the `Loader` argument__: This can lead to potential security vulnerabilities, as arbitrary code execution is possible if the YAML file contains malicious data.\n",
    "- __Validate the file before parsing it__: Use a YAML linter or validator to check the syntax and structure of the file. This can help catch errors or inconsistencies before they cause issues in your application.\n",
    "- __Handle errors gracefully when parsing YAML files__: Use `try-except` blocks to catch any exceptions that may occur during the parsing process and handle them appropriately.\n"
   ]
  },
  {
   "cell_type": "code",
   "execution_count": null,
   "metadata": {},
   "outputs": [],
   "source": []
  }
 ],
 "metadata": {
  "anaconda-cloud": {},
  "kernelspec": {
   "display_name": "Python 3 (ipykernel)",
   "language": "python",
   "name": "python3"
  },
  "language_info": {
   "codemirror_mode": {
    "name": "ipython",
    "version": 3
   },
   "file_extension": ".py",
   "mimetype": "text/x-python",
   "name": "python",
   "nbconvert_exporter": "python",
   "pygments_lexer": "ipython3",
   "version": "3.12.7"
  }
 },
 "nbformat": 4,
 "nbformat_minor": 4
}
